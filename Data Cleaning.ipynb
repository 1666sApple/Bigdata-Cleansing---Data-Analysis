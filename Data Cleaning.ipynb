{
 "cells": [
  {
   "cell_type": "code",
   "execution_count": 1,
   "metadata": {
    "application/vnd.databricks.v1+cell": {
     "cellMetadata": {
      "byteLimit": 2048000,
      "rowLimit": 10000
     },
     "inputWidgets": {},
     "nuid": "057afdaa-04e4-47be-949e-8d492b25a81d",
     "showTitle": false,
     "title": ""
    }
   },
   "outputs": [],
   "source": [
    "import pyspark\n",
    "from pyspark.sql import SparkSession\n",
    "from pyspark.sql.functions import split, explode, col, regexp_replace\n",
    "from pyspark.sql.types import StringType"
   ]
  },
  {
   "cell_type": "code",
   "execution_count": 2,
   "metadata": {
    "application/vnd.databricks.v1+cell": {
     "cellMetadata": {
      "byteLimit": 2048000,
      "rowLimit": 10000
     },
     "inputWidgets": {},
     "nuid": "ca7f8895-9bca-4cfa-9a2c-b33053293d7e",
     "showTitle": false,
     "title": ""
    }
   },
   "outputs": [
    {
     "name": "stderr",
     "output_type": "stream",
     "text": [
      "Setting default log level to \"WARN\".\n",
      "To adjust logging level use sc.setLogLevel(newLevel). For SparkR, use setLogLevel(newLevel).\n",
      "24/03/07 17:25:38 WARN NativeCodeLoader: Unable to load native-hadoop library for your platform... using builtin-java classes where applicable\n"
     ]
    }
   ],
   "source": [
    "# Create a SparkSession\n",
    "spark = SparkSession.builder.appName(\"CleanStackedHeader\").getOrCreate()"
   ]
  },
  {
   "cell_type": "code",
   "execution_count": 3,
   "metadata": {
    "application/vnd.databricks.v1+cell": {
     "cellMetadata": {
      "byteLimit": 2048000,
      "rowLimit": 10000
     },
     "inputWidgets": {},
     "nuid": "b47eff9c-bcdb-48e6-9c84-894d61366702",
     "showTitle": false,
     "title": ""
    }
   },
   "outputs": [],
   "source": [
    "# Read the data as a string type\n",
    "df = spark.read.text(\"clinicaltrial_2023.csv\")  "
   ]
  },
  {
   "cell_type": "code",
   "execution_count": 4,
   "metadata": {
    "application/vnd.databricks.v1+cell": {
     "cellMetadata": {
      "byteLimit": 2048000,
      "rowLimit": 10000
     },
     "inputWidgets": {},
     "nuid": "e26a41ee-8211-4540-bc39-5b48bc5a732b",
     "showTitle": false,
     "title": ""
    }
   },
   "outputs": [
    {
     "name": "stderr",
     "output_type": "stream",
     "text": [
      "                                                                                \r"
     ]
    },
    {
     "data": {
      "text/plain": [
       "[Row(value='\"Id\\tStudy Title\\tAcronym\\tStatus\\tConditions\\tInterventions\\tSponsor\\tCollaborators\\tEnrollment\\tFunder Type\\tType\\tStudy Design\\tStart\\tCompletion\",,,,,,,,,,,,,,,,,,,,,,,,,,,,,,,,,,,,,,,,,,,,,,,,,,,,,,,,,,,,,,,,,,,,,,,,,,,,,,,,,,,,,,,,,,,,,,,,,,,,,,,,,,,,,,,,,,,,,,,,,,,,,,,,,,,,,,,,,,,,,,,,,,,,,,,,,,,,,,,,,,,,,,,,,,,,,,,,,,,,,,,,,,,,,,,,,,,,,,,,,,,,,,,,,,'),\n",
       " Row(value='\"NCT03630471\\tEffectiveness of a Problem-solving Intervention for Common Adolescent Mental Health Problems in India\\tPRIDE\\tCOMPLETED\\tMental Health Issue (E.G.\", Depression, Psychosis, Personality Disorder,\" Substance Abuse)\\tBEHAVIORAL: PRIDE \\'Step 1\\' problem-solving intervention|BEHAVIORAL: Enhanced usual care\\tSangath\\tHarvard Medical School (HMS and HSDM)|London School of Hygiene and Tropical Medicine\\t250.0\\tOTHER\\tINTERVENTIONAL\\tAllocation: RANDOMIZED|Intervention Model: PARALLEL|Masking: DOUBLE (INVESTIGATOR\",\" OUTCOMES_ASSESSOR)|Primary Purpose: TREATMENT\\t2018-08-20\\t2019-02-28\",,,,,,,,,,,,,,,,,,,,,,,,,,,,,,,,,,,,,,,,,,,,,,,,,,,,,,,,,,,,,,,,,,,,,,,,,,,,,,,,,,,,,,,,,,,,,,,,,,,,,,,,,,,,,,,,,,,,,,,,,,,,,,,,,,,,,,,,,,,,,,,,,,,,,,,,,,,,,,,,,,,,,,,,,,,,,,,,,,,,,,,,,,,,,,,,,,,,,,,,,,,,,'),\n",
       " Row(value='\"NCT05992571\\tOral Ketone Monoester Supplementation and Resting-state Brain Connectivity\\t\\tRECRUITING\\tCerebrovascular Function|Cognition\\tOTHER: Placebo|DIETARY_SUPPLEMENT: β-OHB\\tMcMaster University\\tAlzheimer\\'s Society of Brant\", Haldimand Norfolk,\" Hamilton Halton\\t30.0\\tOTHER\\tINTERVENTIONAL\\tAllocation: RANDOMIZED|Intervention Model: CROSSOVER|Masking: TRIPLE (PARTICIPANT\", INVESTIGATOR,\" OUTCOMES_ASSESSOR)|Primary Purpose: BASIC_SCIENCE\\t2023-10-25\\t2024-08\",,,,,,,,,,,,,,,,,,,,,,,,,,,,,,,,,,,,,,,,,,,,,,,,,,,,,,,,,,,,,,,,,,,,,,,,,,,,,,,,,,,,,,,,,,,,,,,,,,,,,,,,,,,,,,,,,,,,,,,,,,,,,,,,,,,,,,,,,,,,,,,,,,,,,,,,,,,,,,,,,,,,,,,,,,,,,,,,,,,,,,,,,,,,,,,,,,,,,,,,,,,,,,'),\n",
       " Row(value='\"NCT00237471\\tImpact of Tight Glycaemic Control in Acute Myocardial Infarction\\t\\tTERMINATED\\tMyocardial Infarct|Hyperglycemia\\tDRUG: Insulin (tight blood glucose control)\\tMelbourne Health\\tNational Health and Medical Research Council\",\" Australia|Bristol-Myers Squibb\\t40.0\\tOTHER\\tINTERVENTIONAL\\tAllocation: RANDOMIZED|Intervention Model: PARALLEL|Masking: NONE|Primary Purpose: TREATMENT\\t2005-10\\t2006-05\",,,,,,,,,,,,,,,,,,,,,,,,,,,,,,,,,,,,,,,,,,,,,,,,,,,,,,,,,,,,,,,,,,,,,,,,,,,,,,,,,,,,,,,,,,,,,,,,,,,,,,,,,,,,,,,,,,,,,,,,,,,,,,,,,,,,,,,,,,,,,,,,,,,,,,,,,,,,,,,,,,,,,,,,,,,,,,,,,,,,,,,,,,,,,,,,,,,,,,,,,,,,,,,,,'),\n",
       " Row(value='\"NCT03820271\\tNew Prognostic Predictive Models of Mortality of Decompensated Cirrhotic Patients Waiting for Liver Transplantation\\tSUPERMELD\\tRECRUITING\\tDecompensated Cirrhosis|Liver Transplantation\\tOTHER: SuperMELD\\tAssistance Publique - Hôpitaux de Paris\\t\\t500.0\\tOTHER\\tINTERVENTIONAL\\tAllocation: NA|Intervention Model: SINGLE_GROUP|Masking: NONE|Primary Purpose: OTHER\\t2020-10-01\\t2023-10-01\",,,,,,,,,,,,,,,,,,,,,,,,,,,,,,,,,,,,,,,,,,,,,,,,,,,,,,,,,,,,,,,,,,,,,,,,,,,,,,,,,,,,,,,,,,,,,,,,,,,,,,,,,,,,,,,,,,,,,,,,,,,,,,,,,,,,,,,,,,,,,,,,,,,,,,,,,,,,,,,,,,,,,,,,,,,,,,,,,,,,,,,,,,,,,,,,,,,,,,,,,,,,,,,,,,'),\n",
       " Row(value='\"NCT06229171\\tInTake Care: Development and Validation of an Innovative\",\" Personalized Digital Health Solution for Medication Adherence Support in Cardiovascular Prevention\\tInTakeCare\\tNOT_YET_RECRUITING\\tHypertension|Treatment Adherence and Compliance|Digital Health\\tOTHER: adherence support system based on a vocal assistant\\tIstituto Auxologico Italiano\\tIstituti Clinici Scientifici Maugeri SpA|Politecnico di Milano\\t206.0\\tOTHER\\tINTERVENTIONAL\\tAllocation: RANDOMIZED|Intervention Model: PARALLEL|Masking: NONE|Primary Purpose: OTHER\\t2024-10-01\\t2026-04-01\",,,,,,,,,,,,,,,,,,,,,,,,,,,,,,,,,,,,,,,,,,,,,,,,,,,,,,,,,,,,,,,,,,,,,,,,,,,,,,,,,,,,,,,,,,,,,,,,,,,,,,,,,,,,,,,,,,,,,,,,,,,,,,,,,,,,,,,,,,,,,,,,,,,,,,,,,,,,,,,,,,,,,,,,,,,,,,,,,,,,,,,,,,,,,,,,,,,,,,,,,,,,,,,,,'),\n",
       " Row(value='\"NCT02945371\\tTailored Inhibitory Control Training to Reverse EA-linked Deficits in Mid-life\\tREV\\tCOMPLETED\\tSmoking|Alcohol Drinking|Prescription Drug Abuse|Substance-Related Disorders|Oral Intake Reduced\\tBEHAVIORAL: Person-centered inhibitory control training|BEHAVIORAL: Active behavioral response training\\tUniversity of Oregon\\t\\t103.0\\tOTHER\\tINTERVENTIONAL\\tAllocation: RANDOMIZED|Intervention Model: PARALLEL|Masking: SINGLE (PARTICIPANT)|Primary Purpose: PREVENTION\\t2014-09\\t2016-05\",,,,,,,,,,,,,,,,,,,,,,,,,,,,,,,,,,,,,,,,,,,,,,,,,,,,,,,,,,,,,,,,,,,,,,,,,,,,,,,,,,,,,,,,,,,,,,,,,,,,,,,,,,,,,,,,,,,,,,,,,,,,,,,,,,,,,,,,,,,,,,,,,,,,,,,,,,,,,,,,,,,,,,,,,,,,,,,,,,,,,,,,,,,,,,,,,,,,,,,,,,,,,,,,,,'),\n",
       " Row(value='\"NCT01055171\\tNeuromodulation of Trauma Memories in PTSD & Alcohol Dependence\\t\\tCOMPLETED\\tAlcohol Dependence|PTSD\\tDRUG: Propranolol|DRUG: Placebo\\tMedical University of South Carolina\\tNational Institute on Alcohol Abuse and Alcoholism (NIAAA)\\t44.0\\tOTHER\\tINTERVENTIONAL\\tAllocation: RANDOMIZED|Intervention Model: PARALLEL|Masking: QUADRUPLE (PARTICIPANT\", CARE_PROVIDER, INVESTIGATOR,\" OUTCOMES_ASSESSOR)|Primary Purpose: TREATMENT\\t2010-01\\t2012-08\",,,,,,,,,,,,,,,,,,,,,,,,,,,,,,,,,,,,,,,,,,,,,,,,,,,,,,,,,,,,,,,,,,,,,,,,,,,,,,,,,,,,,,,,,,,,,,,,,,,,,,,,,,,,,,,,,,,,,,,,,,,,,,,,,,,,,,,,,,,,,,,,,,,,,,,,,,,,,,,,,,,,,,,,,,,,,,,,,,,,,,,,,,,,,,,,,,,,,,,,,,,,,,,'),\n",
       " Row(value='\"NCT01125371\\tComputerized Brief Alcohol Intervention (BI) for Binge Drinking HIV At-Risk and Infected Women\\t\\tCOMPLETED\\tAlcohol; Harmful Use|Binge Drinking|Risk Behavior|HIV Infection\\tBEHAVIORAL: Computerized brief alcohol intervention + IVR booster calls|BEHAVIORAL: Computerized brief alcohol intervention|BEHAVIORAL: Attention Control\\tJohns Hopkins University\\tNational Institute on Alcohol Abuse and Alcoholism (NIAAA)\\t439.0\\tOTHER\\tINTERVENTIONAL\\tAllocation: RANDOMIZED|Intervention Model: PARALLEL|Masking: DOUBLE (INVESTIGATOR\",\" OUTCOMES_ASSESSOR)|Primary Purpose: TREATMENT\\t2011-10\\t2016-06-07\",,,,,,,,,,,,,,,,,,,,,,,,,,,,,,,,,,,,,,,,,,,,,,,,,,,,,,,,,,,,,,,,,,,,,,,,,,,,,,,,,,,,,,,,,,,,,,,,,,,,,,,,,,,,,,,,,,,,,,,,,,,,,,,,,,,,,,,,,,,,,,,,,,,,,,,,,,,,,,,,,,,,,,,,,,,,,,,,,,,,,,,,,,,,,,,,,,,,,,,,,,,,,,,,,'),\n",
       " Row(value='\"NCT02554071\\tManitoba Pharmacist Initiated Smoking Cessation Pilot Project\\t\\tCOMPLETED\\tSmoking Cessation\\tOTHER: Pharmacist - Smoking Cessation Support\\tUniversity of Manitoba\\tGovenment of Manitoba|Canadian Foundation for Pharmacy|Neighbourhood Pharmacy Association of Canada\\t119.0\\tOTHER\\tINTERVENTIONAL\\tAllocation: NA|Intervention Model: SINGLE_GROUP|Masking: NONE|Primary Purpose: SUPPORTIVE_CARE\\t2014-01\\t2014-11\",,,,,,,,,,,,,,,,,,,,,,,,,,,,,,,,,,,,,,,,,,,,,,,,,,,,,,,,,,,,,,,,,,,,,,,,,,,,,,,,,,,,,,,,,,,,,,,,,,,,,,,,,,,,,,,,,,,,,,,,,,,,,,,,,,,,,,,,,,,,,,,,,,,,,,,,,,,,,,,,,,,,,,,,,,,,,,,,,,,,,,,,,,,,,,,,,,,,,,,,,,,,,,,,,,')]"
      ]
     },
     "metadata": {},
     "output_type": "display_data"
    }
   ],
   "source": [
    "display(df.head(10))"
   ]
  },
  {
   "cell_type": "code",
   "execution_count": 5,
   "metadata": {
    "application/vnd.databricks.v1+cell": {
     "cellMetadata": {
      "byteLimit": 2048000,
      "rowLimit": 10000
     },
     "inputWidgets": {},
     "nuid": "d3f6e21f-a41d-4e28-b950-f65171086140",
     "showTitle": false,
     "title": ""
    }
   },
   "outputs": [],
   "source": [
    "from pyspark.sql import functions as F\n",
    "\n",
    "df = df.withColumn('value', F.regexp_replace(F.col('value'), ',+$', ''))"
   ]
  },
  {
   "cell_type": "code",
   "execution_count": 6,
   "metadata": {
    "application/vnd.databricks.v1+cell": {
     "cellMetadata": {
      "byteLimit": 2048000,
      "rowLimit": 10000
     },
     "inputWidgets": {},
     "nuid": "df5bb3d3-94d6-4d41-8e19-4b2b4048b5f4",
     "showTitle": false,
     "title": ""
    }
   },
   "outputs": [],
   "source": [
    "for col_name in df.columns:\n",
    "    df = df.withColumn(col_name, F.regexp_replace(F.col(col_name), ',+$', ''))"
   ]
  },
  {
   "cell_type": "code",
   "execution_count": 7,
   "metadata": {
    "application/vnd.databricks.v1+cell": {
     "cellMetadata": {
      "byteLimit": 2048000,
      "rowLimit": 10000
     },
     "inputWidgets": {},
     "nuid": "baafb87e-3e4b-4144-a85f-546e8f484286",
     "showTitle": false,
     "title": ""
    }
   },
   "outputs": [
    {
     "name": "stderr",
     "output_type": "stream",
     "text": [
      "                                                                                \r"
     ]
    },
    {
     "data": {
      "text/html": [
       "<div>\n",
       "<style scoped>\n",
       "    .dataframe tbody tr th:only-of-type {\n",
       "        vertical-align: middle;\n",
       "    }\n",
       "\n",
       "    .dataframe tbody tr th {\n",
       "        vertical-align: top;\n",
       "    }\n",
       "\n",
       "    .dataframe thead th {\n",
       "        text-align: right;\n",
       "    }\n",
       "</style>\n",
       "<table border=\"1\" class=\"dataframe\">\n",
       "  <thead>\n",
       "    <tr style=\"text-align: right;\">\n",
       "      <th></th>\n",
       "      <th>value</th>\n",
       "    </tr>\n",
       "  </thead>\n",
       "  <tbody>\n",
       "    <tr>\n",
       "      <th>0</th>\n",
       "      <td>\"Id\\tStudy Title\\tAcronym\\tStatus\\tConditions\\...</td>\n",
       "    </tr>\n",
       "    <tr>\n",
       "      <th>1</th>\n",
       "      <td>\"NCT03630471\\tEffectiveness of a Problem-solvi...</td>\n",
       "    </tr>\n",
       "    <tr>\n",
       "      <th>2</th>\n",
       "      <td>\"NCT05992571\\tOral Ketone Monoester Supplement...</td>\n",
       "    </tr>\n",
       "    <tr>\n",
       "      <th>3</th>\n",
       "      <td>\"NCT00237471\\tImpact of Tight Glycaemic Contro...</td>\n",
       "    </tr>\n",
       "    <tr>\n",
       "      <th>4</th>\n",
       "      <td>\"NCT03820271\\tNew Prognostic Predictive Models...</td>\n",
       "    </tr>\n",
       "    <tr>\n",
       "      <th>5</th>\n",
       "      <td>\"NCT06229171\\tInTake Care: Development and Val...</td>\n",
       "    </tr>\n",
       "    <tr>\n",
       "      <th>6</th>\n",
       "      <td>\"NCT02945371\\tTailored Inhibitory Control Trai...</td>\n",
       "    </tr>\n",
       "    <tr>\n",
       "      <th>7</th>\n",
       "      <td>\"NCT01055171\\tNeuromodulation of Trauma Memori...</td>\n",
       "    </tr>\n",
       "    <tr>\n",
       "      <th>8</th>\n",
       "      <td>\"NCT01125371\\tComputerized Brief Alcohol Inter...</td>\n",
       "    </tr>\n",
       "    <tr>\n",
       "      <th>9</th>\n",
       "      <td>\"NCT02554071\\tManitoba Pharmacist Initiated Sm...</td>\n",
       "    </tr>\n",
       "  </tbody>\n",
       "</table>\n",
       "</div>"
      ],
      "text/plain": [
       "                                               value\n",
       "0  \"Id\\tStudy Title\\tAcronym\\tStatus\\tConditions\\...\n",
       "1  \"NCT03630471\\tEffectiveness of a Problem-solvi...\n",
       "2  \"NCT05992571\\tOral Ketone Monoester Supplement...\n",
       "3  \"NCT00237471\\tImpact of Tight Glycaemic Contro...\n",
       "4  \"NCT03820271\\tNew Prognostic Predictive Models...\n",
       "5  \"NCT06229171\\tInTake Care: Development and Val...\n",
       "6  \"NCT02945371\\tTailored Inhibitory Control Trai...\n",
       "7  \"NCT01055171\\tNeuromodulation of Trauma Memori...\n",
       "8  \"NCT01125371\\tComputerized Brief Alcohol Inter...\n",
       "9  \"NCT02554071\\tManitoba Pharmacist Initiated Sm..."
      ]
     },
     "execution_count": 7,
     "metadata": {},
     "output_type": "execute_result"
    }
   ],
   "source": [
    "df.toPandas().head(10)"
   ]
  },
  {
   "cell_type": "code",
   "execution_count": 8,
   "metadata": {
    "application/vnd.databricks.v1+cell": {
     "cellMetadata": {
      "byteLimit": 2048000,
      "rowLimit": 10000
     },
     "inputWidgets": {},
     "nuid": "a9224c99-5acd-4161-965b-4d4486986b41",
     "showTitle": false,
     "title": ""
    }
   },
   "outputs": [],
   "source": [
    "df = df.select(F.split(df['value'], '\\t').alias('split_value'))\n",
    "\n",
    "df = df.select([df['split_value'][i].alias(f'col_{i}') for i in range(len(df.select('split_value').first()[0]))])\n",
    "\n",
    "df = df.drop('value')"
   ]
  },
  {
   "cell_type": "code",
   "execution_count": 9,
   "metadata": {
    "application/vnd.databricks.v1+cell": {
     "cellMetadata": {
      "byteLimit": 2048000,
      "rowLimit": 10000
     },
     "inputWidgets": {},
     "nuid": "92b96522-4ebe-455a-bf0b-c285f4c7da47",
     "showTitle": false,
     "title": ""
    }
   },
   "outputs": [
    {
     "name": "stderr",
     "output_type": "stream",
     "text": [
      "                                                                                \r"
     ]
    },
    {
     "data": {
      "text/html": [
       "<div>\n",
       "<style scoped>\n",
       "    .dataframe tbody tr th:only-of-type {\n",
       "        vertical-align: middle;\n",
       "    }\n",
       "\n",
       "    .dataframe tbody tr th {\n",
       "        vertical-align: top;\n",
       "    }\n",
       "\n",
       "    .dataframe thead th {\n",
       "        text-align: right;\n",
       "    }\n",
       "</style>\n",
       "<table border=\"1\" class=\"dataframe\">\n",
       "  <thead>\n",
       "    <tr style=\"text-align: right;\">\n",
       "      <th></th>\n",
       "      <th>col_0</th>\n",
       "      <th>col_1</th>\n",
       "      <th>col_2</th>\n",
       "      <th>col_3</th>\n",
       "      <th>col_4</th>\n",
       "      <th>col_5</th>\n",
       "      <th>col_6</th>\n",
       "      <th>col_7</th>\n",
       "      <th>col_8</th>\n",
       "      <th>col_9</th>\n",
       "      <th>col_10</th>\n",
       "      <th>col_11</th>\n",
       "      <th>col_12</th>\n",
       "      <th>col_13</th>\n",
       "    </tr>\n",
       "  </thead>\n",
       "  <tbody>\n",
       "    <tr>\n",
       "      <th>0</th>\n",
       "      <td>\"Id</td>\n",
       "      <td>Study Title</td>\n",
       "      <td>Acronym</td>\n",
       "      <td>Status</td>\n",
       "      <td>Conditions</td>\n",
       "      <td>Interventions</td>\n",
       "      <td>Sponsor</td>\n",
       "      <td>Collaborators</td>\n",
       "      <td>Enrollment</td>\n",
       "      <td>Funder Type</td>\n",
       "      <td>Type</td>\n",
       "      <td>Study Design</td>\n",
       "      <td>Start</td>\n",
       "      <td>Completion\"</td>\n",
       "    </tr>\n",
       "    <tr>\n",
       "      <th>1</th>\n",
       "      <td>\"NCT03630471</td>\n",
       "      <td>Effectiveness of a Problem-solving Interventio...</td>\n",
       "      <td>PRIDE</td>\n",
       "      <td>COMPLETED</td>\n",
       "      <td>Mental Health Issue (E.G.\", Depression, Psycho...</td>\n",
       "      <td>BEHAVIORAL: PRIDE 'Step 1' problem-solving int...</td>\n",
       "      <td>Sangath</td>\n",
       "      <td>Harvard Medical School (HMS and HSDM)|London S...</td>\n",
       "      <td>250.0</td>\n",
       "      <td>OTHER</td>\n",
       "      <td>INTERVENTIONAL</td>\n",
       "      <td>Allocation: RANDOMIZED|Intervention Model: PAR...</td>\n",
       "      <td>2018-08-20</td>\n",
       "      <td>2019-02-28\"</td>\n",
       "    </tr>\n",
       "    <tr>\n",
       "      <th>2</th>\n",
       "      <td>\"NCT05992571</td>\n",
       "      <td>Oral Ketone Monoester Supplementation and Rest...</td>\n",
       "      <td></td>\n",
       "      <td>RECRUITING</td>\n",
       "      <td>Cerebrovascular Function|Cognition</td>\n",
       "      <td>OTHER: Placebo|DIETARY_SUPPLEMENT: β-OHB</td>\n",
       "      <td>McMaster University</td>\n",
       "      <td>Alzheimer's Society of Brant\", Haldimand Norfo...</td>\n",
       "      <td>30.0</td>\n",
       "      <td>OTHER</td>\n",
       "      <td>INTERVENTIONAL</td>\n",
       "      <td>Allocation: RANDOMIZED|Intervention Model: CRO...</td>\n",
       "      <td>2023-10-25</td>\n",
       "      <td>2024-08\"</td>\n",
       "    </tr>\n",
       "    <tr>\n",
       "      <th>3</th>\n",
       "      <td>\"NCT00237471</td>\n",
       "      <td>Impact of Tight Glycaemic Control in Acute Myo...</td>\n",
       "      <td></td>\n",
       "      <td>TERMINATED</td>\n",
       "      <td>Myocardial Infarct|Hyperglycemia</td>\n",
       "      <td>DRUG: Insulin (tight blood glucose control)</td>\n",
       "      <td>Melbourne Health</td>\n",
       "      <td>National Health and Medical Research Council\",...</td>\n",
       "      <td>40.0</td>\n",
       "      <td>OTHER</td>\n",
       "      <td>INTERVENTIONAL</td>\n",
       "      <td>Allocation: RANDOMIZED|Intervention Model: PAR...</td>\n",
       "      <td>2005-10</td>\n",
       "      <td>2006-05\"</td>\n",
       "    </tr>\n",
       "    <tr>\n",
       "      <th>4</th>\n",
       "      <td>\"NCT03820271</td>\n",
       "      <td>New Prognostic Predictive Models of Mortality ...</td>\n",
       "      <td>SUPERMELD</td>\n",
       "      <td>RECRUITING</td>\n",
       "      <td>Decompensated Cirrhosis|Liver Transplantation</td>\n",
       "      <td>OTHER: SuperMELD</td>\n",
       "      <td>Assistance Publique - Hôpitaux de Paris</td>\n",
       "      <td></td>\n",
       "      <td>500.0</td>\n",
       "      <td>OTHER</td>\n",
       "      <td>INTERVENTIONAL</td>\n",
       "      <td>Allocation: NA|Intervention Model: SINGLE_GROU...</td>\n",
       "      <td>2020-10-01</td>\n",
       "      <td>2023-10-01\"</td>\n",
       "    </tr>\n",
       "    <tr>\n",
       "      <th>5</th>\n",
       "      <td>\"NCT06229171</td>\n",
       "      <td>InTake Care: Development and Validation of an ...</td>\n",
       "      <td>InTakeCare</td>\n",
       "      <td>NOT_YET_RECRUITING</td>\n",
       "      <td>Hypertension|Treatment Adherence and Complianc...</td>\n",
       "      <td>OTHER: adherence support system based on a voc...</td>\n",
       "      <td>Istituto Auxologico Italiano</td>\n",
       "      <td>Istituti Clinici Scientifici Maugeri SpA|Polit...</td>\n",
       "      <td>206.0</td>\n",
       "      <td>OTHER</td>\n",
       "      <td>INTERVENTIONAL</td>\n",
       "      <td>Allocation: RANDOMIZED|Intervention Model: PAR...</td>\n",
       "      <td>2024-10-01</td>\n",
       "      <td>2026-04-01\"</td>\n",
       "    </tr>\n",
       "    <tr>\n",
       "      <th>6</th>\n",
       "      <td>\"NCT02945371</td>\n",
       "      <td>Tailored Inhibitory Control Training to Revers...</td>\n",
       "      <td>REV</td>\n",
       "      <td>COMPLETED</td>\n",
       "      <td>Smoking|Alcohol Drinking|Prescription Drug Abu...</td>\n",
       "      <td>BEHAVIORAL: Person-centered inhibitory control...</td>\n",
       "      <td>University of Oregon</td>\n",
       "      <td></td>\n",
       "      <td>103.0</td>\n",
       "      <td>OTHER</td>\n",
       "      <td>INTERVENTIONAL</td>\n",
       "      <td>Allocation: RANDOMIZED|Intervention Model: PAR...</td>\n",
       "      <td>2014-09</td>\n",
       "      <td>2016-05\"</td>\n",
       "    </tr>\n",
       "    <tr>\n",
       "      <th>7</th>\n",
       "      <td>\"NCT01055171</td>\n",
       "      <td>Neuromodulation of Trauma Memories in PTSD &amp; A...</td>\n",
       "      <td></td>\n",
       "      <td>COMPLETED</td>\n",
       "      <td>Alcohol Dependence|PTSD</td>\n",
       "      <td>DRUG: Propranolol|DRUG: Placebo</td>\n",
       "      <td>Medical University of South Carolina</td>\n",
       "      <td>National Institute on Alcohol Abuse and Alcoho...</td>\n",
       "      <td>44.0</td>\n",
       "      <td>OTHER</td>\n",
       "      <td>INTERVENTIONAL</td>\n",
       "      <td>Allocation: RANDOMIZED|Intervention Model: PAR...</td>\n",
       "      <td>2010-01</td>\n",
       "      <td>2012-08\"</td>\n",
       "    </tr>\n",
       "    <tr>\n",
       "      <th>8</th>\n",
       "      <td>\"NCT01125371</td>\n",
       "      <td>Computerized Brief Alcohol Intervention (BI) f...</td>\n",
       "      <td></td>\n",
       "      <td>COMPLETED</td>\n",
       "      <td>Alcohol; Harmful Use|Binge Drinking|Risk Behav...</td>\n",
       "      <td>BEHAVIORAL: Computerized brief alcohol interve...</td>\n",
       "      <td>Johns Hopkins University</td>\n",
       "      <td>National Institute on Alcohol Abuse and Alcoho...</td>\n",
       "      <td>439.0</td>\n",
       "      <td>OTHER</td>\n",
       "      <td>INTERVENTIONAL</td>\n",
       "      <td>Allocation: RANDOMIZED|Intervention Model: PAR...</td>\n",
       "      <td>2011-10</td>\n",
       "      <td>2016-06-07\"</td>\n",
       "    </tr>\n",
       "    <tr>\n",
       "      <th>9</th>\n",
       "      <td>\"NCT02554071</td>\n",
       "      <td>Manitoba Pharmacist Initiated Smoking Cessatio...</td>\n",
       "      <td></td>\n",
       "      <td>COMPLETED</td>\n",
       "      <td>Smoking Cessation</td>\n",
       "      <td>OTHER: Pharmacist - Smoking Cessation Support</td>\n",
       "      <td>University of Manitoba</td>\n",
       "      <td>Govenment of Manitoba|Canadian Foundation for ...</td>\n",
       "      <td>119.0</td>\n",
       "      <td>OTHER</td>\n",
       "      <td>INTERVENTIONAL</td>\n",
       "      <td>Allocation: NA|Intervention Model: SINGLE_GROU...</td>\n",
       "      <td>2014-01</td>\n",
       "      <td>2014-11\"</td>\n",
       "    </tr>\n",
       "  </tbody>\n",
       "</table>\n",
       "</div>"
      ],
      "text/plain": [
       "          col_0                                              col_1  \\\n",
       "0           \"Id                                        Study Title   \n",
       "1  \"NCT03630471  Effectiveness of a Problem-solving Interventio...   \n",
       "2  \"NCT05992571  Oral Ketone Monoester Supplementation and Rest...   \n",
       "3  \"NCT00237471  Impact of Tight Glycaemic Control in Acute Myo...   \n",
       "4  \"NCT03820271  New Prognostic Predictive Models of Mortality ...   \n",
       "5  \"NCT06229171  InTake Care: Development and Validation of an ...   \n",
       "6  \"NCT02945371  Tailored Inhibitory Control Training to Revers...   \n",
       "7  \"NCT01055171  Neuromodulation of Trauma Memories in PTSD & A...   \n",
       "8  \"NCT01125371  Computerized Brief Alcohol Intervention (BI) f...   \n",
       "9  \"NCT02554071  Manitoba Pharmacist Initiated Smoking Cessatio...   \n",
       "\n",
       "        col_2               col_3  \\\n",
       "0     Acronym              Status   \n",
       "1       PRIDE           COMPLETED   \n",
       "2                      RECRUITING   \n",
       "3                      TERMINATED   \n",
       "4   SUPERMELD          RECRUITING   \n",
       "5  InTakeCare  NOT_YET_RECRUITING   \n",
       "6         REV           COMPLETED   \n",
       "7                       COMPLETED   \n",
       "8                       COMPLETED   \n",
       "9                       COMPLETED   \n",
       "\n",
       "                                               col_4  \\\n",
       "0                                         Conditions   \n",
       "1  Mental Health Issue (E.G.\", Depression, Psycho...   \n",
       "2                 Cerebrovascular Function|Cognition   \n",
       "3                   Myocardial Infarct|Hyperglycemia   \n",
       "4      Decompensated Cirrhosis|Liver Transplantation   \n",
       "5  Hypertension|Treatment Adherence and Complianc...   \n",
       "6  Smoking|Alcohol Drinking|Prescription Drug Abu...   \n",
       "7                            Alcohol Dependence|PTSD   \n",
       "8  Alcohol; Harmful Use|Binge Drinking|Risk Behav...   \n",
       "9                                  Smoking Cessation   \n",
       "\n",
       "                                               col_5  \\\n",
       "0                                      Interventions   \n",
       "1  BEHAVIORAL: PRIDE 'Step 1' problem-solving int...   \n",
       "2           OTHER: Placebo|DIETARY_SUPPLEMENT: β-OHB   \n",
       "3        DRUG: Insulin (tight blood glucose control)   \n",
       "4                                   OTHER: SuperMELD   \n",
       "5  OTHER: adherence support system based on a voc...   \n",
       "6  BEHAVIORAL: Person-centered inhibitory control...   \n",
       "7                    DRUG: Propranolol|DRUG: Placebo   \n",
       "8  BEHAVIORAL: Computerized brief alcohol interve...   \n",
       "9      OTHER: Pharmacist - Smoking Cessation Support   \n",
       "\n",
       "                                     col_6  \\\n",
       "0                                  Sponsor   \n",
       "1                                  Sangath   \n",
       "2                      McMaster University   \n",
       "3                         Melbourne Health   \n",
       "4  Assistance Publique - Hôpitaux de Paris   \n",
       "5             Istituto Auxologico Italiano   \n",
       "6                     University of Oregon   \n",
       "7     Medical University of South Carolina   \n",
       "8                 Johns Hopkins University   \n",
       "9                   University of Manitoba   \n",
       "\n",
       "                                               col_7       col_8        col_9  \\\n",
       "0                                      Collaborators  Enrollment  Funder Type   \n",
       "1  Harvard Medical School (HMS and HSDM)|London S...       250.0        OTHER   \n",
       "2  Alzheimer's Society of Brant\", Haldimand Norfo...        30.0        OTHER   \n",
       "3  National Health and Medical Research Council\",...        40.0        OTHER   \n",
       "4                                                          500.0        OTHER   \n",
       "5  Istituti Clinici Scientifici Maugeri SpA|Polit...       206.0        OTHER   \n",
       "6                                                          103.0        OTHER   \n",
       "7  National Institute on Alcohol Abuse and Alcoho...        44.0        OTHER   \n",
       "8  National Institute on Alcohol Abuse and Alcoho...       439.0        OTHER   \n",
       "9  Govenment of Manitoba|Canadian Foundation for ...       119.0        OTHER   \n",
       "\n",
       "           col_10                                             col_11  \\\n",
       "0            Type                                       Study Design   \n",
       "1  INTERVENTIONAL  Allocation: RANDOMIZED|Intervention Model: PAR...   \n",
       "2  INTERVENTIONAL  Allocation: RANDOMIZED|Intervention Model: CRO...   \n",
       "3  INTERVENTIONAL  Allocation: RANDOMIZED|Intervention Model: PAR...   \n",
       "4  INTERVENTIONAL  Allocation: NA|Intervention Model: SINGLE_GROU...   \n",
       "5  INTERVENTIONAL  Allocation: RANDOMIZED|Intervention Model: PAR...   \n",
       "6  INTERVENTIONAL  Allocation: RANDOMIZED|Intervention Model: PAR...   \n",
       "7  INTERVENTIONAL  Allocation: RANDOMIZED|Intervention Model: PAR...   \n",
       "8  INTERVENTIONAL  Allocation: RANDOMIZED|Intervention Model: PAR...   \n",
       "9  INTERVENTIONAL  Allocation: NA|Intervention Model: SINGLE_GROU...   \n",
       "\n",
       "       col_12       col_13  \n",
       "0       Start  Completion\"  \n",
       "1  2018-08-20  2019-02-28\"  \n",
       "2  2023-10-25     2024-08\"  \n",
       "3     2005-10     2006-05\"  \n",
       "4  2020-10-01  2023-10-01\"  \n",
       "5  2024-10-01  2026-04-01\"  \n",
       "6     2014-09     2016-05\"  \n",
       "7     2010-01     2012-08\"  \n",
       "8     2011-10  2016-06-07\"  \n",
       "9     2014-01     2014-11\"  "
      ]
     },
     "execution_count": 9,
     "metadata": {},
     "output_type": "execute_result"
    }
   ],
   "source": [
    "df.toPandas().head(10)"
   ]
  },
  {
   "cell_type": "code",
   "execution_count": 10,
   "metadata": {
    "application/vnd.databricks.v1+cell": {
     "cellMetadata": {
      "byteLimit": 2048000,
      "rowLimit": 10000
     },
     "inputWidgets": {},
     "nuid": "bb46f49a-9702-4b98-892f-78a3ef5660f0",
     "showTitle": false,
     "title": ""
    }
   },
   "outputs": [
    {
     "name": "stderr",
     "output_type": "stream",
     "text": [
      "                                                                                \r"
     ]
    },
    {
     "name": "stdout",
     "output_type": "stream",
     "text": [
      "Column col_0 has 0 null values.\n"
     ]
    },
    {
     "name": "stderr",
     "output_type": "stream",
     "text": [
      "                                                                                \r"
     ]
    },
    {
     "name": "stdout",
     "output_type": "stream",
     "text": [
      "Column col_1 has 0 null values.\n"
     ]
    },
    {
     "name": "stderr",
     "output_type": "stream",
     "text": [
      "                                                                                \r"
     ]
    },
    {
     "name": "stdout",
     "output_type": "stream",
     "text": [
      "Column col_2 has 0 null values.\n"
     ]
    },
    {
     "name": "stderr",
     "output_type": "stream",
     "text": [
      "                                                                                \r"
     ]
    },
    {
     "name": "stdout",
     "output_type": "stream",
     "text": [
      "Column col_3 has 0 null values.\n"
     ]
    },
    {
     "name": "stderr",
     "output_type": "stream",
     "text": [
      "                                                                                \r"
     ]
    },
    {
     "name": "stdout",
     "output_type": "stream",
     "text": [
      "Column col_4 has 0 null values.\n"
     ]
    },
    {
     "name": "stderr",
     "output_type": "stream",
     "text": [
      "                                                                                \r"
     ]
    },
    {
     "name": "stdout",
     "output_type": "stream",
     "text": [
      "Column col_5 has 0 null values.\n"
     ]
    },
    {
     "name": "stderr",
     "output_type": "stream",
     "text": [
      "                                                                                \r"
     ]
    },
    {
     "name": "stdout",
     "output_type": "stream",
     "text": [
      "Column col_6 has 0 null values.\n"
     ]
    },
    {
     "name": "stderr",
     "output_type": "stream",
     "text": [
      "                                                                                \r"
     ]
    },
    {
     "name": "stdout",
     "output_type": "stream",
     "text": [
      "Column col_7 has 1 null values.\n"
     ]
    },
    {
     "name": "stderr",
     "output_type": "stream",
     "text": [
      "                                                                                \r"
     ]
    },
    {
     "name": "stdout",
     "output_type": "stream",
     "text": [
      "Column col_8 has 2 null values.\n"
     ]
    },
    {
     "name": "stderr",
     "output_type": "stream",
     "text": [
      "                                                                                \r"
     ]
    },
    {
     "name": "stdout",
     "output_type": "stream",
     "text": [
      "Column col_9 has 2 null values.\n"
     ]
    },
    {
     "name": "stderr",
     "output_type": "stream",
     "text": [
      "                                                                                \r"
     ]
    },
    {
     "name": "stdout",
     "output_type": "stream",
     "text": [
      "Column col_10 has 2 null values.\n"
     ]
    },
    {
     "name": "stderr",
     "output_type": "stream",
     "text": [
      "                                                                                \r"
     ]
    },
    {
     "name": "stdout",
     "output_type": "stream",
     "text": [
      "Column col_11 has 2 null values.\n"
     ]
    },
    {
     "name": "stderr",
     "output_type": "stream",
     "text": [
      "                                                                                \r"
     ]
    },
    {
     "name": "stdout",
     "output_type": "stream",
     "text": [
      "Column col_12 has 2 null values.\n"
     ]
    },
    {
     "name": "stderr",
     "output_type": "stream",
     "text": [
      "[Stage 43:====================================================>   (15 + 1) / 16]\r"
     ]
    },
    {
     "name": "stdout",
     "output_type": "stream",
     "text": [
      "Column col_13 has 2 null values.\n"
     ]
    },
    {
     "name": "stderr",
     "output_type": "stream",
     "text": [
      "                                                                                \r"
     ]
    }
   ],
   "source": [
    "for col_name in df.columns:\n",
    "    null_count = df.filter(F.col(col_name).isNull()).count()\n",
    "    print(f'Column {col_name} has {null_count} null values.')"
   ]
  },
  {
   "cell_type": "code",
   "execution_count": 11,
   "metadata": {
    "application/vnd.databricks.v1+cell": {
     "cellMetadata": {
      "byteLimit": 2048000,
      "rowLimit": 10000
     },
     "inputWidgets": {},
     "nuid": "a13d5a2e-9210-4c05-97fa-b4a65603f50e",
     "showTitle": false,
     "title": ""
    }
   },
   "outputs": [],
   "source": [
    "\n",
    "new_column_names = df.first()  \n",
    "for col in df.columns:\n",
    "    df = df.withColumnRenamed(col, new_column_names[col])\n"
   ]
  },
  {
   "cell_type": "code",
   "execution_count": 12,
   "metadata": {
    "application/vnd.databricks.v1+cell": {
     "cellMetadata": {
      "byteLimit": 2048000,
      "rowLimit": 10000
     },
     "inputWidgets": {},
     "nuid": "b1055bd9-2ade-4e4e-be22-9cae3f0979c9",
     "showTitle": false,
     "title": ""
    }
   },
   "outputs": [
    {
     "name": "stderr",
     "output_type": "stream",
     "text": [
      "                                                                                \r"
     ]
    },
    {
     "data": {
      "text/html": [
       "<div>\n",
       "<style scoped>\n",
       "    .dataframe tbody tr th:only-of-type {\n",
       "        vertical-align: middle;\n",
       "    }\n",
       "\n",
       "    .dataframe tbody tr th {\n",
       "        vertical-align: top;\n",
       "    }\n",
       "\n",
       "    .dataframe thead th {\n",
       "        text-align: right;\n",
       "    }\n",
       "</style>\n",
       "<table border=\"1\" class=\"dataframe\">\n",
       "  <thead>\n",
       "    <tr style=\"text-align: right;\">\n",
       "      <th></th>\n",
       "      <th>\"Id</th>\n",
       "      <th>Study Title</th>\n",
       "      <th>Acronym</th>\n",
       "      <th>Status</th>\n",
       "      <th>Conditions</th>\n",
       "      <th>Interventions</th>\n",
       "      <th>Sponsor</th>\n",
       "      <th>Collaborators</th>\n",
       "      <th>Enrollment</th>\n",
       "      <th>Funder Type</th>\n",
       "      <th>Type</th>\n",
       "      <th>Study Design</th>\n",
       "      <th>Start</th>\n",
       "      <th>Completion\"</th>\n",
       "    </tr>\n",
       "  </thead>\n",
       "  <tbody>\n",
       "    <tr>\n",
       "      <th>0</th>\n",
       "      <td>\"Id</td>\n",
       "      <td>Study Title</td>\n",
       "      <td>Acronym</td>\n",
       "      <td>Status</td>\n",
       "      <td>Conditions</td>\n",
       "      <td>Interventions</td>\n",
       "      <td>Sponsor</td>\n",
       "      <td>Collaborators</td>\n",
       "      <td>Enrollment</td>\n",
       "      <td>Funder Type</td>\n",
       "      <td>Type</td>\n",
       "      <td>Study Design</td>\n",
       "      <td>Start</td>\n",
       "      <td>Completion\"</td>\n",
       "    </tr>\n",
       "    <tr>\n",
       "      <th>1</th>\n",
       "      <td>\"NCT03630471</td>\n",
       "      <td>Effectiveness of a Problem-solving Interventio...</td>\n",
       "      <td>PRIDE</td>\n",
       "      <td>COMPLETED</td>\n",
       "      <td>Mental Health Issue (E.G.\", Depression, Psycho...</td>\n",
       "      <td>BEHAVIORAL: PRIDE 'Step 1' problem-solving int...</td>\n",
       "      <td>Sangath</td>\n",
       "      <td>Harvard Medical School (HMS and HSDM)|London S...</td>\n",
       "      <td>250.0</td>\n",
       "      <td>OTHER</td>\n",
       "      <td>INTERVENTIONAL</td>\n",
       "      <td>Allocation: RANDOMIZED|Intervention Model: PAR...</td>\n",
       "      <td>2018-08-20</td>\n",
       "      <td>2019-02-28\"</td>\n",
       "    </tr>\n",
       "    <tr>\n",
       "      <th>2</th>\n",
       "      <td>\"NCT05992571</td>\n",
       "      <td>Oral Ketone Monoester Supplementation and Rest...</td>\n",
       "      <td></td>\n",
       "      <td>RECRUITING</td>\n",
       "      <td>Cerebrovascular Function|Cognition</td>\n",
       "      <td>OTHER: Placebo|DIETARY_SUPPLEMENT: β-OHB</td>\n",
       "      <td>McMaster University</td>\n",
       "      <td>Alzheimer's Society of Brant\", Haldimand Norfo...</td>\n",
       "      <td>30.0</td>\n",
       "      <td>OTHER</td>\n",
       "      <td>INTERVENTIONAL</td>\n",
       "      <td>Allocation: RANDOMIZED|Intervention Model: CRO...</td>\n",
       "      <td>2023-10-25</td>\n",
       "      <td>2024-08\"</td>\n",
       "    </tr>\n",
       "    <tr>\n",
       "      <th>3</th>\n",
       "      <td>\"NCT00237471</td>\n",
       "      <td>Impact of Tight Glycaemic Control in Acute Myo...</td>\n",
       "      <td></td>\n",
       "      <td>TERMINATED</td>\n",
       "      <td>Myocardial Infarct|Hyperglycemia</td>\n",
       "      <td>DRUG: Insulin (tight blood glucose control)</td>\n",
       "      <td>Melbourne Health</td>\n",
       "      <td>National Health and Medical Research Council\",...</td>\n",
       "      <td>40.0</td>\n",
       "      <td>OTHER</td>\n",
       "      <td>INTERVENTIONAL</td>\n",
       "      <td>Allocation: RANDOMIZED|Intervention Model: PAR...</td>\n",
       "      <td>2005-10</td>\n",
       "      <td>2006-05\"</td>\n",
       "    </tr>\n",
       "    <tr>\n",
       "      <th>4</th>\n",
       "      <td>\"NCT03820271</td>\n",
       "      <td>New Prognostic Predictive Models of Mortality ...</td>\n",
       "      <td>SUPERMELD</td>\n",
       "      <td>RECRUITING</td>\n",
       "      <td>Decompensated Cirrhosis|Liver Transplantation</td>\n",
       "      <td>OTHER: SuperMELD</td>\n",
       "      <td>Assistance Publique - Hôpitaux de Paris</td>\n",
       "      <td></td>\n",
       "      <td>500.0</td>\n",
       "      <td>OTHER</td>\n",
       "      <td>INTERVENTIONAL</td>\n",
       "      <td>Allocation: NA|Intervention Model: SINGLE_GROU...</td>\n",
       "      <td>2020-10-01</td>\n",
       "      <td>2023-10-01\"</td>\n",
       "    </tr>\n",
       "    <tr>\n",
       "      <th>5</th>\n",
       "      <td>\"NCT06229171</td>\n",
       "      <td>InTake Care: Development and Validation of an ...</td>\n",
       "      <td>InTakeCare</td>\n",
       "      <td>NOT_YET_RECRUITING</td>\n",
       "      <td>Hypertension|Treatment Adherence and Complianc...</td>\n",
       "      <td>OTHER: adherence support system based on a voc...</td>\n",
       "      <td>Istituto Auxologico Italiano</td>\n",
       "      <td>Istituti Clinici Scientifici Maugeri SpA|Polit...</td>\n",
       "      <td>206.0</td>\n",
       "      <td>OTHER</td>\n",
       "      <td>INTERVENTIONAL</td>\n",
       "      <td>Allocation: RANDOMIZED|Intervention Model: PAR...</td>\n",
       "      <td>2024-10-01</td>\n",
       "      <td>2026-04-01\"</td>\n",
       "    </tr>\n",
       "    <tr>\n",
       "      <th>6</th>\n",
       "      <td>\"NCT02945371</td>\n",
       "      <td>Tailored Inhibitory Control Training to Revers...</td>\n",
       "      <td>REV</td>\n",
       "      <td>COMPLETED</td>\n",
       "      <td>Smoking|Alcohol Drinking|Prescription Drug Abu...</td>\n",
       "      <td>BEHAVIORAL: Person-centered inhibitory control...</td>\n",
       "      <td>University of Oregon</td>\n",
       "      <td></td>\n",
       "      <td>103.0</td>\n",
       "      <td>OTHER</td>\n",
       "      <td>INTERVENTIONAL</td>\n",
       "      <td>Allocation: RANDOMIZED|Intervention Model: PAR...</td>\n",
       "      <td>2014-09</td>\n",
       "      <td>2016-05\"</td>\n",
       "    </tr>\n",
       "    <tr>\n",
       "      <th>7</th>\n",
       "      <td>\"NCT01055171</td>\n",
       "      <td>Neuromodulation of Trauma Memories in PTSD &amp; A...</td>\n",
       "      <td></td>\n",
       "      <td>COMPLETED</td>\n",
       "      <td>Alcohol Dependence|PTSD</td>\n",
       "      <td>DRUG: Propranolol|DRUG: Placebo</td>\n",
       "      <td>Medical University of South Carolina</td>\n",
       "      <td>National Institute on Alcohol Abuse and Alcoho...</td>\n",
       "      <td>44.0</td>\n",
       "      <td>OTHER</td>\n",
       "      <td>INTERVENTIONAL</td>\n",
       "      <td>Allocation: RANDOMIZED|Intervention Model: PAR...</td>\n",
       "      <td>2010-01</td>\n",
       "      <td>2012-08\"</td>\n",
       "    </tr>\n",
       "    <tr>\n",
       "      <th>8</th>\n",
       "      <td>\"NCT01125371</td>\n",
       "      <td>Computerized Brief Alcohol Intervention (BI) f...</td>\n",
       "      <td></td>\n",
       "      <td>COMPLETED</td>\n",
       "      <td>Alcohol; Harmful Use|Binge Drinking|Risk Behav...</td>\n",
       "      <td>BEHAVIORAL: Computerized brief alcohol interve...</td>\n",
       "      <td>Johns Hopkins University</td>\n",
       "      <td>National Institute on Alcohol Abuse and Alcoho...</td>\n",
       "      <td>439.0</td>\n",
       "      <td>OTHER</td>\n",
       "      <td>INTERVENTIONAL</td>\n",
       "      <td>Allocation: RANDOMIZED|Intervention Model: PAR...</td>\n",
       "      <td>2011-10</td>\n",
       "      <td>2016-06-07\"</td>\n",
       "    </tr>\n",
       "    <tr>\n",
       "      <th>9</th>\n",
       "      <td>\"NCT02554071</td>\n",
       "      <td>Manitoba Pharmacist Initiated Smoking Cessatio...</td>\n",
       "      <td></td>\n",
       "      <td>COMPLETED</td>\n",
       "      <td>Smoking Cessation</td>\n",
       "      <td>OTHER: Pharmacist - Smoking Cessation Support</td>\n",
       "      <td>University of Manitoba</td>\n",
       "      <td>Govenment of Manitoba|Canadian Foundation for ...</td>\n",
       "      <td>119.0</td>\n",
       "      <td>OTHER</td>\n",
       "      <td>INTERVENTIONAL</td>\n",
       "      <td>Allocation: NA|Intervention Model: SINGLE_GROU...</td>\n",
       "      <td>2014-01</td>\n",
       "      <td>2014-11\"</td>\n",
       "    </tr>\n",
       "  </tbody>\n",
       "</table>\n",
       "</div>"
      ],
      "text/plain": [
       "            \"Id                                        Study Title  \\\n",
       "0           \"Id                                        Study Title   \n",
       "1  \"NCT03630471  Effectiveness of a Problem-solving Interventio...   \n",
       "2  \"NCT05992571  Oral Ketone Monoester Supplementation and Rest...   \n",
       "3  \"NCT00237471  Impact of Tight Glycaemic Control in Acute Myo...   \n",
       "4  \"NCT03820271  New Prognostic Predictive Models of Mortality ...   \n",
       "5  \"NCT06229171  InTake Care: Development and Validation of an ...   \n",
       "6  \"NCT02945371  Tailored Inhibitory Control Training to Revers...   \n",
       "7  \"NCT01055171  Neuromodulation of Trauma Memories in PTSD & A...   \n",
       "8  \"NCT01125371  Computerized Brief Alcohol Intervention (BI) f...   \n",
       "9  \"NCT02554071  Manitoba Pharmacist Initiated Smoking Cessatio...   \n",
       "\n",
       "      Acronym              Status  \\\n",
       "0     Acronym              Status   \n",
       "1       PRIDE           COMPLETED   \n",
       "2                      RECRUITING   \n",
       "3                      TERMINATED   \n",
       "4   SUPERMELD          RECRUITING   \n",
       "5  InTakeCare  NOT_YET_RECRUITING   \n",
       "6         REV           COMPLETED   \n",
       "7                       COMPLETED   \n",
       "8                       COMPLETED   \n",
       "9                       COMPLETED   \n",
       "\n",
       "                                          Conditions  \\\n",
       "0                                         Conditions   \n",
       "1  Mental Health Issue (E.G.\", Depression, Psycho...   \n",
       "2                 Cerebrovascular Function|Cognition   \n",
       "3                   Myocardial Infarct|Hyperglycemia   \n",
       "4      Decompensated Cirrhosis|Liver Transplantation   \n",
       "5  Hypertension|Treatment Adherence and Complianc...   \n",
       "6  Smoking|Alcohol Drinking|Prescription Drug Abu...   \n",
       "7                            Alcohol Dependence|PTSD   \n",
       "8  Alcohol; Harmful Use|Binge Drinking|Risk Behav...   \n",
       "9                                  Smoking Cessation   \n",
       "\n",
       "                                       Interventions  \\\n",
       "0                                      Interventions   \n",
       "1  BEHAVIORAL: PRIDE 'Step 1' problem-solving int...   \n",
       "2           OTHER: Placebo|DIETARY_SUPPLEMENT: β-OHB   \n",
       "3        DRUG: Insulin (tight blood glucose control)   \n",
       "4                                   OTHER: SuperMELD   \n",
       "5  OTHER: adherence support system based on a voc...   \n",
       "6  BEHAVIORAL: Person-centered inhibitory control...   \n",
       "7                    DRUG: Propranolol|DRUG: Placebo   \n",
       "8  BEHAVIORAL: Computerized brief alcohol interve...   \n",
       "9      OTHER: Pharmacist - Smoking Cessation Support   \n",
       "\n",
       "                                   Sponsor  \\\n",
       "0                                  Sponsor   \n",
       "1                                  Sangath   \n",
       "2                      McMaster University   \n",
       "3                         Melbourne Health   \n",
       "4  Assistance Publique - Hôpitaux de Paris   \n",
       "5             Istituto Auxologico Italiano   \n",
       "6                     University of Oregon   \n",
       "7     Medical University of South Carolina   \n",
       "8                 Johns Hopkins University   \n",
       "9                   University of Manitoba   \n",
       "\n",
       "                                       Collaborators  Enrollment  Funder Type  \\\n",
       "0                                      Collaborators  Enrollment  Funder Type   \n",
       "1  Harvard Medical School (HMS and HSDM)|London S...       250.0        OTHER   \n",
       "2  Alzheimer's Society of Brant\", Haldimand Norfo...        30.0        OTHER   \n",
       "3  National Health and Medical Research Council\",...        40.0        OTHER   \n",
       "4                                                          500.0        OTHER   \n",
       "5  Istituti Clinici Scientifici Maugeri SpA|Polit...       206.0        OTHER   \n",
       "6                                                          103.0        OTHER   \n",
       "7  National Institute on Alcohol Abuse and Alcoho...        44.0        OTHER   \n",
       "8  National Institute on Alcohol Abuse and Alcoho...       439.0        OTHER   \n",
       "9  Govenment of Manitoba|Canadian Foundation for ...       119.0        OTHER   \n",
       "\n",
       "             Type                                       Study Design  \\\n",
       "0            Type                                       Study Design   \n",
       "1  INTERVENTIONAL  Allocation: RANDOMIZED|Intervention Model: PAR...   \n",
       "2  INTERVENTIONAL  Allocation: RANDOMIZED|Intervention Model: CRO...   \n",
       "3  INTERVENTIONAL  Allocation: RANDOMIZED|Intervention Model: PAR...   \n",
       "4  INTERVENTIONAL  Allocation: NA|Intervention Model: SINGLE_GROU...   \n",
       "5  INTERVENTIONAL  Allocation: RANDOMIZED|Intervention Model: PAR...   \n",
       "6  INTERVENTIONAL  Allocation: RANDOMIZED|Intervention Model: PAR...   \n",
       "7  INTERVENTIONAL  Allocation: RANDOMIZED|Intervention Model: PAR...   \n",
       "8  INTERVENTIONAL  Allocation: RANDOMIZED|Intervention Model: PAR...   \n",
       "9  INTERVENTIONAL  Allocation: NA|Intervention Model: SINGLE_GROU...   \n",
       "\n",
       "        Start  Completion\"  \n",
       "0       Start  Completion\"  \n",
       "1  2018-08-20  2019-02-28\"  \n",
       "2  2023-10-25     2024-08\"  \n",
       "3     2005-10     2006-05\"  \n",
       "4  2020-10-01  2023-10-01\"  \n",
       "5  2024-10-01  2026-04-01\"  \n",
       "6     2014-09     2016-05\"  \n",
       "7     2010-01     2012-08\"  \n",
       "8     2011-10  2016-06-07\"  \n",
       "9     2014-01     2014-11\"  "
      ]
     },
     "execution_count": 12,
     "metadata": {},
     "output_type": "execute_result"
    }
   ],
   "source": [
    "df.toPandas().head(10)"
   ]
  },
  {
   "cell_type": "code",
   "execution_count": 13,
   "metadata": {
    "application/vnd.databricks.v1+cell": {
     "cellMetadata": {
      "byteLimit": 2048000,
      "rowLimit": 10000
     },
     "inputWidgets": {},
     "nuid": "287a975c-6f64-4855-b824-ae90cdc8436a",
     "showTitle": false,
     "title": ""
    }
   },
   "outputs": [],
   "source": [
    "from pyspark.sql.functions import regexp_replace, col\n",
    "\n",
    "for col_name in df.columns:\n",
    "    df = df.withColumn(col_name, regexp_replace(col(col_name), '\"', ''))"
   ]
  },
  {
   "cell_type": "code",
   "execution_count": 14,
   "metadata": {
    "application/vnd.databricks.v1+cell": {
     "cellMetadata": {
      "byteLimit": 2048000,
      "rowLimit": 10000
     },
     "inputWidgets": {},
     "nuid": "40dec06d-d662-4745-a8b9-ec7e263126a2",
     "showTitle": false,
     "title": ""
    }
   },
   "outputs": [
    {
     "name": "stderr",
     "output_type": "stream",
     "text": [
      "                                                                                \r"
     ]
    },
    {
     "data": {
      "text/html": [
       "<div>\n",
       "<style scoped>\n",
       "    .dataframe tbody tr th:only-of-type {\n",
       "        vertical-align: middle;\n",
       "    }\n",
       "\n",
       "    .dataframe tbody tr th {\n",
       "        vertical-align: top;\n",
       "    }\n",
       "\n",
       "    .dataframe thead th {\n",
       "        text-align: right;\n",
       "    }\n",
       "</style>\n",
       "<table border=\"1\" class=\"dataframe\">\n",
       "  <thead>\n",
       "    <tr style=\"text-align: right;\">\n",
       "      <th></th>\n",
       "      <th>\"Id</th>\n",
       "      <th>Study Title</th>\n",
       "      <th>Acronym</th>\n",
       "      <th>Status</th>\n",
       "      <th>Conditions</th>\n",
       "      <th>Interventions</th>\n",
       "      <th>Sponsor</th>\n",
       "      <th>Collaborators</th>\n",
       "      <th>Enrollment</th>\n",
       "      <th>Funder Type</th>\n",
       "      <th>Type</th>\n",
       "      <th>Study Design</th>\n",
       "      <th>Start</th>\n",
       "      <th>Completion\"</th>\n",
       "    </tr>\n",
       "  </thead>\n",
       "  <tbody>\n",
       "    <tr>\n",
       "      <th>0</th>\n",
       "      <td>Id</td>\n",
       "      <td>Study Title</td>\n",
       "      <td>Acronym</td>\n",
       "      <td>Status</td>\n",
       "      <td>Conditions</td>\n",
       "      <td>Interventions</td>\n",
       "      <td>Sponsor</td>\n",
       "      <td>Collaborators</td>\n",
       "      <td>Enrollment</td>\n",
       "      <td>Funder Type</td>\n",
       "      <td>Type</td>\n",
       "      <td>Study Design</td>\n",
       "      <td>Start</td>\n",
       "      <td>Completion</td>\n",
       "    </tr>\n",
       "    <tr>\n",
       "      <th>1</th>\n",
       "      <td>NCT03630471</td>\n",
       "      <td>Effectiveness of a Problem-solving Interventio...</td>\n",
       "      <td>PRIDE</td>\n",
       "      <td>COMPLETED</td>\n",
       "      <td>Mental Health Issue (E.G., Depression, Psychos...</td>\n",
       "      <td>BEHAVIORAL: PRIDE 'Step 1' problem-solving int...</td>\n",
       "      <td>Sangath</td>\n",
       "      <td>Harvard Medical School (HMS and HSDM)|London S...</td>\n",
       "      <td>250.0</td>\n",
       "      <td>OTHER</td>\n",
       "      <td>INTERVENTIONAL</td>\n",
       "      <td>Allocation: RANDOMIZED|Intervention Model: PAR...</td>\n",
       "      <td>2018-08-20</td>\n",
       "      <td>2019-02-28</td>\n",
       "    </tr>\n",
       "    <tr>\n",
       "      <th>2</th>\n",
       "      <td>NCT05992571</td>\n",
       "      <td>Oral Ketone Monoester Supplementation and Rest...</td>\n",
       "      <td></td>\n",
       "      <td>RECRUITING</td>\n",
       "      <td>Cerebrovascular Function|Cognition</td>\n",
       "      <td>OTHER: Placebo|DIETARY_SUPPLEMENT: β-OHB</td>\n",
       "      <td>McMaster University</td>\n",
       "      <td>Alzheimer's Society of Brant, Haldimand Norfol...</td>\n",
       "      <td>30.0</td>\n",
       "      <td>OTHER</td>\n",
       "      <td>INTERVENTIONAL</td>\n",
       "      <td>Allocation: RANDOMIZED|Intervention Model: CRO...</td>\n",
       "      <td>2023-10-25</td>\n",
       "      <td>2024-08</td>\n",
       "    </tr>\n",
       "    <tr>\n",
       "      <th>3</th>\n",
       "      <td>NCT00237471</td>\n",
       "      <td>Impact of Tight Glycaemic Control in Acute Myo...</td>\n",
       "      <td></td>\n",
       "      <td>TERMINATED</td>\n",
       "      <td>Myocardial Infarct|Hyperglycemia</td>\n",
       "      <td>DRUG: Insulin (tight blood glucose control)</td>\n",
       "      <td>Melbourne Health</td>\n",
       "      <td>National Health and Medical Research Council, ...</td>\n",
       "      <td>40.0</td>\n",
       "      <td>OTHER</td>\n",
       "      <td>INTERVENTIONAL</td>\n",
       "      <td>Allocation: RANDOMIZED|Intervention Model: PAR...</td>\n",
       "      <td>2005-10</td>\n",
       "      <td>2006-05</td>\n",
       "    </tr>\n",
       "    <tr>\n",
       "      <th>4</th>\n",
       "      <td>NCT03820271</td>\n",
       "      <td>New Prognostic Predictive Models of Mortality ...</td>\n",
       "      <td>SUPERMELD</td>\n",
       "      <td>RECRUITING</td>\n",
       "      <td>Decompensated Cirrhosis|Liver Transplantation</td>\n",
       "      <td>OTHER: SuperMELD</td>\n",
       "      <td>Assistance Publique - Hôpitaux de Paris</td>\n",
       "      <td></td>\n",
       "      <td>500.0</td>\n",
       "      <td>OTHER</td>\n",
       "      <td>INTERVENTIONAL</td>\n",
       "      <td>Allocation: NA|Intervention Model: SINGLE_GROU...</td>\n",
       "      <td>2020-10-01</td>\n",
       "      <td>2023-10-01</td>\n",
       "    </tr>\n",
       "    <tr>\n",
       "      <th>...</th>\n",
       "      <td>...</td>\n",
       "      <td>...</td>\n",
       "      <td>...</td>\n",
       "      <td>...</td>\n",
       "      <td>...</td>\n",
       "      <td>...</td>\n",
       "      <td>...</td>\n",
       "      <td>...</td>\n",
       "      <td>...</td>\n",
       "      <td>...</td>\n",
       "      <td>...</td>\n",
       "      <td>...</td>\n",
       "      <td>...</td>\n",
       "      <td>...</td>\n",
       "    </tr>\n",
       "    <tr>\n",
       "      <th>483418</th>\n",
       "      <td>NCT02975895</td>\n",
       "      <td>Outcome of Different IOLs in Patients With and...</td>\n",
       "      <td></td>\n",
       "      <td>COMPLETED</td>\n",
       "      <td>Uveitis|Cataract|Inflammation|Posterior Capsul...</td>\n",
       "      <td>DEVICE: Hydrophobic IOL: Vivinex (HOYA)|DEVICE...</td>\n",
       "      <td>Vastra Gotaland Region</td>\n",
       "      <td></td>\n",
       "      <td>56.0</td>\n",
       "      <td>OTHER_GOV</td>\n",
       "      <td>INTERVENTIONAL</td>\n",
       "      <td>Allocation: RANDOMIZED|Intervention Model: PAR...</td>\n",
       "      <td>2016-12-30</td>\n",
       "      <td>2022-03-17</td>\n",
       "    </tr>\n",
       "    <tr>\n",
       "      <th>483419</th>\n",
       "      <td>NCT03332095</td>\n",
       "      <td>Evaluating the Pharmacokinetics, Safety, and T...</td>\n",
       "      <td></td>\n",
       "      <td>COMPLETED</td>\n",
       "      <td>HIV Infections</td>\n",
       "      <td>DRUG: Doravirine (DOR)|DRUG: Doravirine/Lamivu...</td>\n",
       "      <td>National Institute of Allergy and Infectious D...</td>\n",
       "      <td></td>\n",
       "      <td>55.0</td>\n",
       "      <td>NIH</td>\n",
       "      <td>INTERVENTIONAL</td>\n",
       "      <td>Allocation: NON_RANDOMIZED|Intervention Model:...</td>\n",
       "      <td>2018-07-02</td>\n",
       "      <td>2022-05-25</td>\n",
       "    </tr>\n",
       "    <tr>\n",
       "      <th>483420</th>\n",
       "      <td>NCT05191095</td>\n",
       "      <td>The Accuracy of Human Endoscopic Detection of ...</td>\n",
       "      <td></td>\n",
       "      <td>COMPLETED</td>\n",
       "      <td>Colorectal Polyp</td>\n",
       "      <td></td>\n",
       "      <td>University Hospital, Ghent</td>\n",
       "      <td></td>\n",
       "      <td>82.0</td>\n",
       "      <td>OTHER</td>\n",
       "      <td>OBSERVATIONAL</td>\n",
       "      <td>Observational Model: |Time Perspective: p</td>\n",
       "      <td>2021-03-01</td>\n",
       "      <td>2021-06-01</td>\n",
       "    </tr>\n",
       "    <tr>\n",
       "      <th>483421</th>\n",
       "      <td>NCT01388595</td>\n",
       "      <td>Fluticasone and Salmeterol in Allergic Rhinitis</td>\n",
       "      <td></td>\n",
       "      <td>COMPLETED</td>\n",
       "      <td>Allergic Rhinitis</td>\n",
       "      <td>DRUG: FLUTICASONE PROPRIONATE|DRUG: Salmeterol...</td>\n",
       "      <td>University of Dundee</td>\n",
       "      <td></td>\n",
       "      <td>23.0</td>\n",
       "      <td>OTHER</td>\n",
       "      <td>INTERVENTIONAL</td>\n",
       "      <td>Allocation: RANDOMIZED|Intervention Model: CRO...</td>\n",
       "      <td>2006-11</td>\n",
       "      <td>2010-10</td>\n",
       "    </tr>\n",
       "    <tr>\n",
       "      <th>483422</th>\n",
       "      <td>NCT00382395</td>\n",
       "      <td>SOLX Gold Shunt Versus Control Implant: Random...</td>\n",
       "      <td></td>\n",
       "      <td>SUSPENDED</td>\n",
       "      <td>Glaucoma|Glaucoma, Open Angle</td>\n",
       "      <td>DEVICE: SOLX Gold Shunt GMS-plus|DEVICE: Ahmed...</td>\n",
       "      <td>SOLX, Inc.</td>\n",
       "      <td></td>\n",
       "      <td>180.0</td>\n",
       "      <td>INDUSTRY</td>\n",
       "      <td>INTERVENTIONAL</td>\n",
       "      <td>Allocation: RANDOMIZED|Intervention Model: PAR...</td>\n",
       "      <td>2005-11</td>\n",
       "      <td>2017-07</td>\n",
       "    </tr>\n",
       "  </tbody>\n",
       "</table>\n",
       "<p>483423 rows × 14 columns</p>\n",
       "</div>"
      ],
      "text/plain": [
       "                \"Id                                        Study Title  \\\n",
       "0                Id                                        Study Title   \n",
       "1       NCT03630471  Effectiveness of a Problem-solving Interventio...   \n",
       "2       NCT05992571  Oral Ketone Monoester Supplementation and Rest...   \n",
       "3       NCT00237471  Impact of Tight Glycaemic Control in Acute Myo...   \n",
       "4       NCT03820271  New Prognostic Predictive Models of Mortality ...   \n",
       "...             ...                                                ...   \n",
       "483418  NCT02975895  Outcome of Different IOLs in Patients With and...   \n",
       "483419  NCT03332095  Evaluating the Pharmacokinetics, Safety, and T...   \n",
       "483420  NCT05191095  The Accuracy of Human Endoscopic Detection of ...   \n",
       "483421  NCT01388595    Fluticasone and Salmeterol in Allergic Rhinitis   \n",
       "483422  NCT00382395  SOLX Gold Shunt Versus Control Implant: Random...   \n",
       "\n",
       "          Acronym      Status  \\\n",
       "0         Acronym      Status   \n",
       "1           PRIDE   COMPLETED   \n",
       "2                  RECRUITING   \n",
       "3                  TERMINATED   \n",
       "4       SUPERMELD  RECRUITING   \n",
       "...           ...         ...   \n",
       "483418              COMPLETED   \n",
       "483419              COMPLETED   \n",
       "483420              COMPLETED   \n",
       "483421              COMPLETED   \n",
       "483422              SUSPENDED   \n",
       "\n",
       "                                               Conditions  \\\n",
       "0                                              Conditions   \n",
       "1       Mental Health Issue (E.G., Depression, Psychos...   \n",
       "2                      Cerebrovascular Function|Cognition   \n",
       "3                        Myocardial Infarct|Hyperglycemia   \n",
       "4           Decompensated Cirrhosis|Liver Transplantation   \n",
       "...                                                   ...   \n",
       "483418  Uveitis|Cataract|Inflammation|Posterior Capsul...   \n",
       "483419                                     HIV Infections   \n",
       "483420                                   Colorectal Polyp   \n",
       "483421                                  Allergic Rhinitis   \n",
       "483422                      Glaucoma|Glaucoma, Open Angle   \n",
       "\n",
       "                                            Interventions  \\\n",
       "0                                           Interventions   \n",
       "1       BEHAVIORAL: PRIDE 'Step 1' problem-solving int...   \n",
       "2                OTHER: Placebo|DIETARY_SUPPLEMENT: β-OHB   \n",
       "3             DRUG: Insulin (tight blood glucose control)   \n",
       "4                                        OTHER: SuperMELD   \n",
       "...                                                   ...   \n",
       "483418  DEVICE: Hydrophobic IOL: Vivinex (HOYA)|DEVICE...   \n",
       "483419  DRUG: Doravirine (DOR)|DRUG: Doravirine/Lamivu...   \n",
       "483420                                                      \n",
       "483421  DRUG: FLUTICASONE PROPRIONATE|DRUG: Salmeterol...   \n",
       "483422  DEVICE: SOLX Gold Shunt GMS-plus|DEVICE: Ahmed...   \n",
       "\n",
       "                                                  Sponsor  \\\n",
       "0                                                 Sponsor   \n",
       "1                                                 Sangath   \n",
       "2                                     McMaster University   \n",
       "3                                        Melbourne Health   \n",
       "4                 Assistance Publique - Hôpitaux de Paris   \n",
       "...                                                   ...   \n",
       "483418                             Vastra Gotaland Region   \n",
       "483419  National Institute of Allergy and Infectious D...   \n",
       "483420                         University Hospital, Ghent   \n",
       "483421                               University of Dundee   \n",
       "483422                                         SOLX, Inc.   \n",
       "\n",
       "                                            Collaborators  Enrollment  \\\n",
       "0                                           Collaborators  Enrollment   \n",
       "1       Harvard Medical School (HMS and HSDM)|London S...       250.0   \n",
       "2       Alzheimer's Society of Brant, Haldimand Norfol...        30.0   \n",
       "3       National Health and Medical Research Council, ...        40.0   \n",
       "4                                                               500.0   \n",
       "...                                                   ...         ...   \n",
       "483418                                                           56.0   \n",
       "483419                                                           55.0   \n",
       "483420                                                           82.0   \n",
       "483421                                                           23.0   \n",
       "483422                                                          180.0   \n",
       "\n",
       "        Funder Type            Type  \\\n",
       "0       Funder Type            Type   \n",
       "1             OTHER  INTERVENTIONAL   \n",
       "2             OTHER  INTERVENTIONAL   \n",
       "3             OTHER  INTERVENTIONAL   \n",
       "4             OTHER  INTERVENTIONAL   \n",
       "...             ...             ...   \n",
       "483418    OTHER_GOV  INTERVENTIONAL   \n",
       "483419          NIH  INTERVENTIONAL   \n",
       "483420        OTHER   OBSERVATIONAL   \n",
       "483421        OTHER  INTERVENTIONAL   \n",
       "483422     INDUSTRY  INTERVENTIONAL   \n",
       "\n",
       "                                             Study Design       Start  \\\n",
       "0                                            Study Design       Start   \n",
       "1       Allocation: RANDOMIZED|Intervention Model: PAR...  2018-08-20   \n",
       "2       Allocation: RANDOMIZED|Intervention Model: CRO...  2023-10-25   \n",
       "3       Allocation: RANDOMIZED|Intervention Model: PAR...     2005-10   \n",
       "4       Allocation: NA|Intervention Model: SINGLE_GROU...  2020-10-01   \n",
       "...                                                   ...         ...   \n",
       "483418  Allocation: RANDOMIZED|Intervention Model: PAR...  2016-12-30   \n",
       "483419  Allocation: NON_RANDOMIZED|Intervention Model:...  2018-07-02   \n",
       "483420          Observational Model: |Time Perspective: p  2021-03-01   \n",
       "483421  Allocation: RANDOMIZED|Intervention Model: CRO...     2006-11   \n",
       "483422  Allocation: RANDOMIZED|Intervention Model: PAR...     2005-11   \n",
       "\n",
       "       Completion\"  \n",
       "0       Completion  \n",
       "1       2019-02-28  \n",
       "2          2024-08  \n",
       "3          2006-05  \n",
       "4       2023-10-01  \n",
       "...            ...  \n",
       "483418  2022-03-17  \n",
       "483419  2022-05-25  \n",
       "483420  2021-06-01  \n",
       "483421     2010-10  \n",
       "483422     2017-07  \n",
       "\n",
       "[483423 rows x 14 columns]"
      ]
     },
     "execution_count": 14,
     "metadata": {},
     "output_type": "execute_result"
    }
   ],
   "source": [
    "df.toPandas()"
   ]
  },
  {
   "cell_type": "code",
   "execution_count": 15,
   "metadata": {
    "application/vnd.databricks.v1+cell": {
     "cellMetadata": {
      "byteLimit": 2048000,
      "rowLimit": 10000
     },
     "inputWidgets": {},
     "nuid": "4284728a-d214-404d-b8f9-c911a3723d2b",
     "showTitle": false,
     "title": ""
    }
   },
   "outputs": [],
   "source": [
    "from pyspark.sql import Row\n",
    "\n",
    "first_row = df.first()\n",
    "\n",
    "df_new = df.filter(df['\"Id'] != first_row['\"Id'])\n",
    "\n",
    "header = first_row.asDict()\n",
    "\n",
    "\n",
    "for col_name in df_new.columns:\n",
    "    df_new = df_new.withColumnRenamed(col_name, header[col_name])\n",
    "\n",
    "df = df_new\n"
   ]
  },
  {
   "cell_type": "code",
   "execution_count": 16,
   "metadata": {
    "application/vnd.databricks.v1+cell": {
     "cellMetadata": {
      "byteLimit": 2048000,
      "rowLimit": 10000
     },
     "inputWidgets": {},
     "nuid": "96bbd7ed-c613-40e1-ad97-5d4283c6e13a",
     "showTitle": false,
     "title": ""
    }
   },
   "outputs": [
    {
     "name": "stderr",
     "output_type": "stream",
     "text": [
      "                                                                                \r"
     ]
    },
    {
     "data": {
      "text/html": [
       "<div>\n",
       "<style scoped>\n",
       "    .dataframe tbody tr th:only-of-type {\n",
       "        vertical-align: middle;\n",
       "    }\n",
       "\n",
       "    .dataframe tbody tr th {\n",
       "        vertical-align: top;\n",
       "    }\n",
       "\n",
       "    .dataframe thead th {\n",
       "        text-align: right;\n",
       "    }\n",
       "</style>\n",
       "<table border=\"1\" class=\"dataframe\">\n",
       "  <thead>\n",
       "    <tr style=\"text-align: right;\">\n",
       "      <th></th>\n",
       "      <th>Id</th>\n",
       "      <th>Study Title</th>\n",
       "      <th>Acronym</th>\n",
       "      <th>Status</th>\n",
       "      <th>Conditions</th>\n",
       "      <th>Interventions</th>\n",
       "      <th>Sponsor</th>\n",
       "      <th>Collaborators</th>\n",
       "      <th>Enrollment</th>\n",
       "      <th>Funder Type</th>\n",
       "      <th>Type</th>\n",
       "      <th>Study Design</th>\n",
       "      <th>Start</th>\n",
       "      <th>Completion</th>\n",
       "    </tr>\n",
       "  </thead>\n",
       "  <tbody>\n",
       "    <tr>\n",
       "      <th>0</th>\n",
       "      <td>NCT03630471</td>\n",
       "      <td>Effectiveness of a Problem-solving Interventio...</td>\n",
       "      <td>PRIDE</td>\n",
       "      <td>COMPLETED</td>\n",
       "      <td>Mental Health Issue (E.G., Depression, Psychos...</td>\n",
       "      <td>BEHAVIORAL: PRIDE 'Step 1' problem-solving int...</td>\n",
       "      <td>Sangath</td>\n",
       "      <td>Harvard Medical School (HMS and HSDM)|London S...</td>\n",
       "      <td>250.0</td>\n",
       "      <td>OTHER</td>\n",
       "      <td>INTERVENTIONAL</td>\n",
       "      <td>Allocation: RANDOMIZED|Intervention Model: PAR...</td>\n",
       "      <td>2018-08-20</td>\n",
       "      <td>2019-02-28</td>\n",
       "    </tr>\n",
       "    <tr>\n",
       "      <th>1</th>\n",
       "      <td>NCT05992571</td>\n",
       "      <td>Oral Ketone Monoester Supplementation and Rest...</td>\n",
       "      <td></td>\n",
       "      <td>RECRUITING</td>\n",
       "      <td>Cerebrovascular Function|Cognition</td>\n",
       "      <td>OTHER: Placebo|DIETARY_SUPPLEMENT: β-OHB</td>\n",
       "      <td>McMaster University</td>\n",
       "      <td>Alzheimer's Society of Brant, Haldimand Norfol...</td>\n",
       "      <td>30.0</td>\n",
       "      <td>OTHER</td>\n",
       "      <td>INTERVENTIONAL</td>\n",
       "      <td>Allocation: RANDOMIZED|Intervention Model: CRO...</td>\n",
       "      <td>2023-10-25</td>\n",
       "      <td>2024-08</td>\n",
       "    </tr>\n",
       "    <tr>\n",
       "      <th>2</th>\n",
       "      <td>NCT00237471</td>\n",
       "      <td>Impact of Tight Glycaemic Control in Acute Myo...</td>\n",
       "      <td></td>\n",
       "      <td>TERMINATED</td>\n",
       "      <td>Myocardial Infarct|Hyperglycemia</td>\n",
       "      <td>DRUG: Insulin (tight blood glucose control)</td>\n",
       "      <td>Melbourne Health</td>\n",
       "      <td>National Health and Medical Research Council, ...</td>\n",
       "      <td>40.0</td>\n",
       "      <td>OTHER</td>\n",
       "      <td>INTERVENTIONAL</td>\n",
       "      <td>Allocation: RANDOMIZED|Intervention Model: PAR...</td>\n",
       "      <td>2005-10</td>\n",
       "      <td>2006-05</td>\n",
       "    </tr>\n",
       "    <tr>\n",
       "      <th>3</th>\n",
       "      <td>NCT03820271</td>\n",
       "      <td>New Prognostic Predictive Models of Mortality ...</td>\n",
       "      <td>SUPERMELD</td>\n",
       "      <td>RECRUITING</td>\n",
       "      <td>Decompensated Cirrhosis|Liver Transplantation</td>\n",
       "      <td>OTHER: SuperMELD</td>\n",
       "      <td>Assistance Publique - Hôpitaux de Paris</td>\n",
       "      <td></td>\n",
       "      <td>500.0</td>\n",
       "      <td>OTHER</td>\n",
       "      <td>INTERVENTIONAL</td>\n",
       "      <td>Allocation: NA|Intervention Model: SINGLE_GROU...</td>\n",
       "      <td>2020-10-01</td>\n",
       "      <td>2023-10-01</td>\n",
       "    </tr>\n",
       "    <tr>\n",
       "      <th>4</th>\n",
       "      <td>NCT06229171</td>\n",
       "      <td>InTake Care: Development and Validation of an ...</td>\n",
       "      <td>InTakeCare</td>\n",
       "      <td>NOT_YET_RECRUITING</td>\n",
       "      <td>Hypertension|Treatment Adherence and Complianc...</td>\n",
       "      <td>OTHER: adherence support system based on a voc...</td>\n",
       "      <td>Istituto Auxologico Italiano</td>\n",
       "      <td>Istituti Clinici Scientifici Maugeri SpA|Polit...</td>\n",
       "      <td>206.0</td>\n",
       "      <td>OTHER</td>\n",
       "      <td>INTERVENTIONAL</td>\n",
       "      <td>Allocation: RANDOMIZED|Intervention Model: PAR...</td>\n",
       "      <td>2024-10-01</td>\n",
       "      <td>2026-04-01</td>\n",
       "    </tr>\n",
       "    <tr>\n",
       "      <th>...</th>\n",
       "      <td>...</td>\n",
       "      <td>...</td>\n",
       "      <td>...</td>\n",
       "      <td>...</td>\n",
       "      <td>...</td>\n",
       "      <td>...</td>\n",
       "      <td>...</td>\n",
       "      <td>...</td>\n",
       "      <td>...</td>\n",
       "      <td>...</td>\n",
       "      <td>...</td>\n",
       "      <td>...</td>\n",
       "      <td>...</td>\n",
       "      <td>...</td>\n",
       "    </tr>\n",
       "    <tr>\n",
       "      <th>483417</th>\n",
       "      <td>NCT02975895</td>\n",
       "      <td>Outcome of Different IOLs in Patients With and...</td>\n",
       "      <td></td>\n",
       "      <td>COMPLETED</td>\n",
       "      <td>Uveitis|Cataract|Inflammation|Posterior Capsul...</td>\n",
       "      <td>DEVICE: Hydrophobic IOL: Vivinex (HOYA)|DEVICE...</td>\n",
       "      <td>Vastra Gotaland Region</td>\n",
       "      <td></td>\n",
       "      <td>56.0</td>\n",
       "      <td>OTHER_GOV</td>\n",
       "      <td>INTERVENTIONAL</td>\n",
       "      <td>Allocation: RANDOMIZED|Intervention Model: PAR...</td>\n",
       "      <td>2016-12-30</td>\n",
       "      <td>2022-03-17</td>\n",
       "    </tr>\n",
       "    <tr>\n",
       "      <th>483418</th>\n",
       "      <td>NCT03332095</td>\n",
       "      <td>Evaluating the Pharmacokinetics, Safety, and T...</td>\n",
       "      <td></td>\n",
       "      <td>COMPLETED</td>\n",
       "      <td>HIV Infections</td>\n",
       "      <td>DRUG: Doravirine (DOR)|DRUG: Doravirine/Lamivu...</td>\n",
       "      <td>National Institute of Allergy and Infectious D...</td>\n",
       "      <td></td>\n",
       "      <td>55.0</td>\n",
       "      <td>NIH</td>\n",
       "      <td>INTERVENTIONAL</td>\n",
       "      <td>Allocation: NON_RANDOMIZED|Intervention Model:...</td>\n",
       "      <td>2018-07-02</td>\n",
       "      <td>2022-05-25</td>\n",
       "    </tr>\n",
       "    <tr>\n",
       "      <th>483419</th>\n",
       "      <td>NCT05191095</td>\n",
       "      <td>The Accuracy of Human Endoscopic Detection of ...</td>\n",
       "      <td></td>\n",
       "      <td>COMPLETED</td>\n",
       "      <td>Colorectal Polyp</td>\n",
       "      <td></td>\n",
       "      <td>University Hospital, Ghent</td>\n",
       "      <td></td>\n",
       "      <td>82.0</td>\n",
       "      <td>OTHER</td>\n",
       "      <td>OBSERVATIONAL</td>\n",
       "      <td>Observational Model: |Time Perspective: p</td>\n",
       "      <td>2021-03-01</td>\n",
       "      <td>2021-06-01</td>\n",
       "    </tr>\n",
       "    <tr>\n",
       "      <th>483420</th>\n",
       "      <td>NCT01388595</td>\n",
       "      <td>Fluticasone and Salmeterol in Allergic Rhinitis</td>\n",
       "      <td></td>\n",
       "      <td>COMPLETED</td>\n",
       "      <td>Allergic Rhinitis</td>\n",
       "      <td>DRUG: FLUTICASONE PROPRIONATE|DRUG: Salmeterol...</td>\n",
       "      <td>University of Dundee</td>\n",
       "      <td></td>\n",
       "      <td>23.0</td>\n",
       "      <td>OTHER</td>\n",
       "      <td>INTERVENTIONAL</td>\n",
       "      <td>Allocation: RANDOMIZED|Intervention Model: CRO...</td>\n",
       "      <td>2006-11</td>\n",
       "      <td>2010-10</td>\n",
       "    </tr>\n",
       "    <tr>\n",
       "      <th>483421</th>\n",
       "      <td>NCT00382395</td>\n",
       "      <td>SOLX Gold Shunt Versus Control Implant: Random...</td>\n",
       "      <td></td>\n",
       "      <td>SUSPENDED</td>\n",
       "      <td>Glaucoma|Glaucoma, Open Angle</td>\n",
       "      <td>DEVICE: SOLX Gold Shunt GMS-plus|DEVICE: Ahmed...</td>\n",
       "      <td>SOLX, Inc.</td>\n",
       "      <td></td>\n",
       "      <td>180.0</td>\n",
       "      <td>INDUSTRY</td>\n",
       "      <td>INTERVENTIONAL</td>\n",
       "      <td>Allocation: RANDOMIZED|Intervention Model: PAR...</td>\n",
       "      <td>2005-11</td>\n",
       "      <td>2017-07</td>\n",
       "    </tr>\n",
       "  </tbody>\n",
       "</table>\n",
       "<p>483422 rows × 14 columns</p>\n",
       "</div>"
      ],
      "text/plain": [
       "                 Id                                        Study Title  \\\n",
       "0       NCT03630471  Effectiveness of a Problem-solving Interventio...   \n",
       "1       NCT05992571  Oral Ketone Monoester Supplementation and Rest...   \n",
       "2       NCT00237471  Impact of Tight Glycaemic Control in Acute Myo...   \n",
       "3       NCT03820271  New Prognostic Predictive Models of Mortality ...   \n",
       "4       NCT06229171  InTake Care: Development and Validation of an ...   \n",
       "...             ...                                                ...   \n",
       "483417  NCT02975895  Outcome of Different IOLs in Patients With and...   \n",
       "483418  NCT03332095  Evaluating the Pharmacokinetics, Safety, and T...   \n",
       "483419  NCT05191095  The Accuracy of Human Endoscopic Detection of ...   \n",
       "483420  NCT01388595    Fluticasone and Salmeterol in Allergic Rhinitis   \n",
       "483421  NCT00382395  SOLX Gold Shunt Versus Control Implant: Random...   \n",
       "\n",
       "           Acronym              Status  \\\n",
       "0            PRIDE           COMPLETED   \n",
       "1                           RECRUITING   \n",
       "2                           TERMINATED   \n",
       "3        SUPERMELD          RECRUITING   \n",
       "4       InTakeCare  NOT_YET_RECRUITING   \n",
       "...            ...                 ...   \n",
       "483417                       COMPLETED   \n",
       "483418                       COMPLETED   \n",
       "483419                       COMPLETED   \n",
       "483420                       COMPLETED   \n",
       "483421                       SUSPENDED   \n",
       "\n",
       "                                               Conditions  \\\n",
       "0       Mental Health Issue (E.G., Depression, Psychos...   \n",
       "1                      Cerebrovascular Function|Cognition   \n",
       "2                        Myocardial Infarct|Hyperglycemia   \n",
       "3           Decompensated Cirrhosis|Liver Transplantation   \n",
       "4       Hypertension|Treatment Adherence and Complianc...   \n",
       "...                                                   ...   \n",
       "483417  Uveitis|Cataract|Inflammation|Posterior Capsul...   \n",
       "483418                                     HIV Infections   \n",
       "483419                                   Colorectal Polyp   \n",
       "483420                                  Allergic Rhinitis   \n",
       "483421                      Glaucoma|Glaucoma, Open Angle   \n",
       "\n",
       "                                            Interventions  \\\n",
       "0       BEHAVIORAL: PRIDE 'Step 1' problem-solving int...   \n",
       "1                OTHER: Placebo|DIETARY_SUPPLEMENT: β-OHB   \n",
       "2             DRUG: Insulin (tight blood glucose control)   \n",
       "3                                        OTHER: SuperMELD   \n",
       "4       OTHER: adherence support system based on a voc...   \n",
       "...                                                   ...   \n",
       "483417  DEVICE: Hydrophobic IOL: Vivinex (HOYA)|DEVICE...   \n",
       "483418  DRUG: Doravirine (DOR)|DRUG: Doravirine/Lamivu...   \n",
       "483419                                                      \n",
       "483420  DRUG: FLUTICASONE PROPRIONATE|DRUG: Salmeterol...   \n",
       "483421  DEVICE: SOLX Gold Shunt GMS-plus|DEVICE: Ahmed...   \n",
       "\n",
       "                                                  Sponsor  \\\n",
       "0                                                 Sangath   \n",
       "1                                     McMaster University   \n",
       "2                                        Melbourne Health   \n",
       "3                 Assistance Publique - Hôpitaux de Paris   \n",
       "4                            Istituto Auxologico Italiano   \n",
       "...                                                   ...   \n",
       "483417                             Vastra Gotaland Region   \n",
       "483418  National Institute of Allergy and Infectious D...   \n",
       "483419                         University Hospital, Ghent   \n",
       "483420                               University of Dundee   \n",
       "483421                                         SOLX, Inc.   \n",
       "\n",
       "                                            Collaborators Enrollment  \\\n",
       "0       Harvard Medical School (HMS and HSDM)|London S...      250.0   \n",
       "1       Alzheimer's Society of Brant, Haldimand Norfol...       30.0   \n",
       "2       National Health and Medical Research Council, ...       40.0   \n",
       "3                                                              500.0   \n",
       "4       Istituti Clinici Scientifici Maugeri SpA|Polit...      206.0   \n",
       "...                                                   ...        ...   \n",
       "483417                                                          56.0   \n",
       "483418                                                          55.0   \n",
       "483419                                                          82.0   \n",
       "483420                                                          23.0   \n",
       "483421                                                         180.0   \n",
       "\n",
       "       Funder Type            Type  \\\n",
       "0            OTHER  INTERVENTIONAL   \n",
       "1            OTHER  INTERVENTIONAL   \n",
       "2            OTHER  INTERVENTIONAL   \n",
       "3            OTHER  INTERVENTIONAL   \n",
       "4            OTHER  INTERVENTIONAL   \n",
       "...            ...             ...   \n",
       "483417   OTHER_GOV  INTERVENTIONAL   \n",
       "483418         NIH  INTERVENTIONAL   \n",
       "483419       OTHER   OBSERVATIONAL   \n",
       "483420       OTHER  INTERVENTIONAL   \n",
       "483421    INDUSTRY  INTERVENTIONAL   \n",
       "\n",
       "                                             Study Design       Start  \\\n",
       "0       Allocation: RANDOMIZED|Intervention Model: PAR...  2018-08-20   \n",
       "1       Allocation: RANDOMIZED|Intervention Model: CRO...  2023-10-25   \n",
       "2       Allocation: RANDOMIZED|Intervention Model: PAR...     2005-10   \n",
       "3       Allocation: NA|Intervention Model: SINGLE_GROU...  2020-10-01   \n",
       "4       Allocation: RANDOMIZED|Intervention Model: PAR...  2024-10-01   \n",
       "...                                                   ...         ...   \n",
       "483417  Allocation: RANDOMIZED|Intervention Model: PAR...  2016-12-30   \n",
       "483418  Allocation: NON_RANDOMIZED|Intervention Model:...  2018-07-02   \n",
       "483419          Observational Model: |Time Perspective: p  2021-03-01   \n",
       "483420  Allocation: RANDOMIZED|Intervention Model: CRO...     2006-11   \n",
       "483421  Allocation: RANDOMIZED|Intervention Model: PAR...     2005-11   \n",
       "\n",
       "        Completion  \n",
       "0       2019-02-28  \n",
       "1          2024-08  \n",
       "2          2006-05  \n",
       "3       2023-10-01  \n",
       "4       2026-04-01  \n",
       "...            ...  \n",
       "483417  2022-03-17  \n",
       "483418  2022-05-25  \n",
       "483419  2021-06-01  \n",
       "483420     2010-10  \n",
       "483421     2017-07  \n",
       "\n",
       "[483422 rows x 14 columns]"
      ]
     },
     "execution_count": 16,
     "metadata": {},
     "output_type": "execute_result"
    }
   ],
   "source": [
    "df.toPandas()"
   ]
  },
  {
   "cell_type": "code",
   "execution_count": 17,
   "metadata": {
    "application/vnd.databricks.v1+cell": {
     "cellMetadata": {
      "byteLimit": 2048000,
      "rowLimit": 10000
     },
     "inputWidgets": {},
     "nuid": "072d98e4-7249-47f2-aad0-a234a33c0667",
     "showTitle": false,
     "title": ""
    }
   },
   "outputs": [
    {
     "name": "stderr",
     "output_type": "stream",
     "text": [
      "                                                                                \r"
     ]
    },
    {
     "name": "stdout",
     "output_type": "stream",
     "text": [
      "Column Id has 0 null values.\n"
     ]
    },
    {
     "name": "stderr",
     "output_type": "stream",
     "text": [
      "                                                                                \r"
     ]
    },
    {
     "name": "stdout",
     "output_type": "stream",
     "text": [
      "Column Study Title has 0 null values.\n"
     ]
    },
    {
     "name": "stderr",
     "output_type": "stream",
     "text": [
      "                                                                                \r"
     ]
    },
    {
     "name": "stdout",
     "output_type": "stream",
     "text": [
      "Column Acronym has 0 null values.\n"
     ]
    },
    {
     "name": "stderr",
     "output_type": "stream",
     "text": [
      "                                                                                \r"
     ]
    },
    {
     "name": "stdout",
     "output_type": "stream",
     "text": [
      "Column Status has 0 null values.\n"
     ]
    },
    {
     "name": "stderr",
     "output_type": "stream",
     "text": [
      "                                                                                \r"
     ]
    },
    {
     "name": "stdout",
     "output_type": "stream",
     "text": [
      "Column Conditions has 0 null values.\n"
     ]
    },
    {
     "name": "stderr",
     "output_type": "stream",
     "text": [
      "                                                                                \r"
     ]
    },
    {
     "name": "stdout",
     "output_type": "stream",
     "text": [
      "Column Interventions has 0 null values.\n"
     ]
    },
    {
     "name": "stderr",
     "output_type": "stream",
     "text": [
      "                                                                                \r"
     ]
    },
    {
     "name": "stdout",
     "output_type": "stream",
     "text": [
      "Column Sponsor has 0 null values.\n"
     ]
    },
    {
     "name": "stderr",
     "output_type": "stream",
     "text": [
      "                                                                                \r"
     ]
    },
    {
     "name": "stdout",
     "output_type": "stream",
     "text": [
      "Column Collaborators has 1 null values.\n"
     ]
    },
    {
     "name": "stderr",
     "output_type": "stream",
     "text": [
      "                                                                                \r"
     ]
    },
    {
     "name": "stdout",
     "output_type": "stream",
     "text": [
      "Column Enrollment has 2 null values.\n"
     ]
    },
    {
     "name": "stderr",
     "output_type": "stream",
     "text": [
      "                                                                                \r"
     ]
    },
    {
     "name": "stdout",
     "output_type": "stream",
     "text": [
      "Column Funder Type has 2 null values.\n"
     ]
    },
    {
     "name": "stderr",
     "output_type": "stream",
     "text": [
      "                                                                                \r"
     ]
    },
    {
     "name": "stdout",
     "output_type": "stream",
     "text": [
      "Column Type has 2 null values.\n"
     ]
    },
    {
     "name": "stderr",
     "output_type": "stream",
     "text": [
      "                                                                                \r"
     ]
    },
    {
     "name": "stdout",
     "output_type": "stream",
     "text": [
      "Column Study Design has 2 null values.\n"
     ]
    },
    {
     "name": "stderr",
     "output_type": "stream",
     "text": [
      "                                                                                \r"
     ]
    },
    {
     "name": "stdout",
     "output_type": "stream",
     "text": [
      "Column Start has 2 null values.\n"
     ]
    },
    {
     "name": "stderr",
     "output_type": "stream",
     "text": [
      "[Stage 90:====================================================>   (15 + 1) / 16]\r"
     ]
    },
    {
     "name": "stdout",
     "output_type": "stream",
     "text": [
      "Column Completion has 2 null values.\n"
     ]
    },
    {
     "name": "stderr",
     "output_type": "stream",
     "text": [
      "                                                                                \r"
     ]
    }
   ],
   "source": [
    "for col_name in df.columns:\n",
    "    null_count = df.filter(F.col(col_name).isNull()).count()\n",
    "    print(f'Column {col_name} has {null_count} null values.')"
   ]
  },
  {
   "cell_type": "code",
   "execution_count": 18,
   "metadata": {
    "application/vnd.databricks.v1+cell": {
     "cellMetadata": {
      "byteLimit": 2048000,
      "rowLimit": 10000
     },
     "inputWidgets": {},
     "nuid": "ec7eacea-2eae-492a-9319-baa2d5f6ac34",
     "showTitle": false,
     "title": ""
    }
   },
   "outputs": [
    {
     "name": "stdout",
     "output_type": "stream",
     "text": [
      "Schema of the dataframe: \n",
      "root\n",
      " |-- Id: string (nullable = true)\n",
      " |-- Study Title: string (nullable = true)\n",
      " |-- Acronym: string (nullable = true)\n",
      " |-- Status: string (nullable = true)\n",
      " |-- Conditions: string (nullable = true)\n",
      " |-- Interventions: string (nullable = true)\n",
      " |-- Sponsor: string (nullable = true)\n",
      " |-- Collaborators: string (nullable = true)\n",
      " |-- Enrollment: string (nullable = true)\n",
      " |-- Funder Type: string (nullable = true)\n",
      " |-- Type: string (nullable = true)\n",
      " |-- Study Design: string (nullable = true)\n",
      " |-- Start: string (nullable = true)\n",
      " |-- Completion: string (nullable = true)\n",
      "\n"
     ]
    }
   ],
   "source": [
    "print(f\"Schema of the dataframe: \")\n",
    "df.printSchema()"
   ]
  },
  {
   "cell_type": "code",
   "execution_count": 19,
   "metadata": {
    "application/vnd.databricks.v1+cell": {
     "cellMetadata": {
      "byteLimit": 2048000,
      "rowLimit": 10000
     },
     "inputWidgets": {},
     "nuid": "f8681f57-d0a7-4029-b831-26ea462d6456",
     "showTitle": false,
     "title": ""
    }
   },
   "outputs": [
    {
     "name": "stderr",
     "output_type": "stream",
     "text": [
      "[Stage 93:>                                                       (0 + 16) / 16]\r"
     ]
    },
    {
     "name": "stderr",
     "output_type": "stream",
     "text": [
      "                                                                                \r"
     ]
    },
    {
     "name": "stdout",
     "output_type": "stream",
     "text": [
      "Null valued rows in Id: []\n",
      " \n",
      "\n"
     ]
    },
    {
     "name": "stderr",
     "output_type": "stream",
     "text": [
      "                                                                                \r"
     ]
    },
    {
     "name": "stdout",
     "output_type": "stream",
     "text": [
      "Null valued rows in Study Title: []\n",
      " \n",
      "\n"
     ]
    },
    {
     "name": "stderr",
     "output_type": "stream",
     "text": [
      "                                                                                \r"
     ]
    },
    {
     "name": "stdout",
     "output_type": "stream",
     "text": [
      "Null valued rows in Acronym: []\n",
      " \n",
      "\n"
     ]
    },
    {
     "name": "stderr",
     "output_type": "stream",
     "text": [
      "                                                                                \r"
     ]
    },
    {
     "name": "stdout",
     "output_type": "stream",
     "text": [
      "Null valued rows in Status: []\n",
      " \n",
      "\n"
     ]
    },
    {
     "name": "stderr",
     "output_type": "stream",
     "text": [
      "                                                                                \r"
     ]
    },
    {
     "name": "stdout",
     "output_type": "stream",
     "text": [
      "Null valued rows in Conditions: []\n",
      " \n",
      "\n"
     ]
    },
    {
     "name": "stderr",
     "output_type": "stream",
     "text": [
      "                                                                                \r"
     ]
    },
    {
     "name": "stdout",
     "output_type": "stream",
     "text": [
      "Null valued rows in Interventions: []\n",
      " \n",
      "\n"
     ]
    },
    {
     "name": "stderr",
     "output_type": "stream",
     "text": [
      "                                                                                \r"
     ]
    },
    {
     "name": "stdout",
     "output_type": "stream",
     "text": [
      "Null valued rows in Sponsor: []\n",
      " \n",
      "\n"
     ]
    },
    {
     "name": "stderr",
     "output_type": "stream",
     "text": [
      "                                                                                \r"
     ]
    },
    {
     "name": "stdout",
     "output_type": "stream",
     "text": [
      "Null valued rows in Collaborators: [Row(Id='taluña|Public Health Service of Madrid|Public Health Service of Galicia|Cantabria Health Service', Study Title='97.0', Acronym='OTHER_GOV', Status='INTERVENTIONAL', Conditions='Allocation: RANDOMIZED|Intervention Model: PARALLEL|Masking: SINGLE (OUTCOMES_ASSESSOR)|Primary Purpose: TREATMENT', Interventions='2005-01', Sponsor='2010-06', Collaborators=None, Enrollment=None, Funder Type=None, Type=None, Study Design=None, Start=None, Completion=None)]\n",
      " \n",
      "\n"
     ]
    },
    {
     "name": "stderr",
     "output_type": "stream",
     "text": [
      "                                                                                \r"
     ]
    },
    {
     "name": "stdout",
     "output_type": "stream",
     "text": [
      "Null valued rows in Enrollment: [Row(Id='NCT00146315', Study Title='ESCAP: Supervised Exercise for Patients With Coronary Heart Disease in the Primary Care Setting', Acronym='', Status='COMPLETED', Conditions='Coronary Heart Disease', Interventions='BEHAVIORAL: Supervised exercise on a stationary bicycle, 3-5 days a week|BEHAVIORAL: Secondary prevention program for coronary heart disease', Sponsor='Basque Health Service', Collaborators='Preventive Services and Health Promotion Research Network|Castilla-La Mancha Health Service|Castilla-León Health Service|Dalt Sant Joan primary care center (Balears Islans Health Service)|Public Health Service of C', Enrollment=None, Funder Type=None, Type=None, Study Design=None, Start=None, Completion=None), Row(Id='taluña|Public Health Service of Madrid|Public Health Service of Galicia|Cantabria Health Service', Study Title='97.0', Acronym='OTHER_GOV', Status='INTERVENTIONAL', Conditions='Allocation: RANDOMIZED|Intervention Model: PARALLEL|Masking: SINGLE (OUTCOMES_ASSESSOR)|Primary Purpose: TREATMENT', Interventions='2005-01', Sponsor='2010-06', Collaborators=None, Enrollment=None, Funder Type=None, Type=None, Study Design=None, Start=None, Completion=None)]\n",
      " \n",
      "\n"
     ]
    },
    {
     "name": "stderr",
     "output_type": "stream",
     "text": [
      "                                                                                \r"
     ]
    },
    {
     "name": "stdout",
     "output_type": "stream",
     "text": [
      "Null valued rows in Funder Type: [Row(Id='NCT00146315', Study Title='ESCAP: Supervised Exercise for Patients With Coronary Heart Disease in the Primary Care Setting', Acronym='', Status='COMPLETED', Conditions='Coronary Heart Disease', Interventions='BEHAVIORAL: Supervised exercise on a stationary bicycle, 3-5 days a week|BEHAVIORAL: Secondary prevention program for coronary heart disease', Sponsor='Basque Health Service', Collaborators='Preventive Services and Health Promotion Research Network|Castilla-La Mancha Health Service|Castilla-León Health Service|Dalt Sant Joan primary care center (Balears Islans Health Service)|Public Health Service of C', Enrollment=None, Funder Type=None, Type=None, Study Design=None, Start=None, Completion=None), Row(Id='taluña|Public Health Service of Madrid|Public Health Service of Galicia|Cantabria Health Service', Study Title='97.0', Acronym='OTHER_GOV', Status='INTERVENTIONAL', Conditions='Allocation: RANDOMIZED|Intervention Model: PARALLEL|Masking: SINGLE (OUTCOMES_ASSESSOR)|Primary Purpose: TREATMENT', Interventions='2005-01', Sponsor='2010-06', Collaborators=None, Enrollment=None, Funder Type=None, Type=None, Study Design=None, Start=None, Completion=None)]\n",
      " \n",
      "\n"
     ]
    },
    {
     "name": "stderr",
     "output_type": "stream",
     "text": [
      "                                                                                \r"
     ]
    },
    {
     "name": "stdout",
     "output_type": "stream",
     "text": [
      "Null valued rows in Type: [Row(Id='NCT00146315', Study Title='ESCAP: Supervised Exercise for Patients With Coronary Heart Disease in the Primary Care Setting', Acronym='', Status='COMPLETED', Conditions='Coronary Heart Disease', Interventions='BEHAVIORAL: Supervised exercise on a stationary bicycle, 3-5 days a week|BEHAVIORAL: Secondary prevention program for coronary heart disease', Sponsor='Basque Health Service', Collaborators='Preventive Services and Health Promotion Research Network|Castilla-La Mancha Health Service|Castilla-León Health Service|Dalt Sant Joan primary care center (Balears Islans Health Service)|Public Health Service of C', Enrollment=None, Funder Type=None, Type=None, Study Design=None, Start=None, Completion=None), Row(Id='taluña|Public Health Service of Madrid|Public Health Service of Galicia|Cantabria Health Service', Study Title='97.0', Acronym='OTHER_GOV', Status='INTERVENTIONAL', Conditions='Allocation: RANDOMIZED|Intervention Model: PARALLEL|Masking: SINGLE (OUTCOMES_ASSESSOR)|Primary Purpose: TREATMENT', Interventions='2005-01', Sponsor='2010-06', Collaborators=None, Enrollment=None, Funder Type=None, Type=None, Study Design=None, Start=None, Completion=None)]\n",
      " \n",
      "\n"
     ]
    },
    {
     "name": "stderr",
     "output_type": "stream",
     "text": [
      "                                                                                \r"
     ]
    },
    {
     "name": "stdout",
     "output_type": "stream",
     "text": [
      "Null valued rows in Study Design: [Row(Id='NCT00146315', Study Title='ESCAP: Supervised Exercise for Patients With Coronary Heart Disease in the Primary Care Setting', Acronym='', Status='COMPLETED', Conditions='Coronary Heart Disease', Interventions='BEHAVIORAL: Supervised exercise on a stationary bicycle, 3-5 days a week|BEHAVIORAL: Secondary prevention program for coronary heart disease', Sponsor='Basque Health Service', Collaborators='Preventive Services and Health Promotion Research Network|Castilla-La Mancha Health Service|Castilla-León Health Service|Dalt Sant Joan primary care center (Balears Islans Health Service)|Public Health Service of C', Enrollment=None, Funder Type=None, Type=None, Study Design=None, Start=None, Completion=None), Row(Id='taluña|Public Health Service of Madrid|Public Health Service of Galicia|Cantabria Health Service', Study Title='97.0', Acronym='OTHER_GOV', Status='INTERVENTIONAL', Conditions='Allocation: RANDOMIZED|Intervention Model: PARALLEL|Masking: SINGLE (OUTCOMES_ASSESSOR)|Primary Purpose: TREATMENT', Interventions='2005-01', Sponsor='2010-06', Collaborators=None, Enrollment=None, Funder Type=None, Type=None, Study Design=None, Start=None, Completion=None)]\n",
      " \n",
      "\n"
     ]
    },
    {
     "name": "stderr",
     "output_type": "stream",
     "text": [
      "                                                                                \r"
     ]
    },
    {
     "name": "stdout",
     "output_type": "stream",
     "text": [
      "Null valued rows in Start: [Row(Id='NCT00146315', Study Title='ESCAP: Supervised Exercise for Patients With Coronary Heart Disease in the Primary Care Setting', Acronym='', Status='COMPLETED', Conditions='Coronary Heart Disease', Interventions='BEHAVIORAL: Supervised exercise on a stationary bicycle, 3-5 days a week|BEHAVIORAL: Secondary prevention program for coronary heart disease', Sponsor='Basque Health Service', Collaborators='Preventive Services and Health Promotion Research Network|Castilla-La Mancha Health Service|Castilla-León Health Service|Dalt Sant Joan primary care center (Balears Islans Health Service)|Public Health Service of C', Enrollment=None, Funder Type=None, Type=None, Study Design=None, Start=None, Completion=None), Row(Id='taluña|Public Health Service of Madrid|Public Health Service of Galicia|Cantabria Health Service', Study Title='97.0', Acronym='OTHER_GOV', Status='INTERVENTIONAL', Conditions='Allocation: RANDOMIZED|Intervention Model: PARALLEL|Masking: SINGLE (OUTCOMES_ASSESSOR)|Primary Purpose: TREATMENT', Interventions='2005-01', Sponsor='2010-06', Collaborators=None, Enrollment=None, Funder Type=None, Type=None, Study Design=None, Start=None, Completion=None)]\n",
      " \n",
      "\n"
     ]
    },
    {
     "name": "stderr",
     "output_type": "stream",
     "text": [
      "[Stage 106:===================================================>   (15 + 1) / 16]\r"
     ]
    },
    {
     "name": "stdout",
     "output_type": "stream",
     "text": [
      "Null valued rows in Completion: [Row(Id='NCT00146315', Study Title='ESCAP: Supervised Exercise for Patients With Coronary Heart Disease in the Primary Care Setting', Acronym='', Status='COMPLETED', Conditions='Coronary Heart Disease', Interventions='BEHAVIORAL: Supervised exercise on a stationary bicycle, 3-5 days a week|BEHAVIORAL: Secondary prevention program for coronary heart disease', Sponsor='Basque Health Service', Collaborators='Preventive Services and Health Promotion Research Network|Castilla-La Mancha Health Service|Castilla-León Health Service|Dalt Sant Joan primary care center (Balears Islans Health Service)|Public Health Service of C', Enrollment=None, Funder Type=None, Type=None, Study Design=None, Start=None, Completion=None), Row(Id='taluña|Public Health Service of Madrid|Public Health Service of Galicia|Cantabria Health Service', Study Title='97.0', Acronym='OTHER_GOV', Status='INTERVENTIONAL', Conditions='Allocation: RANDOMIZED|Intervention Model: PARALLEL|Masking: SINGLE (OUTCOMES_ASSESSOR)|Primary Purpose: TREATMENT', Interventions='2005-01', Sponsor='2010-06', Collaborators=None, Enrollment=None, Funder Type=None, Type=None, Study Design=None, Start=None, Completion=None)]\n",
      " \n",
      "\n"
     ]
    },
    {
     "name": "stderr",
     "output_type": "stream",
     "text": [
      "                                                                                \r"
     ]
    }
   ],
   "source": [
    "for col in df.columns:\n",
    "    null_rows = df.filter(F.col(col).isNull()).collect()\n",
    "    print(f\"Null valued rows in {col}: {null_rows}\\n \\n\")"
   ]
  },
  {
   "cell_type": "code",
   "execution_count": 20,
   "metadata": {
    "application/vnd.databricks.v1+cell": {
     "cellMetadata": {
      "byteLimit": 2048000,
      "rowLimit": 10000
     },
     "inputWidgets": {},
     "nuid": "c91debf5-713d-4bf8-8eca-7cff091fb4e7",
     "showTitle": false,
     "title": ""
    }
   },
   "outputs": [
    {
     "name": "stderr",
     "output_type": "stream",
     "text": [
      "                                                                                \r"
     ]
    }
   ],
   "source": [
    "df.write.format('csv').option('header',True).option('delimiter', ',').save('clinicaltrial_2023_cleaned_data.csv')"
   ]
  },
  {
   "cell_type": "code",
   "execution_count": 21,
   "metadata": {
    "application/vnd.databricks.v1+cell": {
     "cellMetadata": {
      "byteLimit": 2048000,
      "rowLimit": 10000
     },
     "inputWidgets": {},
     "nuid": "db12dc1d-f6e3-4116-8ef9-082e688cabfe",
     "showTitle": false,
     "title": ""
    }
   },
   "outputs": [
    {
     "name": "stderr",
     "output_type": "stream",
     "text": [
      "[Stage 108:>                                                      (0 + 16) / 16]\r"
     ]
    },
    {
     "name": "stderr",
     "output_type": "stream",
     "text": [
      "                                                                                \r"
     ]
    },
    {
     "name": "stdout",
     "output_type": "stream",
     "text": [
      "Column: Id, Null Values: 0\n"
     ]
    },
    {
     "name": "stderr",
     "output_type": "stream",
     "text": [
      "                                                                                \r"
     ]
    },
    {
     "name": "stdout",
     "output_type": "stream",
     "text": [
      "Column: Study Title, Null Values: 0\n"
     ]
    },
    {
     "name": "stderr",
     "output_type": "stream",
     "text": [
      "                                                                                \r"
     ]
    },
    {
     "name": "stdout",
     "output_type": "stream",
     "text": [
      "Column: Acronym, Null Values: 0\n"
     ]
    },
    {
     "name": "stderr",
     "output_type": "stream",
     "text": [
      "                                                                                \r"
     ]
    },
    {
     "name": "stdout",
     "output_type": "stream",
     "text": [
      "Column: Status, Null Values: 0\n"
     ]
    },
    {
     "name": "stderr",
     "output_type": "stream",
     "text": [
      "                                                                                \r"
     ]
    },
    {
     "name": "stdout",
     "output_type": "stream",
     "text": [
      "Column: Conditions, Null Values: 0\n"
     ]
    },
    {
     "name": "stderr",
     "output_type": "stream",
     "text": [
      "                                                                                \r"
     ]
    },
    {
     "name": "stdout",
     "output_type": "stream",
     "text": [
      "Column: Interventions, Null Values: 0\n"
     ]
    },
    {
     "name": "stderr",
     "output_type": "stream",
     "text": [
      "                                                                                \r"
     ]
    },
    {
     "name": "stdout",
     "output_type": "stream",
     "text": [
      "Column: Sponsor, Null Values: 0\n"
     ]
    },
    {
     "name": "stderr",
     "output_type": "stream",
     "text": [
      "                                                                                \r"
     ]
    },
    {
     "name": "stdout",
     "output_type": "stream",
     "text": [
      "Column: Collaborators, Null Values: 1\n"
     ]
    },
    {
     "name": "stderr",
     "output_type": "stream",
     "text": [
      "                                                                                \r"
     ]
    },
    {
     "name": "stdout",
     "output_type": "stream",
     "text": [
      "Column: Enrollment, Null Values: 2\n"
     ]
    },
    {
     "name": "stderr",
     "output_type": "stream",
     "text": [
      "                                                                                \r"
     ]
    },
    {
     "name": "stdout",
     "output_type": "stream",
     "text": [
      "Column: Funder Type, Null Values: 2\n"
     ]
    },
    {
     "name": "stderr",
     "output_type": "stream",
     "text": [
      "                                                                                \r"
     ]
    },
    {
     "name": "stdout",
     "output_type": "stream",
     "text": [
      "Column: Type, Null Values: 2\n"
     ]
    },
    {
     "name": "stderr",
     "output_type": "stream",
     "text": [
      "                                                                                \r"
     ]
    },
    {
     "name": "stdout",
     "output_type": "stream",
     "text": [
      "Column: Study Design, Null Values: 2\n"
     ]
    },
    {
     "name": "stderr",
     "output_type": "stream",
     "text": [
      "                                                                                \r"
     ]
    },
    {
     "name": "stdout",
     "output_type": "stream",
     "text": [
      "Column: Start, Null Values: 2\n"
     ]
    },
    {
     "name": "stderr",
     "output_type": "stream",
     "text": [
      "[Stage 147:==================================>                    (10 + 6) / 16]\r"
     ]
    },
    {
     "name": "stdout",
     "output_type": "stream",
     "text": [
      "Column: Completion, Null Values: 2\n"
     ]
    },
    {
     "name": "stderr",
     "output_type": "stream",
     "text": [
      "                                                                                \r"
     ]
    }
   ],
   "source": [
    "def check_null_values(df):\n",
    "  \"\"\"\n",
    "  This function iterates through each column and prints the number of null values.\n",
    "  \"\"\"\n",
    "  # Get all column names\n",
    "  column_names = df.columns\n",
    "\n",
    "  # Iterate through columns and count null values\n",
    "  for col_name in column_names:\n",
    "    null_count = df.filter(F.col(col_name).isNull()).count()\n",
    "    print(f\"Column: {col_name}, Null Values: {null_count}\")\n",
    "\n",
    "# Example usage\n",
    "check_null_values(df)"
   ]
  },
  {
   "cell_type": "code",
   "execution_count": 22,
   "metadata": {
    "application/vnd.databricks.v1+cell": {
     "cellMetadata": {
      "byteLimit": 2048000,
      "rowLimit": 10000
     },
     "inputWidgets": {},
     "nuid": "b36fb467-2152-4974-ba72-3541002cbf46",
     "showTitle": false,
     "title": ""
    }
   },
   "outputs": [
    {
     "data": {
      "text/plain": [
       "DataFrame[Id: string, Study Title: string, Acronym: string, Status: string, Conditions: string, Interventions: string, Sponsor: string, Collaborators: string, Enrollment: string, Funder Type: string, Type: string, Study Design: string, Start: string, Completion: string]"
      ]
     },
     "metadata": {},
     "output_type": "display_data"
    }
   ],
   "source": [
    "display(df)"
   ]
  },
  {
   "cell_type": "code",
   "execution_count": 23,
   "metadata": {
    "application/vnd.databricks.v1+cell": {
     "cellMetadata": {
      "byteLimit": 2048000,
      "rowLimit": 10000
     },
     "inputWidgets": {},
     "nuid": "cb9a9269-bd0d-4de7-8cdb-85a9657c0de5",
     "showTitle": false,
     "title": ""
    }
   },
   "outputs": [
    {
     "name": "stderr",
     "output_type": "stream",
     "text": [
      "24/03/07 17:34:33 ERROR FileOutputCommitter: Mkdirs failed to create file:/home/download/datacsv/_temporary/0\n",
      "24/03/07 17:34:34 ERROR Executor: Exception in task 14.0 in stage 150.0 (TID 1052)\n",
      "java.io.IOException: Mkdirs failed to create file:/home/download/datacsv/_temporary/0/_temporary/attempt_20240307173433920426583035832744_0150_m_000014_1052 (exists=false, cwd=file:/run/media/i666sapple/VOLUME2/VS CODE/Project_personal)\n",
      "\tat org.apache.hadoop.fs.ChecksumFileSystem.create(ChecksumFileSystem.java:515)\n",
      "\tat org.apache.hadoop.fs.ChecksumFileSystem.create(ChecksumFileSystem.java:500)\n",
      "\tat org.apache.hadoop.fs.FileSystem.create(FileSystem.java:1195)\n",
      "\tat org.apache.hadoop.fs.FileSystem.create(FileSystem.java:1175)\n",
      "\tat org.apache.hadoop.fs.FileSystem.create(FileSystem.java:1064)\n",
      "\tat org.apache.spark.sql.execution.datasources.CodecStreams$.createOutputStream(CodecStreams.scala:81)\n",
      "\tat org.apache.spark.sql.execution.datasources.CodecStreams$.createOutputStreamWriter(CodecStreams.scala:92)\n",
      "\tat org.apache.spark.sql.execution.datasources.csv.CsvOutputWriter.<init>(CsvOutputWriter.scala:38)\n",
      "\tat org.apache.spark.sql.execution.datasources.csv.CSVFileFormat$$anon$1.newInstance(CSVFileFormat.scala:84)\n",
      "\tat org.apache.spark.sql.execution.datasources.SingleDirectoryDataWriter.newOutputWriter(FileFormatDataWriter.scala:161)\n",
      "\tat org.apache.spark.sql.execution.datasources.SingleDirectoryDataWriter.<init>(FileFormatDataWriter.scala:146)\n",
      "\tat org.apache.spark.sql.execution.datasources.FileFormatWriter$.executeTask(FileFormatWriter.scala:389)\n",
      "\tat org.apache.spark.sql.execution.datasources.WriteFilesExec.$anonfun$doExecuteWrite$1(WriteFiles.scala:100)\n",
      "\tat org.apache.spark.rdd.RDD.$anonfun$mapPartitionsInternal$2(RDD.scala:893)\n",
      "\tat org.apache.spark.rdd.RDD.$anonfun$mapPartitionsInternal$2$adapted(RDD.scala:893)\n",
      "\tat org.apache.spark.rdd.MapPartitionsRDD.compute(MapPartitionsRDD.scala:52)\n",
      "\tat org.apache.spark.rdd.RDD.computeOrReadCheckpoint(RDD.scala:367)\n",
      "\tat org.apache.spark.rdd.RDD.iterator(RDD.scala:331)\n",
      "\tat org.apache.spark.scheduler.ResultTask.runTask(ResultTask.scala:93)\n",
      "\tat org.apache.spark.TaskContext.runTaskWithListeners(TaskContext.scala:166)\n",
      "\tat org.apache.spark.scheduler.Task.run(Task.scala:141)\n",
      "\tat org.apache.spark.executor.Executor$TaskRunner.$anonfun$run$4(Executor.scala:620)\n",
      "\tat org.apache.spark.util.SparkErrorUtils.tryWithSafeFinally(SparkErrorUtils.scala:64)\n",
      "\tat org.apache.spark.util.SparkErrorUtils.tryWithSafeFinally$(SparkErrorUtils.scala:61)\n",
      "\tat org.apache.spark.util.Utils$.tryWithSafeFinally(Utils.scala:94)\n",
      "\tat org.apache.spark.executor.Executor$TaskRunner.run(Executor.scala:623)\n",
      "\tat java.base/java.util.concurrent.ThreadPoolExecutor.runWorker(ThreadPoolExecutor.java:1136)\n",
      "\tat java.base/java.util.concurrent.ThreadPoolExecutor$Worker.run(ThreadPoolExecutor.java:635)\n",
      "\tat java.base/java.lang.Thread.run(Thread.java:840)\n",
      "24/03/07 17:34:34 ERROR Executor: Exception in task 9.0 in stage 150.0 (TID 1047)\n",
      "java.io.IOException: Mkdirs failed to create file:/home/download/datacsv/_temporary/0/_temporary/attempt_20240307173433920426583035832744_0150_m_000009_1047 (exists=false, cwd=file:/run/media/i666sapple/VOLUME2/VS CODE/Project_personal)\n",
      "\tat org.apache.hadoop.fs.ChecksumFileSystem.create(ChecksumFileSystem.java:515)\n",
      "\tat org.apache.hadoop.fs.ChecksumFileSystem.create(ChecksumFileSystem.java:500)\n",
      "\tat org.apache.hadoop.fs.FileSystem.create(FileSystem.java:1195)\n",
      "\tat org.apache.hadoop.fs.FileSystem.create(FileSystem.java:1175)\n",
      "\tat org.apache.hadoop.fs.FileSystem.create(FileSystem.java:1064)\n",
      "\tat org.apache.spark.sql.execution.datasources.CodecStreams$.createOutputStream(CodecStreams.scala:81)\n",
      "\tat org.apache.spark.sql.execution.datasources.CodecStreams$.createOutputStreamWriter(CodecStreams.scala:92)\n",
      "\tat org.apache.spark.sql.execution.datasources.csv.CsvOutputWriter.<init>(CsvOutputWriter.scala:38)\n",
      "\tat org.apache.spark.sql.execution.datasources.csv.CSVFileFormat$$anon$1.newInstance(CSVFileFormat.scala:84)\n",
      "\tat org.apache.spark.sql.execution.datasources.SingleDirectoryDataWriter.newOutputWriter(FileFormatDataWriter.scala:161)\n",
      "\tat org.apache.spark.sql.execution.datasources.SingleDirectoryDataWriter.<init>(FileFormatDataWriter.scala:146)\n",
      "\tat org.apache.spark.sql.execution.datasources.FileFormatWriter$.executeTask(FileFormatWriter.scala:389)\n",
      "\tat org.apache.spark.sql.execution.datasources.WriteFilesExec.$anonfun$doExecuteWrite$1(WriteFiles.scala:100)\n",
      "\tat org.apache.spark.rdd.RDD.$anonfun$mapPartitionsInternal$2(RDD.scala:893)\n",
      "\tat org.apache.spark.rdd.RDD.$anonfun$mapPartitionsInternal$2$adapted(RDD.scala:893)\n",
      "\tat org.apache.spark.rdd.MapPartitionsRDD.compute(MapPartitionsRDD.scala:52)\n",
      "\tat org.apache.spark.rdd.RDD.computeOrReadCheckpoint(RDD.scala:367)\n",
      "\tat org.apache.spark.rdd.RDD.iterator(RDD.scala:331)\n",
      "\tat org.apache.spark.scheduler.ResultTask.runTask(ResultTask.scala:93)\n",
      "\tat org.apache.spark.TaskContext.runTaskWithListeners(TaskContext.scala:166)\n",
      "\tat org.apache.spark.scheduler.Task.run(Task.scala:141)\n",
      "\tat org.apache.spark.executor.Executor$TaskRunner.$anonfun$run$4(Executor.scala:620)\n",
      "\tat org.apache.spark.util.SparkErrorUtils.tryWithSafeFinally(SparkErrorUtils.scala:64)\n",
      "\tat org.apache.spark.util.SparkErrorUtils.tryWithSafeFinally$(SparkErrorUtils.scala:61)\n",
      "\tat org.apache.spark.util.Utils$.tryWithSafeFinally(Utils.scala:94)\n",
      "\tat org.apache.spark.executor.Executor$TaskRunner.run(Executor.scala:623)\n",
      "\tat java.base/java.util.concurrent.ThreadPoolExecutor.runWorker(ThreadPoolExecutor.java:1136)\n",
      "\tat java.base/java.util.concurrent.ThreadPoolExecutor$Worker.run(ThreadPoolExecutor.java:635)\n",
      "\tat java.base/java.lang.Thread.run(Thread.java:840)\n",
      "24/03/07 17:34:34 ERROR Executor: Exception in task 4.0 in stage 150.0 (TID 1042)\n",
      "java.io.IOException: Mkdirs failed to create file:/home/download/datacsv/_temporary/0/_temporary/attempt_20240307173433920426583035832744_0150_m_000004_1042 (exists=false, cwd=file:/run/media/i666sapple/VOLUME2/VS CODE/Project_personal)\n",
      "\tat org.apache.hadoop.fs.ChecksumFileSystem.create(ChecksumFileSystem.java:515)\n",
      "\tat org.apache.hadoop.fs.ChecksumFileSystem.create(ChecksumFileSystem.java:500)\n",
      "\tat org.apache.hadoop.fs.FileSystem.create(FileSystem.java:1195)\n",
      "\tat org.apache.hadoop.fs.FileSystem.create(FileSystem.java:1175)\n",
      "\tat org.apache.hadoop.fs.FileSystem.create(FileSystem.java:1064)\n",
      "\tat org.apache.spark.sql.execution.datasources.CodecStreams$.createOutputStream(CodecStreams.scala:81)\n",
      "\tat org.apache.spark.sql.execution.datasources.CodecStreams$.createOutputStreamWriter(CodecStreams.scala:92)\n",
      "\tat org.apache.spark.sql.execution.datasources.csv.CsvOutputWriter.<init>(CsvOutputWriter.scala:38)\n",
      "\tat org.apache.spark.sql.execution.datasources.csv.CSVFileFormat$$anon$1.newInstance(CSVFileFormat.scala:84)\n",
      "\tat org.apache.spark.sql.execution.datasources.SingleDirectoryDataWriter.newOutputWriter(FileFormatDataWriter.scala:161)\n",
      "\tat org.apache.spark.sql.execution.datasources.SingleDirectoryDataWriter.<init>(FileFormatDataWriter.scala:146)\n",
      "\tat org.apache.spark.sql.execution.datasources.FileFormatWriter$.executeTask(FileFormatWriter.scala:389)\n",
      "\tat org.apache.spark.sql.execution.datasources.WriteFilesExec.$anonfun$doExecuteWrite$1(WriteFiles.scala:100)\n",
      "\tat org.apache.spark.rdd.RDD.$anonfun$mapPartitionsInternal$2(RDD.scala:893)\n",
      "\tat org.apache.spark.rdd.RDD.$anonfun$mapPartitionsInternal$2$adapted(RDD.scala:893)\n",
      "\tat org.apache.spark.rdd.MapPartitionsRDD.compute(MapPartitionsRDD.scala:52)\n",
      "\tat org.apache.spark.rdd.RDD.computeOrReadCheckpoint(RDD.scala:367)\n",
      "\tat org.apache.spark.rdd.RDD.iterator(RDD.scala:331)\n",
      "\tat org.apache.spark.scheduler.ResultTask.runTask(ResultTask.scala:93)\n",
      "\tat org.apache.spark.TaskContext.runTaskWithListeners(TaskContext.scala:166)\n",
      "\tat org.apache.spark.scheduler.Task.run(Task.scala:141)\n",
      "\tat org.apache.spark.executor.Executor$TaskRunner.$anonfun$run$4(Executor.scala:620)\n",
      "\tat org.apache.spark.util.SparkErrorUtils.tryWithSafeFinally(SparkErrorUtils.scala:64)\n",
      "\tat org.apache.spark.util.SparkErrorUtils.tryWithSafeFinally$(SparkErrorUtils.scala:61)\n",
      "\tat org.apache.spark.util.Utils$.tryWithSafeFinally(Utils.scala:94)\n",
      "\tat org.apache.spark.executor.Executor$TaskRunner.run(Executor.scala:623)\n",
      "\tat java.base/java.util.concurrent.ThreadPoolExecutor.runWorker(ThreadPoolExecutor.java:1136)\n",
      "\tat java.base/java.util.concurrent.ThreadPoolExecutor$Worker.run(ThreadPoolExecutor.java:635)\n",
      "\tat java.base/java.lang.Thread.run(Thread.java:840)\n",
      "24/03/07 17:34:34 ERROR Executor: Exception in task 3.0 in stage 150.0 (TID 1041)\n",
      "java.io.IOException: Mkdirs failed to create file:/home/download/datacsv/_temporary/0/_temporary/attempt_20240307173433920426583035832744_0150_m_000003_1041 (exists=false, cwd=file:/run/media/i666sapple/VOLUME2/VS CODE/Project_personal)\n",
      "\tat org.apache.hadoop.fs.ChecksumFileSystem.create(ChecksumFileSystem.java:515)\n",
      "\tat org.apache.hadoop.fs.ChecksumFileSystem.create(ChecksumFileSystem.java:500)\n",
      "\tat org.apache.hadoop.fs.FileSystem.create(FileSystem.java:1195)\n",
      "\tat org.apache.hadoop.fs.FileSystem.create(FileSystem.java:1175)\n",
      "\tat org.apache.hadoop.fs.FileSystem.create(FileSystem.java:1064)\n",
      "\tat org.apache.spark.sql.execution.datasources.CodecStreams$.createOutputStream(CodecStreams.scala:81)\n",
      "\tat org.apache.spark.sql.execution.datasources.CodecStreams$.createOutputStreamWriter(CodecStreams.scala:92)\n",
      "\tat org.apache.spark.sql.execution.datasources.csv.CsvOutputWriter.<init>(CsvOutputWriter.scala:38)\n",
      "\tat org.apache.spark.sql.execution.datasources.csv.CSVFileFormat$$anon$1.newInstance(CSVFileFormat.scala:84)\n",
      "\tat org.apache.spark.sql.execution.datasources.SingleDirectoryDataWriter.newOutputWriter(FileFormatDataWriter.scala:161)\n",
      "\tat org.apache.spark.sql.execution.datasources.SingleDirectoryDataWriter.<init>(FileFormatDataWriter.scala:146)\n",
      "\tat org.apache.spark.sql.execution.datasources.FileFormatWriter$.executeTask(FileFormatWriter.scala:389)\n",
      "\tat org.apache.spark.sql.execution.datasources.WriteFilesExec.$anonfun$doExecuteWrite$1(WriteFiles.scala:100)\n",
      "\tat org.apache.spark.rdd.RDD.$anonfun$mapPartitionsInternal$2(RDD.scala:893)\n",
      "\tat org.apache.spark.rdd.RDD.$anonfun$mapPartitionsInternal$2$adapted(RDD.scala:893)\n",
      "\tat org.apache.spark.rdd.MapPartitionsRDD.compute(MapPartitionsRDD.scala:52)\n",
      "\tat org.apache.spark.rdd.RDD.computeOrReadCheckpoint(RDD.scala:367)\n",
      "\tat org.apache.spark.rdd.RDD.iterator(RDD.scala:331)\n",
      "\tat org.apache.spark.scheduler.ResultTask.runTask(ResultTask.scala:93)\n",
      "\tat org.apache.spark.TaskContext.runTaskWithListeners(TaskContext.scala:166)\n",
      "\tat org.apache.spark.scheduler.Task.run(Task.scala:141)\n",
      "\tat org.apache.spark.executor.Executor$TaskRunner.$anonfun$run$4(Executor.scala:620)\n",
      "\tat org.apache.spark.util.SparkErrorUtils.tryWithSafeFinally(SparkErrorUtils.scala:64)\n",
      "\tat org.apache.spark.util.SparkErrorUtils.tryWithSafeFinally$(SparkErrorUtils.scala:61)\n",
      "\tat org.apache.spark.util.Utils$.tryWithSafeFinally(Utils.scala:94)\n",
      "\tat org.apache.spark.executor.Executor$TaskRunner.run(Executor.scala:623)\n",
      "\tat java.base/java.util.concurrent.ThreadPoolExecutor.runWorker(ThreadPoolExecutor.java:1136)\n",
      "\tat java.base/java.util.concurrent.ThreadPoolExecutor$Worker.run(ThreadPoolExecutor.java:635)\n",
      "\tat java.base/java.lang.Thread.run(Thread.java:840)\n",
      "24/03/07 17:34:34 ERROR Executor: Exception in task 0.0 in stage 150.0 (TID 1038)\n",
      "java.io.IOException: Mkdirs failed to create file:/home/download/datacsv/_temporary/0/_temporary/attempt_20240307173433920426583035832744_0150_m_000000_1038 (exists=false, cwd=file:/run/media/i666sapple/VOLUME2/VS CODE/Project_personal)\n",
      "\tat org.apache.hadoop.fs.ChecksumFileSystem.create(ChecksumFileSystem.java:515)\n",
      "\tat org.apache.hadoop.fs.ChecksumFileSystem.create(ChecksumFileSystem.java:500)\n",
      "\tat org.apache.hadoop.fs.FileSystem.create(FileSystem.java:1195)\n",
      "\tat org.apache.hadoop.fs.FileSystem.create(FileSystem.java:1175)\n",
      "\tat org.apache.hadoop.fs.FileSystem.create(FileSystem.java:1064)\n",
      "\tat org.apache.spark.sql.execution.datasources.CodecStreams$.createOutputStream(CodecStreams.scala:81)\n",
      "\tat org.apache.spark.sql.execution.datasources.CodecStreams$.createOutputStreamWriter(CodecStreams.scala:92)\n",
      "\tat org.apache.spark.sql.execution.datasources.csv.CsvOutputWriter.<init>(CsvOutputWriter.scala:38)\n",
      "\tat org.apache.spark.sql.execution.datasources.csv.CSVFileFormat$$anon$1.newInstance(CSVFileFormat.scala:84)\n",
      "\tat org.apache.spark.sql.execution.datasources.SingleDirectoryDataWriter.newOutputWriter(FileFormatDataWriter.scala:161)\n",
      "\tat org.apache.spark.sql.execution.datasources.SingleDirectoryDataWriter.<init>(FileFormatDataWriter.scala:146)\n",
      "\tat org.apache.spark.sql.execution.datasources.FileFormatWriter$.executeTask(FileFormatWriter.scala:389)\n",
      "\tat org.apache.spark.sql.execution.datasources.WriteFilesExec.$anonfun$doExecuteWrite$1(WriteFiles.scala:100)\n",
      "\tat org.apache.spark.rdd.RDD.$anonfun$mapPartitionsInternal$2(RDD.scala:893)\n",
      "\tat org.apache.spark.rdd.RDD.$anonfun$mapPartitionsInternal$2$adapted(RDD.scala:893)\n",
      "\tat org.apache.spark.rdd.MapPartitionsRDD.compute(MapPartitionsRDD.scala:52)\n",
      "\tat org.apache.spark.rdd.RDD.computeOrReadCheckpoint(RDD.scala:367)\n",
      "\tat org.apache.spark.rdd.RDD.iterator(RDD.scala:331)\n",
      "\tat org.apache.spark.scheduler.ResultTask.runTask(ResultTask.scala:93)\n",
      "\tat org.apache.spark.TaskContext.runTaskWithListeners(TaskContext.scala:166)\n",
      "\tat org.apache.spark.scheduler.Task.run(Task.scala:141)\n",
      "\tat org.apache.spark.executor.Executor$TaskRunner.$anonfun$run$4(Executor.scala:620)\n",
      "\tat org.apache.spark.util.SparkErrorUtils.tryWithSafeFinally(SparkErrorUtils.scala:64)\n",
      "\tat org.apache.spark.util.SparkErrorUtils.tryWithSafeFinally$(SparkErrorUtils.scala:61)\n",
      "\tat org.apache.spark.util.Utils$.tryWithSafeFinally(Utils.scala:94)\n",
      "\tat org.apache.spark.executor.Executor$TaskRunner.run(Executor.scala:623)\n",
      "\tat java.base/java.util.concurrent.ThreadPoolExecutor.runWorker(ThreadPoolExecutor.java:1136)\n",
      "\tat java.base/java.util.concurrent.ThreadPoolExecutor$Worker.run(ThreadPoolExecutor.java:635)\n",
      "\tat java.base/java.lang.Thread.run(Thread.java:840)\n",
      "24/03/07 17:34:34 ERROR Executor: Exception in task 10.0 in stage 150.0 (TID 1048)\n",
      "java.io.IOException: Mkdirs failed to create file:/home/download/datacsv/_temporary/0/_temporary/attempt_20240307173433920426583035832744_0150_m_000010_1048 (exists=false, cwd=file:/run/media/i666sapple/VOLUME2/VS CODE/Project_personal)\n",
      "\tat org.apache.hadoop.fs.ChecksumFileSystem.create(ChecksumFileSystem.java:515)\n",
      "\tat org.apache.hadoop.fs.ChecksumFileSystem.create(ChecksumFileSystem.java:500)\n",
      "\tat org.apache.hadoop.fs.FileSystem.create(FileSystem.java:1195)\n",
      "\tat org.apache.hadoop.fs.FileSystem.create(FileSystem.java:1175)\n",
      "\tat org.apache.hadoop.fs.FileSystem.create(FileSystem.java:1064)\n",
      "\tat org.apache.spark.sql.execution.datasources.CodecStreams$.createOutputStream(CodecStreams.scala:81)\n",
      "\tat org.apache.spark.sql.execution.datasources.CodecStreams$.createOutputStreamWriter(CodecStreams.scala:92)\n",
      "\tat org.apache.spark.sql.execution.datasources.csv.CsvOutputWriter.<init>(CsvOutputWriter.scala:38)\n",
      "\tat org.apache.spark.sql.execution.datasources.csv.CSVFileFormat$$anon$1.newInstance(CSVFileFormat.scala:84)\n",
      "\tat org.apache.spark.sql.execution.datasources.SingleDirectoryDataWriter.newOutputWriter(FileFormatDataWriter.scala:161)\n",
      "\tat org.apache.spark.sql.execution.datasources.SingleDirectoryDataWriter.<init>(FileFormatDataWriter.scala:146)\n",
      "\tat org.apache.spark.sql.execution.datasources.FileFormatWriter$.executeTask(FileFormatWriter.scala:389)\n",
      "\tat org.apache.spark.sql.execution.datasources.WriteFilesExec.$anonfun$doExecuteWrite$1(WriteFiles.scala:100)\n",
      "\tat org.apache.spark.rdd.RDD.$anonfun$mapPartitionsInternal$2(RDD.scala:893)\n",
      "\tat org.apache.spark.rdd.RDD.$anonfun$mapPartitionsInternal$2$adapted(RDD.scala:893)\n",
      "\tat org.apache.spark.rdd.MapPartitionsRDD.compute(MapPartitionsRDD.scala:52)\n",
      "\tat org.apache.spark.rdd.RDD.computeOrReadCheckpoint(RDD.scala:367)\n",
      "\tat org.apache.spark.rdd.RDD.iterator(RDD.scala:331)\n",
      "\tat org.apache.spark.scheduler.ResultTask.runTask(ResultTask.scala:93)\n",
      "\tat org.apache.spark.TaskContext.runTaskWithListeners(TaskContext.scala:166)\n",
      "\tat org.apache.spark.scheduler.Task.run(Task.scala:141)\n",
      "\tat org.apache.spark.executor.Executor$TaskRunner.$anonfun$run$4(Executor.scala:620)\n",
      "\tat org.apache.spark.util.SparkErrorUtils.tryWithSafeFinally(SparkErrorUtils.scala:64)\n",
      "\tat org.apache.spark.util.SparkErrorUtils.tryWithSafeFinally$(SparkErrorUtils.scala:61)\n",
      "\tat org.apache.spark.util.Utils$.tryWithSafeFinally(Utils.scala:94)\n",
      "\tat org.apache.spark.executor.Executor$TaskRunner.run(Executor.scala:623)\n",
      "\tat java.base/java.util.concurrent.ThreadPoolExecutor.runWorker(ThreadPoolExecutor.java:1136)\n",
      "\tat java.base/java.util.concurrent.ThreadPoolExecutor$Worker.run(ThreadPoolExecutor.java:635)\n",
      "\tat java.base/java.lang.Thread.run(Thread.java:840)\n",
      "24/03/07 17:34:34 ERROR Executor: Exception in task 12.0 in stage 150.0 (TID 1050)\n",
      "java.io.IOException: Mkdirs failed to create file:/home/download/datacsv/_temporary/0/_temporary/attempt_20240307173433920426583035832744_0150_m_000012_1050 (exists=false, cwd=file:/run/media/i666sapple/VOLUME2/VS CODE/Project_personal)\n",
      "\tat org.apache.hadoop.fs.ChecksumFileSystem.create(ChecksumFileSystem.java:515)\n",
      "\tat org.apache.hadoop.fs.ChecksumFileSystem.create(ChecksumFileSystem.java:500)\n",
      "\tat org.apache.hadoop.fs.FileSystem.create(FileSystem.java:1195)\n",
      "\tat org.apache.hadoop.fs.FileSystem.create(FileSystem.java:1175)\n",
      "\tat org.apache.hadoop.fs.FileSystem.create(FileSystem.java:1064)\n",
      "\tat org.apache.spark.sql.execution.datasources.CodecStreams$.createOutputStream(CodecStreams.scala:81)\n",
      "\tat org.apache.spark.sql.execution.datasources.CodecStreams$.createOutputStreamWriter(CodecStreams.scala:92)\n",
      "\tat org.apache.spark.sql.execution.datasources.csv.CsvOutputWriter.<init>(CsvOutputWriter.scala:38)\n",
      "\tat org.apache.spark.sql.execution.datasources.csv.CSVFileFormat$$anon$1.newInstance(CSVFileFormat.scala:84)\n",
      "\tat org.apache.spark.sql.execution.datasources.SingleDirectoryDataWriter.newOutputWriter(FileFormatDataWriter.scala:161)\n",
      "\tat org.apache.spark.sql.execution.datasources.SingleDirectoryDataWriter.<init>(FileFormatDataWriter.scala:146)\n",
      "\tat org.apache.spark.sql.execution.datasources.FileFormatWriter$.executeTask(FileFormatWriter.scala:389)\n",
      "\tat org.apache.spark.sql.execution.datasources.WriteFilesExec.$anonfun$doExecuteWrite$1(WriteFiles.scala:100)\n",
      "\tat org.apache.spark.rdd.RDD.$anonfun$mapPartitionsInternal$2(RDD.scala:893)\n",
      "\tat org.apache.spark.rdd.RDD.$anonfun$mapPartitionsInternal$2$adapted(RDD.scala:893)\n",
      "\tat org.apache.spark.rdd.MapPartitionsRDD.compute(MapPartitionsRDD.scala:52)\n",
      "\tat org.apache.spark.rdd.RDD.computeOrReadCheckpoint(RDD.scala:367)\n",
      "\tat org.apache.spark.rdd.RDD.iterator(RDD.scala:331)\n",
      "\tat org.apache.spark.scheduler.ResultTask.runTask(ResultTask.scala:93)\n",
      "\tat org.apache.spark.TaskContext.runTaskWithListeners(TaskContext.scala:166)\n",
      "\tat org.apache.spark.scheduler.Task.run(Task.scala:141)\n",
      "\tat org.apache.spark.executor.Executor$TaskRunner.$anonfun$run$4(Executor.scala:620)\n",
      "\tat org.apache.spark.util.SparkErrorUtils.tryWithSafeFinally(SparkErrorUtils.scala:64)\n",
      "\tat org.apache.spark.util.SparkErrorUtils.tryWithSafeFinally$(SparkErrorUtils.scala:61)\n",
      "\tat org.apache.spark.util.Utils$.tryWithSafeFinally(Utils.scala:94)\n",
      "\tat org.apache.spark.executor.Executor$TaskRunner.run(Executor.scala:623)\n",
      "\tat java.base/java.util.concurrent.ThreadPoolExecutor.runWorker(ThreadPoolExecutor.java:1136)\n",
      "\tat java.base/java.util.concurrent.ThreadPoolExecutor$Worker.run(ThreadPoolExecutor.java:635)\n",
      "\tat java.base/java.lang.Thread.run(Thread.java:840)\n",
      "24/03/07 17:34:34 ERROR Executor: Exception in task 6.0 in stage 150.0 (TID 1044)\n",
      "java.io.IOException: Mkdirs failed to create file:/home/download/datacsv/_temporary/0/_temporary/attempt_20240307173433920426583035832744_0150_m_000006_1044 (exists=false, cwd=file:/run/media/i666sapple/VOLUME2/VS CODE/Project_personal)\n",
      "\tat org.apache.hadoop.fs.ChecksumFileSystem.create(ChecksumFileSystem.java:515)\n",
      "\tat org.apache.hadoop.fs.ChecksumFileSystem.create(ChecksumFileSystem.java:500)\n",
      "\tat org.apache.hadoop.fs.FileSystem.create(FileSystem.java:1195)\n",
      "\tat org.apache.hadoop.fs.FileSystem.create(FileSystem.java:1175)\n",
      "\tat org.apache.hadoop.fs.FileSystem.create(FileSystem.java:1064)\n",
      "\tat org.apache.spark.sql.execution.datasources.CodecStreams$.createOutputStream(CodecStreams.scala:81)\n",
      "\tat org.apache.spark.sql.execution.datasources.CodecStreams$.createOutputStreamWriter(CodecStreams.scala:92)\n",
      "\tat org.apache.spark.sql.execution.datasources.csv.CsvOutputWriter.<init>(CsvOutputWriter.scala:38)\n",
      "\tat org.apache.spark.sql.execution.datasources.csv.CSVFileFormat$$anon$1.newInstance(CSVFileFormat.scala:84)\n",
      "\tat org.apache.spark.sql.execution.datasources.SingleDirectoryDataWriter.newOutputWriter(FileFormatDataWriter.scala:161)\n",
      "\tat org.apache.spark.sql.execution.datasources.SingleDirectoryDataWriter.<init>(FileFormatDataWriter.scala:146)\n",
      "\tat org.apache.spark.sql.execution.datasources.FileFormatWriter$.executeTask(FileFormatWriter.scala:389)\n",
      "\tat org.apache.spark.sql.execution.datasources.WriteFilesExec.$anonfun$doExecuteWrite$1(WriteFiles.scala:100)\n",
      "\tat org.apache.spark.rdd.RDD.$anonfun$mapPartitionsInternal$2(RDD.scala:893)\n",
      "\tat org.apache.spark.rdd.RDD.$anonfun$mapPartitionsInternal$2$adapted(RDD.scala:893)\n",
      "\tat org.apache.spark.rdd.MapPartitionsRDD.compute(MapPartitionsRDD.scala:52)\n",
      "\tat org.apache.spark.rdd.RDD.computeOrReadCheckpoint(RDD.scala:367)\n",
      "\tat org.apache.spark.rdd.RDD.iterator(RDD.scala:331)\n",
      "\tat org.apache.spark.scheduler.ResultTask.runTask(ResultTask.scala:93)\n",
      "\tat org.apache.spark.TaskContext.runTaskWithListeners(TaskContext.scala:166)\n",
      "\tat org.apache.spark.scheduler.Task.run(Task.scala:141)\n",
      "\tat org.apache.spark.executor.Executor$TaskRunner.$anonfun$run$4(Executor.scala:620)\n",
      "\tat org.apache.spark.util.SparkErrorUtils.tryWithSafeFinally(SparkErrorUtils.scala:64)\n",
      "\tat org.apache.spark.util.SparkErrorUtils.tryWithSafeFinally$(SparkErrorUtils.scala:61)\n",
      "\tat org.apache.spark.util.Utils$.tryWithSafeFinally(Utils.scala:94)\n",
      "\tat org.apache.spark.executor.Executor$TaskRunner.run(Executor.scala:623)\n",
      "\tat java.base/java.util.concurrent.ThreadPoolExecutor.runWorker(ThreadPoolExecutor.java:1136)\n",
      "\tat java.base/java.util.concurrent.ThreadPoolExecutor$Worker.run(ThreadPoolExecutor.java:635)\n",
      "\tat java.base/java.lang.Thread.run(Thread.java:840)\n",
      "24/03/07 17:34:34 ERROR Executor: Exception in task 2.0 in stage 150.0 (TID 1040)\n",
      "java.io.IOException: Mkdirs failed to create file:/home/download/datacsv/_temporary/0/_temporary/attempt_20240307173433920426583035832744_0150_m_000002_1040 (exists=false, cwd=file:/run/media/i666sapple/VOLUME2/VS CODE/Project_personal)\n",
      "\tat org.apache.hadoop.fs.ChecksumFileSystem.create(ChecksumFileSystem.java:515)\n",
      "\tat org.apache.hadoop.fs.ChecksumFileSystem.create(ChecksumFileSystem.java:500)\n",
      "\tat org.apache.hadoop.fs.FileSystem.create(FileSystem.java:1195)\n",
      "\tat org.apache.hadoop.fs.FileSystem.create(FileSystem.java:1175)\n",
      "\tat org.apache.hadoop.fs.FileSystem.create(FileSystem.java:1064)\n",
      "\tat org.apache.spark.sql.execution.datasources.CodecStreams$.createOutputStream(CodecStreams.scala:81)\n",
      "\tat org.apache.spark.sql.execution.datasources.CodecStreams$.createOutputStreamWriter(CodecStreams.scala:92)\n",
      "\tat org.apache.spark.sql.execution.datasources.csv.CsvOutputWriter.<init>(CsvOutputWriter.scala:38)\n",
      "\tat org.apache.spark.sql.execution.datasources.csv.CSVFileFormat$$anon$1.newInstance(CSVFileFormat.scala:84)\n",
      "\tat org.apache.spark.sql.execution.datasources.SingleDirectoryDataWriter.newOutputWriter(FileFormatDataWriter.scala:161)\n",
      "\tat org.apache.spark.sql.execution.datasources.SingleDirectoryDataWriter.<init>(FileFormatDataWriter.scala:146)\n",
      "\tat org.apache.spark.sql.execution.datasources.FileFormatWriter$.executeTask(FileFormatWriter.scala:389)\n",
      "\tat org.apache.spark.sql.execution.datasources.WriteFilesExec.$anonfun$doExecuteWrite$1(WriteFiles.scala:100)\n",
      "\tat org.apache.spark.rdd.RDD.$anonfun$mapPartitionsInternal$2(RDD.scala:893)\n",
      "\tat org.apache.spark.rdd.RDD.$anonfun$mapPartitionsInternal$2$adapted(RDD.scala:893)\n",
      "\tat org.apache.spark.rdd.MapPartitionsRDD.compute(MapPartitionsRDD.scala:52)\n",
      "\tat org.apache.spark.rdd.RDD.computeOrReadCheckpoint(RDD.scala:367)\n",
      "\tat org.apache.spark.rdd.RDD.iterator(RDD.scala:331)\n",
      "\tat org.apache.spark.scheduler.ResultTask.runTask(ResultTask.scala:93)\n",
      "\tat org.apache.spark.TaskContext.runTaskWithListeners(TaskContext.scala:166)\n",
      "\tat org.apache.spark.scheduler.Task.run(Task.scala:141)\n",
      "\tat org.apache.spark.executor.Executor$TaskRunner.$anonfun$run$4(Executor.scala:620)\n",
      "\tat org.apache.spark.util.SparkErrorUtils.tryWithSafeFinally(SparkErrorUtils.scala:64)\n",
      "\tat org.apache.spark.util.SparkErrorUtils.tryWithSafeFinally$(SparkErrorUtils.scala:61)\n",
      "\tat org.apache.spark.util.Utils$.tryWithSafeFinally(Utils.scala:94)\n",
      "\tat org.apache.spark.executor.Executor$TaskRunner.run(Executor.scala:623)\n",
      "\tat java.base/java.util.concurrent.ThreadPoolExecutor.runWorker(ThreadPoolExecutor.java:1136)\n",
      "\tat java.base/java.util.concurrent.ThreadPoolExecutor$Worker.run(ThreadPoolExecutor.java:635)\n",
      "\tat java.base/java.lang.Thread.run(Thread.java:840)\n",
      "24/03/07 17:34:34 ERROR Executor: Exception in task 5.0 in stage 150.0 (TID 1043)\n",
      "java.io.IOException: Mkdirs failed to create file:/home/download/datacsv/_temporary/0/_temporary/attempt_20240307173433920426583035832744_0150_m_000005_1043 (exists=false, cwd=file:/run/media/i666sapple/VOLUME2/VS CODE/Project_personal)\n",
      "\tat org.apache.hadoop.fs.ChecksumFileSystem.create(ChecksumFileSystem.java:515)\n",
      "\tat org.apache.hadoop.fs.ChecksumFileSystem.create(ChecksumFileSystem.java:500)\n",
      "\tat org.apache.hadoop.fs.FileSystem.create(FileSystem.java:1195)\n",
      "\tat org.apache.hadoop.fs.FileSystem.create(FileSystem.java:1175)\n",
      "\tat org.apache.hadoop.fs.FileSystem.create(FileSystem.java:1064)\n",
      "\tat org.apache.spark.sql.execution.datasources.CodecStreams$.createOutputStream(CodecStreams.scala:81)\n",
      "\tat org.apache.spark.sql.execution.datasources.CodecStreams$.createOutputStreamWriter(CodecStreams.scala:92)\n",
      "\tat org.apache.spark.sql.execution.datasources.csv.CsvOutputWriter.<init>(CsvOutputWriter.scala:38)\n",
      "\tat org.apache.spark.sql.execution.datasources.csv.CSVFileFormat$$anon$1.newInstance(CSVFileFormat.scala:84)\n",
      "\tat org.apache.spark.sql.execution.datasources.SingleDirectoryDataWriter.newOutputWriter(FileFormatDataWriter.scala:161)\n",
      "\tat org.apache.spark.sql.execution.datasources.SingleDirectoryDataWriter.<init>(FileFormatDataWriter.scala:146)\n",
      "\tat org.apache.spark.sql.execution.datasources.FileFormatWriter$.executeTask(FileFormatWriter.scala:389)\n",
      "\tat org.apache.spark.sql.execution.datasources.WriteFilesExec.$anonfun$doExecuteWrite$1(WriteFiles.scala:100)\n",
      "\tat org.apache.spark.rdd.RDD.$anonfun$mapPartitionsInternal$2(RDD.scala:893)\n",
      "\tat org.apache.spark.rdd.RDD.$anonfun$mapPartitionsInternal$2$adapted(RDD.scala:893)\n",
      "\tat org.apache.spark.rdd.MapPartitionsRDD.compute(MapPartitionsRDD.scala:52)\n",
      "\tat org.apache.spark.rdd.RDD.computeOrReadCheckpoint(RDD.scala:367)\n",
      "\tat org.apache.spark.rdd.RDD.iterator(RDD.scala:331)\n",
      "\tat org.apache.spark.scheduler.ResultTask.runTask(ResultTask.scala:93)\n",
      "\tat org.apache.spark.TaskContext.runTaskWithListeners(TaskContext.scala:166)\n",
      "\tat org.apache.spark.scheduler.Task.run(Task.scala:141)\n",
      "\tat org.apache.spark.executor.Executor$TaskRunner.$anonfun$run$4(Executor.scala:620)\n",
      "\tat org.apache.spark.util.SparkErrorUtils.tryWithSafeFinally(SparkErrorUtils.scala:64)\n",
      "\tat org.apache.spark.util.SparkErrorUtils.tryWithSafeFinally$(SparkErrorUtils.scala:61)\n",
      "\tat org.apache.spark.util.Utils$.tryWithSafeFinally(Utils.scala:94)\n",
      "\tat org.apache.spark.executor.Executor$TaskRunner.run(Executor.scala:623)\n",
      "\tat java.base/java.util.concurrent.ThreadPoolExecutor.runWorker(ThreadPoolExecutor.java:1136)\n",
      "\tat java.base/java.util.concurrent.ThreadPoolExecutor$Worker.run(ThreadPoolExecutor.java:635)\n",
      "\tat java.base/java.lang.Thread.run(Thread.java:840)\n",
      "24/03/07 17:34:34 ERROR Executor: Exception in task 7.0 in stage 150.0 (TID 1045)\n",
      "java.io.IOException: Mkdirs failed to create file:/home/download/datacsv/_temporary/0/_temporary/attempt_20240307173433920426583035832744_0150_m_000007_1045 (exists=false, cwd=file:/run/media/i666sapple/VOLUME2/VS CODE/Project_personal)\n",
      "\tat org.apache.hadoop.fs.ChecksumFileSystem.create(ChecksumFileSystem.java:515)\n",
      "\tat org.apache.hadoop.fs.ChecksumFileSystem.create(ChecksumFileSystem.java:500)\n",
      "\tat org.apache.hadoop.fs.FileSystem.create(FileSystem.java:1195)\n",
      "\tat org.apache.hadoop.fs.FileSystem.create(FileSystem.java:1175)\n",
      "\tat org.apache.hadoop.fs.FileSystem.create(FileSystem.java:1064)\n",
      "\tat org.apache.spark.sql.execution.datasources.CodecStreams$.createOutputStream(CodecStreams.scala:81)\n",
      "\tat org.apache.spark.sql.execution.datasources.CodecStreams$.createOutputStreamWriter(CodecStreams.scala:92)\n",
      "\tat org.apache.spark.sql.execution.datasources.csv.CsvOutputWriter.<init>(CsvOutputWriter.scala:38)\n",
      "\tat org.apache.spark.sql.execution.datasources.csv.CSVFileFormat$$anon$1.newInstance(CSVFileFormat.scala:84)\n",
      "\tat org.apache.spark.sql.execution.datasources.SingleDirectoryDataWriter.newOutputWriter(FileFormatDataWriter.scala:161)\n",
      "\tat org.apache.spark.sql.execution.datasources.SingleDirectoryDataWriter.<init>(FileFormatDataWriter.scala:146)\n",
      "\tat org.apache.spark.sql.execution.datasources.FileFormatWriter$.executeTask(FileFormatWriter.scala:389)\n",
      "\tat org.apache.spark.sql.execution.datasources.WriteFilesExec.$anonfun$doExecuteWrite$1(WriteFiles.scala:100)\n",
      "\tat org.apache.spark.rdd.RDD.$anonfun$mapPartitionsInternal$2(RDD.scala:893)\n",
      "\tat org.apache.spark.rdd.RDD.$anonfun$mapPartitionsInternal$2$adapted(RDD.scala:893)\n",
      "\tat org.apache.spark.rdd.MapPartitionsRDD.compute(MapPartitionsRDD.scala:52)\n",
      "\tat org.apache.spark.rdd.RDD.computeOrReadCheckpoint(RDD.scala:367)\n",
      "\tat org.apache.spark.rdd.RDD.iterator(RDD.scala:331)\n",
      "\tat org.apache.spark.scheduler.ResultTask.runTask(ResultTask.scala:93)\n",
      "\tat org.apache.spark.TaskContext.runTaskWithListeners(TaskContext.scala:166)\n",
      "\tat org.apache.spark.scheduler.Task.run(Task.scala:141)\n",
      "\tat org.apache.spark.executor.Executor$TaskRunner.$anonfun$run$4(Executor.scala:620)\n",
      "\tat org.apache.spark.util.SparkErrorUtils.tryWithSafeFinally(SparkErrorUtils.scala:64)\n",
      "\tat org.apache.spark.util.SparkErrorUtils.tryWithSafeFinally$(SparkErrorUtils.scala:61)\n",
      "\tat org.apache.spark.util.Utils$.tryWithSafeFinally(Utils.scala:94)\n",
      "\tat org.apache.spark.executor.Executor$TaskRunner.run(Executor.scala:623)\n",
      "\tat java.base/java.util.concurrent.ThreadPoolExecutor.runWorker(ThreadPoolExecutor.java:1136)\n",
      "\tat java.base/java.util.concurrent.ThreadPoolExecutor$Worker.run(ThreadPoolExecutor.java:635)\n",
      "\tat java.base/java.lang.Thread.run(Thread.java:840)\n",
      "24/03/07 17:34:34 ERROR Executor: Exception in task 13.0 in stage 150.0 (TID 1051)\n",
      "java.io.IOException: Mkdirs failed to create file:/home/download/datacsv/_temporary/0/_temporary/attempt_20240307173433920426583035832744_0150_m_000013_1051 (exists=false, cwd=file:/run/media/i666sapple/VOLUME2/VS CODE/Project_personal)\n",
      "\tat org.apache.hadoop.fs.ChecksumFileSystem.create(ChecksumFileSystem.java:515)\n",
      "\tat org.apache.hadoop.fs.ChecksumFileSystem.create(ChecksumFileSystem.java:500)\n",
      "\tat org.apache.hadoop.fs.FileSystem.create(FileSystem.java:1195)\n",
      "\tat org.apache.hadoop.fs.FileSystem.create(FileSystem.java:1175)\n",
      "\tat org.apache.hadoop.fs.FileSystem.create(FileSystem.java:1064)\n",
      "\tat org.apache.spark.sql.execution.datasources.CodecStreams$.createOutputStream(CodecStreams.scala:81)\n",
      "\tat org.apache.spark.sql.execution.datasources.CodecStreams$.createOutputStreamWriter(CodecStreams.scala:92)\n",
      "\tat org.apache.spark.sql.execution.datasources.csv.CsvOutputWriter.<init>(CsvOutputWriter.scala:38)\n",
      "\tat org.apache.spark.sql.execution.datasources.csv.CSVFileFormat$$anon$1.newInstance(CSVFileFormat.scala:84)\n",
      "\tat org.apache.spark.sql.execution.datasources.SingleDirectoryDataWriter.newOutputWriter(FileFormatDataWriter.scala:161)\n",
      "\tat org.apache.spark.sql.execution.datasources.SingleDirectoryDataWriter.<init>(FileFormatDataWriter.scala:146)\n",
      "\tat org.apache.spark.sql.execution.datasources.FileFormatWriter$.executeTask(FileFormatWriter.scala:389)\n",
      "\tat org.apache.spark.sql.execution.datasources.WriteFilesExec.$anonfun$doExecuteWrite$1(WriteFiles.scala:100)\n",
      "\tat org.apache.spark.rdd.RDD.$anonfun$mapPartitionsInternal$2(RDD.scala:893)\n",
      "\tat org.apache.spark.rdd.RDD.$anonfun$mapPartitionsInternal$2$adapted(RDD.scala:893)\n",
      "\tat org.apache.spark.rdd.MapPartitionsRDD.compute(MapPartitionsRDD.scala:52)\n",
      "\tat org.apache.spark.rdd.RDD.computeOrReadCheckpoint(RDD.scala:367)\n",
      "\tat org.apache.spark.rdd.RDD.iterator(RDD.scala:331)\n",
      "\tat org.apache.spark.scheduler.ResultTask.runTask(ResultTask.scala:93)\n",
      "\tat org.apache.spark.TaskContext.runTaskWithListeners(TaskContext.scala:166)\n",
      "\tat org.apache.spark.scheduler.Task.run(Task.scala:141)\n",
      "\tat org.apache.spark.executor.Executor$TaskRunner.$anonfun$run$4(Executor.scala:620)\n",
      "\tat org.apache.spark.util.SparkErrorUtils.tryWithSafeFinally(SparkErrorUtils.scala:64)\n",
      "\tat org.apache.spark.util.SparkErrorUtils.tryWithSafeFinally$(SparkErrorUtils.scala:61)\n",
      "\tat org.apache.spark.util.Utils$.tryWithSafeFinally(Utils.scala:94)\n",
      "\tat org.apache.spark.executor.Executor$TaskRunner.run(Executor.scala:623)\n",
      "\tat java.base/java.util.concurrent.ThreadPoolExecutor.runWorker(ThreadPoolExecutor.java:1136)\n",
      "\tat java.base/java.util.concurrent.ThreadPoolExecutor$Worker.run(ThreadPoolExecutor.java:635)\n",
      "\tat java.base/java.lang.Thread.run(Thread.java:840)\n",
      "24/03/07 17:34:34 ERROR Executor: Exception in task 8.0 in stage 150.0 (TID 1046)\n",
      "java.io.IOException: Mkdirs failed to create file:/home/download/datacsv/_temporary/0/_temporary/attempt_20240307173433920426583035832744_0150_m_000008_1046 (exists=false, cwd=file:/run/media/i666sapple/VOLUME2/VS CODE/Project_personal)\n",
      "\tat org.apache.hadoop.fs.ChecksumFileSystem.create(ChecksumFileSystem.java:515)\n",
      "\tat org.apache.hadoop.fs.ChecksumFileSystem.create(ChecksumFileSystem.java:500)\n",
      "\tat org.apache.hadoop.fs.FileSystem.create(FileSystem.java:1195)\n",
      "\tat org.apache.hadoop.fs.FileSystem.create(FileSystem.java:1175)\n",
      "\tat org.apache.hadoop.fs.FileSystem.create(FileSystem.java:1064)\n",
      "\tat org.apache.spark.sql.execution.datasources.CodecStreams$.createOutputStream(CodecStreams.scala:81)\n",
      "\tat org.apache.spark.sql.execution.datasources.CodecStreams$.createOutputStreamWriter(CodecStreams.scala:92)\n",
      "\tat org.apache.spark.sql.execution.datasources.csv.CsvOutputWriter.<init>(CsvOutputWriter.scala:38)\n",
      "\tat org.apache.spark.sql.execution.datasources.csv.CSVFileFormat$$anon$1.newInstance(CSVFileFormat.scala:84)\n",
      "\tat org.apache.spark.sql.execution.datasources.SingleDirectoryDataWriter.newOutputWriter(FileFormatDataWriter.scala:161)\n",
      "\tat org.apache.spark.sql.execution.datasources.SingleDirectoryDataWriter.<init>(FileFormatDataWriter.scala:146)\n",
      "\tat org.apache.spark.sql.execution.datasources.FileFormatWriter$.executeTask(FileFormatWriter.scala:389)\n",
      "\tat org.apache.spark.sql.execution.datasources.WriteFilesExec.$anonfun$doExecuteWrite$1(WriteFiles.scala:100)\n",
      "\tat org.apache.spark.rdd.RDD.$anonfun$mapPartitionsInternal$2(RDD.scala:893)\n",
      "\tat org.apache.spark.rdd.RDD.$anonfun$mapPartitionsInternal$2$adapted(RDD.scala:893)\n",
      "\tat org.apache.spark.rdd.MapPartitionsRDD.compute(MapPartitionsRDD.scala:52)\n",
      "\tat org.apache.spark.rdd.RDD.computeOrReadCheckpoint(RDD.scala:367)\n",
      "\tat org.apache.spark.rdd.RDD.iterator(RDD.scala:331)\n",
      "\tat org.apache.spark.scheduler.ResultTask.runTask(ResultTask.scala:93)\n",
      "\tat org.apache.spark.TaskContext.runTaskWithListeners(TaskContext.scala:166)\n",
      "\tat org.apache.spark.scheduler.Task.run(Task.scala:141)\n",
      "\tat org.apache.spark.executor.Executor$TaskRunner.$anonfun$run$4(Executor.scala:620)\n",
      "\tat org.apache.spark.util.SparkErrorUtils.tryWithSafeFinally(SparkErrorUtils.scala:64)\n",
      "\tat org.apache.spark.util.SparkErrorUtils.tryWithSafeFinally$(SparkErrorUtils.scala:61)\n",
      "\tat org.apache.spark.util.Utils$.tryWithSafeFinally(Utils.scala:94)\n",
      "\tat org.apache.spark.executor.Executor$TaskRunner.run(Executor.scala:623)\n",
      "\tat java.base/java.util.concurrent.ThreadPoolExecutor.runWorker(ThreadPoolExecutor.java:1136)\n",
      "\tat java.base/java.util.concurrent.ThreadPoolExecutor$Worker.run(ThreadPoolExecutor.java:635)\n",
      "\tat java.base/java.lang.Thread.run(Thread.java:840)\n",
      "24/03/07 17:34:34 ERROR Executor: Exception in task 11.0 in stage 150.0 (TID 1049)\n",
      "java.io.IOException: Mkdirs failed to create file:/home/download/datacsv/_temporary/0/_temporary/attempt_20240307173433920426583035832744_0150_m_000011_1049 (exists=false, cwd=file:/run/media/i666sapple/VOLUME2/VS CODE/Project_personal)\n",
      "\tat org.apache.hadoop.fs.ChecksumFileSystem.create(ChecksumFileSystem.java:515)\n",
      "\tat org.apache.hadoop.fs.ChecksumFileSystem.create(ChecksumFileSystem.java:500)\n",
      "\tat org.apache.hadoop.fs.FileSystem.create(FileSystem.java:1195)\n",
      "\tat org.apache.hadoop.fs.FileSystem.create(FileSystem.java:1175)\n",
      "\tat org.apache.hadoop.fs.FileSystem.create(FileSystem.java:1064)\n",
      "\tat org.apache.spark.sql.execution.datasources.CodecStreams$.createOutputStream(CodecStreams.scala:81)\n",
      "\tat org.apache.spark.sql.execution.datasources.CodecStreams$.createOutputStreamWriter(CodecStreams.scala:92)\n",
      "\tat org.apache.spark.sql.execution.datasources.csv.CsvOutputWriter.<init>(CsvOutputWriter.scala:38)\n",
      "\tat org.apache.spark.sql.execution.datasources.csv.CSVFileFormat$$anon$1.newInstance(CSVFileFormat.scala:84)\n",
      "\tat org.apache.spark.sql.execution.datasources.SingleDirectoryDataWriter.newOutputWriter(FileFormatDataWriter.scala:161)\n",
      "\tat org.apache.spark.sql.execution.datasources.SingleDirectoryDataWriter.<init>(FileFormatDataWriter.scala:146)\n",
      "\tat org.apache.spark.sql.execution.datasources.FileFormatWriter$.executeTask(FileFormatWriter.scala:389)\n",
      "\tat org.apache.spark.sql.execution.datasources.WriteFilesExec.$anonfun$doExecuteWrite$1(WriteFiles.scala:100)\n",
      "\tat org.apache.spark.rdd.RDD.$anonfun$mapPartitionsInternal$2(RDD.scala:893)\n",
      "\tat org.apache.spark.rdd.RDD.$anonfun$mapPartitionsInternal$2$adapted(RDD.scala:893)\n",
      "\tat org.apache.spark.rdd.MapPartitionsRDD.compute(MapPartitionsRDD.scala:52)\n",
      "\tat org.apache.spark.rdd.RDD.computeOrReadCheckpoint(RDD.scala:367)\n",
      "\tat org.apache.spark.rdd.RDD.iterator(RDD.scala:331)\n",
      "\tat org.apache.spark.scheduler.ResultTask.runTask(ResultTask.scala:93)\n",
      "\tat org.apache.spark.TaskContext.runTaskWithListeners(TaskContext.scala:166)\n",
      "\tat org.apache.spark.scheduler.Task.run(Task.scala:141)\n",
      "\tat org.apache.spark.executor.Executor$TaskRunner.$anonfun$run$4(Executor.scala:620)\n",
      "\tat org.apache.spark.util.SparkErrorUtils.tryWithSafeFinally(SparkErrorUtils.scala:64)\n",
      "\tat org.apache.spark.util.SparkErrorUtils.tryWithSafeFinally$(SparkErrorUtils.scala:61)\n",
      "\tat org.apache.spark.util.Utils$.tryWithSafeFinally(Utils.scala:94)\n",
      "\tat org.apache.spark.executor.Executor$TaskRunner.run(Executor.scala:623)\n",
      "\tat java.base/java.util.concurrent.ThreadPoolExecutor.runWorker(ThreadPoolExecutor.java:1136)\n",
      "\tat java.base/java.util.concurrent.ThreadPoolExecutor$Worker.run(ThreadPoolExecutor.java:635)\n",
      "\tat java.base/java.lang.Thread.run(Thread.java:840)\n",
      "24/03/07 17:34:34 ERROR Executor: Exception in task 15.0 in stage 150.0 (TID 1053)\n",
      "java.io.IOException: Mkdirs failed to create file:/home/download/datacsv/_temporary/0/_temporary/attempt_20240307173433920426583035832744_0150_m_000015_1053 (exists=false, cwd=file:/run/media/i666sapple/VOLUME2/VS CODE/Project_personal)\n",
      "\tat org.apache.hadoop.fs.ChecksumFileSystem.create(ChecksumFileSystem.java:515)\n",
      "\tat org.apache.hadoop.fs.ChecksumFileSystem.create(ChecksumFileSystem.java:500)\n",
      "\tat org.apache.hadoop.fs.FileSystem.create(FileSystem.java:1195)\n",
      "\tat org.apache.hadoop.fs.FileSystem.create(FileSystem.java:1175)\n",
      "\tat org.apache.hadoop.fs.FileSystem.create(FileSystem.java:1064)\n",
      "\tat org.apache.spark.sql.execution.datasources.CodecStreams$.createOutputStream(CodecStreams.scala:81)\n",
      "\tat org.apache.spark.sql.execution.datasources.CodecStreams$.createOutputStreamWriter(CodecStreams.scala:92)\n",
      "\tat org.apache.spark.sql.execution.datasources.csv.CsvOutputWriter.<init>(CsvOutputWriter.scala:38)\n",
      "\tat org.apache.spark.sql.execution.datasources.csv.CSVFileFormat$$anon$1.newInstance(CSVFileFormat.scala:84)\n",
      "\tat org.apache.spark.sql.execution.datasources.SingleDirectoryDataWriter.newOutputWriter(FileFormatDataWriter.scala:161)\n",
      "\tat org.apache.spark.sql.execution.datasources.SingleDirectoryDataWriter.<init>(FileFormatDataWriter.scala:146)\n",
      "\tat org.apache.spark.sql.execution.datasources.FileFormatWriter$.executeTask(FileFormatWriter.scala:389)\n",
      "\tat org.apache.spark.sql.execution.datasources.WriteFilesExec.$anonfun$doExecuteWrite$1(WriteFiles.scala:100)\n",
      "\tat org.apache.spark.rdd.RDD.$anonfun$mapPartitionsInternal$2(RDD.scala:893)\n",
      "\tat org.apache.spark.rdd.RDD.$anonfun$mapPartitionsInternal$2$adapted(RDD.scala:893)\n",
      "\tat org.apache.spark.rdd.MapPartitionsRDD.compute(MapPartitionsRDD.scala:52)\n",
      "\tat org.apache.spark.rdd.RDD.computeOrReadCheckpoint(RDD.scala:367)\n",
      "\tat org.apache.spark.rdd.RDD.iterator(RDD.scala:331)\n",
      "\tat org.apache.spark.scheduler.ResultTask.runTask(ResultTask.scala:93)\n",
      "\tat org.apache.spark.TaskContext.runTaskWithListeners(TaskContext.scala:166)\n",
      "\tat org.apache.spark.scheduler.Task.run(Task.scala:141)\n",
      "\tat org.apache.spark.executor.Executor$TaskRunner.$anonfun$run$4(Executor.scala:620)\n",
      "\tat org.apache.spark.util.SparkErrorUtils.tryWithSafeFinally(SparkErrorUtils.scala:64)\n",
      "\tat org.apache.spark.util.SparkErrorUtils.tryWithSafeFinally$(SparkErrorUtils.scala:61)\n",
      "\tat org.apache.spark.util.Utils$.tryWithSafeFinally(Utils.scala:94)\n",
      "\tat org.apache.spark.executor.Executor$TaskRunner.run(Executor.scala:623)\n",
      "\tat java.base/java.util.concurrent.ThreadPoolExecutor.runWorker(ThreadPoolExecutor.java:1136)\n",
      "\tat java.base/java.util.concurrent.ThreadPoolExecutor$Worker.run(ThreadPoolExecutor.java:635)\n",
      "\tat java.base/java.lang.Thread.run(Thread.java:840)\n",
      "24/03/07 17:34:34 ERROR Executor: Exception in task 1.0 in stage 150.0 (TID 1039)\n",
      "java.io.IOException: Mkdirs failed to create file:/home/download/datacsv/_temporary/0/_temporary/attempt_20240307173433920426583035832744_0150_m_000001_1039 (exists=false, cwd=file:/run/media/i666sapple/VOLUME2/VS CODE/Project_personal)\n",
      "\tat org.apache.hadoop.fs.ChecksumFileSystem.create(ChecksumFileSystem.java:515)\n",
      "\tat org.apache.hadoop.fs.ChecksumFileSystem.create(ChecksumFileSystem.java:500)\n",
      "\tat org.apache.hadoop.fs.FileSystem.create(FileSystem.java:1195)\n",
      "\tat org.apache.hadoop.fs.FileSystem.create(FileSystem.java:1175)\n",
      "\tat org.apache.hadoop.fs.FileSystem.create(FileSystem.java:1064)\n",
      "\tat org.apache.spark.sql.execution.datasources.CodecStreams$.createOutputStream(CodecStreams.scala:81)\n",
      "\tat org.apache.spark.sql.execution.datasources.CodecStreams$.createOutputStreamWriter(CodecStreams.scala:92)\n",
      "\tat org.apache.spark.sql.execution.datasources.csv.CsvOutputWriter.<init>(CsvOutputWriter.scala:38)\n",
      "\tat org.apache.spark.sql.execution.datasources.csv.CSVFileFormat$$anon$1.newInstance(CSVFileFormat.scala:84)\n",
      "\tat org.apache.spark.sql.execution.datasources.SingleDirectoryDataWriter.newOutputWriter(FileFormatDataWriter.scala:161)\n",
      "\tat org.apache.spark.sql.execution.datasources.SingleDirectoryDataWriter.<init>(FileFormatDataWriter.scala:146)\n",
      "\tat org.apache.spark.sql.execution.datasources.FileFormatWriter$.executeTask(FileFormatWriter.scala:389)\n",
      "\tat org.apache.spark.sql.execution.datasources.WriteFilesExec.$anonfun$doExecuteWrite$1(WriteFiles.scala:100)\n",
      "\tat org.apache.spark.rdd.RDD.$anonfun$mapPartitionsInternal$2(RDD.scala:893)\n",
      "\tat org.apache.spark.rdd.RDD.$anonfun$mapPartitionsInternal$2$adapted(RDD.scala:893)\n",
      "\tat org.apache.spark.rdd.MapPartitionsRDD.compute(MapPartitionsRDD.scala:52)\n",
      "\tat org.apache.spark.rdd.RDD.computeOrReadCheckpoint(RDD.scala:367)\n",
      "\tat org.apache.spark.rdd.RDD.iterator(RDD.scala:331)\n",
      "\tat org.apache.spark.scheduler.ResultTask.runTask(ResultTask.scala:93)\n",
      "\tat org.apache.spark.TaskContext.runTaskWithListeners(TaskContext.scala:166)\n",
      "\tat org.apache.spark.scheduler.Task.run(Task.scala:141)\n",
      "\tat org.apache.spark.executor.Executor$TaskRunner.$anonfun$run$4(Executor.scala:620)\n",
      "\tat org.apache.spark.util.SparkErrorUtils.tryWithSafeFinally(SparkErrorUtils.scala:64)\n",
      "\tat org.apache.spark.util.SparkErrorUtils.tryWithSafeFinally$(SparkErrorUtils.scala:61)\n",
      "\tat org.apache.spark.util.Utils$.tryWithSafeFinally(Utils.scala:94)\n",
      "\tat org.apache.spark.executor.Executor$TaskRunner.run(Executor.scala:623)\n",
      "\tat java.base/java.util.concurrent.ThreadPoolExecutor.runWorker(ThreadPoolExecutor.java:1136)\n",
      "\tat java.base/java.util.concurrent.ThreadPoolExecutor$Worker.run(ThreadPoolExecutor.java:635)\n",
      "\tat java.base/java.lang.Thread.run(Thread.java:840)\n",
      "24/03/07 17:34:34 WARN TaskSetManager: Lost task 7.0 in stage 150.0 (TID 1045) (1666sapple executor driver): java.io.IOException: Mkdirs failed to create file:/home/download/datacsv/_temporary/0/_temporary/attempt_20240307173433920426583035832744_0150_m_000007_1045 (exists=false, cwd=file:/run/media/i666sapple/VOLUME2/VS CODE/Project_personal)\n",
      "\tat org.apache.hadoop.fs.ChecksumFileSystem.create(ChecksumFileSystem.java:515)\n",
      "\tat org.apache.hadoop.fs.ChecksumFileSystem.create(ChecksumFileSystem.java:500)\n",
      "\tat org.apache.hadoop.fs.FileSystem.create(FileSystem.java:1195)\n",
      "\tat org.apache.hadoop.fs.FileSystem.create(FileSystem.java:1175)\n",
      "\tat org.apache.hadoop.fs.FileSystem.create(FileSystem.java:1064)\n",
      "\tat org.apache.spark.sql.execution.datasources.CodecStreams$.createOutputStream(CodecStreams.scala:81)\n",
      "\tat org.apache.spark.sql.execution.datasources.CodecStreams$.createOutputStreamWriter(CodecStreams.scala:92)\n",
      "\tat org.apache.spark.sql.execution.datasources.csv.CsvOutputWriter.<init>(CsvOutputWriter.scala:38)\n",
      "\tat org.apache.spark.sql.execution.datasources.csv.CSVFileFormat$$anon$1.newInstance(CSVFileFormat.scala:84)\n",
      "\tat org.apache.spark.sql.execution.datasources.SingleDirectoryDataWriter.newOutputWriter(FileFormatDataWriter.scala:161)\n",
      "\tat org.apache.spark.sql.execution.datasources.SingleDirectoryDataWriter.<init>(FileFormatDataWriter.scala:146)\n",
      "\tat org.apache.spark.sql.execution.datasources.FileFormatWriter$.executeTask(FileFormatWriter.scala:389)\n",
      "\tat org.apache.spark.sql.execution.datasources.WriteFilesExec.$anonfun$doExecuteWrite$1(WriteFiles.scala:100)\n",
      "\tat org.apache.spark.rdd.RDD.$anonfun$mapPartitionsInternal$2(RDD.scala:893)\n",
      "\tat org.apache.spark.rdd.RDD.$anonfun$mapPartitionsInternal$2$adapted(RDD.scala:893)\n",
      "\tat org.apache.spark.rdd.MapPartitionsRDD.compute(MapPartitionsRDD.scala:52)\n",
      "\tat org.apache.spark.rdd.RDD.computeOrReadCheckpoint(RDD.scala:367)\n",
      "\tat org.apache.spark.rdd.RDD.iterator(RDD.scala:331)\n",
      "\tat org.apache.spark.scheduler.ResultTask.runTask(ResultTask.scala:93)\n",
      "\tat org.apache.spark.TaskContext.runTaskWithListeners(TaskContext.scala:166)\n",
      "\tat org.apache.spark.scheduler.Task.run(Task.scala:141)\n",
      "\tat org.apache.spark.executor.Executor$TaskRunner.$anonfun$run$4(Executor.scala:620)\n",
      "\tat org.apache.spark.util.SparkErrorUtils.tryWithSafeFinally(SparkErrorUtils.scala:64)\n",
      "\tat org.apache.spark.util.SparkErrorUtils.tryWithSafeFinally$(SparkErrorUtils.scala:61)\n",
      "\tat org.apache.spark.util.Utils$.tryWithSafeFinally(Utils.scala:94)\n",
      "\tat org.apache.spark.executor.Executor$TaskRunner.run(Executor.scala:623)\n",
      "\tat java.base/java.util.concurrent.ThreadPoolExecutor.runWorker(ThreadPoolExecutor.java:1136)\n",
      "\tat java.base/java.util.concurrent.ThreadPoolExecutor$Worker.run(ThreadPoolExecutor.java:635)\n",
      "\tat java.base/java.lang.Thread.run(Thread.java:840)\n",
      "\n",
      "24/03/07 17:34:34 ERROR TaskSetManager: Task 7 in stage 150.0 failed 1 times; aborting job\n",
      "24/03/07 17:34:34 WARN TaskSetManager: Lost task 0.0 in stage 150.0 (TID 1038) (1666sapple executor driver): java.io.IOException: Mkdirs failed to create file:/home/download/datacsv/_temporary/0/_temporary/attempt_20240307173433920426583035832744_0150_m_000000_1038 (exists=false, cwd=file:/run/media/i666sapple/VOLUME2/VS CODE/Project_personal)\n",
      "\tat org.apache.hadoop.fs.ChecksumFileSystem.create(ChecksumFileSystem.java:515)\n",
      "\tat org.apache.hadoop.fs.ChecksumFileSystem.create(ChecksumFileSystem.java:500)\n",
      "\tat org.apache.hadoop.fs.FileSystem.create(FileSystem.java:1195)\n",
      "\tat org.apache.hadoop.fs.FileSystem.create(FileSystem.java:1175)\n",
      "\tat org.apache.hadoop.fs.FileSystem.create(FileSystem.java:1064)\n",
      "\tat org.apache.spark.sql.execution.datasources.CodecStreams$.createOutputStream(CodecStreams.scala:81)\n",
      "\tat org.apache.spark.sql.execution.datasources.CodecStreams$.createOutputStreamWriter(CodecStreams.scala:92)\n",
      "\tat org.apache.spark.sql.execution.datasources.csv.CsvOutputWriter.<init>(CsvOutputWriter.scala:38)\n",
      "\tat org.apache.spark.sql.execution.datasources.csv.CSVFileFormat$$anon$1.newInstance(CSVFileFormat.scala:84)\n",
      "\tat org.apache.spark.sql.execution.datasources.SingleDirectoryDataWriter.newOutputWriter(FileFormatDataWriter.scala:161)\n",
      "\tat org.apache.spark.sql.execution.datasources.SingleDirectoryDataWriter.<init>(FileFormatDataWriter.scala:146)\n",
      "\tat org.apache.spark.sql.execution.datasources.FileFormatWriter$.executeTask(FileFormatWriter.scala:389)\n",
      "\tat org.apache.spark.sql.execution.datasources.WriteFilesExec.$anonfun$doExecuteWrite$1(WriteFiles.scala:100)\n",
      "\tat org.apache.spark.rdd.RDD.$anonfun$mapPartitionsInternal$2(RDD.scala:893)\n",
      "\tat org.apache.spark.rdd.RDD.$anonfun$mapPartitionsInternal$2$adapted(RDD.scala:893)\n",
      "\tat org.apache.spark.rdd.MapPartitionsRDD.compute(MapPartitionsRDD.scala:52)\n",
      "\tat org.apache.spark.rdd.RDD.computeOrReadCheckpoint(RDD.scala:367)\n",
      "\tat org.apache.spark.rdd.RDD.iterator(RDD.scala:331)\n",
      "\tat org.apache.spark.scheduler.ResultTask.runTask(ResultTask.scala:93)\n",
      "\tat org.apache.spark.TaskContext.runTaskWithListeners(TaskContext.scala:166)\n",
      "\tat org.apache.spark.scheduler.Task.run(Task.scala:141)\n",
      "\tat org.apache.spark.executor.Executor$TaskRunner.$anonfun$run$4(Executor.scala:620)\n",
      "\tat org.apache.spark.util.SparkErrorUtils.tryWithSafeFinally(SparkErrorUtils.scala:64)\n",
      "\tat org.apache.spark.util.SparkErrorUtils.tryWithSafeFinally$(SparkErrorUtils.scala:61)\n",
      "\tat org.apache.spark.util.Utils$.tryWithSafeFinally(Utils.scala:94)\n",
      "\tat org.apache.spark.executor.Executor$TaskRunner.run(Executor.scala:623)\n",
      "\tat java.base/java.util.concurrent.ThreadPoolExecutor.runWorker(ThreadPoolExecutor.java:1136)\n",
      "\tat java.base/java.util.concurrent.ThreadPoolExecutor$Worker.run(ThreadPoolExecutor.java:635)\n",
      "\tat java.base/java.lang.Thread.run(Thread.java:840)\n",
      "\n",
      "24/03/07 17:34:34 WARN TaskSetManager: Lost task 3.0 in stage 150.0 (TID 1041) (1666sapple executor driver): java.io.IOException: Mkdirs failed to create file:/home/download/datacsv/_temporary/0/_temporary/attempt_20240307173433920426583035832744_0150_m_000003_1041 (exists=false, cwd=file:/run/media/i666sapple/VOLUME2/VS CODE/Project_personal)\n",
      "\tat org.apache.hadoop.fs.ChecksumFileSystem.create(ChecksumFileSystem.java:515)\n",
      "\tat org.apache.hadoop.fs.ChecksumFileSystem.create(ChecksumFileSystem.java:500)\n",
      "\tat org.apache.hadoop.fs.FileSystem.create(FileSystem.java:1195)\n",
      "\tat org.apache.hadoop.fs.FileSystem.create(FileSystem.java:1175)\n",
      "\tat org.apache.hadoop.fs.FileSystem.create(FileSystem.java:1064)\n",
      "\tat org.apache.spark.sql.execution.datasources.CodecStreams$.createOutputStream(CodecStreams.scala:81)\n",
      "\tat org.apache.spark.sql.execution.datasources.CodecStreams$.createOutputStreamWriter(CodecStreams.scala:92)\n",
      "\tat org.apache.spark.sql.execution.datasources.csv.CsvOutputWriter.<init>(CsvOutputWriter.scala:38)\n",
      "\tat org.apache.spark.sql.execution.datasources.csv.CSVFileFormat$$anon$1.newInstance(CSVFileFormat.scala:84)\n",
      "\tat org.apache.spark.sql.execution.datasources.SingleDirectoryDataWriter.newOutputWriter(FileFormatDataWriter.scala:161)\n",
      "\tat org.apache.spark.sql.execution.datasources.SingleDirectoryDataWriter.<init>(FileFormatDataWriter.scala:146)\n",
      "\tat org.apache.spark.sql.execution.datasources.FileFormatWriter$.executeTask(FileFormatWriter.scala:389)\n",
      "\tat org.apache.spark.sql.execution.datasources.WriteFilesExec.$anonfun$doExecuteWrite$1(WriteFiles.scala:100)\n",
      "\tat org.apache.spark.rdd.RDD.$anonfun$mapPartitionsInternal$2(RDD.scala:893)\n",
      "\tat org.apache.spark.rdd.RDD.$anonfun$mapPartitionsInternal$2$adapted(RDD.scala:893)\n",
      "\tat org.apache.spark.rdd.MapPartitionsRDD.compute(MapPartitionsRDD.scala:52)\n",
      "\tat org.apache.spark.rdd.RDD.computeOrReadCheckpoint(RDD.scala:367)\n",
      "\tat org.apache.spark.rdd.RDD.iterator(RDD.scala:331)\n",
      "\tat org.apache.spark.scheduler.ResultTask.runTask(ResultTask.scala:93)\n",
      "\tat org.apache.spark.TaskContext.runTaskWithListeners(TaskContext.scala:166)\n",
      "\tat org.apache.spark.scheduler.Task.run(Task.scala:141)\n",
      "\tat org.apache.spark.executor.Executor$TaskRunner.$anonfun$run$4(Executor.scala:620)\n",
      "\tat org.apache.spark.util.SparkErrorUtils.tryWithSafeFinally(SparkErrorUtils.scala:64)\n",
      "\tat org.apache.spark.util.SparkErrorUtils.tryWithSafeFinally$(SparkErrorUtils.scala:61)\n",
      "\tat org.apache.spark.util.Utils$.tryWithSafeFinally(Utils.scala:94)\n",
      "\tat org.apache.spark.executor.Executor$TaskRunner.run(Executor.scala:623)\n",
      "\tat java.base/java.util.concurrent.ThreadPoolExecutor.runWorker(ThreadPoolExecutor.java:1136)\n",
      "\tat java.base/java.util.concurrent.ThreadPoolExecutor$Worker.run(ThreadPoolExecutor.java:635)\n",
      "\tat java.base/java.lang.Thread.run(Thread.java:840)\n",
      "\n",
      "24/03/07 17:34:34 WARN TaskSetManager: Lost task 4.0 in stage 150.0 (TID 1042) (1666sapple executor driver): java.io.IOException: Mkdirs failed to create file:/home/download/datacsv/_temporary/0/_temporary/attempt_20240307173433920426583035832744_0150_m_000004_1042 (exists=false, cwd=file:/run/media/i666sapple/VOLUME2/VS CODE/Project_personal)\n",
      "\tat org.apache.hadoop.fs.ChecksumFileSystem.create(ChecksumFileSystem.java:515)\n",
      "\tat org.apache.hadoop.fs.ChecksumFileSystem.create(ChecksumFileSystem.java:500)\n",
      "\tat org.apache.hadoop.fs.FileSystem.create(FileSystem.java:1195)\n",
      "\tat org.apache.hadoop.fs.FileSystem.create(FileSystem.java:1175)\n",
      "\tat org.apache.hadoop.fs.FileSystem.create(FileSystem.java:1064)\n",
      "\tat org.apache.spark.sql.execution.datasources.CodecStreams$.createOutputStream(CodecStreams.scala:81)\n",
      "\tat org.apache.spark.sql.execution.datasources.CodecStreams$.createOutputStreamWriter(CodecStreams.scala:92)\n",
      "\tat org.apache.spark.sql.execution.datasources.csv.CsvOutputWriter.<init>(CsvOutputWriter.scala:38)\n",
      "\tat org.apache.spark.sql.execution.datasources.csv.CSVFileFormat$$anon$1.newInstance(CSVFileFormat.scala:84)\n",
      "\tat org.apache.spark.sql.execution.datasources.SingleDirectoryDataWriter.newOutputWriter(FileFormatDataWriter.scala:161)\n",
      "\tat org.apache.spark.sql.execution.datasources.SingleDirectoryDataWriter.<init>(FileFormatDataWriter.scala:146)\n",
      "\tat org.apache.spark.sql.execution.datasources.FileFormatWriter$.executeTask(FileFormatWriter.scala:389)\n",
      "\tat org.apache.spark.sql.execution.datasources.WriteFilesExec.$anonfun$doExecuteWrite$1(WriteFiles.scala:100)\n",
      "\tat org.apache.spark.rdd.RDD.$anonfun$mapPartitionsInternal$2(RDD.scala:893)\n",
      "\tat org.apache.spark.rdd.RDD.$anonfun$mapPartitionsInternal$2$adapted(RDD.scala:893)\n",
      "\tat org.apache.spark.rdd.MapPartitionsRDD.compute(MapPartitionsRDD.scala:52)\n",
      "\tat org.apache.spark.rdd.RDD.computeOrReadCheckpoint(RDD.scala:367)\n",
      "\tat org.apache.spark.rdd.RDD.iterator(RDD.scala:331)\n",
      "\tat org.apache.spark.scheduler.ResultTask.runTask(ResultTask.scala:93)\n",
      "\tat org.apache.spark.TaskContext.runTaskWithListeners(TaskContext.scala:166)\n",
      "\tat org.apache.spark.scheduler.Task.run(Task.scala:141)\n",
      "\tat org.apache.spark.executor.Executor$TaskRunner.$anonfun$run$4(Executor.scala:620)\n",
      "\tat org.apache.spark.util.SparkErrorUtils.tryWithSafeFinally(SparkErrorUtils.scala:64)\n",
      "\tat org.apache.spark.util.SparkErrorUtils.tryWithSafeFinally$(SparkErrorUtils.scala:61)\n",
      "\tat org.apache.spark.util.Utils$.tryWithSafeFinally(Utils.scala:94)\n",
      "\tat org.apache.spark.executor.Executor$TaskRunner.run(Executor.scala:623)\n",
      "\tat java.base/java.util.concurrent.ThreadPoolExecutor.runWorker(ThreadPoolExecutor.java:1136)\n",
      "\tat java.base/java.util.concurrent.ThreadPoolExecutor$Worker.run(ThreadPoolExecutor.java:635)\n",
      "\tat java.base/java.lang.Thread.run(Thread.java:840)\n",
      "\n",
      "24/03/07 17:34:34 WARN TaskSetManager: Lost task 11.0 in stage 150.0 (TID 1049) (1666sapple executor driver): java.io.IOException: Mkdirs failed to create file:/home/download/datacsv/_temporary/0/_temporary/attempt_20240307173433920426583035832744_0150_m_000011_1049 (exists=false, cwd=file:/run/media/i666sapple/VOLUME2/VS CODE/Project_personal)\n",
      "\tat org.apache.hadoop.fs.ChecksumFileSystem.create(ChecksumFileSystem.java:515)\n",
      "\tat org.apache.hadoop.fs.ChecksumFileSystem.create(ChecksumFileSystem.java:500)\n",
      "\tat org.apache.hadoop.fs.FileSystem.create(FileSystem.java:1195)\n",
      "\tat org.apache.hadoop.fs.FileSystem.create(FileSystem.java:1175)\n",
      "\tat org.apache.hadoop.fs.FileSystem.create(FileSystem.java:1064)\n",
      "\tat org.apache.spark.sql.execution.datasources.CodecStreams$.createOutputStream(CodecStreams.scala:81)\n",
      "\tat org.apache.spark.sql.execution.datasources.CodecStreams$.createOutputStreamWriter(CodecStreams.scala:92)\n",
      "\tat org.apache.spark.sql.execution.datasources.csv.CsvOutputWriter.<init>(CsvOutputWriter.scala:38)\n",
      "\tat org.apache.spark.sql.execution.datasources.csv.CSVFileFormat$$anon$1.newInstance(CSVFileFormat.scala:84)\n",
      "\tat org.apache.spark.sql.execution.datasources.SingleDirectoryDataWriter.newOutputWriter(FileFormatDataWriter.scala:161)\n",
      "\tat org.apache.spark.sql.execution.datasources.SingleDirectoryDataWriter.<init>(FileFormatDataWriter.scala:146)\n",
      "\tat org.apache.spark.sql.execution.datasources.FileFormatWriter$.executeTask(FileFormatWriter.scala:389)\n",
      "\tat org.apache.spark.sql.execution.datasources.WriteFilesExec.$anonfun$doExecuteWrite$1(WriteFiles.scala:100)\n",
      "\tat org.apache.spark.rdd.RDD.$anonfun$mapPartitionsInternal$2(RDD.scala:893)\n",
      "\tat org.apache.spark.rdd.RDD.$anonfun$mapPartitionsInternal$2$adapted(RDD.scala:893)\n",
      "\tat org.apache.spark.rdd.MapPartitionsRDD.compute(MapPartitionsRDD.scala:52)\n",
      "\tat org.apache.spark.rdd.RDD.computeOrReadCheckpoint(RDD.scala:367)\n",
      "\tat org.apache.spark.rdd.RDD.iterator(RDD.scala:331)\n",
      "\tat org.apache.spark.scheduler.ResultTask.runTask(ResultTask.scala:93)\n",
      "\tat org.apache.spark.TaskContext.runTaskWithListeners(TaskContext.scala:166)\n",
      "\tat org.apache.spark.scheduler.Task.run(Task.scala:141)\n",
      "\tat org.apache.spark.executor.Executor$TaskRunner.$anonfun$run$4(Executor.scala:620)\n",
      "\tat org.apache.spark.util.SparkErrorUtils.tryWithSafeFinally(SparkErrorUtils.scala:64)\n",
      "\tat org.apache.spark.util.SparkErrorUtils.tryWithSafeFinally$(SparkErrorUtils.scala:61)\n",
      "\tat org.apache.spark.util.Utils$.tryWithSafeFinally(Utils.scala:94)\n",
      "\tat org.apache.spark.executor.Executor$TaskRunner.run(Executor.scala:623)\n",
      "\tat java.base/java.util.concurrent.ThreadPoolExecutor.runWorker(ThreadPoolExecutor.java:1136)\n",
      "\tat java.base/java.util.concurrent.ThreadPoolExecutor$Worker.run(ThreadPoolExecutor.java:635)\n",
      "\tat java.base/java.lang.Thread.run(Thread.java:840)\n",
      "\n",
      "24/03/07 17:34:34 WARN TaskSetManager: Lost task 15.0 in stage 150.0 (TID 1053) (1666sapple executor driver): java.io.IOException: Mkdirs failed to create file:/home/download/datacsv/_temporary/0/_temporary/attempt_20240307173433920426583035832744_0150_m_000015_1053 (exists=false, cwd=file:/run/media/i666sapple/VOLUME2/VS CODE/Project_personal)\n",
      "\tat org.apache.hadoop.fs.ChecksumFileSystem.create(ChecksumFileSystem.java:515)\n",
      "\tat org.apache.hadoop.fs.ChecksumFileSystem.create(ChecksumFileSystem.java:500)\n",
      "\tat org.apache.hadoop.fs.FileSystem.create(FileSystem.java:1195)\n",
      "\tat org.apache.hadoop.fs.FileSystem.create(FileSystem.java:1175)\n",
      "\tat org.apache.hadoop.fs.FileSystem.create(FileSystem.java:1064)\n",
      "\tat org.apache.spark.sql.execution.datasources.CodecStreams$.createOutputStream(CodecStreams.scala:81)\n",
      "\tat org.apache.spark.sql.execution.datasources.CodecStreams$.createOutputStreamWriter(CodecStreams.scala:92)\n",
      "\tat org.apache.spark.sql.execution.datasources.csv.CsvOutputWriter.<init>(CsvOutputWriter.scala:38)\n",
      "\tat org.apache.spark.sql.execution.datasources.csv.CSVFileFormat$$anon$1.newInstance(CSVFileFormat.scala:84)\n",
      "\tat org.apache.spark.sql.execution.datasources.SingleDirectoryDataWriter.newOutputWriter(FileFormatDataWriter.scala:161)\n",
      "\tat org.apache.spark.sql.execution.datasources.SingleDirectoryDataWriter.<init>(FileFormatDataWriter.scala:146)\n",
      "\tat org.apache.spark.sql.execution.datasources.FileFormatWriter$.executeTask(FileFormatWriter.scala:389)\n",
      "\tat org.apache.spark.sql.execution.datasources.WriteFilesExec.$anonfun$doExecuteWrite$1(WriteFiles.scala:100)\n",
      "\tat org.apache.spark.rdd.RDD.$anonfun$mapPartitionsInternal$2(RDD.scala:893)\n",
      "\tat org.apache.spark.rdd.RDD.$anonfun$mapPartitionsInternal$2$adapted(RDD.scala:893)\n",
      "\tat org.apache.spark.rdd.MapPartitionsRDD.compute(MapPartitionsRDD.scala:52)\n",
      "\tat org.apache.spark.rdd.RDD.computeOrReadCheckpoint(RDD.scala:367)\n",
      "\tat org.apache.spark.rdd.RDD.iterator(RDD.scala:331)\n",
      "\tat org.apache.spark.scheduler.ResultTask.runTask(ResultTask.scala:93)\n",
      "\tat org.apache.spark.TaskContext.runTaskWithListeners(TaskContext.scala:166)\n",
      "\tat org.apache.spark.scheduler.Task.run(Task.scala:141)\n",
      "\tat org.apache.spark.executor.Executor$TaskRunner.$anonfun$run$4(Executor.scala:620)\n",
      "\tat org.apache.spark.util.SparkErrorUtils.tryWithSafeFinally(SparkErrorUtils.scala:64)\n",
      "\tat org.apache.spark.util.SparkErrorUtils.tryWithSafeFinally$(SparkErrorUtils.scala:61)\n",
      "\tat org.apache.spark.util.Utils$.tryWithSafeFinally(Utils.scala:94)\n",
      "\tat org.apache.spark.executor.Executor$TaskRunner.run(Executor.scala:623)\n",
      "\tat java.base/java.util.concurrent.ThreadPoolExecutor.runWorker(ThreadPoolExecutor.java:1136)\n",
      "\tat java.base/java.util.concurrent.ThreadPoolExecutor$Worker.run(ThreadPoolExecutor.java:635)\n",
      "\tat java.base/java.lang.Thread.run(Thread.java:840)\n",
      "\n",
      "24/03/07 17:34:34 WARN TaskSetManager: Lost task 8.0 in stage 150.0 (TID 1046) (1666sapple executor driver): java.io.IOException: Mkdirs failed to create file:/home/download/datacsv/_temporary/0/_temporary/attempt_20240307173433920426583035832744_0150_m_000008_1046 (exists=false, cwd=file:/run/media/i666sapple/VOLUME2/VS CODE/Project_personal)\n",
      "\tat org.apache.hadoop.fs.ChecksumFileSystem.create(ChecksumFileSystem.java:515)\n",
      "\tat org.apache.hadoop.fs.ChecksumFileSystem.create(ChecksumFileSystem.java:500)\n",
      "\tat org.apache.hadoop.fs.FileSystem.create(FileSystem.java:1195)\n",
      "\tat org.apache.hadoop.fs.FileSystem.create(FileSystem.java:1175)\n",
      "\tat org.apache.hadoop.fs.FileSystem.create(FileSystem.java:1064)\n",
      "\tat org.apache.spark.sql.execution.datasources.CodecStreams$.createOutputStream(CodecStreams.scala:81)\n",
      "\tat org.apache.spark.sql.execution.datasources.CodecStreams$.createOutputStreamWriter(CodecStreams.scala:92)\n",
      "\tat org.apache.spark.sql.execution.datasources.csv.CsvOutputWriter.<init>(CsvOutputWriter.scala:38)\n",
      "\tat org.apache.spark.sql.execution.datasources.csv.CSVFileFormat$$anon$1.newInstance(CSVFileFormat.scala:84)\n",
      "\tat org.apache.spark.sql.execution.datasources.SingleDirectoryDataWriter.newOutputWriter(FileFormatDataWriter.scala:161)\n",
      "\tat org.apache.spark.sql.execution.datasources.SingleDirectoryDataWriter.<init>(FileFormatDataWriter.scala:146)\n",
      "\tat org.apache.spark.sql.execution.datasources.FileFormatWriter$.executeTask(FileFormatWriter.scala:389)\n",
      "\tat org.apache.spark.sql.execution.datasources.WriteFilesExec.$anonfun$doExecuteWrite$1(WriteFiles.scala:100)\n",
      "\tat org.apache.spark.rdd.RDD.$anonfun$mapPartitionsInternal$2(RDD.scala:893)\n",
      "\tat org.apache.spark.rdd.RDD.$anonfun$mapPartitionsInternal$2$adapted(RDD.scala:893)\n",
      "\tat org.apache.spark.rdd.MapPartitionsRDD.compute(MapPartitionsRDD.scala:52)\n",
      "\tat org.apache.spark.rdd.RDD.computeOrReadCheckpoint(RDD.scala:367)\n",
      "\tat org.apache.spark.rdd.RDD.iterator(RDD.scala:331)\n",
      "\tat org.apache.spark.scheduler.ResultTask.runTask(ResultTask.scala:93)\n",
      "\tat org.apache.spark.TaskContext.runTaskWithListeners(TaskContext.scala:166)\n",
      "\tat org.apache.spark.scheduler.Task.run(Task.scala:141)\n",
      "\tat org.apache.spark.executor.Executor$TaskRunner.$anonfun$run$4(Executor.scala:620)\n",
      "\tat org.apache.spark.util.SparkErrorUtils.tryWithSafeFinally(SparkErrorUtils.scala:64)\n",
      "\tat org.apache.spark.util.SparkErrorUtils.tryWithSafeFinally$(SparkErrorUtils.scala:61)\n",
      "\tat org.apache.spark.util.Utils$.tryWithSafeFinally(Utils.scala:94)\n",
      "\tat org.apache.spark.executor.Executor$TaskRunner.run(Executor.scala:623)\n",
      "\tat java.base/java.util.concurrent.ThreadPoolExecutor.runWorker(ThreadPoolExecutor.java:1136)\n",
      "\tat java.base/java.util.concurrent.ThreadPoolExecutor$Worker.run(ThreadPoolExecutor.java:635)\n",
      "\tat java.base/java.lang.Thread.run(Thread.java:840)\n",
      "\n",
      "24/03/07 17:34:34 WARN TaskSetManager: Lost task 1.0 in stage 150.0 (TID 1039) (1666sapple executor driver): java.io.IOException: Mkdirs failed to create file:/home/download/datacsv/_temporary/0/_temporary/attempt_20240307173433920426583035832744_0150_m_000001_1039 (exists=false, cwd=file:/run/media/i666sapple/VOLUME2/VS CODE/Project_personal)\n",
      "\tat org.apache.hadoop.fs.ChecksumFileSystem.create(ChecksumFileSystem.java:515)\n",
      "\tat org.apache.hadoop.fs.ChecksumFileSystem.create(ChecksumFileSystem.java:500)\n",
      "\tat org.apache.hadoop.fs.FileSystem.create(FileSystem.java:1195)\n",
      "\tat org.apache.hadoop.fs.FileSystem.create(FileSystem.java:1175)\n",
      "\tat org.apache.hadoop.fs.FileSystem.create(FileSystem.java:1064)\n",
      "\tat org.apache.spark.sql.execution.datasources.CodecStreams$.createOutputStream(CodecStreams.scala:81)\n",
      "\tat org.apache.spark.sql.execution.datasources.CodecStreams$.createOutputStreamWriter(CodecStreams.scala:92)\n",
      "\tat org.apache.spark.sql.execution.datasources.csv.CsvOutputWriter.<init>(CsvOutputWriter.scala:38)\n",
      "\tat org.apache.spark.sql.execution.datasources.csv.CSVFileFormat$$anon$1.newInstance(CSVFileFormat.scala:84)\n",
      "\tat org.apache.spark.sql.execution.datasources.SingleDirectoryDataWriter.newOutputWriter(FileFormatDataWriter.scala:161)\n",
      "\tat org.apache.spark.sql.execution.datasources.SingleDirectoryDataWriter.<init>(FileFormatDataWriter.scala:146)\n",
      "\tat org.apache.spark.sql.execution.datasources.FileFormatWriter$.executeTask(FileFormatWriter.scala:389)\n",
      "\tat org.apache.spark.sql.execution.datasources.WriteFilesExec.$anonfun$doExecuteWrite$1(WriteFiles.scala:100)\n",
      "\tat org.apache.spark.rdd.RDD.$anonfun$mapPartitionsInternal$2(RDD.scala:893)\n",
      "\tat org.apache.spark.rdd.RDD.$anonfun$mapPartitionsInternal$2$adapted(RDD.scala:893)\n",
      "\tat org.apache.spark.rdd.MapPartitionsRDD.compute(MapPartitionsRDD.scala:52)\n",
      "\tat org.apache.spark.rdd.RDD.computeOrReadCheckpoint(RDD.scala:367)\n",
      "\tat org.apache.spark.rdd.RDD.iterator(RDD.scala:331)\n",
      "\tat org.apache.spark.scheduler.ResultTask.runTask(ResultTask.scala:93)\n",
      "\tat org.apache.spark.TaskContext.runTaskWithListeners(TaskContext.scala:166)\n",
      "\tat org.apache.spark.scheduler.Task.run(Task.scala:141)\n",
      "\tat org.apache.spark.executor.Executor$TaskRunner.$anonfun$run$4(Executor.scala:620)\n",
      "\tat org.apache.spark.util.SparkErrorUtils.tryWithSafeFinally(SparkErrorUtils.scala:64)\n",
      "\tat org.apache.spark.util.SparkErrorUtils.tryWithSafeFinally$(SparkErrorUtils.scala:61)\n",
      "\tat org.apache.spark.util.Utils$.tryWithSafeFinally(Utils.scala:94)\n",
      "\tat org.apache.spark.executor.Executor$TaskRunner.run(Executor.scala:623)\n",
      "\tat java.base/java.util.concurrent.ThreadPoolExecutor.runWorker(ThreadPoolExecutor.java:1136)\n",
      "\tat java.base/java.util.concurrent.ThreadPoolExecutor$Worker.run(ThreadPoolExecutor.java:635)\n",
      "\tat java.base/java.lang.Thread.run(Thread.java:840)\n",
      "\n",
      "24/03/07 17:34:34 WARN TaskSetManager: Lost task 5.0 in stage 150.0 (TID 1043) (1666sapple executor driver): java.io.IOException: Mkdirs failed to create file:/home/download/datacsv/_temporary/0/_temporary/attempt_20240307173433920426583035832744_0150_m_000005_1043 (exists=false, cwd=file:/run/media/i666sapple/VOLUME2/VS CODE/Project_personal)\n",
      "\tat org.apache.hadoop.fs.ChecksumFileSystem.create(ChecksumFileSystem.java:515)\n",
      "\tat org.apache.hadoop.fs.ChecksumFileSystem.create(ChecksumFileSystem.java:500)\n",
      "\tat org.apache.hadoop.fs.FileSystem.create(FileSystem.java:1195)\n",
      "\tat org.apache.hadoop.fs.FileSystem.create(FileSystem.java:1175)\n",
      "\tat org.apache.hadoop.fs.FileSystem.create(FileSystem.java:1064)\n",
      "\tat org.apache.spark.sql.execution.datasources.CodecStreams$.createOutputStream(CodecStreams.scala:81)\n",
      "\tat org.apache.spark.sql.execution.datasources.CodecStreams$.createOutputStreamWriter(CodecStreams.scala:92)\n",
      "\tat org.apache.spark.sql.execution.datasources.csv.CsvOutputWriter.<init>(CsvOutputWriter.scala:38)\n",
      "\tat org.apache.spark.sql.execution.datasources.csv.CSVFileFormat$$anon$1.newInstance(CSVFileFormat.scala:84)\n",
      "\tat org.apache.spark.sql.execution.datasources.SingleDirectoryDataWriter.newOutputWriter(FileFormatDataWriter.scala:161)\n",
      "\tat org.apache.spark.sql.execution.datasources.SingleDirectoryDataWriter.<init>(FileFormatDataWriter.scala:146)\n",
      "\tat org.apache.spark.sql.execution.datasources.FileFormatWriter$.executeTask(FileFormatWriter.scala:389)\n",
      "\tat org.apache.spark.sql.execution.datasources.WriteFilesExec.$anonfun$doExecuteWrite$1(WriteFiles.scala:100)\n",
      "\tat org.apache.spark.rdd.RDD.$anonfun$mapPartitionsInternal$2(RDD.scala:893)\n",
      "\tat org.apache.spark.rdd.RDD.$anonfun$mapPartitionsInternal$2$adapted(RDD.scala:893)\n",
      "\tat org.apache.spark.rdd.MapPartitionsRDD.compute(MapPartitionsRDD.scala:52)\n",
      "\tat org.apache.spark.rdd.RDD.computeOrReadCheckpoint(RDD.scala:367)\n",
      "\tat org.apache.spark.rdd.RDD.iterator(RDD.scala:331)\n",
      "\tat org.apache.spark.scheduler.ResultTask.runTask(ResultTask.scala:93)\n",
      "\tat org.apache.spark.TaskContext.runTaskWithListeners(TaskContext.scala:166)\n",
      "\tat org.apache.spark.scheduler.Task.run(Task.scala:141)\n",
      "\tat org.apache.spark.executor.Executor$TaskRunner.$anonfun$run$4(Executor.scala:620)\n",
      "\tat org.apache.spark.util.SparkErrorUtils.tryWithSafeFinally(SparkErrorUtils.scala:64)\n",
      "\tat org.apache.spark.util.SparkErrorUtils.tryWithSafeFinally$(SparkErrorUtils.scala:61)\n",
      "\tat org.apache.spark.util.Utils$.tryWithSafeFinally(Utils.scala:94)\n",
      "\tat org.apache.spark.executor.Executor$TaskRunner.run(Executor.scala:623)\n",
      "\tat java.base/java.util.concurrent.ThreadPoolExecutor.runWorker(ThreadPoolExecutor.java:1136)\n",
      "\tat java.base/java.util.concurrent.ThreadPoolExecutor$Worker.run(ThreadPoolExecutor.java:635)\n",
      "\tat java.base/java.lang.Thread.run(Thread.java:840)\n",
      "\n",
      "24/03/07 17:34:34 WARN TaskSetManager: Lost task 9.0 in stage 150.0 (TID 1047) (1666sapple executor driver): java.io.IOException: Mkdirs failed to create file:/home/download/datacsv/_temporary/0/_temporary/attempt_20240307173433920426583035832744_0150_m_000009_1047 (exists=false, cwd=file:/run/media/i666sapple/VOLUME2/VS CODE/Project_personal)\n",
      "\tat org.apache.hadoop.fs.ChecksumFileSystem.create(ChecksumFileSystem.java:515)\n",
      "\tat org.apache.hadoop.fs.ChecksumFileSystem.create(ChecksumFileSystem.java:500)\n",
      "\tat org.apache.hadoop.fs.FileSystem.create(FileSystem.java:1195)\n",
      "\tat org.apache.hadoop.fs.FileSystem.create(FileSystem.java:1175)\n",
      "\tat org.apache.hadoop.fs.FileSystem.create(FileSystem.java:1064)\n",
      "\tat org.apache.spark.sql.execution.datasources.CodecStreams$.createOutputStream(CodecStreams.scala:81)\n",
      "\tat org.apache.spark.sql.execution.datasources.CodecStreams$.createOutputStreamWriter(CodecStreams.scala:92)\n",
      "\tat org.apache.spark.sql.execution.datasources.csv.CsvOutputWriter.<init>(CsvOutputWriter.scala:38)\n",
      "\tat org.apache.spark.sql.execution.datasources.csv.CSVFileFormat$$anon$1.newInstance(CSVFileFormat.scala:84)\n",
      "\tat org.apache.spark.sql.execution.datasources.SingleDirectoryDataWriter.newOutputWriter(FileFormatDataWriter.scala:161)\n",
      "\tat org.apache.spark.sql.execution.datasources.SingleDirectoryDataWriter.<init>(FileFormatDataWriter.scala:146)\n",
      "\tat org.apache.spark.sql.execution.datasources.FileFormatWriter$.executeTask(FileFormatWriter.scala:389)\n",
      "\tat org.apache.spark.sql.execution.datasources.WriteFilesExec.$anonfun$doExecuteWrite$1(WriteFiles.scala:100)\n",
      "\tat org.apache.spark.rdd.RDD.$anonfun$mapPartitionsInternal$2(RDD.scala:893)\n",
      "\tat org.apache.spark.rdd.RDD.$anonfun$mapPartitionsInternal$2$adapted(RDD.scala:893)\n",
      "\tat org.apache.spark.rdd.MapPartitionsRDD.compute(MapPartitionsRDD.scala:52)\n",
      "\tat org.apache.spark.rdd.RDD.computeOrReadCheckpoint(RDD.scala:367)\n",
      "\tat org.apache.spark.rdd.RDD.iterator(RDD.scala:331)\n",
      "\tat org.apache.spark.scheduler.ResultTask.runTask(ResultTask.scala:93)\n",
      "\tat org.apache.spark.TaskContext.runTaskWithListeners(TaskContext.scala:166)\n",
      "\tat org.apache.spark.scheduler.Task.run(Task.scala:141)\n",
      "\tat org.apache.spark.executor.Executor$TaskRunner.$anonfun$run$4(Executor.scala:620)\n",
      "\tat org.apache.spark.util.SparkErrorUtils.tryWithSafeFinally(SparkErrorUtils.scala:64)\n",
      "\tat org.apache.spark.util.SparkErrorUtils.tryWithSafeFinally$(SparkErrorUtils.scala:61)\n",
      "\tat org.apache.spark.util.Utils$.tryWithSafeFinally(Utils.scala:94)\n",
      "\tat org.apache.spark.executor.Executor$TaskRunner.run(Executor.scala:623)\n",
      "\tat java.base/java.util.concurrent.ThreadPoolExecutor.runWorker(ThreadPoolExecutor.java:1136)\n",
      "\tat java.base/java.util.concurrent.ThreadPoolExecutor$Worker.run(ThreadPoolExecutor.java:635)\n",
      "\tat java.base/java.lang.Thread.run(Thread.java:840)\n",
      "\n",
      "24/03/07 17:34:34 WARN TaskSetManager: Lost task 2.0 in stage 150.0 (TID 1040) (1666sapple executor driver): java.io.IOException: Mkdirs failed to create file:/home/download/datacsv/_temporary/0/_temporary/attempt_20240307173433920426583035832744_0150_m_000002_1040 (exists=false, cwd=file:/run/media/i666sapple/VOLUME2/VS CODE/Project_personal)\n",
      "\tat org.apache.hadoop.fs.ChecksumFileSystem.create(ChecksumFileSystem.java:515)\n",
      "\tat org.apache.hadoop.fs.ChecksumFileSystem.create(ChecksumFileSystem.java:500)\n",
      "\tat org.apache.hadoop.fs.FileSystem.create(FileSystem.java:1195)\n",
      "\tat org.apache.hadoop.fs.FileSystem.create(FileSystem.java:1175)\n",
      "\tat org.apache.hadoop.fs.FileSystem.create(FileSystem.java:1064)\n",
      "\tat org.apache.spark.sql.execution.datasources.CodecStreams$.createOutputStream(CodecStreams.scala:81)\n",
      "\tat org.apache.spark.sql.execution.datasources.CodecStreams$.createOutputStreamWriter(CodecStreams.scala:92)\n",
      "\tat org.apache.spark.sql.execution.datasources.csv.CsvOutputWriter.<init>(CsvOutputWriter.scala:38)\n",
      "\tat org.apache.spark.sql.execution.datasources.csv.CSVFileFormat$$anon$1.newInstance(CSVFileFormat.scala:84)\n",
      "\tat org.apache.spark.sql.execution.datasources.SingleDirectoryDataWriter.newOutputWriter(FileFormatDataWriter.scala:161)\n",
      "\tat org.apache.spark.sql.execution.datasources.SingleDirectoryDataWriter.<init>(FileFormatDataWriter.scala:146)\n",
      "\tat org.apache.spark.sql.execution.datasources.FileFormatWriter$.executeTask(FileFormatWriter.scala:389)\n",
      "\tat org.apache.spark.sql.execution.datasources.WriteFilesExec.$anonfun$doExecuteWrite$1(WriteFiles.scala:100)\n",
      "\tat org.apache.spark.rdd.RDD.$anonfun$mapPartitionsInternal$2(RDD.scala:893)\n",
      "\tat org.apache.spark.rdd.RDD.$anonfun$mapPartitionsInternal$2$adapted(RDD.scala:893)\n",
      "\tat org.apache.spark.rdd.MapPartitionsRDD.compute(MapPartitionsRDD.scala:52)\n",
      "\tat org.apache.spark.rdd.RDD.computeOrReadCheckpoint(RDD.scala:367)\n",
      "\tat org.apache.spark.rdd.RDD.iterator(RDD.scala:331)\n",
      "\tat org.apache.spark.scheduler.ResultTask.runTask(ResultTask.scala:93)\n",
      "\tat org.apache.spark.TaskContext.runTaskWithListeners(TaskContext.scala:166)\n",
      "\tat org.apache.spark.scheduler.Task.run(Task.scala:141)\n",
      "\tat org.apache.spark.executor.Executor$TaskRunner.$anonfun$run$4(Executor.scala:620)\n",
      "\tat org.apache.spark.util.SparkErrorUtils.tryWithSafeFinally(SparkErrorUtils.scala:64)\n",
      "\tat org.apache.spark.util.SparkErrorUtils.tryWithSafeFinally$(SparkErrorUtils.scala:61)\n",
      "\tat org.apache.spark.util.Utils$.tryWithSafeFinally(Utils.scala:94)\n",
      "\tat org.apache.spark.executor.Executor$TaskRunner.run(Executor.scala:623)\n",
      "\tat java.base/java.util.concurrent.ThreadPoolExecutor.runWorker(ThreadPoolExecutor.java:1136)\n",
      "\tat java.base/java.util.concurrent.ThreadPoolExecutor$Worker.run(ThreadPoolExecutor.java:635)\n",
      "\tat java.base/java.lang.Thread.run(Thread.java:840)\n",
      "\n",
      "24/03/07 17:34:34 WARN TaskSetManager: Lost task 13.0 in stage 150.0 (TID 1051) (1666sapple executor driver): java.io.IOException: Mkdirs failed to create file:/home/download/datacsv/_temporary/0/_temporary/attempt_20240307173433920426583035832744_0150_m_000013_1051 (exists=false, cwd=file:/run/media/i666sapple/VOLUME2/VS CODE/Project_personal)\n",
      "\tat org.apache.hadoop.fs.ChecksumFileSystem.create(ChecksumFileSystem.java:515)\n",
      "\tat org.apache.hadoop.fs.ChecksumFileSystem.create(ChecksumFileSystem.java:500)\n",
      "\tat org.apache.hadoop.fs.FileSystem.create(FileSystem.java:1195)\n",
      "\tat org.apache.hadoop.fs.FileSystem.create(FileSystem.java:1175)\n",
      "\tat org.apache.hadoop.fs.FileSystem.create(FileSystem.java:1064)\n",
      "\tat org.apache.spark.sql.execution.datasources.CodecStreams$.createOutputStream(CodecStreams.scala:81)\n",
      "\tat org.apache.spark.sql.execution.datasources.CodecStreams$.createOutputStreamWriter(CodecStreams.scala:92)\n",
      "\tat org.apache.spark.sql.execution.datasources.csv.CsvOutputWriter.<init>(CsvOutputWriter.scala:38)\n",
      "\tat org.apache.spark.sql.execution.datasources.csv.CSVFileFormat$$anon$1.newInstance(CSVFileFormat.scala:84)\n",
      "\tat org.apache.spark.sql.execution.datasources.SingleDirectoryDataWriter.newOutputWriter(FileFormatDataWriter.scala:161)\n",
      "\tat org.apache.spark.sql.execution.datasources.SingleDirectoryDataWriter.<init>(FileFormatDataWriter.scala:146)\n",
      "\tat org.apache.spark.sql.execution.datasources.FileFormatWriter$.executeTask(FileFormatWriter.scala:389)\n",
      "\tat org.apache.spark.sql.execution.datasources.WriteFilesExec.$anonfun$doExecuteWrite$1(WriteFiles.scala:100)\n",
      "\tat org.apache.spark.rdd.RDD.$anonfun$mapPartitionsInternal$2(RDD.scala:893)\n",
      "\tat org.apache.spark.rdd.RDD.$anonfun$mapPartitionsInternal$2$adapted(RDD.scala:893)\n",
      "\tat org.apache.spark.rdd.MapPartitionsRDD.compute(MapPartitionsRDD.scala:52)\n",
      "\tat org.apache.spark.rdd.RDD.computeOrReadCheckpoint(RDD.scala:367)\n",
      "\tat org.apache.spark.rdd.RDD.iterator(RDD.scala:331)\n",
      "\tat org.apache.spark.scheduler.ResultTask.runTask(ResultTask.scala:93)\n",
      "\tat org.apache.spark.TaskContext.runTaskWithListeners(TaskContext.scala:166)\n",
      "\tat org.apache.spark.scheduler.Task.run(Task.scala:141)\n",
      "\tat org.apache.spark.executor.Executor$TaskRunner.$anonfun$run$4(Executor.scala:620)\n",
      "\tat org.apache.spark.util.SparkErrorUtils.tryWithSafeFinally(SparkErrorUtils.scala:64)\n",
      "\tat org.apache.spark.util.SparkErrorUtils.tryWithSafeFinally$(SparkErrorUtils.scala:61)\n",
      "\tat org.apache.spark.util.Utils$.tryWithSafeFinally(Utils.scala:94)\n",
      "\tat org.apache.spark.executor.Executor$TaskRunner.run(Executor.scala:623)\n",
      "\tat java.base/java.util.concurrent.ThreadPoolExecutor.runWorker(ThreadPoolExecutor.java:1136)\n",
      "\tat java.base/java.util.concurrent.ThreadPoolExecutor$Worker.run(ThreadPoolExecutor.java:635)\n",
      "\tat java.base/java.lang.Thread.run(Thread.java:840)\n",
      "\n",
      "24/03/07 17:34:34 WARN TaskSetManager: Lost task 6.0 in stage 150.0 (TID 1044) (1666sapple executor driver): java.io.IOException: Mkdirs failed to create file:/home/download/datacsv/_temporary/0/_temporary/attempt_20240307173433920426583035832744_0150_m_000006_1044 (exists=false, cwd=file:/run/media/i666sapple/VOLUME2/VS CODE/Project_personal)\n",
      "\tat org.apache.hadoop.fs.ChecksumFileSystem.create(ChecksumFileSystem.java:515)\n",
      "\tat org.apache.hadoop.fs.ChecksumFileSystem.create(ChecksumFileSystem.java:500)\n",
      "\tat org.apache.hadoop.fs.FileSystem.create(FileSystem.java:1195)\n",
      "\tat org.apache.hadoop.fs.FileSystem.create(FileSystem.java:1175)\n",
      "\tat org.apache.hadoop.fs.FileSystem.create(FileSystem.java:1064)\n",
      "\tat org.apache.spark.sql.execution.datasources.CodecStreams$.createOutputStream(CodecStreams.scala:81)\n",
      "\tat org.apache.spark.sql.execution.datasources.CodecStreams$.createOutputStreamWriter(CodecStreams.scala:92)\n",
      "\tat org.apache.spark.sql.execution.datasources.csv.CsvOutputWriter.<init>(CsvOutputWriter.scala:38)\n",
      "\tat org.apache.spark.sql.execution.datasources.csv.CSVFileFormat$$anon$1.newInstance(CSVFileFormat.scala:84)\n",
      "\tat org.apache.spark.sql.execution.datasources.SingleDirectoryDataWriter.newOutputWriter(FileFormatDataWriter.scala:161)\n",
      "\tat org.apache.spark.sql.execution.datasources.SingleDirectoryDataWriter.<init>(FileFormatDataWriter.scala:146)\n",
      "\tat org.apache.spark.sql.execution.datasources.FileFormatWriter$.executeTask(FileFormatWriter.scala:389)\n",
      "\tat org.apache.spark.sql.execution.datasources.WriteFilesExec.$anonfun$doExecuteWrite$1(WriteFiles.scala:100)\n",
      "\tat org.apache.spark.rdd.RDD.$anonfun$mapPartitionsInternal$2(RDD.scala:893)\n",
      "\tat org.apache.spark.rdd.RDD.$anonfun$mapPartitionsInternal$2$adapted(RDD.scala:893)\n",
      "\tat org.apache.spark.rdd.MapPartitionsRDD.compute(MapPartitionsRDD.scala:52)\n",
      "\tat org.apache.spark.rdd.RDD.computeOrReadCheckpoint(RDD.scala:367)\n",
      "\tat org.apache.spark.rdd.RDD.iterator(RDD.scala:331)\n",
      "\tat org.apache.spark.scheduler.ResultTask.runTask(ResultTask.scala:93)\n",
      "\tat org.apache.spark.TaskContext.runTaskWithListeners(TaskContext.scala:166)\n",
      "\tat org.apache.spark.scheduler.Task.run(Task.scala:141)\n",
      "\tat org.apache.spark.executor.Executor$TaskRunner.$anonfun$run$4(Executor.scala:620)\n",
      "\tat org.apache.spark.util.SparkErrorUtils.tryWithSafeFinally(SparkErrorUtils.scala:64)\n",
      "\tat org.apache.spark.util.SparkErrorUtils.tryWithSafeFinally$(SparkErrorUtils.scala:61)\n",
      "\tat org.apache.spark.util.Utils$.tryWithSafeFinally(Utils.scala:94)\n",
      "\tat org.apache.spark.executor.Executor$TaskRunner.run(Executor.scala:623)\n",
      "\tat java.base/java.util.concurrent.ThreadPoolExecutor.runWorker(ThreadPoolExecutor.java:1136)\n",
      "\tat java.base/java.util.concurrent.ThreadPoolExecutor$Worker.run(ThreadPoolExecutor.java:635)\n",
      "\tat java.base/java.lang.Thread.run(Thread.java:840)\n",
      "\n",
      "24/03/07 17:34:34 WARN TaskSetManager: Lost task 12.0 in stage 150.0 (TID 1050) (1666sapple executor driver): java.io.IOException: Mkdirs failed to create file:/home/download/datacsv/_temporary/0/_temporary/attempt_20240307173433920426583035832744_0150_m_000012_1050 (exists=false, cwd=file:/run/media/i666sapple/VOLUME2/VS CODE/Project_personal)\n",
      "\tat org.apache.hadoop.fs.ChecksumFileSystem.create(ChecksumFileSystem.java:515)\n",
      "\tat org.apache.hadoop.fs.ChecksumFileSystem.create(ChecksumFileSystem.java:500)\n",
      "\tat org.apache.hadoop.fs.FileSystem.create(FileSystem.java:1195)\n",
      "\tat org.apache.hadoop.fs.FileSystem.create(FileSystem.java:1175)\n",
      "\tat org.apache.hadoop.fs.FileSystem.create(FileSystem.java:1064)\n",
      "\tat org.apache.spark.sql.execution.datasources.CodecStreams$.createOutputStream(CodecStreams.scala:81)\n",
      "\tat org.apache.spark.sql.execution.datasources.CodecStreams$.createOutputStreamWriter(CodecStreams.scala:92)\n",
      "\tat org.apache.spark.sql.execution.datasources.csv.CsvOutputWriter.<init>(CsvOutputWriter.scala:38)\n",
      "\tat org.apache.spark.sql.execution.datasources.csv.CSVFileFormat$$anon$1.newInstance(CSVFileFormat.scala:84)\n",
      "\tat org.apache.spark.sql.execution.datasources.SingleDirectoryDataWriter.newOutputWriter(FileFormatDataWriter.scala:161)\n",
      "\tat org.apache.spark.sql.execution.datasources.SingleDirectoryDataWriter.<init>(FileFormatDataWriter.scala:146)\n",
      "\tat org.apache.spark.sql.execution.datasources.FileFormatWriter$.executeTask(FileFormatWriter.scala:389)\n",
      "\tat org.apache.spark.sql.execution.datasources.WriteFilesExec.$anonfun$doExecuteWrite$1(WriteFiles.scala:100)\n",
      "\tat org.apache.spark.rdd.RDD.$anonfun$mapPartitionsInternal$2(RDD.scala:893)\n",
      "\tat org.apache.spark.rdd.RDD.$anonfun$mapPartitionsInternal$2$adapted(RDD.scala:893)\n",
      "\tat org.apache.spark.rdd.MapPartitionsRDD.compute(MapPartitionsRDD.scala:52)\n",
      "\tat org.apache.spark.rdd.RDD.computeOrReadCheckpoint(RDD.scala:367)\n",
      "\tat org.apache.spark.rdd.RDD.iterator(RDD.scala:331)\n",
      "\tat org.apache.spark.scheduler.ResultTask.runTask(ResultTask.scala:93)\n",
      "\tat org.apache.spark.TaskContext.runTaskWithListeners(TaskContext.scala:166)\n",
      "\tat org.apache.spark.scheduler.Task.run(Task.scala:141)\n",
      "\tat org.apache.spark.executor.Executor$TaskRunner.$anonfun$run$4(Executor.scala:620)\n",
      "\tat org.apache.spark.util.SparkErrorUtils.tryWithSafeFinally(SparkErrorUtils.scala:64)\n",
      "\tat org.apache.spark.util.SparkErrorUtils.tryWithSafeFinally$(SparkErrorUtils.scala:61)\n",
      "\tat org.apache.spark.util.Utils$.tryWithSafeFinally(Utils.scala:94)\n",
      "\tat org.apache.spark.executor.Executor$TaskRunner.run(Executor.scala:623)\n",
      "\tat java.base/java.util.concurrent.ThreadPoolExecutor.runWorker(ThreadPoolExecutor.java:1136)\n",
      "\tat java.base/java.util.concurrent.ThreadPoolExecutor$Worker.run(ThreadPoolExecutor.java:635)\n",
      "\tat java.base/java.lang.Thread.run(Thread.java:840)\n",
      "\n",
      "24/03/07 17:34:34 WARN TaskSetManager: Lost task 10.0 in stage 150.0 (TID 1048) (1666sapple executor driver): java.io.IOException: Mkdirs failed to create file:/home/download/datacsv/_temporary/0/_temporary/attempt_20240307173433920426583035832744_0150_m_000010_1048 (exists=false, cwd=file:/run/media/i666sapple/VOLUME2/VS CODE/Project_personal)\n",
      "\tat org.apache.hadoop.fs.ChecksumFileSystem.create(ChecksumFileSystem.java:515)\n",
      "\tat org.apache.hadoop.fs.ChecksumFileSystem.create(ChecksumFileSystem.java:500)\n",
      "\tat org.apache.hadoop.fs.FileSystem.create(FileSystem.java:1195)\n",
      "\tat org.apache.hadoop.fs.FileSystem.create(FileSystem.java:1175)\n",
      "\tat org.apache.hadoop.fs.FileSystem.create(FileSystem.java:1064)\n",
      "\tat org.apache.spark.sql.execution.datasources.CodecStreams$.createOutputStream(CodecStreams.scala:81)\n",
      "\tat org.apache.spark.sql.execution.datasources.CodecStreams$.createOutputStreamWriter(CodecStreams.scala:92)\n",
      "\tat org.apache.spark.sql.execution.datasources.csv.CsvOutputWriter.<init>(CsvOutputWriter.scala:38)\n",
      "\tat org.apache.spark.sql.execution.datasources.csv.CSVFileFormat$$anon$1.newInstance(CSVFileFormat.scala:84)\n",
      "\tat org.apache.spark.sql.execution.datasources.SingleDirectoryDataWriter.newOutputWriter(FileFormatDataWriter.scala:161)\n",
      "\tat org.apache.spark.sql.execution.datasources.SingleDirectoryDataWriter.<init>(FileFormatDataWriter.scala:146)\n",
      "\tat org.apache.spark.sql.execution.datasources.FileFormatWriter$.executeTask(FileFormatWriter.scala:389)\n",
      "\tat org.apache.spark.sql.execution.datasources.WriteFilesExec.$anonfun$doExecuteWrite$1(WriteFiles.scala:100)\n",
      "\tat org.apache.spark.rdd.RDD.$anonfun$mapPartitionsInternal$2(RDD.scala:893)\n",
      "\tat org.apache.spark.rdd.RDD.$anonfun$mapPartitionsInternal$2$adapted(RDD.scala:893)\n",
      "\tat org.apache.spark.rdd.MapPartitionsRDD.compute(MapPartitionsRDD.scala:52)\n",
      "\tat org.apache.spark.rdd.RDD.computeOrReadCheckpoint(RDD.scala:367)\n",
      "\tat org.apache.spark.rdd.RDD.iterator(RDD.scala:331)\n",
      "\tat org.apache.spark.scheduler.ResultTask.runTask(ResultTask.scala:93)\n",
      "\tat org.apache.spark.TaskContext.runTaskWithListeners(TaskContext.scala:166)\n",
      "\tat org.apache.spark.scheduler.Task.run(Task.scala:141)\n",
      "\tat org.apache.spark.executor.Executor$TaskRunner.$anonfun$run$4(Executor.scala:620)\n",
      "\tat org.apache.spark.util.SparkErrorUtils.tryWithSafeFinally(SparkErrorUtils.scala:64)\n",
      "\tat org.apache.spark.util.SparkErrorUtils.tryWithSafeFinally$(SparkErrorUtils.scala:61)\n",
      "\tat org.apache.spark.util.Utils$.tryWithSafeFinally(Utils.scala:94)\n",
      "\tat org.apache.spark.executor.Executor$TaskRunner.run(Executor.scala:623)\n",
      "\tat java.base/java.util.concurrent.ThreadPoolExecutor.runWorker(ThreadPoolExecutor.java:1136)\n",
      "\tat java.base/java.util.concurrent.ThreadPoolExecutor$Worker.run(ThreadPoolExecutor.java:635)\n",
      "\tat java.base/java.lang.Thread.run(Thread.java:840)\n",
      "\n",
      "24/03/07 17:34:34 WARN TaskSetManager: Lost task 14.0 in stage 150.0 (TID 1052) (1666sapple executor driver): java.io.IOException: Mkdirs failed to create file:/home/download/datacsv/_temporary/0/_temporary/attempt_20240307173433920426583035832744_0150_m_000014_1052 (exists=false, cwd=file:/run/media/i666sapple/VOLUME2/VS CODE/Project_personal)\n",
      "\tat org.apache.hadoop.fs.ChecksumFileSystem.create(ChecksumFileSystem.java:515)\n",
      "\tat org.apache.hadoop.fs.ChecksumFileSystem.create(ChecksumFileSystem.java:500)\n",
      "\tat org.apache.hadoop.fs.FileSystem.create(FileSystem.java:1195)\n",
      "\tat org.apache.hadoop.fs.FileSystem.create(FileSystem.java:1175)\n",
      "\tat org.apache.hadoop.fs.FileSystem.create(FileSystem.java:1064)\n",
      "\tat org.apache.spark.sql.execution.datasources.CodecStreams$.createOutputStream(CodecStreams.scala:81)\n",
      "\tat org.apache.spark.sql.execution.datasources.CodecStreams$.createOutputStreamWriter(CodecStreams.scala:92)\n",
      "\tat org.apache.spark.sql.execution.datasources.csv.CsvOutputWriter.<init>(CsvOutputWriter.scala:38)\n",
      "\tat org.apache.spark.sql.execution.datasources.csv.CSVFileFormat$$anon$1.newInstance(CSVFileFormat.scala:84)\n",
      "\tat org.apache.spark.sql.execution.datasources.SingleDirectoryDataWriter.newOutputWriter(FileFormatDataWriter.scala:161)\n",
      "\tat org.apache.spark.sql.execution.datasources.SingleDirectoryDataWriter.<init>(FileFormatDataWriter.scala:146)\n",
      "\tat org.apache.spark.sql.execution.datasources.FileFormatWriter$.executeTask(FileFormatWriter.scala:389)\n",
      "\tat org.apache.spark.sql.execution.datasources.WriteFilesExec.$anonfun$doExecuteWrite$1(WriteFiles.scala:100)\n",
      "\tat org.apache.spark.rdd.RDD.$anonfun$mapPartitionsInternal$2(RDD.scala:893)\n",
      "\tat org.apache.spark.rdd.RDD.$anonfun$mapPartitionsInternal$2$adapted(RDD.scala:893)\n",
      "\tat org.apache.spark.rdd.MapPartitionsRDD.compute(MapPartitionsRDD.scala:52)\n",
      "\tat org.apache.spark.rdd.RDD.computeOrReadCheckpoint(RDD.scala:367)\n",
      "\tat org.apache.spark.rdd.RDD.iterator(RDD.scala:331)\n",
      "\tat org.apache.spark.scheduler.ResultTask.runTask(ResultTask.scala:93)\n",
      "\tat org.apache.spark.TaskContext.runTaskWithListeners(TaskContext.scala:166)\n",
      "\tat org.apache.spark.scheduler.Task.run(Task.scala:141)\n",
      "\tat org.apache.spark.executor.Executor$TaskRunner.$anonfun$run$4(Executor.scala:620)\n",
      "\tat org.apache.spark.util.SparkErrorUtils.tryWithSafeFinally(SparkErrorUtils.scala:64)\n",
      "\tat org.apache.spark.util.SparkErrorUtils.tryWithSafeFinally$(SparkErrorUtils.scala:61)\n",
      "\tat org.apache.spark.util.Utils$.tryWithSafeFinally(Utils.scala:94)\n",
      "\tat org.apache.spark.executor.Executor$TaskRunner.run(Executor.scala:623)\n",
      "\tat java.base/java.util.concurrent.ThreadPoolExecutor.runWorker(ThreadPoolExecutor.java:1136)\n",
      "\tat java.base/java.util.concurrent.ThreadPoolExecutor$Worker.run(ThreadPoolExecutor.java:635)\n",
      "\tat java.base/java.lang.Thread.run(Thread.java:840)\n",
      "\n"
     ]
    },
    {
     "name": "stderr",
     "output_type": "stream",
     "text": [
      "24/03/07 17:34:34 ERROR FileFormatWriter: Aborting job 336f664c-bcd1-4bc6-b585-df69b72b36a4.\n",
      "org.apache.spark.SparkException: Job aborted due to stage failure: Task 7 in stage 150.0 failed 1 times, most recent failure: Lost task 7.0 in stage 150.0 (TID 1045) (1666sapple executor driver): java.io.IOException: Mkdirs failed to create file:/home/download/datacsv/_temporary/0/_temporary/attempt_20240307173433920426583035832744_0150_m_000007_1045 (exists=false, cwd=file:/run/media/i666sapple/VOLUME2/VS CODE/Project_personal)\n",
      "\tat org.apache.hadoop.fs.ChecksumFileSystem.create(ChecksumFileSystem.java:515)\n",
      "\tat org.apache.hadoop.fs.ChecksumFileSystem.create(ChecksumFileSystem.java:500)\n",
      "\tat org.apache.hadoop.fs.FileSystem.create(FileSystem.java:1195)\n",
      "\tat org.apache.hadoop.fs.FileSystem.create(FileSystem.java:1175)\n",
      "\tat org.apache.hadoop.fs.FileSystem.create(FileSystem.java:1064)\n",
      "\tat org.apache.spark.sql.execution.datasources.CodecStreams$.createOutputStream(CodecStreams.scala:81)\n",
      "\tat org.apache.spark.sql.execution.datasources.CodecStreams$.createOutputStreamWriter(CodecStreams.scala:92)\n",
      "\tat org.apache.spark.sql.execution.datasources.csv.CsvOutputWriter.<init>(CsvOutputWriter.scala:38)\n",
      "\tat org.apache.spark.sql.execution.datasources.csv.CSVFileFormat$$anon$1.newInstance(CSVFileFormat.scala:84)\n",
      "\tat org.apache.spark.sql.execution.datasources.SingleDirectoryDataWriter.newOutputWriter(FileFormatDataWriter.scala:161)\n",
      "\tat org.apache.spark.sql.execution.datasources.SingleDirectoryDataWriter.<init>(FileFormatDataWriter.scala:146)\n",
      "\tat org.apache.spark.sql.execution.datasources.FileFormatWriter$.executeTask(FileFormatWriter.scala:389)\n",
      "\tat org.apache.spark.sql.execution.datasources.WriteFilesExec.$anonfun$doExecuteWrite$1(WriteFiles.scala:100)\n",
      "\tat org.apache.spark.rdd.RDD.$anonfun$mapPartitionsInternal$2(RDD.scala:893)\n",
      "\tat org.apache.spark.rdd.RDD.$anonfun$mapPartitionsInternal$2$adapted(RDD.scala:893)\n",
      "\tat org.apache.spark.rdd.MapPartitionsRDD.compute(MapPartitionsRDD.scala:52)\n",
      "\tat org.apache.spark.rdd.RDD.computeOrReadCheckpoint(RDD.scala:367)\n",
      "\tat org.apache.spark.rdd.RDD.iterator(RDD.scala:331)\n",
      "\tat org.apache.spark.scheduler.ResultTask.runTask(ResultTask.scala:93)\n",
      "\tat org.apache.spark.TaskContext.runTaskWithListeners(TaskContext.scala:166)\n",
      "\tat org.apache.spark.scheduler.Task.run(Task.scala:141)\n",
      "\tat org.apache.spark.executor.Executor$TaskRunner.$anonfun$run$4(Executor.scala:620)\n",
      "\tat org.apache.spark.util.SparkErrorUtils.tryWithSafeFinally(SparkErrorUtils.scala:64)\n",
      "\tat org.apache.spark.util.SparkErrorUtils.tryWithSafeFinally$(SparkErrorUtils.scala:61)\n",
      "\tat org.apache.spark.util.Utils$.tryWithSafeFinally(Utils.scala:94)\n",
      "\tat org.apache.spark.executor.Executor$TaskRunner.run(Executor.scala:623)\n",
      "\tat java.base/java.util.concurrent.ThreadPoolExecutor.runWorker(ThreadPoolExecutor.java:1136)\n",
      "\tat java.base/java.util.concurrent.ThreadPoolExecutor$Worker.run(ThreadPoolExecutor.java:635)\n",
      "\tat java.base/java.lang.Thread.run(Thread.java:840)\n",
      "\n",
      "Driver stacktrace:\n",
      "\tat org.apache.spark.scheduler.DAGScheduler.failJobAndIndependentStages(DAGScheduler.scala:2856)\n",
      "\tat org.apache.spark.scheduler.DAGScheduler.$anonfun$abortStage$2(DAGScheduler.scala:2792)\n",
      "\tat org.apache.spark.scheduler.DAGScheduler.$anonfun$abortStage$2$adapted(DAGScheduler.scala:2791)\n",
      "\tat scala.collection.mutable.ResizableArray.foreach(ResizableArray.scala:62)\n",
      "\tat scala.collection.mutable.ResizableArray.foreach$(ResizableArray.scala:55)\n",
      "\tat scala.collection.mutable.ArrayBuffer.foreach(ArrayBuffer.scala:49)\n",
      "\tat org.apache.spark.scheduler.DAGScheduler.abortStage(DAGScheduler.scala:2791)\n",
      "\tat org.apache.spark.scheduler.DAGScheduler.$anonfun$handleTaskSetFailed$1(DAGScheduler.scala:1247)\n",
      "\tat org.apache.spark.scheduler.DAGScheduler.$anonfun$handleTaskSetFailed$1$adapted(DAGScheduler.scala:1247)\n",
      "\tat scala.Option.foreach(Option.scala:407)\n",
      "\tat org.apache.spark.scheduler.DAGScheduler.handleTaskSetFailed(DAGScheduler.scala:1247)\n",
      "\tat org.apache.spark.scheduler.DAGSchedulerEventProcessLoop.doOnReceive(DAGScheduler.scala:3060)\n",
      "\tat org.apache.spark.scheduler.DAGSchedulerEventProcessLoop.onReceive(DAGScheduler.scala:2994)\n",
      "\tat org.apache.spark.scheduler.DAGSchedulerEventProcessLoop.onReceive(DAGScheduler.scala:2983)\n",
      "\tat org.apache.spark.util.EventLoop$$anon$1.run(EventLoop.scala:49)\n",
      "\tat org.apache.spark.scheduler.DAGScheduler.runJob(DAGScheduler.scala:989)\n",
      "\tat org.apache.spark.SparkContext.runJob(SparkContext.scala:2398)\n",
      "\tat org.apache.spark.sql.execution.datasources.FileFormatWriter$.$anonfun$executeWrite$4(FileFormatWriter.scala:307)\n",
      "\tat org.apache.spark.sql.execution.datasources.FileFormatWriter$.writeAndCommit(FileFormatWriter.scala:271)\n",
      "\tat org.apache.spark.sql.execution.datasources.FileFormatWriter$.executeWrite(FileFormatWriter.scala:304)\n",
      "\tat org.apache.spark.sql.execution.datasources.FileFormatWriter$.write(FileFormatWriter.scala:190)\n",
      "\tat org.apache.spark.sql.execution.datasources.InsertIntoHadoopFsRelationCommand.run(InsertIntoHadoopFsRelationCommand.scala:190)\n",
      "\tat org.apache.spark.sql.execution.command.DataWritingCommandExec.sideEffectResult$lzycompute(commands.scala:113)\n",
      "\tat org.apache.spark.sql.execution.command.DataWritingCommandExec.sideEffectResult(commands.scala:111)\n",
      "\tat org.apache.spark.sql.execution.command.DataWritingCommandExec.executeCollect(commands.scala:125)\n",
      "\tat org.apache.spark.sql.execution.QueryExecution$$anonfun$eagerlyExecuteCommands$1.$anonfun$applyOrElse$1(QueryExecution.scala:107)\n",
      "\tat org.apache.spark.sql.execution.SQLExecution$.$anonfun$withNewExecutionId$6(SQLExecution.scala:125)\n",
      "\tat org.apache.spark.sql.execution.SQLExecution$.withSQLConfPropagated(SQLExecution.scala:201)\n",
      "\tat org.apache.spark.sql.execution.SQLExecution$.$anonfun$withNewExecutionId$1(SQLExecution.scala:108)\n",
      "\tat org.apache.spark.sql.SparkSession.withActive(SparkSession.scala:900)\n",
      "\tat org.apache.spark.sql.execution.SQLExecution$.withNewExecutionId(SQLExecution.scala:66)\n",
      "\tat org.apache.spark.sql.execution.QueryExecution$$anonfun$eagerlyExecuteCommands$1.applyOrElse(QueryExecution.scala:107)\n",
      "\tat org.apache.spark.sql.execution.QueryExecution$$anonfun$eagerlyExecuteCommands$1.applyOrElse(QueryExecution.scala:98)\n",
      "\tat org.apache.spark.sql.catalyst.trees.TreeNode.$anonfun$transformDownWithPruning$1(TreeNode.scala:461)\n",
      "\tat org.apache.spark.sql.catalyst.trees.CurrentOrigin$.withOrigin(origin.scala:76)\n",
      "\tat org.apache.spark.sql.catalyst.trees.TreeNode.transformDownWithPruning(TreeNode.scala:461)\n",
      "\tat org.apache.spark.sql.catalyst.plans.logical.LogicalPlan.org$apache$spark$sql$catalyst$plans$logical$AnalysisHelper$$super$transformDownWithPruning(LogicalPlan.scala:32)\n",
      "\tat org.apache.spark.sql.catalyst.plans.logical.AnalysisHelper.transformDownWithPruning(AnalysisHelper.scala:267)\n",
      "\tat org.apache.spark.sql.catalyst.plans.logical.AnalysisHelper.transformDownWithPruning$(AnalysisHelper.scala:263)\n",
      "\tat org.apache.spark.sql.catalyst.plans.logical.LogicalPlan.transformDownWithPruning(LogicalPlan.scala:32)\n",
      "\tat org.apache.spark.sql.catalyst.plans.logical.LogicalPlan.transformDownWithPruning(LogicalPlan.scala:32)\n",
      "\tat org.apache.spark.sql.catalyst.trees.TreeNode.transformDown(TreeNode.scala:437)\n",
      "\tat org.apache.spark.sql.execution.QueryExecution.eagerlyExecuteCommands(QueryExecution.scala:98)\n",
      "\tat org.apache.spark.sql.execution.QueryExecution.commandExecuted$lzycompute(QueryExecution.scala:85)\n",
      "\tat org.apache.spark.sql.execution.QueryExecution.commandExecuted(QueryExecution.scala:83)\n",
      "\tat org.apache.spark.sql.execution.QueryExecution.assertCommandExecuted(QueryExecution.scala:142)\n",
      "\tat org.apache.spark.sql.DataFrameWriter.runCommand(DataFrameWriter.scala:859)\n",
      "\tat org.apache.spark.sql.DataFrameWriter.saveToV1Source(DataFrameWriter.scala:388)\n",
      "\tat org.apache.spark.sql.DataFrameWriter.saveInternal(DataFrameWriter.scala:361)\n",
      "\tat org.apache.spark.sql.DataFrameWriter.save(DataFrameWriter.scala:240)\n",
      "\tat java.base/jdk.internal.reflect.NativeMethodAccessorImpl.invoke0(Native Method)\n",
      "\tat java.base/jdk.internal.reflect.NativeMethodAccessorImpl.invoke(NativeMethodAccessorImpl.java:77)\n",
      "\tat java.base/jdk.internal.reflect.DelegatingMethodAccessorImpl.invoke(DelegatingMethodAccessorImpl.java:43)\n",
      "\tat java.base/java.lang.reflect.Method.invoke(Method.java:568)\n",
      "\tat py4j.reflection.MethodInvoker.invoke(MethodInvoker.java:244)\n",
      "\tat py4j.reflection.ReflectionEngine.invoke(ReflectionEngine.java:374)\n",
      "\tat py4j.Gateway.invoke(Gateway.java:282)\n",
      "\tat py4j.commands.AbstractCommand.invokeMethod(AbstractCommand.java:132)\n",
      "\tat py4j.commands.CallCommand.execute(CallCommand.java:79)\n",
      "\tat py4j.ClientServerConnection.waitForCommands(ClientServerConnection.java:182)\n",
      "\tat py4j.ClientServerConnection.run(ClientServerConnection.java:106)\n",
      "\tat java.base/java.lang.Thread.run(Thread.java:840)\n",
      "Caused by: java.io.IOException: Mkdirs failed to create file:/home/download/datacsv/_temporary/0/_temporary/attempt_20240307173433920426583035832744_0150_m_000007_1045 (exists=false, cwd=file:/run/media/i666sapple/VOLUME2/VS CODE/Project_personal)\n",
      "\tat org.apache.hadoop.fs.ChecksumFileSystem.create(ChecksumFileSystem.java:515)\n",
      "\tat org.apache.hadoop.fs.ChecksumFileSystem.create(ChecksumFileSystem.java:500)\n",
      "\tat org.apache.hadoop.fs.FileSystem.create(FileSystem.java:1195)\n",
      "\tat org.apache.hadoop.fs.FileSystem.create(FileSystem.java:1175)\n",
      "\tat org.apache.hadoop.fs.FileSystem.create(FileSystem.java:1064)\n",
      "\tat org.apache.spark.sql.execution.datasources.CodecStreams$.createOutputStream(CodecStreams.scala:81)\n",
      "\tat org.apache.spark.sql.execution.datasources.CodecStreams$.createOutputStreamWriter(CodecStreams.scala:92)\n",
      "\tat org.apache.spark.sql.execution.datasources.csv.CsvOutputWriter.<init>(CsvOutputWriter.scala:38)\n",
      "\tat org.apache.spark.sql.execution.datasources.csv.CSVFileFormat$$anon$1.newInstance(CSVFileFormat.scala:84)\n",
      "\tat org.apache.spark.sql.execution.datasources.SingleDirectoryDataWriter.newOutputWriter(FileFormatDataWriter.scala:161)\n",
      "\tat org.apache.spark.sql.execution.datasources.SingleDirectoryDataWriter.<init>(FileFormatDataWriter.scala:146)\n",
      "\tat org.apache.spark.sql.execution.datasources.FileFormatWriter$.executeTask(FileFormatWriter.scala:389)\n",
      "\tat org.apache.spark.sql.execution.datasources.WriteFilesExec.$anonfun$doExecuteWrite$1(WriteFiles.scala:100)\n",
      "\tat org.apache.spark.rdd.RDD.$anonfun$mapPartitionsInternal$2(RDD.scala:893)\n",
      "\tat org.apache.spark.rdd.RDD.$anonfun$mapPartitionsInternal$2$adapted(RDD.scala:893)\n",
      "\tat org.apache.spark.rdd.MapPartitionsRDD.compute(MapPartitionsRDD.scala:52)\n",
      "\tat org.apache.spark.rdd.RDD.computeOrReadCheckpoint(RDD.scala:367)\n",
      "\tat org.apache.spark.rdd.RDD.iterator(RDD.scala:331)\n",
      "\tat org.apache.spark.scheduler.ResultTask.runTask(ResultTask.scala:93)\n",
      "\tat org.apache.spark.TaskContext.runTaskWithListeners(TaskContext.scala:166)\n",
      "\tat org.apache.spark.scheduler.Task.run(Task.scala:141)\n",
      "\tat org.apache.spark.executor.Executor$TaskRunner.$anonfun$run$4(Executor.scala:620)\n",
      "\tat org.apache.spark.util.SparkErrorUtils.tryWithSafeFinally(SparkErrorUtils.scala:64)\n",
      "\tat org.apache.spark.util.SparkErrorUtils.tryWithSafeFinally$(SparkErrorUtils.scala:61)\n",
      "\tat org.apache.spark.util.Utils$.tryWithSafeFinally(Utils.scala:94)\n",
      "\tat org.apache.spark.executor.Executor$TaskRunner.run(Executor.scala:623)\n",
      "\tat java.base/java.util.concurrent.ThreadPoolExecutor.runWorker(ThreadPoolExecutor.java:1136)\n",
      "\tat java.base/java.util.concurrent.ThreadPoolExecutor$Worker.run(ThreadPoolExecutor.java:635)\n",
      "\t... 1 more\n"
     ]
    },
    {
     "ename": "Py4JJavaError",
     "evalue": "An error occurred while calling o421.save.\n: org.apache.spark.SparkException: Job aborted due to stage failure: Task 7 in stage 150.0 failed 1 times, most recent failure: Lost task 7.0 in stage 150.0 (TID 1045) (1666sapple executor driver): java.io.IOException: Mkdirs failed to create file:/home/download/datacsv/_temporary/0/_temporary/attempt_20240307173433920426583035832744_0150_m_000007_1045 (exists=false, cwd=file:/run/media/i666sapple/VOLUME2/VS CODE/Project_personal)\n\tat org.apache.hadoop.fs.ChecksumFileSystem.create(ChecksumFileSystem.java:515)\n\tat org.apache.hadoop.fs.ChecksumFileSystem.create(ChecksumFileSystem.java:500)\n\tat org.apache.hadoop.fs.FileSystem.create(FileSystem.java:1195)\n\tat org.apache.hadoop.fs.FileSystem.create(FileSystem.java:1175)\n\tat org.apache.hadoop.fs.FileSystem.create(FileSystem.java:1064)\n\tat org.apache.spark.sql.execution.datasources.CodecStreams$.createOutputStream(CodecStreams.scala:81)\n\tat org.apache.spark.sql.execution.datasources.CodecStreams$.createOutputStreamWriter(CodecStreams.scala:92)\n\tat org.apache.spark.sql.execution.datasources.csv.CsvOutputWriter.<init>(CsvOutputWriter.scala:38)\n\tat org.apache.spark.sql.execution.datasources.csv.CSVFileFormat$$anon$1.newInstance(CSVFileFormat.scala:84)\n\tat org.apache.spark.sql.execution.datasources.SingleDirectoryDataWriter.newOutputWriter(FileFormatDataWriter.scala:161)\n\tat org.apache.spark.sql.execution.datasources.SingleDirectoryDataWriter.<init>(FileFormatDataWriter.scala:146)\n\tat org.apache.spark.sql.execution.datasources.FileFormatWriter$.executeTask(FileFormatWriter.scala:389)\n\tat org.apache.spark.sql.execution.datasources.WriteFilesExec.$anonfun$doExecuteWrite$1(WriteFiles.scala:100)\n\tat org.apache.spark.rdd.RDD.$anonfun$mapPartitionsInternal$2(RDD.scala:893)\n\tat org.apache.spark.rdd.RDD.$anonfun$mapPartitionsInternal$2$adapted(RDD.scala:893)\n\tat org.apache.spark.rdd.MapPartitionsRDD.compute(MapPartitionsRDD.scala:52)\n\tat org.apache.spark.rdd.RDD.computeOrReadCheckpoint(RDD.scala:367)\n\tat org.apache.spark.rdd.RDD.iterator(RDD.scala:331)\n\tat org.apache.spark.scheduler.ResultTask.runTask(ResultTask.scala:93)\n\tat org.apache.spark.TaskContext.runTaskWithListeners(TaskContext.scala:166)\n\tat org.apache.spark.scheduler.Task.run(Task.scala:141)\n\tat org.apache.spark.executor.Executor$TaskRunner.$anonfun$run$4(Executor.scala:620)\n\tat org.apache.spark.util.SparkErrorUtils.tryWithSafeFinally(SparkErrorUtils.scala:64)\n\tat org.apache.spark.util.SparkErrorUtils.tryWithSafeFinally$(SparkErrorUtils.scala:61)\n\tat org.apache.spark.util.Utils$.tryWithSafeFinally(Utils.scala:94)\n\tat org.apache.spark.executor.Executor$TaskRunner.run(Executor.scala:623)\n\tat java.base/java.util.concurrent.ThreadPoolExecutor.runWorker(ThreadPoolExecutor.java:1136)\n\tat java.base/java.util.concurrent.ThreadPoolExecutor$Worker.run(ThreadPoolExecutor.java:635)\n\tat java.base/java.lang.Thread.run(Thread.java:840)\n\nDriver stacktrace:\n\tat org.apache.spark.scheduler.DAGScheduler.failJobAndIndependentStages(DAGScheduler.scala:2856)\n\tat org.apache.spark.scheduler.DAGScheduler.$anonfun$abortStage$2(DAGScheduler.scala:2792)\n\tat org.apache.spark.scheduler.DAGScheduler.$anonfun$abortStage$2$adapted(DAGScheduler.scala:2791)\n\tat scala.collection.mutable.ResizableArray.foreach(ResizableArray.scala:62)\n\tat scala.collection.mutable.ResizableArray.foreach$(ResizableArray.scala:55)\n\tat scala.collection.mutable.ArrayBuffer.foreach(ArrayBuffer.scala:49)\n\tat org.apache.spark.scheduler.DAGScheduler.abortStage(DAGScheduler.scala:2791)\n\tat org.apache.spark.scheduler.DAGScheduler.$anonfun$handleTaskSetFailed$1(DAGScheduler.scala:1247)\n\tat org.apache.spark.scheduler.DAGScheduler.$anonfun$handleTaskSetFailed$1$adapted(DAGScheduler.scala:1247)\n\tat scala.Option.foreach(Option.scala:407)\n\tat org.apache.spark.scheduler.DAGScheduler.handleTaskSetFailed(DAGScheduler.scala:1247)\n\tat org.apache.spark.scheduler.DAGSchedulerEventProcessLoop.doOnReceive(DAGScheduler.scala:3060)\n\tat org.apache.spark.scheduler.DAGSchedulerEventProcessLoop.onReceive(DAGScheduler.scala:2994)\n\tat org.apache.spark.scheduler.DAGSchedulerEventProcessLoop.onReceive(DAGScheduler.scala:2983)\n\tat org.apache.spark.util.EventLoop$$anon$1.run(EventLoop.scala:49)\n\tat org.apache.spark.scheduler.DAGScheduler.runJob(DAGScheduler.scala:989)\n\tat org.apache.spark.SparkContext.runJob(SparkContext.scala:2398)\n\tat org.apache.spark.sql.execution.datasources.FileFormatWriter$.$anonfun$executeWrite$4(FileFormatWriter.scala:307)\n\tat org.apache.spark.sql.execution.datasources.FileFormatWriter$.writeAndCommit(FileFormatWriter.scala:271)\n\tat org.apache.spark.sql.execution.datasources.FileFormatWriter$.executeWrite(FileFormatWriter.scala:304)\n\tat org.apache.spark.sql.execution.datasources.FileFormatWriter$.write(FileFormatWriter.scala:190)\n\tat org.apache.spark.sql.execution.datasources.InsertIntoHadoopFsRelationCommand.run(InsertIntoHadoopFsRelationCommand.scala:190)\n\tat org.apache.spark.sql.execution.command.DataWritingCommandExec.sideEffectResult$lzycompute(commands.scala:113)\n\tat org.apache.spark.sql.execution.command.DataWritingCommandExec.sideEffectResult(commands.scala:111)\n\tat org.apache.spark.sql.execution.command.DataWritingCommandExec.executeCollect(commands.scala:125)\n\tat org.apache.spark.sql.execution.QueryExecution$$anonfun$eagerlyExecuteCommands$1.$anonfun$applyOrElse$1(QueryExecution.scala:107)\n\tat org.apache.spark.sql.execution.SQLExecution$.$anonfun$withNewExecutionId$6(SQLExecution.scala:125)\n\tat org.apache.spark.sql.execution.SQLExecution$.withSQLConfPropagated(SQLExecution.scala:201)\n\tat org.apache.spark.sql.execution.SQLExecution$.$anonfun$withNewExecutionId$1(SQLExecution.scala:108)\n\tat org.apache.spark.sql.SparkSession.withActive(SparkSession.scala:900)\n\tat org.apache.spark.sql.execution.SQLExecution$.withNewExecutionId(SQLExecution.scala:66)\n\tat org.apache.spark.sql.execution.QueryExecution$$anonfun$eagerlyExecuteCommands$1.applyOrElse(QueryExecution.scala:107)\n\tat org.apache.spark.sql.execution.QueryExecution$$anonfun$eagerlyExecuteCommands$1.applyOrElse(QueryExecution.scala:98)\n\tat org.apache.spark.sql.catalyst.trees.TreeNode.$anonfun$transformDownWithPruning$1(TreeNode.scala:461)\n\tat org.apache.spark.sql.catalyst.trees.CurrentOrigin$.withOrigin(origin.scala:76)\n\tat org.apache.spark.sql.catalyst.trees.TreeNode.transformDownWithPruning(TreeNode.scala:461)\n\tat org.apache.spark.sql.catalyst.plans.logical.LogicalPlan.org$apache$spark$sql$catalyst$plans$logical$AnalysisHelper$$super$transformDownWithPruning(LogicalPlan.scala:32)\n\tat org.apache.spark.sql.catalyst.plans.logical.AnalysisHelper.transformDownWithPruning(AnalysisHelper.scala:267)\n\tat org.apache.spark.sql.catalyst.plans.logical.AnalysisHelper.transformDownWithPruning$(AnalysisHelper.scala:263)\n\tat org.apache.spark.sql.catalyst.plans.logical.LogicalPlan.transformDownWithPruning(LogicalPlan.scala:32)\n\tat org.apache.spark.sql.catalyst.plans.logical.LogicalPlan.transformDownWithPruning(LogicalPlan.scala:32)\n\tat org.apache.spark.sql.catalyst.trees.TreeNode.transformDown(TreeNode.scala:437)\n\tat org.apache.spark.sql.execution.QueryExecution.eagerlyExecuteCommands(QueryExecution.scala:98)\n\tat org.apache.spark.sql.execution.QueryExecution.commandExecuted$lzycompute(QueryExecution.scala:85)\n\tat org.apache.spark.sql.execution.QueryExecution.commandExecuted(QueryExecution.scala:83)\n\tat org.apache.spark.sql.execution.QueryExecution.assertCommandExecuted(QueryExecution.scala:142)\n\tat org.apache.spark.sql.DataFrameWriter.runCommand(DataFrameWriter.scala:859)\n\tat org.apache.spark.sql.DataFrameWriter.saveToV1Source(DataFrameWriter.scala:388)\n\tat org.apache.spark.sql.DataFrameWriter.saveInternal(DataFrameWriter.scala:361)\n\tat org.apache.spark.sql.DataFrameWriter.save(DataFrameWriter.scala:240)\n\tat java.base/jdk.internal.reflect.NativeMethodAccessorImpl.invoke0(Native Method)\n\tat java.base/jdk.internal.reflect.NativeMethodAccessorImpl.invoke(NativeMethodAccessorImpl.java:77)\n\tat java.base/jdk.internal.reflect.DelegatingMethodAccessorImpl.invoke(DelegatingMethodAccessorImpl.java:43)\n\tat java.base/java.lang.reflect.Method.invoke(Method.java:568)\n\tat py4j.reflection.MethodInvoker.invoke(MethodInvoker.java:244)\n\tat py4j.reflection.ReflectionEngine.invoke(ReflectionEngine.java:374)\n\tat py4j.Gateway.invoke(Gateway.java:282)\n\tat py4j.commands.AbstractCommand.invokeMethod(AbstractCommand.java:132)\n\tat py4j.commands.CallCommand.execute(CallCommand.java:79)\n\tat py4j.ClientServerConnection.waitForCommands(ClientServerConnection.java:182)\n\tat py4j.ClientServerConnection.run(ClientServerConnection.java:106)\n\tat java.base/java.lang.Thread.run(Thread.java:840)\nCaused by: java.io.IOException: Mkdirs failed to create file:/home/download/datacsv/_temporary/0/_temporary/attempt_20240307173433920426583035832744_0150_m_000007_1045 (exists=false, cwd=file:/run/media/i666sapple/VOLUME2/VS CODE/Project_personal)\n\tat org.apache.hadoop.fs.ChecksumFileSystem.create(ChecksumFileSystem.java:515)\n\tat org.apache.hadoop.fs.ChecksumFileSystem.create(ChecksumFileSystem.java:500)\n\tat org.apache.hadoop.fs.FileSystem.create(FileSystem.java:1195)\n\tat org.apache.hadoop.fs.FileSystem.create(FileSystem.java:1175)\n\tat org.apache.hadoop.fs.FileSystem.create(FileSystem.java:1064)\n\tat org.apache.spark.sql.execution.datasources.CodecStreams$.createOutputStream(CodecStreams.scala:81)\n\tat org.apache.spark.sql.execution.datasources.CodecStreams$.createOutputStreamWriter(CodecStreams.scala:92)\n\tat org.apache.spark.sql.execution.datasources.csv.CsvOutputWriter.<init>(CsvOutputWriter.scala:38)\n\tat org.apache.spark.sql.execution.datasources.csv.CSVFileFormat$$anon$1.newInstance(CSVFileFormat.scala:84)\n\tat org.apache.spark.sql.execution.datasources.SingleDirectoryDataWriter.newOutputWriter(FileFormatDataWriter.scala:161)\n\tat org.apache.spark.sql.execution.datasources.SingleDirectoryDataWriter.<init>(FileFormatDataWriter.scala:146)\n\tat org.apache.spark.sql.execution.datasources.FileFormatWriter$.executeTask(FileFormatWriter.scala:389)\n\tat org.apache.spark.sql.execution.datasources.WriteFilesExec.$anonfun$doExecuteWrite$1(WriteFiles.scala:100)\n\tat org.apache.spark.rdd.RDD.$anonfun$mapPartitionsInternal$2(RDD.scala:893)\n\tat org.apache.spark.rdd.RDD.$anonfun$mapPartitionsInternal$2$adapted(RDD.scala:893)\n\tat org.apache.spark.rdd.MapPartitionsRDD.compute(MapPartitionsRDD.scala:52)\n\tat org.apache.spark.rdd.RDD.computeOrReadCheckpoint(RDD.scala:367)\n\tat org.apache.spark.rdd.RDD.iterator(RDD.scala:331)\n\tat org.apache.spark.scheduler.ResultTask.runTask(ResultTask.scala:93)\n\tat org.apache.spark.TaskContext.runTaskWithListeners(TaskContext.scala:166)\n\tat org.apache.spark.scheduler.Task.run(Task.scala:141)\n\tat org.apache.spark.executor.Executor$TaskRunner.$anonfun$run$4(Executor.scala:620)\n\tat org.apache.spark.util.SparkErrorUtils.tryWithSafeFinally(SparkErrorUtils.scala:64)\n\tat org.apache.spark.util.SparkErrorUtils.tryWithSafeFinally$(SparkErrorUtils.scala:61)\n\tat org.apache.spark.util.Utils$.tryWithSafeFinally(Utils.scala:94)\n\tat org.apache.spark.executor.Executor$TaskRunner.run(Executor.scala:623)\n\tat java.base/java.util.concurrent.ThreadPoolExecutor.runWorker(ThreadPoolExecutor.java:1136)\n\tat java.base/java.util.concurrent.ThreadPoolExecutor$Worker.run(ThreadPoolExecutor.java:635)\n\t... 1 more\n",
     "output_type": "error",
     "traceback": [
      "\u001b[0;31m---------------------------------------------------------------------------\u001b[0m",
      "\u001b[0;31mPy4JJavaError\u001b[0m                             Traceback (most recent call last)",
      "Cell \u001b[0;32mIn[23], line 1\u001b[0m\n\u001b[0;32m----> 1\u001b[0m \u001b[43mdf\u001b[49m\u001b[38;5;241;43m.\u001b[39;49m\u001b[43mwrite\u001b[49m\u001b[38;5;241;43m.\u001b[39;49m\u001b[43mformat\u001b[49m\u001b[43m(\u001b[49m\u001b[38;5;124;43m\"\u001b[39;49m\u001b[38;5;124;43mcom.databricks.spark.csv\u001b[39;49m\u001b[38;5;124;43m\"\u001b[39;49m\u001b[43m)\u001b[49m\u001b[38;5;241;43m.\u001b[39;49m\u001b[43msave\u001b[49m\u001b[43m(\u001b[49m\u001b[38;5;124;43m\"\u001b[39;49m\u001b[38;5;124;43mfile:///home//download//datacsv\u001b[39;49m\u001b[38;5;124;43m\"\u001b[39;49m\u001b[43m)\u001b[49m\n",
      "File \u001b[0;32m~/.local/lib/python3.12/site-packages/pyspark/sql/readwriter.py:1463\u001b[0m, in \u001b[0;36mDataFrameWriter.save\u001b[0;34m(self, path, format, mode, partitionBy, **options)\u001b[0m\n\u001b[1;32m   1461\u001b[0m     \u001b[38;5;28mself\u001b[39m\u001b[38;5;241m.\u001b[39m_jwrite\u001b[38;5;241m.\u001b[39msave()\n\u001b[1;32m   1462\u001b[0m \u001b[38;5;28;01melse\u001b[39;00m:\n\u001b[0;32m-> 1463\u001b[0m     \u001b[38;5;28;43mself\u001b[39;49m\u001b[38;5;241;43m.\u001b[39;49m\u001b[43m_jwrite\u001b[49m\u001b[38;5;241;43m.\u001b[39;49m\u001b[43msave\u001b[49m\u001b[43m(\u001b[49m\u001b[43mpath\u001b[49m\u001b[43m)\u001b[49m\n",
      "File \u001b[0;32m~/.local/lib/python3.12/site-packages/py4j/java_gateway.py:1322\u001b[0m, in \u001b[0;36mJavaMember.__call__\u001b[0;34m(self, *args)\u001b[0m\n\u001b[1;32m   1316\u001b[0m command \u001b[38;5;241m=\u001b[39m proto\u001b[38;5;241m.\u001b[39mCALL_COMMAND_NAME \u001b[38;5;241m+\u001b[39m\\\n\u001b[1;32m   1317\u001b[0m     \u001b[38;5;28mself\u001b[39m\u001b[38;5;241m.\u001b[39mcommand_header \u001b[38;5;241m+\u001b[39m\\\n\u001b[1;32m   1318\u001b[0m     args_command \u001b[38;5;241m+\u001b[39m\\\n\u001b[1;32m   1319\u001b[0m     proto\u001b[38;5;241m.\u001b[39mEND_COMMAND_PART\n\u001b[1;32m   1321\u001b[0m answer \u001b[38;5;241m=\u001b[39m \u001b[38;5;28mself\u001b[39m\u001b[38;5;241m.\u001b[39mgateway_client\u001b[38;5;241m.\u001b[39msend_command(command)\n\u001b[0;32m-> 1322\u001b[0m return_value \u001b[38;5;241m=\u001b[39m \u001b[43mget_return_value\u001b[49m\u001b[43m(\u001b[49m\n\u001b[1;32m   1323\u001b[0m \u001b[43m    \u001b[49m\u001b[43manswer\u001b[49m\u001b[43m,\u001b[49m\u001b[43m \u001b[49m\u001b[38;5;28;43mself\u001b[39;49m\u001b[38;5;241;43m.\u001b[39;49m\u001b[43mgateway_client\u001b[49m\u001b[43m,\u001b[49m\u001b[43m \u001b[49m\u001b[38;5;28;43mself\u001b[39;49m\u001b[38;5;241;43m.\u001b[39;49m\u001b[43mtarget_id\u001b[49m\u001b[43m,\u001b[49m\u001b[43m \u001b[49m\u001b[38;5;28;43mself\u001b[39;49m\u001b[38;5;241;43m.\u001b[39;49m\u001b[43mname\u001b[49m\u001b[43m)\u001b[49m\n\u001b[1;32m   1325\u001b[0m \u001b[38;5;28;01mfor\u001b[39;00m temp_arg \u001b[38;5;129;01min\u001b[39;00m temp_args:\n\u001b[1;32m   1326\u001b[0m     \u001b[38;5;28;01mif\u001b[39;00m \u001b[38;5;28mhasattr\u001b[39m(temp_arg, \u001b[38;5;124m\"\u001b[39m\u001b[38;5;124m_detach\u001b[39m\u001b[38;5;124m\"\u001b[39m):\n",
      "File \u001b[0;32m~/.local/lib/python3.12/site-packages/pyspark/errors/exceptions/captured.py:179\u001b[0m, in \u001b[0;36mcapture_sql_exception.<locals>.deco\u001b[0;34m(*a, **kw)\u001b[0m\n\u001b[1;32m    177\u001b[0m \u001b[38;5;28;01mdef\u001b[39;00m \u001b[38;5;21mdeco\u001b[39m(\u001b[38;5;241m*\u001b[39ma: Any, \u001b[38;5;241m*\u001b[39m\u001b[38;5;241m*\u001b[39mkw: Any) \u001b[38;5;241m-\u001b[39m\u001b[38;5;241m>\u001b[39m Any:\n\u001b[1;32m    178\u001b[0m     \u001b[38;5;28;01mtry\u001b[39;00m:\n\u001b[0;32m--> 179\u001b[0m         \u001b[38;5;28;01mreturn\u001b[39;00m \u001b[43mf\u001b[49m\u001b[43m(\u001b[49m\u001b[38;5;241;43m*\u001b[39;49m\u001b[43ma\u001b[49m\u001b[43m,\u001b[49m\u001b[43m \u001b[49m\u001b[38;5;241;43m*\u001b[39;49m\u001b[38;5;241;43m*\u001b[39;49m\u001b[43mkw\u001b[49m\u001b[43m)\u001b[49m\n\u001b[1;32m    180\u001b[0m     \u001b[38;5;28;01mexcept\u001b[39;00m Py4JJavaError \u001b[38;5;28;01mas\u001b[39;00m e:\n\u001b[1;32m    181\u001b[0m         converted \u001b[38;5;241m=\u001b[39m convert_exception(e\u001b[38;5;241m.\u001b[39mjava_exception)\n",
      "File \u001b[0;32m~/.local/lib/python3.12/site-packages/py4j/protocol.py:326\u001b[0m, in \u001b[0;36mget_return_value\u001b[0;34m(answer, gateway_client, target_id, name)\u001b[0m\n\u001b[1;32m    324\u001b[0m value \u001b[38;5;241m=\u001b[39m OUTPUT_CONVERTER[\u001b[38;5;28mtype\u001b[39m](answer[\u001b[38;5;241m2\u001b[39m:], gateway_client)\n\u001b[1;32m    325\u001b[0m \u001b[38;5;28;01mif\u001b[39;00m answer[\u001b[38;5;241m1\u001b[39m] \u001b[38;5;241m==\u001b[39m REFERENCE_TYPE:\n\u001b[0;32m--> 326\u001b[0m     \u001b[38;5;28;01mraise\u001b[39;00m Py4JJavaError(\n\u001b[1;32m    327\u001b[0m         \u001b[38;5;124m\"\u001b[39m\u001b[38;5;124mAn error occurred while calling \u001b[39m\u001b[38;5;132;01m{0}\u001b[39;00m\u001b[38;5;132;01m{1}\u001b[39;00m\u001b[38;5;132;01m{2}\u001b[39;00m\u001b[38;5;124m.\u001b[39m\u001b[38;5;130;01m\\n\u001b[39;00m\u001b[38;5;124m\"\u001b[39m\u001b[38;5;241m.\u001b[39m\n\u001b[1;32m    328\u001b[0m         \u001b[38;5;28mformat\u001b[39m(target_id, \u001b[38;5;124m\"\u001b[39m\u001b[38;5;124m.\u001b[39m\u001b[38;5;124m\"\u001b[39m, name), value)\n\u001b[1;32m    329\u001b[0m \u001b[38;5;28;01melse\u001b[39;00m:\n\u001b[1;32m    330\u001b[0m     \u001b[38;5;28;01mraise\u001b[39;00m Py4JError(\n\u001b[1;32m    331\u001b[0m         \u001b[38;5;124m\"\u001b[39m\u001b[38;5;124mAn error occurred while calling \u001b[39m\u001b[38;5;132;01m{0}\u001b[39;00m\u001b[38;5;132;01m{1}\u001b[39;00m\u001b[38;5;132;01m{2}\u001b[39;00m\u001b[38;5;124m. Trace:\u001b[39m\u001b[38;5;130;01m\\n\u001b[39;00m\u001b[38;5;132;01m{3}\u001b[39;00m\u001b[38;5;130;01m\\n\u001b[39;00m\u001b[38;5;124m\"\u001b[39m\u001b[38;5;241m.\u001b[39m\n\u001b[1;32m    332\u001b[0m         \u001b[38;5;28mformat\u001b[39m(target_id, \u001b[38;5;124m\"\u001b[39m\u001b[38;5;124m.\u001b[39m\u001b[38;5;124m\"\u001b[39m, name, value))\n",
      "\u001b[0;31mPy4JJavaError\u001b[0m: An error occurred while calling o421.save.\n: org.apache.spark.SparkException: Job aborted due to stage failure: Task 7 in stage 150.0 failed 1 times, most recent failure: Lost task 7.0 in stage 150.0 (TID 1045) (1666sapple executor driver): java.io.IOException: Mkdirs failed to create file:/home/download/datacsv/_temporary/0/_temporary/attempt_20240307173433920426583035832744_0150_m_000007_1045 (exists=false, cwd=file:/run/media/i666sapple/VOLUME2/VS CODE/Project_personal)\n\tat org.apache.hadoop.fs.ChecksumFileSystem.create(ChecksumFileSystem.java:515)\n\tat org.apache.hadoop.fs.ChecksumFileSystem.create(ChecksumFileSystem.java:500)\n\tat org.apache.hadoop.fs.FileSystem.create(FileSystem.java:1195)\n\tat org.apache.hadoop.fs.FileSystem.create(FileSystem.java:1175)\n\tat org.apache.hadoop.fs.FileSystem.create(FileSystem.java:1064)\n\tat org.apache.spark.sql.execution.datasources.CodecStreams$.createOutputStream(CodecStreams.scala:81)\n\tat org.apache.spark.sql.execution.datasources.CodecStreams$.createOutputStreamWriter(CodecStreams.scala:92)\n\tat org.apache.spark.sql.execution.datasources.csv.CsvOutputWriter.<init>(CsvOutputWriter.scala:38)\n\tat org.apache.spark.sql.execution.datasources.csv.CSVFileFormat$$anon$1.newInstance(CSVFileFormat.scala:84)\n\tat org.apache.spark.sql.execution.datasources.SingleDirectoryDataWriter.newOutputWriter(FileFormatDataWriter.scala:161)\n\tat org.apache.spark.sql.execution.datasources.SingleDirectoryDataWriter.<init>(FileFormatDataWriter.scala:146)\n\tat org.apache.spark.sql.execution.datasources.FileFormatWriter$.executeTask(FileFormatWriter.scala:389)\n\tat org.apache.spark.sql.execution.datasources.WriteFilesExec.$anonfun$doExecuteWrite$1(WriteFiles.scala:100)\n\tat org.apache.spark.rdd.RDD.$anonfun$mapPartitionsInternal$2(RDD.scala:893)\n\tat org.apache.spark.rdd.RDD.$anonfun$mapPartitionsInternal$2$adapted(RDD.scala:893)\n\tat org.apache.spark.rdd.MapPartitionsRDD.compute(MapPartitionsRDD.scala:52)\n\tat org.apache.spark.rdd.RDD.computeOrReadCheckpoint(RDD.scala:367)\n\tat org.apache.spark.rdd.RDD.iterator(RDD.scala:331)\n\tat org.apache.spark.scheduler.ResultTask.runTask(ResultTask.scala:93)\n\tat org.apache.spark.TaskContext.runTaskWithListeners(TaskContext.scala:166)\n\tat org.apache.spark.scheduler.Task.run(Task.scala:141)\n\tat org.apache.spark.executor.Executor$TaskRunner.$anonfun$run$4(Executor.scala:620)\n\tat org.apache.spark.util.SparkErrorUtils.tryWithSafeFinally(SparkErrorUtils.scala:64)\n\tat org.apache.spark.util.SparkErrorUtils.tryWithSafeFinally$(SparkErrorUtils.scala:61)\n\tat org.apache.spark.util.Utils$.tryWithSafeFinally(Utils.scala:94)\n\tat org.apache.spark.executor.Executor$TaskRunner.run(Executor.scala:623)\n\tat java.base/java.util.concurrent.ThreadPoolExecutor.runWorker(ThreadPoolExecutor.java:1136)\n\tat java.base/java.util.concurrent.ThreadPoolExecutor$Worker.run(ThreadPoolExecutor.java:635)\n\tat java.base/java.lang.Thread.run(Thread.java:840)\n\nDriver stacktrace:\n\tat org.apache.spark.scheduler.DAGScheduler.failJobAndIndependentStages(DAGScheduler.scala:2856)\n\tat org.apache.spark.scheduler.DAGScheduler.$anonfun$abortStage$2(DAGScheduler.scala:2792)\n\tat org.apache.spark.scheduler.DAGScheduler.$anonfun$abortStage$2$adapted(DAGScheduler.scala:2791)\n\tat scala.collection.mutable.ResizableArray.foreach(ResizableArray.scala:62)\n\tat scala.collection.mutable.ResizableArray.foreach$(ResizableArray.scala:55)\n\tat scala.collection.mutable.ArrayBuffer.foreach(ArrayBuffer.scala:49)\n\tat org.apache.spark.scheduler.DAGScheduler.abortStage(DAGScheduler.scala:2791)\n\tat org.apache.spark.scheduler.DAGScheduler.$anonfun$handleTaskSetFailed$1(DAGScheduler.scala:1247)\n\tat org.apache.spark.scheduler.DAGScheduler.$anonfun$handleTaskSetFailed$1$adapted(DAGScheduler.scala:1247)\n\tat scala.Option.foreach(Option.scala:407)\n\tat org.apache.spark.scheduler.DAGScheduler.handleTaskSetFailed(DAGScheduler.scala:1247)\n\tat org.apache.spark.scheduler.DAGSchedulerEventProcessLoop.doOnReceive(DAGScheduler.scala:3060)\n\tat org.apache.spark.scheduler.DAGSchedulerEventProcessLoop.onReceive(DAGScheduler.scala:2994)\n\tat org.apache.spark.scheduler.DAGSchedulerEventProcessLoop.onReceive(DAGScheduler.scala:2983)\n\tat org.apache.spark.util.EventLoop$$anon$1.run(EventLoop.scala:49)\n\tat org.apache.spark.scheduler.DAGScheduler.runJob(DAGScheduler.scala:989)\n\tat org.apache.spark.SparkContext.runJob(SparkContext.scala:2398)\n\tat org.apache.spark.sql.execution.datasources.FileFormatWriter$.$anonfun$executeWrite$4(FileFormatWriter.scala:307)\n\tat org.apache.spark.sql.execution.datasources.FileFormatWriter$.writeAndCommit(FileFormatWriter.scala:271)\n\tat org.apache.spark.sql.execution.datasources.FileFormatWriter$.executeWrite(FileFormatWriter.scala:304)\n\tat org.apache.spark.sql.execution.datasources.FileFormatWriter$.write(FileFormatWriter.scala:190)\n\tat org.apache.spark.sql.execution.datasources.InsertIntoHadoopFsRelationCommand.run(InsertIntoHadoopFsRelationCommand.scala:190)\n\tat org.apache.spark.sql.execution.command.DataWritingCommandExec.sideEffectResult$lzycompute(commands.scala:113)\n\tat org.apache.spark.sql.execution.command.DataWritingCommandExec.sideEffectResult(commands.scala:111)\n\tat org.apache.spark.sql.execution.command.DataWritingCommandExec.executeCollect(commands.scala:125)\n\tat org.apache.spark.sql.execution.QueryExecution$$anonfun$eagerlyExecuteCommands$1.$anonfun$applyOrElse$1(QueryExecution.scala:107)\n\tat org.apache.spark.sql.execution.SQLExecution$.$anonfun$withNewExecutionId$6(SQLExecution.scala:125)\n\tat org.apache.spark.sql.execution.SQLExecution$.withSQLConfPropagated(SQLExecution.scala:201)\n\tat org.apache.spark.sql.execution.SQLExecution$.$anonfun$withNewExecutionId$1(SQLExecution.scala:108)\n\tat org.apache.spark.sql.SparkSession.withActive(SparkSession.scala:900)\n\tat org.apache.spark.sql.execution.SQLExecution$.withNewExecutionId(SQLExecution.scala:66)\n\tat org.apache.spark.sql.execution.QueryExecution$$anonfun$eagerlyExecuteCommands$1.applyOrElse(QueryExecution.scala:107)\n\tat org.apache.spark.sql.execution.QueryExecution$$anonfun$eagerlyExecuteCommands$1.applyOrElse(QueryExecution.scala:98)\n\tat org.apache.spark.sql.catalyst.trees.TreeNode.$anonfun$transformDownWithPruning$1(TreeNode.scala:461)\n\tat org.apache.spark.sql.catalyst.trees.CurrentOrigin$.withOrigin(origin.scala:76)\n\tat org.apache.spark.sql.catalyst.trees.TreeNode.transformDownWithPruning(TreeNode.scala:461)\n\tat org.apache.spark.sql.catalyst.plans.logical.LogicalPlan.org$apache$spark$sql$catalyst$plans$logical$AnalysisHelper$$super$transformDownWithPruning(LogicalPlan.scala:32)\n\tat org.apache.spark.sql.catalyst.plans.logical.AnalysisHelper.transformDownWithPruning(AnalysisHelper.scala:267)\n\tat org.apache.spark.sql.catalyst.plans.logical.AnalysisHelper.transformDownWithPruning$(AnalysisHelper.scala:263)\n\tat org.apache.spark.sql.catalyst.plans.logical.LogicalPlan.transformDownWithPruning(LogicalPlan.scala:32)\n\tat org.apache.spark.sql.catalyst.plans.logical.LogicalPlan.transformDownWithPruning(LogicalPlan.scala:32)\n\tat org.apache.spark.sql.catalyst.trees.TreeNode.transformDown(TreeNode.scala:437)\n\tat org.apache.spark.sql.execution.QueryExecution.eagerlyExecuteCommands(QueryExecution.scala:98)\n\tat org.apache.spark.sql.execution.QueryExecution.commandExecuted$lzycompute(QueryExecution.scala:85)\n\tat org.apache.spark.sql.execution.QueryExecution.commandExecuted(QueryExecution.scala:83)\n\tat org.apache.spark.sql.execution.QueryExecution.assertCommandExecuted(QueryExecution.scala:142)\n\tat org.apache.spark.sql.DataFrameWriter.runCommand(DataFrameWriter.scala:859)\n\tat org.apache.spark.sql.DataFrameWriter.saveToV1Source(DataFrameWriter.scala:388)\n\tat org.apache.spark.sql.DataFrameWriter.saveInternal(DataFrameWriter.scala:361)\n\tat org.apache.spark.sql.DataFrameWriter.save(DataFrameWriter.scala:240)\n\tat java.base/jdk.internal.reflect.NativeMethodAccessorImpl.invoke0(Native Method)\n\tat java.base/jdk.internal.reflect.NativeMethodAccessorImpl.invoke(NativeMethodAccessorImpl.java:77)\n\tat java.base/jdk.internal.reflect.DelegatingMethodAccessorImpl.invoke(DelegatingMethodAccessorImpl.java:43)\n\tat java.base/java.lang.reflect.Method.invoke(Method.java:568)\n\tat py4j.reflection.MethodInvoker.invoke(MethodInvoker.java:244)\n\tat py4j.reflection.ReflectionEngine.invoke(ReflectionEngine.java:374)\n\tat py4j.Gateway.invoke(Gateway.java:282)\n\tat py4j.commands.AbstractCommand.invokeMethod(AbstractCommand.java:132)\n\tat py4j.commands.CallCommand.execute(CallCommand.java:79)\n\tat py4j.ClientServerConnection.waitForCommands(ClientServerConnection.java:182)\n\tat py4j.ClientServerConnection.run(ClientServerConnection.java:106)\n\tat java.base/java.lang.Thread.run(Thread.java:840)\nCaused by: java.io.IOException: Mkdirs failed to create file:/home/download/datacsv/_temporary/0/_temporary/attempt_20240307173433920426583035832744_0150_m_000007_1045 (exists=false, cwd=file:/run/media/i666sapple/VOLUME2/VS CODE/Project_personal)\n\tat org.apache.hadoop.fs.ChecksumFileSystem.create(ChecksumFileSystem.java:515)\n\tat org.apache.hadoop.fs.ChecksumFileSystem.create(ChecksumFileSystem.java:500)\n\tat org.apache.hadoop.fs.FileSystem.create(FileSystem.java:1195)\n\tat org.apache.hadoop.fs.FileSystem.create(FileSystem.java:1175)\n\tat org.apache.hadoop.fs.FileSystem.create(FileSystem.java:1064)\n\tat org.apache.spark.sql.execution.datasources.CodecStreams$.createOutputStream(CodecStreams.scala:81)\n\tat org.apache.spark.sql.execution.datasources.CodecStreams$.createOutputStreamWriter(CodecStreams.scala:92)\n\tat org.apache.spark.sql.execution.datasources.csv.CsvOutputWriter.<init>(CsvOutputWriter.scala:38)\n\tat org.apache.spark.sql.execution.datasources.csv.CSVFileFormat$$anon$1.newInstance(CSVFileFormat.scala:84)\n\tat org.apache.spark.sql.execution.datasources.SingleDirectoryDataWriter.newOutputWriter(FileFormatDataWriter.scala:161)\n\tat org.apache.spark.sql.execution.datasources.SingleDirectoryDataWriter.<init>(FileFormatDataWriter.scala:146)\n\tat org.apache.spark.sql.execution.datasources.FileFormatWriter$.executeTask(FileFormatWriter.scala:389)\n\tat org.apache.spark.sql.execution.datasources.WriteFilesExec.$anonfun$doExecuteWrite$1(WriteFiles.scala:100)\n\tat org.apache.spark.rdd.RDD.$anonfun$mapPartitionsInternal$2(RDD.scala:893)\n\tat org.apache.spark.rdd.RDD.$anonfun$mapPartitionsInternal$2$adapted(RDD.scala:893)\n\tat org.apache.spark.rdd.MapPartitionsRDD.compute(MapPartitionsRDD.scala:52)\n\tat org.apache.spark.rdd.RDD.computeOrReadCheckpoint(RDD.scala:367)\n\tat org.apache.spark.rdd.RDD.iterator(RDD.scala:331)\n\tat org.apache.spark.scheduler.ResultTask.runTask(ResultTask.scala:93)\n\tat org.apache.spark.TaskContext.runTaskWithListeners(TaskContext.scala:166)\n\tat org.apache.spark.scheduler.Task.run(Task.scala:141)\n\tat org.apache.spark.executor.Executor$TaskRunner.$anonfun$run$4(Executor.scala:620)\n\tat org.apache.spark.util.SparkErrorUtils.tryWithSafeFinally(SparkErrorUtils.scala:64)\n\tat org.apache.spark.util.SparkErrorUtils.tryWithSafeFinally$(SparkErrorUtils.scala:61)\n\tat org.apache.spark.util.Utils$.tryWithSafeFinally(Utils.scala:94)\n\tat org.apache.spark.executor.Executor$TaskRunner.run(Executor.scala:623)\n\tat java.base/java.util.concurrent.ThreadPoolExecutor.runWorker(ThreadPoolExecutor.java:1136)\n\tat java.base/java.util.concurrent.ThreadPoolExecutor$Worker.run(ThreadPoolExecutor.java:635)\n\t... 1 more\n"
     ]
    }
   ],
   "source": [
    "df.write.format(\"com.databricks.spark.csv\").save(\"file:///home//download//datacsv\")"
   ]
  },
  {
   "cell_type": "code",
   "execution_count": 26,
   "metadata": {},
   "outputs": [
    {
     "name": "stderr",
     "output_type": "stream",
     "text": [
      "                                                                                \r"
     ]
    }
   ],
   "source": [
    "data =df.toPandas()"
   ]
  },
  {
   "cell_type": "code",
   "execution_count": 28,
   "metadata": {},
   "outputs": [
    {
     "ename": "",
     "evalue": "",
     "output_type": "error",
     "traceback": [
      "\u001b[1;31mThe Kernel crashed while executing code in the current cell or a previous cell. \n",
      "\u001b[1;31mPlease review the code in the cell(s) to identify a possible cause of the failure. \n",
      "\u001b[1;31mClick <a href='https://aka.ms/vscodeJupyterKernelCrash'>here</a> for more info. \n",
      "\u001b[1;31mView Jupyter <a href='command:jupyter.viewOutput'>log</a> for further details."
     ]
    }
   ],
   "source": [
    "data.to_csv('clinicaltrial_2023_cleaned_data.csv', index=False)"
   ]
  },
  {
   "cell_type": "markdown",
   "metadata": {
    "application/vnd.databricks.v1+cell": {
     "cellMetadata": {
      "byteLimit": 2048000,
      "rowLimit": 10000
     },
     "inputWidgets": {},
     "nuid": "c5dece1c-1684-4e4a-8642-f053c0b8f33c",
     "showTitle": false,
     "title": ""
    }
   },
   "source": [
    "# PySpark Dataframe analysis\n"
   ]
  },
  {
   "cell_type": "markdown",
   "metadata": {
    "application/vnd.databricks.v1+cell": {
     "cellMetadata": {},
     "inputWidgets": {},
     "nuid": "2b43380d-f4ef-4165-bebc-6c28bbe2d397",
     "showTitle": false,
     "title": ""
    }
   },
   "source": [
    "Q1: Number of Studies in the dataset?"
   ]
  },
  {
   "cell_type": "code",
   "execution_count": null,
   "metadata": {
    "application/vnd.databricks.v1+cell": {
     "cellMetadata": {
      "byteLimit": 2048000,
      "rowLimit": 10000
     },
     "inputWidgets": {},
     "nuid": "c72e04a1-9496-4c59-9c23-38838bb27bf8",
     "showTitle": false,
     "title": ""
    }
   },
   "outputs": [
    {
     "name": "stdout",
     "output_type": "stream",
     "text": [
      "Number of unique Studies in the dataset are: 481102\n"
     ]
    }
   ],
   "source": [
    "num_unique_items = df.select(\"Study Title\").distinct().count()\n",
    "\n",
    "print(f\"Number of unique Studies in the dataset are: {num_unique_items}\")\n"
   ]
  },
  {
   "cell_type": "code",
   "execution_count": null,
   "metadata": {
    "application/vnd.databricks.v1+cell": {
     "cellMetadata": {
      "byteLimit": 2048000,
      "rowLimit": 10000
     },
     "inputWidgets": {},
     "nuid": "970f6a12-72bd-450a-a473-4258a563c4fc",
     "showTitle": false,
     "title": ""
    }
   },
   "outputs": [
    {
     "name": "stdout",
     "output_type": "stream",
     "text": [
      "Number of  Studies in the dataset are: 483422\n"
     ]
    }
   ],
   "source": [
    "num_items = df.select(\"Study Title\").count()\n",
    "\n",
    "print(f\"Number of  Studies in the dataset are: {num_items}\")\n"
   ]
  },
  {
   "cell_type": "code",
   "execution_count": null,
   "metadata": {
    "application/vnd.databricks.v1+cell": {
     "cellMetadata": {
      "byteLimit": 2048000,
      "rowLimit": 10000
     },
     "inputWidgets": {},
     "nuid": "4c84869b-c4d9-470d-aa21-457ca668a968",
     "showTitle": false,
     "title": ""
    }
   },
   "outputs": [
    {
     "data": {
      "text/html": [
       "<style scoped>\n",
       "  .table-result-container {\n",
       "    max-height: 300px;\n",
       "    overflow: auto;\n",
       "  }\n",
       "  table, th, td {\n",
       "    border: 1px solid black;\n",
       "    border-collapse: collapse;\n",
       "  }\n",
       "  th, td {\n",
       "    padding: 5px;\n",
       "  }\n",
       "  th {\n",
       "    text-align: left;\n",
       "  }\n",
       "</style><div class='table-result-container'><table class='table-result'><thead style='background-color: white'><tr><th>Study Title</th></tr></thead><tbody><tr><td>Computerized Assessment for Patients With Cancer</td></tr><tr><td>Study to Evaluate the Safety and Efficacy of CJ-12420 in Patients With Erosive Esophagitis</td></tr><tr><td>Endometrial Preparation in Frozen Embryo Transfer Cycles</td></tr><tr><td>Topical Antimicrobial Effectiveness Testing</td></tr><tr><td>Medication Maintenance Therapy in Community Pharmacy Settings</td></tr><tr><td>Study to Evaluate the Safety and Efficacy of VIRAZOLE® in Hospitalized Adult Participants With Respiratory Distress Due to COVID-19</td></tr><tr><td>A Study to Evaluate the Safety and Effectiveness of Asoprisnil in the Treatment of Uterine Fibroids</td></tr><tr><td>Efficacy of Oropharyngeal Exercises for Patients With Obstructive Sleep Apnea Using Mandibular Advancement Device</td></tr><tr><td>Efficacy and Safety of Diclofenac Sodium Gel in Hand Osteoarthritis</td></tr><tr><td>Tryptophan Metabolism in Human Brain Tumors</td></tr><tr><td>To Study the Association Among Labor Pain and Physical Parameters in Laboring Pregnant Women</td></tr><tr><td>Use of Hair to Diagnose Breast Cancer</td></tr><tr><td>Effect of Soy Protein and Colorado Diet on Weight Loss and Maintenance</td></tr><tr><td>A Comparison of Duloxetine Hydrochloride, Marketed Comparator, and Placebo in the Treatment of Generalized Anxiety Disorder</td></tr><tr><td>Randomized Clinical Trial of Intensive Computer-based Cognitive Remediation in Recent-onset Schizophrenia</td></tr><tr><td>Vaccine Therapy in Treating Patients With Metastatic Prostate Cancer</td></tr><tr><td>Vaccine Therapy in Treating Patients With Metastatic Prostate Cancer</td></tr><tr><td>A Study in the Treatment of Children and Adolescents With Major Depressive Disorder</td></tr><tr><td>Telerehabilitation in Multiple Sclerosis</td></tr><tr><td>Vision Improvement for Patients With Age-Related Macular Degeneration</td></tr><tr><td>Peroral Endoscopic Myotomy (POEM) for the Treatment of Achalasia</td></tr><tr><td>Macitentan for the Treatment of Digital Ulcers in Systemic Sclerosis Patients</td></tr><tr><td>Safety and Efficacy Study of Brimonidine/Timolol Fixed Combination in Patients With Glaucoma or Ocular Hypertension</td></tr><tr><td>Safety and Efficacy Study of Brimonidine/Timolol Fixed Combination in Patients With Glaucoma or Ocular Hypertension</td></tr><tr><td>Safety and Efficacy Study of Brimonidine/Timolol Fixed Combination in Patients With Glaucoma or Ocular Hypertension</td></tr><tr><td>Safety and Efficacy of CTAP101 to Treat Secondary Hyperparathyroidism in Stage 3 or 4 CKD and Vitamin D Insufficiency</td></tr><tr><td>Mesalamine for Colorectal Cancer Prevention Program in Lynch Syndrome</td></tr><tr><td>Validation of a Connected Patch, an Alternative to Conventional Monitoring</td></tr><tr><td>Interpersonal Therapy-Based Treatment to Prevent Postpartum Depression in Adolescent Mothers</td></tr><tr><td>Safety and Efficacy of Triple Combination Therapy in Patients With Primary Open-Angle Glaucoma or Ocular Hypertension</td></tr><tr><td>Effects of Faba Bean Fractions as Ingredients in Novel Food Products on Glycemia, Appetite and Metabolic Control</td></tr><tr><td>Aortic Valve Replacement With Trifecta(TM)</td></tr><tr><td>A Study to Evaluate the Efficacy and Safety of BuMA Supreme Drug Eluting Stent(DES)</td></tr><tr><td>Fibrinolysis Compared to Thoracoscopy for Pleural Infection</td></tr><tr><td>Study in Patients With COPD</td></tr><tr><td>Study in Patients With COPD</td></tr><tr><td>Relative Bioavailability and Food Effect Study</td></tr><tr><td>Study of Aripiprazole in the Treatment of Children and Adolescents With Autistic Disorder (AD)</td></tr><tr><td>A Study of LY2127399 in Participants With Systemic Lupus Erythematosus</td></tr><tr><td>A Study of AK106-001616 in Patients With Rheumatoid Arthritis (RA)</td></tr><tr><td>An Interaction Study to Assess Drug Levels in Healthy Adult Subjects</td></tr><tr><td>Safety and Efficacy Study of Botulinum Toxin Type A for the Treatment of Crow's Feet Lines and Frown Lines</td></tr><tr><td>The Evaluation of TCI378 and TCI507 Probiotics on Weight-lowering Efficacy in Adults</td></tr><tr><td>Memory and Mental Health in Aging</td></tr><tr><td>Rhomboid Intercostal and Subserratus Plane Block</td></tr><tr><td>Comparison of Telavancin and Vancomycin for Hospital-acquired Pneumonia Due to Methicillin-resistant Staphylococcus Aureus</td></tr><tr><td>Trial of Inquiry Based Stress Reduction (IBSR) Program for BRCA1/2 Mutation Carriers</td></tr><tr><td>Treatment of Subarachnoid Hemorrhage With Human Albumin</td></tr><tr><td>Bioavailability of Proteins From Plant Based Diets</td></tr><tr><td>Epidemiology Study of Malaria Transmission Intensity in Sub-Saharan Africa</td></tr><tr><td>Efficacy of Fecal Microbial Transplantation Treatment in Adults With Atopic Dermatitis</td></tr><tr><td>Vaccine Therapy in Treating Patients With Stage III or Stage IV Melanoma</td></tr><tr><td>Vaccine Therapy in Treating Patients With Stage III or Stage IV Melanoma</td></tr><tr><td>Vaccine Therapy in Treating Patients With Stage III or Stage IV Melanoma</td></tr><tr><td>Vaccine Therapy in Treating Patients With Stage III or Stage IV Melanoma</td></tr><tr><td>Vaccine Therapy in Treating Patients With Stage III or Stage IV Melanoma</td></tr><tr><td>Vaccine Therapy in Treating Patients With Stage III or Stage IV Melanoma</td></tr><tr><td>Study Evaluating A Novel Ibuprofen Formulation In The Treatment Of Dental Pain</td></tr><tr><td>Centralized Pan-Middle East Survey on the Undertreatment of Hypercholesterolemia</td></tr><tr><td>Safety and Efficacy of Gabapentin in Postherpetic Neuralgia</td></tr><tr><td>Adaptive Optics Retinal Imaging</td></tr><tr><td>Vaccine Therapy in Treating Patients With Melanoma</td></tr><tr><td>The Breakfast Study</td></tr><tr><td>A Study of Remimazolam Tosilate for Sedation in the ICU</td></tr><tr><td>Assessment of Diagnostic Accuracy and Performance of Digital Breast Tomosynthesis Compared to Mammography</td></tr><tr><td>Pediatric Epilepsy Study</td></tr><tr><td>A Study of Istradefylline (KW-6002) for the Treatment of Parkinson's Disease in Patients Taking Levodopa</td></tr><tr><td>Oocyte Cryopreservation</td></tr><tr><td>Safety Dermatological Assessment of Topical Use Product Through Dressings Predictive Studies for Evaluation of Photoirritation and Dermal Photosensitivity</td></tr><tr><td>A 12 Week Study of QVA149 Compared to Fluticasone/Salmeterol (Advair) for Treatment of COPD</td></tr><tr><td>Bone Resorption, Osteoclastogenesis and Adalimumab</td></tr><tr><td>A Study of Intravenous Mircera for the Treatment of Anemia in Dialysis Patients.</td></tr><tr><td>A Clinical Trial to Evaluate the Safety, Tolerability and Preliminary Effectiveness of Single Administration Intradiscal rhGDF-5 for the Treatment of Early Stage Lumbar Disc Degeneration</td></tr><tr><td>Evaluate the Analgesic Efficacy and Safety of VVZ-149 Injection for Post-operative Pain Following Gastrectomy</td></tr><tr><td>Efficacy and Safety of Mycograb as Adjunctive Therapy for Cryptococcal Meningitis in Patients With AIDS</td></tr><tr><td>Study of Topical ABI-1968 in Subjects With Precancerous Anal Lesions Resulting From Human Papillomavirus (HPV) Infection</td></tr><tr><td>A Study of LY2835219 in Healthy Participants</td></tr><tr><td>A Study of LY2835219 in Healthy Participants</td></tr><tr><td>Isometric Handgrip Exercise for Blood Pressure Management</td></tr><tr><td>Brain Changes in Blepharospasm</td></tr><tr><td>Characterization of Pain Processing Mechanisms in Irritable Bowel Syndrome</td></tr><tr><td>Combination Chemotherapy With or Without Trastuzumab in Treating Women With Breast Cancer</td></tr><tr><td>Enhanced Protein-Energy Provision Via the Enteral Route in Critically Ill Patients</td></tr><tr><td>Assessment of Efficacy and Safety in Patients With Non-cancer-related Pain and Opioid-induced Constipation</td></tr><tr><td>Molecular Profiling of Advanced Biliary Tract Cancers</td></tr><tr><td>PoNS Clinical Experience Program (TBI)</td></tr><tr><td>PoNS Clinical Experience Program (TBI)</td></tr><tr><td>PoNS Clinical Experience Program (TBI)</td></tr><tr><td>PoNS Clinical Experience Program (TBI)</td></tr><tr><td>Hematopoietic Stem Cell Transplantation Gene Therapy for Treatment of Severe Hemophilia A</td></tr><tr><td>Intramuscular Depot Formulation of Aripiprazole as Maintenance Treatment in Patients With Schizophrenia</td></tr><tr><td>Intramuscular Depot Formulation of Aripiprazole as Maintenance Treatment in Patients With Schizophrenia</td></tr><tr><td>Rifabutin Therapy for the Prevention of Mycobacterium Avium Complex (MAC) Bacteremia in AIDS Patients With CD4 Counts = or < 200: A Double-Blind, Placebo-Controlled Trial</td></tr><tr><td>Mild Ankle Sprain Treatment: Functional Bandaging vs. no Immobilization</td></tr><tr><td>Fracture and Fall Prevention in Elderly With Osteoporosis</td></tr><tr><td>Safety and Efficacy Study of Vitrase for Clearance of Severe Vitreous Hemorrhage</td></tr><tr><td>EBUS-TBNA vs Flex 19G EBUS-TBNA</td></tr><tr><td>Acute Kidney Injury After Cardiac Surgery</td></tr><tr><td>Acute Kidney Injury After Cardiac Surgery</td></tr><tr><td>Acute Kidney Injury After Cardiac Surgery</td></tr><tr><td>Efficacy/Safety of Lansoprazole in Patients With Frequent Heartburn</td></tr><tr><td>Bevacizumab and Interleukin-2 in Treating Patients With Metastatic Kidney Cancer</td></tr><tr><td>Terbinafine Compared to Griseofulvin in Children With Tinea Capitis</td></tr><tr><td>Relative Bioavailability Study</td></tr><tr><td>CD19 CAR-T Cells for Patients With Relapse and Refractory CD19+ B-ALL.</td></tr><tr><td>Contingency Management for Smoking in Substance Abusers</td></tr><tr><td>Percentage of Secondary Prevention Patients Treated to Their LDL-C Targets</td></tr><tr><td>Cone Beam Computed Tomography for Breast Imaging</td></tr><tr><td>Bioequivalence Study of Carbidopa/Levodopa/Entacapone Combination vs. Carbidopa/Levodopa Combination Plus Entacapone in Healthy Volunteers</td></tr><tr><td>Bioequivalence Study of Carbidopa/Levodopa/Entacapone Combination vs. Carbidopa/Levodopa Combination Plus Entacapone in Healthy Volunteers</td></tr><tr><td>Continuous Soluble Ferric Pyrophosphate (SFP) Iron Delivery Via Dialysate in Hemodialysis Patients</td></tr><tr><td>Insulin Glargine in Type 2 Diabetes Mellitus</td></tr><tr><td>Relapsing Forms of Multiple Sclerosis (RMS) Study of Bruton's Tyrosine Kinase (BTK) Inhibitor Tolebrutinib (SAR442168)</td></tr><tr><td>A Clinical Study of CD70-targeted CAR-T in the Treatment of CD70-positive Advanced/Metastatic Solid Tumors</td></tr><tr><td>A Study of the Safety and Efficacy of Gatifloxacin in Patients With Bacterial Conjunctivitis</td></tr><tr><td>Efficacy and Safety Study of CB-5945 for the Treatment of Opioid-Induced Constipation</td></tr><tr><td>Confocal Laser Endomicroscopy for Brain Tumors</td></tr><tr><td>Atrial Fibrillation Ablation Registry</td></tr><tr><td>Safety and Efficacy Evaluation of γ-globin Reactivated Autologous Hematopoietic Stem Cells</td></tr><tr><td>PS-341 in Treating Patients With Metastatic Kidney Cancer</td></tr><tr><td>Safety and Efficacy Study of DE-104 Ophthalmic Solution to Treat Open-angle Glaucoma or Ocular Hypertension</td></tr><tr><td>Comparison of Breathing Event Detection by a Continuous Positive Airway Pressure Device to Clinical Polysomnography</td></tr><tr><td>Immunogenicity And Safety of COVID-19 Vaccine , Inactivated Co -Administration With EV71 Vaccine (Vero Cell)</td></tr><tr><td>Impact of Treatment With Rituximab on the Progression of Humoral Acute Rejection After Renal Transplantation</td></tr><tr><td>The Effects of Myofascial Release Technique</td></tr><tr><td>In Vitro Maturation (IVM) of Human Oocytes</td></tr><tr><td>Endoscopic Treatment of Intestinal Fistulas and Perforations</td></tr><tr><td>The Brain Health Study: A Pragmatic, Patient-Centered Trial</td></tr><tr><td>Optical Coherence Microscopy in Dermato-oncology</td></tr><tr><td>A Study of Abemaciclib in Healthy Participants</td></tr><tr><td>Evaluating a Novel Web-based Intervention for Breast Cancer Survivors</td></tr><tr><td>Controlled Study of ONO-1101 in Patients With Postoperative Tachyarrhythmias in Japan</td></tr><tr><td>Comparison of the Fixed Combinations of Brimonidine/Timolol and Dorzolamide/Timolol in Subjects With Open-Angle Glaucoma or Ocular Hypertension</td></tr><tr><td>Confirmatory Study of Indacaterol in Patients With Chronic Obstructive Pulmonary Disease (COPD)</td></tr><tr><td>Study to Evaluate an Influenza Vaccine Candidate</td></tr><tr><td>Immunogenicity, Safety of Measles-mumps-rubella-varicella Vaccine (MeMuRu-OKA) Compared to Priorix™ Given With Varilrix™</td></tr><tr><td>Double-blind, Randomized Study Evaluating the Efficacy and Safety of Brivaracetam in Adults With Partial Onset Seizures</td></tr><tr><td>Patient Satisfaction and Quality of Life Impact - PecFent®</td></tr><tr><td>Vaginal Birth After Caesarean Section - Effect on Maternal Psychosocial Function</td></tr><tr><td>Treatment of Binge Eating Disorder</td></tr><tr><td>Frailty Prevention in Elders From Reunion Island</td></tr><tr><td>Effect of Amino Acid Addition to a Drink on the Appearance of Ingested Water in Body Fluids</td></tr><tr><td>Ferumoxytol Versus Oral Iron in the Treatment of Anemia in Non-Dialysis Dependent Chronic Kidney Disease Patients</td></tr><tr><td>Song-making In a Group (SING)</td></tr><tr><td>An Eight-week Study to Evaluate the Efficacy and Safety of Saredutant in Patients With Depression</td></tr><tr><td>An Eight-week Study to Evaluate the Efficacy and Safety of Saredutant in Patients With Depression</td></tr><tr><td>Gallium-68 PSMA-11 PET in Patients With Biochemical Recurrence</td></tr><tr><td>Efficacy and Safety of Bicifadine in the Treatment of Chronic Low Back Pain</td></tr><tr><td>A Study to Investigate an Immunomodulatory Therapy in Adult Patients With Perennial Allergic Rhinoconjunctivitis</td></tr><tr><td>Stem Cell Study for Patients With Heart Disease</td></tr><tr><td>Cumulative Irritation Test</td></tr><tr><td>Observational Longitudinal Study of Pain in Men With Metastatic Castrate-Resistant Prostate Cancer</td></tr><tr><td>Evaluate Analgesic Efficacy of Fast Release Aspirin</td></tr><tr><td>Evaluation of Vaccination Reminder/Recall Systems for Adolescent Patients</td></tr><tr><td>Efficacy and Safety of Dalbavancin for the Treatment of Acute Bacterial Skin and Skin Structure Infections</td></tr><tr><td>SHP2 Inhibitor ET0038 Monotherapy in Patients With Advanced Solid Tumors</td></tr><tr><td>Metvix PDT Versus Vehicle PDT With Aktilite CL128 Lamp in Patients With Actinic Keratosis on the Face and Scalp</td></tr><tr><td>High Dose Ascorbic Acid (AA) + Nanoparticle Paclitaxel Protein Bound + Cisplatin + Gemcitabine (AA NABPLAGEM) in Patients Who Have Metastatic Pancreatic Cancer</td></tr><tr><td>Combination Bisphosphonate and Anti-Angiogenesis Therapy With Pamidronate and Thalidomide</td></tr><tr><td>OTIS Autoimmune Diseases in Pregnancy Project</td></tr><tr><td>Efficacy and Safety of Ibuprofen in Patients With Ankle Injuries</td></tr><tr><td>Clinical Trial in Patients With Metastatic Colorectal Cancer</td></tr><tr><td>Investigating Variation in Hospital Acute Coronary Syndrome Outcomes</td></tr><tr><td>PTI-125 for Mild-to-moderate Alzheimer's Disease Patients</td></tr><tr><td>Impact of Probiotics on Urinary Symptoms in Spinal Cord Injury SCI and SB</td></tr><tr><td>Quality of Life in Patients With Bladder Cancer</td></tr><tr><td>Safety and Efficacy of AIN457 in Patients With Quiescent Non-infectious Uveitis</td></tr><tr><td>Improving Outcomes and Quality of Life After CABG</td></tr><tr><td>An Internet-based Self Applied Treatment Program for Prolonged Grief Disorder (PGD)</td></tr><tr><td>Capsaicin to Control Pain Following Third Molar Extraction</td></tr><tr><td>Efficacy of 851B Gel for Treating High-Risk Cervical Human Papillomavirus Infection in Women.</td></tr><tr><td>The Depth of Endotracheal Tube Insertion</td></tr><tr><td>Trans Care: An Online Intervention to Reduce Symptoms of Gender Dysphoria</td></tr><tr><td>Islet Cell Transplantation in Patients With Type I Diabetes With Previous Kidney Transplantation</td></tr><tr><td>Study Comparing Product 0405 to a Vehicle Control in the Treatment of Mild to Moderate Atopic Dermatitis in Pediatric Subjects</td></tr><tr><td>Vaccine Therapy in Treating Patients With Breast Cancer</td></tr><tr><td>Efficacy and Safety of Eriobotyra Japonica Lindley Extract on Improvement of Cognitive Function</td></tr><tr><td>Active Surveillance of Papillary Thyroid Microcarcinoma</td></tr><tr><td>Extension Study to Assess the Long-Term Safety of Tegaserod in Women With Symptoms of Dyspepsia</td></tr><tr><td>A Safety Study of Orally Administered BPM31510 in Healthy Subjects</td></tr><tr><td>Study of Safety and Efficacy of an Oral Contraceptive</td></tr><tr><td>Study of Safety and Efficacy of an Oral Contraceptive</td></tr><tr><td>Postpartum Depression</td></tr><tr><td>Efficacy and Safety of Tozorakimab in Symptomatic Chronic Obstructive Pulmonary Disease With a History of Exacerbations</td></tr><tr><td>CKD-828 (80/5mg) Pharmacokinetic Study</td></tr><tr><td>Safety and Efficacy Study of Autologous Cultured Adipose -Derived Stem Cells for the Crohn's Fistula</td></tr><tr><td>Observational Study of Sifrol® in Patients With Primary Restless Legs Syndrome (RLS)</td></tr><tr><td>Study of Rebamipide Eye Drops to Treat Dry Eye</td></tr><tr><td>Glulisine + Lantus in Type I Patients</td></tr><tr><td>Clinical Study to Investigate the PK Profiles and Safety of CKD-385 in Healthy Volunteers Under Fed Conditions</td></tr><tr><td>Long-term Trial on Growth Hormone Deficiency in Adults (GHDA)</td></tr><tr><td>Study of the Safety and Effectiveness of Two Doses of Investigational Study Drug EVP-6124 in Subjects With Alzheimer's Disease</td></tr><tr><td>Vaccine Therapy in Treating Patients With Liver Cancer</td></tr><tr><td>QIAstat-Dx® Meningitis/Encephalitis Panel Performance Evaluation Study</td></tr><tr><td>Intravenous VEGF Trap in Treating Patients With Relapsed or Refractory Advanced Solid Tumors or Non-Hodgkin's Lymphoma</td></tr><tr><td>Carotid and Vertebral Magnetic Resonance Angiography (MRA) Study Comparing Dotarem and Time Of Flight (TOF)</td></tr><tr><td>COVID-19 and Lung Ultrasound Utility</td></tr><tr><td>Vaccine Therapy in Treating Patients With Recurrent Prostate Cancer</td></tr><tr><td>Tight Glycemic Control by Artificial Pancreas</td></tr><tr><td>Nabilone for Non-motor Symptoms in Parkinson's Disease</td></tr><tr><td>Dynamic Variation of Impedance Cardiography(DYVIC) as a Diagnostic Tool of Acute Heart Failure (AHF)</td></tr><tr><td>Neurofeedback Treatment of Pain in Persons With Spinal Cord Injury (SCI)</td></tr><tr><td>Transcranial Magnetic Stimulation Treatment for Generalized Anxiety Disorder</td></tr><tr><td>Delivra-Celecoxib 8% Cream and Osteoarthritis</td></tr><tr><td>Self-sampling and Human Papillomavirus (HPV)-Testing for Unscreened Women in Cervical Cancer Prevention</td></tr><tr><td>Assessment of Musculoskeletal Pain and Psychosocial Status of Athletes</td></tr><tr><td>Group Physical Therapy for Knee Osteoarthritis</td></tr><tr><td>Video Laryngoscopy Versus Direct Laryngoscopy for Nasotracheal Intubation</td></tr><tr><td>The Impact of Three Distinct Exercise Types on Fatigue, Anxiety, and Depression in Parkinson's Disease</td></tr><tr><td>Using Topical Sirolimus 2% for Patients With Epidermolysis Bullous Simplex (EBS) Study</td></tr><tr><td>Study of Levalbuterol, Racemic Albuterol and Placebo in Subjects Twelve Years of Age and Older With Asthma</td></tr><tr><td>ExAblate Transcranial MR Guided Focused Ultrasound in the Treatment of Essential Tremor</td></tr><tr><td>Study of Efficacy and Safety of CTL019 in Pediatric ALL Patients</td></tr><tr><td>Surgical Treatment of Peri-implantitis</td></tr><tr><td>A Phase 3 Safety and Efficacy Study of Fovista® (E10030) Intravitreous Administration in Combination With Lucentis® Compared to Lucentis® Monotherapy</td></tr><tr><td>Virtual Ileostomy Versus Conventional Loop Ileostomy</td></tr><tr><td>Evaluation of the PillCam™ Colon Capsule Endoscopy (PCCE) Preparation and Procedure</td></tr><tr><td>Evaluation of the PillCam™ Colon Capsule Endoscopy (PCCE) Preparation and Procedure</td></tr><tr><td>Safety and Efficacy of FTY720 in Adult Patients Who Receive a Kidney Transplant</td></tr><tr><td>Biomarkers in Samples From Young Patients With Acute Myeloid Leukemia</td></tr><tr><td>Paclitaxel Plus Estramustine in Treating Patients With Metastatic Prostate Cancer</td></tr><tr><td>Safety and Toxicity Study of Sorafenib in Patients With Kidney Cancer</td></tr><tr><td>Prevention of Contrast Induced Nephropathy With Sodium Bicarbonate</td></tr><tr><td>A Study of LY2189265 in Japanese Participants With Type 2 Diabetes Mellitus</td></tr><tr><td>A Twelve-Week Study of Varenicline for Safety and Efficacy in Comparison With Placebo and Zyban for Smoking Cessation</td></tr><tr><td>Efficacy and Safety Study of Dietary Supplements in Chronic Smokers Having Mild to Moderate Hyperlipidemia</td></tr><tr><td>A Bioequivalence Study of the Fixed Dose Combination Tablets of Canagliflozin and Metformin Extended Release (XR) With Respect to the Individual Components in Healthy Fed Participants</td></tr><tr><td>Endoscopic Submucosal Dissection Registry</td></tr><tr><td>Understanding GMK Sphere Implant Tibiofemoral Kinematics by Means of Dynamic Videofluoroscopy</td></tr><tr><td>Prevention of Venous Thromboembolism in Patients Undergoing Elective Total Knee Replacement Surgery</td></tr><tr><td>Biomechanical and Viscoelastic Properties of Plantar Fascia in Pregnant Women</td></tr><tr><td>Patient Empowerment for Major Surgery Preparation @ Home</td></tr><tr><td>AL-15469A for the Treatment of Bacterial Conjunctivitis</td></tr><tr><td>Phase 3 Trial to Assess the Safety and Efficacy of Natroba for the Treatment of Scabies</td></tr><tr><td>Expanding Rapid Ascertainment Networks of Schizophrenia Families in Taiwan</td></tr><tr><td>Neuroactive Steroids in Acute Ischemic Stroke</td></tr><tr><td>Efficacy of Lu 31-130 in Patients With Schizophrenia</td></tr><tr><td>Ultrasound Guided Percutaneous Tracheostomy</td></tr><tr><td>Bright Light Therapy in Seasonal Affective Disorder (SAD)</td></tr><tr><td>Safety and Effectiveness of the Orsiro Sirolimus Eluting Coronary Stent System in Subjects With Coronary Artery Lesions</td></tr><tr><td>A Study of the Safety and Efficacy of Fabrazyme in Patients With Fabry Disease</td></tr><tr><td>A Study of the Safety and Efficacy of Fabrazyme in Patients With Fabry Disease</td></tr><tr><td>Study to Assess Batoclimab in Participants With Active Thyroid Eye Disease</td></tr><tr><td>Geniculate Artery Embolization for Knee Osteoarthritis</td></tr><tr><td>Infrastructure for Developing Gastrointestinal Cancer Prognostic and Predictive Markers</td></tr><tr><td>A Study Of DVS SR In Treatment Of Children And Adolescent Outpatients With MDD</td></tr><tr><td>Topical Antifungal Treatment for Tinea Pedis</td></tr><tr><td>A Pharmacokinetic Study of SID1903 (FDC of Dapagliflozin and Sitagliptin) in Healthy Adult Volunteers</td></tr><tr><td>Comparison of Telavancin and Vancomycin for Complicated Skin and Skin Structure Infections With a Focus on Methicillin-resistant Staphylococcus Aureus</td></tr><tr><td>Evaluation of a Non-invasive Cardiac Output Monitoring System.</td></tr><tr><td>Evaluation of a Commercial Program on Weight Loss and Health Outcomes</td></tr><tr><td>Evaluation of a Commercial Program on Weight Loss and Health Outcomes</td></tr><tr><td>Study to Evaluate a 13-valent Pneumococcal Conjugate Vaccine in Infants.</td></tr><tr><td>Enhancing Knowledge Translation in Nutrition Through a Healthy Eating Blog</td></tr><tr><td>Pilot Clinical Evaluation of the RHEA Vital Sign Vigilance System in Hospital Patients</td></tr><tr><td>Combination of Icotinib and Gemcitabine as First-line Treatment in Pancreatic Cancer</td></tr><tr><td>Clinical Study of Venetoclax Combined With CACAG Regimen in the Treatment of Newly Diagnosed Acute Myeloid Leukemia</td></tr><tr><td>A Study to Evaluate the Efficacy and Safety of BIIB059 (Litifilimab) in Adult Participants With Active Systemic Lupus Erythematosus Receiving Background Nonbiologic Lupus Standard of Care</td></tr><tr><td>The Effect of Light Therapy on Post-Surgical Pain</td></tr><tr><td>A Study for Patients With Type 2 Diabetes Mellitus</td></tr><tr><td>Study Evaluating Levonorgestrel and Ethinyl Estradiol for Oral Contraception</td></tr><tr><td>Efficacy and Safety of Indacaterol Plus Tiotropium Versus Tiotropium Alone in Patients With Chronic Obstructive Pulmonary Disease</td></tr><tr><td>Ovarian Tissue Cryopreservation for Fertility Preservation</td></tr><tr><td>Misoprostol for Second Trimester Termination of Pregnancy</td></tr><tr><td>A Study of Ocrelizumab in Comparison With Interferon Beta-1a (Rebif) in Participants With Relapsing Multiple Sclerosis</td></tr><tr><td>Evaluation of the QuantiFERON-TB Test.</td></tr><tr><td>Evaluation of the QuantiFERON-TB Test.</td></tr><tr><td>Mediators of Inflammation, Prognostic Markers and Genetic Polymorphisms in Patients With Sepsis</td></tr><tr><td>Effects of Inspiratory Muscle Training in Patients With Parkinson's Disease</td></tr><tr><td>A Study of ARRY-371797 in Subjects Undergoing Third Molar Extraction</td></tr><tr><td>Fecal Microbiota Transplant National Registry</td></tr><tr><td>Comparison of the Efficacy and Safety of Q8003 Versus Its Individual Components in Bunionectomy Patients</td></tr><tr><td>Apheresis to Obtain Plasma or White Blood Cells for Laboratory Studies</td></tr><tr><td>Stereotactic Body Radiation Therapy (SBRT) for Prostate Cancer</td></tr><tr><td>Restoring Hemodynamic Stability Using Targeted Epidural Spinal Stimulation Following Spinal Cord Injury</td></tr><tr><td>Radioimmunoimaging of AL Amyloidosis</td></tr><tr><td>Pharmacokinetic Interaction Between Maraviroc And Fosamprenavir/Ritonavir In Healthy Subjects</td></tr><tr><td>Rate Control in Atrial Fibrillation</td></tr><tr><td>Clinical Trial of Infant Formula-fed</td></tr><tr><td>Non-Invasive Screening for Fetal Aneuploidy</td></tr><tr><td>Safety and Efficacy of IDP-122 in the Treatment of Participants With Plaque Psoriasis</td></tr><tr><td>Performance of an Investigational Blood Glucose Monitoring System in a Clinical Setting</td></tr><tr><td>Vaccine Therapy in Treating Patients With Metastatic Breast Cancer</td></tr><tr><td>Sodium Butyrate For Improving Cognitive Function In Schizophrenia</td></tr><tr><td>Effects of Chewing Gum Against Postoperative Ileus</td></tr><tr><td>Safety, Efficacy and Pharmacokinetics of ThisCART19A in Patients With Refractory or Relapsed B Cell Lymphoma</td></tr><tr><td>Combining Lesinurad With Allopurinol in Inadequate Responders</td></tr><tr><td>A Study on the Safety and Efficacy of Topiramate in the Treatment of Patients With Bipolar I Disorder</td></tr><tr><td>Atherosclerosis in Rheumatoid Arthritis</td></tr><tr><td>Adalimumab in Adult Japanese Subjects With Rheumatoid Arthritis</td></tr><tr><td>Effects of tDCS and tUS on Pain Perception in OA of the Knee</td></tr><tr><td>REperfusion With Cooling in CerebraL Acute IscheMia II</td></tr><tr><td>Efficacy of Ivermectin in COVID-19</td></tr><tr><td>Evaluation of PillCam™ Colon 2 in Visualization of the Colon</td></tr><tr><td>Safety and Immunogenicity of a Melan-A VLP Vaccine in Advanced Stage Melanoma Patients</td></tr><tr><td>Sex Hormones and Atherosclerosis Prevention in Perimenopausal Women</td></tr><tr><td>Probiotics for Irritable Bowel Syndrome</td></tr><tr><td>Safety and Efficacy Study of Subjects With Onychomycosis of the Great Toenail</td></tr><tr><td>Study of Efficacy and Safety of QAW039 When Added to Standard-of-care Asthma Therapy in Patients With Uncontrolled Asthma</td></tr><tr><td>A 6-Month Extension Study of OTO-104 in Meniere's Disease</td></tr><tr><td>Safety and Efficacy of (PN-152,243)/PN-196,444 in the Prevention of Thrombocytopenia</td></tr><tr><td>Safety and Efficacy of (PN-152,243)/PN-196,444 in the Prevention of Thrombocytopenia</td></tr><tr><td>Faecal Microbiota Transplantation in Irritable Bowel Syndrome</td></tr><tr><td>Impact of an Early Palliative Approach</td></tr><tr><td>To Examine the Lung When People With Diabetes Take an Inhaled Form of Insulin, Compared to Subcutaneous Insulin.</td></tr><tr><td>Recombinant Human C1 Inhibitor for the Treatment of Acute Attacks in Patients With Hereditary Angioedema</td></tr><tr><td>Recombinant Human C1 Inhibitor for the Treatment of Acute Attacks in Patients With Hereditary Angioedema</td></tr><tr><td>Recombinant Human C1 Inhibitor for the Treatment of Acute Attacks in Patients With Hereditary Angioedema</td></tr><tr><td>Study of Licarbazepine in the Treatment of Manic Episodes of Bipolar Disorder</td></tr><tr><td>Study of Licarbazepine in the Treatment of Manic Episodes of Bipolar Disorder</td></tr><tr><td>Real-world Effectiveness of Combination Therapies in Primary Care Asthma Management</td></tr><tr><td>Asthma Exacerbation Study</td></tr><tr><td>Efficacy/Safety of Ecraprost in Lipid Emulsion for Treatment of Critical Leg Ischemia Due to Peripheral Arterial Disease</td></tr><tr><td>Clinical Study to Investigate the PK Profiles and Safety of CKD-385 in Healthy Volunteers Under Fasting Conditions</td></tr><tr><td>Cranberry for the Prevention of Urinary Tract Infections</td></tr><tr><td>Epratuzumab in Treating Patients With Non-Hodgkin's Lymphoma</td></tr><tr><td>Study to Evaluate the Safety and Efficacy of a Once-Daily CLS001 Topical Gel Versus Vehicle</td></tr><tr><td>Physiological Brain Atlas Development</td></tr><tr><td>InSpace™ System in Comparison to Best Repair of Massive Rotator Cuff Tear.</td></tr><tr><td>12-Week Efficacy and Safety Study of Ibodutant in Women With Irritable Bowel Syndrome With Diarrhea (IBS-D)</td></tr><tr><td>Volumetric Study of the Buttocks After Flap Augmentation in Buttocks Lifting</td></tr><tr><td>Hypoglycemia Associated Autonomic Failure in Type 1 Diabetes Mellitus</td></tr><tr><td>Tiotropium / Respimat One-Year Study</td></tr><tr><td>Docetaxel in Non Small Cell Lung Cancer (NSCLC)</td></tr><tr><td>Docetaxel in Non Small Cell Lung Cancer (NSCLC)</td></tr><tr><td>High Intensity Interval Gait Training in Multiple Sclerosis</td></tr><tr><td>Study to Evaluate the Safety of a Bivalent Vaccine of New 6:2 Influenza Virus Reassortants in Healthy Adults</td></tr><tr><td>Eculizumab to Treat Paroxysmal Nocturnal Hemoglobinuria</td></tr><tr><td>Fresh Frozen Plasma as a Substitute for Albumin in Patients Receiving a Large Volume Paracentesis</td></tr><tr><td>A Pilot Bioequivalence Study of Pomalidomide</td></tr><tr><td>Visual Perceptual Learning for the Treatment of Visual Field Defect</td></tr><tr><td>Nicotine Reinforcement and Smoking-Cue Reactivity: Association With Genetic Polymorphisms</td></tr><tr><td>Efficacy of Viome's Precision Nutrition Program Towards Reducing HbA1c</td></tr><tr><td>AFP Specific T Cell Receptor Transduced T Cells Injection(C-TCR055) in Unresectable Hepatocellular Carcinoma</td></tr><tr><td>A Multi-center, Randomized, Double-blind, Placebo-controlled Study to Evaluate the Efficacy and Safety of Certolizumab Pegol in Combination With Methotrexate in the Treatment of Disease Modifying Antirheumatic Drugs (DMARD)-naïve Adults With Early Active Rheumatoid Arthritis</td></tr><tr><td>Efficacy of Dry Needling in the Treatment of Lateral Epicondylitis</td></tr><tr><td>A Study of SI-6603 in Patients With Lumbar Disc Herniation</td></tr><tr><td>Combination Chemotherapy in Treating Patients With Advanced Non-Small Cell Lung Cancer</td></tr><tr><td>Incomplete Response in Late-Life Depression: Getting to Remission With Buprenorphine</td></tr><tr><td>Combination Chemotherapy in Treating Patients With Colorectal Cancer</td></tr><tr><td>Study of EVP-6124 (Alpha-7 nAChR) as an Adjunctive Pro-Cognitive Treatment in Schizophrenia Subjects on Chronic Stable Atypical Antipsychotic Therapy</td></tr><tr><td>Prevention of Recurrence of Diverticulitis</td></tr><tr><td>Spinal Cord Injury Neuroprotection With Glyburide</td></tr><tr><td>Bespoke vs Standard Instrumentation in TKR</td></tr><tr><td>Study to Assess Rifaximin Soluble Solid Dispersion (SSD) for the Delay of Encephalopathy Decompensation in Cirrhosis</td></tr><tr><td>The Effect of Social Media Use on Eating Behaviours</td></tr><tr><td>Study Comparing Test to Aczone 7.5% and Both to a Placebo Control in the Treatment of Acne Vulgaris</td></tr><tr><td>Pharmacogenomics of Paclitaxel in Ovarian Cancer</td></tr><tr><td>Study of NGX-4010 for the Treatment of Postherpetic Neuralgia</td></tr><tr><td>Traumatic Nightmares Treated by NightWare (To Arouse Not Awaken)</td></tr><tr><td>A Study in Participants With Type 2 Diabetes Mellitus</td></tr><tr><td>Safety and Efficacy of IDP-118 in the Treatment of Plaque Psoriasis</td></tr><tr><td>Study to Evaluate the Safety and the Pharmacokinetics of IY-NT-T</td></tr><tr><td>Validity of Using Connected Soles In Measuring Steps Number In the Older Subject, Hospitalized in Follow-up and Rehabilitative Care and Achieve Its Rehabilitation Objectives</td></tr><tr><td>Hypersensitivity Reaction to Vitrase (Ovine Hyaluronidase)</td></tr><tr><td>Immune Response to Hepatitis C Virus</td></tr><tr><td>A Trauma-Informed Approach for Positive Youth Development for Montana Students</td></tr><tr><td>Cannabis for Spasticity in Multiple Sclerosis</td></tr><tr><td>Acalabrutinib Study With Best Supportive Care Versus Best Supportive Care in Subjects Hospitalized With COVID-19.</td></tr><tr><td>A Pilot Evaluation of Adhesives and How They Are Impacted by Output</td></tr><tr><td>Project Health Link: Connecting Patients With Services</td></tr><tr><td>Compression Anastomosis Using the CAR™ 27</td></tr><tr><td>Efficacy and Safety of Summers Non-Pesticide Lice Asphyxiator (L.A.)for the Treatment of Head Lice</td></tr><tr><td>Clinical Assessment of Visual Function With the Acrysof ReSTOR Multifocal IOL</td></tr><tr><td>A Study of the Safety and Efficacy of a New Treatment for Macular Edema Resulting From Retinal Vein Occlusion</td></tr><tr><td>Daily-Dose Consensus Interferon and Ribavirin: Efficacy of Combined Therapy</td></tr><tr><td>Stereotactic Radiation Therapy in Treating Patients With Liver Metastases</td></tr><tr><td>Study Evaluating Bifeprunox in Bipolar Depression</td></tr><tr><td>Validation of the Respirio Flu Test for the Rapid Identification of Influenza A/B</td></tr><tr><td>Study of Efficacy and Safety of Secukinumab in Participants With Moderate-severe Rotator Cuff Tendinopathy</td></tr><tr><td>Patient and Provider Interventions for Managing Osteoarthritis in Primary Care</td></tr><tr><td>A Study to Determine the Fed Bioequivalence of Reformulated OXY Tablets and Original OxyContin® (OXY) Tablets</td></tr><tr><td>Ceftobiprole in Hospital Acquired Pneumonia</td></tr><tr><td>A Bioequivalence Study of the Fixed Dose Combination Tablets of Canagliflozin and Metformin Extended Release (XR) With Respect to the Individual Components</td></tr><tr><td>Monoclonal Antibody Therapy in Treating Patients With Advanced Kidney Cancer</td></tr><tr><td>Joint Health Study</td></tr><tr><td>Fecal Microbiota Transplantation for Ulcerative Colitis</td></tr><tr><td>Fecal Microbiota Transplantation for Ulcerative Colitis</td></tr><tr><td>Study of Liposomal Annamycin for the Treatment of Subjects With Acute Myeloid Leukemia (AML)</td></tr><tr><td>Combination Chemotherapy Plus Radiation Therapy in Treating Patients With Esophageal Cancer</td></tr><tr><td>Boston Puerto Rican Health Study</td></tr><tr><td>Inspiratory Muscle Training in Pulmonary Hypertension</td></tr><tr><td>Safety Study of SGX523, a Small Molecule Met Inhibitor, to Treat Solid Tumors</td></tr><tr><td>Individualized Fortification of Breast Milk</td></tr><tr><td>A Safety, Tolerability, Pharmacokinetics, and Pharmacodynamics Study of JNJ-28431754 in Patients With Type 2 Diabetes Mellitus</td></tr><tr><td>Waitlist-Control Trial of Smartphone CBT for Major Depressive Disorder (MDD)</td></tr><tr><td>Magnetic Resonance Imaging (MRI) of Neuropsychiatric Patients and Healthy Volunteers</td></tr><tr><td>Rituximab in Treating Patients With Waldenstrom's Macroglobulinemia</td></tr><tr><td>Electroacupuncture Analgesia for Colonoscopy</td></tr><tr><td>E-training of Inmate Peer Caregivers for Enhancing Geriatric and End-of-life Care in Prisons</td></tr><tr><td>Transcranial Direct Current Stimulation in Patients With Disorders of Consciousness</td></tr><tr><td>Safety Study of a Contact Lens With Ketotifen in Healthy, Normal Volunteers</td></tr><tr><td>Clinical Evaluation of Two Daily Disposable Contact Lenses</td></tr><tr><td>Clinical Pharmacogenomics of Antidepressant Response</td></tr><tr><td>High Intensity Laser Therapy in the Treatment of Hemiplegic Shoulder Pain</td></tr><tr><td>Daily Sedative Interruption in Critically Ill Patients Being Managed With a Sedation Protocol</td></tr><tr><td>A Multicenter Study Evaluating the Effectiveness of Endo.Angel in Improving the Quality of Colonoscopy</td></tr><tr><td>Study of Edecesertib in Participants With Cutaneous Lupus Erythematosus (CLE)</td></tr><tr><td>Efficacy of Nalmefene in Patients With Alcohol Dependence</td></tr><tr><td>A Study of OPC-262 in Patients With Type 2 Diabetes</td></tr><tr><td>To Investigate the Safety and Tolerability of Repeated Subcutaneous Injections of CAD106 in Alzheimer's Patients</td></tr><tr><td>Behavior, Biology and Well-Being Study</td></tr><tr><td>Topical CBD for Musculoskeletal Pain</td></tr><tr><td>Bronchoscopic Thermal Vapor Ablation (BTVA) for Lung Volume Reduction</td></tr><tr><td>C1-Esteraseremmer-N for the Treatment of Hereditary (and Acquired) Angioedema</td></tr><tr><td>Sargramostim for Myeloid Dendritic Cell Deficiency</td></tr><tr><td>Therapeutic Equivalence Study of Generic Brinzolamide vs Azopt</td></tr><tr><td>Influence of Pain on Exercise-induced Hypoalgesia</td></tr><tr><td>Double Blind Study of Thymopentin Effects on Patients With HIV-1 Infection</td></tr><tr><td>Efficacy and Safety Study of SPL7013 Gel to Prevent the Recurrence of Bacterial Vaginosis (BV)</td></tr><tr><td>Study Evaluating MST-997 in Advanced Malignant Solid Tumors</td></tr><tr><td>Water-based Activity to Enhance Recall in Veterans</td></tr><tr><td>Missed Serious Medical Illness in Psychiatric Patients Seen in an Academic Emergency Department</td></tr><tr><td>Topotecan Episcleral Plaque for Treatment of Retinoblastoma</td></tr><tr><td>Study of WA-NG Telescope Prosthesis in Patients With End-stage Age-related Macular Degeneration</td></tr><tr><td>Neurovascular Coupling in Eyes of Glaucoma Patients</td></tr><tr><td>S90652 in Paediatric Hypertension</td></tr><tr><td>Chemotherapy in Treating Patients With Solid Tumors</td></tr><tr><td>Study in Patients With Asthma</td></tr><tr><td>Study in Patients With Asthma</td></tr><tr><td>Study in Patients With Asthma</td></tr><tr><td>Nicotine Pharmacokinetic Profile and Safety of the Tobacco Heating System 2.2 (THS 2.2)</td></tr><tr><td>Study of FYU-981 in Hyperuricemia With or Without Gout</td></tr><tr><td>Study of FYU-981 in Hyperuricemia With or Without Gout</td></tr><tr><td>Complications After Lower Third Molar Surgery</td></tr><tr><td>Skin Sensitization Test (Modified Draize-95 Test)</td></tr><tr><td>Precision Cell Immunotherapy Combined With TACE in Advanced Liver Cancer</td></tr><tr><td>Precision Cell Immunotherapy Combined With TACE in Advanced Liver Cancer</td></tr><tr><td>Study of Difluprednate Ophthalmic Emulsion in the Treatment of Postoperative Inflammation</td></tr><tr><td>Safety and Tolerability of Repeat Courses of IM Alefacept</td></tr><tr><td>Microbiota Restoration Therapy for Recurrent Clostridium Difficile Infection</td></tr><tr><td>Face Transplantation</td></tr><tr><td>Exercise in Breast Cancer Survivors</td></tr><tr><td>Repeated Neurocognitive Measurements in Depressed Patients</td></tr><tr><td>Prednisone for Heart Failure Patients With Hyperuricemia</td></tr><tr><td>Transanal Versus Laparoscopic Total Mesorectal Excision For Rectal Cancer</td></tr><tr><td>Vaccine Therapy in Treating Patients With Stage IV Melanoma</td></tr><tr><td>Vaccine Therapy in Treating Patients With Stage IV Melanoma</td></tr><tr><td>Vaccine Therapy in Treating Patients With Stage IV Melanoma</td></tr><tr><td>Vaccine Therapy in Treating Patients With Stage IV Melanoma</td></tr><tr><td>Vaccine Therapy in Treating Patients With Metastatic Cancer</td></tr><tr><td>Combination of Intranasal Scopolamine and Sensory Augmentation to Mitigate G-transition Induced Motion Sickness and Enhance Sensorimotor Performance</td></tr><tr><td>Effect of a Component of Fish Oil on Exercise-Induced Bronchoconstriction and Airway Inflammation in Asthma</td></tr><tr><td>Safety and Efficacy Study of A Novel Ointment to Treat Plaque Type Psoriasis</td></tr><tr><td>A Study of CAP-1002 in Ambulatory and Non-Ambulatory Patients With Duchenne Muscular Dystrophy</td></tr><tr><td>Study of Alvimopan for the Management of Opioid-induced Postoperative Bowel Dysfunction/Postoperative Ileus</td></tr><tr><td>Study of Alvimopan for the Management of Opioid-induced Postoperative Bowel Dysfunction/Postoperative Ileus</td></tr><tr><td>A Study of the Safety and Effectiveness of Two Doses of Galantamine Versus Placebo in the Treatment of Patients With Alzheimer's Disease</td></tr><tr><td>Radiation Therapy in Treating Patients With Stage II Prostate Cancer</td></tr><tr><td>China Obstetrics Alliance Cohort Study</td></tr><tr><td>Parent-implemented Social Communication Treatment in Preschool Children With Autism Spectrum Disorder</td></tr><tr><td>Vaccine Therapy in Treating Patients With Kidney Cancer</td></tr><tr><td>WILD 5 Wellness: A 30-Day Intervention</td></tr><tr><td>12 Week Comparison of 5 Mcg and 10 Mcg of Tiotropium / Respimat, Placebo and Ipratropium MDI in COPD</td></tr><tr><td>Mechanisms of Allergen Immunotherapy</td></tr><tr><td>A Study Comparing the Efficacy and Safety of IDP-121 and IDP-121 Vehicle Lotion in the Treatment of Acne Vulgaris</td></tr><tr><td>Multiple Ascending Dose Study to Assess Safety and Pharmacokinetics of Hemay005 In Healthy Subjects</td></tr><tr><td>PET Imaging Study of Amish and Mennonite Patients With CNTNAP2 Mutations</td></tr><tr><td>Cognitive Training in Parkinson's Disease</td></tr><tr><td>Image-Guided Gynecologic Brachytherapy</td></tr><tr><td>Study of the Safety and Efficacy of Apadenoson for Detection of Myocardial Perfusion Defects Using SPECT MPI</td></tr><tr><td>Esomeprazole for Prevention of Upper Gastrointestinal Symptoms Associated With Continuous Use of NSAIDs</td></tr><tr><td>Vaccine Therapy in Treating Patients With Malignant Glioma</td></tr><tr><td>A Dispensing Clinical Trial of Comfilcon A Extended Range Multifocal Lenses</td></tr><tr><td>Imatinib Mesylate in Treating Patients With Myelofibrosis</td></tr><tr><td>Myocardial Ischemia and Transfusion</td></tr><tr><td>Treatment of Apogeotropic Horizontal Canal Benign Paroxysmal Positional Vertigo</td></tr><tr><td>Safety and Efficacy Study Using Gene Therapy for Critical Limb Ischemia</td></tr><tr><td>A Dose-escalation Study in Subjects With Advanced Malignancies</td></tr><tr><td>Comparison of Nutritional Products for People With Type 2 Diabetes</td></tr><tr><td>Probiotics and Gut Health</td></tr><tr><td>Effectiveness and Safety Evaluation of Aqueduct -100 Device</td></tr><tr><td>Validation of a Nutrition Screening Tool</td></tr><tr><td>Sexually Transmitted Infections Among African American Women Who Have Sex With Women</td></tr><tr><td>Study to Evaluate the Efficacy and Safety of Erenumab (AMG 334) in Migraine Prevention</td></tr><tr><td>E7070 in Treating Patients With Solid Tumors</td></tr><tr><td>Efficacy and Safety of Bromfenac Ophthalmic Solution in Cataract Surgery</td></tr><tr><td>The SITE Study - Dexamethasone Ophthalmic Insert In OR on Day of Surgery Versus In-office Post-Op Day 1</td></tr><tr><td>Surgery With or Without Combination Chemotherapy in Treating Patients With Stomach Cancer</td></tr><tr><td>Mutation Screening and Translocation Detection of DISC1 Gene in Schizophrenia</td></tr><tr><td>A Study to Evaluate the Efficacy of Seasonique for the Treatment of Cyclic Pelvic Pain</td></tr><tr><td>Blood Brain Barrier (BBB) Disruption Using Exablate Focused Ultrasound With Doxorubicin for Treatment of Pediatric DIPG</td></tr><tr><td>Alpha-Amino-3-Hydroxy-5-Methyl-4- Isoxazole Propionic Acid Receptor Components of the Anti-Depressant Ketamine Response</td></tr><tr><td>Study Evaluating Pantoprazole in Peptic Ulcer Hemorrhage</td></tr><tr><td>Study to Evaluate JCXH-211 as Monotherapy in Patients With Malignant Solid Tumors</td></tr><tr><td>αPD1-MSLN-CAR T Cells for the Treatment of MSLN-positive Advanced Solid Tumors</td></tr><tr><td>αPD1-MSLN-CAR T Cells for the Treatment of MSLN-positive Advanced Solid Tumors</td></tr><tr><td>Study of STA-5326 Mesylate in Patients With Moderate to Severe Crohn's Disease</td></tr><tr><td>Pharmacotoxicology of Trichloroethylene Metabolites</td></tr><tr><td>Pharmacotoxicology of Trichloroethylene Metabolites</td></tr><tr><td>Vaccine Therapy in Preventing Cervical Cancer in Patients With Cervical Intraepithelial Neoplasia</td></tr><tr><td>Impact of Heart Failure on Calcium Homeostasis and Mitochondrial Function in Human Skeletal Muscle</td></tr><tr><td>Study of Difluprednate Ophthalmic Emulsion in the Treatment of Uveitis</td></tr><tr><td>A Prospective Clinical Study On A Total Hip Resurfacing System</td></tr><tr><td>Vaccine Therapy in Treating Women With Metastatic Breast Cancer</td></tr><tr><td>SPD489 in Adults Aged 18-55 Years With Moderate to Severe Binge Eating Disorder</td></tr><tr><td>A Study of Lumacaftor in Combination With Ivacaftor in Cystic Fibrosis Subjects Aged 12 Years and Older Who Are Homozygous for the F508del-CFTR Mutation</td></tr><tr><td>Safety and Efficacy of Metabolically Armed CD19 CAR-T Cells (Meta10-19) in the Treatment of r/r DLBCL Clinical Research</td></tr><tr><td>Evaluating Body Acceptance Programs for Young Men</td></tr><tr><td>Effectiveness of Aurix Therapy in Venous Leg Ulcers</td></tr><tr><td>Combination Chemotherapy in Treating Patients With Extensive-Stage Small Cell Lung Cancer</td></tr><tr><td>Combination Chemotherapy in Treating Patients With Extensive-Stage Small Cell Lung Cancer</td></tr><tr><td>Clinical Study Comparing the Efficacy and Safety of IDP-126 Gel in the Treatment of Acne Vulgaris</td></tr><tr><td>Insulin Lispro 6 Days Versus Insulin Aspart 6 Days in Pump Use</td></tr><tr><td>Protein Requirements for Active Children</td></tr><tr><td>Response Monitoring Trial in Patients With Suspected Recurrence of Glioblastoma</td></tr><tr><td>A Study of the Efficacy and Safety of Topiramate as add-on Therapy in the Treatment of Epilepsy Patients With Difficult to Treat, Partial-onset Seizures.</td></tr><tr><td>Ceftobiprole in the Treatment of Resistant Staphylococcus Aureus Skin and Skin Structure Infections</td></tr><tr><td>The Use of a Dynamic Compression Intramedullary Nail for Tibiotalocalcaneal Arthrodesis</td></tr><tr><td>The Use of a Dynamic Compression Intramedullary Nail for Tibiotalocalcaneal Arthrodesis</td></tr><tr><td>A Study of Ketorolac for the Treatment of Inflammation and Pain Associated With Cataract Surgery</td></tr><tr><td>Psilocybin for Treatment-Resistant Depression</td></tr><tr><td>Immunotherapy Using Tumor Infiltrating Lymphocytes for Patients With Metastatic Melanoma</td></tr><tr><td>Combination Chemotherapy in Treating Patients With Advanced Prostate Cancer</td></tr><tr><td>Preconditioning Shields Against Vascular Events in Surgery</td></tr><tr><td>Immunity Modification of Full Term Infants According to the Type of Feeding and Mode of Delivery</td></tr><tr><td>A Study to Assess the Efficacy and Safety of REL-1017 as Adjunctive Treatment for Major Depressive Disorder (MDD)</td></tr><tr><td>A Study to Assess the Safety, Tolerability and Pharmacokinetics of ASP015K</td></tr><tr><td>Efficacy and Safety Study for Ecabet Ophthalmic Solution for Treating Dry Eye Syndrome</td></tr><tr><td>Bio-equivalence Study With Clinical Endpoints in the Treatment of Acne Vulgaris</td></tr><tr><td>Evaluation of Efficacy, Safety and Tolerability of Targretin Capsules in Patients With Advanced or Metastatic Non-small Cell Lung Cancer</td></tr><tr><td>Safety and Efficacy Study of Transplantation of EPCs to Treat Idiopathic Pulmonary Arterial Hypertension</td></tr><tr><td>Movicol in Childhood Constipation (ProMotion Study)</td></tr><tr><td>Efficacy Study of PN400 (VIMOVO) Twice Daily and Celebrex Once Daily in Patients With Osteoarthritis</td></tr><tr><td>Combination Chemotherapy in Treating Patients With AIDS-Related Lymphoma</td></tr><tr><td>Smoking Cessation Study</td></tr><tr><td>Clinical Evaluation on HA Coated Dynamic Hip Screws for Trochanteric Femoral Fractures</td></tr><tr><td>Dual Implant Versus Single Implant Distal End of Femur</td></tr><tr><td>A Relative Bioavailability Study of Glyburide/Metformin HCl 5 mg/500 mg Tablets Under Fasting Conditions</td></tr><tr><td>Safety and Efficacy of Levomilnacipran ER (F2695 SR) in Major Depressive Disorder</td></tr><tr><td>Safety and Efficacy of Levomilnacipran ER (F2695 SR) in Major Depressive Disorder</td></tr><tr><td>Immunogenicity, Safety and Tolerability of Two Doses of Adjuvanted and Non-adjuvanted Swine Origin A/H1N1 Monovalent Influenza Vaccine in Healthy Subjects 18 or More Years of Age</td></tr><tr><td>Evaluation of Mineral Absorption in Infants Fed Infant Formula</td></tr><tr><td>A Study of a Glaucoma Therapy to Treat Open-Angle Glaucoma or Ocular Hypertension</td></tr><tr><td>A Study of a Glaucoma Therapy to Treat Open-Angle Glaucoma or Ocular Hypertension</td></tr><tr><td>Vaccine Therapy in Treating Patients With Newly Diagnosed Glioblastoma Multiforme</td></tr><tr><td>Observational Study to Evaluate the Safety of Levemir® in Diabetes</td></tr><tr><td>Pharmacokinetic Study in Healthy Volunteers</td></tr><tr><td>A Study of the Effectiveness and Safety of Dapoxetine in the Treatment of Men With Premature Ejaculation</td></tr><tr><td>A Study of the Effectiveness and Safety of Dapoxetine in the Treatment of Men With Premature Ejaculation</td></tr><tr><td>IncobotulinumtoxinA (Xeomin) Versus Placebo in the Treatment of Glabellar Frown Lines</td></tr><tr><td>From Nature to Bedside- Algae Based Bio Compound for Prevention and Treatment of Inflammation, Pain and IBD</td></tr><tr><td>COVID-19 Antibody Responses in Cystic Fibrosis</td></tr><tr><td>COVID-19 Antibody Responses in Cystic Fibrosis</td></tr><tr><td>COVID-19 Antibody Responses in Cystic Fibrosis</td></tr><tr><td>Study of Dehydroepiandrosterone (DHEA) in Respiratory Pulmonary Hypertension in Adults</td></tr><tr><td>1-Octanol to Treat Essential Tremor</td></tr><tr><td>Safety and Efficacy Study of Corneal Collagen Cross-Linking in Eyes With Keratoconus</td></tr><tr><td>Sorafenib and Temsirolimus in Treating Patients With Metastatic, Recurrent, or Unresectable Melanoma</td></tr><tr><td>Functional Remediation for Bipolar Disorder</td></tr><tr><td>Efficacy and Safety of Lubiprostone in Patients With Irritable Bowel Syndrome With Constipation</td></tr><tr><td>Study to Investigate the Safety/Tolerability and Pharmacokinetics/Pharmacodynamics of CKD-519</td></tr><tr><td>Study to Investigate the Safety/Tolerability and Pharmacokinetics/Pharmacodynamics of CKD-519</td></tr><tr><td>Spinal Versus General Anesthesia for Laparoscopic Cholecystectomy</td></tr><tr><td>A New and Innovative Method for CO2 Removal in Anesthetic Circuits: Replacing Chemical Granulate</td></tr><tr><td>Efficacy of Changing to TRAVATAN® From Prior Therapy</td></tr><tr><td>A Study of the Safety and Anesthetic Effect of AG-920 Topical Ophthalmic Solution</td></tr><tr><td>Study of Gabapentin Extended Release (G-ER) in the Treatment of Vasomotor (Hot Flashes/Hot Flushes) Symptoms in Postmenopausal Women</td></tr><tr><td>Effect of Albendazole Dose on Clearance of Filarial Worms</td></tr><tr><td>Gemcitabine Plus Radiation Therapy in Treating Patients With Pancreatic Cancer</td></tr><tr><td>Evaluating the Safety of and Immune Response to an HIV Vaccine in Healthy, HIV-Uninfected Adults in Uganda</td></tr><tr><td>Clinical Evaluation of Two Daily Disposable Silicone Hydrogel Contact Lenses</td></tr><tr><td>Study of Epratuzumab in Systemic Lupus Erythematosus</td></tr><tr><td>Study of Epratuzumab in Systemic Lupus Erythematosus</td></tr><tr><td>Protocol for Postmenopausal Women at Increased Risk of Developing Breast Cancer</td></tr><tr><td>Berodual® Respimat® Solution for Inhalation in Patients With Chronic Obstructive Airways Disease</td></tr><tr><td>Gene Therapy for Chronic Granulomatous Disease</td></tr><tr><td>Dry Needling for Spasticity in Stroke</td></tr><tr><td>Micronized dHACM Injectable for the Treatment of Plantar Fasciitis</td></tr><tr><td>Duloxetine Versus Placebo in Chronic Low Back Pain</td></tr><tr><td>Comparison of Adjuvanted Hepatitis B Vaccine to Double Dose of Engerix™-B in Pre- /Haemodialysis Patients Aged ≥15 Years</td></tr><tr><td>Comparison of Adjuvanted Hepatitis B Vaccine to Double Dose of Engerix™-B in Pre- /Haemodialysis Patients Aged ≥15 Years</td></tr><tr><td>A Study of the Efficacy and Safety of RWJ-333369 as add-on Therapy in the Treatment of Partial Onset Seizures.</td></tr><tr><td>PG2 Treatment for Improving Fatigue Among Advanced Cancer Patients Under Standard Palliative Care</td></tr><tr><td>Drug-Drug Interaction Study in Healthy Adult Volunteers</td></tr><tr><td>Drug-Drug Interaction Study in Healthy Adult Volunteers</td></tr><tr><td>Drug-Drug Interaction Study in Healthy Adult Volunteers</td></tr><tr><td>Study of Compound Edaravone Injection for Treatment of Acute Ischemic Stroke</td></tr><tr><td>Recombinant Factor VIIa in Acute Intracerebral Haemorrhage</td></tr><tr><td>A Double-blind, Randomized Conversion to Monotherapy Study to Evaluate the Efficacy and Safety of Brivaracetam in Subjects (≥ 16 to 75 Years Old) With Partial Onset Seizures</td></tr><tr><td>Vaccine Therapy Plus QS21 in Treating Patients With Progressive Prostate Cancer</td></tr><tr><td>Efficacy and Safety of OBE2109 in Subjects With Heavy Menstrual Bleeding Associated With Uterine Fibroids</td></tr><tr><td>Feasibility of a Minimally Invasive Image-Guided Surgery System for Hepatic Procedures</td></tr><tr><td>Feasibility of a Minimally Invasive Image-Guided Surgery System for Hepatic Procedures</td></tr><tr><td>Evaluating PN 400 (VIMOVO) in Reducing Gastric Ulcers Compared to Non-steroidal Antiinflammatory Drug (NSAID) Naproxen</td></tr><tr><td>NOTES-Assisted Laparoscopic Cholecystectomy Surgery</td></tr><tr><td>Bright Light Therapy for Non-motor Symptoms in Parkinson's Disease</td></tr><tr><td>A Clinical Research of CD22-Targeted CAR-T in B Cell Malignancies</td></tr><tr><td>Neoadjuvant and Adjuvant Tislelizumab for Nasopharyngeal Carcinoma</td></tr><tr><td>Prehabilitation in Pancreatic Surgery</td></tr><tr><td>Vitamin D Supplementation in Children With Sickle Cell Disease</td></tr><tr><td>Non-invasive Melanoma Assessment Using a Topical Fluorescence Reagent and Optical Imaging</td></tr><tr><td>Comparison of the Skin Conductance Values and Patient Pain Scores During Minor Procedures in the ICU</td></tr><tr><td>N-Acetylcysteine and Milk Thistle for Treatment of Diabetic Nephropathy</td></tr><tr><td>Mapracorat Ophthalmic Suspension, 3% for the Treatment of Ocular Inflammation and Pain Following Cataract Surgery</td></tr><tr><td>Mid-term Data Collection of the Treatment of Intracranial Aneurysms With the WEB™ Aneurysm Embolization System</td></tr><tr><td>Vaccine Therapy Plus QS21 in Treating Patients With Prostate Cancer</td></tr><tr><td>Pulpotomy vs Root Canal Treatment for Teeth With Symptomatic Irreversible Pulpitis</td></tr><tr><td>Healthy Term Infants Fed Milk-Based Formulas</td></tr><tr><td>Combination Chemotherapy in Treating Patients With Recurrent or Metastatic Colorectal Cancer</td></tr><tr><td>To Evaluate The Relationship Between Plasma Drug Levels And Receptor Binding In Brain Using PET (Positron Emission Tomography) In Healthy Volunteers</td></tr><tr><td>Microbial Epidemiology and Chlorhexidine Suscebtibily of Oropharyngeal and Intestinal Colonization</td></tr><tr><td>A Clinical Study of MIL62 in Primary Membranous Nephropathy</td></tr><tr><td>Dopamine Receptor Imaging to Predict Response to Stimulant Therapy in Chronic TBI</td></tr><tr><td>Phase 3 Study of Efficacy and Safety of the XaraColl® Bupivacaine Implant After Hernioplasty</td></tr><tr><td>A Study to Evaluate the Efficacy and Safety of Bimekizumab in Adult Subjects With Moderate to Severe Chronic Plaque Psoriasis</td></tr><tr><td>Multi-Center Study of New Medications to Treat Vaginal Infections</td></tr><tr><td>Multi-Center Study of New Medications to Treat Vaginal Infections</td></tr><tr><td>Safety and Efficacy of APD356 in the Treatment of Obesity</td></tr><tr><td>Effect of Liraglutide on Blood Glucose Control in Subjects With Type 2 Diabetes</td></tr><tr><td>Effect of Liraglutide on Blood Glucose Control in Subjects With Type 2 Diabetes</td></tr><tr><td>Effect of Liraglutide on Blood Glucose Control in Subjects With Type 2 Diabetes</td></tr><tr><td>Effect of Liraglutide on Blood Glucose Control in Subjects With Type 2 Diabetes</td></tr><tr><td>Safety and Effectiveness of NXY-059 for the Treatment of Patients Who Have Suffered From a Stroke</td></tr><tr><td>A Study of Ocrelizumab in Participants With Relapsing Remitting Multiple Sclerosis (RRMS) Who Have Had a Suboptimal Response to an Adequate Course of Disease-Modifying Treatment (DMT)</td></tr><tr><td>Maintenance Obinutuzumab in Treating Patients With Central Nervous System Lymphoma Who Have Achieved a Complete or Partial Response</td></tr><tr><td>Treatment of Temporomandibular Dysfunction With Hypertonic Dextrose Injection</td></tr><tr><td>Dental Support and the Second Stage of Labor Among Multiparous Women</td></tr><tr><td>High Dose Sequential Therapy and Autologous Stem Cell Rescue for Multiple Myeloma</td></tr><tr><td>Maternal Probiotic Intervention to Improve Gut Health</td></tr><tr><td>Evaluate Safety and Pharmacokinetics of HLX70 in Healthy Adult Volunteers</td></tr><tr><td>Study to Evaluate Safety/Efficacy of a Single Pre-Op Dose of AYX1 Injection to Treat Pain After Knee Replacement Surgery</td></tr><tr><td>Pexiganan Versus Placebo Control for the Treatment of Mild Infections of Diabetic Foot Ulcers</td></tr><tr><td>Sentinel Node Biopsy in Endometrial Cancer</td></tr><tr><td>A Clinical Trial of an Inactivated Quadrivalent Influenza Vaccine in Chinese Children Aged 3 to 8 Years</td></tr><tr><td>Pain Program for Active Coping & Training</td></tr><tr><td>Planned Semi-Elective Lung Tx Study</td></tr><tr><td>Lung Pharmacokinetics (PK) in Epithelial Lining Fluid (ELF)</td></tr><tr><td>Powered Echelon Device in VATS Surgery</td></tr><tr><td>Efficacy and Safety of Enteric-coated Mycophenolate Sodium (EC-MPS) in de Novo Kidney Transplant Recipients</td></tr><tr><td>A Study of DPP-IV Inhibitor in Patients With Type 2 Diabetes</td></tr><tr><td>Real Life Effectiveness in Patients With Not Optimally Controlled Asthma</td></tr><tr><td>Monoclonal Antibody Therapy in Treating Patients With Advanced Colorectal Cancer</td></tr><tr><td>Endoscopic Ultrasound-Guided Portosystemic Pressure Gradient Measurements</td></tr><tr><td>Efficacy, Safety and Tolerability of Agomelatine in the Treatment of Major Depressive Disorder</td></tr><tr><td>Exposure, Relaxation, & Rescripting Therapy-Child</td></tr><tr><td>Exacerbations and Their Outcomes International (EXACOS International)</td></tr><tr><td>AGN-241751 in the Treatment of Major Depressive Disorder</td></tr><tr><td>A Study to Assess the Safety and Effectiveness of Tacrolimus Cream in the Treatment of Psoriasis</td></tr><tr><td>Infant Chest Compression</td></tr><tr><td>A Study of TRK-950 in Patients With Advanced Solid Tumors</td></tr><tr><td>Relative Bioavailability, Pharmacokinetics, Safety and Tolerability of BIIL 284 BS in Healthy Volunteers</td></tr><tr><td>Cognitive Remediation for Schizophrenia</td></tr><tr><td>Treatment of Pain Associated With Fibromyalgia</td></tr><tr><td>Treatment of Pain Associated With Fibromyalgia</td></tr><tr><td>Crossover Study to Compare the Pharmacokinetics and Bioavailability of a Novel Furosemide Regimen Administered Subcutaneously vs. the Same Dose Administered Intravenously in Subjects With Chronic Heart Failure</td></tr><tr><td>Effects of Red Light LED Therapy on Body Contouring</td></tr><tr><td>Personal Decision Support System for Heart Failure Management</td></tr><tr><td>Clinical Reminders in Test Reports to Improve Guideline Compliance</td></tr><tr><td>The HIV Functional Cure Potential of UB-421 in ART Stabilized HIV-1 Patients</td></tr><tr><td>Study of 18F-DCFPyL PET/CT Imaging in Patients With Prostate Cancer</td></tr><tr><td>Interleukin-2 in Treating Patients With Metastatic Kidney Cancer</td></tr><tr><td>Protein Supplementation in Dialysis Patients</td></tr><tr><td>Risk Stratification of Patients With Suspected COVID-19 Presenting to the ED</td></tr><tr><td>Efficacy and Safety of DaxibotulinumtoxinA for Injection to Treat Moderate to Severe Glabellar Lines</td></tr><tr><td>Deep Brain Stimulation for Treatment Resistant Depression</td></tr><tr><td>Deep Brain Stimulation for Treatment Resistant Depression</td></tr><tr><td>ONO-4538 Phase I Study in Patients With Solid Tumor</td></tr><tr><td>Combination Chemotherapy in Treating Patients With Bladder Cancer</td></tr><tr><td>A Study of Minirin Melt in Patients With Nocturia</td></tr><tr><td>Study of the Efficacy, Safety and Tolerability of Serlopitant for the Treatment of Pruritus (Itch) With Prurigo Nodularis</td></tr><tr><td>Surveillance For New Lung Primaries</td></tr><tr><td>MyndMove Therapy for Severe Hemiparesis of the Upper Limb Following Stroke</td></tr><tr><td>Study Assessing Vagus Nerve Stimulation in CoViD-19 Respiratory Symptoms</td></tr><tr><td>Combination Chemotherapy in Treating Patients With Stage IIIB or Stage IV Non-small Cell Lung Cancer</td></tr><tr><td>Neuromuscular Intervention Targeted to Mechanisms of ACL Load in Female Athletes</td></tr><tr><td>Efficacy, Safety and Tolerability of a Novel Malathion Formulation in Patients 2 Years and Older With Head Lice</td></tr><tr><td>Study of Adoptive Immunotherapy in Relapsed and Non-resectable Sarcomas After Multimodal Treatment.</td></tr><tr><td>Intranasal Oxytocin and Learning in Autism</td></tr><tr><td>Combination Chemotherapy in Treating Patients With Multiple Myeloma</td></tr><tr><td>A Relative Bioavailability and Food-Effect Study of GSK3640254 Tablet and Capsule Formulations in Healthy Participants</td></tr><tr><td>Nicotinic Receptors and Schizophrenia</td></tr><tr><td>Nicotinic Receptors and Schizophrenia</td></tr><tr><td>The Effect of Music Therapy on Pain and Anxiety</td></tr><tr><td>Magnesium and Vascular Stiffness</td></tr><tr><td>The Effect of Time-Restricted Eating in Cardiometabolic Health</td></tr><tr><td>Dynamic Connectivity Under Metabolic Constraints</td></tr><tr><td>A Study of the Efficacy and Safety of DFD-06 Cream in the Treatment of Moderate to Severe Plaque Psoriasis</td></tr><tr><td>Artificial Intelligence and Bowel Cleansing Quality</td></tr><tr><td>Efficacy and Safety of Poly-L-lactic Acid</td></tr><tr><td>Phase 3 Papulopustular Rosacea Study</td></tr><tr><td>Controlled Study of ONO-5920 in Patients With Involutional Osteoporosis in Japan</td></tr><tr><td>Controlled Study of ONO-5920 in Patients With Involutional Osteoporosis in Japan</td></tr><tr><td>Nexium Dyspepsia/AST</td></tr><tr><td>Vaccine Therapy in Treating Patients With Metastatic Prostate Cancer That Has Not Responded to Hormone Therapy</td></tr><tr><td>Study of Efficacy and Safety of QAW039 in Patients With Severe Asthma Inadequately Controlled With Standard of Care Asthma Treatment.</td></tr><tr><td>Effects of Pregnancy and Childbirth on Pelvic Floor Morphology and Sexual Function in Egyptian Women</td></tr><tr><td>Efficacy and Safety Study of Prucalopride for the Treatment of Chronic Constipation</td></tr><tr><td>Efficacy and Safety Study of Prucalopride for the Treatment of Chronic Constipation</td></tr><tr><td>Study of Efficacy, Safety and Tolerability of Levodopa-Carbidopa Intestinal Gel in Levodopa-Responsive Parkinson's Subjects</td></tr><tr><td>Evaluation of the Intubating Laryngeal Airway in Children</td></tr><tr><td>Evaluation of the Intubating Laryngeal Airway in Children</td></tr><tr><td>A Study to Evaluate the Efficacy and Safety of Bimekizumab in Study Participants With Moderate to Severe Hidradenitis Suppurativa</td></tr><tr><td>Safety and Effectiveness Study of the AcuFocus Corneal Inlay ACI 7000PDT in Presbyopes</td></tr><tr><td>Non-invasive Diagnostics of Pulmonary Hypertension With Dual Energy Computed Tomography</td></tr><tr><td>A Study of Tenecteplase for Restoration of Function in Dysfunctional Central Venous Catheters</td></tr><tr><td>Suprachoroidal Injection of Triamcinolone Acetonide With IVT Aflibercept in Subjects With Macular Edema Following RVO</td></tr><tr><td>Doripenem in the Treatment of Complicated Intra-Abdominal Infections</td></tr><tr><td>Immunogenicity and Safety of a Combined Vaccine to Prevent Measles, Mumps, Rubella and Chickenpox Diseases</td></tr><tr><td>Afatinib in NSCLC With HER2 Mutation</td></tr><tr><td>Evaluation of All'InCath in Peripheral Vasculature Percutaneous Transluminal Angioplasty.</td></tr><tr><td>Efficacy and Safety of Valsartan/Hydrochlorothiazide Combination Therapy in Patients With Hypertension</td></tr><tr><td>A Phase 3 Study to Evaluate the Efficacy and Safety of Tralokinumab in Adults and Adolescents With Uncontrolled Asthma</td></tr><tr><td>A Study of ARQ 197 in Combination With Erlotinib</td></tr><tr><td>Behaviour and Cognitive Evaluation for Dialysis Elderly Patients (BCDE)</td></tr><tr><td>Rifaximin 3 Times/Day (TID) for Non-Constipation Irritable Bowel Syndrome (IBS)</td></tr><tr><td>Team Approach to Polypharmacy Evaluation and Reduction</td></tr><tr><td>Gardasil Immunogenicity With Needle-Free Injection</td></tr><tr><td>A Study of Allogeneic Human UC-MSC and Liberation Therapy (When Associated With CCSVI) in Patients With RRMS</td></tr><tr><td>Efficacy and Safety of the Mometasone Nasal Gel in the Treatment of Persistent Allergic Rhinitis</td></tr><tr><td>Epithelium-On Corneal Cross-linking in Subjects 8 to 45 Years of Age With Keratoconus</td></tr><tr><td>Amblyopia and Strabismus Detection Using a Pediatric Vision Scanner</td></tr><tr><td>Amblyopia and Strabismus Detection Using a Pediatric Vision Scanner</td></tr><tr><td>Cross-over Comparison of the V60 System to Other Bi-Level Noninvasive Ventilators</td></tr><tr><td>An Efficacy and Safety Study of Golimumab (CNTO 148) in Participants With Moderately to Severely Active Ulcerative Colitis</td></tr><tr><td>TNF-Alpha Inhibition for Treatment of Alzheimer's Disease</td></tr><tr><td>Contraceptive Awareness and Reproductive Education</td></tr><tr><td>Safety and Effectiveness of Visipaque 320mg-I/ml for Use in Contrast-Enhanced CT Angiography of Arteries of the Heart</td></tr><tr><td>Zenith® Low Profile AAA Endovascular Graft</td></tr><tr><td>Biological Therapy in Treating Patients With Metastatic Cancer</td></tr><tr><td>Safety and Efficacy Study to Treat Recurrent Grade 4 Malignant Brain Tumors</td></tr><tr><td>Photodynamic Therapy in Treating Patients With Skin Cancer</td></tr><tr><td>Laser and Medical Treatment of Diabetic Macular Edema</td></tr><tr><td>Exercise and Weight Control</td></tr><tr><td>CSC OnDemand: An Innovative Online Learning Platform for Implementing Coordinated Specialty Care</td></tr><tr><td>Vaccine Therapy in Treating Patients With Metastatic Melanoma</td></tr><tr><td>Vaccine Therapy in Treating Patients With Metastatic Melanoma</td></tr><tr><td>Vaccine Therapy in Treating Patients With Metastatic Melanoma</td></tr><tr><td>Vaccine Therapy in Treating Patients With Metastatic Melanoma</td></tr><tr><td>Vaccine Therapy in Treating Patients With Metastatic Melanoma</td></tr><tr><td>Vaccine Therapy in Treating Patients With Metastatic Melanoma</td></tr><tr><td>Vaccine Therapy in Treating Patients With Metastatic Melanoma</td></tr><tr><td>Vaccine Therapy in Treating Patients With Metastatic Melanoma</td></tr><tr><td>Vaccine Therapy in Treating Patients With Metastatic Solid Tumors</td></tr><tr><td>Physiologic Monitoring of Antidepressant Treatment Response</td></tr><tr><td>Accelerated Treatment of Endocarditis</td></tr><tr><td>Delirium Assessment in the Pediatric Intensive Care Unit</td></tr><tr><td>Deep Brain Stimulation in Treatment Resistant Schizophrenia</td></tr><tr><td>Safety and Efficacy Study of Dexmethylphenidate in Children With ADHD</td></tr><tr><td>Hypofractionated Radiotherapy for Prostate Cancer</td></tr><tr><td>Selenium in the Prevention of Cancer</td></tr><tr><td>A Study of AK112, a PD-1/VEGF Bispecific Antibody, for Advanced Solid Tumors</td></tr><tr><td>Treatment of Panic Disorder Via Internet With a Wireless Temperature Biofeedback Ring</td></tr><tr><td>Combination Chemotherapy in Treating Children With Acute Lymphoblastic Leukemia</td></tr><tr><td>Misoprostol Prior to Intrauterine Device (IUD) Insertion in Nulliparous Women</td></tr><tr><td>Misoprostol Prior to Intrauterine Device (IUD) Insertion in Nulliparous Women</td></tr><tr><td>A Phase I Study to Evaluate Safety, Tolerability and Pharmacokinetics of ONO-4053 in Healthy Volunteers</td></tr><tr><td>Bifeprunox in the Treatment of Schizophrenia</td></tr><tr><td>A Safety Study of ARRY-403 in Patients With Type 2 Diabetes</td></tr><tr><td>A Clinical Trial to Compare Safety and Pharmacokinetic Characteristics of CKD-337</td></tr><tr><td>Chemotherapy in Treating Patients With Advanced Solid Tumors</td></tr><tr><td>Chemotherapy in Treating Patients With Advanced Solid Tumors</td></tr><tr><td>Chemotherapy in Treating Patients With Advanced Solid Tumors</td></tr><tr><td>The Effects of Virtual Reality Based Exercises in Patients With Adhesive Capsulitis</td></tr><tr><td>Is Nasogastric Tube Necessary After Pancreaticoduodenectomy?</td></tr><tr><td>Balance in Children With Cochlear Implants</td></tr><tr><td>Recombinant Human Angiotensin-converting Enzyme 2 (rhACE2) as a Treatment for Patients With COVID-19</td></tr><tr><td>Study Evaluating the Safety and Efficacy of JWCAR029 in Adult Subjects With Relapsed and Refractory B-cell Non-Hodgkin Lymphoma</td></tr><tr><td>A Controlled Clinical Study to Determine the Gingivitis Benefit of Flossing</td></tr><tr><td>Newborn Screening for Spinal Muscular Atrophy</td></tr><tr><td>Controlled Study of MK-0431/ONO-5435 in Patients With Type 2 Diabetes Mellitus</td></tr><tr><td>Controlled Study of MK-0431/ONO-5435 in Patients With Type 2 Diabetes Mellitus</td></tr><tr><td>Testing Pediatric Rheumatology Diagnostic Decision Support in Clinical Use</td></tr><tr><td>A Study to Compare the Efficacy and Safety of Topical Administration of FMX-101 for Treatment of Moderate-to-Severe Acne</td></tr><tr><td>The Influence of Collective Schemas on Individual Memory</td></tr><tr><td>The Impact of 8 Weeks of a Digital Meditation Application on Work Stress</td></tr><tr><td>Efficacy of Exclusive Enteral Nutrition in Adult Active Crohn's Disease</td></tr><tr><td>Treatment of Adults With Growth Hormone Deficiency</td></tr><tr><td>Alvocidib, Cytarabine, and Mitoxantrone in Treating Patients With Newly Diagnosed Acute Myeloid Leukemia</td></tr><tr><td>Lapatinib in Combination With Vinorelbine</td></tr><tr><td>A Study of Glaucoma Therapy to Treat Open-Angle Glaucoma or Ocular Hypertension</td></tr><tr><td>A Study of Glaucoma Therapy to Treat Open-Angle Glaucoma or Ocular Hypertension</td></tr><tr><td>A Study of Glaucoma Therapy to Treat Open-Angle Glaucoma or Ocular Hypertension</td></tr><tr><td>A Study of Glaucoma Therapy to Treat Open-Angle Glaucoma or Ocular Hypertension</td></tr><tr><td>A Study to Assess the Efficacy and Safety of TC-5214 as an Adjunct Therapy in Patients With Major Depressive Disorder</td></tr><tr><td>Evaluation of Implants Placed Immediately or Delayed Into Extraction Sites</td></tr><tr><td>Combination Chemotherapy in Treating Patients With Locally Advanced or Metastatic Solid Tumors</td></tr><tr><td>Combination Chemotherapy in Treating Patients With Locally Advanced or Metastatic Solid Tumors</td></tr><tr><td>Ilaprazole for the Treatment of Gastroesophageal Reflux Disease (GERD) in Chinese Patients</td></tr><tr><td>Safety and Efficacy of KPI-121 in Subjects With Dry Eye Disease</td></tr><tr><td>A Study of Adjunctive Aripiprazole in Patients With Major Depressive Disorder</td></tr><tr><td>Study of BCMA CAR-T in Multiple Myeloma</td></tr><tr><td>Predictors of Postoperative Pain</td></tr><tr><td>Cisplatin, Paclitaxel, and Everolimus in Treating Patients With Metastatic Breast Cancer</td></tr><tr><td>Autoimmune Basis for Postural Tachycardia Syndrome</td></tr><tr><td>A Clinical Study to Evaluate the Efficacy and Safety of CKD-351</td></tr><tr><td>Ketoprofen 10% Cream for Treatment of Pain Associated With Mild to Moderate Acute Soft Tissue Injury</td></tr><tr><td>Efficacy and Safety Study of OPC-1085EL Ophthalmic Solution in Subjects With Glaucoma or Ocular Hypertension</td></tr><tr><td>Tisotumab Vedotin (HuMax®-TF-ADC) Safety Study in Patients With Solid Tumors</td></tr><tr><td>Liposomal Bupivacaine in Total Knee Arthroplasty</td></tr><tr><td>Chemotherapy, Radiation Therapy, and Umbilical Cord Blood Transplantation in Treating Patients With Hematologic Cancer</td></tr><tr><td>FR901228 in Treating Patients With Relapsed or Refractory Non-Hodgkin's Lymphoma</td></tr><tr><td>A Study of the Effectiveness and Safety of Risperidone in the Treatment of Behavioral Disturbances in Patients With Dementia</td></tr><tr><td>Types of Starch and Their Effect on Blood Glucose, Appetite and Food Intake</td></tr><tr><td>Chronic Total Occlusion Registry</td></tr><tr><td>Magnetic Resonance Imaging to Detect Brain Damage in Patients With Multiple Sclerosis</td></tr><tr><td>Magnetic Resonance Imaging to Detect Brain Damage in Patients With Multiple Sclerosis</td></tr><tr><td>Safety Study of Pegylated Interferon Lambda Plus Single or 2 Direct Antiviral Agents With Ribavirin</td></tr><tr><td>Light Therapy in Parkinson's Disease</td></tr><tr><td>Glycemic Response Testing</td></tr><tr><td>Safety and Efficacy Study of Nitazoxanide in the Treatment of Acute Uncomplicated Influenza</td></tr><tr><td>Adipocytokines in Endometrial Cancer</td></tr><tr><td>A Clinical Effectiveness Study Examining the Efficacy and Safety of ONS-5010 in Subjects With Neovascular Age-related Macular Degeneration (AMD)</td></tr><tr><td>Intraoperative Radiation Therapy for Resectable Pancreatic Cancer</td></tr><tr><td>Development and Validation of a Symptom Scale for Children With Chronic Graft-versus-Host Disease</td></tr><tr><td>Human Heterologous Liver Cells for Infusion in Children With Urea Cycle Disorders</td></tr><tr><td>Exercise to Boost Response to Checkpoint Blockade Immunotherapy</td></tr><tr><td>Amyloid Accumulation After Mild Traumatic Brain Injury</td></tr><tr><td>Safety & Efficacy of Peginesatide for Maintenance Treatment of Anemia in Participants With Chronic Kidney Disease on Hemodialysis</td></tr><tr><td>Exploring Massage Benefits for Arthritis of the Knee</td></tr><tr><td>Safety and Efficacy Trial With Zoledronic Acid for the Treatment of Paget's Disease of Bone, Including an Extended Observation Period</td></tr><tr><td>Efficacy and Safety of Intravenous Fosfomycin in Prosthetic Joint Infection</td></tr><tr><td>Study of Transdermal Testosterone Patches in Surgically Menopausal Women With Low Libido</td></tr><tr><td>Bariatric Endoscopy and NAFLD</td></tr><tr><td>Combination Chemotherapy Followed by Peripheral Stem Cell Transplantation in Treating Patients With Chronic Myelogenous Leukemia</td></tr><tr><td>A Home-based Intervention to Promote Mindful Breathing Awareness Through Pursed-lip Breathing Training for COPD Patients</td></tr><tr><td>Probiotics in the Treatment of Irritable Bowel Syndrome</td></tr><tr><td>Probiotics in the Treatment of Irritable Bowel Syndrome</td></tr><tr><td>Evaluation of the Influence of Output on Skin Covered by Adhesives</td></tr><tr><td>Safety and Efficacy of Natalizumab in the Treatment of Crohn's Disease</td></tr><tr><td>Pharmacokinetic, Bioavailability, and Safety Study of COV155 Administered in Healthy Subjects Under Fed and Fasted Conditions</td></tr><tr><td>68Ga-PSMA PET/CT in Prostate Cancer</td></tr><tr><td>Efficacy of Seroquel SR in Combination With an Antidepressant in Treatment of Major Depressive Disorder</td></tr><tr><td>Lenalidomide in Treating Patients With Advanced or Unresectable Kidney Cancer</td></tr><tr><td>Comparison of Continuous Sternal ECG Patch Monitors (Carnation and Zio) Trial</td></tr><tr><td>A Retrospective, Observational Study on the Response to Caplacizumab Treatment in aTTP Patients: the Italian Experience (ROSCAPLI)</td></tr><tr><td>Comparison of NN1250 Versus Insulin Glargine in Subjects With Type 2 Diabetes</td></tr><tr><td>Efficacy and Safety Study of Binodenoson in Assessing Cardiac Ischemia</td></tr><tr><td>Text Messaging for Weight Loss</td></tr><tr><td>A Clinical Study of [177Lu]Lu-XT117 Injection in Patients With Advanced Solid Tumors</td></tr><tr><td>A Bioequivalence Study Between Fluticasone Propionate 250 mcg and Salmeterol Xinafoate 50 mcg Inhalation Powder/Respirent Pharmaceuticals vs. ADVAIR DISKUS® 250/50 Inhalation Powder/GSK in Healthy Volunteers</td></tr><tr><td>Study With a Topical Gel to Treat Common Warts in Adults</td></tr><tr><td>Heterogeneously Hypofractionated Radiotherapy for Locally Advanced NSCLC</td></tr><tr><td>Acupuncture for Chemotherapy-induced Peripheral Neuropathy</td></tr><tr><td>Fibroblast Growth Factor Regeneration of Tympanic Membrane Perforations</td></tr><tr><td>Focused Ultrasound for the Treatment of Pancreatic Cancer - an International Registry</td></tr><tr><td>A Comparison Between the Intubating Laryngeal Tube Suction and the Ambu AuraGain</td></tr><tr><td>Ability to Cope With Type 1 Diabetes</td></tr><tr><td>Safety and Efficacy Study of Iodine-131 Anti-B1 Antibody Plus CHOP For Untreated Mantle Cell Lymphoma</td></tr><tr><td>Leptin to Treat Lipodystrophy</td></tr><tr><td>Epoetin Alfa in Treating Patients With Anemia Who Are Undergoing Chemotherapy for Cancer</td></tr><tr><td>Use of Hand Prosthesis With Direct Nerve Stimulation for Treatment of Phantom Limb Pain</td></tr><tr><td>Two Approaches to Routine HIV Testing in a Hospital Emergency Department</td></tr><tr><td>A Study of Recombinant Human Erythropoietin in Anemic Cancer Patients Undergoing Chemotherapy</td></tr><tr><td>Novel Biophotonics Methodology for Colon Cancer Screening</td></tr><tr><td>Safety and Biologic Activity Study of Gevokizumab to Treat Erosive Osteoarthritis of the Hand</td></tr><tr><td>A Phase 1 Study of ARQ 197 in Adult Patients With Advanced Solid Tumors</td></tr><tr><td>The Efficacy of Tamsulosin in the Treatment of Ureteral Stones in Emergency Department Patients</td></tr><tr><td>An Efficacy and Safety Study of Gevokizumab in Treating Active Ulcers of Pyoderma Gangrenosum</td></tr><tr><td>The Community United to Challenge Asthma</td></tr><tr><td>Bioequivalence Study of Torrent Pharmaceutical Limited's Venlafaxine Hydrochloride ER Capsules Under Fed Conditions</td></tr><tr><td>Immunity After COVID-19 Vaccination</td></tr><tr><td>Surgical Treatment in Diabetic Patients With Grade 1 Obesity</td></tr><tr><td>Quantifying Systemic Immunosuppression to Personalize Cancer Therapy</td></tr><tr><td>Study of the Efficacy and Safety of Lonidamine for the Treatment of Symptomatic Benign Prostatic Hyperplasia</td></tr><tr><td>Safety and Efficacy of Anti-GPRC5D CAR-T Cells Therapy in the Treatment of r/r MM</td></tr><tr><td>A Study to Evaluate the Efficacy and Safety of Galantamine in Patients With Mild Cognitive Impairment</td></tr><tr><td>Vaccine Therapy in Treating Patients With Stage IIIB, Stage IV, or Recurrent Non-Small Cell Lung Cancer</td></tr><tr><td>Real World Evidence of the Effectiveness of Paritaprevir/r - Ombitasvir, ± Dasabuvir, ± Ribavirin and Patient Support Program in Patients With Chronic Hepatitis C</td></tr><tr><td>A Trial of Dexmedetomidine Hydrochloride Nasal Spray in Preoperative Sedation of Children</td></tr><tr><td>Monoclonal Antibody Therapy in Treating Patients With Prostate Cancer</td></tr><tr><td>Monoclonal Antibody Therapy in Treating Patients With Prostate Cancer</td></tr><tr><td>Nebulized Hypertonic Saline for Bronchiolitis</td></tr><tr><td>Treating Chronic Pain in Buprenorphine Patients in Primary Care Settings</td></tr><tr><td>Measurement of Forces Applied Using a Macintosh Direct Laryngoscope Compared to GlideScope Video Laryngoscope</td></tr><tr><td>Masitinib in Patients With Mild to Moderate Alzheimer's Disease</td></tr><tr><td>Multicenter Study to Evaluate the Analgesic Efficacy of XP21L in Subjects With Pain Following Bunionectomy Surgery</td></tr><tr><td>Safety and Efficacy of Gaseous Nitric Oxide on Venous Stasis Leg Ulcers</td></tr><tr><td>The Optimizing Treatment of PegIFN Alfa in HBeAg-negative CHB Patients With Low Level HBsAg</td></tr><tr><td>Promoting Breast Cancer Screening in Women Who Survived Childhood Cancer</td></tr><tr><td>Stereotactic Radiation Therapy in Treating Patients With Brain Metastases</td></tr><tr><td>Intermittent Pneumatic Compression for Treating Lower Limb Lymphoedema</td></tr><tr><td>Heart Rate Variability and Stress Management Enhancement</td></tr><tr><td>SU5416 in Treating Patients With AIDS-Related Kaposi's Sarcoma</td></tr><tr><td>Dental Support Device During Breastfeeding as a Mean for Pain Control</td></tr><tr><td>Vaccine Therapy in Treating Patients With Stage IIB, Stage IIC, Stage III, or Stage IV Melanoma</td></tr><tr><td>Intratumoral CAN1012(Selective TLR7 Agonist) in Subjects With Solid Tumors</td></tr><tr><td>Single Incision Versus Conventional Laparoscopic Appendectomy</td></tr><tr><td>Pegylated Somatropin (PEG Somatropin) in the Treatment of Children With Growth Hormone Deficiency</td></tr><tr><td>Safety and Efficacy Study of Botulinum Toxin Type A for the Treatment of Neurogenic Overactive Bladder</td></tr><tr><td>Safety and Efficacy Study of Botulinum Toxin Type A for the Treatment of Neurogenic Overactive Bladder</td></tr><tr><td>Safety and Efficacy Study of Botulinum Toxin Type A for the Treatment of Neurogenic Overactive Bladder</td></tr><tr><td>Hydroxychloroquine (HCQ) for Recurrent Pregnancy Loss</td></tr><tr><td>A Clinical Trial to Evaluate Effect of IAP0971 in Patients With Advanced Malignant Tumors</td></tr><tr><td>Elastography in Thyroid Nodules</td></tr><tr><td>PGL4001 Efficacy Assessment in Reduction of Symptoms Due to Uterine Leiomyomata</td></tr><tr><td>PGL4001 Efficacy Assessment in Reduction of Symptoms Due to Uterine Leiomyomata</td></tr><tr><td>Octreotide Acetate in Microspheres in Patients With Diabetic Retinopathy</td></tr><tr><td>Multi-modal Neuroimaging in Alzheimer's Disease</td></tr><tr><td>Effect of Diacerein in the Metabolic Control of Patients With DM Type 2 and Secondary Failure to Metformin</td></tr><tr><td>Pattern Recognition Prosthetic Control</td></tr><tr><td>[Trial of device that is not approved or cleared by the U.S. FDA]</td></tr><tr><td>[Trial of device that is not approved or cleared by the U.S. FDA]</td></tr><tr><td>[Trial of device that is not approved or cleared by the U.S. FDA]</td></tr><tr><td>[Trial of device that is not approved or cleared by the U.S. FDA]</td></tr><tr><td>[Trial of device that is not approved or cleared by the U.S. FDA]</td></tr><tr><td>[Trial of device that is not approved or cleared by the U.S. FDA]</td></tr><tr><td>[Trial of device that is not approved or cleared by the U.S. FDA]</td></tr><tr><td>[Trial of device that is not approved or cleared by the U.S. FDA]</td></tr><tr><td>[Trial of device that is not approved or cleared by the U.S. FDA]</td></tr><tr><td>[Trial of device that is not approved or cleared by the U.S. FDA]</td></tr><tr><td>[Trial of device that is not approved or cleared by the U.S. FDA]</td></tr><tr><td>[Trial of device that is not approved or cleared by the U.S. FDA]</td></tr><tr><td>[Trial of device that is not approved or cleared by the U.S. FDA]</td></tr><tr><td>[Trial of device that is not approved or cleared by the U.S. FDA]</td></tr><tr><td>[Trial of device that is not approved or cleared by the U.S. FDA]</td></tr><tr><td>[Trial of device that is not approved or cleared by the U.S. FDA]</td></tr><tr><td>[Trial of device that is not approved or cleared by the U.S. FDA]</td></tr><tr><td>[Trial of device that is not approved or cleared by the U.S. FDA]</td></tr><tr><td>[Trial of device that is not approved or cleared by the U.S. FDA]</td></tr><tr><td>[Trial of device that is not approved or cleared by the U.S. FDA]</td></tr><tr><td>[Trial of device that is not approved or cleared by the U.S. FDA]</td></tr><tr><td>[Trial of device that is not approved or cleared by the U.S. FDA]</td></tr><tr><td>[Trial of device that is not approved or cleared by the U.S. FDA]</td></tr><tr><td>[Trial of device that is not approved or cleared by the U.S. FDA]</td></tr><tr><td>[Trial of device that is not approved or cleared by the U.S. FDA]</td></tr><tr><td>[Trial of device that is not approved or cleared by the U.S. FDA]</td></tr><tr><td>[Trial of device that is not approved or cleared by the U.S. FDA]</td></tr><tr><td>[Trial of device that is not approved or cleared by the U.S. FDA]</td></tr><tr><td>[Trial of device that is not approved or cleared by the U.S. FDA]</td></tr><tr><td>[Trial of device that is not approved or cleared by the U.S. FDA]</td></tr><tr><td>[Trial of device that is not approved or cleared by the U.S. FDA]</td></tr><tr><td>[Trial of device that is not approved or cleared by the U.S. FDA]</td></tr><tr><td>[Trial of device that is not approved or cleared by the U.S. FDA]</td></tr><tr><td>[Trial of device that is not approved or cleared by the U.S. FDA]</td></tr><tr><td>[Trial of device that is not approved or cleared by the U.S. FDA]</td></tr><tr><td>[Trial of device that is not approved or cleared by the U.S. FDA]</td></tr><tr><td>[Trial of device that is not approved or cleared by the U.S. FDA]</td></tr><tr><td>[Trial of device that is not approved or cleared by the U.S. FDA]</td></tr><tr><td>[Trial of device that is not approved or cleared by the U.S. FDA]</td></tr><tr><td>[Trial of device that is not approved or cleared by the U.S. FDA]</td></tr><tr><td>[Trial of device that is not approved or cleared by the U.S. FDA]</td></tr><tr><td>[Trial of device that is not approved or cleared by the U.S. FDA]</td></tr><tr><td>[Trial of device that is not approved or cleared by the U.S. FDA]</td></tr><tr><td>[Trial of device that is not approved or cleared by the U.S. FDA]</td></tr><tr><td>[Trial of device that is not approved or cleared by the U.S. FDA]</td></tr><tr><td>[Trial of device that is not approved or cleared by the U.S. FDA]</td></tr><tr><td>[Trial of device that is not approved or cleared by the U.S. FDA]</td></tr><tr><td>[Trial of device that is not approved or cleared by the U.S. FDA]</td></tr><tr><td>[Trial of device that is not approved or cleared by the U.S. FDA]</td></tr><tr><td>[Trial of device that is not approved or cleared by the U.S. FDA]</td></tr><tr><td>[Trial of device that is not approved or cleared by the U.S. FDA]</td></tr><tr><td>[Trial of device that is not approved or cleared by the U.S. FDA]</td></tr><tr><td>[Trial of device that is not approved or cleared by the U.S. FDA]</td></tr><tr><td>[Trial of device that is not approved or cleared by the U.S. FDA]</td></tr><tr><td>[Trial of device that is not approved or cleared by the U.S. FDA]</td></tr><tr><td>[Trial of device that is not approved or cleared by the U.S. FDA]</td></tr><tr><td>[Trial of device that is not approved or cleared by the U.S. FDA]</td></tr><tr><td>[Trial of device that is not approved or cleared by the U.S. FDA]</td></tr><tr><td>[Trial of device that is not approved or cleared by the U.S. FDA]</td></tr><tr><td>[Trial of device that is not approved or cleared by the U.S. FDA]</td></tr><tr><td>[Trial of device that is not approved or cleared by the U.S. FDA]</td></tr><tr><td>[Trial of device that is not approved or cleared by the U.S. FDA]</td></tr><tr><td>[Trial of device that is not approved or cleared by the U.S. FDA]</td></tr><tr><td>[Trial of device that is not approved or cleared by the U.S. FDA]</td></tr><tr><td>[Trial of device that is not approved or cleared by the U.S. FDA]</td></tr><tr><td>[Trial of device that is not approved or cleared by the U.S. FDA]</td></tr><tr><td>[Trial of device that is not approved or cleared by the U.S. FDA]</td></tr><tr><td>[Trial of device that is not approved or cleared by the U.S. FDA]</td></tr><tr><td>[Trial of device that is not approved or cleared by the U.S. FDA]</td></tr><tr><td>[Trial of device that is not approved or cleared by the U.S. FDA]</td></tr><tr><td>[Trial of device that is not approved or cleared by the U.S. FDA]</td></tr><tr><td>[Trial of device that is not approved or cleared by the U.S. FDA]</td></tr><tr><td>[Trial of device that is not approved or cleared by the U.S. FDA]</td></tr><tr><td>[Trial of device that is not approved or cleared by the U.S. FDA]</td></tr><tr><td>[Trial of device that is not approved or cleared by the U.S. FDA]</td></tr><tr><td>[Trial of device that is not approved or cleared by the U.S. FDA]</td></tr><tr><td>[Trial of device that is not approved or cleared by the U.S. FDA]</td></tr><tr><td>[Trial of device that is not approved or cleared by the U.S. FDA]</td></tr><tr><td>[Trial of device that is not approved or cleared by the U.S. FDA]</td></tr><tr><td>[Trial of device that is not approved or cleared by the U.S. FDA]</td></tr><tr><td>[Trial of device that is not approved or cleared by the U.S. FDA]</td></tr><tr><td>[Trial of device that is not approved or cleared by the U.S. FDA]</td></tr><tr><td>[Trial of device that is not approved or cleared by the U.S. FDA]</td></tr><tr><td>[Trial of device that is not approved or cleared by the U.S. FDA]</td></tr><tr><td>[Trial of device that is not approved or cleared by the U.S. FDA]</td></tr><tr><td>[Trial of device that is not approved or cleared by the U.S. FDA]</td></tr><tr><td>[Trial of device that is not approved or cleared by the U.S. FDA]</td></tr><tr><td>[Trial of device that is not approved or cleared by the U.S. FDA]</td></tr><tr><td>[Trial of device that is not approved or cleared by the U.S. FDA]</td></tr><tr><td>[Trial of device that is not approved or cleared by the U.S. FDA]</td></tr><tr><td>[Trial of device that is not approved or cleared by the U.S. FDA]</td></tr><tr><td>[Trial of device that is not approved or cleared by the U.S. FDA]</td></tr><tr><td>[Trial of device that is not approved or cleared by the U.S. FDA]</td></tr><tr><td>[Trial of device that is not approved or cleared by the U.S. FDA]</td></tr><tr><td>[Trial of device that is not approved or cleared by the U.S. FDA]</td></tr><tr><td>[Trial of device that is not approved or cleared by the U.S. FDA]</td></tr><tr><td>[Trial of device that is not approved or cleared by the U.S. FDA]</td></tr><tr><td>[Trial of device that is not approved or cleared by the U.S. FDA]</td></tr><tr><td>[Trial of device that is not approved or cleared by the U.S. FDA]</td></tr><tr><td>[Trial of device that is not approved or cleared by the U.S. FDA]</td></tr><tr><td>[Trial of device that is not approved or cleared by the U.S. FDA]</td></tr><tr><td>[Trial of device that is not approved or cleared by the U.S. FDA]</td></tr><tr><td>[Trial of device that is not approved or cleared by the U.S. FDA]</td></tr><tr><td>[Trial of device that is not approved or cleared by the U.S. FDA]</td></tr><tr><td>[Trial of device that is not approved or cleared by the U.S. FDA]</td></tr><tr><td>[Trial of device that is not approved or cleared by the U.S. FDA]</td></tr><tr><td>[Trial of device that is not approved or cleared by the U.S. FDA]</td></tr><tr><td>[Trial of device that is not approved or cleared by the U.S. FDA]</td></tr><tr><td>[Trial of device that is not approved or cleared by the U.S. FDA]</td></tr><tr><td>[Trial of device that is not approved or cleared by the U.S. FDA]</td></tr><tr><td>[Trial of device that is not approved or cleared by the U.S. FDA]</td></tr><tr><td>[Trial of device that is not approved or cleared by the U.S. FDA]</td></tr><tr><td>[Trial of device that is not approved or cleared by the U.S. FDA]</td></tr><tr><td>[Trial of device that is not approved or cleared by the U.S. FDA]</td></tr><tr><td>[Trial of device that is not approved or cleared by the U.S. FDA]</td></tr><tr><td>[Trial of device that is not approved or cleared by the U.S. FDA]</td></tr><tr><td>[Trial of device that is not approved or cleared by the U.S. FDA]</td></tr><tr><td>[Trial of device that is not approved or cleared by the U.S. FDA]</td></tr><tr><td>[Trial of device that is not approved or cleared by the U.S. FDA]</td></tr><tr><td>[Trial of device that is not approved or cleared by the U.S. FDA]</td></tr><tr><td>[Trial of device that is not approved or cleared by the U.S. FDA]</td></tr><tr><td>[Trial of device that is not approved or cleared by the U.S. FDA]</td></tr><tr><td>[Trial of device that is not approved or cleared by the U.S. FDA]</td></tr><tr><td>[Trial of device that is not approved or cleared by the U.S. FDA]</td></tr><tr><td>[Trial of device that is not approved or cleared by the U.S. FDA]</td></tr><tr><td>[Trial of device that is not approved or cleared by the U.S. FDA]</td></tr><tr><td>[Trial of device that is not approved or cleared by the U.S. FDA]</td></tr><tr><td>[Trial of device that is not approved or cleared by the U.S. FDA]</td></tr><tr><td>[Trial of device that is not approved or cleared by the U.S. FDA]</td></tr><tr><td>[Trial of device that is not approved or cleared by the U.S. FDA]</td></tr><tr><td>[Trial of device that is not approved or cleared by the U.S. FDA]</td></tr><tr><td>[Trial of device that is not approved or cleared by the U.S. FDA]</td></tr><tr><td>[Trial of device that is not approved or cleared by the U.S. FDA]</td></tr><tr><td>[Trial of device that is not approved or cleared by the U.S. FDA]</td></tr><tr><td>[Trial of device that is not approved or cleared by the U.S. FDA]</td></tr><tr><td>[Trial of device that is not approved or cleared by the U.S. FDA]</td></tr><tr><td>[Trial of device that is not approved or cleared by the U.S. FDA]</td></tr><tr><td>[Trial of device that is not approved or cleared by the U.S. FDA]</td></tr><tr><td>[Trial of device that is not approved or cleared by the U.S. FDA]</td></tr><tr><td>[Trial of device that is not approved or cleared by the U.S. FDA]</td></tr><tr><td>[Trial of device that is not approved or cleared by the U.S. FDA]</td></tr><tr><td>[Trial of device that is not approved or cleared by the U.S. FDA]</td></tr><tr><td>[Trial of device that is not approved or cleared by the U.S. FDA]</td></tr><tr><td>[Trial of device that is not approved or cleared by the U.S. FDA]</td></tr><tr><td>[Trial of device that is not approved or cleared by the U.S. FDA]</td></tr><tr><td>[Trial of device that is not approved or cleared by the U.S. FDA]</td></tr><tr><td>[Trial of device that is not approved or cleared by the U.S. FDA]</td></tr><tr><td>[Trial of device that is not approved or cleared by the U.S. FDA]</td></tr><tr><td>[Trial of device that is not approved or cleared by the U.S. FDA]</td></tr><tr><td>[Trial of device that is not approved or cleared by the U.S. FDA]</td></tr><tr><td>[Trial of device that is not approved or cleared by the U.S. FDA]</td></tr><tr><td>[Trial of device that is not approved or cleared by the U.S. FDA]</td></tr><tr><td>[Trial of device that is not approved or cleared by the U.S. FDA]</td></tr><tr><td>[Trial of device that is not approved or cleared by the U.S. FDA]</td></tr><tr><td>[Trial of device that is not approved or cleared by the U.S. FDA]</td></tr><tr><td>[Trial of device that is not approved or cleared by the U.S. FDA]</td></tr><tr><td>[Trial of device that is not approved or cleared by the U.S. FDA]</td></tr><tr><td>[Trial of device that is not approved or cleared by the U.S. FDA]</td></tr><tr><td>[Trial of device that is not approved or cleared by the U.S. FDA]</td></tr><tr><td>[Trial of device that is not approved or cleared by the U.S. FDA]</td></tr><tr><td>[Trial of device that is not approved or cleared by the U.S. FDA]</td></tr><tr><td>[Trial of device that is not approved or cleared by the U.S. FDA]</td></tr><tr><td>[Trial of device that is not approved or cleared by the U.S. FDA]</td></tr><tr><td>[Trial of device that is not approved or cleared by the U.S. FDA]</td></tr><tr><td>[Trial of device that is not approved or cleared by the U.S. FDA]</td></tr><tr><td>[Trial of device that is not approved or cleared by the U.S. FDA]</td></tr><tr><td>[Trial of device that is not approved or cleared by the U.S. FDA]</td></tr><tr><td>[Trial of device that is not approved or cleared by the U.S. FDA]</td></tr><tr><td>[Trial of device that is not approved or cleared by the U.S. FDA]</td></tr><tr><td>[Trial of device that is not approved or cleared by the U.S. FDA]</td></tr><tr><td>[Trial of device that is not approved or cleared by the U.S. FDA]</td></tr><tr><td>[Trial of device that is not approved or cleared by the U.S. FDA]</td></tr><tr><td>[Trial of device that is not approved or cleared by the U.S. FDA]</td></tr><tr><td>[Trial of device that is not approved or cleared by the U.S. FDA]</td></tr><tr><td>[Trial of device that is not approved or cleared by the U.S. FDA]</td></tr><tr><td>[Trial of device that is not approved or cleared by the U.S. FDA]</td></tr><tr><td>[Trial of device that is not approved or cleared by the U.S. FDA]</td></tr><tr><td>[Trial of device that is not approved or cleared by the U.S. FDA]</td></tr><tr><td>[Trial of device that is not approved or cleared by the U.S. FDA]</td></tr><tr><td>[Trial of device that is not approved or cleared by the U.S. FDA]</td></tr><tr><td>[Trial of device that is not approved or cleared by the U.S. FDA]</td></tr><tr><td>[Trial of device that is not approved or cleared by the U.S. FDA]</td></tr><tr><td>[Trial of device that is not approved or cleared by the U.S. FDA]</td></tr><tr><td>[Trial of device that is not approved or cleared by the U.S. FDA]</td></tr><tr><td>[Trial of device that is not approved or cleared by the U.S. FDA]</td></tr><tr><td>[Trial of device that is not approved or cleared by the U.S. FDA]</td></tr><tr><td>[Trial of device that is not approved or cleared by the U.S. FDA]</td></tr><tr><td>[Trial of device that is not approved or cleared by the U.S. FDA]</td></tr><tr><td>[Trial of device that is not approved or cleared by the U.S. FDA]</td></tr><tr><td>[Trial of device that is not approved or cleared by the U.S. FDA]</td></tr><tr><td>[Trial of device that is not approved or cleared by the U.S. FDA]</td></tr><tr><td>[Trial of device that is not approved or cleared by the U.S. FDA]</td></tr><tr><td>[Trial of device that is not approved or cleared by the U.S. FDA]</td></tr><tr><td>[Trial of device that is not approved or cleared by the U.S. FDA]</td></tr><tr><td>[Trial of device that is not approved or cleared by the U.S. FDA]</td></tr><tr><td>[Trial of device that is not approved or cleared by the U.S. FDA]</td></tr><tr><td>[Trial of device that is not approved or cleared by the U.S. FDA]</td></tr><tr><td>[Trial of device that is not approved or cleared by the U.S. FDA]</td></tr><tr><td>[Trial of device that is not approved or cleared by the U.S. FDA]</td></tr><tr><td>[Trial of device that is not approved or cleared by the U.S. FDA]</td></tr><tr><td>[Trial of device that is not approved or cleared by the U.S. FDA]</td></tr><tr><td>[Trial of device that is not approved or cleared by the U.S. FDA]</td></tr><tr><td>[Trial of device that is not approved or cleared by the U.S. FDA]</td></tr><tr><td>[Trial of device that is not approved or cleared by the U.S. FDA]</td></tr><tr><td>[Trial of device that is not approved or cleared by the U.S. FDA]</td></tr><tr><td>[Trial of device that is not approved or cleared by the U.S. FDA]</td></tr><tr><td>[Trial of device that is not approved or cleared by the U.S. FDA]</td></tr><tr><td>[Trial of device that is not approved or cleared by the U.S. FDA]</td></tr><tr><td>[Trial of device that is not approved or cleared by the U.S. FDA]</td></tr><tr><td>[Trial of device that is not approved or cleared by the U.S. FDA]</td></tr><tr><td>[Trial of device that is not approved or cleared by the U.S. FDA]</td></tr><tr><td>[Trial of device that is not approved or cleared by the U.S. FDA]</td></tr><tr><td>[Trial of device that is not approved or cleared by the U.S. FDA]</td></tr><tr><td>[Trial of device that is not approved or cleared by the U.S. FDA]</td></tr><tr><td>[Trial of device that is not approved or cleared by the U.S. FDA]</td></tr><tr><td>[Trial of device that is not approved or cleared by the U.S. FDA]</td></tr><tr><td>[Trial of device that is not approved or cleared by the U.S. FDA]</td></tr><tr><td>[Trial of device that is not approved or cleared by the U.S. FDA]</td></tr><tr><td>[Trial of device that is not approved or cleared by the U.S. FDA]</td></tr><tr><td>[Trial of device that is not approved or cleared by the U.S. FDA]</td></tr><tr><td>[Trial of device that is not approved or cleared by the U.S. FDA]</td></tr><tr><td>[Trial of device that is not approved or cleared by the U.S. FDA]</td></tr><tr><td>[Trial of device that is not approved or cleared by the U.S. FDA]</td></tr><tr><td>[Trial of device that is not approved or cleared by the U.S. FDA]</td></tr><tr><td>[Trial of device that is not approved or cleared by the U.S. FDA]</td></tr><tr><td>[Trial of device that is not approved or cleared by the U.S. FDA]</td></tr><tr><td>[Trial of device that is not approved or cleared by the U.S. FDA]</td></tr><tr><td>[Trial of device that is not approved or cleared by the U.S. FDA]</td></tr><tr><td>[Trial of device that is not approved or cleared by the U.S. FDA]</td></tr><tr><td>[Trial of device that is not approved or cleared by the U.S. FDA]</td></tr><tr><td>[Trial of device that is not approved or cleared by the U.S. FDA]</td></tr><tr><td>[Trial of device that is not approved or cleared by the U.S. FDA]</td></tr><tr><td>[Trial of device that is not approved or cleared by the U.S. FDA]</td></tr><tr><td>[Trial of device that is not approved or cleared by the U.S. FDA]</td></tr><tr><td>[Trial of device that is not approved or cleared by the U.S. FDA]</td></tr><tr><td>[Trial of device that is not approved or cleared by the U.S. FDA]</td></tr><tr><td>[Trial of device that is not approved or cleared by the U.S. FDA]</td></tr><tr><td>[Trial of device that is not approved or cleared by the U.S. FDA]</td></tr><tr><td>[Trial of device that is not approved or cleared by the U.S. FDA]</td></tr><tr><td>[Trial of device that is not approved or cleared by the U.S. FDA]</td></tr><tr><td>[Trial of device that is not approved or cleared by the U.S. FDA]</td></tr><tr><td>[Trial of device that is not approved or cleared by the U.S. FDA]</td></tr><tr><td>[Trial of device that is not approved or cleared by the U.S. FDA]</td></tr><tr><td>[Trial of device that is not approved or cleared by the U.S. FDA]</td></tr><tr><td>[Trial of device that is not approved or cleared by the U.S. FDA]</td></tr><tr><td>[Trial of device that is not approved or cleared by the U.S. FDA]</td></tr><tr><td>[Trial of device that is not approved or cleared by the U.S. FDA]</td></tr><tr><td>[Trial of device that is not approved or cleared by the U.S. FDA]</td></tr><tr><td>[Trial of device that is not approved or cleared by the U.S. FDA]</td></tr><tr><td>[Trial of device that is not approved or cleared by the U.S. FDA]</td></tr><tr><td>[Trial of device that is not approved or cleared by the U.S. FDA]</td></tr><tr><td>[Trial of device that is not approved or cleared by the U.S. FDA]</td></tr><tr><td>[Trial of device that is not approved or cleared by the U.S. FDA]</td></tr><tr><td>[Trial of device that is not approved or cleared by the U.S. FDA]</td></tr><tr><td>[Trial of device that is not approved or cleared by the U.S. FDA]</td></tr><tr><td>[Trial of device that is not approved or cleared by the U.S. FDA]</td></tr><tr><td>[Trial of device that is not approved or cleared by the U.S. FDA]</td></tr><tr><td>[Trial of device that is not approved or cleared by the U.S. FDA]</td></tr><tr><td>[Trial of device that is not approved or cleared by the U.S. FDA]</td></tr><tr><td>[Trial of device that is not approved or cleared by the U.S. FDA]</td></tr><tr><td>[Trial of device that is not approved or cleared by the U.S. FDA]</td></tr><tr><td>[Trial of device that is not approved or cleared by the U.S. FDA]</td></tr><tr><td>[Trial of device that is not approved or cleared by the U.S. FDA]</td></tr><tr><td>[Trial of device that is not approved or cleared by the U.S. FDA]</td></tr><tr><td>[Trial of device that is not approved or cleared by the U.S. FDA]</td></tr><tr><td>[Trial of device that is not approved or cleared by the U.S. FDA]</td></tr><tr><td>[Trial of device that is not approved or cleared by the U.S. FDA]</td></tr><tr><td>[Trial of device that is not approved or cleared by the U.S. FDA]</td></tr><tr><td>[Trial of device that is not approved or cleared by the U.S. FDA]</td></tr><tr><td>[Trial of device that is not approved or cleared by the U.S. FDA]</td></tr><tr><td>[Trial of device that is not approved or cleared by the U.S. FDA]</td></tr><tr><td>[Trial of device that is not approved or cleared by the U.S. FDA]</td></tr><tr><td>[Trial of device that is not approved or cleared by the U.S. FDA]</td></tr><tr><td>[Trial of device that is not approved or cleared by the U.S. FDA]</td></tr><tr><td>[Trial of device that is not approved or cleared by the U.S. FDA]</td></tr><tr><td>[Trial of device that is not approved or cleared by the U.S. FDA]</td></tr><tr><td>[Trial of device that is not approved or cleared by the U.S. FDA]</td></tr><tr><td>[Trial of device that is not approved or cleared by the U.S. FDA]</td></tr><tr><td>[Trial of device that is not approved or cleared by the U.S. FDA]</td></tr><tr><td>[Trial of device that is not approved or cleared by the U.S. FDA]</td></tr><tr><td>[Trial of device that is not approved or cleared by the U.S. FDA]</td></tr><tr><td>[Trial of device that is not approved or cleared by the U.S. FDA]</td></tr><tr><td>[Trial of device that is not approved or cleared by the U.S. FDA]</td></tr><tr><td>[Trial of device that is not approved or cleared by the U.S. FDA]</td></tr><tr><td>[Trial of device that is not approved or cleared by the U.S. FDA]</td></tr><tr><td>[Trial of device that is not approved or cleared by the U.S. FDA]</td></tr><tr><td>[Trial of device that is not approved or cleared by the U.S. FDA]</td></tr><tr><td>[Trial of device that is not approved or cleared by the U.S. FDA]</td></tr><tr><td>[Trial of device that is not approved or cleared by the U.S. FDA]</td></tr><tr><td>[Trial of device that is not approved or cleared by the U.S. FDA]</td></tr><tr><td>[Trial of device that is not approved or cleared by the U.S. FDA]</td></tr><tr><td>[Trial of device that is not approved or cleared by the U.S. FDA]</td></tr><tr><td>[Trial of device that is not approved or cleared by the U.S. FDA]</td></tr><tr><td>[Trial of device that is not approved or cleared by the U.S. FDA]</td></tr><tr><td>[Trial of device that is not approved or cleared by the U.S. FDA]</td></tr><tr><td>[Trial of device that is not approved or cleared by the U.S. FDA]</td></tr><tr><td>[Trial of device that is not approved or cleared by the U.S. FDA]</td></tr><tr><td>[Trial of device that is not approved or cleared by the U.S. FDA]</td></tr><tr><td>[Trial of device that is not approved or cleared by the U.S. FDA]</td></tr><tr><td>[Trial of device that is not approved or cleared by the U.S. FDA]</td></tr><tr><td>[Trial of device that is not approved or cleared by the U.S. FDA]</td></tr><tr><td>[Trial of device that is not approved or cleared by the U.S. FDA]</td></tr><tr><td>[Trial of device that is not approved or cleared by the U.S. FDA]</td></tr><tr><td>[Trial of device that is not approved or cleared by the U.S. FDA]</td></tr><tr><td>[Trial of device that is not approved or cleared by the U.S. FDA]</td></tr><tr><td>[Trial of device that is not approved or cleared by the U.S. FDA]</td></tr><tr><td>[Trial of device that is not approved or cleared by the U.S. FDA]</td></tr><tr><td>[Trial of device that is not approved or cleared by the U.S. FDA]</td></tr><tr><td>[Trial of device that is not approved or cleared by the U.S. FDA]</td></tr><tr><td>[Trial of device that is not approved or cleared by the U.S. FDA]</td></tr><tr><td>[Trial of device that is not approved or cleared by the U.S. FDA]</td></tr><tr><td>[Trial of device that is not approved or cleared by the U.S. FDA]</td></tr><tr><td>[Trial of device that is not approved or cleared by the U.S. FDA]</td></tr><tr><td>[Trial of device that is not approved or cleared by the U.S. FDA]</td></tr><tr><td>[Trial of device that is not approved or cleared by the U.S. FDA]</td></tr><tr><td>[Trial of device that is not approved or cleared by the U.S. FDA]</td></tr><tr><td>[Trial of device that is not approved or cleared by the U.S. FDA]</td></tr><tr><td>[Trial of device that is not approved or cleared by the U.S. FDA]</td></tr><tr><td>[Trial of device that is not approved or cleared by the U.S. FDA]</td></tr><tr><td>[Trial of device that is not approved or cleared by the U.S. FDA]</td></tr><tr><td>[Trial of device that is not approved or cleared by the U.S. FDA]</td></tr><tr><td>[Trial of device that is not approved or cleared by the U.S. FDA]</td></tr><tr><td>[Trial of device that is not approved or cleared by the U.S. FDA]</td></tr><tr><td>[Trial of device that is not approved or cleared by the U.S. FDA]</td></tr><tr><td>[Trial of device that is not approved or cleared by the U.S. FDA]</td></tr><tr><td>[Trial of device that is not approved or cleared by the U.S. FDA]</td></tr><tr><td>[Trial of device that is not approved or cleared by the U.S. FDA]</td></tr><tr><td>[Trial of device that is not approved or cleared by the U.S. FDA]</td></tr><tr><td>[Trial of device that is not approved or cleared by the U.S. FDA]</td></tr><tr><td>[Trial of device that is not approved or cleared by the U.S. FDA]</td></tr><tr><td>[Trial of device that is not approved or cleared by the U.S. FDA]</td></tr><tr><td>[Trial of device that is not approved or cleared by the U.S. FDA]</td></tr><tr><td>[Trial of device that is not approved or cleared by the U.S. FDA]</td></tr><tr><td>[Trial of device that is not approved or cleared by the U.S. FDA]</td></tr><tr><td>[Trial of device that is not approved or cleared by the U.S. FDA]</td></tr><tr><td>[Trial of device that is not approved or cleared by the U.S. FDA]</td></tr><tr><td>[Trial of device that is not approved or cleared by the U.S. FDA]</td></tr><tr><td>[Trial of device that is not approved or cleared by the U.S. FDA]</td></tr><tr><td>[Trial of device that is not approved or cleared by the U.S. FDA]</td></tr><tr><td>[Trial of device that is not approved or cleared by the U.S. FDA]</td></tr><tr><td>[Trial of device that is not approved or cleared by the U.S. FDA]</td></tr><tr><td>[Trial of device that is not approved or cleared by the U.S. FDA]</td></tr><tr><td>[Trial of device that is not approved or cleared by the U.S. FDA]</td></tr><tr><td>[Trial of device that is not approved or cleared by the U.S. FDA]</td></tr><tr><td>[Trial of device that is not approved or cleared by the U.S. FDA]</td></tr><tr><td>[Trial of device that is not approved or cleared by the U.S. FDA]</td></tr><tr><td>[Trial of device that is not approved or cleared by the U.S. FDA]</td></tr><tr><td>[Trial of device that is not approved or cleared by the U.S. FDA]</td></tr><tr><td>[Trial of device that is not approved or cleared by the U.S. FDA]</td></tr><tr><td>[Trial of device that is not approved or cleared by the U.S. FDA]</td></tr><tr><td>[Trial of device that is not approved or cleared by the U.S. FDA]</td></tr><tr><td>[Trial of device that is not approved or cleared by the U.S. FDA]</td></tr><tr><td>[Trial of device that is not approved or cleared by the U.S. FDA]</td></tr><tr><td>[Trial of device that is not approved or cleared by the U.S. FDA]</td></tr><tr><td>[Trial of device that is not approved or cleared by the U.S. FDA]</td></tr><tr><td>[Trial of device that is not approved or cleared by the U.S. FDA]</td></tr><tr><td>[Trial of device that is not approved or cleared by the U.S. FDA]</td></tr><tr><td>[Trial of device that is not approved or cleared by the U.S. FDA]</td></tr><tr><td>[Trial of device that is not approved or cleared by the U.S. FDA]</td></tr><tr><td>[Trial of device that is not approved or cleared by the U.S. FDA]</td></tr><tr><td>[Trial of device that is not approved or cleared by the U.S. FDA]</td></tr><tr><td>[Trial of device that is not approved or cleared by the U.S. FDA]</td></tr><tr><td>[Trial of device that is not approved or cleared by the U.S. FDA]</td></tr><tr><td>[Trial of device that is not approved or cleared by the U.S. FDA]</td></tr><tr><td>[Trial of device that is not approved or cleared by the U.S. FDA]</td></tr><tr><td>[Trial of device that is not approved or cleared by the U.S. FDA]</td></tr><tr><td>[Trial of device that is not approved or cleared by the U.S. FDA]</td></tr><tr><td>[Trial of device that is not approved or cleared by the U.S. FDA]</td></tr><tr><td>[Trial of device that is not approved or cleared by the U.S. FDA]</td></tr><tr><td>[Trial of device that is not approved or cleared by the U.S. FDA]</td></tr><tr><td>[Trial of device that is not approved or cleared by the U.S. FDA]</td></tr><tr><td>[Trial of device that is not approved or cleared by the U.S. FDA]</td></tr><tr><td>[Trial of device that is not approved or cleared by the U.S. FDA]</td></tr><tr><td>[Trial of device that is not approved or cleared by the U.S. FDA]</td></tr><tr><td>[Trial of device that is not approved or cleared by the U.S. FDA]</td></tr><tr><td>[Trial of device that is not approved or cleared by the U.S. FDA]</td></tr><tr><td>[Trial of device that is not approved or cleared by the U.S. FDA]</td></tr><tr><td>[Trial of device that is not approved or cleared by the U.S. FDA]</td></tr><tr><td>[Trial of device that is not approved or cleared by the U.S. FDA]</td></tr><tr><td>[Trial of device that is not approved or cleared by the U.S. FDA]</td></tr><tr><td>[Trial of device that is not approved or cleared by the U.S. FDA]</td></tr><tr><td>[Trial of device that is not approved or cleared by the U.S. FDA]</td></tr><tr><td>[Trial of device that is not approved or cleared by the U.S. FDA]</td></tr><tr><td>[Trial of device that is not approved or cleared by the U.S. FDA]</td></tr><tr><td>[Trial of device that is not approved or cleared by the U.S. FDA]</td></tr><tr><td>[Trial of device that is not approved or cleared by the U.S. FDA]</td></tr><tr><td>[Trial of device that is not approved or cleared by the U.S. FDA]</td></tr><tr><td>[Trial of device that is not approved or cleared by the U.S. FDA]</td></tr><tr><td>[Trial of device that is not approved or cleared by the U.S. FDA]</td></tr><tr><td>[Trial of device that is not approved or cleared by the U.S. FDA]</td></tr><tr><td>[Trial of device that is not approved or cleared by the U.S. FDA]</td></tr><tr><td>[Trial of device that is not approved or cleared by the U.S. FDA]</td></tr><tr><td>[Trial of device that is not approved or cleared by the U.S. FDA]</td></tr><tr><td>[Trial of device that is not approved or cleared by the U.S. FDA]</td></tr><tr><td>[Trial of device that is not approved or cleared by the U.S. FDA]</td></tr><tr><td>[Trial of device that is not approved or cleared by the U.S. FDA]</td></tr><tr><td>[Trial of device that is not approved or cleared by the U.S. FDA]</td></tr><tr><td>[Trial of device that is not approved or cleared by the U.S. FDA]</td></tr><tr><td>[Trial of device that is not approved or cleared by the U.S. FDA]</td></tr><tr><td>[Trial of device that is not approved or cleared by the U.S. FDA]</td></tr><tr><td>[Trial of device that is not approved or cleared by the U.S. FDA]</td></tr><tr><td>[Trial of device that is not approved or cleared by the U.S. FDA]</td></tr><tr><td>[Trial of device that is not approved or cleared by the U.S. FDA]</td></tr><tr><td>[Trial of device that is not approved or cleared by the U.S. FDA]</td></tr><tr><td>[Trial of device that is not approved or cleared by the U.S. FDA]</td></tr><tr><td>[Trial of device that is not approved or cleared by the U.S. FDA]</td></tr><tr><td>[Trial of device that is not approved or cleared by the U.S. FDA]</td></tr><tr><td>[Trial of device that is not approved or cleared by the U.S. FDA]</td></tr><tr><td>[Trial of device that is not approved or cleared by the U.S. FDA]</td></tr><tr><td>[Trial of device that is not approved or cleared by the U.S. FDA]</td></tr><tr><td>[Trial of device that is not approved or cleared by the U.S. FDA]</td></tr><tr><td>[Trial of device that is not approved or cleared by the U.S. FDA]</td></tr><tr><td>[Trial of device that is not approved or cleared by the U.S. FDA]</td></tr><tr><td>[Trial of device that is not approved or cleared by the U.S. FDA]</td></tr><tr><td>[Trial of device that is not approved or cleared by the U.S. FDA]</td></tr><tr><td>[Trial of device that is not approved or cleared by the U.S. FDA]</td></tr><tr><td>[Trial of device that is not approved or cleared by the U.S. FDA]</td></tr><tr><td>[Trial of device that is not approved or cleared by the U.S. FDA]</td></tr><tr><td>[Trial of device that is not approved or cleared by the U.S. FDA]</td></tr><tr><td>[Trial of device that is not approved or cleared by the U.S. FDA]</td></tr><tr><td>[Trial of device that is not approved or cleared by the U.S. FDA]</td></tr><tr><td>[Trial of device that is not approved or cleared by the U.S. FDA]</td></tr><tr><td>[Trial of device that is not approved or cleared by the U.S. FDA]</td></tr><tr><td>[Trial of device that is not approved or cleared by the U.S. FDA]</td></tr><tr><td>[Trial of device that is not approved or cleared by the U.S. FDA]</td></tr><tr><td>[Trial of device that is not approved or cleared by the U.S. FDA]</td></tr><tr><td>[Trial of device that is not approved or cleared by the U.S. FDA]</td></tr><tr><td>[Trial of device that is not approved or cleared by the U.S. FDA]</td></tr><tr><td>[Trial of device that is not approved or cleared by the U.S. FDA]</td></tr><tr><td>[Trial of device that is not approved or cleared by the U.S. FDA]</td></tr><tr><td>[Trial of device that is not approved or cleared by the U.S. FDA]</td></tr><tr><td>[Trial of device that is not approved or cleared by the U.S. FDA]</td></tr><tr><td>[Trial of device that is not approved or cleared by the U.S. FDA]</td></tr><tr><td>[Trial of device that is not approved or cleared by the U.S. FDA]</td></tr><tr><td>[Trial of device that is not approved or cleared by the U.S. FDA]</td></tr><tr><td>[Trial of device that is not approved or cleared by the U.S. FDA]</td></tr><tr><td>[Trial of device that is not approved or cleared by the U.S. FDA]</td></tr><tr><td>[Trial of device that is not approved or cleared by the U.S. FDA]</td></tr><tr><td>[Trial of device that is not approved or cleared by the U.S. FDA]</td></tr><tr><td>[Trial of device that is not approved or cleared by the U.S. FDA]</td></tr><tr><td>[Trial of device that is not approved or cleared by the U.S. FDA]</td></tr><tr><td>[Trial of device that is not approved or cleared by the U.S. FDA]</td></tr><tr><td>[Trial of device that is not approved or cleared by the U.S. FDA]</td></tr><tr><td>[Trial of device that is not approved or cleared by the U.S. FDA]</td></tr><tr><td>[Trial of device that is not approved or cleared by the U.S. FDA]</td></tr><tr><td>[Trial of device that is not approved or cleared by the U.S. FDA]</td></tr><tr><td>[Trial of device that is not approved or cleared by the U.S. FDA]</td></tr><tr><td>[Trial of device that is not approved or cleared by the U.S. FDA]</td></tr><tr><td>[Trial of device that is not approved or cleared by the U.S. FDA]</td></tr><tr><td>[Trial of device that is not approved or cleared by the U.S. FDA]</td></tr><tr><td>[Trial of device that is not approved or cleared by the U.S. FDA]</td></tr><tr><td>[Trial of device that is not approved or cleared by the U.S. FDA]</td></tr><tr><td>[Trial of device that is not approved or cleared by the U.S. FDA]</td></tr><tr><td>[Trial of device that is not approved or cleared by the U.S. FDA]</td></tr><tr><td>[Trial of device that is not approved or cleared by the U.S. FDA]</td></tr><tr><td>[Trial of device that is not approved or cleared by the U.S. FDA]</td></tr><tr><td>[Trial of device that is not approved or cleared by the U.S. FDA]</td></tr><tr><td>[Trial of device that is not approved or cleared by the U.S. FDA]</td></tr><tr><td>[Trial of device that is not approved or cleared by the U.S. FDA]</td></tr><tr><td>[Trial of device that is not approved or cleared by the U.S. FDA]</td></tr><tr><td>[Trial of device that is not approved or cleared by the U.S. FDA]</td></tr><tr><td>[Trial of device that is not approved or cleared by the U.S. FDA]</td></tr><tr><td>[Trial of device that is not approved or cleared by the U.S. FDA]</td></tr><tr><td>[Trial of device that is not approved or cleared by the U.S. FDA]</td></tr><tr><td>[Trial of device that is not approved or cleared by the U.S. FDA]</td></tr><tr><td>[Trial of device that is not approved or cleared by the U.S. FDA]</td></tr><tr><td>[Trial of device that is not approved or cleared by the U.S. FDA]</td></tr><tr><td>[Trial of device that is not approved or cleared by the U.S. FDA]</td></tr><tr><td>[Trial of device that is not approved or cleared by the U.S. FDA]</td></tr><tr><td>[Trial of device that is not approved or cleared by the U.S. FDA]</td></tr><tr><td>[Trial of device that is not approved or cleared by the U.S. FDA]</td></tr><tr><td>[Trial of device that is not approved or cleared by the U.S. FDA]</td></tr><tr><td>[Trial of device that is not approved or cleared by the U.S. FDA]</td></tr><tr><td>[Trial of device that is not approved or cleared by the U.S. FDA]</td></tr><tr><td>[Trial of device that is not approved or cleared by the U.S. FDA]</td></tr><tr><td>[Trial of device that is not approved or cleared by the U.S. FDA]</td></tr><tr><td>[Trial of device that is not approved or cleared by the U.S. FDA]</td></tr><tr><td>[Trial of device that is not approved or cleared by the U.S. FDA]</td></tr><tr><td>[Trial of device that is not approved or cleared by the U.S. FDA]</td></tr><tr><td>[Trial of device that is not approved or cleared by the U.S. FDA]</td></tr><tr><td>[Trial of device that is not approved or cleared by the U.S. FDA]</td></tr><tr><td>[Trial of device that is not approved or cleared by the U.S. FDA]</td></tr><tr><td>[Trial of device that is not approved or cleared by the U.S. FDA]</td></tr><tr><td>[Trial of device that is not approved or cleared by the U.S. FDA]</td></tr><tr><td>[Trial of device that is not approved or cleared by the U.S. FDA]</td></tr><tr><td>[Trial of device that is not approved or cleared by the U.S. FDA]</td></tr><tr><td>[Trial of device that is not approved or cleared by the U.S. FDA]</td></tr><tr><td>[Trial of device that is not approved or cleared by the U.S. FDA]</td></tr><tr><td>[Trial of device that is not approved or cleared by the U.S. FDA]</td></tr><tr><td>[Trial of device that is not approved or cleared by the U.S. FDA]</td></tr><tr><td>[Trial of device that is not approved or cleared by the U.S. FDA]</td></tr><tr><td>[Trial of device that is not approved or cleared by the U.S. FDA]</td></tr><tr><td>[Trial of device that is not approved or cleared by the U.S. FDA]</td></tr><tr><td>[Trial of device that is not approved or cleared by the U.S. FDA]</td></tr><tr><td>[Trial of device that is not approved or cleared by the U.S. FDA]</td></tr><tr><td>[Trial of device that is not approved or cleared by the U.S. FDA]</td></tr><tr><td>[Trial of device that is not approved or cleared by the U.S. FDA]</td></tr><tr><td>[Trial of device that is not approved or cleared by the U.S. FDA]</td></tr><tr><td>[Trial of device that is not approved or cleared by the U.S. FDA]</td></tr><tr><td>[Trial of device that is not approved or cleared by the U.S. FDA]</td></tr><tr><td>[Trial of device that is not approved or cleared by the U.S. FDA]</td></tr><tr><td>[Trial of device that is not approved or cleared by the U.S. FDA]</td></tr><tr><td>[Trial of device that is not approved or cleared by the U.S. FDA]</td></tr><tr><td>[Trial of device that is not approved or cleared by the U.S. FDA]</td></tr><tr><td>[Trial of device that is not approved or cleared by the U.S. FDA]</td></tr><tr><td>[Trial of device that is not approved or cleared by the U.S. FDA]</td></tr><tr><td>[Trial of device that is not approved or cleared by the U.S. FDA]</td></tr><tr><td>[Trial of device that is not approved or cleared by the U.S. FDA]</td></tr><tr><td>[Trial of device that is not approved or cleared by the U.S. FDA]</td></tr><tr><td>[Trial of device that is not approved or cleared by the U.S. FDA]</td></tr><tr><td>[Trial of device that is not approved or cleared by the U.S. FDA]</td></tr><tr><td>[Trial of device that is not approved or cleared by the U.S. FDA]</td></tr><tr><td>[Trial of device that is not approved or cleared by the U.S. FDA]</td></tr><tr><td>[Trial of device that is not approved or cleared by the U.S. FDA]</td></tr><tr><td>[Trial of device that is not approved or cleared by the U.S. FDA]</td></tr><tr><td>[Trial of device that is not approved or cleared by the U.S. FDA]</td></tr><tr><td>[Trial of device that is not approved or cleared by the U.S. FDA]</td></tr><tr><td>[Trial of device that is not approved or cleared by the U.S. FDA]</td></tr><tr><td>[Trial of device that is not approved or cleared by the U.S. FDA]</td></tr><tr><td>[Trial of device that is not approved or cleared by the U.S. FDA]</td></tr><tr><td>[Trial of device that is not approved or cleared by the U.S. FDA]</td></tr><tr><td>[Trial of device that is not approved or cleared by the U.S. FDA]</td></tr><tr><td>[Trial of device that is not approved or cleared by the U.S. FDA]</td></tr><tr><td>[Trial of device that is not approved or cleared by the U.S. FDA]</td></tr><tr><td>[Trial of device that is not approved or cleared by the U.S. FDA]</td></tr><tr><td>[Trial of device that is not approved or cleared by the U.S. FDA]</td></tr><tr><td>[Trial of device that is not approved or cleared by the U.S. FDA]</td></tr><tr><td>[Trial of device that is not approved or cleared by the U.S. FDA]</td></tr><tr><td>[Trial of device that is not approved or cleared by the U.S. FDA]</td></tr><tr><td>[Trial of device that is not approved or cleared by the U.S. FDA]</td></tr><tr><td>[Trial of device that is not approved or cleared by the U.S. FDA]</td></tr><tr><td>[Trial of device that is not approved or cleared by the U.S. FDA]</td></tr><tr><td>[Trial of device that is not approved or cleared by the U.S. FDA]</td></tr><tr><td>[Trial of device that is not approved or cleared by the U.S. FDA]</td></tr><tr><td>[Trial of device that is not approved or cleared by the U.S. FDA]</td></tr><tr><td>[Trial of device that is not approved or cleared by the U.S. FDA]</td></tr><tr><td>[Trial of device that is not approved or cleared by the U.S. FDA]</td></tr><tr><td>[Trial of device that is not approved or cleared by the U.S. FDA]</td></tr><tr><td>[Trial of device that is not approved or cleared by the U.S. FDA]</td></tr><tr><td>[Trial of device that is not approved or cleared by the U.S. FDA]</td></tr><tr><td>[Trial of device that is not approved or cleared by the U.S. FDA]</td></tr><tr><td>[Trial of device that is not approved or cleared by the U.S. FDA]</td></tr><tr><td>[Trial of device that is not approved or cleared by the U.S. FDA]</td></tr><tr><td>[Trial of device that is not approved or cleared by the U.S. FDA]</td></tr><tr><td>[Trial of device that is not approved or cleared by the U.S. FDA]</td></tr><tr><td>[Trial of device that is not approved or cleared by the U.S. FDA]</td></tr><tr><td>[Trial of device that is not approved or cleared by the U.S. FDA]</td></tr><tr><td>[Trial of device that is not approved or cleared by the U.S. FDA]</td></tr><tr><td>[Trial of device that is not approved or cleared by the U.S. FDA]</td></tr><tr><td>[Trial of device that is not approved or cleared by the U.S. FDA]</td></tr><tr><td>[Trial of device that is not approved or cleared by the U.S. FDA]</td></tr><tr><td>[Trial of device that is not approved or cleared by the U.S. FDA]</td></tr><tr><td>[Trial of device that is not approved or cleared by the U.S. FDA]</td></tr><tr><td>[Trial of device that is not approved or cleared by the U.S. FDA]</td></tr><tr><td>[Trial of device that is not approved or cleared by the U.S. FDA]</td></tr><tr><td>[Trial of device that is not approved or cleared by the U.S. FDA]</td></tr><tr><td>[Trial of device that is not approved or cleared by the U.S. FDA]</td></tr><tr><td>[Trial of device that is not approved or cleared by the U.S. FDA]</td></tr><tr><td>[Trial of device that is not approved or cleared by the U.S. FDA]</td></tr><tr><td>[Trial of device that is not approved or cleared by the U.S. FDA]</td></tr><tr><td>[Trial of device that is not approved or cleared by the U.S. FDA]</td></tr><tr><td>[Trial of device that is not approved or cleared by the U.S. FDA]</td></tr><tr><td>[Trial of device that is not approved or cleared by the U.S. FDA]</td></tr><tr><td>[Trial of device that is not approved or cleared by the U.S. FDA]</td></tr><tr><td>[Trial of device that is not approved or cleared by the U.S. FDA]</td></tr><tr><td>[Trial of device that is not approved or cleared by the U.S. FDA]</td></tr><tr><td>[Trial of device that is not approved or cleared by the U.S. FDA]</td></tr><tr><td>[Trial of device that is not approved or cleared by the U.S. FDA]</td></tr><tr><td>[Trial of device that is not approved or cleared by the U.S. FDA]</td></tr><tr><td>[Trial of device that is not approved or cleared by the U.S. FDA]</td></tr><tr><td>[Trial of device that is not approved or cleared by the U.S. FDA]</td></tr><tr><td>[Trial of device that is not approved or cleared by the U.S. FDA]</td></tr><tr><td>[Trial of device that is not approved or cleared by the U.S. FDA]</td></tr><tr><td>[Trial of device that is not approved or cleared by the U.S. FDA]</td></tr><tr><td>[Trial of device that is not approved or cleared by the U.S. FDA]</td></tr><tr><td>[Trial of device that is not approved or cleared by the U.S. FDA]</td></tr><tr><td>[Trial of device that is not approved or cleared by the U.S. FDA]</td></tr><tr><td>[Trial of device that is not approved or cleared by the U.S. FDA]</td></tr><tr><td>[Trial of device that is not approved or cleared by the U.S. FDA]</td></tr><tr><td>[Trial of device that is not approved or cleared by the U.S. FDA]</td></tr><tr><td>[Trial of device that is not approved or cleared by the U.S. FDA]</td></tr><tr><td>[Trial of device that is not approved or cleared by the U.S. FDA]</td></tr><tr><td>[Trial of device that is not approved or cleared by the U.S. FDA]</td></tr><tr><td>[Trial of device that is not approved or cleared by the U.S. FDA]</td></tr><tr><td>[Trial of device that is not approved or cleared by the U.S. FDA]</td></tr><tr><td>[Trial of device that is not approved or cleared by the U.S. FDA]</td></tr><tr><td>[Trial of device that is not approved or cleared by the U.S. FDA]</td></tr><tr><td>[Trial of device that is not approved or cleared by the U.S. FDA]</td></tr><tr><td>[Trial of device that is not approved or cleared by the U.S. FDA]</td></tr><tr><td>[Trial of device that is not approved or cleared by the U.S. FDA]</td></tr><tr><td>[Trial of device that is not approved or cleared by the U.S. FDA]</td></tr><tr><td>[Trial of device that is not approved or cleared by the U.S. FDA]</td></tr><tr><td>[Trial of device that is not approved or cleared by the U.S. FDA]</td></tr><tr><td>[Trial of device that is not approved or cleared by the U.S. FDA]</td></tr><tr><td>[Trial of device that is not approved or cleared by the U.S. FDA]</td></tr><tr><td>[Trial of device that is not approved or cleared by the U.S. FDA]</td></tr><tr><td>[Trial of device that is not approved or cleared by the U.S. FDA]</td></tr><tr><td>[Trial of device that is not approved or cleared by the U.S. FDA]</td></tr><tr><td>[Trial of device that is not approved or cleared by the U.S. FDA]</td></tr><tr><td>[Trial of device that is not approved or cleared by the U.S. FDA]</td></tr><tr><td>[Trial of device that is not approved or cleared by the U.S. FDA]</td></tr><tr><td>[Trial of device that is not approved or cleared by the U.S. FDA]</td></tr><tr><td>[Trial of device that is not approved or cleared by the U.S. FDA]</td></tr><tr><td>[Trial of device that is not approved or cleared by the U.S. FDA]</td></tr><tr><td>[Trial of device that is not approved or cleared by the U.S. FDA]</td></tr><tr><td>[Trial of device that is not approved or cleared by the U.S. FDA]</td></tr><tr><td>[Trial of device that is not approved or cleared by the U.S. FDA]</td></tr><tr><td>[Trial of device that is not approved or cleared by the U.S. FDA]</td></tr><tr><td>[Trial of device that is not approved or cleared by the U.S. FDA]</td></tr><tr><td>[Trial of device that is not approved or cleared by the U.S. FDA]</td></tr><tr><td>[Trial of device that is not approved or cleared by the U.S. FDA]</td></tr><tr><td>[Trial of device that is not approved or cleared by the U.S. FDA]</td></tr><tr><td>[Trial of device that is not approved or cleared by the U.S. FDA]</td></tr><tr><td>[Trial of device that is not approved or cleared by the U.S. FDA]</td></tr><tr><td>[Trial of device that is not approved or cleared by the U.S. FDA]</td></tr><tr><td>[Trial of device that is not approved or cleared by the U.S. FDA]</td></tr><tr><td>[Trial of device that is not approved or cleared by the U.S. FDA]</td></tr><tr><td>[Trial of device that is not approved or cleared by the U.S. FDA]</td></tr><tr><td>[Trial of device that is not approved or cleared by the U.S. FDA]</td></tr><tr><td>[Trial of device that is not approved or cleared by the U.S. FDA]</td></tr><tr><td>[Trial of device that is not approved or cleared by the U.S. FDA]</td></tr><tr><td>[Trial of device that is not approved or cleared by the U.S. FDA]</td></tr><tr><td>[Trial of device that is not approved or cleared by the U.S. FDA]</td></tr><tr><td>[Trial of device that is not approved or cleared by the U.S. FDA]</td></tr><tr><td>[Trial of device that is not approved or cleared by the U.S. FDA]</td></tr><tr><td>[Trial of device that is not approved or cleared by the U.S. FDA]</td></tr><tr><td>[Trial of device that is not approved or cleared by the U.S. FDA]</td></tr><tr><td>[Trial of device that is not approved or cleared by the U.S. FDA]</td></tr><tr><td>[Trial of device that is not approved or cleared by the U.S. FDA]</td></tr><tr><td>[Trial of device that is not approved or cleared by the U.S. FDA]</td></tr><tr><td>[Trial of device that is not approved or cleared by the U.S. FDA]</td></tr><tr><td>[Trial of device that is not approved or cleared by the U.S. FDA]</td></tr><tr><td>[Trial of device that is not approved or cleared by the U.S. FDA]</td></tr><tr><td>[Trial of device that is not approved or cleared by the U.S. FDA]</td></tr><tr><td>[Trial of device that is not approved or cleared by the U.S. FDA]</td></tr><tr><td>[Trial of device that is not approved or cleared by the U.S. FDA]</td></tr><tr><td>[Trial of device that is not approved or cleared by the U.S. FDA]</td></tr><tr><td>[Trial of device that is not approved or cleared by the U.S. FDA]</td></tr><tr><td>[Trial of device that is not approved or cleared by the U.S. FDA]</td></tr><tr><td>[Trial of device that is not approved or cleared by the U.S. FDA]</td></tr><tr><td>[Trial of device that is not approved or cleared by the U.S. FDA]</td></tr><tr><td>[Trial of device that is not approved or cleared by the U.S. FDA]</td></tr><tr><td>[Trial of device that is not approved or cleared by the U.S. FDA]</td></tr><tr><td>[Trial of device that is not approved or cleared by the U.S. FDA]</td></tr><tr><td>[Trial of device that is not approved or cleared by the U.S. FDA]</td></tr><tr><td>[Trial of device that is not approved or cleared by the U.S. FDA]</td></tr><tr><td>[Trial of device that is not approved or cleared by the U.S. FDA]</td></tr><tr><td>[Trial of device that is not approved or cleared by the U.S. FDA]</td></tr><tr><td>[Trial of device that is not approved or cleared by the U.S. FDA]</td></tr><tr><td>[Trial of device that is not approved or cleared by the U.S. FDA]</td></tr><tr><td>[Trial of device that is not approved or cleared by the U.S. FDA]</td></tr><tr><td>[Trial of device that is not approved or cleared by the U.S. FDA]</td></tr><tr><td>[Trial of device that is not approved or cleared by the U.S. FDA]</td></tr><tr><td>[Trial of device that is not approved or cleared by the U.S. FDA]</td></tr><tr><td>[Trial of device that is not approved or cleared by the U.S. FDA]</td></tr><tr><td>[Trial of device that is not approved or cleared by the U.S. FDA]</td></tr><tr><td>[Trial of device that is not approved or cleared by the U.S. FDA]</td></tr><tr><td>[Trial of device that is not approved or cleared by the U.S. FDA]</td></tr><tr><td>[Trial of device that is not approved or cleared by the U.S. FDA]</td></tr><tr><td>[Trial of device that is not approved or cleared by the U.S. FDA]</td></tr><tr><td>[Trial of device that is not approved or cleared by the U.S. FDA]</td></tr><tr><td>[Trial of device that is not approved or cleared by the U.S. FDA]</td></tr><tr><td>[Trial of device that is not approved or cleared by the U.S. FDA]</td></tr><tr><td>[Trial of device that is not approved or cleared by the U.S. FDA]</td></tr><tr><td>[Trial of device that is not approved or cleared by the U.S. FDA]</td></tr><tr><td>[Trial of device that is not approved or cleared by the U.S. FDA]</td></tr><tr><td>[Trial of device that is not approved or cleared by the U.S. FDA]</td></tr><tr><td>[Trial of device that is not approved or cleared by the U.S. FDA]</td></tr><tr><td>[Trial of device that is not approved or cleared by the U.S. FDA]</td></tr><tr><td>[Trial of device that is not approved or cleared by the U.S. FDA]</td></tr><tr><td>[Trial of device that is not approved or cleared by the U.S. FDA]</td></tr><tr><td>[Trial of device that is not approved or cleared by the U.S. FDA]</td></tr><tr><td>[Trial of device that is not approved or cleared by the U.S. FDA]</td></tr><tr><td>[Trial of device that is not approved or cleared by the U.S. FDA]</td></tr><tr><td>[Trial of device that is not approved or cleared by the U.S. FDA]</td></tr><tr><td>[Trial of device that is not approved or cleared by the U.S. FDA]</td></tr><tr><td>[Trial of device that is not approved or cleared by the U.S. FDA]</td></tr><tr><td>[Trial of device that is not approved or cleared by the U.S. FDA]</td></tr><tr><td>[Trial of device that is not approved or cleared by the U.S. FDA]</td></tr><tr><td>[Trial of device that is not approved or cleared by the U.S. FDA]</td></tr><tr><td>[Trial of device that is not approved or cleared by the U.S. FDA]</td></tr><tr><td>[Trial of device that is not approved or cleared by the U.S. FDA]</td></tr><tr><td>[Trial of device that is not approved or cleared by the U.S. FDA]</td></tr><tr><td>[Trial of device that is not approved or cleared by the U.S. FDA]</td></tr><tr><td>[Trial of device that is not approved or cleared by the U.S. FDA]</td></tr><tr><td>[Trial of device that is not approved or cleared by the U.S. FDA]</td></tr><tr><td>[Trial of device that is not approved or cleared by the U.S. FDA]</td></tr><tr><td>[Trial of device that is not approved or cleared by the U.S. FDA]</td></tr><tr><td>[Trial of device that is not approved or cleared by the U.S. FDA]</td></tr><tr><td>[Trial of device that is not approved or cleared by the U.S. FDA]</td></tr><tr><td>[Trial of device that is not approved or cleared by the U.S. FDA]</td></tr><tr><td>[Trial of device that is not approved or cleared by the U.S. FDA]</td></tr><tr><td>[Trial of device that is not approved or cleared by the U.S. FDA]</td></tr><tr><td>[Trial of device that is not approved or cleared by the U.S. FDA]</td></tr><tr><td>[Trial of device that is not approved or cleared by the U.S. FDA]</td></tr><tr><td>[Trial of device that is not approved or cleared by the U.S. FDA]</td></tr><tr><td>[Trial of device that is not approved or cleared by the U.S. FDA]</td></tr><tr><td>[Trial of device that is not approved or cleared by the U.S. FDA]</td></tr><tr><td>[Trial of device that is not approved or cleared by the U.S. FDA]</td></tr><tr><td>[Trial of device that is not approved or cleared by the U.S. FDA]</td></tr><tr><td>[Trial of device that is not approved or cleared by the U.S. FDA]</td></tr><tr><td>[Trial of device that is not approved or cleared by the U.S. FDA]</td></tr><tr><td>[Trial of device that is not approved or cleared by the U.S. FDA]</td></tr><tr><td>[Trial of device that is not approved or cleared by the U.S. FDA]</td></tr><tr><td>[Trial of device that is not approved or cleared by the U.S. FDA]</td></tr><tr><td>[Trial of device that is not approved or cleared by the U.S. FDA]</td></tr><tr><td>[Trial of device that is not approved or cleared by the U.S. FDA]</td></tr><tr><td>[Trial of device that is not approved or cleared by the U.S. FDA]</td></tr><tr><td>[Trial of device that is not approved or cleared by the U.S. FDA]</td></tr><tr><td>[Trial of device that is not approved or cleared by the U.S. FDA]</td></tr><tr><td>[Trial of device that is not approved or cleared by the U.S. FDA]</td></tr><tr><td>[Trial of device that is not approved or cleared by the U.S. FDA]</td></tr><tr><td>[Trial of device that is not approved or cleared by the U.S. FDA]</td></tr><tr><td>[Trial of device that is not approved or cleared by the U.S. FDA]</td></tr><tr><td>[Trial of device that is not approved or cleared by the U.S. FDA]</td></tr><tr><td>[Trial of device that is not approved or cleared by the U.S. FDA]</td></tr><tr><td>[Trial of device that is not approved or cleared by the U.S. FDA]</td></tr><tr><td>[Trial of device that is not approved or cleared by the U.S. FDA]</td></tr><tr><td>[Trial of device that is not approved or cleared by the U.S. FDA]</td></tr><tr><td>[Trial of device that is not approved or cleared by the U.S. FDA]</td></tr><tr><td>[Trial of device that is not approved or cleared by the U.S. FDA]</td></tr><tr><td>[Trial of device that is not approved or cleared by the U.S. FDA]</td></tr><tr><td>[Trial of device that is not approved or cleared by the U.S. FDA]</td></tr><tr><td>[Trial of device that is not approved or cleared by the U.S. FDA]</td></tr><tr><td>[Trial of device that is not approved or cleared by the U.S. FDA]</td></tr><tr><td>[Trial of device that is not approved or cleared by the U.S. FDA]</td></tr><tr><td>[Trial of device that is not approved or cleared by the U.S. FDA]</td></tr><tr><td>[Trial of device that is not approved or cleared by the U.S. FDA]</td></tr><tr><td>[Trial of device that is not approved or cleared by the U.S. FDA]</td></tr><tr><td>[Trial of device that is not approved or cleared by the U.S. FDA]</td></tr><tr><td>[Trial of device that is not approved or cleared by the U.S. FDA]</td></tr><tr><td>[Trial of device that is not approved or cleared by the U.S. FDA]</td></tr><tr><td>[Trial of device that is not approved or cleared by the U.S. FDA]</td></tr><tr><td>[Trial of device that is not approved or cleared by the U.S. FDA]</td></tr><tr><td>[Trial of device that is not approved or cleared by the U.S. FDA]</td></tr><tr><td>[Trial of device that is not approved or cleared by the U.S. FDA]</td></tr><tr><td>[Trial of device that is not approved or cleared by the U.S. FDA]</td></tr><tr><td>[Trial of device that is not approved or cleared by the U.S. FDA]</td></tr><tr><td>[Trial of device that is not approved or cleared by the U.S. FDA]</td></tr><tr><td>[Trial of device that is not approved or cleared by the U.S. FDA]</td></tr><tr><td>[Trial of device that is not approved or cleared by the U.S. FDA]</td></tr><tr><td>[Trial of device that is not approved or cleared by the U.S. FDA]</td></tr><tr><td>[Trial of device that is not approved or cleared by the U.S. FDA]</td></tr><tr><td>[Trial of device that is not approved or cleared by the U.S. FDA]</td></tr><tr><td>[Trial of device that is not approved or cleared by the U.S. FDA]</td></tr><tr><td>[Trial of device that is not approved or cleared by the U.S. FDA]</td></tr><tr><td>[Trial of device that is not approved or cleared by the U.S. FDA]</td></tr><tr><td>[Trial of device that is not approved or cleared by the U.S. FDA]</td></tr><tr><td>[Trial of device that is not approved or cleared by the U.S. FDA]</td></tr><tr><td>[Trial of device that is not approved or cleared by the U.S. FDA]</td></tr><tr><td>[Trial of device that is not approved or cleared by the U.S. FDA]</td></tr><tr><td>[Trial of device that is not approved or cleared by the U.S. FDA]</td></tr><tr><td>[Trial of device that is not approved or cleared by the U.S. FDA]</td></tr><tr><td>[Trial of device that is not approved or cleared by the U.S. FDA]</td></tr><tr><td>[Trial of device that is not approved or cleared by the U.S. FDA]</td></tr><tr><td>[Trial of device that is not approved or cleared by the U.S. FDA]</td></tr><tr><td>[Trial of device that is not approved or cleared by the U.S. FDA]</td></tr><tr><td>[Trial of device that is not approved or cleared by the U.S. FDA]</td></tr><tr><td>[Trial of device that is not approved or cleared by the U.S. FDA]</td></tr><tr><td>[Trial of device that is not approved or cleared by the U.S. FDA]</td></tr><tr><td>[Trial of device that is not approved or cleared by the U.S. FDA]</td></tr><tr><td>[Trial of device that is not approved or cleared by the U.S. FDA]</td></tr><tr><td>[Trial of device that is not approved or cleared by the U.S. FDA]</td></tr><tr><td>[Trial of device that is not approved or cleared by the U.S. FDA]</td></tr><tr><td>[Trial of device that is not approved or cleared by the U.S. FDA]</td></tr><tr><td>[Trial of device that is not approved or cleared by the U.S. FDA]</td></tr><tr><td>[Trial of device that is not approved or cleared by the U.S. FDA]</td></tr><tr><td>[Trial of device that is not approved or cleared by the U.S. FDA]</td></tr><tr><td>[Trial of device that is not approved or cleared by the U.S. FDA]</td></tr><tr><td>[Trial of device that is not approved or cleared by the U.S. FDA]</td></tr><tr><td>[Trial of device that is not approved or cleared by the U.S. FDA]</td></tr><tr><td>[Trial of device that is not approved or cleared by the U.S. FDA]</td></tr><tr><td>[Trial of device that is not approved or cleared by the U.S. FDA]</td></tr><tr><td>[Trial of device that is not approved or cleared by the U.S. FDA]</td></tr><tr><td>[Trial of device that is not approved or cleared by the U.S. FDA]</td></tr><tr><td>[Trial of device that is not approved or cleared by the U.S. FDA]</td></tr><tr><td>[Trial of device that is not approved or cleared by the U.S. FDA]</td></tr><tr><td>[Trial of device that is not approved or cleared by the U.S. FDA]</td></tr><tr><td>[Trial of device that is not approved or cleared by the U.S. FDA]</td></tr><tr><td>[Trial of device that is not approved or cleared by the U.S. FDA]</td></tr><tr><td>[Trial of device that is not approved or cleared by the U.S. FDA]</td></tr><tr><td>[Trial of device that is not approved or cleared by the U.S. FDA]</td></tr><tr><td>[Trial of device that is not approved or cleared by the U.S. FDA]</td></tr><tr><td>[Trial of device that is not approved or cleared by the U.S. FDA]</td></tr><tr><td>[Trial of device that is not approved or cleared by the U.S. FDA]</td></tr><tr><td>[Trial of device that is not approved or cleared by the U.S. FDA]</td></tr><tr><td>[Trial of device that is not approved or cleared by the U.S. FDA]</td></tr><tr><td>[Trial of device that is not approved or cleared by the U.S. FDA]</td></tr><tr><td>[Trial of device that is not approved or cleared by the U.S. FDA]</td></tr><tr><td>[Trial of device that is not approved or cleared by the U.S. FDA]</td></tr><tr><td>[Trial of device that is not approved or cleared by the U.S. FDA]</td></tr><tr><td>[Trial of device that is not approved or cleared by the U.S. FDA]</td></tr><tr><td>[Trial of device that is not approved or cleared by the U.S. FDA]</td></tr><tr><td>[Trial of device that is not approved or cleared by the U.S. FDA]</td></tr><tr><td>[Trial of device that is not approved or cleared by the U.S. FDA]</td></tr><tr><td>[Trial of device that is not approved or cleared by the U.S. FDA]</td></tr><tr><td>[Trial of device that is not approved or cleared by the U.S. FDA]</td></tr><tr><td>[Trial of device that is not approved or cleared by the U.S. FDA]</td></tr><tr><td>[Trial of device that is not approved or cleared by the U.S. FDA]</td></tr><tr><td>[Trial of device that is not approved or cleared by the U.S. FDA]</td></tr><tr><td>[Trial of device that is not approved or cleared by the U.S. FDA]</td></tr><tr><td>[Trial of device that is not approved or cleared by the U.S. FDA]</td></tr><tr><td>[Trial of device that is not approved or cleared by the U.S. FDA]</td></tr><tr><td>[Trial of device that is not approved or cleared by the U.S. FDA]</td></tr><tr><td>[Trial of device that is not approved or cleared by the U.S. FDA]</td></tr><tr><td>[Trial of device that is not approved or cleared by the U.S. FDA]</td></tr><tr><td>[Trial of device that is not approved or cleared by the U.S. FDA]</td></tr><tr><td>[Trial of device that is not approved or cleared by the U.S. FDA]</td></tr><tr><td>[Trial of device that is not approved or cleared by the U.S. FDA]</td></tr><tr><td>[Trial of device that is not approved or cleared by the U.S. FDA]</td></tr><tr><td>[Trial of device that is not approved or cleared by the U.S. FDA]</td></tr><tr><td>[Trial of device that is not approved or cleared by the U.S. FDA]</td></tr><tr><td>[Trial of device that is not approved or cleared by the U.S. FDA]</td></tr><tr><td>[Trial of device that is not approved or cleared by the U.S. FDA]</td></tr><tr><td>[Trial of device that is not approved or cleared by the U.S. FDA]</td></tr><tr><td>[Trial of device that is not approved or cleared by the U.S. FDA]</td></tr><tr><td>[Trial of device that is not approved or cleared by the U.S. FDA]</td></tr><tr><td>[Trial of device that is not approved or cleared by the U.S. FDA]</td></tr><tr><td>[Trial of device that is not approved or cleared by the U.S. FDA]</td></tr><tr><td>[Trial of device that is not approved or cleared by the U.S. FDA]</td></tr><tr><td>[Trial of device that is not approved or cleared by the U.S. FDA]</td></tr><tr><td>[Trial of device that is not approved or cleared by the U.S. FDA]</td></tr><tr><td>[Trial of device that is not approved or cleared by the U.S. FDA]</td></tr><tr><td>[Trial of device that is not approved or cleared by the U.S. FDA]</td></tr><tr><td>[Trial of device that is not approved or cleared by the U.S. FDA]</td></tr><tr><td>[Trial of device that is not approved or cleared by the U.S. FDA]</td></tr><tr><td>[Trial of device that is not approved or cleared by the U.S. FDA]</td></tr><tr><td>[Trial of device that is not approved or cleared by the U.S. FDA]</td></tr><tr><td>[Trial of device that is not approved or cleared by the U.S. FDA]</td></tr><tr><td>[Trial of device that is not approved or cleared by the U.S. FDA]</td></tr><tr><td>[Trial of device that is not approved or cleared by the U.S. FDA]</td></tr><tr><td>[Trial of device that is not approved or cleared by the U.S. FDA]</td></tr><tr><td>[Trial of device that is not approved or cleared by the U.S. FDA]</td></tr><tr><td>[Trial of device that is not approved or cleared by the U.S. FDA]</td></tr><tr><td>[Trial of device that is not approved or cleared by the U.S. FDA]</td></tr><tr><td>[Trial of device that is not approved or cleared by the U.S. FDA]</td></tr><tr><td>[Trial of device that is not approved or cleared by the U.S. FDA]</td></tr><tr><td>[Trial of device that is not approved or cleared by the U.S. FDA]</td></tr><tr><td>[Trial of device that is not approved or cleared by the U.S. FDA]</td></tr><tr><td>[Trial of device that is not approved or cleared by the U.S. FDA]</td></tr><tr><td>[Trial of device that is not approved or cleared by the U.S. FDA]</td></tr><tr><td>[Trial of device that is not approved or cleared by the U.S. FDA]</td></tr><tr><td>[Trial of device that is not approved or cleared by the U.S. FDA]</td></tr><tr><td>[Trial of device that is not approved or cleared by the U.S. FDA]</td></tr><tr><td>[Trial of device that is not approved or cleared by the U.S. FDA]</td></tr><tr><td>[Trial of device that is not approved or cleared by the U.S. FDA]</td></tr><tr><td>[Trial of device that is not approved or cleared by the U.S. FDA]</td></tr><tr><td>[Trial of device that is not approved or cleared by the U.S. FDA]</td></tr><tr><td>[Trial of device that is not approved or cleared by the U.S. FDA]</td></tr><tr><td>[Trial of device that is not approved or cleared by the U.S. FDA]</td></tr><tr><td>[Trial of device that is not approved or cleared by the U.S. FDA]</td></tr><tr><td>[Trial of device that is not approved or cleared by the U.S. FDA]</td></tr><tr><td>[Trial of device that is not approved or cleared by the U.S. FDA]</td></tr><tr><td>[Trial of device that is not approved or cleared by the U.S. FDA]</td></tr><tr><td>[Trial of device that is not approved or cleared by the U.S. FDA]</td></tr><tr><td>[Trial of device that is not approved or cleared by the U.S. FDA]</td></tr><tr><td>[Trial of device that is not approved or cleared by the U.S. FDA]</td></tr><tr><td>[Trial of device that is not approved or cleared by the U.S. FDA]</td></tr><tr><td>[Trial of device that is not approved or cleared by the U.S. FDA]</td></tr><tr><td>[Trial of device that is not approved or cleared by the U.S. FDA]</td></tr><tr><td>[Trial of device that is not approved or cleared by the U.S. FDA]</td></tr><tr><td>[Trial of device that is not approved or cleared by the U.S. FDA]</td></tr><tr><td>[Trial of device that is not approved or cleared by the U.S. FDA]</td></tr><tr><td>[Trial of device that is not approved or cleared by the U.S. FDA]</td></tr><tr><td>[Trial of device that is not approved or cleared by the U.S. FDA]</td></tr><tr><td>[Trial of device that is not approved or cleared by the U.S. FDA]</td></tr><tr><td>[Trial of device that is not approved or cleared by the U.S. FDA]</td></tr><tr><td>[Trial of device that is not approved or cleared by the U.S. FDA]</td></tr><tr><td>[Trial of device that is not approved or cleared by the U.S. FDA]</td></tr><tr><td>[Trial of device that is not approved or cleared by the U.S. FDA]</td></tr><tr><td>[Trial of device that is not approved or cleared by the U.S. FDA]</td></tr><tr><td>[Trial of device that is not approved or cleared by the U.S. FDA]</td></tr><tr><td>[Trial of device that is not approved or cleared by the U.S. FDA]</td></tr><tr><td>[Trial of device that is not approved or cleared by the U.S. FDA]</td></tr><tr><td>[Trial of device that is not approved or cleared by the U.S. FDA]</td></tr><tr><td>[Trial of device that is not approved or cleared by the U.S. FDA]</td></tr><tr><td>[Trial of device that is not approved or cleared by the U.S. FDA]</td></tr><tr><td>[Trial of device that is not approved or cleared by the U.S. FDA]</td></tr><tr><td>[Trial of device that is not approved or cleared by the U.S. FDA]</td></tr><tr><td>[Trial of device that is not approved or cleared by the U.S. FDA]</td></tr><tr><td>[Trial of device that is not approved or cleared by the U.S. FDA]</td></tr><tr><td>[Trial of device that is not approved or cleared by the U.S. FDA]</td></tr><tr><td>[Trial of device that is not approved or cleared by the U.S. FDA]</td></tr><tr><td>[Trial of device that is not approved or cleared by the U.S. FDA]</td></tr><tr><td>[Trial of device that is not approved or cleared by the U.S. FDA]</td></tr><tr><td>[Trial of device that is not approved or cleared by the U.S. FDA]</td></tr><tr><td>[Trial of device that is not approved or cleared by the U.S. FDA]</td></tr><tr><td>[Trial of device that is not approved or cleared by the U.S. FDA]</td></tr><tr><td>EnCoRe MoMS:Engaging Communities to Reduce Morbidity From Maternal Sepsis</td></tr><tr><td>Efficacy and Safety of Lumiracoxib in Patients With Primary Knee Osteoarthritis (OA)</td></tr><tr><td>Study to Evaluate a 13-valent Pneumococcal Conjugate Vaccine in Infants</td></tr><tr><td>Study to Evaluate a 13-valent Pneumococcal Conjugate Vaccine in Infants</td></tr><tr><td>Study to Evaluate the Efficacy, Safety and Tolerability of an Oral Aripiprazole/Escitalopram Combination Therapy in Participants With Major Depressive Disorder (MDD)</td></tr><tr><td>Study to Evaluate the Efficacy, Safety and Tolerability of an Oral Aripiprazole/Escitalopram Combination Therapy in Participants With Major Depressive Disorder (MDD)</td></tr><tr><td>A Study of CAR-GPRC5D in Patients With Relapsed/Refractory Multiple Myeloma or Plasma Cell Leukemia</td></tr><tr><td>Managerial Database II</td></tr><tr><td>Bioequivalence and Wear Study of Mylan Fentanyl Transdermal System 25 µg/h and Mylan Fentanyl Transdermal System</td></tr><tr><td>Thalamic Deep Brain Stimulation for Tourette Syndrome</td></tr><tr><td>Radiation Therapy With or Without Bicalutamide and Goserelin in Treating Patients With Prostate Cancer</td></tr><tr><td>Phase 3 Study of KHK7580</td></tr><tr><td>Phase 3 Study of KHK7580</td></tr><tr><td>Walnut Oral Immunotherapy for Tree Nut Allergy</td></tr><tr><td>Walnut Oral Immunotherapy for Tree Nut Allergy</td></tr><tr><td>Phase I/II Trial of a Malaria Vaccine in Adults Living in the United States of America</td></tr><tr><td>Safety and Efficacy Study of Bimatoprost/Timolol Fixed Combination in Patients With Glaucoma or Ocular Hypertension</td></tr><tr><td>A Parent-Based Intervention to Reduce Sexual Risk Behavior in Adolescents</td></tr><tr><td>Use of Acupuncture In Children With Autistic Spectrum Disorder</td></tr><tr><td>A Study of Gaboxadol in Primary Insomnia</td></tr><tr><td>A Study of Gaboxadol in Primary Insomnia</td></tr><tr><td>A Study of CM310 in Subjects With Moderate to Severe Asthma</td></tr><tr><td>Intravenous Cannulation In Children During Sevoflurane Induction</td></tr><tr><td>A Study of BCMA-directed CAR-T Cells Treatment in Subjects With r/r Multiple Myeloma</td></tr><tr><td>A Study of BCMA-directed CAR-T Cells Treatment in Subjects With r/r Multiple Myeloma</td></tr><tr><td>A Study of BCMA-directed CAR-T Cells Treatment in Subjects With r/r Multiple Myeloma</td></tr><tr><td>Radiation Therapy in Treating Patients With Prostate Cancer</td></tr><tr><td>Radiation Therapy in Treating Patients With Prostate Cancer</td></tr><tr><td>Radiation Therapy in Treating Patients With Stage I, Stage II, or Stage III Prostate Cancer</td></tr><tr><td>Pharmacologic Effects of Darifenacin and Tolterodine on Cardiovascular Parameters in Healthy Subjects</td></tr><tr><td>HIP Fracture Accelerated Surgical TreaTment And Care tracK (HIP ATTACK) Trial</td></tr><tr><td>Vaccine Therapy With or Without Interleukin-2 in Treating Patients With Metastatic Melanoma</td></tr><tr><td>Vaccine Therapy With or Without Interleukin-2 in Treating Patients With Metastatic Melanoma</td></tr><tr><td>Vaccine Therapy With or Without Interleukin-2 in Treating Patients With Metastatic Melanoma</td></tr><tr><td>Vaccine Therapy With or Without Interleukin-2 in Treating Patients With Metastatic Melanoma</td></tr><tr><td>Prevention of Arrhythmia Device Infection Trial (PADIT)</td></tr><tr><td>Combination Chemotherapy in Treating Patients With Advanced Cancer</td></tr><tr><td>Combination Chemotherapy in Treating Patients With Advanced Cancer</td></tr><tr><td>Combination Chemotherapy in Treating Patients With Advanced Cancer</td></tr><tr><td>Combination Chemotherapy in Treating Patients With Advanced Cancer</td></tr><tr><td>Combination Chemotherapy in Treating Patients With Advanced Cancer</td></tr><tr><td>Impact of Non-Commercialism Policy in Seattle Schools</td></tr><tr><td>Oxytocin Suppresses Substance Use Disorders Associated With Chronic Stress</td></tr><tr><td>Non-invasive Quantification of Liver Iron With MRI</td></tr><tr><td>Study of Aripiprazole in the Treatment of Patients With Psychosis Associated With Dementia of the Alzheimer's Type</td></tr><tr><td>Validation of DNA Methylation Biomarkers for Oral Cancer Detection</td></tr><tr><td>Study of AA4500 in the Treatment of Peyronie's Disease</td></tr><tr><td>UCLM802 (Anti-Mesothelin CAR-T) Cell Injection in Patients With Mesothelin-positive Advanced Malignant Solid Tumors</td></tr><tr><td>Exercise in Patients Admitted With Recently Decompensated Heart Failure</td></tr><tr><td>Electrocardiogram Clinical Validation Study</td></tr><tr><td>Effect of Acupuncture Therapy on Dysphagia in Parkinson's Disease</td></tr><tr><td>Early Psychological Intervention After Rape</td></tr><tr><td>Exercise Training After Transcatheter Aortic Valve Implantation</td></tr><tr><td>Effect of Bronchoscopy on the Outcome of Patients With Severe Sepsis With ARDS and Complicated by VAP From Prolonged Ventilation</td></tr><tr><td>Effect of Bronchoscopy on the Outcome of Patients With Severe Sepsis With ARDS and Complicated by VAP From Prolonged Ventilation</td></tr><tr><td>Everolimus in Combination With Cyclosporine Microemulsion in de Novo Renal Transplant Recipients</td></tr><tr><td>Extension Study Investigating the Long-Term Safety and Tolerability of Repeat Doses of FE200486 in Prostate Cancer Patients</td></tr><tr><td>Safety and Immunogenicity of PanBlok Influenza Vaccine in Healthy Adults</td></tr><tr><td>True Functional Restoration and Analgesia in Non-Radicular Low Back Pain</td></tr><tr><td>Phase III Randomized, Double-Blind, Placebo-Controlled Study of Acellular and Whole-Cell Pertussis Vaccines</td></tr><tr><td>Assessment of Oral Health Related Quality of Life After Full Mouth Rehabilitation Under GA</td></tr><tr><td>Radiation Therapy in Treating Patients With Stage II or Stage III Prostate Cancer</td></tr><tr><td>Study of Allogeneic Adipose-Derived Mesenchymal Stem Cells to Treat Post COVID-19 Long Haul Pulmonary Compromise</td></tr><tr><td>A Safety and Efficacy Trial of Dapivirine Vaginal Ring in Africa</td></tr><tr><td>An Eight-Week Study to Evaluate the Efficacy and Safety of SR58611A in Patients With Generalized Anxiety Disorder</td></tr><tr><td>A Study Using Botulinum Toxin Type A in Patients With Axillary Hyperhidrosis</td></tr><tr><td>Renal Impairment Study</td></tr><tr><td>Emotional Freedom Technique (EFT) Effect on Nurses</td></tr><tr><td>Safety and Immunogenicity of Live Attenuated Varicella Vaccine in Healthy Population Aged ≥13 Years Old</td></tr><tr><td>Study to Compare the Efficacy and Safety of Pitavastatin and Simvastatin</td></tr><tr><td>Vaccination of High Risk Breast Cancer Patients</td></tr><tr><td>Clinical Trial of SB-509 in Subjects With Diabetic Neuropathy</td></tr><tr><td>Clinical Trial of SB-509 in Subjects With Diabetic Neuropathy</td></tr><tr><td>The Dynamics of Human Atrial Fibrillation</td></tr><tr><td>The Effect of Time Intervals for Rescue Treatment on Eradication Effect of Helicobacter Pylori Infection</td></tr><tr><td>Assessment of InfraScanner 2000™ in Detecting Subdural and Epidural Hematomas</td></tr><tr><td>Intraoperative Laser Speckle Contrast Imaging of Cerebral Blood Flow</td></tr><tr><td>Assessment of Efficacy and Safety of Tegaserod Treatment and Placebo in Women With Dyspepsia</td></tr><tr><td>Open-label Study to Compare Hospitalization Rates of Schizophrenic Patients Treated With Oral Antipsychotics Versus IM Depot Aripiprazole</td></tr><tr><td>A Study of LY2140023 in Healthy Participants</td></tr><tr><td>A Study of LY2140023 in Healthy Participants</td></tr><tr><td>Morton's Neuroma: Manipulation Versus Steroid Injection</td></tr><tr><td>Safety and Efficacy of Adipose Derived Stem Cells for Chronic Obstructive Pulmonary Disease</td></tr><tr><td>Telerehabilitation Early After Stroke</td></tr><tr><td>Development of Non-invasive Method for Quantifying Vitamin D Levels in the Body Using Spectroscopy</td></tr><tr><td>Retrospective Evaluation of Safety and Efficacy of Daptomycin Used in Patients With Serious Gram-positive Infections</td></tr><tr><td>Precision Cell Immunotherapy Combined With Chemotherapy in Advanced Gastric Cancer</td></tr><tr><td>Establishment of Social Skills Training Group in Adolescents With Autism Spectrum Disorder and Effectiveness Analysis</td></tr><tr><td>Improving Health Outcomes of Migraine Patients Who Present to the Emergency Department</td></tr><tr><td>Efficacy and Safety of Fexofenadine in Mild to Moderate Persistent Asthma</td></tr><tr><td>Controlling Myopia Progression With Soft Contact Lenses</td></tr><tr><td>Recombinant Human Prolactin for Lactation Induction</td></tr><tr><td>Recombinant Human Prolactin for Lactation Induction</td></tr><tr><td>Combination Chemotherapy in Treating Children With Non-Hodgkin's Lymphoma</td></tr><tr><td>Convalescent Plasma in the Treatment of Covid-19</td></tr><tr><td>Comparison of Techniques for Assessing Cardiac Output and Preload in Critically Ill Pediatric Patients</td></tr><tr><td>Safe Mothers, Safe Children Initiative</td></tr><tr><td>Determination of Target of Adequate Partial Neuromuscular Blockade for Electrophysiologic Monitoring During Microvascular Decompression Surgery</td></tr><tr><td>Biological Therapy in Treating Patients With Prostate Cancer</td></tr><tr><td>2-Methoxyestradiol in Treating Patients With Advanced Solid Tumors</td></tr><tr><td>Combination Chemotherapy in Treating Patients With Advanced Colorectal Cancer</td></tr><tr><td>Combination Chemotherapy in Treating Patients With Advanced Colorectal Cancer</td></tr><tr><td>Donor Umbilical Cord Blood Transplant in Treating Patients With Hematologic Cancer</td></tr><tr><td>Clinical Trial to Evaluate the Safety and Efficacy of IM19 CAR-T Cells in Patients With Relapsed and Refractory (R/R) B-cell Acute Lymphoblastic Leukemia</td></tr><tr><td>Human Phototoxicity Test</td></tr><tr><td>Human Phototoxicity Test</td></tr><tr><td>Human Phototoxicity Test</td></tr><tr><td>Spinal Cord Stimulation Research Study</td></tr><tr><td>Safety and Efficacy of Vilazodone in Major Depressive Disorder</td></tr><tr><td>Prevention of Skin Cancer in High Risk Patients After Conversion to a Sirolimus-based Immunosuppressive Protocol</td></tr><tr><td>A Study Using Botulinum Toxin Type A as Headache Prophylaxis for Migraine Patients With Frequent Headaches</td></tr><tr><td>A Comparison of Two Daily Disposable Contact Lenses</td></tr><tr><td>Safety and Efficacy Study of EXC 001 to Improve the Appearance of Scars From Prior Breast Surgery</td></tr><tr><td>Oxycodone/Naloxone (OXN) Combination in Moderate to Severe Non-malignant Pain</td></tr><tr><td>Evaluation of the Relationship Between Neck Pain and Ergonomic Factors in Office Workers</td></tr><tr><td>A Study of AC176 for the Treatment of Metastatic Castration Resistant Prostate Cancer</td></tr><tr><td>Study Evaluating DVS-233 SR In Adult Outpatients With Major Depressive Disorder</td></tr><tr><td>Study Evaluating DVS-233 SR In Adult Outpatients With Major Depressive Disorder</td></tr><tr><td>Comparison of Combination of Beclomethasone Dipropionate and Formoterol Fumarate Versus Single Components Assessed by Knemometry and Urinary Cortisol Measurements in Asthmatic Children</td></tr><tr><td>A Study of the Efficacy and Safety of Topiramate in the Prevention of Migraine</td></tr><tr><td>Clinical Sequencing Project for Metastatic Cancer Patients for Personalized Cancer Clinic.</td></tr><tr><td>Bone Marrow Transplantation in Treating Patients With Hematologic Cancer</td></tr><tr><td>Bone Marrow Transplantation in Treating Patients With Hematologic Cancer</td></tr><tr><td>Efficacy and Safety of BF2.649 in Excessive Daytime Sleepiness (EDS) in Parkinson's Disease</td></tr><tr><td>Concurrent Nab-P/Carboplatin and Thoracic Radiotherapy in Squamous Cell Lung Cancer</td></tr><tr><td>Electrical Stimulation in Patients With Unipolar Major Depression</td></tr><tr><td>ONO-4538 Study in Patients With Advanced Non-Small Cell Lung Cancer</td></tr><tr><td>Study to Evaluate the Safety and Efficacy of ABT-712 in Subjects With Moderate to Severe Chronic Low Back Pain (CLBP)</td></tr><tr><td>Safety and Efficacy of Tegaserod in Opioid-induced Constipation in Patients With Non-cancer Pain.</td></tr><tr><td>Clinical Evaluation of CATS Tonometer Prism</td></tr><tr><td>Antineoplaston Therapy in Treating Patients With Stage III or Stage IV Prostate Cancer</td></tr><tr><td>Cardiovascular Manifestations of COVID-19</td></tr><tr><td>Esomeprazole for Relief of Upper Gastrointestinal Symptoms Associated With Continuous Use of NSAIDs</td></tr><tr><td>Antineoplaston Therapy in Treating Patients With Stage IV Lung Cancer</td></tr><tr><td>Ferric Citrate for the Treatment of Hyperphosphatemia in Patients With Chronic Kidney Disease Undergoing Hemodialysis</td></tr><tr><td>A Phase 3 Study of SPL7013 Gel (VivaGel) for the Treatment of Bacterial Vaginosis</td></tr><tr><td>Safety and Immunogenicity Study of GlaxoSmithKline (GSK) Biologicals' 10-valent Pneumococcal Conjugate Vaccine.</td></tr><tr><td>Efficacy and Safety of Adalimumab in Subjects With Moderate to Severe Chronic Plaque Psoriasis</td></tr><tr><td>Balance Recovery and Training on Fall Prevention in Stroke</td></tr><tr><td>Safety Dermatological Evaluation: Acceptability With Gynecological Follow up - Dermacyd Tina Gel Sweet Flower</td></tr><tr><td>A Phase I Multicenter Trial to Evaluate the Safety and Immunogenicity of HIV-1 Recombinant Envelope Glycoprotein gp160</td></tr><tr><td>A Randomized, Double Blind, Placebo-Controlled, Multi-Center Phase III Study in Men With Acquired Hypogonadotropic Hypogonadism to Compare Changes in Testosterone and Sperm Concentration Following Treatment With 12.5 mg or 25 mg Androxal or AndroGel 1.62%</td></tr><tr><td>Effect of LY2062430 on the Progression of Alzheimer's Disease</td></tr><tr><td>Prevention of Irinotecan Induced Diarrhea by Probiotics</td></tr><tr><td>Insulin-based Strategies to Prevent Hypoglycemia During Exercise</td></tr><tr><td>Efficacy and Safety Study of TissueGene-C to Degenerative Arthritis</td></tr><tr><td>Efficacy and Safety Study of TissueGene-C to Degenerative Arthritis</td></tr><tr><td>Metabolic Syndrome in Childhood Cancer Survivors</td></tr><tr><td>Carbohydrates Under Target for Type 1 Diabetes Management</td></tr><tr><td>Validation Study on RENEW's Aingeal at KK Women's and Children's Hospital</td></tr><tr><td>Elobixibat for Chronic Constipation Without Defecation Desire</td></tr><tr><td>Clinical Study to Test the Efficacy and Safety of Adapalene, 0.1%</td></tr><tr><td>A Crossover Study to Assess the Bioequivalence of Hydrocodone Bitartrate Extended-Release Tablet</td></tr><tr><td>Imaging Tau in Alzheimer's Disease and Normal Aging</td></tr><tr><td>Survey Study and Records Review of Treatment Outcomes in Freeman-Sheldon Syndrome</td></tr><tr><td>Study of an Investigational Glucose Meter System</td></tr><tr><td>Xenon and Cooling Therapy in Babies at High Risk of Brain Injury Following Poor Condition at Birth</td></tr><tr><td>Study of 4-Demethylcholesteryloxycarbonylpenclomedine (DM-CHOC-PEN) in Patients With Advanced Cancer</td></tr><tr><td>Outcomes of Stem Cells for Cerebral Palsy</td></tr><tr><td>Vaccine Therapy in Treating Patients With Chronic Myelogenous Leukemia</td></tr><tr><td>Fetal Endoscopic Tracheal Occlusion (FETO) Trial for Congenital Diaphragmatic Hernia (CDH)</td></tr><tr><td>A Study of TAK-951 in Healthy Adults</td></tr><tr><td>COVID-19 Antibody Responses In Cystic Fibrosis</td></tr><tr><td>COVID-19 Antibody Responses In Cystic Fibrosis</td></tr><tr><td>COVID-19 Antibody Responses In Cystic Fibrosis</td></tr><tr><td>The Plecanatide Irritable Bowel Syndrome With Constipation Study (IBS-C)</td></tr><tr><td>Memantine in Patients With Chronic Glaucoma</td></tr><tr><td>A Multicenter Study to Evaluate the Efficacy and Safety of PEP005 (Ingenol Mebutate) Gel When Used to Treat Actinic Keratoses (AKs) on the Non Head Locations</td></tr><tr><td>Fluticasone Furoate Nasal Spray Versus Oral Fexofenadine</td></tr><tr><td>A Study on Efficacy and Safety of Topiramate in the Treatment of Patients With Obesity</td></tr><tr><td>Efficacy and Safety Study of Abatacept to Treat Lupus Nephritis</td></tr><tr><td>Ivabradine to Prevent Anthracycline-induced Cardiotoxicity</td></tr><tr><td>Treatment for Symptomatic Peripheral Neuropathy in Patients With Diabetes</td></tr><tr><td>ToleroMune Grass Follow on Study</td></tr><tr><td>Modulation of Sensory Acuity With Transcranial Magnetic Stimulation (TMS)</td></tr><tr><td>Trial of Linaclotide in Patients With Irritable Bowel Syndrome With Constipation (IBS-C)</td></tr><tr><td>Laparoscopic Versus Open Appendectomy</td></tr><tr><td>Laparoscopic Versus Open Appendectomy</td></tr><tr><td>Ceftazidime-Avibactam Compared With Doripenem Followed by Oral Therapy for Hospitalized Adults With Complicated UTIs (Urinary Tract Infections)</td></tr><tr><td>A Study of Olumacostat Glasaretil Gel in Subjects With Acne Vulgaris</td></tr><tr><td>Pulmonary Rehabilitation Before Lung Cancer Resection</td></tr><tr><td>A Study of Paliperidone Palmitate 6-Month Formulation</td></tr><tr><td>Neoadjuvant Treatment of Breast Cancer</td></tr><tr><td>A Study Measuring Asthma Control In Pediatric And Adolescent Subjects Whose Asthma Is Worsened By Activity Or Exercise</td></tr><tr><td>Controlled Study of ONO-8025 (KRP-197) in Patients With Overactive Bladder in Japan</td></tr><tr><td>Protocol To Evaluate Patient Measurements After Ultrasonic Treatment</td></tr><tr><td>Safety and Immune Response to a Live-Attenuated Respiratory Syncytial Virus (RSV) Vaccine in RSV-Seronegative Infants and Children</td></tr><tr><td>A Pharmacokinetic Evaluation Study in Healthy Volunteers</td></tr><tr><td>Combination Chemotherapy Plus Radiation Therapy in Treating Patients With Stage III Non-small Cell Lung Cancer</td></tr><tr><td>Safety, Dose Tolerance, Pharmacokinetics, and Pharmacodynamics Study of CPX-POM in Patients With Advanced Solid Tumors</td></tr><tr><td>Human Photoallergy Test</td></tr><tr><td>Anecortave Acetate Risk-Reduction Trial (AART)</td></tr><tr><td>Online Positive Emotion Skills Intervention for Symptoms of Depression</td></tr><tr><td>Pilot Clinical Study of the LRS ThermoSuit™ System in Post Arrest Patients</td></tr><tr><td>Optimization of Spectroscopic Imaging Parameters and Procedures for Prostate at 3 Tesla Using an External Probe</td></tr><tr><td>Efficacy of Esomeprazole in Patients With Frequent Heartburn</td></tr><tr><td>Varenicline for Alcohol Dependence</td></tr><tr><td>Study of Theliatinib (HMPL-309) in Patients With Advanced Solid Tumor</td></tr><tr><td>Compassionate Use of Omegaven IV Fat Emulsion</td></tr><tr><td>Compassionate Use of Omegaven IV Fat Emulsion</td></tr><tr><td>Transoral Gastric Volume Reduction as an Intervention for Weight Management</td></tr><tr><td>Efficacy, Safety, and Tolerability of Eluxadoline in the Treatment of Participants With Diarrhea-Predominant Irritable Bowel Syndrome (IBS-d)</td></tr><tr><td>Comparative Study of Ceftaroline vs. Vancomycin Plus Aztreonam in Adult Subjects With Complicated Skin Infections</td></tr><tr><td>Acupressure for Constipation in the Elderly</td></tr><tr><td>Evaluating the Safety and Immune Response to Two Admixtures of a Tetravalent Dengue Virus Vaccine</td></tr><tr><td>Evaluation on Standardized Circuits of the Interest of a Robotic Module of Assistance to the Driving</td></tr><tr><td>Intravenous Tedisamil in the Rapid Conversion of Atrial Fibrillation or Flutter to Normal Sinus Rhythm in Female Subjects</td></tr><tr><td>Treatment of Breast Fibroadenoma With High Intensity Focused Ultrasound (HIFU)</td></tr><tr><td>Treatment of Breast Fibroadenoma With High Intensity Focused Ultrasound (HIFU)</td></tr><tr><td>Treatment of Breast Fibroadenoma With High Intensity Focused Ultrasound (HIFU)</td></tr><tr><td>Phase I Study of the Volitinib (HMPL-504) in Patients With Advanced Solid Tumors</td></tr><tr><td>Significance of Regional Ventriculo-arterial Coupling in Patients With Chronic Heart Failure</td></tr><tr><td>HIV-1 Vaccine Test in Uninfected Adult Volunteers</td></tr><tr><td>HIV-1 Vaccine Test in Uninfected Adult Volunteers</td></tr><tr><td>Mindfulness Training for Smoking Cessation</td></tr><tr><td>Safety and Efficacy Study of RT001 to Treat Moderate to Severe Lateral Canthal Lines</td></tr><tr><td>Safety and Efficacy Study of RT001 to Treat Moderate to Severe Lateral Canthal Lines</td></tr><tr><td>Safety and Efficacy Study of RT001 to Treat Moderate to Severe Lateral Canthal Lines</td></tr><tr><td>Trial of Adjuvant Chemotherapy for Gastric Cancer</td></tr><tr><td>The Safety and Immunogenicity Evaluation of Live Attenuated Influenza Vaccine</td></tr><tr><td>Biological Therapy in Treating Patients With Metastatic Melanoma</td></tr><tr><td>Biological Therapy in Treating Patients With Metastatic Melanoma</td></tr><tr><td>Effect of Itopride, on Symptoms of Functional Dyspepsia, Such as Indigestion, Bloating, Inability to Finish a Meal</td></tr><tr><td>A Study of LY3050258 in Healthy Participants</td></tr><tr><td>The Energy Balance Study</td></tr><tr><td>Brain Circuits in Schizophrenia and Smoking</td></tr><tr><td>Childhood Obesity Treatment: A Maintenance Approach</td></tr><tr><td>Combination Chemotherapy in Treating Young Patients With Newly Diagnosed Acute Lymphoblastic Leukemia</td></tr><tr><td>Efficacy of New Protocols in the Treatment of Upper Limb Dysfunctions in Patients With Cerebral Palsy</td></tr><tr><td>Treatment of Laryngotracheal Stenosis Using Mesenchymal Stem Cells</td></tr><tr><td>Bioequivalence Study of Once Daily PMR Compared to Twice Daily Cilostazol IR Tablets in Healthy Volunteers</td></tr><tr><td>OTO-201 for the Treatment of Middle Ear Effusion in Pediatric Subjects Requiring Tympanostomy Tube Placement</td></tr><tr><td>Talar Avascular Necrosis: Surgical Angiogenesis vs. Core Decompression</td></tr><tr><td>Oxytocin Treatment of Alcohol Dependence</td></tr><tr><td>BMS-214662 in Treating Patients With Advanced Solid Tumors</td></tr><tr><td>Fetoscopic Endoluminal Tracheal Occlusion</td></tr><tr><td>Assess Safety and Efficacy of Vilaprisan in Subjects With Uterine Fibroids</td></tr><tr><td>Mastering Hospital Antimicrobial Resistance and Its Spread Into the Community</td></tr><tr><td>Evaluation of the Efficacy of Topical Ophthalmic Steroids in a Modified Conjunctival Allergen Challenge (CAC) Model</td></tr><tr><td>Sleep Deprivation and Energy Balance</td></tr><tr><td>Efficacy (Induction of Response/Remission) and Safety Study in Patients With Moderate to Severe Crohn's Disease</td></tr><tr><td>Efficacy and Safety of Ozenoxacin 1% Cream Versus Placebo in the Treatment of Patients With Impetigo</td></tr><tr><td>A Study Comparing the Efficacy and Safety of Etrolizumab With Adalimumab and Placebo in Participants With Moderate to Severe Ulcerative Colitis (UC) in Participants Naive to Tumor Necrosis Factor (TNF) Inhibitors</td></tr><tr><td>Efficacy, Safety, and Tolerability Study of Sotagliflozin as Adjunct Therapy in Adult Patients With Type 1 Diabetes Mellitus Who Have Inadequate Glycemic Control With Insulin Therapy</td></tr><tr><td>Study of Indomethacin Capsules to Treat Pain Following Bunionectomy</td></tr><tr><td>A Study of the Safety and Efficacy of Pimavanserin in Patients With Parkinson's Disease Psychosis</td></tr><tr><td>Optical Coherence Tomography (OCT) Data Collection Study</td></tr><tr><td>Evaluation of Safety and Efficacy of Deoxycholic Acid Injection (ATX-101) in the Reduction of Submental Fat</td></tr><tr><td>Doripenem in the Treatment of Complicated Lower Urinary Tract Infection or Pyelonephritis</td></tr><tr><td>Kefir and Metabolic Syndrome</td></tr><tr><td>Efficacy and Safety of Eslicarbazepine Acetate (BIA 2-093) in Acute Manic Episodes Associated With Bipolar I Disorder</td></tr><tr><td>A Study to Evaluate the Safety of Rituximab Retreatment in Subjects With Systemic Lupus Erythematosus</td></tr><tr><td>Smoking Cessation Program in the Preadmission Clinic</td></tr><tr><td>Dermatological Evaluation of Topical Compatibility, Primary Skin Irritability, Accumulated Skin Irritability, and Dermal Sensitisation</td></tr><tr><td>Trial of Anti-PSMA Designer T Cells in Advanced Prostate Cancer After Non-Myeloablative Conditioning</td></tr><tr><td>Testing the Impact of Smartphone-based Messaging to Support Young Adult Smoking Cessation</td></tr><tr><td>The Effect of Breastfeeding Support System</td></tr><tr><td>Treatment Effect According to Timing of Administration of DWP14012 40 mg</td></tr><tr><td>Utility of PCD Diagnostics to Improve Clinical Care</td></tr><tr><td>Mavrilimumab to Reduce Progression of Acute Respiratory Failure in COVID-19 Pneumonia and Systemic Hyper-inflammation</td></tr><tr><td>A Pharmacokinetics and Pharmacodynamics Study Under Fasting and Fed Conditions With Paliperidone Extended-release and Immediate-release Formulations</td></tr><tr><td>Study to Assess the Inhibition of Plaque Formation in Subjects With a Gingival Index ≤1.5</td></tr><tr><td>Prucalopride Versus Placebo in Gastroparesis</td></tr><tr><td>Putting Electroencephalography (EEG) in the Emergency Department</td></tr><tr><td>Efficacy and Safety of 14-day Concomitant Therapy for Helicobacter Pylori Infection</td></tr><tr><td>Dry Needling for Cervicogenic Headache</td></tr><tr><td>A Clinical Trial to Evaluate a Recombinant Staphylococcus Aureus Vaccine (Escherichia Coli) in Healthy Adults</td></tr><tr><td>Telephone Administered Psychotherapy for the Treatment of Depression for Veterans in Rural Areas</td></tr><tr><td>Study Comparing the Efficacy and Safety of ABT-874 to Etanercept and Placebo in Subjects With Moderate to Severe Chronic Plaque Psoriasis</td></tr><tr><td>NKG2D-based CAR T-cells Immunotherapy for Patient With r/r NKG2DL+ Solid Tumors</td></tr><tr><td>Combination Chemotherapy in Treating Patients With Liver Metastases From Colorectal Cancer</td></tr><tr><td>A Study to Compare the Pharmacokinetics and Safety of a Fixed Dose Combination of Fimasartan/Amlodipine/Rosuvastatin</td></tr><tr><td>Endoscopic Peroral Myotomy for Treatment of Achalasia</td></tr><tr><td>Delphinus SoftVue™ ROC Reader Study</td></tr><tr><td>A Study Evaluating the Efficacy and Impact on Health-related Quality of Life of Levocetirizine in Adults With Seasonal Allergic Rhinitis</td></tr><tr><td>A Study to Evaluate the Safety and Immunogenicity of GSK Biologicals' Seasonal Influenza Vaccine in Adults</td></tr><tr><td>Effect of Ultrasound-guided Transversus Abdominis Plane Block After Laparoscopic Bariatric Surgery</td></tr><tr><td>Efficacy and Safety of Dexlansoprazole MR and Lansoprazole on Healing of Erosive Esophagitis</td></tr><tr><td>Interaction of Apelin and Angiotensin in the Human Forearm Circulation</td></tr><tr><td>Topical Ophthalmic AGN-195263 for the Treatment of Evaporative Dry Eye</td></tr><tr><td>A Study to Evaluate Long-term Outcomes Following Treatment With ABT-450/Ritonavir/ABT-267 (ABT-450/r/ABT-267) and ABT-333 With or Without Ribavirin (RBV) in Adults With Genotype 1 Chronic Hepatitis C Virus (HCV) Infection</td></tr><tr><td>Efficacy and Safety Study for the Treatment of Dysfunctional Uterine Bleeding</td></tr><tr><td>Denileukin Diftitox in Treating Patients With Non-Hodgkin's Lymphoma</td></tr><tr><td>Evaluate Efficacy and Safety of X0002 in Treatment of Knee Osteoarthritis</td></tr><tr><td>Pharmacodynamic Bioequivalence of Metered Dose Inhalers of Albuterol Sulfate in Patients With Stable Mild Asthma</td></tr><tr><td>Efficacy and Safety of LEO 43204 in Field Treatment of Actinic Keratosis on Balding Scalp Including 12-month Follow-up</td></tr><tr><td>A Study of LY2940680 in Healthy Participants</td></tr><tr><td>Pancreatic Cyst Fluid Glucose: New Armamentarium in the Diagnosis of Mucinous Pancreatic Cystic Lesion</td></tr><tr><td>A Study of IBI351 in Healthy Subjects</td></tr><tr><td>Anti-CD19 Chimeric Antigen Receptor (CAR)-Transduced T Cell Therapy for Patients With B Cell Malignancies</td></tr><tr><td>Autologous Cell Suspension Grafting Using ReCell in Vitiligo and Piebaldism Patients</td></tr><tr><td>AZD9668 Relative Bioavailability</td></tr><tr><td>Safety and Effectiveness of AZLI (an Inhaled Antibiotic) in Adults With Non-Cystic Fibrosis Bronchiectasis</td></tr><tr><td>A Study of Zolpidem Tartrate Sublingual Tablet in Adult Patients With Insomnia</td></tr><tr><td>Effectiveness of Vyvanse Compared to Concerta in Adolescents With Attention-deficit/Hyperactivity Disorder</td></tr><tr><td>Combination Chemotherapy in Treating Patients With Metastatic Colorectal Cancer</td></tr><tr><td>A Study of JR-141 in Patients With Mucopolysaccharidosis II</td></tr><tr><td>Efficacy of Bifeprunox in Patients With Schizophrenia</td></tr><tr><td>Safety and Immunogenicity of a Commercially Available Influenza Vaccine (Formulation 2006/2007) When Administered to Subjects 18 Years of Age or Older</td></tr><tr><td>Cohort Study of Chronic Heart Failure</td></tr><tr><td>A Randomised Efficacy Study of Combination Antimalarials to Treat Uncomplicated Malaria</td></tr><tr><td>Yellow 560 Microscope for Intraoperative Visualization of Fluorescein Stained Intracranial Lesions</td></tr><tr><td>Comparison of Three Methods of Hemoglobin Monitoring</td></tr><tr><td>Studying Biomarkers in Samples From Younger Patients With Wilms Tumor</td></tr><tr><td>Effectiveness of Levonorgestrel-intrauterine System (LNG-IUS) Versus Depot Medroxyprogesterone Acetate (DMPA) in Treatment of Pelvic Pain in Clinically Diagnosed Endometriotic Patients</td></tr><tr><td>Evaluating the Safety and Immune Response to a Single Dose of a Respiratory Syncytial Virus (RSV) Vaccine in RSV-Seronegative Infants and Children</td></tr><tr><td>Ocular Hypertension Treatment Study (OHTS)</td></tr><tr><td>Determinants of Compliance With Glaucoma Therapy</td></tr><tr><td>The Effect of Perioperative Lidocaine Infusion on Neutrophil Extracellular Trapping</td></tr><tr><td>The Effect of Related Blood Markers on Diabetic Peripheral Neuropathy</td></tr><tr><td>Dichotic Listening as a Predictor of Medication Response in Depression</td></tr><tr><td>Combination Chemotherapy in Treating Patients With Non-Hodgkin's Lymphoma or Acute Lymphocytic Leukemia</td></tr><tr><td>Study Evaluating Tigecycline Versus Ceftriaxone In Complicated Intra-Abdominal Infections & Community Acquired Pneumonia</td></tr><tr><td>Effect of Melatonin on Sleep Disturbances in Patients With Parkinson's Disease</td></tr><tr><td>Treatment of Acute Lymphoblastic Leukemia in Children</td></tr><tr><td>A Study of RD14-01 in Patients With Advanced Solid Tumors</td></tr><tr><td>Drug Interaction Study</td></tr><tr><td>Bioavailability of Levonorgestrel and Ethinyl Estradiol Tablets 15.0 mg/0.03 mg With Regards to Reference Product</td></tr><tr><td>Safety and Efficacy of Palonosetron IV to Prevent Postoperative Nausea and Vomiting in Pediatric Patients</td></tr><tr><td>A Phase II Study to Assess Changes in Physical Function in Elderly Patients With Chronic Anemia</td></tr><tr><td>A Study of Patupilone in Patients With Advanced Solid Tumors and Varying Degrees of Hepatic Function</td></tr><tr><td>Candonilimab Plus Bevacizumab for Patients With Advanced HCC Who Progressed on A+T</td></tr><tr><td>Rehabilitation of Facial Emotion Recognition in Alzheimer's Disease</td></tr><tr><td>Sun Protection Factor Assay</td></tr><tr><td>Sun Protection Factor Assay</td></tr><tr><td>Sun Protection Factor Assay</td></tr><tr><td>Sun Protection Factor Assay</td></tr><tr><td>Sun Protection Factor Assay</td></tr><tr><td>Sun Protection Factor Assay</td></tr><tr><td>Sun Protection Factor Assay</td></tr><tr><td>Sun Protection Factor Assay</td></tr><tr><td>Sun Protection Factor Assay</td></tr><tr><td>Sun Protection Factor Assay</td></tr><tr><td>Sun Protection Factor Assay</td></tr><tr><td>Sun Protection Factor Assay</td></tr><tr><td>Sun Protection Factor Assay</td></tr><tr><td>Modified Melanoma Vaccine for High Risk or Low Residual Disease Patients</td></tr><tr><td>A Study to Evaluate the Safety and Immune Responses to Fluzone® Vaccination</td></tr><tr><td>Liraglutide in Type 1 Diabetes</td></tr><tr><td>Radiation Therapy Plus Combination Chemotherapy in Treating Children With Medulloblastoma</td></tr><tr><td>Evaluation of COPD Co-Pilot</td></tr><tr><td>Pharmacokinetics and Safety in Healthy Volunteers</td></tr><tr><td>Hypofractionation With Simultaneous Integrated Boost for Early Breast Cancer</td></tr><tr><td>Bioequivalency Study of Oxcarbazepine 600 mg Tablets Under Fed Conditions</td></tr><tr><td>Trial of Maraviroc (UK-427,857) in Combination With Optimized Background Therapy Versus Optimized Background Therapy Alone for the Treatment of HIV-1 Infected Subjects</td></tr><tr><td>Local Anesthetic Response in Ehlers-Danlos Syndrome (EDS) and Healthy Volunteers</td></tr><tr><td>Study of INS365 Ophthalmic Solution in Subjects With Dry Eye Disease</td></tr><tr><td>Mediterranean Diet and the Metabolic Syndrome</td></tr><tr><td>Phase 3 Efficacy and Safety Study of CD07805/47 Topical Gel in Subjects With Facial Erythema Associated With Rosacea</td></tr><tr><td>Selenium Supplementation of Patients With Cirrhosis</td></tr><tr><td>Selenium Supplementation of Patients With Cirrhosis</td></tr><tr><td>Visceral Manifold Study for the Repair of Thoracoabdominal Aortic Aneurysms</td></tr><tr><td>Study of Milnacipran for the Treatment of Fibromyalgia</td></tr><tr><td>A Comparison of Two Color Contact Lenses in Habitual Clear Contact Lens Wearers</td></tr><tr><td>Intravitreal Bevacizumab for Proliferative Diabetic Retinopathy</td></tr><tr><td>Low-Level Laser Therapy for Prevention of Oral Mucositis</td></tr><tr><td>Preventing Suicide Among Sexual and Gender Diverse Young Adults in Primary Care in Texas</td></tr><tr><td>Safety Study of Increasing Doses of CKD-516 in Patients With Advanced Solid Cancers</td></tr><tr><td>Ramipril 10 mg Capsule in Healthy Subjects Under Fasting Conditions</td></tr><tr><td>Prevention of Seasonal Affective Disorder</td></tr><tr><td>Aripiprazole, Abilify Maintena Collaborative Clinical Protocol</td></tr><tr><td>Axillary Reverse Mapping</td></tr><tr><td>Combination Chemotherapy in Treating Patients With Advanced Solid Tumors</td></tr><tr><td>Combination Chemotherapy in Treating Patients With Advanced Solid Tumors</td></tr><tr><td>Combination Chemotherapy in Treating Patients With Advanced Solid Tumors</td></tr><tr><td>Combination Chemotherapy in Treating Patients With Advanced Solid Tumors</td></tr><tr><td>Combination Chemotherapy in Treating Patients With Advanced Solid Tumors</td></tr><tr><td>Combination Chemotherapy in Treating Patients With Advanced Solid Tumors</td></tr><tr><td>Clinical Study of Aneurysm Exclusion</td></tr><tr><td>Insulin Resistance in Non-alcoholic Fatty Liver Disease</td></tr><tr><td>Renal Denervation in Patients With Refractory Hypertension</td></tr><tr><td>Renal Denervation in Patients With Refractory Hypertension</td></tr><tr><td>The Effect of High Frequency Oscillation on Biological Markers of Lung Injury</td></tr><tr><td>Safety and Efficacy Study of NatrOVA Creme Rinse - 1% and NIX Creme Rinse in Subjects 6 Months or Older With Head Lice</td></tr><tr><td>Orthotic Use for Chronic Low Back Pain</td></tr><tr><td>Study Evaluating Vaccine in Adults With HIV</td></tr><tr><td>Canadian SCAD Study</td></tr><tr><td>Lycopene in Preventing Prostate Cancer in Healthy Participants</td></tr><tr><td>A Study of Disease Progression in Participants With Geographic Atrophy Secondary to Age-Related Macular Degeneration</td></tr><tr><td>Efficacy and Safety of IDP-121 and IDP-121 Vehicle Lotion in the Treatment of Acne Vulgaris</td></tr><tr><td>Lymphedema Prevention in Breast Cancer</td></tr><tr><td>Acupuncture for Lumbar Spinal Stenosis</td></tr><tr><td>Study of OTO-104 in Subjects With Unilateral Meniere's Disease</td></tr><tr><td>Regulation of Optic Nerve Head Blood Flow During Combined Changes in Intraocular Pressure and Arterial Blood Pressure</td></tr><tr><td>Regulation of Optic Nerve Head Blood Flow During Combined Changes in Intraocular Pressure and Arterial Blood Pressure</td></tr><tr><td>Safety and Efficacy of GX-188E DNA Therapeutic Vaccine Administered by Electroporation After Observation</td></tr><tr><td>A Study of Ad26.COV2.S in Adults (COVID-19)</td></tr><tr><td>Safety and Efficacy Clinical Study of Severe Hemophilia B Treatment With KL001</td></tr><tr><td>GET Living: Graded Exposure Treatment for Children and Adolescents With Chronic Pain</td></tr><tr><td>Glycaemic and Insulinaemic Responses After Consumption of FOS.</td></tr><tr><td>A New Drug for Benign Prostatic Hyperplasia (BPH) Compared With Placebo</td></tr><tr><td>A Randomized Trial to Study Combined Pulsed Dye Laser and Rapamycin Treatment of Port Wine Stain Birthmarks.</td></tr><tr><td>The Evaluation of Pulse: A Mobile Health App and Teen Pregnancy Prevention Program</td></tr><tr><td>Safety and Performance Study of Large Hole Vascular Closure Device</td></tr><tr><td>Safety and Performance Study of Large Hole Vascular Closure Device</td></tr><tr><td>A Study of Aripiprazole in Patients With Bipolar I Disorder With a Major Depressive Episode</td></tr><tr><td>Efficacy and Safety of Kefir Whey Postbiotics</td></tr><tr><td>Combination Chemotherapy in Treating Patients With Metastatic or Unresectable Solid Tumors</td></tr><tr><td>Prevention of Gestational Diabetes</td></tr><tr><td>The Influence of Interactive Media on Child Development in Children</td></tr><tr><td>Safety and Efficacy Evaluation of Topical AL-60371 Otic Suspension, 0.3% in the Treatment of Acute Otitis Externa</td></tr><tr><td>Study of AGB101 in Mild Cognitive Impairment Due to Alzheimer's Disease</td></tr><tr><td>Protocol for Women at Increased Risk of Developing Breast Cancer</td></tr><tr><td>Protocol for Women at Increased Risk of Developing Breast Cancer</td></tr><tr><td>To Evaluate the Efficacy and Safety of ADVAGRAF® After Treatment With a Tacrolimus in New Liver Transplant Recipients</td></tr><tr><td>The Evaluation of Orange Peel Fermentation on Body Fat Lowering Efficacy in Adults</td></tr><tr><td>Pharmacokinetic Study of Livalo® Fixed Combination Drug in Healthy Subjects</td></tr><tr><td>IMPENDIA- PEN VS Dianeal Only Improved Metabolic Control In Diabetic CAPD and APD Patients</td></tr><tr><td>LILRB4 STAR-T Cells in the Treatment of Relapsed/Refractory Acute Myeloid Leukemia</td></tr><tr><td>Efficacy Study of Nebulized TD-4208 for Chronic Obstructive Pulmonary Disease (COPD)</td></tr><tr><td>Comparison of NN1250 With Insulin Glargine in Subjects With Type 2 Diabetes</td></tr><tr><td>Comparison of NN1250 With Insulin Glargine in Subjects With Type 2 Diabetes</td></tr><tr><td>Normative Data of Brain Network Activation in Adolescents and Young Adults</td></tr><tr><td>An AI Platform Integrating Imaging Data and Models, Supporting Precision Care Through Prostate Cancer's Continuum</td></tr><tr><td>A Study of ARRY-334543 in Patients With Advanced Cancer</td></tr><tr><td>Radiation Therapy After Surgery in Treating Women With Early Stage Breast Cancer</td></tr><tr><td>EN3835 for the Treatment of Edematous Fibrosclerotic Panniculopathy (Commonly Known as Cellulite)</td></tr><tr><td>Restoration of Permanent Molars Affected With (MIH) Using Composite Restorations or Preformed Metal Crowns</td></tr><tr><td>Autologous Bone Marrow-Derived Stem Cells Transplantation For Retinitis Pigmentosa</td></tr><tr><td>A Study of Istradefylline (KW-6002) for the Treatment of Parkinson's Disease</td></tr><tr><td>Dapagliflozin Evaluation in Patients With Inadequately Controlled Type 1 Diabetes</td></tr><tr><td>Study of Different Doses of a Novel Treatment for Onychomycosis</td></tr><tr><td>Renal Denervation in Treatment Resistant Hypertension</td></tr><tr><td>Efficacy and Safety of Diclofenac Sodium Gel in Knee Osteoarthritis</td></tr><tr><td>Value of Liquid Potassium Magnesium Citrate in Controlling Hypertension</td></tr><tr><td>Bacterial Lysate In Preventing Asthma</td></tr><tr><td>DAILIES® AquaComfort Plus® Multifocal (MF) - Comparative Assessment of Visual Performance</td></tr><tr><td>A Study in Erectile Dysfunction</td></tr><tr><td>Gut Microbiota Pilot Study</td></tr><tr><td>A Rehabilitation Tool to Determine Patient's Stay in Hospital After Joint Replacement</td></tr><tr><td>Antineoplaston Therapy in Treating Patients With Recurrent or Stage IV Lung Cancer</td></tr><tr><td>A Double-Blind, Placebo-Controlled Study With Open-Label Follow-Up To Determine the Safety and Efficacy of r-HuEPO in AIDS Patients With Anemia Induced by Their Disease and AZT Therapy</td></tr><tr><td>Co-administration of Olodaterol Respimat® and Tiotropium Handihaler®</td></tr><tr><td>Mobile Health Solutions for Behavioral Skill Implementation Through Homework</td></tr><tr><td>Study in Stabilized Schizophrenic Patients to Evaluate the Pharmacokinetics of Risperidone and 9-Hydroxy (OH)-Risperidone When Risperidone is Administered From a Polyurethane Implant</td></tr><tr><td>An Open Label, Non-Comparative, Multicenter, Phase III Trial of the Efficacy, Safety and Toleration of Voriconazole in the Primary or Secondary Treatment of Invasive Fungal Infections</td></tr><tr><td>Core Stabilization Exercises in Stroke</td></tr><tr><td>Health Effects of Consuming Olive Pomace Oil</td></tr><tr><td>Evaluation of Satisfaction Regarding Patient's Management of Ocular Surface Diseases</td></tr><tr><td>Alicaforsen (ISIS 2302) in Patients With Active Crohn's Disease</td></tr><tr><td>Epidemiology of Venous Thromboembolism</td></tr><tr><td>QuitFast: Evaluating Transcranial Magnetic Stimulation as a Tool to Reduce Smoking Directly Following a Quit Attempt</td></tr><tr><td>PS-341 in Treating Women With Metastatic Breast Cancer</td></tr><tr><td>Safety and Efficacy of Phenylephrine 2.5%-Tropicamide 1% Microdose Ophthalmic Solution for Pupil Dilation</td></tr><tr><td>Gabapentin Treatment of Cannabis Dependence</td></tr><tr><td>Study Comparing the Safety and Efficacy of IDP-120 Gel and IDP-120 Vehicle Gel in the Treatment of Acne Vulgaris</td></tr><tr><td>Combination Chemotherapy Plus Radiation Therapy in Treating Patients With Stage III or Stage IV Endometrial Cancer</td></tr><tr><td>Safety and Efficacy of the ZoMaxx™ Drug-Eluting Stent System in Coronary Arteries</td></tr><tr><td>Influence of a Prematuration Culture With a Phosphodiesterase-3 Inhibitor (PDE3-I) on Embryonic Aneuploidy Rate and Developmental Potential</td></tr><tr><td>The Interaction Between Oxytocin and Serotonin</td></tr><tr><td>Peripheral Stem Cell Transplantation Plus Combination Chemotherapy in Treating Patients With Multiple Myeloma</td></tr><tr><td>Expert Statements Concerning the Tapering of Oral Corticosteroids (OCS) for the Treatment of Asthma</td></tr><tr><td>Couple HOPES (Helping Overcome PTSD and Enhance Satisfaction)</td></tr><tr><td>DHA Supplementation and Pregnancy Outcome</td></tr><tr><td>Outpatient Control-to-Range: System and Monitoring Testing</td></tr><tr><td>Efficacy and Safety Study of SPD489 in Combination With an Antidepressant in the Treatment of Adults With Major Depressive Disorder</td></tr><tr><td>Ultrasound-Guided Adductor Canal Block for Total Knee Arthroplasty Surgery</td></tr><tr><td>A Study of Xeloda (Capecitabine) in Patients With Advanced and/or Metastatic Colorectal Cancer</td></tr><tr><td>Comparative Study of AzaSite Plus Compared to AzaSite Alone and Dexamethasone Alone to Treat Subjects With Blepharoconjunctivitis</td></tr><tr><td>Efficacy and Safety Study of SHP647 as Induction Therapy in Participants With Moderate to Severe Ulcerative Colitis</td></tr><tr><td>Perceptions of Their Own Body and of the Body of Their Child Among Young Mothers With Anorexia Nervosa</td></tr><tr><td>Sentinel Lymph Node Biopsy for Cutaneous Squamous Cell Carcinoma of the Head and Neck</td></tr><tr><td>Phase I/II Pilot Study of Mixed Chimerism to Treat Hemoglobinopathies</td></tr><tr><td>Temozolomide in Treating Patients With Recurrent Oligodendroglial Tumors</td></tr><tr><td>Functional Assessment in Liver Transplantation</td></tr><tr><td>Ph3 Safety/Efficacy Study of Rolapitant for the Prevention of CINV in Subjects Receiving Highly Emetogenic Chemotherapy</td></tr><tr><td>A Relative Bioavailability Study of Metformin HCl 500 mg ER Tablets Under Fasting Conditions</td></tr><tr><td>Efficacy and Safety of Combination of Brompheniramine and Phenylephrine for the Symptoms Relief of Rhinitis</td></tr><tr><td>Combination Chemotherapy and Radiation Therapy in Treating Patients With Limited-Stage Small Cell Lung Cancer</td></tr><tr><td>Observational Study on Blood Glucose Control in Patients With Diabetes Using Modern Insulin</td></tr><tr><td>Seizure Prophylaxis in Aneurysm Repair</td></tr><tr><td>MEsenchymal StEm Cells for Multiple Sclerosis</td></tr><tr><td>Study of Tenofovir Disoproxil Fumarate (TDF) for Prevention of HIV</td></tr><tr><td>A Study to Evaluate the Efficacy and Safety of Anamorelin HCl for the Treatment of Malignancy Associated Weight Loss and Anorexia in Adult Patients With Advanced Non-Small Cell Lung Cancer (NSCLC)</td></tr><tr><td>Individualized Dose Study of ATG in Haploidentical Hematopoietic Stem Cell Transplantation</td></tr><tr><td>The Ratio of Hypnotic to Analgesic Potency of Volatile Anesthetics</td></tr><tr><td>Head-Mounted Vibrotactile Prosthesis for Patients With Chronic Postural Instability</td></tr><tr><td>Vascular Endothelial Growth Factor (VEGF) Trap-Eye: Investigation of Efficacy and Safety in Central Retinal Vein Occlusion (CRVO)</td></tr><tr><td>Safety and Immunogenicity Study of Live Attenuated Mumps Vaccines in Healthy Infants</td></tr><tr><td>Real-time Intervention for Suicide Risk Reduction</td></tr><tr><td>Phase 3 Study of Deoxycholic Acid Injection (ATX-101) Versus Placebo for the Reduction of Localized Subcutaneous Fat in the Submental Area</td></tr><tr><td>Study of a Topical Gentamicin-Collagen Sponge Along With Systemic Antibiotic in Infected Diabetic Foot Ulcers</td></tr><tr><td>Safety, Tolerability and Pharmacokinetic Study of MB12066 in Healthy Volunteers</td></tr><tr><td>Combination Chemotherapy in Treating Children With Newly Diagnosed Acute Lymphoblastic Leukemia</td></tr><tr><td>Combination Chemotherapy in Treating Women With Breast Cancer</td></tr><tr><td>Combination Chemotherapy in Treating Women With Breast Cancer</td></tr><tr><td>Patient Decision Aid for Antidepressant Use in Pregnancy</td></tr><tr><td>Requests for Euthanasia and Assisted Suicide</td></tr><tr><td>Accuracy of Pulse Oximeters With Profound Hypoxia</td></tr><tr><td>Accuracy of Pulse Oximeters With Profound Hypoxia</td></tr><tr><td>Accuracy of Pulse Oximeters With Profound Hypoxia</td></tr><tr><td>Accuracy of Pulse Oximeters With Profound Hypoxia</td></tr><tr><td>Accuracy of Pulse Oximeters With Profound Hypoxia</td></tr><tr><td>CAR-T Cell Immunotherapy for GD2 Positive Glioma Patients</td></tr><tr><td>Waveform Periodicity Analysis of Complex Fractionated Electrograms in Patients With Persistent Atrial Fibrillation</td></tr><tr><td>Repetitive Applications of Pruritogens and Effects of a Cutaneous-induced Pain Stimulation on Nonhistaminergic Itch Perception</td></tr><tr><td>Intrathecal Hydromorphone for Labor Analgesia</td></tr><tr><td>Allopurinol in Acute Coronary Syndrome</td></tr><tr><td>Post-market Study of the TOPS™ System</td></tr><tr><td>A Study to Evaluate the Safety and Effectiveness of a Nasal Spray to Treat Seasonal Allergies</td></tr><tr><td>A Study to Evaluate the Safety and Effectiveness of a Nasal Spray to Treat Seasonal Allergies</td></tr><tr><td>A Study to Evaluate the Safety and Effectiveness of a Nasal Spray to Treat Seasonal Allergies</td></tr><tr><td>A Study to Evaluate the Safety and Effectiveness of a Nasal Spray to Treat Seasonal Allergies</td></tr><tr><td>Combination Chemotherapy Plus Peripheral Stem Cell Transplantation in Treating Patients With Germ Cell Tumors</td></tr><tr><td>The Effect of Knee Flexion Angle for Graft Fixation During Single-Bundle Anterior Cruciate Ligament Reconstruction</td></tr><tr><td>A Study of the Use of the Medtronic Pump and Codman Catheter to Give Chemotherapy to Patients With Colorectal Carcinoma or Cholangiocarcinoma</td></tr><tr><td>Efficacy and Safety of SR58611A in Patients With Major Depressive Disorder</td></tr><tr><td>A Study to Determine the Fasting Bioequivalence of Reformulated OXY Tablets and Original OxyContin® (OXY) Tablets</td></tr><tr><td>Study of the Survival of Recombinant Human Neuregulin-1β in Chronic Heart Failure (CHF) Patients</td></tr><tr><td>A Phase I Study of AG-348 in Healthy Volunteers</td></tr><tr><td>Prevalence of DRP and DME Among Type 1 Diabetics Treated With Long-term Intensified Insulin Therapy</td></tr><tr><td>Physical Activity Immediately After Acute Cerebral Ischemia</td></tr><tr><td>Efficacy, Safety and Tolerability of ACZ885 in Pediatric Patients With the Following Cryopyrin-associated Periodic Syndromes: Familial Cold Autoinflammatory Syndrome, Muckle-Wells Syndrome, or Neonatal Onset Multisystem Inflammatory Disease</td></tr><tr><td>Study of the Safety of Intravenous Artesunate</td></tr><tr><td>Efficacy and Safety of Budesonide Foam for Participants With Active Mild to Moderate Ulcerative Proctitis or Proctosigmoiditis</td></tr><tr><td>A Phase I Clinical Study Trial of Felbinac Trometamol Injection in China</td></tr><tr><td>Combination Chemotherapy Based on Risk of Relapse in Treating Young Patients With Acute Lymphoblastic Leukemia</td></tr><tr><td>Technical Development of Cardiovascular Magnetic Resonance Imaging</td></tr><tr><td>Technical Development of Cardiovascular Magnetic Resonance Imaging</td></tr><tr><td>Phase Ib Study of Safety, Tolerability and Pharmacokinetics of Elpida Once Weekly in Healthy Volunteers</td></tr><tr><td>Effect of Pyridorin in Patients With Diabetic Nephropathy</td></tr><tr><td>MSI-78 Topical Cream vs. Oral Ofloxacin in the Treatment of Infected Diabetic Ulcers</td></tr><tr><td>Oral Versus Intravenous Hydration to Prevent Contrast Induced Nephropathy</td></tr><tr><td>Smartphone Twelve Lead Electrocardiogram Utility In ST-Elevation Myocardial Infarction</td></tr><tr><td>Efficacy and Safety Study of MSRD-100 in Subjects With Atopic Dermatitis >=3 Months of Age and Older</td></tr><tr><td>Study of NGX-4010 for the Treatment of Painful HIV-Associated Neuropathy</td></tr><tr><td>Combination Chemotherapy With or Without Radiation Therapy in Treating Patients With Hodgkin's Lymphoma</td></tr><tr><td>Management of Hypertension and Multiple Risk Factors to Enhance Cardiovascular Health</td></tr><tr><td>A Phase I Study of IBI325 in Patients With Advanced Solid Tumor</td></tr><tr><td>A Bioequivalence Study of Amlodipine Plus Losartan Versus Amlodipine and Losartan</td></tr><tr><td>Observational Study of Patients Using NovoMix® 30 or Levemir® for Treatment of Type 1 or Type 2 Diabetes</td></tr><tr><td>Self-management of Anticoagulation Treatment</td></tr><tr><td>Efficacy and Safety of FTY720 in de Novo Adult Renal Transplant Recipients</td></tr><tr><td>Efficacy and Safety of FTY720 in de Novo Adult Renal Transplant Recipients</td></tr><tr><td>Efficacy and Safety of FTY720 in de Novo Adult Renal Transplant Recipients</td></tr><tr><td>A Safety and Efficacy Study of Vitreosolve® for Non-Proliferative Diabetic Retinopathy Subjects</td></tr><tr><td>A Study of the Safety and Efficacy of a New Treatment for Diabetic Macular Edema</td></tr><tr><td>Open-Label Study of ARD-0403 in Testosterone Deficient Men</td></tr><tr><td>Preliminary Testing of New Treatment for Chronic Leg Wounds</td></tr><tr><td>Reduction of Metabolic Acidosis in Patients With Chronic Kidney Disease in Stage 4 and 5</td></tr><tr><td>Efficacy and Safety of the Cryopreserved Formulation of OTL-101 in Subjects With ADA-SCID</td></tr></tbody></table></div>"
      ]
     },
     "metadata": {
      "application/vnd.databricks.v1+output": {
       "addedWidgets": {},
       "aggData": [],
       "aggError": "",
       "aggOverflow": false,
       "aggSchema": [],
       "aggSeriesLimitReached": false,
       "aggType": "",
       "arguments": {},
       "columnCustomDisplayInfos": {},
       "data": [
        [
         "Computerized Assessment for Patients With Cancer"
        ],
        [
         "Study to Evaluate the Safety and Efficacy of CJ-12420 in Patients With Erosive Esophagitis"
        ],
        [
         "Endometrial Preparation in Frozen Embryo Transfer Cycles"
        ],
        [
         "Topical Antimicrobial Effectiveness Testing"
        ],
        [
         "Medication Maintenance Therapy in Community Pharmacy Settings"
        ],
        [
         "Study to Evaluate the Safety and Efficacy of VIRAZOLE® in Hospitalized Adult Participants With Respiratory Distress Due to COVID-19"
        ],
        [
         "A Study to Evaluate the Safety and Effectiveness of Asoprisnil in the Treatment of Uterine Fibroids"
        ],
        [
         "Efficacy of Oropharyngeal Exercises for Patients With Obstructive Sleep Apnea Using Mandibular Advancement Device"
        ],
        [
         "Efficacy and Safety of Diclofenac Sodium Gel in Hand Osteoarthritis"
        ],
        [
         "Tryptophan Metabolism in Human Brain Tumors"
        ],
        [
         "To Study the Association Among Labor Pain and Physical Parameters in Laboring Pregnant Women"
        ],
        [
         "Use of Hair to Diagnose Breast Cancer"
        ],
        [
         "Effect of Soy Protein and Colorado Diet on Weight Loss and Maintenance"
        ],
        [
         "A Comparison of Duloxetine Hydrochloride, Marketed Comparator, and Placebo in the Treatment of Generalized Anxiety Disorder"
        ],
        [
         "Randomized Clinical Trial of Intensive Computer-based Cognitive Remediation in Recent-onset Schizophrenia"
        ],
        [
         "Vaccine Therapy in Treating Patients With Metastatic Prostate Cancer"
        ],
        [
         "Vaccine Therapy in Treating Patients With Metastatic Prostate Cancer"
        ],
        [
         "A Study in the Treatment of Children and Adolescents With Major Depressive Disorder"
        ],
        [
         "Telerehabilitation in Multiple Sclerosis"
        ],
        [
         "Vision Improvement for Patients With Age-Related Macular Degeneration"
        ],
        [
         "Peroral Endoscopic Myotomy (POEM) for the Treatment of Achalasia"
        ],
        [
         "Macitentan for the Treatment of Digital Ulcers in Systemic Sclerosis Patients"
        ],
        [
         "Safety and Efficacy Study of Brimonidine/Timolol Fixed Combination in Patients With Glaucoma or Ocular Hypertension"
        ],
        [
         "Safety and Efficacy Study of Brimonidine/Timolol Fixed Combination in Patients With Glaucoma or Ocular Hypertension"
        ],
        [
         "Safety and Efficacy Study of Brimonidine/Timolol Fixed Combination in Patients With Glaucoma or Ocular Hypertension"
        ],
        [
         "Safety and Efficacy of CTAP101 to Treat Secondary Hyperparathyroidism in Stage 3 or 4 CKD and Vitamin D Insufficiency"
        ],
        [
         "Mesalamine for Colorectal Cancer Prevention Program in Lynch Syndrome"
        ],
        [
         "Validation of a Connected Patch, an Alternative to Conventional Monitoring"
        ],
        [
         "Interpersonal Therapy-Based Treatment to Prevent Postpartum Depression in Adolescent Mothers"
        ],
        [
         "Safety and Efficacy of Triple Combination Therapy in Patients With Primary Open-Angle Glaucoma or Ocular Hypertension"
        ],
        [
         "Effects of Faba Bean Fractions as Ingredients in Novel Food Products on Glycemia, Appetite and Metabolic Control"
        ],
        [
         "Aortic Valve Replacement With Trifecta(TM)"
        ],
        [
         "A Study to Evaluate the Efficacy and Safety of BuMA Supreme Drug Eluting Stent(DES)"
        ],
        [
         "Fibrinolysis Compared to Thoracoscopy for Pleural Infection"
        ],
        [
         "Study in Patients With COPD"
        ],
        [
         "Study in Patients With COPD"
        ],
        [
         "Relative Bioavailability and Food Effect Study"
        ],
        [
         "Study of Aripiprazole in the Treatment of Children and Adolescents With Autistic Disorder (AD)"
        ],
        [
         "A Study of LY2127399 in Participants With Systemic Lupus Erythematosus"
        ],
        [
         "A Study of AK106-001616 in Patients With Rheumatoid Arthritis (RA)"
        ],
        [
         "An Interaction Study to Assess Drug Levels in Healthy Adult Subjects"
        ],
        [
         "Safety and Efficacy Study of Botulinum Toxin Type A for the Treatment of Crow's Feet Lines and Frown Lines"
        ],
        [
         "The Evaluation of TCI378 and TCI507 Probiotics on Weight-lowering Efficacy in Adults"
        ],
        [
         "Memory and Mental Health in Aging"
        ],
        [
         "Rhomboid Intercostal and Subserratus Plane Block"
        ],
        [
         "Comparison of Telavancin and Vancomycin for Hospital-acquired Pneumonia Due to Methicillin-resistant Staphylococcus Aureus"
        ],
        [
         "Trial of Inquiry Based Stress Reduction (IBSR) Program for BRCA1/2 Mutation Carriers"
        ],
        [
         "Treatment of Subarachnoid Hemorrhage With Human Albumin"
        ],
        [
         "Bioavailability of Proteins From Plant Based Diets"
        ],
        [
         "Epidemiology Study of Malaria Transmission Intensity in Sub-Saharan Africa"
        ],
        [
         "Efficacy of Fecal Microbial Transplantation Treatment in Adults With Atopic Dermatitis"
        ],
        [
         "Vaccine Therapy in Treating Patients With Stage III or Stage IV Melanoma"
        ],
        [
         "Vaccine Therapy in Treating Patients With Stage III or Stage IV Melanoma"
        ],
        [
         "Vaccine Therapy in Treating Patients With Stage III or Stage IV Melanoma"
        ],
        [
         "Vaccine Therapy in Treating Patients With Stage III or Stage IV Melanoma"
        ],
        [
         "Vaccine Therapy in Treating Patients With Stage III or Stage IV Melanoma"
        ],
        [
         "Vaccine Therapy in Treating Patients With Stage III or Stage IV Melanoma"
        ],
        [
         "Study Evaluating A Novel Ibuprofen Formulation In The Treatment Of Dental Pain"
        ],
        [
         "Centralized Pan-Middle East Survey on the Undertreatment of Hypercholesterolemia"
        ],
        [
         "Safety and Efficacy of Gabapentin in Postherpetic Neuralgia"
        ],
        [
         "Adaptive Optics Retinal Imaging"
        ],
        [
         "Vaccine Therapy in Treating Patients With Melanoma"
        ],
        [
         "The Breakfast Study"
        ],
        [
         "A Study of Remimazolam Tosilate for Sedation in the ICU"
        ],
        [
         "Assessment of Diagnostic Accuracy and Performance of Digital Breast Tomosynthesis Compared to Mammography"
        ],
        [
         "Pediatric Epilepsy Study"
        ],
        [
         "A Study of Istradefylline (KW-6002) for the Treatment of Parkinson's Disease in Patients Taking Levodopa"
        ],
        [
         "Oocyte Cryopreservation"
        ],
        [
         "Safety Dermatological Assessment of Topical Use Product Through Dressings Predictive Studies for Evaluation of Photoirritation and Dermal Photosensitivity"
        ],
        [
         "A 12 Week Study of QVA149 Compared to Fluticasone/Salmeterol (Advair) for Treatment of COPD"
        ],
        [
         "Bone Resorption, Osteoclastogenesis and Adalimumab"
        ],
        [
         "A Study of Intravenous Mircera for the Treatment of Anemia in Dialysis Patients."
        ],
        [
         "A Clinical Trial to Evaluate the Safety, Tolerability and Preliminary Effectiveness of Single Administration Intradiscal rhGDF-5 for the Treatment of Early Stage Lumbar Disc Degeneration"
        ],
        [
         "Evaluate the Analgesic Efficacy and Safety of VVZ-149 Injection for Post-operative Pain Following Gastrectomy"
        ],
        [
         "Efficacy and Safety of Mycograb as Adjunctive Therapy for Cryptococcal Meningitis in Patients With AIDS"
        ],
        [
         "Study of Topical ABI-1968 in Subjects With Precancerous Anal Lesions Resulting From Human Papillomavirus (HPV) Infection"
        ],
        [
         "A Study of LY2835219 in Healthy Participants"
        ],
        [
         "A Study of LY2835219 in Healthy Participants"
        ],
        [
         "Isometric Handgrip Exercise for Blood Pressure Management"
        ],
        [
         "Brain Changes in Blepharospasm"
        ],
        [
         "Characterization of Pain Processing Mechanisms in Irritable Bowel Syndrome"
        ],
        [
         "Combination Chemotherapy With or Without Trastuzumab in Treating Women With Breast Cancer"
        ],
        [
         "Enhanced Protein-Energy Provision Via the Enteral Route in Critically Ill Patients"
        ],
        [
         "Assessment of Efficacy and Safety in Patients With Non-cancer-related Pain and Opioid-induced Constipation"
        ],
        [
         "Molecular Profiling of Advanced Biliary Tract Cancers"
        ],
        [
         "PoNS Clinical Experience Program (TBI)"
        ],
        [
         "PoNS Clinical Experience Program (TBI)"
        ],
        [
         "PoNS Clinical Experience Program (TBI)"
        ],
        [
         "PoNS Clinical Experience Program (TBI)"
        ],
        [
         "Hematopoietic Stem Cell Transplantation Gene Therapy for Treatment of Severe Hemophilia A"
        ],
        [
         "Intramuscular Depot Formulation of Aripiprazole as Maintenance Treatment in Patients With Schizophrenia"
        ],
        [
         "Intramuscular Depot Formulation of Aripiprazole as Maintenance Treatment in Patients With Schizophrenia"
        ],
        [
         "Rifabutin Therapy for the Prevention of Mycobacterium Avium Complex (MAC) Bacteremia in AIDS Patients With CD4 Counts = or < 200: A Double-Blind, Placebo-Controlled Trial"
        ],
        [
         "Mild Ankle Sprain Treatment: Functional Bandaging vs. no Immobilization"
        ],
        [
         "Fracture and Fall Prevention in Elderly With Osteoporosis"
        ],
        [
         "Safety and Efficacy Study of Vitrase for Clearance of Severe Vitreous Hemorrhage"
        ],
        [
         "EBUS-TBNA vs Flex 19G EBUS-TBNA"
        ],
        [
         "Acute Kidney Injury After Cardiac Surgery"
        ],
        [
         "Acute Kidney Injury After Cardiac Surgery"
        ],
        [
         "Acute Kidney Injury After Cardiac Surgery"
        ],
        [
         "Efficacy/Safety of Lansoprazole in Patients With Frequent Heartburn"
        ],
        [
         "Bevacizumab and Interleukin-2 in Treating Patients With Metastatic Kidney Cancer"
        ],
        [
         "Terbinafine Compared to Griseofulvin in Children With Tinea Capitis"
        ],
        [
         "Relative Bioavailability Study"
        ],
        [
         "CD19 CAR-T Cells for Patients With Relapse and Refractory CD19+ B-ALL."
        ],
        [
         "Contingency Management for Smoking in Substance Abusers"
        ],
        [
         "Percentage of Secondary Prevention Patients Treated to Their LDL-C Targets"
        ],
        [
         "Cone Beam Computed Tomography for Breast Imaging"
        ],
        [
         "Bioequivalence Study of Carbidopa/Levodopa/Entacapone Combination vs. Carbidopa/Levodopa Combination Plus Entacapone in Healthy Volunteers"
        ],
        [
         "Bioequivalence Study of Carbidopa/Levodopa/Entacapone Combination vs. Carbidopa/Levodopa Combination Plus Entacapone in Healthy Volunteers"
        ],
        [
         "Continuous Soluble Ferric Pyrophosphate (SFP) Iron Delivery Via Dialysate in Hemodialysis Patients"
        ],
        [
         "Insulin Glargine in Type 2 Diabetes Mellitus"
        ],
        [
         "Relapsing Forms of Multiple Sclerosis (RMS) Study of Bruton's Tyrosine Kinase (BTK) Inhibitor Tolebrutinib (SAR442168)"
        ],
        [
         "A Clinical Study of CD70-targeted CAR-T in the Treatment of CD70-positive Advanced/Metastatic Solid Tumors"
        ],
        [
         "A Study of the Safety and Efficacy of Gatifloxacin in Patients With Bacterial Conjunctivitis"
        ],
        [
         "Efficacy and Safety Study of CB-5945 for the Treatment of Opioid-Induced Constipation"
        ],
        [
         "Confocal Laser Endomicroscopy for Brain Tumors"
        ],
        [
         "Atrial Fibrillation Ablation Registry"
        ],
        [
         "Safety and Efficacy Evaluation of γ-globin Reactivated Autologous Hematopoietic Stem Cells"
        ],
        [
         "PS-341 in Treating Patients With Metastatic Kidney Cancer"
        ],
        [
         "Safety and Efficacy Study of DE-104 Ophthalmic Solution to Treat Open-angle Glaucoma or Ocular Hypertension"
        ],
        [
         "Comparison of Breathing Event Detection by a Continuous Positive Airway Pressure Device to Clinical Polysomnography"
        ],
        [
         "Immunogenicity And Safety of COVID-19 Vaccine , Inactivated Co -Administration With EV71 Vaccine (Vero Cell)"
        ],
        [
         "Impact of Treatment With Rituximab on the Progression of Humoral Acute Rejection After Renal Transplantation"
        ],
        [
         "The Effects of Myofascial Release Technique"
        ],
        [
         "In Vitro Maturation (IVM) of Human Oocytes"
        ],
        [
         "Endoscopic Treatment of Intestinal Fistulas and Perforations"
        ],
        [
         "The Brain Health Study: A Pragmatic, Patient-Centered Trial"
        ],
        [
         "Optical Coherence Microscopy in Dermato-oncology"
        ],
        [
         "A Study of Abemaciclib in Healthy Participants"
        ],
        [
         "Evaluating a Novel Web-based Intervention for Breast Cancer Survivors"
        ],
        [
         "Controlled Study of ONO-1101 in Patients With Postoperative Tachyarrhythmias in Japan"
        ],
        [
         "Comparison of the Fixed Combinations of Brimonidine/Timolol and Dorzolamide/Timolol in Subjects With Open-Angle Glaucoma or Ocular Hypertension"
        ],
        [
         "Confirmatory Study of Indacaterol in Patients With Chronic Obstructive Pulmonary Disease (COPD)"
        ],
        [
         "Study to Evaluate an Influenza Vaccine Candidate"
        ],
        [
         "Immunogenicity, Safety of Measles-mumps-rubella-varicella Vaccine (MeMuRu-OKA) Compared to Priorix™ Given With Varilrix™"
        ],
        [
         "Double-blind, Randomized Study Evaluating the Efficacy and Safety of Brivaracetam in Adults With Partial Onset Seizures"
        ],
        [
         "Patient Satisfaction and Quality of Life Impact - PecFent®"
        ],
        [
         "Vaginal Birth After Caesarean Section - Effect on Maternal Psychosocial Function"
        ],
        [
         "Treatment of Binge Eating Disorder"
        ],
        [
         "Frailty Prevention in Elders From Reunion Island"
        ],
        [
         "Effect of Amino Acid Addition to a Drink on the Appearance of Ingested Water in Body Fluids"
        ],
        [
         "Ferumoxytol Versus Oral Iron in the Treatment of Anemia in Non-Dialysis Dependent Chronic Kidney Disease Patients"
        ],
        [
         "Song-making In a Group (SING)"
        ],
        [
         "An Eight-week Study to Evaluate the Efficacy and Safety of Saredutant in Patients With Depression"
        ],
        [
         "An Eight-week Study to Evaluate the Efficacy and Safety of Saredutant in Patients With Depression"
        ],
        [
         "Gallium-68 PSMA-11 PET in Patients With Biochemical Recurrence"
        ],
        [
         "Efficacy and Safety of Bicifadine in the Treatment of Chronic Low Back Pain"
        ],
        [
         "A Study to Investigate an Immunomodulatory Therapy in Adult Patients With Perennial Allergic Rhinoconjunctivitis"
        ],
        [
         "Stem Cell Study for Patients With Heart Disease"
        ],
        [
         "Cumulative Irritation Test"
        ],
        [
         "Observational Longitudinal Study of Pain in Men With Metastatic Castrate-Resistant Prostate Cancer"
        ],
        [
         "Evaluate Analgesic Efficacy of Fast Release Aspirin"
        ],
        [
         "Evaluation of Vaccination Reminder/Recall Systems for Adolescent Patients"
        ],
        [
         "Efficacy and Safety of Dalbavancin for the Treatment of Acute Bacterial Skin and Skin Structure Infections"
        ],
        [
         "SHP2 Inhibitor ET0038 Monotherapy in Patients With Advanced Solid Tumors"
        ],
        [
         "Metvix PDT Versus Vehicle PDT With Aktilite CL128 Lamp in Patients With Actinic Keratosis on the Face and Scalp"
        ],
        [
         "High Dose Ascorbic Acid (AA) + Nanoparticle Paclitaxel Protein Bound + Cisplatin + Gemcitabine (AA NABPLAGEM) in Patients Who Have Metastatic Pancreatic Cancer"
        ],
        [
         "Combination Bisphosphonate and Anti-Angiogenesis Therapy With Pamidronate and Thalidomide"
        ],
        [
         "OTIS Autoimmune Diseases in Pregnancy Project"
        ],
        [
         "Efficacy and Safety of Ibuprofen in Patients With Ankle Injuries"
        ],
        [
         "Clinical Trial in Patients With Metastatic Colorectal Cancer"
        ],
        [
         "Investigating Variation in Hospital Acute Coronary Syndrome Outcomes"
        ],
        [
         "PTI-125 for Mild-to-moderate Alzheimer's Disease Patients"
        ],
        [
         "Impact of Probiotics on Urinary Symptoms in Spinal Cord Injury SCI and SB"
        ],
        [
         "Quality of Life in Patients With Bladder Cancer"
        ],
        [
         "Safety and Efficacy of AIN457 in Patients With Quiescent Non-infectious Uveitis"
        ],
        [
         "Improving Outcomes and Quality of Life After CABG"
        ],
        [
         "An Internet-based Self Applied Treatment Program for Prolonged Grief Disorder (PGD)"
        ],
        [
         "Capsaicin to Control Pain Following Third Molar Extraction"
        ],
        [
         "Efficacy of 851B Gel for Treating High-Risk Cervical Human Papillomavirus Infection in Women."
        ],
        [
         "The Depth of Endotracheal Tube Insertion"
        ],
        [
         "Trans Care: An Online Intervention to Reduce Symptoms of Gender Dysphoria"
        ],
        [
         "Islet Cell Transplantation in Patients With Type I Diabetes With Previous Kidney Transplantation"
        ],
        [
         "Study Comparing Product 0405 to a Vehicle Control in the Treatment of Mild to Moderate Atopic Dermatitis in Pediatric Subjects"
        ],
        [
         "Vaccine Therapy in Treating Patients With Breast Cancer"
        ],
        [
         "Efficacy and Safety of Eriobotyra Japonica Lindley Extract on Improvement of Cognitive Function"
        ],
        [
         "Active Surveillance of Papillary Thyroid Microcarcinoma"
        ],
        [
         "Extension Study to Assess the Long-Term Safety of Tegaserod in Women With Symptoms of Dyspepsia"
        ],
        [
         "A Safety Study of Orally Administered BPM31510 in Healthy Subjects"
        ],
        [
         "Study of Safety and Efficacy of an Oral Contraceptive"
        ],
        [
         "Study of Safety and Efficacy of an Oral Contraceptive"
        ],
        [
         "Postpartum Depression"
        ],
        [
         "Efficacy and Safety of Tozorakimab in Symptomatic Chronic Obstructive Pulmonary Disease With a History of Exacerbations"
        ],
        [
         "CKD-828 (80/5mg) Pharmacokinetic Study"
        ],
        [
         "Safety and Efficacy Study of Autologous Cultured Adipose -Derived Stem Cells for the Crohn's Fistula"
        ],
        [
         "Observational Study of Sifrol® in Patients With Primary Restless Legs Syndrome (RLS)"
        ],
        [
         "Study of Rebamipide Eye Drops to Treat Dry Eye"
        ],
        [
         "Glulisine + Lantus in Type I Patients"
        ],
        [
         "Clinical Study to Investigate the PK Profiles and Safety of CKD-385 in Healthy Volunteers Under Fed Conditions"
        ],
        [
         "Long-term Trial on Growth Hormone Deficiency in Adults (GHDA)"
        ],
        [
         "Study of the Safety and Effectiveness of Two Doses of Investigational Study Drug EVP-6124 in Subjects With Alzheimer's Disease"
        ],
        [
         "Vaccine Therapy in Treating Patients With Liver Cancer"
        ],
        [
         "QIAstat-Dx® Meningitis/Encephalitis Panel Performance Evaluation Study"
        ],
        [
         "Intravenous VEGF Trap in Treating Patients With Relapsed or Refractory Advanced Solid Tumors or Non-Hodgkin's Lymphoma"
        ],
        [
         "Carotid and Vertebral Magnetic Resonance Angiography (MRA) Study Comparing Dotarem and Time Of Flight (TOF)"
        ],
        [
         "COVID-19 and Lung Ultrasound Utility"
        ],
        [
         "Vaccine Therapy in Treating Patients With Recurrent Prostate Cancer"
        ],
        [
         "Tight Glycemic Control by Artificial Pancreas"
        ],
        [
         "Nabilone for Non-motor Symptoms in Parkinson's Disease"
        ],
        [
         "Dynamic Variation of Impedance Cardiography(DYVIC) as a Diagnostic Tool of Acute Heart Failure (AHF)"
        ],
        [
         "Neurofeedback Treatment of Pain in Persons With Spinal Cord Injury (SCI)"
        ],
        [
         "Transcranial Magnetic Stimulation Treatment for Generalized Anxiety Disorder"
        ],
        [
         "Delivra-Celecoxib 8% Cream and Osteoarthritis"
        ],
        [
         "Self-sampling and Human Papillomavirus (HPV)-Testing for Unscreened Women in Cervical Cancer Prevention"
        ],
        [
         "Assessment of Musculoskeletal Pain and Psychosocial Status of Athletes"
        ],
        [
         "Group Physical Therapy for Knee Osteoarthritis"
        ],
        [
         "Video Laryngoscopy Versus Direct Laryngoscopy for Nasotracheal Intubation"
        ],
        [
         "The Impact of Three Distinct Exercise Types on Fatigue, Anxiety, and Depression in Parkinson's Disease"
        ],
        [
         "Using Topical Sirolimus 2% for Patients With Epidermolysis Bullous Simplex (EBS) Study"
        ],
        [
         "Study of Levalbuterol, Racemic Albuterol and Placebo in Subjects Twelve Years of Age and Older With Asthma"
        ],
        [
         "ExAblate Transcranial MR Guided Focused Ultrasound in the Treatment of Essential Tremor"
        ],
        [
         "Study of Efficacy and Safety of CTL019 in Pediatric ALL Patients"
        ],
        [
         "Surgical Treatment of Peri-implantitis"
        ],
        [
         "A Phase 3 Safety and Efficacy Study of Fovista® (E10030) Intravitreous Administration in Combination With Lucentis® Compared to Lucentis® Monotherapy"
        ],
        [
         "Virtual Ileostomy Versus Conventional Loop Ileostomy"
        ],
        [
         "Evaluation of the PillCam™ Colon Capsule Endoscopy (PCCE) Preparation and Procedure"
        ],
        [
         "Evaluation of the PillCam™ Colon Capsule Endoscopy (PCCE) Preparation and Procedure"
        ],
        [
         "Safety and Efficacy of FTY720 in Adult Patients Who Receive a Kidney Transplant"
        ],
        [
         "Biomarkers in Samples From Young Patients With Acute Myeloid Leukemia"
        ],
        [
         "Paclitaxel Plus Estramustine in Treating Patients With Metastatic Prostate Cancer"
        ],
        [
         "Safety and Toxicity Study of Sorafenib in Patients With Kidney Cancer"
        ],
        [
         "Prevention of Contrast Induced Nephropathy With Sodium Bicarbonate"
        ],
        [
         "A Study of LY2189265 in Japanese Participants With Type 2 Diabetes Mellitus"
        ],
        [
         "A Twelve-Week Study of Varenicline for Safety and Efficacy in Comparison With Placebo and Zyban for Smoking Cessation"
        ],
        [
         "Efficacy and Safety Study of Dietary Supplements in Chronic Smokers Having Mild to Moderate Hyperlipidemia"
        ],
        [
         "A Bioequivalence Study of the Fixed Dose Combination Tablets of Canagliflozin and Metformin Extended Release (XR) With Respect to the Individual Components in Healthy Fed Participants"
        ],
        [
         "Endoscopic Submucosal Dissection Registry"
        ],
        [
         "Understanding GMK Sphere Implant Tibiofemoral Kinematics by Means of Dynamic Videofluoroscopy"
        ],
        [
         "Prevention of Venous Thromboembolism in Patients Undergoing Elective Total Knee Replacement Surgery"
        ],
        [
         "Biomechanical and Viscoelastic Properties of Plantar Fascia in Pregnant Women"
        ],
        [
         "Patient Empowerment for Major Surgery Preparation @ Home"
        ],
        [
         "AL-15469A for the Treatment of Bacterial Conjunctivitis"
        ],
        [
         "Phase 3 Trial to Assess the Safety and Efficacy of Natroba for the Treatment of Scabies"
        ],
        [
         "Expanding Rapid Ascertainment Networks of Schizophrenia Families in Taiwan"
        ],
        [
         "Neuroactive Steroids in Acute Ischemic Stroke"
        ],
        [
         "Efficacy of Lu 31-130 in Patients With Schizophrenia"
        ],
        [
         "Ultrasound Guided Percutaneous Tracheostomy"
        ],
        [
         "Bright Light Therapy in Seasonal Affective Disorder (SAD)"
        ],
        [
         "Safety and Effectiveness of the Orsiro Sirolimus Eluting Coronary Stent System in Subjects With Coronary Artery Lesions"
        ],
        [
         "A Study of the Safety and Efficacy of Fabrazyme in Patients With Fabry Disease"
        ],
        [
         "A Study of the Safety and Efficacy of Fabrazyme in Patients With Fabry Disease"
        ],
        [
         "Study to Assess Batoclimab in Participants With Active Thyroid Eye Disease"
        ],
        [
         "Geniculate Artery Embolization for Knee Osteoarthritis"
        ],
        [
         "Infrastructure for Developing Gastrointestinal Cancer Prognostic and Predictive Markers"
        ],
        [
         "A Study Of DVS SR In Treatment Of Children And Adolescent Outpatients With MDD"
        ],
        [
         "Topical Antifungal Treatment for Tinea Pedis"
        ],
        [
         "A Pharmacokinetic Study of SID1903 (FDC of Dapagliflozin and Sitagliptin) in Healthy Adult Volunteers"
        ],
        [
         "Comparison of Telavancin and Vancomycin for Complicated Skin and Skin Structure Infections With a Focus on Methicillin-resistant Staphylococcus Aureus"
        ],
        [
         "Evaluation of a Non-invasive Cardiac Output Monitoring System."
        ],
        [
         "Evaluation of a Commercial Program on Weight Loss and Health Outcomes"
        ],
        [
         "Evaluation of a Commercial Program on Weight Loss and Health Outcomes"
        ],
        [
         "Study to Evaluate a 13-valent Pneumococcal Conjugate Vaccine in Infants."
        ],
        [
         "Enhancing Knowledge Translation in Nutrition Through a Healthy Eating Blog"
        ],
        [
         "Pilot Clinical Evaluation of the RHEA Vital Sign Vigilance System in Hospital Patients"
        ],
        [
         "Combination of Icotinib and Gemcitabine as First-line Treatment in Pancreatic Cancer"
        ],
        [
         "Clinical Study of Venetoclax Combined With CACAG Regimen in the Treatment of Newly Diagnosed Acute Myeloid Leukemia"
        ],
        [
         "A Study to Evaluate the Efficacy and Safety of BIIB059 (Litifilimab) in Adult Participants With Active Systemic Lupus Erythematosus Receiving Background Nonbiologic Lupus Standard of Care"
        ],
        [
         "The Effect of Light Therapy on Post-Surgical Pain"
        ],
        [
         "A Study for Patients With Type 2 Diabetes Mellitus"
        ],
        [
         "Study Evaluating Levonorgestrel and Ethinyl Estradiol for Oral Contraception"
        ],
        [
         "Efficacy and Safety of Indacaterol Plus Tiotropium Versus Tiotropium Alone in Patients With Chronic Obstructive Pulmonary Disease"
        ],
        [
         "Ovarian Tissue Cryopreservation for Fertility Preservation"
        ],
        [
         "Misoprostol for Second Trimester Termination of Pregnancy"
        ],
        [
         "A Study of Ocrelizumab in Comparison With Interferon Beta-1a (Rebif) in Participants With Relapsing Multiple Sclerosis"
        ],
        [
         "Evaluation of the QuantiFERON-TB Test."
        ],
        [
         "Evaluation of the QuantiFERON-TB Test."
        ],
        [
         "Mediators of Inflammation, Prognostic Markers and Genetic Polymorphisms in Patients With Sepsis"
        ],
        [
         "Effects of Inspiratory Muscle Training in Patients With Parkinson's Disease"
        ],
        [
         "A Study of ARRY-371797 in Subjects Undergoing Third Molar Extraction"
        ],
        [
         "Fecal Microbiota Transplant National Registry"
        ],
        [
         "Comparison of the Efficacy and Safety of Q8003 Versus Its Individual Components in Bunionectomy Patients"
        ],
        [
         "Apheresis to Obtain Plasma or White Blood Cells for Laboratory Studies"
        ],
        [
         "Stereotactic Body Radiation Therapy (SBRT) for Prostate Cancer"
        ],
        [
         "Restoring Hemodynamic Stability Using Targeted Epidural Spinal Stimulation Following Spinal Cord Injury"
        ],
        [
         "Radioimmunoimaging of AL Amyloidosis"
        ],
        [
         "Pharmacokinetic Interaction Between Maraviroc And Fosamprenavir/Ritonavir In Healthy Subjects"
        ],
        [
         "Rate Control in Atrial Fibrillation"
        ],
        [
         "Clinical Trial of Infant Formula-fed"
        ],
        [
         "Non-Invasive Screening for Fetal Aneuploidy"
        ],
        [
         "Safety and Efficacy of IDP-122 in the Treatment of Participants With Plaque Psoriasis"
        ],
        [
         "Performance of an Investigational Blood Glucose Monitoring System in a Clinical Setting"
        ],
        [
         "Vaccine Therapy in Treating Patients With Metastatic Breast Cancer"
        ],
        [
         "Sodium Butyrate For Improving Cognitive Function In Schizophrenia"
        ],
        [
         "Effects of Chewing Gum Against Postoperative Ileus"
        ],
        [
         "Safety, Efficacy and Pharmacokinetics of ThisCART19A in Patients With Refractory or Relapsed B Cell Lymphoma"
        ],
        [
         "Combining Lesinurad With Allopurinol in Inadequate Responders"
        ],
        [
         "A Study on the Safety and Efficacy of Topiramate in the Treatment of Patients With Bipolar I Disorder"
        ],
        [
         "Atherosclerosis in Rheumatoid Arthritis"
        ],
        [
         "Adalimumab in Adult Japanese Subjects With Rheumatoid Arthritis"
        ],
        [
         "Effects of tDCS and tUS on Pain Perception in OA of the Knee"
        ],
        [
         "REperfusion With Cooling in CerebraL Acute IscheMia II"
        ],
        [
         "Efficacy of Ivermectin in COVID-19"
        ],
        [
         "Evaluation of PillCam™ Colon 2 in Visualization of the Colon"
        ],
        [
         "Safety and Immunogenicity of a Melan-A VLP Vaccine in Advanced Stage Melanoma Patients"
        ],
        [
         "Sex Hormones and Atherosclerosis Prevention in Perimenopausal Women"
        ],
        [
         "Probiotics for Irritable Bowel Syndrome"
        ],
        [
         "Safety and Efficacy Study of Subjects With Onychomycosis of the Great Toenail"
        ],
        [
         "Study of Efficacy and Safety of QAW039 When Added to Standard-of-care Asthma Therapy in Patients With Uncontrolled Asthma"
        ],
        [
         "A 6-Month Extension Study of OTO-104 in Meniere's Disease"
        ],
        [
         "Safety and Efficacy of (PN-152,243)/PN-196,444 in the Prevention of Thrombocytopenia"
        ],
        [
         "Safety and Efficacy of (PN-152,243)/PN-196,444 in the Prevention of Thrombocytopenia"
        ],
        [
         "Faecal Microbiota Transplantation in Irritable Bowel Syndrome"
        ],
        [
         "Impact of an Early Palliative Approach"
        ],
        [
         "To Examine the Lung When People With Diabetes Take an Inhaled Form of Insulin, Compared to Subcutaneous Insulin."
        ],
        [
         "Recombinant Human C1 Inhibitor for the Treatment of Acute Attacks in Patients With Hereditary Angioedema"
        ],
        [
         "Recombinant Human C1 Inhibitor for the Treatment of Acute Attacks in Patients With Hereditary Angioedema"
        ],
        [
         "Recombinant Human C1 Inhibitor for the Treatment of Acute Attacks in Patients With Hereditary Angioedema"
        ],
        [
         "Study of Licarbazepine in the Treatment of Manic Episodes of Bipolar Disorder"
        ],
        [
         "Study of Licarbazepine in the Treatment of Manic Episodes of Bipolar Disorder"
        ],
        [
         "Real-world Effectiveness of Combination Therapies in Primary Care Asthma Management"
        ],
        [
         "Asthma Exacerbation Study"
        ],
        [
         "Efficacy/Safety of Ecraprost in Lipid Emulsion for Treatment of Critical Leg Ischemia Due to Peripheral Arterial Disease"
        ],
        [
         "Clinical Study to Investigate the PK Profiles and Safety of CKD-385 in Healthy Volunteers Under Fasting Conditions"
        ],
        [
         "Cranberry for the Prevention of Urinary Tract Infections"
        ],
        [
         "Epratuzumab in Treating Patients With Non-Hodgkin's Lymphoma"
        ],
        [
         "Study to Evaluate the Safety and Efficacy of a Once-Daily CLS001 Topical Gel Versus Vehicle"
        ],
        [
         "Physiological Brain Atlas Development"
        ],
        [
         "InSpace™ System in Comparison to Best Repair of Massive Rotator Cuff Tear."
        ],
        [
         "12-Week Efficacy and Safety Study of Ibodutant in Women With Irritable Bowel Syndrome With Diarrhea (IBS-D)"
        ],
        [
         "Volumetric Study of the Buttocks After Flap Augmentation in Buttocks Lifting"
        ],
        [
         "Hypoglycemia Associated Autonomic Failure in Type 1 Diabetes Mellitus"
        ],
        [
         "Tiotropium / Respimat One-Year Study"
        ],
        [
         "Docetaxel in Non Small Cell Lung Cancer (NSCLC)"
        ],
        [
         "Docetaxel in Non Small Cell Lung Cancer (NSCLC)"
        ],
        [
         "High Intensity Interval Gait Training in Multiple Sclerosis"
        ],
        [
         "Study to Evaluate the Safety of a Bivalent Vaccine of New 6:2 Influenza Virus Reassortants in Healthy Adults"
        ],
        [
         "Eculizumab to Treat Paroxysmal Nocturnal Hemoglobinuria"
        ],
        [
         "Fresh Frozen Plasma as a Substitute for Albumin in Patients Receiving a Large Volume Paracentesis"
        ],
        [
         "A Pilot Bioequivalence Study of Pomalidomide"
        ],
        [
         "Visual Perceptual Learning for the Treatment of Visual Field Defect"
        ],
        [
         "Nicotine Reinforcement and Smoking-Cue Reactivity: Association With Genetic Polymorphisms"
        ],
        [
         "Efficacy of Viome's Precision Nutrition Program Towards Reducing HbA1c"
        ],
        [
         "AFP Specific T Cell Receptor Transduced T Cells Injection(C-TCR055) in Unresectable Hepatocellular Carcinoma"
        ],
        [
         "A Multi-center, Randomized, Double-blind, Placebo-controlled Study to Evaluate the Efficacy and Safety of Certolizumab Pegol in Combination With Methotrexate in the Treatment of Disease Modifying Antirheumatic Drugs (DMARD)-naïve Adults With Early Active Rheumatoid Arthritis"
        ],
        [
         "Efficacy of Dry Needling in the Treatment of Lateral Epicondylitis"
        ],
        [
         "A Study of SI-6603 in Patients With Lumbar Disc Herniation"
        ],
        [
         "Combination Chemotherapy in Treating Patients With Advanced Non-Small Cell Lung Cancer"
        ],
        [
         "Incomplete Response in Late-Life Depression: Getting to Remission With Buprenorphine"
        ],
        [
         "Combination Chemotherapy in Treating Patients With Colorectal Cancer"
        ],
        [
         "Study of EVP-6124 (Alpha-7 nAChR) as an Adjunctive Pro-Cognitive Treatment in Schizophrenia Subjects on Chronic Stable Atypical Antipsychotic Therapy"
        ],
        [
         "Prevention of Recurrence of Diverticulitis"
        ],
        [
         "Spinal Cord Injury Neuroprotection With Glyburide"
        ],
        [
         "Bespoke vs Standard Instrumentation in TKR"
        ],
        [
         "Study to Assess Rifaximin Soluble Solid Dispersion (SSD) for the Delay of Encephalopathy Decompensation in Cirrhosis"
        ],
        [
         "The Effect of Social Media Use on Eating Behaviours"
        ],
        [
         "Study Comparing Test to Aczone 7.5% and Both to a Placebo Control in the Treatment of Acne Vulgaris"
        ],
        [
         "Pharmacogenomics of Paclitaxel in Ovarian Cancer"
        ],
        [
         "Study of NGX-4010 for the Treatment of Postherpetic Neuralgia"
        ],
        [
         "Traumatic Nightmares Treated by NightWare (To Arouse Not Awaken)"
        ],
        [
         "A Study in Participants With Type 2 Diabetes Mellitus"
        ],
        [
         "Safety and Efficacy of IDP-118 in the Treatment of Plaque Psoriasis"
        ],
        [
         "Study to Evaluate the Safety and the Pharmacokinetics of IY-NT-T"
        ],
        [
         "Validity of Using Connected Soles In Measuring Steps Number In the Older Subject, Hospitalized in Follow-up and Rehabilitative Care and Achieve Its Rehabilitation Objectives"
        ],
        [
         "Hypersensitivity Reaction to Vitrase (Ovine Hyaluronidase)"
        ],
        [
         "Immune Response to Hepatitis C Virus"
        ],
        [
         "A Trauma-Informed Approach for Positive Youth Development for Montana Students"
        ],
        [
         "Cannabis for Spasticity in Multiple Sclerosis"
        ],
        [
         "Acalabrutinib Study With Best Supportive Care Versus Best Supportive Care in Subjects Hospitalized With COVID-19."
        ],
        [
         "A Pilot Evaluation of Adhesives and How They Are Impacted by Output"
        ],
        [
         "Project Health Link: Connecting Patients With Services"
        ],
        [
         "Compression Anastomosis Using the CAR™ 27"
        ],
        [
         "Efficacy and Safety of Summers Non-Pesticide Lice Asphyxiator (L.A.)for the Treatment of Head Lice"
        ],
        [
         "Clinical Assessment of Visual Function With the Acrysof ReSTOR Multifocal IOL"
        ],
        [
         "A Study of the Safety and Efficacy of a New Treatment for Macular Edema Resulting From Retinal Vein Occlusion"
        ],
        [
         "Daily-Dose Consensus Interferon and Ribavirin: Efficacy of Combined Therapy"
        ],
        [
         "Stereotactic Radiation Therapy in Treating Patients With Liver Metastases"
        ],
        [
         "Study Evaluating Bifeprunox in Bipolar Depression"
        ],
        [
         "Validation of the Respirio Flu Test for the Rapid Identification of Influenza A/B"
        ],
        [
         "Study of Efficacy and Safety of Secukinumab in Participants With Moderate-severe Rotator Cuff Tendinopathy"
        ],
        [
         "Patient and Provider Interventions for Managing Osteoarthritis in Primary Care"
        ],
        [
         "A Study to Determine the Fed Bioequivalence of Reformulated OXY Tablets and Original OxyContin® (OXY) Tablets"
        ],
        [
         "Ceftobiprole in Hospital Acquired Pneumonia"
        ],
        [
         "A Bioequivalence Study of the Fixed Dose Combination Tablets of Canagliflozin and Metformin Extended Release (XR) With Respect to the Individual Components"
        ],
        [
         "Monoclonal Antibody Therapy in Treating Patients With Advanced Kidney Cancer"
        ],
        [
         "Joint Health Study"
        ],
        [
         "Fecal Microbiota Transplantation for Ulcerative Colitis"
        ],
        [
         "Fecal Microbiota Transplantation for Ulcerative Colitis"
        ],
        [
         "Study of Liposomal Annamycin for the Treatment of Subjects With Acute Myeloid Leukemia (AML)"
        ],
        [
         "Combination Chemotherapy Plus Radiation Therapy in Treating Patients With Esophageal Cancer"
        ],
        [
         "Boston Puerto Rican Health Study"
        ],
        [
         "Inspiratory Muscle Training in Pulmonary Hypertension"
        ],
        [
         "Safety Study of SGX523, a Small Molecule Met Inhibitor, to Treat Solid Tumors"
        ],
        [
         "Individualized Fortification of Breast Milk"
        ],
        [
         "A Safety, Tolerability, Pharmacokinetics, and Pharmacodynamics Study of JNJ-28431754 in Patients With Type 2 Diabetes Mellitus"
        ],
        [
         "Waitlist-Control Trial of Smartphone CBT for Major Depressive Disorder (MDD)"
        ],
        [
         "Magnetic Resonance Imaging (MRI) of Neuropsychiatric Patients and Healthy Volunteers"
        ],
        [
         "Rituximab in Treating Patients With Waldenstrom's Macroglobulinemia"
        ],
        [
         "Electroacupuncture Analgesia for Colonoscopy"
        ],
        [
         "E-training of Inmate Peer Caregivers for Enhancing Geriatric and End-of-life Care in Prisons"
        ],
        [
         "Transcranial Direct Current Stimulation in Patients With Disorders of Consciousness"
        ],
        [
         "Safety Study of a Contact Lens With Ketotifen in Healthy, Normal Volunteers"
        ],
        [
         "Clinical Evaluation of Two Daily Disposable Contact Lenses"
        ],
        [
         "Clinical Pharmacogenomics of Antidepressant Response"
        ],
        [
         "High Intensity Laser Therapy in the Treatment of Hemiplegic Shoulder Pain"
        ],
        [
         "Daily Sedative Interruption in Critically Ill Patients Being Managed With a Sedation Protocol"
        ],
        [
         "A Multicenter Study Evaluating the Effectiveness of Endo.Angel in Improving the Quality of Colonoscopy"
        ],
        [
         "Study of Edecesertib in Participants With Cutaneous Lupus Erythematosus (CLE)"
        ],
        [
         "Efficacy of Nalmefene in Patients With Alcohol Dependence"
        ],
        [
         "A Study of OPC-262 in Patients With Type 2 Diabetes"
        ],
        [
         "To Investigate the Safety and Tolerability of Repeated Subcutaneous Injections of CAD106 in Alzheimer's Patients"
        ],
        [
         "Behavior, Biology and Well-Being Study"
        ],
        [
         "Topical CBD for Musculoskeletal Pain"
        ],
        [
         "Bronchoscopic Thermal Vapor Ablation (BTVA) for Lung Volume Reduction"
        ],
        [
         "C1-Esteraseremmer-N for the Treatment of Hereditary (and Acquired) Angioedema"
        ],
        [
         "Sargramostim for Myeloid Dendritic Cell Deficiency"
        ],
        [
         "Therapeutic Equivalence Study of Generic Brinzolamide vs Azopt"
        ],
        [
         "Influence of Pain on Exercise-induced Hypoalgesia"
        ],
        [
         "Double Blind Study of Thymopentin Effects on Patients With HIV-1 Infection"
        ],
        [
         "Efficacy and Safety Study of SPL7013 Gel to Prevent the Recurrence of Bacterial Vaginosis (BV)"
        ],
        [
         "Study Evaluating MST-997 in Advanced Malignant Solid Tumors"
        ],
        [
         "Water-based Activity to Enhance Recall in Veterans"
        ],
        [
         "Missed Serious Medical Illness in Psychiatric Patients Seen in an Academic Emergency Department"
        ],
        [
         "Topotecan Episcleral Plaque for Treatment of Retinoblastoma"
        ],
        [
         "Study of WA-NG Telescope Prosthesis in Patients With End-stage Age-related Macular Degeneration"
        ],
        [
         "Neurovascular Coupling in Eyes of Glaucoma Patients"
        ],
        [
         "S90652 in Paediatric Hypertension"
        ],
        [
         "Chemotherapy in Treating Patients With Solid Tumors"
        ],
        [
         "Study in Patients With Asthma"
        ],
        [
         "Study in Patients With Asthma"
        ],
        [
         "Study in Patients With Asthma"
        ],
        [
         "Nicotine Pharmacokinetic Profile and Safety of the Tobacco Heating System 2.2 (THS 2.2)"
        ],
        [
         "Study of FYU-981 in Hyperuricemia With or Without Gout"
        ],
        [
         "Study of FYU-981 in Hyperuricemia With or Without Gout"
        ],
        [
         "Complications After Lower Third Molar Surgery"
        ],
        [
         "Skin Sensitization Test (Modified Draize-95 Test)"
        ],
        [
         "Precision Cell Immunotherapy Combined With TACE in Advanced Liver Cancer"
        ],
        [
         "Precision Cell Immunotherapy Combined With TACE in Advanced Liver Cancer"
        ],
        [
         "Study of Difluprednate Ophthalmic Emulsion in the Treatment of Postoperative Inflammation"
        ],
        [
         "Safety and Tolerability of Repeat Courses of IM Alefacept"
        ],
        [
         "Microbiota Restoration Therapy for Recurrent Clostridium Difficile Infection"
        ],
        [
         "Face Transplantation"
        ],
        [
         "Exercise in Breast Cancer Survivors"
        ],
        [
         "Repeated Neurocognitive Measurements in Depressed Patients"
        ],
        [
         "Prednisone for Heart Failure Patients With Hyperuricemia"
        ],
        [
         "Transanal Versus Laparoscopic Total Mesorectal Excision For Rectal Cancer"
        ],
        [
         "Vaccine Therapy in Treating Patients With Stage IV Melanoma"
        ],
        [
         "Vaccine Therapy in Treating Patients With Stage IV Melanoma"
        ],
        [
         "Vaccine Therapy in Treating Patients With Stage IV Melanoma"
        ],
        [
         "Vaccine Therapy in Treating Patients With Stage IV Melanoma"
        ],
        [
         "Vaccine Therapy in Treating Patients With Metastatic Cancer"
        ],
        [
         "Combination of Intranasal Scopolamine and Sensory Augmentation to Mitigate G-transition Induced Motion Sickness and Enhance Sensorimotor Performance"
        ],
        [
         "Effect of a Component of Fish Oil on Exercise-Induced Bronchoconstriction and Airway Inflammation in Asthma"
        ],
        [
         "Safety and Efficacy Study of A Novel Ointment to Treat Plaque Type Psoriasis"
        ],
        [
         "A Study of CAP-1002 in Ambulatory and Non-Ambulatory Patients With Duchenne Muscular Dystrophy"
        ],
        [
         "Study of Alvimopan for the Management of Opioid-induced Postoperative Bowel Dysfunction/Postoperative Ileus"
        ],
        [
         "Study of Alvimopan for the Management of Opioid-induced Postoperative Bowel Dysfunction/Postoperative Ileus"
        ],
        [
         "A Study of the Safety and Effectiveness of Two Doses of Galantamine Versus Placebo in the Treatment of Patients With Alzheimer's Disease"
        ],
        [
         "Radiation Therapy in Treating Patients With Stage II Prostate Cancer"
        ],
        [
         "China Obstetrics Alliance Cohort Study"
        ],
        [
         "Parent-implemented Social Communication Treatment in Preschool Children With Autism Spectrum Disorder"
        ],
        [
         "Vaccine Therapy in Treating Patients With Kidney Cancer"
        ],
        [
         "WILD 5 Wellness: A 30-Day Intervention"
        ],
        [
         "12 Week Comparison of 5 Mcg and 10 Mcg of Tiotropium / Respimat, Placebo and Ipratropium MDI in COPD"
        ],
        [
         "Mechanisms of Allergen Immunotherapy"
        ],
        [
         "A Study Comparing the Efficacy and Safety of IDP-121 and IDP-121 Vehicle Lotion in the Treatment of Acne Vulgaris"
        ],
        [
         "Multiple Ascending Dose Study to Assess Safety and Pharmacokinetics of Hemay005 In Healthy Subjects"
        ],
        [
         "PET Imaging Study of Amish and Mennonite Patients With CNTNAP2 Mutations"
        ],
        [
         "Cognitive Training in Parkinson's Disease"
        ],
        [
         "Image-Guided Gynecologic Brachytherapy"
        ],
        [
         "Study of the Safety and Efficacy of Apadenoson for Detection of Myocardial Perfusion Defects Using SPECT MPI"
        ],
        [
         "Esomeprazole for Prevention of Upper Gastrointestinal Symptoms Associated With Continuous Use of NSAIDs"
        ],
        [
         "Vaccine Therapy in Treating Patients With Malignant Glioma"
        ],
        [
         "A Dispensing Clinical Trial of Comfilcon A Extended Range Multifocal Lenses"
        ],
        [
         "Imatinib Mesylate in Treating Patients With Myelofibrosis"
        ],
        [
         "Myocardial Ischemia and Transfusion"
        ],
        [
         "Treatment of Apogeotropic Horizontal Canal Benign Paroxysmal Positional Vertigo"
        ],
        [
         "Safety and Efficacy Study Using Gene Therapy for Critical Limb Ischemia"
        ],
        [
         "A Dose-escalation Study in Subjects With Advanced Malignancies"
        ],
        [
         "Comparison of Nutritional Products for People With Type 2 Diabetes"
        ],
        [
         "Probiotics and Gut Health"
        ],
        [
         "Effectiveness and Safety Evaluation of Aqueduct -100 Device"
        ],
        [
         "Validation of a Nutrition Screening Tool"
        ],
        [
         "Sexually Transmitted Infections Among African American Women Who Have Sex With Women"
        ],
        [
         "Study to Evaluate the Efficacy and Safety of Erenumab (AMG 334) in Migraine Prevention"
        ],
        [
         "E7070 in Treating Patients With Solid Tumors"
        ],
        [
         "Efficacy and Safety of Bromfenac Ophthalmic Solution in Cataract Surgery"
        ],
        [
         "The SITE Study - Dexamethasone Ophthalmic Insert In OR on Day of Surgery Versus In-office Post-Op Day 1"
        ],
        [
         "Surgery With or Without Combination Chemotherapy in Treating Patients With Stomach Cancer"
        ],
        [
         "Mutation Screening and Translocation Detection of DISC1 Gene in Schizophrenia"
        ],
        [
         "A Study to Evaluate the Efficacy of Seasonique for the Treatment of Cyclic Pelvic Pain"
        ],
        [
         "Blood Brain Barrier (BBB) Disruption Using Exablate Focused Ultrasound With Doxorubicin for Treatment of Pediatric DIPG"
        ],
        [
         "Alpha-Amino-3-Hydroxy-5-Methyl-4- Isoxazole Propionic Acid Receptor Components of the Anti-Depressant Ketamine Response"
        ],
        [
         "Study Evaluating Pantoprazole in Peptic Ulcer Hemorrhage"
        ],
        [
         "Study to Evaluate JCXH-211 as Monotherapy in Patients With Malignant Solid Tumors"
        ],
        [
         "αPD1-MSLN-CAR T Cells for the Treatment of MSLN-positive Advanced Solid Tumors"
        ],
        [
         "αPD1-MSLN-CAR T Cells for the Treatment of MSLN-positive Advanced Solid Tumors"
        ],
        [
         "Study of STA-5326 Mesylate in Patients With Moderate to Severe Crohn's Disease"
        ],
        [
         "Pharmacotoxicology of Trichloroethylene Metabolites"
        ],
        [
         "Pharmacotoxicology of Trichloroethylene Metabolites"
        ],
        [
         "Vaccine Therapy in Preventing Cervical Cancer in Patients With Cervical Intraepithelial Neoplasia"
        ],
        [
         "Impact of Heart Failure on Calcium Homeostasis and Mitochondrial Function in Human Skeletal Muscle"
        ],
        [
         "Study of Difluprednate Ophthalmic Emulsion in the Treatment of Uveitis"
        ],
        [
         "A Prospective Clinical Study On A Total Hip Resurfacing System"
        ],
        [
         "Vaccine Therapy in Treating Women With Metastatic Breast Cancer"
        ],
        [
         "SPD489 in Adults Aged 18-55 Years With Moderate to Severe Binge Eating Disorder"
        ],
        [
         "A Study of Lumacaftor in Combination With Ivacaftor in Cystic Fibrosis Subjects Aged 12 Years and Older Who Are Homozygous for the F508del-CFTR Mutation"
        ],
        [
         "Safety and Efficacy of Metabolically Armed CD19 CAR-T Cells (Meta10-19) in the Treatment of r/r DLBCL Clinical Research"
        ],
        [
         "Evaluating Body Acceptance Programs for Young Men"
        ],
        [
         "Effectiveness of Aurix Therapy in Venous Leg Ulcers"
        ],
        [
         "Combination Chemotherapy in Treating Patients With Extensive-Stage Small Cell Lung Cancer"
        ],
        [
         "Combination Chemotherapy in Treating Patients With Extensive-Stage Small Cell Lung Cancer"
        ],
        [
         "Clinical Study Comparing the Efficacy and Safety of IDP-126 Gel in the Treatment of Acne Vulgaris"
        ],
        [
         "Insulin Lispro 6 Days Versus Insulin Aspart 6 Days in Pump Use"
        ],
        [
         "Protein Requirements for Active Children"
        ],
        [
         "Response Monitoring Trial in Patients With Suspected Recurrence of Glioblastoma"
        ],
        [
         "A Study of the Efficacy and Safety of Topiramate as add-on Therapy in the Treatment of Epilepsy Patients With Difficult to Treat, Partial-onset Seizures."
        ],
        [
         "Ceftobiprole in the Treatment of Resistant Staphylococcus Aureus Skin and Skin Structure Infections"
        ],
        [
         "The Use of a Dynamic Compression Intramedullary Nail for Tibiotalocalcaneal Arthrodesis"
        ],
        [
         "The Use of a Dynamic Compression Intramedullary Nail for Tibiotalocalcaneal Arthrodesis"
        ],
        [
         "A Study of Ketorolac for the Treatment of Inflammation and Pain Associated With Cataract Surgery"
        ],
        [
         "Psilocybin for Treatment-Resistant Depression"
        ],
        [
         "Immunotherapy Using Tumor Infiltrating Lymphocytes for Patients With Metastatic Melanoma"
        ],
        [
         "Combination Chemotherapy in Treating Patients With Advanced Prostate Cancer"
        ],
        [
         "Preconditioning Shields Against Vascular Events in Surgery"
        ],
        [
         "Immunity Modification of Full Term Infants According to the Type of Feeding and Mode of Delivery"
        ],
        [
         "A Study to Assess the Efficacy and Safety of REL-1017 as Adjunctive Treatment for Major Depressive Disorder (MDD)"
        ],
        [
         "A Study to Assess the Safety, Tolerability and Pharmacokinetics of ASP015K"
        ],
        [
         "Efficacy and Safety Study for Ecabet Ophthalmic Solution for Treating Dry Eye Syndrome"
        ],
        [
         "Bio-equivalence Study With Clinical Endpoints in the Treatment of Acne Vulgaris"
        ],
        [
         "Evaluation of Efficacy, Safety and Tolerability of Targretin Capsules in Patients With Advanced or Metastatic Non-small Cell Lung Cancer"
        ],
        [
         "Safety and Efficacy Study of Transplantation of EPCs to Treat Idiopathic Pulmonary Arterial Hypertension"
        ],
        [
         "Movicol in Childhood Constipation (ProMotion Study)"
        ],
        [
         "Efficacy Study of PN400 (VIMOVO) Twice Daily and Celebrex Once Daily in Patients With Osteoarthritis"
        ],
        [
         "Combination Chemotherapy in Treating Patients With AIDS-Related Lymphoma"
        ],
        [
         "Smoking Cessation Study"
        ],
        [
         "Clinical Evaluation on HA Coated Dynamic Hip Screws for Trochanteric Femoral Fractures"
        ],
        [
         "Dual Implant Versus Single Implant Distal End of Femur"
        ],
        [
         "A Relative Bioavailability Study of Glyburide/Metformin HCl 5 mg/500 mg Tablets Under Fasting Conditions"
        ],
        [
         "Safety and Efficacy of Levomilnacipran ER (F2695 SR) in Major Depressive Disorder"
        ],
        [
         "Safety and Efficacy of Levomilnacipran ER (F2695 SR) in Major Depressive Disorder"
        ],
        [
         "Immunogenicity, Safety and Tolerability of Two Doses of Adjuvanted and Non-adjuvanted Swine Origin A/H1N1 Monovalent Influenza Vaccine in Healthy Subjects 18 or More Years of Age"
        ],
        [
         "Evaluation of Mineral Absorption in Infants Fed Infant Formula"
        ],
        [
         "A Study of a Glaucoma Therapy to Treat Open-Angle Glaucoma or Ocular Hypertension"
        ],
        [
         "A Study of a Glaucoma Therapy to Treat Open-Angle Glaucoma or Ocular Hypertension"
        ],
        [
         "Vaccine Therapy in Treating Patients With Newly Diagnosed Glioblastoma Multiforme"
        ],
        [
         "Observational Study to Evaluate the Safety of Levemir® in Diabetes"
        ],
        [
         "Pharmacokinetic Study in Healthy Volunteers"
        ],
        [
         "A Study of the Effectiveness and Safety of Dapoxetine in the Treatment of Men With Premature Ejaculation"
        ],
        [
         "A Study of the Effectiveness and Safety of Dapoxetine in the Treatment of Men With Premature Ejaculation"
        ],
        [
         "IncobotulinumtoxinA (Xeomin) Versus Placebo in the Treatment of Glabellar Frown Lines"
        ],
        [
         "From Nature to Bedside- Algae Based Bio Compound for Prevention and Treatment of Inflammation, Pain and IBD"
        ],
        [
         "COVID-19 Antibody Responses in Cystic Fibrosis"
        ],
        [
         "COVID-19 Antibody Responses in Cystic Fibrosis"
        ],
        [
         "COVID-19 Antibody Responses in Cystic Fibrosis"
        ],
        [
         "Study of Dehydroepiandrosterone (DHEA) in Respiratory Pulmonary Hypertension in Adults"
        ],
        [
         "1-Octanol to Treat Essential Tremor"
        ],
        [
         "Safety and Efficacy Study of Corneal Collagen Cross-Linking in Eyes With Keratoconus"
        ],
        [
         "Sorafenib and Temsirolimus in Treating Patients With Metastatic, Recurrent, or Unresectable Melanoma"
        ],
        [
         "Functional Remediation for Bipolar Disorder"
        ],
        [
         "Efficacy and Safety of Lubiprostone in Patients With Irritable Bowel Syndrome With Constipation"
        ],
        [
         "Study to Investigate the Safety/Tolerability and Pharmacokinetics/Pharmacodynamics of CKD-519"
        ],
        [
         "Study to Investigate the Safety/Tolerability and Pharmacokinetics/Pharmacodynamics of CKD-519"
        ],
        [
         "Spinal Versus General Anesthesia for Laparoscopic Cholecystectomy"
        ],
        [
         "A New and Innovative Method for CO2 Removal in Anesthetic Circuits: Replacing Chemical Granulate"
        ],
        [
         "Efficacy of Changing to TRAVATAN® From Prior Therapy"
        ],
        [
         "A Study of the Safety and Anesthetic Effect of AG-920 Topical Ophthalmic Solution"
        ],
        [
         "Study of Gabapentin Extended Release (G-ER) in the Treatment of Vasomotor (Hot Flashes/Hot Flushes) Symptoms in Postmenopausal Women"
        ],
        [
         "Effect of Albendazole Dose on Clearance of Filarial Worms"
        ],
        [
         "Gemcitabine Plus Radiation Therapy in Treating Patients With Pancreatic Cancer"
        ],
        [
         "Evaluating the Safety of and Immune Response to an HIV Vaccine in Healthy, HIV-Uninfected Adults in Uganda"
        ],
        [
         "Clinical Evaluation of Two Daily Disposable Silicone Hydrogel Contact Lenses"
        ],
        [
         "Study of Epratuzumab in Systemic Lupus Erythematosus"
        ],
        [
         "Study of Epratuzumab in Systemic Lupus Erythematosus"
        ],
        [
         "Protocol for Postmenopausal Women at Increased Risk of Developing Breast Cancer"
        ],
        [
         "Berodual® Respimat® Solution for Inhalation in Patients With Chronic Obstructive Airways Disease"
        ],
        [
         "Gene Therapy for Chronic Granulomatous Disease"
        ],
        [
         "Dry Needling for Spasticity in Stroke"
        ],
        [
         "Micronized dHACM Injectable for the Treatment of Plantar Fasciitis"
        ],
        [
         "Duloxetine Versus Placebo in Chronic Low Back Pain"
        ],
        [
         "Comparison of Adjuvanted Hepatitis B Vaccine to Double Dose of Engerix™-B in Pre- /Haemodialysis Patients Aged ≥15 Years"
        ],
        [
         "Comparison of Adjuvanted Hepatitis B Vaccine to Double Dose of Engerix™-B in Pre- /Haemodialysis Patients Aged ≥15 Years"
        ],
        [
         "A Study of the Efficacy and Safety of RWJ-333369 as add-on Therapy in the Treatment of Partial Onset Seizures."
        ],
        [
         "PG2 Treatment for Improving Fatigue Among Advanced Cancer Patients Under Standard Palliative Care"
        ],
        [
         "Drug-Drug Interaction Study in Healthy Adult Volunteers"
        ],
        [
         "Drug-Drug Interaction Study in Healthy Adult Volunteers"
        ],
        [
         "Drug-Drug Interaction Study in Healthy Adult Volunteers"
        ],
        [
         "Study of Compound Edaravone Injection for Treatment of Acute Ischemic Stroke"
        ],
        [
         "Recombinant Factor VIIa in Acute Intracerebral Haemorrhage"
        ],
        [
         "A Double-blind, Randomized Conversion to Monotherapy Study to Evaluate the Efficacy and Safety of Brivaracetam in Subjects (≥ 16 to 75 Years Old) With Partial Onset Seizures"
        ],
        [
         "Vaccine Therapy Plus QS21 in Treating Patients With Progressive Prostate Cancer"
        ],
        [
         "Efficacy and Safety of OBE2109 in Subjects With Heavy Menstrual Bleeding Associated With Uterine Fibroids"
        ],
        [
         "Feasibility of a Minimally Invasive Image-Guided Surgery System for Hepatic Procedures"
        ],
        [
         "Feasibility of a Minimally Invasive Image-Guided Surgery System for Hepatic Procedures"
        ],
        [
         "Evaluating PN 400 (VIMOVO) in Reducing Gastric Ulcers Compared to Non-steroidal Antiinflammatory Drug (NSAID) Naproxen"
        ],
        [
         "NOTES-Assisted Laparoscopic Cholecystectomy Surgery"
        ],
        [
         "Bright Light Therapy for Non-motor Symptoms in Parkinson's Disease"
        ],
        [
         "A Clinical Research of CD22-Targeted CAR-T in B Cell Malignancies"
        ],
        [
         "Neoadjuvant and Adjuvant Tislelizumab for Nasopharyngeal Carcinoma"
        ],
        [
         "Prehabilitation in Pancreatic Surgery"
        ],
        [
         "Vitamin D Supplementation in Children With Sickle Cell Disease"
        ],
        [
         "Non-invasive Melanoma Assessment Using a Topical Fluorescence Reagent and Optical Imaging"
        ],
        [
         "Comparison of the Skin Conductance Values and Patient Pain Scores During Minor Procedures in the ICU"
        ],
        [
         "N-Acetylcysteine and Milk Thistle for Treatment of Diabetic Nephropathy"
        ],
        [
         "Mapracorat Ophthalmic Suspension, 3% for the Treatment of Ocular Inflammation and Pain Following Cataract Surgery"
        ],
        [
         "Mid-term Data Collection of the Treatment of Intracranial Aneurysms With the WEB™ Aneurysm Embolization System"
        ],
        [
         "Vaccine Therapy Plus QS21 in Treating Patients With Prostate Cancer"
        ],
        [
         "Pulpotomy vs Root Canal Treatment for Teeth With Symptomatic Irreversible Pulpitis"
        ],
        [
         "Healthy Term Infants Fed Milk-Based Formulas"
        ],
        [
         "Combination Chemotherapy in Treating Patients With Recurrent or Metastatic Colorectal Cancer"
        ],
        [
         "To Evaluate The Relationship Between Plasma Drug Levels And Receptor Binding In Brain Using PET (Positron Emission Tomography) In Healthy Volunteers"
        ],
        [
         "Microbial Epidemiology and Chlorhexidine Suscebtibily of Oropharyngeal and Intestinal Colonization"
        ],
        [
         "A Clinical Study of MIL62 in Primary Membranous Nephropathy"
        ],
        [
         "Dopamine Receptor Imaging to Predict Response to Stimulant Therapy in Chronic TBI"
        ],
        [
         "Phase 3 Study of Efficacy and Safety of the XaraColl® Bupivacaine Implant After Hernioplasty"
        ],
        [
         "A Study to Evaluate the Efficacy and Safety of Bimekizumab in Adult Subjects With Moderate to Severe Chronic Plaque Psoriasis"
        ],
        [
         "Multi-Center Study of New Medications to Treat Vaginal Infections"
        ],
        [
         "Multi-Center Study of New Medications to Treat Vaginal Infections"
        ],
        [
         "Safety and Efficacy of APD356 in the Treatment of Obesity"
        ],
        [
         "Effect of Liraglutide on Blood Glucose Control in Subjects With Type 2 Diabetes"
        ],
        [
         "Effect of Liraglutide on Blood Glucose Control in Subjects With Type 2 Diabetes"
        ],
        [
         "Effect of Liraglutide on Blood Glucose Control in Subjects With Type 2 Diabetes"
        ],
        [
         "Effect of Liraglutide on Blood Glucose Control in Subjects With Type 2 Diabetes"
        ],
        [
         "Safety and Effectiveness of NXY-059 for the Treatment of Patients Who Have Suffered From a Stroke"
        ],
        [
         "A Study of Ocrelizumab in Participants With Relapsing Remitting Multiple Sclerosis (RRMS) Who Have Had a Suboptimal Response to an Adequate Course of Disease-Modifying Treatment (DMT)"
        ],
        [
         "Maintenance Obinutuzumab in Treating Patients With Central Nervous System Lymphoma Who Have Achieved a Complete or Partial Response"
        ],
        [
         "Treatment of Temporomandibular Dysfunction With Hypertonic Dextrose Injection"
        ],
        [
         "Dental Support and the Second Stage of Labor Among Multiparous Women"
        ],
        [
         "High Dose Sequential Therapy and Autologous Stem Cell Rescue for Multiple Myeloma"
        ],
        [
         "Maternal Probiotic Intervention to Improve Gut Health"
        ],
        [
         "Evaluate Safety and Pharmacokinetics of HLX70 in Healthy Adult Volunteers"
        ],
        [
         "Study to Evaluate Safety/Efficacy of a Single Pre-Op Dose of AYX1 Injection to Treat Pain After Knee Replacement Surgery"
        ],
        [
         "Pexiganan Versus Placebo Control for the Treatment of Mild Infections of Diabetic Foot Ulcers"
        ],
        [
         "Sentinel Node Biopsy in Endometrial Cancer"
        ],
        [
         "A Clinical Trial of an Inactivated Quadrivalent Influenza Vaccine in Chinese Children Aged 3 to 8 Years"
        ],
        [
         "Pain Program for Active Coping & Training"
        ],
        [
         "Planned Semi-Elective Lung Tx Study"
        ],
        [
         "Lung Pharmacokinetics (PK) in Epithelial Lining Fluid (ELF)"
        ],
        [
         "Powered Echelon Device in VATS Surgery"
        ],
        [
         "Efficacy and Safety of Enteric-coated Mycophenolate Sodium (EC-MPS) in de Novo Kidney Transplant Recipients"
        ],
        [
         "A Study of DPP-IV Inhibitor in Patients With Type 2 Diabetes"
        ],
        [
         "Real Life Effectiveness in Patients With Not Optimally Controlled Asthma"
        ],
        [
         "Monoclonal Antibody Therapy in Treating Patients With Advanced Colorectal Cancer"
        ],
        [
         "Endoscopic Ultrasound-Guided Portosystemic Pressure Gradient Measurements"
        ],
        [
         "Efficacy, Safety and Tolerability of Agomelatine in the Treatment of Major Depressive Disorder"
        ],
        [
         "Exposure, Relaxation, & Rescripting Therapy-Child"
        ],
        [
         "Exacerbations and Their Outcomes International (EXACOS International)"
        ],
        [
         "AGN-241751 in the Treatment of Major Depressive Disorder"
        ],
        [
         "A Study to Assess the Safety and Effectiveness of Tacrolimus Cream in the Treatment of Psoriasis"
        ],
        [
         "Infant Chest Compression"
        ],
        [
         "A Study of TRK-950 in Patients With Advanced Solid Tumors"
        ],
        [
         "Relative Bioavailability, Pharmacokinetics, Safety and Tolerability of BIIL 284 BS in Healthy Volunteers"
        ],
        [
         "Cognitive Remediation for Schizophrenia"
        ],
        [
         "Treatment of Pain Associated With Fibromyalgia"
        ],
        [
         "Treatment of Pain Associated With Fibromyalgia"
        ],
        [
         "Crossover Study to Compare the Pharmacokinetics and Bioavailability of a Novel Furosemide Regimen Administered Subcutaneously vs. the Same Dose Administered Intravenously in Subjects With Chronic Heart Failure"
        ],
        [
         "Effects of Red Light LED Therapy on Body Contouring"
        ],
        [
         "Personal Decision Support System for Heart Failure Management"
        ],
        [
         "Clinical Reminders in Test Reports to Improve Guideline Compliance"
        ],
        [
         "The HIV Functional Cure Potential of UB-421 in ART Stabilized HIV-1 Patients"
        ],
        [
         "Study of 18F-DCFPyL PET/CT Imaging in Patients With Prostate Cancer"
        ],
        [
         "Interleukin-2 in Treating Patients With Metastatic Kidney Cancer"
        ],
        [
         "Protein Supplementation in Dialysis Patients"
        ],
        [
         "Risk Stratification of Patients With Suspected COVID-19 Presenting to the ED"
        ],
        [
         "Efficacy and Safety of DaxibotulinumtoxinA for Injection to Treat Moderate to Severe Glabellar Lines"
        ],
        [
         "Deep Brain Stimulation for Treatment Resistant Depression"
        ],
        [
         "Deep Brain Stimulation for Treatment Resistant Depression"
        ],
        [
         "ONO-4538 Phase I Study in Patients With Solid Tumor"
        ],
        [
         "Combination Chemotherapy in Treating Patients With Bladder Cancer"
        ],
        [
         "A Study of Minirin Melt in Patients With Nocturia"
        ],
        [
         "Study of the Efficacy, Safety and Tolerability of Serlopitant for the Treatment of Pruritus (Itch) With Prurigo Nodularis"
        ],
        [
         "Surveillance For New Lung Primaries"
        ],
        [
         "MyndMove Therapy for Severe Hemiparesis of the Upper Limb Following Stroke"
        ],
        [
         "Study Assessing Vagus Nerve Stimulation in CoViD-19 Respiratory Symptoms"
        ],
        [
         "Combination Chemotherapy in Treating Patients With Stage IIIB or Stage IV Non-small Cell Lung Cancer"
        ],
        [
         "Neuromuscular Intervention Targeted to Mechanisms of ACL Load in Female Athletes"
        ],
        [
         "Efficacy, Safety and Tolerability of a Novel Malathion Formulation in Patients 2 Years and Older With Head Lice"
        ],
        [
         "Study of Adoptive Immunotherapy in Relapsed and Non-resectable Sarcomas After Multimodal Treatment."
        ],
        [
         "Intranasal Oxytocin and Learning in Autism"
        ],
        [
         "Combination Chemotherapy in Treating Patients With Multiple Myeloma"
        ],
        [
         "A Relative Bioavailability and Food-Effect Study of GSK3640254 Tablet and Capsule Formulations in Healthy Participants"
        ],
        [
         "Nicotinic Receptors and Schizophrenia"
        ],
        [
         "Nicotinic Receptors and Schizophrenia"
        ],
        [
         "The Effect of Music Therapy on Pain and Anxiety"
        ],
        [
         "Magnesium and Vascular Stiffness"
        ],
        [
         "The Effect of Time-Restricted Eating in Cardiometabolic Health"
        ],
        [
         "Dynamic Connectivity Under Metabolic Constraints"
        ],
        [
         "A Study of the Efficacy and Safety of DFD-06 Cream in the Treatment of Moderate to Severe Plaque Psoriasis"
        ],
        [
         "Artificial Intelligence and Bowel Cleansing Quality"
        ],
        [
         "Efficacy and Safety of Poly-L-lactic Acid"
        ],
        [
         "Phase 3 Papulopustular Rosacea Study"
        ],
        [
         "Controlled Study of ONO-5920 in Patients With Involutional Osteoporosis in Japan"
        ],
        [
         "Controlled Study of ONO-5920 in Patients With Involutional Osteoporosis in Japan"
        ],
        [
         "Nexium Dyspepsia/AST"
        ],
        [
         "Vaccine Therapy in Treating Patients With Metastatic Prostate Cancer That Has Not Responded to Hormone Therapy"
        ],
        [
         "Study of Efficacy and Safety of QAW039 in Patients With Severe Asthma Inadequately Controlled With Standard of Care Asthma Treatment."
        ],
        [
         "Effects of Pregnancy and Childbirth on Pelvic Floor Morphology and Sexual Function in Egyptian Women"
        ],
        [
         "Efficacy and Safety Study of Prucalopride for the Treatment of Chronic Constipation"
        ],
        [
         "Efficacy and Safety Study of Prucalopride for the Treatment of Chronic Constipation"
        ],
        [
         "Study of Efficacy, Safety and Tolerability of Levodopa-Carbidopa Intestinal Gel in Levodopa-Responsive Parkinson's Subjects"
        ],
        [
         "Evaluation of the Intubating Laryngeal Airway in Children"
        ],
        [
         "Evaluation of the Intubating Laryngeal Airway in Children"
        ],
        [
         "A Study to Evaluate the Efficacy and Safety of Bimekizumab in Study Participants With Moderate to Severe Hidradenitis Suppurativa"
        ],
        [
         "Safety and Effectiveness Study of the AcuFocus Corneal Inlay ACI 7000PDT in Presbyopes"
        ],
        [
         "Non-invasive Diagnostics of Pulmonary Hypertension With Dual Energy Computed Tomography"
        ],
        [
         "A Study of Tenecteplase for Restoration of Function in Dysfunctional Central Venous Catheters"
        ],
        [
         "Suprachoroidal Injection of Triamcinolone Acetonide With IVT Aflibercept in Subjects With Macular Edema Following RVO"
        ],
        [
         "Doripenem in the Treatment of Complicated Intra-Abdominal Infections"
        ],
        [
         "Immunogenicity and Safety of a Combined Vaccine to Prevent Measles, Mumps, Rubella and Chickenpox Diseases"
        ],
        [
         "Afatinib in NSCLC With HER2 Mutation"
        ],
        [
         "Evaluation of All'InCath in Peripheral Vasculature Percutaneous Transluminal Angioplasty."
        ],
        [
         "Efficacy and Safety of Valsartan/Hydrochlorothiazide Combination Therapy in Patients With Hypertension"
        ],
        [
         "A Phase 3 Study to Evaluate the Efficacy and Safety of Tralokinumab in Adults and Adolescents With Uncontrolled Asthma"
        ],
        [
         "A Study of ARQ 197 in Combination With Erlotinib"
        ],
        [
         "Behaviour and Cognitive Evaluation for Dialysis Elderly Patients (BCDE)"
        ],
        [
         "Rifaximin 3 Times/Day (TID) for Non-Constipation Irritable Bowel Syndrome (IBS)"
        ],
        [
         "Team Approach to Polypharmacy Evaluation and Reduction"
        ],
        [
         "Gardasil Immunogenicity With Needle-Free Injection"
        ],
        [
         "A Study of Allogeneic Human UC-MSC and Liberation Therapy (When Associated With CCSVI) in Patients With RRMS"
        ],
        [
         "Efficacy and Safety of the Mometasone Nasal Gel in the Treatment of Persistent Allergic Rhinitis"
        ],
        [
         "Epithelium-On Corneal Cross-linking in Subjects 8 to 45 Years of Age With Keratoconus"
        ],
        [
         "Amblyopia and Strabismus Detection Using a Pediatric Vision Scanner"
        ],
        [
         "Amblyopia and Strabismus Detection Using a Pediatric Vision Scanner"
        ],
        [
         "Cross-over Comparison of the V60 System to Other Bi-Level Noninvasive Ventilators"
        ],
        [
         "An Efficacy and Safety Study of Golimumab (CNTO 148) in Participants With Moderately to Severely Active Ulcerative Colitis"
        ],
        [
         "TNF-Alpha Inhibition for Treatment of Alzheimer's Disease"
        ],
        [
         "Contraceptive Awareness and Reproductive Education"
        ],
        [
         "Safety and Effectiveness of Visipaque 320mg-I/ml for Use in Contrast-Enhanced CT Angiography of Arteries of the Heart"
        ],
        [
         "Zenith® Low Profile AAA Endovascular Graft"
        ],
        [
         "Biological Therapy in Treating Patients With Metastatic Cancer"
        ],
        [
         "Safety and Efficacy Study to Treat Recurrent Grade 4 Malignant Brain Tumors"
        ],
        [
         "Photodynamic Therapy in Treating Patients With Skin Cancer"
        ],
        [
         "Laser and Medical Treatment of Diabetic Macular Edema"
        ],
        [
         "Exercise and Weight Control"
        ],
        [
         "CSC OnDemand: An Innovative Online Learning Platform for Implementing Coordinated Specialty Care"
        ],
        [
         "Vaccine Therapy in Treating Patients With Metastatic Melanoma"
        ],
        [
         "Vaccine Therapy in Treating Patients With Metastatic Melanoma"
        ],
        [
         "Vaccine Therapy in Treating Patients With Metastatic Melanoma"
        ],
        [
         "Vaccine Therapy in Treating Patients With Metastatic Melanoma"
        ],
        [
         "Vaccine Therapy in Treating Patients With Metastatic Melanoma"
        ],
        [
         "Vaccine Therapy in Treating Patients With Metastatic Melanoma"
        ],
        [
         "Vaccine Therapy in Treating Patients With Metastatic Melanoma"
        ],
        [
         "Vaccine Therapy in Treating Patients With Metastatic Melanoma"
        ],
        [
         "Vaccine Therapy in Treating Patients With Metastatic Solid Tumors"
        ],
        [
         "Physiologic Monitoring of Antidepressant Treatment Response"
        ],
        [
         "Accelerated Treatment of Endocarditis"
        ],
        [
         "Delirium Assessment in the Pediatric Intensive Care Unit"
        ],
        [
         "Deep Brain Stimulation in Treatment Resistant Schizophrenia"
        ],
        [
         "Safety and Efficacy Study of Dexmethylphenidate in Children With ADHD"
        ],
        [
         "Hypofractionated Radiotherapy for Prostate Cancer"
        ],
        [
         "Selenium in the Prevention of Cancer"
        ],
        [
         "A Study of AK112, a PD-1/VEGF Bispecific Antibody, for Advanced Solid Tumors"
        ],
        [
         "Treatment of Panic Disorder Via Internet With a Wireless Temperature Biofeedback Ring"
        ],
        [
         "Combination Chemotherapy in Treating Children With Acute Lymphoblastic Leukemia"
        ],
        [
         "Misoprostol Prior to Intrauterine Device (IUD) Insertion in Nulliparous Women"
        ],
        [
         "Misoprostol Prior to Intrauterine Device (IUD) Insertion in Nulliparous Women"
        ],
        [
         "A Phase I Study to Evaluate Safety, Tolerability and Pharmacokinetics of ONO-4053 in Healthy Volunteers"
        ],
        [
         "Bifeprunox in the Treatment of Schizophrenia"
        ],
        [
         "A Safety Study of ARRY-403 in Patients With Type 2 Diabetes"
        ],
        [
         "A Clinical Trial to Compare Safety and Pharmacokinetic Characteristics of CKD-337"
        ],
        [
         "Chemotherapy in Treating Patients With Advanced Solid Tumors"
        ],
        [
         "Chemotherapy in Treating Patients With Advanced Solid Tumors"
        ],
        [
         "Chemotherapy in Treating Patients With Advanced Solid Tumors"
        ],
        [
         "The Effects of Virtual Reality Based Exercises in Patients With Adhesive Capsulitis"
        ],
        [
         "Is Nasogastric Tube Necessary After Pancreaticoduodenectomy?"
        ],
        [
         "Balance in Children With Cochlear Implants"
        ],
        [
         "Recombinant Human Angiotensin-converting Enzyme 2 (rhACE2) as a Treatment for Patients With COVID-19"
        ],
        [
         "Study Evaluating the Safety and Efficacy of JWCAR029 in Adult Subjects With Relapsed and Refractory B-cell Non-Hodgkin Lymphoma"
        ],
        [
         "A Controlled Clinical Study to Determine the Gingivitis Benefit of Flossing"
        ],
        [
         "Newborn Screening for Spinal Muscular Atrophy"
        ],
        [
         "Controlled Study of MK-0431/ONO-5435 in Patients With Type 2 Diabetes Mellitus"
        ],
        [
         "Controlled Study of MK-0431/ONO-5435 in Patients With Type 2 Diabetes Mellitus"
        ],
        [
         "Testing Pediatric Rheumatology Diagnostic Decision Support in Clinical Use"
        ],
        [
         "A Study to Compare the Efficacy and Safety of Topical Administration of FMX-101 for Treatment of Moderate-to-Severe Acne"
        ],
        [
         "The Influence of Collective Schemas on Individual Memory"
        ],
        [
         "The Impact of 8 Weeks of a Digital Meditation Application on Work Stress"
        ],
        [
         "Efficacy of Exclusive Enteral Nutrition in Adult Active Crohn's Disease"
        ],
        [
         "Treatment of Adults With Growth Hormone Deficiency"
        ],
        [
         "Alvocidib, Cytarabine, and Mitoxantrone in Treating Patients With Newly Diagnosed Acute Myeloid Leukemia"
        ],
        [
         "Lapatinib in Combination With Vinorelbine"
        ],
        [
         "A Study of Glaucoma Therapy to Treat Open-Angle Glaucoma or Ocular Hypertension"
        ],
        [
         "A Study of Glaucoma Therapy to Treat Open-Angle Glaucoma or Ocular Hypertension"
        ],
        [
         "A Study of Glaucoma Therapy to Treat Open-Angle Glaucoma or Ocular Hypertension"
        ],
        [
         "A Study of Glaucoma Therapy to Treat Open-Angle Glaucoma or Ocular Hypertension"
        ],
        [
         "A Study to Assess the Efficacy and Safety of TC-5214 as an Adjunct Therapy in Patients With Major Depressive Disorder"
        ],
        [
         "Evaluation of Implants Placed Immediately or Delayed Into Extraction Sites"
        ],
        [
         "Combination Chemotherapy in Treating Patients With Locally Advanced or Metastatic Solid Tumors"
        ],
        [
         "Combination Chemotherapy in Treating Patients With Locally Advanced or Metastatic Solid Tumors"
        ],
        [
         "Ilaprazole for the Treatment of Gastroesophageal Reflux Disease (GERD) in Chinese Patients"
        ],
        [
         "Safety and Efficacy of KPI-121 in Subjects With Dry Eye Disease"
        ],
        [
         "A Study of Adjunctive Aripiprazole in Patients With Major Depressive Disorder"
        ],
        [
         "Study of BCMA CAR-T in Multiple Myeloma"
        ],
        [
         "Predictors of Postoperative Pain"
        ],
        [
         "Cisplatin, Paclitaxel, and Everolimus in Treating Patients With Metastatic Breast Cancer"
        ],
        [
         "Autoimmune Basis for Postural Tachycardia Syndrome"
        ],
        [
         "A Clinical Study to Evaluate the Efficacy and Safety of CKD-351"
        ],
        [
         "Ketoprofen 10% Cream for Treatment of Pain Associated With Mild to Moderate Acute Soft Tissue Injury"
        ],
        [
         "Efficacy and Safety Study of OPC-1085EL Ophthalmic Solution in Subjects With Glaucoma or Ocular Hypertension"
        ],
        [
         "Tisotumab Vedotin (HuMax®-TF-ADC) Safety Study in Patients With Solid Tumors"
        ],
        [
         "Liposomal Bupivacaine in Total Knee Arthroplasty"
        ],
        [
         "Chemotherapy, Radiation Therapy, and Umbilical Cord Blood Transplantation in Treating Patients With Hematologic Cancer"
        ],
        [
         "FR901228 in Treating Patients With Relapsed or Refractory Non-Hodgkin's Lymphoma"
        ],
        [
         "A Study of the Effectiveness and Safety of Risperidone in the Treatment of Behavioral Disturbances in Patients With Dementia"
        ],
        [
         "Types of Starch and Their Effect on Blood Glucose, Appetite and Food Intake"
        ],
        [
         "Chronic Total Occlusion Registry"
        ],
        [
         "Magnetic Resonance Imaging to Detect Brain Damage in Patients With Multiple Sclerosis"
        ],
        [
         "Magnetic Resonance Imaging to Detect Brain Damage in Patients With Multiple Sclerosis"
        ],
        [
         "Safety Study of Pegylated Interferon Lambda Plus Single or 2 Direct Antiviral Agents With Ribavirin"
        ],
        [
         "Light Therapy in Parkinson's Disease"
        ],
        [
         "Glycemic Response Testing"
        ],
        [
         "Safety and Efficacy Study of Nitazoxanide in the Treatment of Acute Uncomplicated Influenza"
        ],
        [
         "Adipocytokines in Endometrial Cancer"
        ],
        [
         "A Clinical Effectiveness Study Examining the Efficacy and Safety of ONS-5010 in Subjects With Neovascular Age-related Macular Degeneration (AMD)"
        ],
        [
         "Intraoperative Radiation Therapy for Resectable Pancreatic Cancer"
        ],
        [
         "Development and Validation of a Symptom Scale for Children With Chronic Graft-versus-Host Disease"
        ],
        [
         "Human Heterologous Liver Cells for Infusion in Children With Urea Cycle Disorders"
        ],
        [
         "Exercise to Boost Response to Checkpoint Blockade Immunotherapy"
        ],
        [
         "Amyloid Accumulation After Mild Traumatic Brain Injury"
        ],
        [
         "Safety & Efficacy of Peginesatide for Maintenance Treatment of Anemia in Participants With Chronic Kidney Disease on Hemodialysis"
        ],
        [
         "Exploring Massage Benefits for Arthritis of the Knee"
        ],
        [
         "Safety and Efficacy Trial With Zoledronic Acid for the Treatment of Paget's Disease of Bone, Including an Extended Observation Period"
        ],
        [
         "Efficacy and Safety of Intravenous Fosfomycin in Prosthetic Joint Infection"
        ],
        [
         "Study of Transdermal Testosterone Patches in Surgically Menopausal Women With Low Libido"
        ],
        [
         "Bariatric Endoscopy and NAFLD"
        ],
        [
         "Combination Chemotherapy Followed by Peripheral Stem Cell Transplantation in Treating Patients With Chronic Myelogenous Leukemia"
        ],
        [
         "A Home-based Intervention to Promote Mindful Breathing Awareness Through Pursed-lip Breathing Training for COPD Patients"
        ],
        [
         "Probiotics in the Treatment of Irritable Bowel Syndrome"
        ],
        [
         "Probiotics in the Treatment of Irritable Bowel Syndrome"
        ],
        [
         "Evaluation of the Influence of Output on Skin Covered by Adhesives"
        ],
        [
         "Safety and Efficacy of Natalizumab in the Treatment of Crohn's Disease"
        ],
        [
         "Pharmacokinetic, Bioavailability, and Safety Study of COV155 Administered in Healthy Subjects Under Fed and Fasted Conditions"
        ],
        [
         "68Ga-PSMA PET/CT in Prostate Cancer"
        ],
        [
         "Efficacy of Seroquel SR in Combination With an Antidepressant in Treatment of Major Depressive Disorder"
        ],
        [
         "Lenalidomide in Treating Patients With Advanced or Unresectable Kidney Cancer"
        ],
        [
         "Comparison of Continuous Sternal ECG Patch Monitors (Carnation and Zio) Trial"
        ],
        [
         "A Retrospective, Observational Study on the Response to Caplacizumab Treatment in aTTP Patients: the Italian Experience (ROSCAPLI)"
        ],
        [
         "Comparison of NN1250 Versus Insulin Glargine in Subjects With Type 2 Diabetes"
        ],
        [
         "Efficacy and Safety Study of Binodenoson in Assessing Cardiac Ischemia"
        ],
        [
         "Text Messaging for Weight Loss"
        ],
        [
         "A Clinical Study of [177Lu]Lu-XT117 Injection in Patients With Advanced Solid Tumors"
        ],
        [
         "A Bioequivalence Study Between Fluticasone Propionate 250 mcg and Salmeterol Xinafoate 50 mcg Inhalation Powder/Respirent Pharmaceuticals vs. ADVAIR DISKUS® 250/50 Inhalation Powder/GSK in Healthy Volunteers"
        ],
        [
         "Study With a Topical Gel to Treat Common Warts in Adults"
        ],
        [
         "Heterogeneously Hypofractionated Radiotherapy for Locally Advanced NSCLC"
        ],
        [
         "Acupuncture for Chemotherapy-induced Peripheral Neuropathy"
        ],
        [
         "Fibroblast Growth Factor Regeneration of Tympanic Membrane Perforations"
        ],
        [
         "Focused Ultrasound for the Treatment of Pancreatic Cancer - an International Registry"
        ],
        [
         "A Comparison Between the Intubating Laryngeal Tube Suction and the Ambu AuraGain"
        ],
        [
         "Ability to Cope With Type 1 Diabetes"
        ],
        [
         "Safety and Efficacy Study of Iodine-131 Anti-B1 Antibody Plus CHOP For Untreated Mantle Cell Lymphoma"
        ],
        [
         "Leptin to Treat Lipodystrophy"
        ],
        [
         "Epoetin Alfa in Treating Patients With Anemia Who Are Undergoing Chemotherapy for Cancer"
        ],
        [
         "Use of Hand Prosthesis With Direct Nerve Stimulation for Treatment of Phantom Limb Pain"
        ],
        [
         "Two Approaches to Routine HIV Testing in a Hospital Emergency Department"
        ],
        [
         "A Study of Recombinant Human Erythropoietin in Anemic Cancer Patients Undergoing Chemotherapy"
        ],
        [
         "Novel Biophotonics Methodology for Colon Cancer Screening"
        ],
        [
         "Safety and Biologic Activity Study of Gevokizumab to Treat Erosive Osteoarthritis of the Hand"
        ],
        [
         "A Phase 1 Study of ARQ 197 in Adult Patients With Advanced Solid Tumors"
        ],
        [
         "The Efficacy of Tamsulosin in the Treatment of Ureteral Stones in Emergency Department Patients"
        ],
        [
         "An Efficacy and Safety Study of Gevokizumab in Treating Active Ulcers of Pyoderma Gangrenosum"
        ],
        [
         "The Community United to Challenge Asthma"
        ],
        [
         "Bioequivalence Study of Torrent Pharmaceutical Limited's Venlafaxine Hydrochloride ER Capsules Under Fed Conditions"
        ],
        [
         "Immunity After COVID-19 Vaccination"
        ],
        [
         "Surgical Treatment in Diabetic Patients With Grade 1 Obesity"
        ],
        [
         "Quantifying Systemic Immunosuppression to Personalize Cancer Therapy"
        ],
        [
         "Study of the Efficacy and Safety of Lonidamine for the Treatment of Symptomatic Benign Prostatic Hyperplasia"
        ],
        [
         "Safety and Efficacy of Anti-GPRC5D CAR-T Cells Therapy in the Treatment of r/r MM"
        ],
        [
         "A Study to Evaluate the Efficacy and Safety of Galantamine in Patients With Mild Cognitive Impairment"
        ],
        [
         "Vaccine Therapy in Treating Patients With Stage IIIB, Stage IV, or Recurrent Non-Small Cell Lung Cancer"
        ],
        [
         "Real World Evidence of the Effectiveness of Paritaprevir/r - Ombitasvir, ± Dasabuvir, ± Ribavirin and Patient Support Program in Patients With Chronic Hepatitis C"
        ],
        [
         "A Trial of Dexmedetomidine Hydrochloride Nasal Spray in Preoperative Sedation of Children"
        ],
        [
         "Monoclonal Antibody Therapy in Treating Patients With Prostate Cancer"
        ],
        [
         "Monoclonal Antibody Therapy in Treating Patients With Prostate Cancer"
        ],
        [
         "Nebulized Hypertonic Saline for Bronchiolitis"
        ],
        [
         "Treating Chronic Pain in Buprenorphine Patients in Primary Care Settings"
        ],
        [
         "Measurement of Forces Applied Using a Macintosh Direct Laryngoscope Compared to GlideScope Video Laryngoscope"
        ],
        [
         "Masitinib in Patients With Mild to Moderate Alzheimer's Disease"
        ],
        [
         "Multicenter Study to Evaluate the Analgesic Efficacy of XP21L in Subjects With Pain Following Bunionectomy Surgery"
        ],
        [
         "Safety and Efficacy of Gaseous Nitric Oxide on Venous Stasis Leg Ulcers"
        ],
        [
         "The Optimizing Treatment of PegIFN Alfa in HBeAg-negative CHB Patients With Low Level HBsAg"
        ],
        [
         "Promoting Breast Cancer Screening in Women Who Survived Childhood Cancer"
        ],
        [
         "Stereotactic Radiation Therapy in Treating Patients With Brain Metastases"
        ],
        [
         "Intermittent Pneumatic Compression for Treating Lower Limb Lymphoedema"
        ],
        [
         "Heart Rate Variability and Stress Management Enhancement"
        ],
        [
         "SU5416 in Treating Patients With AIDS-Related Kaposi's Sarcoma"
        ],
        [
         "Dental Support Device During Breastfeeding as a Mean for Pain Control"
        ],
        [
         "Vaccine Therapy in Treating Patients With Stage IIB, Stage IIC, Stage III, or Stage IV Melanoma"
        ],
        [
         "Intratumoral CAN1012(Selective TLR7 Agonist) in Subjects With Solid Tumors"
        ],
        [
         "Single Incision Versus Conventional Laparoscopic Appendectomy"
        ],
        [
         "Pegylated Somatropin (PEG Somatropin) in the Treatment of Children With Growth Hormone Deficiency"
        ],
        [
         "Safety and Efficacy Study of Botulinum Toxin Type A for the Treatment of Neurogenic Overactive Bladder"
        ],
        [
         "Safety and Efficacy Study of Botulinum Toxin Type A for the Treatment of Neurogenic Overactive Bladder"
        ],
        [
         "Safety and Efficacy Study of Botulinum Toxin Type A for the Treatment of Neurogenic Overactive Bladder"
        ],
        [
         "Hydroxychloroquine (HCQ) for Recurrent Pregnancy Loss"
        ],
        [
         "A Clinical Trial to Evaluate Effect of IAP0971 in Patients With Advanced Malignant Tumors"
        ],
        [
         "Elastography in Thyroid Nodules"
        ],
        [
         "PGL4001 Efficacy Assessment in Reduction of Symptoms Due to Uterine Leiomyomata"
        ],
        [
         "PGL4001 Efficacy Assessment in Reduction of Symptoms Due to Uterine Leiomyomata"
        ],
        [
         "Octreotide Acetate in Microspheres in Patients With Diabetic Retinopathy"
        ],
        [
         "Multi-modal Neuroimaging in Alzheimer's Disease"
        ],
        [
         "Effect of Diacerein in the Metabolic Control of Patients With DM Type 2 and Secondary Failure to Metformin"
        ],
        [
         "Pattern Recognition Prosthetic Control"
        ],
        [
         "[Trial of device that is not approved or cleared by the U.S. FDA]"
        ],
        [
         "[Trial of device that is not approved or cleared by the U.S. FDA]"
        ],
        [
         "[Trial of device that is not approved or cleared by the U.S. FDA]"
        ],
        [
         "[Trial of device that is not approved or cleared by the U.S. FDA]"
        ],
        [
         "[Trial of device that is not approved or cleared by the U.S. FDA]"
        ],
        [
         "[Trial of device that is not approved or cleared by the U.S. FDA]"
        ],
        [
         "[Trial of device that is not approved or cleared by the U.S. FDA]"
        ],
        [
         "[Trial of device that is not approved or cleared by the U.S. FDA]"
        ],
        [
         "[Trial of device that is not approved or cleared by the U.S. FDA]"
        ],
        [
         "[Trial of device that is not approved or cleared by the U.S. FDA]"
        ],
        [
         "[Trial of device that is not approved or cleared by the U.S. FDA]"
        ],
        [
         "[Trial of device that is not approved or cleared by the U.S. FDA]"
        ],
        [
         "[Trial of device that is not approved or cleared by the U.S. FDA]"
        ],
        [
         "[Trial of device that is not approved or cleared by the U.S. FDA]"
        ],
        [
         "[Trial of device that is not approved or cleared by the U.S. FDA]"
        ],
        [
         "[Trial of device that is not approved or cleared by the U.S. FDA]"
        ],
        [
         "[Trial of device that is not approved or cleared by the U.S. FDA]"
        ],
        [
         "[Trial of device that is not approved or cleared by the U.S. FDA]"
        ],
        [
         "[Trial of device that is not approved or cleared by the U.S. FDA]"
        ],
        [
         "[Trial of device that is not approved or cleared by the U.S. FDA]"
        ],
        [
         "[Trial of device that is not approved or cleared by the U.S. FDA]"
        ],
        [
         "[Trial of device that is not approved or cleared by the U.S. FDA]"
        ],
        [
         "[Trial of device that is not approved or cleared by the U.S. FDA]"
        ],
        [
         "[Trial of device that is not approved or cleared by the U.S. FDA]"
        ],
        [
         "[Trial of device that is not approved or cleared by the U.S. FDA]"
        ],
        [
         "[Trial of device that is not approved or cleared by the U.S. FDA]"
        ],
        [
         "[Trial of device that is not approved or cleared by the U.S. FDA]"
        ],
        [
         "[Trial of device that is not approved or cleared by the U.S. FDA]"
        ],
        [
         "[Trial of device that is not approved or cleared by the U.S. FDA]"
        ],
        [
         "[Trial of device that is not approved or cleared by the U.S. FDA]"
        ],
        [
         "[Trial of device that is not approved or cleared by the U.S. FDA]"
        ],
        [
         "[Trial of device that is not approved or cleared by the U.S. FDA]"
        ],
        [
         "[Trial of device that is not approved or cleared by the U.S. FDA]"
        ],
        [
         "[Trial of device that is not approved or cleared by the U.S. FDA]"
        ],
        [
         "[Trial of device that is not approved or cleared by the U.S. FDA]"
        ],
        [
         "[Trial of device that is not approved or cleared by the U.S. FDA]"
        ],
        [
         "[Trial of device that is not approved or cleared by the U.S. FDA]"
        ],
        [
         "[Trial of device that is not approved or cleared by the U.S. FDA]"
        ],
        [
         "[Trial of device that is not approved or cleared by the U.S. FDA]"
        ],
        [
         "[Trial of device that is not approved or cleared by the U.S. FDA]"
        ],
        [
         "[Trial of device that is not approved or cleared by the U.S. FDA]"
        ],
        [
         "[Trial of device that is not approved or cleared by the U.S. FDA]"
        ],
        [
         "[Trial of device that is not approved or cleared by the U.S. FDA]"
        ],
        [
         "[Trial of device that is not approved or cleared by the U.S. FDA]"
        ],
        [
         "[Trial of device that is not approved or cleared by the U.S. FDA]"
        ],
        [
         "[Trial of device that is not approved or cleared by the U.S. FDA]"
        ],
        [
         "[Trial of device that is not approved or cleared by the U.S. FDA]"
        ],
        [
         "[Trial of device that is not approved or cleared by the U.S. FDA]"
        ],
        [
         "[Trial of device that is not approved or cleared by the U.S. FDA]"
        ],
        [
         "[Trial of device that is not approved or cleared by the U.S. FDA]"
        ],
        [
         "[Trial of device that is not approved or cleared by the U.S. FDA]"
        ],
        [
         "[Trial of device that is not approved or cleared by the U.S. FDA]"
        ],
        [
         "[Trial of device that is not approved or cleared by the U.S. FDA]"
        ],
        [
         "[Trial of device that is not approved or cleared by the U.S. FDA]"
        ],
        [
         "[Trial of device that is not approved or cleared by the U.S. FDA]"
        ],
        [
         "[Trial of device that is not approved or cleared by the U.S. FDA]"
        ],
        [
         "[Trial of device that is not approved or cleared by the U.S. FDA]"
        ],
        [
         "[Trial of device that is not approved or cleared by the U.S. FDA]"
        ],
        [
         "[Trial of device that is not approved or cleared by the U.S. FDA]"
        ],
        [
         "[Trial of device that is not approved or cleared by the U.S. FDA]"
        ],
        [
         "[Trial of device that is not approved or cleared by the U.S. FDA]"
        ],
        [
         "[Trial of device that is not approved or cleared by the U.S. FDA]"
        ],
        [
         "[Trial of device that is not approved or cleared by the U.S. FDA]"
        ],
        [
         "[Trial of device that is not approved or cleared by the U.S. FDA]"
        ],
        [
         "[Trial of device that is not approved or cleared by the U.S. FDA]"
        ],
        [
         "[Trial of device that is not approved or cleared by the U.S. FDA]"
        ],
        [
         "[Trial of device that is not approved or cleared by the U.S. FDA]"
        ],
        [
         "[Trial of device that is not approved or cleared by the U.S. FDA]"
        ],
        [
         "[Trial of device that is not approved or cleared by the U.S. FDA]"
        ],
        [
         "[Trial of device that is not approved or cleared by the U.S. FDA]"
        ],
        [
         "[Trial of device that is not approved or cleared by the U.S. FDA]"
        ],
        [
         "[Trial of device that is not approved or cleared by the U.S. FDA]"
        ],
        [
         "[Trial of device that is not approved or cleared by the U.S. FDA]"
        ],
        [
         "[Trial of device that is not approved or cleared by the U.S. FDA]"
        ],
        [
         "[Trial of device that is not approved or cleared by the U.S. FDA]"
        ],
        [
         "[Trial of device that is not approved or cleared by the U.S. FDA]"
        ],
        [
         "[Trial of device that is not approved or cleared by the U.S. FDA]"
        ],
        [
         "[Trial of device that is not approved or cleared by the U.S. FDA]"
        ],
        [
         "[Trial of device that is not approved or cleared by the U.S. FDA]"
        ],
        [
         "[Trial of device that is not approved or cleared by the U.S. FDA]"
        ],
        [
         "[Trial of device that is not approved or cleared by the U.S. FDA]"
        ],
        [
         "[Trial of device that is not approved or cleared by the U.S. FDA]"
        ],
        [
         "[Trial of device that is not approved or cleared by the U.S. FDA]"
        ],
        [
         "[Trial of device that is not approved or cleared by the U.S. FDA]"
        ],
        [
         "[Trial of device that is not approved or cleared by the U.S. FDA]"
        ],
        [
         "[Trial of device that is not approved or cleared by the U.S. FDA]"
        ],
        [
         "[Trial of device that is not approved or cleared by the U.S. FDA]"
        ],
        [
         "[Trial of device that is not approved or cleared by the U.S. FDA]"
        ],
        [
         "[Trial of device that is not approved or cleared by the U.S. FDA]"
        ],
        [
         "[Trial of device that is not approved or cleared by the U.S. FDA]"
        ],
        [
         "[Trial of device that is not approved or cleared by the U.S. FDA]"
        ],
        [
         "[Trial of device that is not approved or cleared by the U.S. FDA]"
        ],
        [
         "[Trial of device that is not approved or cleared by the U.S. FDA]"
        ],
        [
         "[Trial of device that is not approved or cleared by the U.S. FDA]"
        ],
        [
         "[Trial of device that is not approved or cleared by the U.S. FDA]"
        ],
        [
         "[Trial of device that is not approved or cleared by the U.S. FDA]"
        ],
        [
         "[Trial of device that is not approved or cleared by the U.S. FDA]"
        ],
        [
         "[Trial of device that is not approved or cleared by the U.S. FDA]"
        ],
        [
         "[Trial of device that is not approved or cleared by the U.S. FDA]"
        ],
        [
         "[Trial of device that is not approved or cleared by the U.S. FDA]"
        ],
        [
         "[Trial of device that is not approved or cleared by the U.S. FDA]"
        ],
        [
         "[Trial of device that is not approved or cleared by the U.S. FDA]"
        ],
        [
         "[Trial of device that is not approved or cleared by the U.S. FDA]"
        ],
        [
         "[Trial of device that is not approved or cleared by the U.S. FDA]"
        ],
        [
         "[Trial of device that is not approved or cleared by the U.S. FDA]"
        ],
        [
         "[Trial of device that is not approved or cleared by the U.S. FDA]"
        ],
        [
         "[Trial of device that is not approved or cleared by the U.S. FDA]"
        ],
        [
         "[Trial of device that is not approved or cleared by the U.S. FDA]"
        ],
        [
         "[Trial of device that is not approved or cleared by the U.S. FDA]"
        ],
        [
         "[Trial of device that is not approved or cleared by the U.S. FDA]"
        ],
        [
         "[Trial of device that is not approved or cleared by the U.S. FDA]"
        ],
        [
         "[Trial of device that is not approved or cleared by the U.S. FDA]"
        ],
        [
         "[Trial of device that is not approved or cleared by the U.S. FDA]"
        ],
        [
         "[Trial of device that is not approved or cleared by the U.S. FDA]"
        ],
        [
         "[Trial of device that is not approved or cleared by the U.S. FDA]"
        ],
        [
         "[Trial of device that is not approved or cleared by the U.S. FDA]"
        ],
        [
         "[Trial of device that is not approved or cleared by the U.S. FDA]"
        ],
        [
         "[Trial of device that is not approved or cleared by the U.S. FDA]"
        ],
        [
         "[Trial of device that is not approved or cleared by the U.S. FDA]"
        ],
        [
         "[Trial of device that is not approved or cleared by the U.S. FDA]"
        ],
        [
         "[Trial of device that is not approved or cleared by the U.S. FDA]"
        ],
        [
         "[Trial of device that is not approved or cleared by the U.S. FDA]"
        ],
        [
         "[Trial of device that is not approved or cleared by the U.S. FDA]"
        ],
        [
         "[Trial of device that is not approved or cleared by the U.S. FDA]"
        ],
        [
         "[Trial of device that is not approved or cleared by the U.S. FDA]"
        ],
        [
         "[Trial of device that is not approved or cleared by the U.S. FDA]"
        ],
        [
         "[Trial of device that is not approved or cleared by the U.S. FDA]"
        ],
        [
         "[Trial of device that is not approved or cleared by the U.S. FDA]"
        ],
        [
         "[Trial of device that is not approved or cleared by the U.S. FDA]"
        ],
        [
         "[Trial of device that is not approved or cleared by the U.S. FDA]"
        ],
        [
         "[Trial of device that is not approved or cleared by the U.S. FDA]"
        ],
        [
         "[Trial of device that is not approved or cleared by the U.S. FDA]"
        ],
        [
         "[Trial of device that is not approved or cleared by the U.S. FDA]"
        ],
        [
         "[Trial of device that is not approved or cleared by the U.S. FDA]"
        ],
        [
         "[Trial of device that is not approved or cleared by the U.S. FDA]"
        ],
        [
         "[Trial of device that is not approved or cleared by the U.S. FDA]"
        ],
        [
         "[Trial of device that is not approved or cleared by the U.S. FDA]"
        ],
        [
         "[Trial of device that is not approved or cleared by the U.S. FDA]"
        ],
        [
         "[Trial of device that is not approved or cleared by the U.S. FDA]"
        ],
        [
         "[Trial of device that is not approved or cleared by the U.S. FDA]"
        ],
        [
         "[Trial of device that is not approved or cleared by the U.S. FDA]"
        ],
        [
         "[Trial of device that is not approved or cleared by the U.S. FDA]"
        ],
        [
         "[Trial of device that is not approved or cleared by the U.S. FDA]"
        ],
        [
         "[Trial of device that is not approved or cleared by the U.S. FDA]"
        ],
        [
         "[Trial of device that is not approved or cleared by the U.S. FDA]"
        ],
        [
         "[Trial of device that is not approved or cleared by the U.S. FDA]"
        ],
        [
         "[Trial of device that is not approved or cleared by the U.S. FDA]"
        ],
        [
         "[Trial of device that is not approved or cleared by the U.S. FDA]"
        ],
        [
         "[Trial of device that is not approved or cleared by the U.S. FDA]"
        ],
        [
         "[Trial of device that is not approved or cleared by the U.S. FDA]"
        ],
        [
         "[Trial of device that is not approved or cleared by the U.S. FDA]"
        ],
        [
         "[Trial of device that is not approved or cleared by the U.S. FDA]"
        ],
        [
         "[Trial of device that is not approved or cleared by the U.S. FDA]"
        ],
        [
         "[Trial of device that is not approved or cleared by the U.S. FDA]"
        ],
        [
         "[Trial of device that is not approved or cleared by the U.S. FDA]"
        ],
        [
         "[Trial of device that is not approved or cleared by the U.S. FDA]"
        ],
        [
         "[Trial of device that is not approved or cleared by the U.S. FDA]"
        ],
        [
         "[Trial of device that is not approved or cleared by the U.S. FDA]"
        ],
        [
         "[Trial of device that is not approved or cleared by the U.S. FDA]"
        ],
        [
         "[Trial of device that is not approved or cleared by the U.S. FDA]"
        ],
        [
         "[Trial of device that is not approved or cleared by the U.S. FDA]"
        ],
        [
         "[Trial of device that is not approved or cleared by the U.S. FDA]"
        ],
        [
         "[Trial of device that is not approved or cleared by the U.S. FDA]"
        ],
        [
         "[Trial of device that is not approved or cleared by the U.S. FDA]"
        ],
        [
         "[Trial of device that is not approved or cleared by the U.S. FDA]"
        ],
        [
         "[Trial of device that is not approved or cleared by the U.S. FDA]"
        ],
        [
         "[Trial of device that is not approved or cleared by the U.S. FDA]"
        ],
        [
         "[Trial of device that is not approved or cleared by the U.S. FDA]"
        ],
        [
         "[Trial of device that is not approved or cleared by the U.S. FDA]"
        ],
        [
         "[Trial of device that is not approved or cleared by the U.S. FDA]"
        ],
        [
         "[Trial of device that is not approved or cleared by the U.S. FDA]"
        ],
        [
         "[Trial of device that is not approved or cleared by the U.S. FDA]"
        ],
        [
         "[Trial of device that is not approved or cleared by the U.S. FDA]"
        ],
        [
         "[Trial of device that is not approved or cleared by the U.S. FDA]"
        ],
        [
         "[Trial of device that is not approved or cleared by the U.S. FDA]"
        ],
        [
         "[Trial of device that is not approved or cleared by the U.S. FDA]"
        ],
        [
         "[Trial of device that is not approved or cleared by the U.S. FDA]"
        ],
        [
         "[Trial of device that is not approved or cleared by the U.S. FDA]"
        ],
        [
         "[Trial of device that is not approved or cleared by the U.S. FDA]"
        ],
        [
         "[Trial of device that is not approved or cleared by the U.S. FDA]"
        ],
        [
         "[Trial of device that is not approved or cleared by the U.S. FDA]"
        ],
        [
         "[Trial of device that is not approved or cleared by the U.S. FDA]"
        ],
        [
         "[Trial of device that is not approved or cleared by the U.S. FDA]"
        ],
        [
         "[Trial of device that is not approved or cleared by the U.S. FDA]"
        ],
        [
         "[Trial of device that is not approved or cleared by the U.S. FDA]"
        ],
        [
         "[Trial of device that is not approved or cleared by the U.S. FDA]"
        ],
        [
         "[Trial of device that is not approved or cleared by the U.S. FDA]"
        ],
        [
         "[Trial of device that is not approved or cleared by the U.S. FDA]"
        ],
        [
         "[Trial of device that is not approved or cleared by the U.S. FDA]"
        ],
        [
         "[Trial of device that is not approved or cleared by the U.S. FDA]"
        ],
        [
         "[Trial of device that is not approved or cleared by the U.S. FDA]"
        ],
        [
         "[Trial of device that is not approved or cleared by the U.S. FDA]"
        ],
        [
         "[Trial of device that is not approved or cleared by the U.S. FDA]"
        ],
        [
         "[Trial of device that is not approved or cleared by the U.S. FDA]"
        ],
        [
         "[Trial of device that is not approved or cleared by the U.S. FDA]"
        ],
        [
         "[Trial of device that is not approved or cleared by the U.S. FDA]"
        ],
        [
         "[Trial of device that is not approved or cleared by the U.S. FDA]"
        ],
        [
         "[Trial of device that is not approved or cleared by the U.S. FDA]"
        ],
        [
         "[Trial of device that is not approved or cleared by the U.S. FDA]"
        ],
        [
         "[Trial of device that is not approved or cleared by the U.S. FDA]"
        ],
        [
         "[Trial of device that is not approved or cleared by the U.S. FDA]"
        ],
        [
         "[Trial of device that is not approved or cleared by the U.S. FDA]"
        ],
        [
         "[Trial of device that is not approved or cleared by the U.S. FDA]"
        ],
        [
         "[Trial of device that is not approved or cleared by the U.S. FDA]"
        ],
        [
         "[Trial of device that is not approved or cleared by the U.S. FDA]"
        ],
        [
         "[Trial of device that is not approved or cleared by the U.S. FDA]"
        ],
        [
         "[Trial of device that is not approved or cleared by the U.S. FDA]"
        ],
        [
         "[Trial of device that is not approved or cleared by the U.S. FDA]"
        ],
        [
         "[Trial of device that is not approved or cleared by the U.S. FDA]"
        ],
        [
         "[Trial of device that is not approved or cleared by the U.S. FDA]"
        ],
        [
         "[Trial of device that is not approved or cleared by the U.S. FDA]"
        ],
        [
         "[Trial of device that is not approved or cleared by the U.S. FDA]"
        ],
        [
         "[Trial of device that is not approved or cleared by the U.S. FDA]"
        ],
        [
         "[Trial of device that is not approved or cleared by the U.S. FDA]"
        ],
        [
         "[Trial of device that is not approved or cleared by the U.S. FDA]"
        ],
        [
         "[Trial of device that is not approved or cleared by the U.S. FDA]"
        ],
        [
         "[Trial of device that is not approved or cleared by the U.S. FDA]"
        ],
        [
         "[Trial of device that is not approved or cleared by the U.S. FDA]"
        ],
        [
         "[Trial of device that is not approved or cleared by the U.S. FDA]"
        ],
        [
         "[Trial of device that is not approved or cleared by the U.S. FDA]"
        ],
        [
         "[Trial of device that is not approved or cleared by the U.S. FDA]"
        ],
        [
         "[Trial of device that is not approved or cleared by the U.S. FDA]"
        ],
        [
         "[Trial of device that is not approved or cleared by the U.S. FDA]"
        ],
        [
         "[Trial of device that is not approved or cleared by the U.S. FDA]"
        ],
        [
         "[Trial of device that is not approved or cleared by the U.S. FDA]"
        ],
        [
         "[Trial of device that is not approved or cleared by the U.S. FDA]"
        ],
        [
         "[Trial of device that is not approved or cleared by the U.S. FDA]"
        ],
        [
         "[Trial of device that is not approved or cleared by the U.S. FDA]"
        ],
        [
         "[Trial of device that is not approved or cleared by the U.S. FDA]"
        ],
        [
         "[Trial of device that is not approved or cleared by the U.S. FDA]"
        ],
        [
         "[Trial of device that is not approved or cleared by the U.S. FDA]"
        ],
        [
         "[Trial of device that is not approved or cleared by the U.S. FDA]"
        ],
        [
         "[Trial of device that is not approved or cleared by the U.S. FDA]"
        ],
        [
         "[Trial of device that is not approved or cleared by the U.S. FDA]"
        ],
        [
         "[Trial of device that is not approved or cleared by the U.S. FDA]"
        ],
        [
         "[Trial of device that is not approved or cleared by the U.S. FDA]"
        ],
        [
         "[Trial of device that is not approved or cleared by the U.S. FDA]"
        ],
        [
         "[Trial of device that is not approved or cleared by the U.S. FDA]"
        ],
        [
         "[Trial of device that is not approved or cleared by the U.S. FDA]"
        ],
        [
         "[Trial of device that is not approved or cleared by the U.S. FDA]"
        ],
        [
         "[Trial of device that is not approved or cleared by the U.S. FDA]"
        ],
        [
         "[Trial of device that is not approved or cleared by the U.S. FDA]"
        ],
        [
         "[Trial of device that is not approved or cleared by the U.S. FDA]"
        ],
        [
         "[Trial of device that is not approved or cleared by the U.S. FDA]"
        ],
        [
         "[Trial of device that is not approved or cleared by the U.S. FDA]"
        ],
        [
         "[Trial of device that is not approved or cleared by the U.S. FDA]"
        ],
        [
         "[Trial of device that is not approved or cleared by the U.S. FDA]"
        ],
        [
         "[Trial of device that is not approved or cleared by the U.S. FDA]"
        ],
        [
         "[Trial of device that is not approved or cleared by the U.S. FDA]"
        ],
        [
         "[Trial of device that is not approved or cleared by the U.S. FDA]"
        ],
        [
         "[Trial of device that is not approved or cleared by the U.S. FDA]"
        ],
        [
         "[Trial of device that is not approved or cleared by the U.S. FDA]"
        ],
        [
         "[Trial of device that is not approved or cleared by the U.S. FDA]"
        ],
        [
         "[Trial of device that is not approved or cleared by the U.S. FDA]"
        ],
        [
         "[Trial of device that is not approved or cleared by the U.S. FDA]"
        ],
        [
         "[Trial of device that is not approved or cleared by the U.S. FDA]"
        ],
        [
         "[Trial of device that is not approved or cleared by the U.S. FDA]"
        ],
        [
         "[Trial of device that is not approved or cleared by the U.S. FDA]"
        ],
        [
         "[Trial of device that is not approved or cleared by the U.S. FDA]"
        ],
        [
         "[Trial of device that is not approved or cleared by the U.S. FDA]"
        ],
        [
         "[Trial of device that is not approved or cleared by the U.S. FDA]"
        ],
        [
         "[Trial of device that is not approved or cleared by the U.S. FDA]"
        ],
        [
         "[Trial of device that is not approved or cleared by the U.S. FDA]"
        ],
        [
         "[Trial of device that is not approved or cleared by the U.S. FDA]"
        ],
        [
         "[Trial of device that is not approved or cleared by the U.S. FDA]"
        ],
        [
         "[Trial of device that is not approved or cleared by the U.S. FDA]"
        ],
        [
         "[Trial of device that is not approved or cleared by the U.S. FDA]"
        ],
        [
         "[Trial of device that is not approved or cleared by the U.S. FDA]"
        ],
        [
         "[Trial of device that is not approved or cleared by the U.S. FDA]"
        ],
        [
         "[Trial of device that is not approved or cleared by the U.S. FDA]"
        ],
        [
         "[Trial of device that is not approved or cleared by the U.S. FDA]"
        ],
        [
         "[Trial of device that is not approved or cleared by the U.S. FDA]"
        ],
        [
         "[Trial of device that is not approved or cleared by the U.S. FDA]"
        ],
        [
         "[Trial of device that is not approved or cleared by the U.S. FDA]"
        ],
        [
         "[Trial of device that is not approved or cleared by the U.S. FDA]"
        ],
        [
         "[Trial of device that is not approved or cleared by the U.S. FDA]"
        ],
        [
         "[Trial of device that is not approved or cleared by the U.S. FDA]"
        ],
        [
         "[Trial of device that is not approved or cleared by the U.S. FDA]"
        ],
        [
         "[Trial of device that is not approved or cleared by the U.S. FDA]"
        ],
        [
         "[Trial of device that is not approved or cleared by the U.S. FDA]"
        ],
        [
         "[Trial of device that is not approved or cleared by the U.S. FDA]"
        ],
        [
         "[Trial of device that is not approved or cleared by the U.S. FDA]"
        ],
        [
         "[Trial of device that is not approved or cleared by the U.S. FDA]"
        ],
        [
         "[Trial of device that is not approved or cleared by the U.S. FDA]"
        ],
        [
         "[Trial of device that is not approved or cleared by the U.S. FDA]"
        ],
        [
         "[Trial of device that is not approved or cleared by the U.S. FDA]"
        ],
        [
         "[Trial of device that is not approved or cleared by the U.S. FDA]"
        ],
        [
         "[Trial of device that is not approved or cleared by the U.S. FDA]"
        ],
        [
         "[Trial of device that is not approved or cleared by the U.S. FDA]"
        ],
        [
         "[Trial of device that is not approved or cleared by the U.S. FDA]"
        ],
        [
         "[Trial of device that is not approved or cleared by the U.S. FDA]"
        ],
        [
         "[Trial of device that is not approved or cleared by the U.S. FDA]"
        ],
        [
         "[Trial of device that is not approved or cleared by the U.S. FDA]"
        ],
        [
         "[Trial of device that is not approved or cleared by the U.S. FDA]"
        ],
        [
         "[Trial of device that is not approved or cleared by the U.S. FDA]"
        ],
        [
         "[Trial of device that is not approved or cleared by the U.S. FDA]"
        ],
        [
         "[Trial of device that is not approved or cleared by the U.S. FDA]"
        ],
        [
         "[Trial of device that is not approved or cleared by the U.S. FDA]"
        ],
        [
         "[Trial of device that is not approved or cleared by the U.S. FDA]"
        ],
        [
         "[Trial of device that is not approved or cleared by the U.S. FDA]"
        ],
        [
         "[Trial of device that is not approved or cleared by the U.S. FDA]"
        ],
        [
         "[Trial of device that is not approved or cleared by the U.S. FDA]"
        ],
        [
         "[Trial of device that is not approved or cleared by the U.S. FDA]"
        ],
        [
         "[Trial of device that is not approved or cleared by the U.S. FDA]"
        ],
        [
         "[Trial of device that is not approved or cleared by the U.S. FDA]"
        ],
        [
         "[Trial of device that is not approved or cleared by the U.S. FDA]"
        ],
        [
         "[Trial of device that is not approved or cleared by the U.S. FDA]"
        ],
        [
         "[Trial of device that is not approved or cleared by the U.S. FDA]"
        ],
        [
         "[Trial of device that is not approved or cleared by the U.S. FDA]"
        ],
        [
         "[Trial of device that is not approved or cleared by the U.S. FDA]"
        ],
        [
         "[Trial of device that is not approved or cleared by the U.S. FDA]"
        ],
        [
         "[Trial of device that is not approved or cleared by the U.S. FDA]"
        ],
        [
         "[Trial of device that is not approved or cleared by the U.S. FDA]"
        ],
        [
         "[Trial of device that is not approved or cleared by the U.S. FDA]"
        ],
        [
         "[Trial of device that is not approved or cleared by the U.S. FDA]"
        ],
        [
         "[Trial of device that is not approved or cleared by the U.S. FDA]"
        ],
        [
         "[Trial of device that is not approved or cleared by the U.S. FDA]"
        ],
        [
         "[Trial of device that is not approved or cleared by the U.S. FDA]"
        ],
        [
         "[Trial of device that is not approved or cleared by the U.S. FDA]"
        ],
        [
         "[Trial of device that is not approved or cleared by the U.S. FDA]"
        ],
        [
         "[Trial of device that is not approved or cleared by the U.S. FDA]"
        ],
        [
         "[Trial of device that is not approved or cleared by the U.S. FDA]"
        ],
        [
         "[Trial of device that is not approved or cleared by the U.S. FDA]"
        ],
        [
         "[Trial of device that is not approved or cleared by the U.S. FDA]"
        ],
        [
         "[Trial of device that is not approved or cleared by the U.S. FDA]"
        ],
        [
         "[Trial of device that is not approved or cleared by the U.S. FDA]"
        ],
        [
         "[Trial of device that is not approved or cleared by the U.S. FDA]"
        ],
        [
         "[Trial of device that is not approved or cleared by the U.S. FDA]"
        ],
        [
         "[Trial of device that is not approved or cleared by the U.S. FDA]"
        ],
        [
         "[Trial of device that is not approved or cleared by the U.S. FDA]"
        ],
        [
         "[Trial of device that is not approved or cleared by the U.S. FDA]"
        ],
        [
         "[Trial of device that is not approved or cleared by the U.S. FDA]"
        ],
        [
         "[Trial of device that is not approved or cleared by the U.S. FDA]"
        ],
        [
         "[Trial of device that is not approved or cleared by the U.S. FDA]"
        ],
        [
         "[Trial of device that is not approved or cleared by the U.S. FDA]"
        ],
        [
         "[Trial of device that is not approved or cleared by the U.S. FDA]"
        ],
        [
         "[Trial of device that is not approved or cleared by the U.S. FDA]"
        ],
        [
         "[Trial of device that is not approved or cleared by the U.S. FDA]"
        ],
        [
         "[Trial of device that is not approved or cleared by the U.S. FDA]"
        ],
        [
         "[Trial of device that is not approved or cleared by the U.S. FDA]"
        ],
        [
         "[Trial of device that is not approved or cleared by the U.S. FDA]"
        ],
        [
         "[Trial of device that is not approved or cleared by the U.S. FDA]"
        ],
        [
         "[Trial of device that is not approved or cleared by the U.S. FDA]"
        ],
        [
         "[Trial of device that is not approved or cleared by the U.S. FDA]"
        ],
        [
         "[Trial of device that is not approved or cleared by the U.S. FDA]"
        ],
        [
         "[Trial of device that is not approved or cleared by the U.S. FDA]"
        ],
        [
         "[Trial of device that is not approved or cleared by the U.S. FDA]"
        ],
        [
         "[Trial of device that is not approved or cleared by the U.S. FDA]"
        ],
        [
         "[Trial of device that is not approved or cleared by the U.S. FDA]"
        ],
        [
         "[Trial of device that is not approved or cleared by the U.S. FDA]"
        ],
        [
         "[Trial of device that is not approved or cleared by the U.S. FDA]"
        ],
        [
         "[Trial of device that is not approved or cleared by the U.S. FDA]"
        ],
        [
         "[Trial of device that is not approved or cleared by the U.S. FDA]"
        ],
        [
         "[Trial of device that is not approved or cleared by the U.S. FDA]"
        ],
        [
         "[Trial of device that is not approved or cleared by the U.S. FDA]"
        ],
        [
         "[Trial of device that is not approved or cleared by the U.S. FDA]"
        ],
        [
         "[Trial of device that is not approved or cleared by the U.S. FDA]"
        ],
        [
         "[Trial of device that is not approved or cleared by the U.S. FDA]"
        ],
        [
         "[Trial of device that is not approved or cleared by the U.S. FDA]"
        ],
        [
         "[Trial of device that is not approved or cleared by the U.S. FDA]"
        ],
        [
         "[Trial of device that is not approved or cleared by the U.S. FDA]"
        ],
        [
         "[Trial of device that is not approved or cleared by the U.S. FDA]"
        ],
        [
         "[Trial of device that is not approved or cleared by the U.S. FDA]"
        ],
        [
         "[Trial of device that is not approved or cleared by the U.S. FDA]"
        ],
        [
         "[Trial of device that is not approved or cleared by the U.S. FDA]"
        ],
        [
         "[Trial of device that is not approved or cleared by the U.S. FDA]"
        ],
        [
         "[Trial of device that is not approved or cleared by the U.S. FDA]"
        ],
        [
         "[Trial of device that is not approved or cleared by the U.S. FDA]"
        ],
        [
         "[Trial of device that is not approved or cleared by the U.S. FDA]"
        ],
        [
         "[Trial of device that is not approved or cleared by the U.S. FDA]"
        ],
        [
         "[Trial of device that is not approved or cleared by the U.S. FDA]"
        ],
        [
         "[Trial of device that is not approved or cleared by the U.S. FDA]"
        ],
        [
         "[Trial of device that is not approved or cleared by the U.S. FDA]"
        ],
        [
         "[Trial of device that is not approved or cleared by the U.S. FDA]"
        ],
        [
         "[Trial of device that is not approved or cleared by the U.S. FDA]"
        ],
        [
         "[Trial of device that is not approved or cleared by the U.S. FDA]"
        ],
        [
         "[Trial of device that is not approved or cleared by the U.S. FDA]"
        ],
        [
         "[Trial of device that is not approved or cleared by the U.S. FDA]"
        ],
        [
         "[Trial of device that is not approved or cleared by the U.S. FDA]"
        ],
        [
         "[Trial of device that is not approved or cleared by the U.S. FDA]"
        ],
        [
         "[Trial of device that is not approved or cleared by the U.S. FDA]"
        ],
        [
         "[Trial of device that is not approved or cleared by the U.S. FDA]"
        ],
        [
         "[Trial of device that is not approved or cleared by the U.S. FDA]"
        ],
        [
         "[Trial of device that is not approved or cleared by the U.S. FDA]"
        ],
        [
         "[Trial of device that is not approved or cleared by the U.S. FDA]"
        ],
        [
         "[Trial of device that is not approved or cleared by the U.S. FDA]"
        ],
        [
         "[Trial of device that is not approved or cleared by the U.S. FDA]"
        ],
        [
         "[Trial of device that is not approved or cleared by the U.S. FDA]"
        ],
        [
         "[Trial of device that is not approved or cleared by the U.S. FDA]"
        ],
        [
         "[Trial of device that is not approved or cleared by the U.S. FDA]"
        ],
        [
         "[Trial of device that is not approved or cleared by the U.S. FDA]"
        ],
        [
         "[Trial of device that is not approved or cleared by the U.S. FDA]"
        ],
        [
         "[Trial of device that is not approved or cleared by the U.S. FDA]"
        ],
        [
         "[Trial of device that is not approved or cleared by the U.S. FDA]"
        ],
        [
         "[Trial of device that is not approved or cleared by the U.S. FDA]"
        ],
        [
         "[Trial of device that is not approved or cleared by the U.S. FDA]"
        ],
        [
         "[Trial of device that is not approved or cleared by the U.S. FDA]"
        ],
        [
         "[Trial of device that is not approved or cleared by the U.S. FDA]"
        ],
        [
         "[Trial of device that is not approved or cleared by the U.S. FDA]"
        ],
        [
         "[Trial of device that is not approved or cleared by the U.S. FDA]"
        ],
        [
         "[Trial of device that is not approved or cleared by the U.S. FDA]"
        ],
        [
         "[Trial of device that is not approved or cleared by the U.S. FDA]"
        ],
        [
         "[Trial of device that is not approved or cleared by the U.S. FDA]"
        ],
        [
         "[Trial of device that is not approved or cleared by the U.S. FDA]"
        ],
        [
         "[Trial of device that is not approved or cleared by the U.S. FDA]"
        ],
        [
         "[Trial of device that is not approved or cleared by the U.S. FDA]"
        ],
        [
         "[Trial of device that is not approved or cleared by the U.S. FDA]"
        ],
        [
         "[Trial of device that is not approved or cleared by the U.S. FDA]"
        ],
        [
         "[Trial of device that is not approved or cleared by the U.S. FDA]"
        ],
        [
         "[Trial of device that is not approved or cleared by the U.S. FDA]"
        ],
        [
         "[Trial of device that is not approved or cleared by the U.S. FDA]"
        ],
        [
         "[Trial of device that is not approved or cleared by the U.S. FDA]"
        ],
        [
         "[Trial of device that is not approved or cleared by the U.S. FDA]"
        ],
        [
         "[Trial of device that is not approved or cleared by the U.S. FDA]"
        ],
        [
         "[Trial of device that is not approved or cleared by the U.S. FDA]"
        ],
        [
         "[Trial of device that is not approved or cleared by the U.S. FDA]"
        ],
        [
         "[Trial of device that is not approved or cleared by the U.S. FDA]"
        ],
        [
         "[Trial of device that is not approved or cleared by the U.S. FDA]"
        ],
        [
         "[Trial of device that is not approved or cleared by the U.S. FDA]"
        ],
        [
         "[Trial of device that is not approved or cleared by the U.S. FDA]"
        ],
        [
         "[Trial of device that is not approved or cleared by the U.S. FDA]"
        ],
        [
         "[Trial of device that is not approved or cleared by the U.S. FDA]"
        ],
        [
         "[Trial of device that is not approved or cleared by the U.S. FDA]"
        ],
        [
         "[Trial of device that is not approved or cleared by the U.S. FDA]"
        ],
        [
         "[Trial of device that is not approved or cleared by the U.S. FDA]"
        ],
        [
         "[Trial of device that is not approved or cleared by the U.S. FDA]"
        ],
        [
         "[Trial of device that is not approved or cleared by the U.S. FDA]"
        ],
        [
         "[Trial of device that is not approved or cleared by the U.S. FDA]"
        ],
        [
         "[Trial of device that is not approved or cleared by the U.S. FDA]"
        ],
        [
         "[Trial of device that is not approved or cleared by the U.S. FDA]"
        ],
        [
         "[Trial of device that is not approved or cleared by the U.S. FDA]"
        ],
        [
         "[Trial of device that is not approved or cleared by the U.S. FDA]"
        ],
        [
         "[Trial of device that is not approved or cleared by the U.S. FDA]"
        ],
        [
         "[Trial of device that is not approved or cleared by the U.S. FDA]"
        ],
        [
         "[Trial of device that is not approved or cleared by the U.S. FDA]"
        ],
        [
         "[Trial of device that is not approved or cleared by the U.S. FDA]"
        ],
        [
         "[Trial of device that is not approved or cleared by the U.S. FDA]"
        ],
        [
         "[Trial of device that is not approved or cleared by the U.S. FDA]"
        ],
        [
         "[Trial of device that is not approved or cleared by the U.S. FDA]"
        ],
        [
         "[Trial of device that is not approved or cleared by the U.S. FDA]"
        ],
        [
         "[Trial of device that is not approved or cleared by the U.S. FDA]"
        ],
        [
         "[Trial of device that is not approved or cleared by the U.S. FDA]"
        ],
        [
         "[Trial of device that is not approved or cleared by the U.S. FDA]"
        ],
        [
         "[Trial of device that is not approved or cleared by the U.S. FDA]"
        ],
        [
         "[Trial of device that is not approved or cleared by the U.S. FDA]"
        ],
        [
         "[Trial of device that is not approved or cleared by the U.S. FDA]"
        ],
        [
         "[Trial of device that is not approved or cleared by the U.S. FDA]"
        ],
        [
         "[Trial of device that is not approved or cleared by the U.S. FDA]"
        ],
        [
         "[Trial of device that is not approved or cleared by the U.S. FDA]"
        ],
        [
         "[Trial of device that is not approved or cleared by the U.S. FDA]"
        ],
        [
         "[Trial of device that is not approved or cleared by the U.S. FDA]"
        ],
        [
         "[Trial of device that is not approved or cleared by the U.S. FDA]"
        ],
        [
         "[Trial of device that is not approved or cleared by the U.S. FDA]"
        ],
        [
         "[Trial of device that is not approved or cleared by the U.S. FDA]"
        ],
        [
         "[Trial of device that is not approved or cleared by the U.S. FDA]"
        ],
        [
         "[Trial of device that is not approved or cleared by the U.S. FDA]"
        ],
        [
         "[Trial of device that is not approved or cleared by the U.S. FDA]"
        ],
        [
         "[Trial of device that is not approved or cleared by the U.S. FDA]"
        ],
        [
         "[Trial of device that is not approved or cleared by the U.S. FDA]"
        ],
        [
         "[Trial of device that is not approved or cleared by the U.S. FDA]"
        ],
        [
         "[Trial of device that is not approved or cleared by the U.S. FDA]"
        ],
        [
         "[Trial of device that is not approved or cleared by the U.S. FDA]"
        ],
        [
         "[Trial of device that is not approved or cleared by the U.S. FDA]"
        ],
        [
         "[Trial of device that is not approved or cleared by the U.S. FDA]"
        ],
        [
         "[Trial of device that is not approved or cleared by the U.S. FDA]"
        ],
        [
         "[Trial of device that is not approved or cleared by the U.S. FDA]"
        ],
        [
         "[Trial of device that is not approved or cleared by the U.S. FDA]"
        ],
        [
         "[Trial of device that is not approved or cleared by the U.S. FDA]"
        ],
        [
         "[Trial of device that is not approved or cleared by the U.S. FDA]"
        ],
        [
         "[Trial of device that is not approved or cleared by the U.S. FDA]"
        ],
        [
         "[Trial of device that is not approved or cleared by the U.S. FDA]"
        ],
        [
         "[Trial of device that is not approved or cleared by the U.S. FDA]"
        ],
        [
         "[Trial of device that is not approved or cleared by the U.S. FDA]"
        ],
        [
         "[Trial of device that is not approved or cleared by the U.S. FDA]"
        ],
        [
         "[Trial of device that is not approved or cleared by the U.S. FDA]"
        ],
        [
         "[Trial of device that is not approved or cleared by the U.S. FDA]"
        ],
        [
         "[Trial of device that is not approved or cleared by the U.S. FDA]"
        ],
        [
         "[Trial of device that is not approved or cleared by the U.S. FDA]"
        ],
        [
         "[Trial of device that is not approved or cleared by the U.S. FDA]"
        ],
        [
         "[Trial of device that is not approved or cleared by the U.S. FDA]"
        ],
        [
         "[Trial of device that is not approved or cleared by the U.S. FDA]"
        ],
        [
         "[Trial of device that is not approved or cleared by the U.S. FDA]"
        ],
        [
         "[Trial of device that is not approved or cleared by the U.S. FDA]"
        ],
        [
         "[Trial of device that is not approved or cleared by the U.S. FDA]"
        ],
        [
         "[Trial of device that is not approved or cleared by the U.S. FDA]"
        ],
        [
         "[Trial of device that is not approved or cleared by the U.S. FDA]"
        ],
        [
         "[Trial of device that is not approved or cleared by the U.S. FDA]"
        ],
        [
         "[Trial of device that is not approved or cleared by the U.S. FDA]"
        ],
        [
         "[Trial of device that is not approved or cleared by the U.S. FDA]"
        ],
        [
         "[Trial of device that is not approved or cleared by the U.S. FDA]"
        ],
        [
         "[Trial of device that is not approved or cleared by the U.S. FDA]"
        ],
        [
         "[Trial of device that is not approved or cleared by the U.S. FDA]"
        ],
        [
         "[Trial of device that is not approved or cleared by the U.S. FDA]"
        ],
        [
         "[Trial of device that is not approved or cleared by the U.S. FDA]"
        ],
        [
         "[Trial of device that is not approved or cleared by the U.S. FDA]"
        ],
        [
         "[Trial of device that is not approved or cleared by the U.S. FDA]"
        ],
        [
         "[Trial of device that is not approved or cleared by the U.S. FDA]"
        ],
        [
         "[Trial of device that is not approved or cleared by the U.S. FDA]"
        ],
        [
         "[Trial of device that is not approved or cleared by the U.S. FDA]"
        ],
        [
         "[Trial of device that is not approved or cleared by the U.S. FDA]"
        ],
        [
         "[Trial of device that is not approved or cleared by the U.S. FDA]"
        ],
        [
         "[Trial of device that is not approved or cleared by the U.S. FDA]"
        ],
        [
         "[Trial of device that is not approved or cleared by the U.S. FDA]"
        ],
        [
         "[Trial of device that is not approved or cleared by the U.S. FDA]"
        ],
        [
         "[Trial of device that is not approved or cleared by the U.S. FDA]"
        ],
        [
         "[Trial of device that is not approved or cleared by the U.S. FDA]"
        ],
        [
         "[Trial of device that is not approved or cleared by the U.S. FDA]"
        ],
        [
         "[Trial of device that is not approved or cleared by the U.S. FDA]"
        ],
        [
         "[Trial of device that is not approved or cleared by the U.S. FDA]"
        ],
        [
         "[Trial of device that is not approved or cleared by the U.S. FDA]"
        ],
        [
         "[Trial of device that is not approved or cleared by the U.S. FDA]"
        ],
        [
         "[Trial of device that is not approved or cleared by the U.S. FDA]"
        ],
        [
         "[Trial of device that is not approved or cleared by the U.S. FDA]"
        ],
        [
         "[Trial of device that is not approved or cleared by the U.S. FDA]"
        ],
        [
         "[Trial of device that is not approved or cleared by the U.S. FDA]"
        ],
        [
         "[Trial of device that is not approved or cleared by the U.S. FDA]"
        ],
        [
         "[Trial of device that is not approved or cleared by the U.S. FDA]"
        ],
        [
         "[Trial of device that is not approved or cleared by the U.S. FDA]"
        ],
        [
         "[Trial of device that is not approved or cleared by the U.S. FDA]"
        ],
        [
         "[Trial of device that is not approved or cleared by the U.S. FDA]"
        ],
        [
         "[Trial of device that is not approved or cleared by the U.S. FDA]"
        ],
        [
         "[Trial of device that is not approved or cleared by the U.S. FDA]"
        ],
        [
         "[Trial of device that is not approved or cleared by the U.S. FDA]"
        ],
        [
         "[Trial of device that is not approved or cleared by the U.S. FDA]"
        ],
        [
         "[Trial of device that is not approved or cleared by the U.S. FDA]"
        ],
        [
         "[Trial of device that is not approved or cleared by the U.S. FDA]"
        ],
        [
         "[Trial of device that is not approved or cleared by the U.S. FDA]"
        ],
        [
         "[Trial of device that is not approved or cleared by the U.S. FDA]"
        ],
        [
         "[Trial of device that is not approved or cleared by the U.S. FDA]"
        ],
        [
         "[Trial of device that is not approved or cleared by the U.S. FDA]"
        ],
        [
         "[Trial of device that is not approved or cleared by the U.S. FDA]"
        ],
        [
         "[Trial of device that is not approved or cleared by the U.S. FDA]"
        ],
        [
         "[Trial of device that is not approved or cleared by the U.S. FDA]"
        ],
        [
         "[Trial of device that is not approved or cleared by the U.S. FDA]"
        ],
        [
         "[Trial of device that is not approved or cleared by the U.S. FDA]"
        ],
        [
         "[Trial of device that is not approved or cleared by the U.S. FDA]"
        ],
        [
         "[Trial of device that is not approved or cleared by the U.S. FDA]"
        ],
        [
         "[Trial of device that is not approved or cleared by the U.S. FDA]"
        ],
        [
         "[Trial of device that is not approved or cleared by the U.S. FDA]"
        ],
        [
         "[Trial of device that is not approved or cleared by the U.S. FDA]"
        ],
        [
         "[Trial of device that is not approved or cleared by the U.S. FDA]"
        ],
        [
         "[Trial of device that is not approved or cleared by the U.S. FDA]"
        ],
        [
         "[Trial of device that is not approved or cleared by the U.S. FDA]"
        ],
        [
         "[Trial of device that is not approved or cleared by the U.S. FDA]"
        ],
        [
         "[Trial of device that is not approved or cleared by the U.S. FDA]"
        ],
        [
         "[Trial of device that is not approved or cleared by the U.S. FDA]"
        ],
        [
         "[Trial of device that is not approved or cleared by the U.S. FDA]"
        ],
        [
         "[Trial of device that is not approved or cleared by the U.S. FDA]"
        ],
        [
         "[Trial of device that is not approved or cleared by the U.S. FDA]"
        ],
        [
         "[Trial of device that is not approved or cleared by the U.S. FDA]"
        ],
        [
         "[Trial of device that is not approved or cleared by the U.S. FDA]"
        ],
        [
         "[Trial of device that is not approved or cleared by the U.S. FDA]"
        ],
        [
         "[Trial of device that is not approved or cleared by the U.S. FDA]"
        ],
        [
         "[Trial of device that is not approved or cleared by the U.S. FDA]"
        ],
        [
         "[Trial of device that is not approved or cleared by the U.S. FDA]"
        ],
        [
         "[Trial of device that is not approved or cleared by the U.S. FDA]"
        ],
        [
         "[Trial of device that is not approved or cleared by the U.S. FDA]"
        ],
        [
         "[Trial of device that is not approved or cleared by the U.S. FDA]"
        ],
        [
         "[Trial of device that is not approved or cleared by the U.S. FDA]"
        ],
        [
         "[Trial of device that is not approved or cleared by the U.S. FDA]"
        ],
        [
         "[Trial of device that is not approved or cleared by the U.S. FDA]"
        ],
        [
         "[Trial of device that is not approved or cleared by the U.S. FDA]"
        ],
        [
         "[Trial of device that is not approved or cleared by the U.S. FDA]"
        ],
        [
         "[Trial of device that is not approved or cleared by the U.S. FDA]"
        ],
        [
         "[Trial of device that is not approved or cleared by the U.S. FDA]"
        ],
        [
         "[Trial of device that is not approved or cleared by the U.S. FDA]"
        ],
        [
         "[Trial of device that is not approved or cleared by the U.S. FDA]"
        ],
        [
         "[Trial of device that is not approved or cleared by the U.S. FDA]"
        ],
        [
         "[Trial of device that is not approved or cleared by the U.S. FDA]"
        ],
        [
         "[Trial of device that is not approved or cleared by the U.S. FDA]"
        ],
        [
         "[Trial of device that is not approved or cleared by the U.S. FDA]"
        ],
        [
         "[Trial of device that is not approved or cleared by the U.S. FDA]"
        ],
        [
         "[Trial of device that is not approved or cleared by the U.S. FDA]"
        ],
        [
         "[Trial of device that is not approved or cleared by the U.S. FDA]"
        ],
        [
         "[Trial of device that is not approved or cleared by the U.S. FDA]"
        ],
        [
         "[Trial of device that is not approved or cleared by the U.S. FDA]"
        ],
        [
         "[Trial of device that is not approved or cleared by the U.S. FDA]"
        ],
        [
         "[Trial of device that is not approved or cleared by the U.S. FDA]"
        ],
        [
         "[Trial of device that is not approved or cleared by the U.S. FDA]"
        ],
        [
         "[Trial of device that is not approved or cleared by the U.S. FDA]"
        ],
        [
         "[Trial of device that is not approved or cleared by the U.S. FDA]"
        ],
        [
         "[Trial of device that is not approved or cleared by the U.S. FDA]"
        ],
        [
         "[Trial of device that is not approved or cleared by the U.S. FDA]"
        ],
        [
         "[Trial of device that is not approved or cleared by the U.S. FDA]"
        ],
        [
         "[Trial of device that is not approved or cleared by the U.S. FDA]"
        ],
        [
         "[Trial of device that is not approved or cleared by the U.S. FDA]"
        ],
        [
         "[Trial of device that is not approved or cleared by the U.S. FDA]"
        ],
        [
         "[Trial of device that is not approved or cleared by the U.S. FDA]"
        ],
        [
         "[Trial of device that is not approved or cleared by the U.S. FDA]"
        ],
        [
         "[Trial of device that is not approved or cleared by the U.S. FDA]"
        ],
        [
         "[Trial of device that is not approved or cleared by the U.S. FDA]"
        ],
        [
         "[Trial of device that is not approved or cleared by the U.S. FDA]"
        ],
        [
         "[Trial of device that is not approved or cleared by the U.S. FDA]"
        ],
        [
         "[Trial of device that is not approved or cleared by the U.S. FDA]"
        ],
        [
         "[Trial of device that is not approved or cleared by the U.S. FDA]"
        ],
        [
         "[Trial of device that is not approved or cleared by the U.S. FDA]"
        ],
        [
         "[Trial of device that is not approved or cleared by the U.S. FDA]"
        ],
        [
         "[Trial of device that is not approved or cleared by the U.S. FDA]"
        ],
        [
         "[Trial of device that is not approved or cleared by the U.S. FDA]"
        ],
        [
         "[Trial of device that is not approved or cleared by the U.S. FDA]"
        ],
        [
         "[Trial of device that is not approved or cleared by the U.S. FDA]"
        ],
        [
         "[Trial of device that is not approved or cleared by the U.S. FDA]"
        ],
        [
         "[Trial of device that is not approved or cleared by the U.S. FDA]"
        ],
        [
         "[Trial of device that is not approved or cleared by the U.S. FDA]"
        ],
        [
         "[Trial of device that is not approved or cleared by the U.S. FDA]"
        ],
        [
         "[Trial of device that is not approved or cleared by the U.S. FDA]"
        ],
        [
         "[Trial of device that is not approved or cleared by the U.S. FDA]"
        ],
        [
         "[Trial of device that is not approved or cleared by the U.S. FDA]"
        ],
        [
         "[Trial of device that is not approved or cleared by the U.S. FDA]"
        ],
        [
         "[Trial of device that is not approved or cleared by the U.S. FDA]"
        ],
        [
         "[Trial of device that is not approved or cleared by the U.S. FDA]"
        ],
        [
         "[Trial of device that is not approved or cleared by the U.S. FDA]"
        ],
        [
         "[Trial of device that is not approved or cleared by the U.S. FDA]"
        ],
        [
         "[Trial of device that is not approved or cleared by the U.S. FDA]"
        ],
        [
         "[Trial of device that is not approved or cleared by the U.S. FDA]"
        ],
        [
         "[Trial of device that is not approved or cleared by the U.S. FDA]"
        ],
        [
         "[Trial of device that is not approved or cleared by the U.S. FDA]"
        ],
        [
         "[Trial of device that is not approved or cleared by the U.S. FDA]"
        ],
        [
         "[Trial of device that is not approved or cleared by the U.S. FDA]"
        ],
        [
         "[Trial of device that is not approved or cleared by the U.S. FDA]"
        ],
        [
         "[Trial of device that is not approved or cleared by the U.S. FDA]"
        ],
        [
         "[Trial of device that is not approved or cleared by the U.S. FDA]"
        ],
        [
         "[Trial of device that is not approved or cleared by the U.S. FDA]"
        ],
        [
         "[Trial of device that is not approved or cleared by the U.S. FDA]"
        ],
        [
         "[Trial of device that is not approved or cleared by the U.S. FDA]"
        ],
        [
         "[Trial of device that is not approved or cleared by the U.S. FDA]"
        ],
        [
         "[Trial of device that is not approved or cleared by the U.S. FDA]"
        ],
        [
         "[Trial of device that is not approved or cleared by the U.S. FDA]"
        ],
        [
         "[Trial of device that is not approved or cleared by the U.S. FDA]"
        ],
        [
         "[Trial of device that is not approved or cleared by the U.S. FDA]"
        ],
        [
         "[Trial of device that is not approved or cleared by the U.S. FDA]"
        ],
        [
         "[Trial of device that is not approved or cleared by the U.S. FDA]"
        ],
        [
         "[Trial of device that is not approved or cleared by the U.S. FDA]"
        ],
        [
         "[Trial of device that is not approved or cleared by the U.S. FDA]"
        ],
        [
         "[Trial of device that is not approved or cleared by the U.S. FDA]"
        ],
        [
         "[Trial of device that is not approved or cleared by the U.S. FDA]"
        ],
        [
         "[Trial of device that is not approved or cleared by the U.S. FDA]"
        ],
        [
         "[Trial of device that is not approved or cleared by the U.S. FDA]"
        ],
        [
         "[Trial of device that is not approved or cleared by the U.S. FDA]"
        ],
        [
         "[Trial of device that is not approved or cleared by the U.S. FDA]"
        ],
        [
         "[Trial of device that is not approved or cleared by the U.S. FDA]"
        ],
        [
         "[Trial of device that is not approved or cleared by the U.S. FDA]"
        ],
        [
         "[Trial of device that is not approved or cleared by the U.S. FDA]"
        ],
        [
         "[Trial of device that is not approved or cleared by the U.S. FDA]"
        ],
        [
         "[Trial of device that is not approved or cleared by the U.S. FDA]"
        ],
        [
         "[Trial of device that is not approved or cleared by the U.S. FDA]"
        ],
        [
         "[Trial of device that is not approved or cleared by the U.S. FDA]"
        ],
        [
         "[Trial of device that is not approved or cleared by the U.S. FDA]"
        ],
        [
         "[Trial of device that is not approved or cleared by the U.S. FDA]"
        ],
        [
         "[Trial of device that is not approved or cleared by the U.S. FDA]"
        ],
        [
         "[Trial of device that is not approved or cleared by the U.S. FDA]"
        ],
        [
         "[Trial of device that is not approved or cleared by the U.S. FDA]"
        ],
        [
         "[Trial of device that is not approved or cleared by the U.S. FDA]"
        ],
        [
         "[Trial of device that is not approved or cleared by the U.S. FDA]"
        ],
        [
         "[Trial of device that is not approved or cleared by the U.S. FDA]"
        ],
        [
         "[Trial of device that is not approved or cleared by the U.S. FDA]"
        ],
        [
         "[Trial of device that is not approved or cleared by the U.S. FDA]"
        ],
        [
         "[Trial of device that is not approved or cleared by the U.S. FDA]"
        ],
        [
         "[Trial of device that is not approved or cleared by the U.S. FDA]"
        ],
        [
         "[Trial of device that is not approved or cleared by the U.S. FDA]"
        ],
        [
         "[Trial of device that is not approved or cleared by the U.S. FDA]"
        ],
        [
         "[Trial of device that is not approved or cleared by the U.S. FDA]"
        ],
        [
         "[Trial of device that is not approved or cleared by the U.S. FDA]"
        ],
        [
         "[Trial of device that is not approved or cleared by the U.S. FDA]"
        ],
        [
         "[Trial of device that is not approved or cleared by the U.S. FDA]"
        ],
        [
         "[Trial of device that is not approved or cleared by the U.S. FDA]"
        ],
        [
         "[Trial of device that is not approved or cleared by the U.S. FDA]"
        ],
        [
         "[Trial of device that is not approved or cleared by the U.S. FDA]"
        ],
        [
         "[Trial of device that is not approved or cleared by the U.S. FDA]"
        ],
        [
         "[Trial of device that is not approved or cleared by the U.S. FDA]"
        ],
        [
         "[Trial of device that is not approved or cleared by the U.S. FDA]"
        ],
        [
         "[Trial of device that is not approved or cleared by the U.S. FDA]"
        ],
        [
         "[Trial of device that is not approved or cleared by the U.S. FDA]"
        ],
        [
         "[Trial of device that is not approved or cleared by the U.S. FDA]"
        ],
        [
         "[Trial of device that is not approved or cleared by the U.S. FDA]"
        ],
        [
         "[Trial of device that is not approved or cleared by the U.S. FDA]"
        ],
        [
         "[Trial of device that is not approved or cleared by the U.S. FDA]"
        ],
        [
         "[Trial of device that is not approved or cleared by the U.S. FDA]"
        ],
        [
         "[Trial of device that is not approved or cleared by the U.S. FDA]"
        ],
        [
         "[Trial of device that is not approved or cleared by the U.S. FDA]"
        ],
        [
         "[Trial of device that is not approved or cleared by the U.S. FDA]"
        ],
        [
         "[Trial of device that is not approved or cleared by the U.S. FDA]"
        ],
        [
         "[Trial of device that is not approved or cleared by the U.S. FDA]"
        ],
        [
         "[Trial of device that is not approved or cleared by the U.S. FDA]"
        ],
        [
         "[Trial of device that is not approved or cleared by the U.S. FDA]"
        ],
        [
         "[Trial of device that is not approved or cleared by the U.S. FDA]"
        ],
        [
         "[Trial of device that is not approved or cleared by the U.S. FDA]"
        ],
        [
         "[Trial of device that is not approved or cleared by the U.S. FDA]"
        ],
        [
         "[Trial of device that is not approved or cleared by the U.S. FDA]"
        ],
        [
         "[Trial of device that is not approved or cleared by the U.S. FDA]"
        ],
        [
         "[Trial of device that is not approved or cleared by the U.S. FDA]"
        ],
        [
         "[Trial of device that is not approved or cleared by the U.S. FDA]"
        ],
        [
         "[Trial of device that is not approved or cleared by the U.S. FDA]"
        ],
        [
         "[Trial of device that is not approved or cleared by the U.S. FDA]"
        ],
        [
         "[Trial of device that is not approved or cleared by the U.S. FDA]"
        ],
        [
         "[Trial of device that is not approved or cleared by the U.S. FDA]"
        ],
        [
         "[Trial of device that is not approved or cleared by the U.S. FDA]"
        ],
        [
         "[Trial of device that is not approved or cleared by the U.S. FDA]"
        ],
        [
         "[Trial of device that is not approved or cleared by the U.S. FDA]"
        ],
        [
         "[Trial of device that is not approved or cleared by the U.S. FDA]"
        ],
        [
         "[Trial of device that is not approved or cleared by the U.S. FDA]"
        ],
        [
         "[Trial of device that is not approved or cleared by the U.S. FDA]"
        ],
        [
         "[Trial of device that is not approved or cleared by the U.S. FDA]"
        ],
        [
         "[Trial of device that is not approved or cleared by the U.S. FDA]"
        ],
        [
         "[Trial of device that is not approved or cleared by the U.S. FDA]"
        ],
        [
         "[Trial of device that is not approved or cleared by the U.S. FDA]"
        ],
        [
         "[Trial of device that is not approved or cleared by the U.S. FDA]"
        ],
        [
         "[Trial of device that is not approved or cleared by the U.S. FDA]"
        ],
        [
         "[Trial of device that is not approved or cleared by the U.S. FDA]"
        ],
        [
         "[Trial of device that is not approved or cleared by the U.S. FDA]"
        ],
        [
         "[Trial of device that is not approved or cleared by the U.S. FDA]"
        ],
        [
         "[Trial of device that is not approved or cleared by the U.S. FDA]"
        ],
        [
         "[Trial of device that is not approved or cleared by the U.S. FDA]"
        ],
        [
         "[Trial of device that is not approved or cleared by the U.S. FDA]"
        ],
        [
         "[Trial of device that is not approved or cleared by the U.S. FDA]"
        ],
        [
         "[Trial of device that is not approved or cleared by the U.S. FDA]"
        ],
        [
         "[Trial of device that is not approved or cleared by the U.S. FDA]"
        ],
        [
         "[Trial of device that is not approved or cleared by the U.S. FDA]"
        ],
        [
         "[Trial of device that is not approved or cleared by the U.S. FDA]"
        ],
        [
         "[Trial of device that is not approved or cleared by the U.S. FDA]"
        ],
        [
         "[Trial of device that is not approved or cleared by the U.S. FDA]"
        ],
        [
         "[Trial of device that is not approved or cleared by the U.S. FDA]"
        ],
        [
         "[Trial of device that is not approved or cleared by the U.S. FDA]"
        ],
        [
         "[Trial of device that is not approved or cleared by the U.S. FDA]"
        ],
        [
         "[Trial of device that is not approved or cleared by the U.S. FDA]"
        ],
        [
         "[Trial of device that is not approved or cleared by the U.S. FDA]"
        ],
        [
         "[Trial of device that is not approved or cleared by the U.S. FDA]"
        ],
        [
         "[Trial of device that is not approved or cleared by the U.S. FDA]"
        ],
        [
         "[Trial of device that is not approved or cleared by the U.S. FDA]"
        ],
        [
         "[Trial of device that is not approved or cleared by the U.S. FDA]"
        ],
        [
         "[Trial of device that is not approved or cleared by the U.S. FDA]"
        ],
        [
         "[Trial of device that is not approved or cleared by the U.S. FDA]"
        ],
        [
         "[Trial of device that is not approved or cleared by the U.S. FDA]"
        ],
        [
         "[Trial of device that is not approved or cleared by the U.S. FDA]"
        ],
        [
         "[Trial of device that is not approved or cleared by the U.S. FDA]"
        ],
        [
         "[Trial of device that is not approved or cleared by the U.S. FDA]"
        ],
        [
         "[Trial of device that is not approved or cleared by the U.S. FDA]"
        ],
        [
         "[Trial of device that is not approved or cleared by the U.S. FDA]"
        ],
        [
         "[Trial of device that is not approved or cleared by the U.S. FDA]"
        ],
        [
         "[Trial of device that is not approved or cleared by the U.S. FDA]"
        ],
        [
         "[Trial of device that is not approved or cleared by the U.S. FDA]"
        ],
        [
         "[Trial of device that is not approved or cleared by the U.S. FDA]"
        ],
        [
         "[Trial of device that is not approved or cleared by the U.S. FDA]"
        ],
        [
         "[Trial of device that is not approved or cleared by the U.S. FDA]"
        ],
        [
         "[Trial of device that is not approved or cleared by the U.S. FDA]"
        ],
        [
         "[Trial of device that is not approved or cleared by the U.S. FDA]"
        ],
        [
         "[Trial of device that is not approved or cleared by the U.S. FDA]"
        ],
        [
         "[Trial of device that is not approved or cleared by the U.S. FDA]"
        ],
        [
         "[Trial of device that is not approved or cleared by the U.S. FDA]"
        ],
        [
         "[Trial of device that is not approved or cleared by the U.S. FDA]"
        ],
        [
         "[Trial of device that is not approved or cleared by the U.S. FDA]"
        ],
        [
         "[Trial of device that is not approved or cleared by the U.S. FDA]"
        ],
        [
         "[Trial of device that is not approved or cleared by the U.S. FDA]"
        ],
        [
         "[Trial of device that is not approved or cleared by the U.S. FDA]"
        ],
        [
         "[Trial of device that is not approved or cleared by the U.S. FDA]"
        ],
        [
         "[Trial of device that is not approved or cleared by the U.S. FDA]"
        ],
        [
         "[Trial of device that is not approved or cleared by the U.S. FDA]"
        ],
        [
         "[Trial of device that is not approved or cleared by the U.S. FDA]"
        ],
        [
         "[Trial of device that is not approved or cleared by the U.S. FDA]"
        ],
        [
         "[Trial of device that is not approved or cleared by the U.S. FDA]"
        ],
        [
         "[Trial of device that is not approved or cleared by the U.S. FDA]"
        ],
        [
         "[Trial of device that is not approved or cleared by the U.S. FDA]"
        ],
        [
         "[Trial of device that is not approved or cleared by the U.S. FDA]"
        ],
        [
         "[Trial of device that is not approved or cleared by the U.S. FDA]"
        ],
        [
         "[Trial of device that is not approved or cleared by the U.S. FDA]"
        ],
        [
         "[Trial of device that is not approved or cleared by the U.S. FDA]"
        ],
        [
         "[Trial of device that is not approved or cleared by the U.S. FDA]"
        ],
        [
         "[Trial of device that is not approved or cleared by the U.S. FDA]"
        ],
        [
         "[Trial of device that is not approved or cleared by the U.S. FDA]"
        ],
        [
         "[Trial of device that is not approved or cleared by the U.S. FDA]"
        ],
        [
         "[Trial of device that is not approved or cleared by the U.S. FDA]"
        ],
        [
         "[Trial of device that is not approved or cleared by the U.S. FDA]"
        ],
        [
         "[Trial of device that is not approved or cleared by the U.S. FDA]"
        ],
        [
         "[Trial of device that is not approved or cleared by the U.S. FDA]"
        ],
        [
         "[Trial of device that is not approved or cleared by the U.S. FDA]"
        ],
        [
         "[Trial of device that is not approved or cleared by the U.S. FDA]"
        ],
        [
         "[Trial of device that is not approved or cleared by the U.S. FDA]"
        ],
        [
         "[Trial of device that is not approved or cleared by the U.S. FDA]"
        ],
        [
         "[Trial of device that is not approved or cleared by the U.S. FDA]"
        ],
        [
         "[Trial of device that is not approved or cleared by the U.S. FDA]"
        ],
        [
         "[Trial of device that is not approved or cleared by the U.S. FDA]"
        ],
        [
         "[Trial of device that is not approved or cleared by the U.S. FDA]"
        ],
        [
         "[Trial of device that is not approved or cleared by the U.S. FDA]"
        ],
        [
         "[Trial of device that is not approved or cleared by the U.S. FDA]"
        ],
        [
         "[Trial of device that is not approved or cleared by the U.S. FDA]"
        ],
        [
         "[Trial of device that is not approved or cleared by the U.S. FDA]"
        ],
        [
         "[Trial of device that is not approved or cleared by the U.S. FDA]"
        ],
        [
         "[Trial of device that is not approved or cleared by the U.S. FDA]"
        ],
        [
         "[Trial of device that is not approved or cleared by the U.S. FDA]"
        ],
        [
         "[Trial of device that is not approved or cleared by the U.S. FDA]"
        ],
        [
         "[Trial of device that is not approved or cleared by the U.S. FDA]"
        ],
        [
         "[Trial of device that is not approved or cleared by the U.S. FDA]"
        ],
        [
         "[Trial of device that is not approved or cleared by the U.S. FDA]"
        ],
        [
         "[Trial of device that is not approved or cleared by the U.S. FDA]"
        ],
        [
         "[Trial of device that is not approved or cleared by the U.S. FDA]"
        ],
        [
         "[Trial of device that is not approved or cleared by the U.S. FDA]"
        ],
        [
         "[Trial of device that is not approved or cleared by the U.S. FDA]"
        ],
        [
         "[Trial of device that is not approved or cleared by the U.S. FDA]"
        ],
        [
         "[Trial of device that is not approved or cleared by the U.S. FDA]"
        ],
        [
         "[Trial of device that is not approved or cleared by the U.S. FDA]"
        ],
        [
         "[Trial of device that is not approved or cleared by the U.S. FDA]"
        ],
        [
         "[Trial of device that is not approved or cleared by the U.S. FDA]"
        ],
        [
         "[Trial of device that is not approved or cleared by the U.S. FDA]"
        ],
        [
         "[Trial of device that is not approved or cleared by the U.S. FDA]"
        ],
        [
         "[Trial of device that is not approved or cleared by the U.S. FDA]"
        ],
        [
         "[Trial of device that is not approved or cleared by the U.S. FDA]"
        ],
        [
         "[Trial of device that is not approved or cleared by the U.S. FDA]"
        ],
        [
         "[Trial of device that is not approved or cleared by the U.S. FDA]"
        ],
        [
         "[Trial of device that is not approved or cleared by the U.S. FDA]"
        ],
        [
         "[Trial of device that is not approved or cleared by the U.S. FDA]"
        ],
        [
         "[Trial of device that is not approved or cleared by the U.S. FDA]"
        ],
        [
         "[Trial of device that is not approved or cleared by the U.S. FDA]"
        ],
        [
         "[Trial of device that is not approved or cleared by the U.S. FDA]"
        ],
        [
         "[Trial of device that is not approved or cleared by the U.S. FDA]"
        ],
        [
         "[Trial of device that is not approved or cleared by the U.S. FDA]"
        ],
        [
         "[Trial of device that is not approved or cleared by the U.S. FDA]"
        ],
        [
         "[Trial of device that is not approved or cleared by the U.S. FDA]"
        ],
        [
         "[Trial of device that is not approved or cleared by the U.S. FDA]"
        ],
        [
         "[Trial of device that is not approved or cleared by the U.S. FDA]"
        ],
        [
         "[Trial of device that is not approved or cleared by the U.S. FDA]"
        ],
        [
         "[Trial of device that is not approved or cleared by the U.S. FDA]"
        ],
        [
         "[Trial of device that is not approved or cleared by the U.S. FDA]"
        ],
        [
         "[Trial of device that is not approved or cleared by the U.S. FDA]"
        ],
        [
         "[Trial of device that is not approved or cleared by the U.S. FDA]"
        ],
        [
         "[Trial of device that is not approved or cleared by the U.S. FDA]"
        ],
        [
         "[Trial of device that is not approved or cleared by the U.S. FDA]"
        ],
        [
         "[Trial of device that is not approved or cleared by the U.S. FDA]"
        ],
        [
         "[Trial of device that is not approved or cleared by the U.S. FDA]"
        ],
        [
         "[Trial of device that is not approved or cleared by the U.S. FDA]"
        ],
        [
         "[Trial of device that is not approved or cleared by the U.S. FDA]"
        ],
        [
         "[Trial of device that is not approved or cleared by the U.S. FDA]"
        ],
        [
         "[Trial of device that is not approved or cleared by the U.S. FDA]"
        ],
        [
         "[Trial of device that is not approved or cleared by the U.S. FDA]"
        ],
        [
         "[Trial of device that is not approved or cleared by the U.S. FDA]"
        ],
        [
         "[Trial of device that is not approved or cleared by the U.S. FDA]"
        ],
        [
         "[Trial of device that is not approved or cleared by the U.S. FDA]"
        ],
        [
         "[Trial of device that is not approved or cleared by the U.S. FDA]"
        ],
        [
         "[Trial of device that is not approved or cleared by the U.S. FDA]"
        ],
        [
         "[Trial of device that is not approved or cleared by the U.S. FDA]"
        ],
        [
         "[Trial of device that is not approved or cleared by the U.S. FDA]"
        ],
        [
         "[Trial of device that is not approved or cleared by the U.S. FDA]"
        ],
        [
         "[Trial of device that is not approved or cleared by the U.S. FDA]"
        ],
        [
         "[Trial of device that is not approved or cleared by the U.S. FDA]"
        ],
        [
         "[Trial of device that is not approved or cleared by the U.S. FDA]"
        ],
        [
         "[Trial of device that is not approved or cleared by the U.S. FDA]"
        ],
        [
         "[Trial of device that is not approved or cleared by the U.S. FDA]"
        ],
        [
         "[Trial of device that is not approved or cleared by the U.S. FDA]"
        ],
        [
         "[Trial of device that is not approved or cleared by the U.S. FDA]"
        ],
        [
         "[Trial of device that is not approved or cleared by the U.S. FDA]"
        ],
        [
         "[Trial of device that is not approved or cleared by the U.S. FDA]"
        ],
        [
         "[Trial of device that is not approved or cleared by the U.S. FDA]"
        ],
        [
         "[Trial of device that is not approved or cleared by the U.S. FDA]"
        ],
        [
         "[Trial of device that is not approved or cleared by the U.S. FDA]"
        ],
        [
         "[Trial of device that is not approved or cleared by the U.S. FDA]"
        ],
        [
         "[Trial of device that is not approved or cleared by the U.S. FDA]"
        ],
        [
         "[Trial of device that is not approved or cleared by the U.S. FDA]"
        ],
        [
         "[Trial of device that is not approved or cleared by the U.S. FDA]"
        ],
        [
         "[Trial of device that is not approved or cleared by the U.S. FDA]"
        ],
        [
         "[Trial of device that is not approved or cleared by the U.S. FDA]"
        ],
        [
         "[Trial of device that is not approved or cleared by the U.S. FDA]"
        ],
        [
         "[Trial of device that is not approved or cleared by the U.S. FDA]"
        ],
        [
         "[Trial of device that is not approved or cleared by the U.S. FDA]"
        ],
        [
         "[Trial of device that is not approved or cleared by the U.S. FDA]"
        ],
        [
         "[Trial of device that is not approved or cleared by the U.S. FDA]"
        ],
        [
         "[Trial of device that is not approved or cleared by the U.S. FDA]"
        ],
        [
         "[Trial of device that is not approved or cleared by the U.S. FDA]"
        ],
        [
         "[Trial of device that is not approved or cleared by the U.S. FDA]"
        ],
        [
         "[Trial of device that is not approved or cleared by the U.S. FDA]"
        ],
        [
         "[Trial of device that is not approved or cleared by the U.S. FDA]"
        ],
        [
         "[Trial of device that is not approved or cleared by the U.S. FDA]"
        ],
        [
         "[Trial of device that is not approved or cleared by the U.S. FDA]"
        ],
        [
         "[Trial of device that is not approved or cleared by the U.S. FDA]"
        ],
        [
         "[Trial of device that is not approved or cleared by the U.S. FDA]"
        ],
        [
         "[Trial of device that is not approved or cleared by the U.S. FDA]"
        ],
        [
         "[Trial of device that is not approved or cleared by the U.S. FDA]"
        ],
        [
         "[Trial of device that is not approved or cleared by the U.S. FDA]"
        ],
        [
         "[Trial of device that is not approved or cleared by the U.S. FDA]"
        ],
        [
         "[Trial of device that is not approved or cleared by the U.S. FDA]"
        ],
        [
         "[Trial of device that is not approved or cleared by the U.S. FDA]"
        ],
        [
         "[Trial of device that is not approved or cleared by the U.S. FDA]"
        ],
        [
         "[Trial of device that is not approved or cleared by the U.S. FDA]"
        ],
        [
         "[Trial of device that is not approved or cleared by the U.S. FDA]"
        ],
        [
         "[Trial of device that is not approved or cleared by the U.S. FDA]"
        ],
        [
         "[Trial of device that is not approved or cleared by the U.S. FDA]"
        ],
        [
         "[Trial of device that is not approved or cleared by the U.S. FDA]"
        ],
        [
         "[Trial of device that is not approved or cleared by the U.S. FDA]"
        ],
        [
         "[Trial of device that is not approved or cleared by the U.S. FDA]"
        ],
        [
         "[Trial of device that is not approved or cleared by the U.S. FDA]"
        ],
        [
         "EnCoRe MoMS:Engaging Communities to Reduce Morbidity From Maternal Sepsis"
        ],
        [
         "Efficacy and Safety of Lumiracoxib in Patients With Primary Knee Osteoarthritis (OA)"
        ],
        [
         "Study to Evaluate a 13-valent Pneumococcal Conjugate Vaccine in Infants"
        ],
        [
         "Study to Evaluate a 13-valent Pneumococcal Conjugate Vaccine in Infants"
        ],
        [
         "Study to Evaluate the Efficacy, Safety and Tolerability of an Oral Aripiprazole/Escitalopram Combination Therapy in Participants With Major Depressive Disorder (MDD)"
        ],
        [
         "Study to Evaluate the Efficacy, Safety and Tolerability of an Oral Aripiprazole/Escitalopram Combination Therapy in Participants With Major Depressive Disorder (MDD)"
        ],
        [
         "A Study of CAR-GPRC5D in Patients With Relapsed/Refractory Multiple Myeloma or Plasma Cell Leukemia"
        ],
        [
         "Managerial Database II"
        ],
        [
         "Bioequivalence and Wear Study of Mylan Fentanyl Transdermal System 25 µg/h and Mylan Fentanyl Transdermal System"
        ],
        [
         "Thalamic Deep Brain Stimulation for Tourette Syndrome"
        ],
        [
         "Radiation Therapy With or Without Bicalutamide and Goserelin in Treating Patients With Prostate Cancer"
        ],
        [
         "Phase 3 Study of KHK7580"
        ],
        [
         "Phase 3 Study of KHK7580"
        ],
        [
         "Walnut Oral Immunotherapy for Tree Nut Allergy"
        ],
        [
         "Walnut Oral Immunotherapy for Tree Nut Allergy"
        ],
        [
         "Phase I/II Trial of a Malaria Vaccine in Adults Living in the United States of America"
        ],
        [
         "Safety and Efficacy Study of Bimatoprost/Timolol Fixed Combination in Patients With Glaucoma or Ocular Hypertension"
        ],
        [
         "A Parent-Based Intervention to Reduce Sexual Risk Behavior in Adolescents"
        ],
        [
         "Use of Acupuncture In Children With Autistic Spectrum Disorder"
        ],
        [
         "A Study of Gaboxadol in Primary Insomnia"
        ],
        [
         "A Study of Gaboxadol in Primary Insomnia"
        ],
        [
         "A Study of CM310 in Subjects With Moderate to Severe Asthma"
        ],
        [
         "Intravenous Cannulation In Children During Sevoflurane Induction"
        ],
        [
         "A Study of BCMA-directed CAR-T Cells Treatment in Subjects With r/r Multiple Myeloma"
        ],
        [
         "A Study of BCMA-directed CAR-T Cells Treatment in Subjects With r/r Multiple Myeloma"
        ],
        [
         "A Study of BCMA-directed CAR-T Cells Treatment in Subjects With r/r Multiple Myeloma"
        ],
        [
         "Radiation Therapy in Treating Patients With Prostate Cancer"
        ],
        [
         "Radiation Therapy in Treating Patients With Prostate Cancer"
        ],
        [
         "Radiation Therapy in Treating Patients With Stage I, Stage II, or Stage III Prostate Cancer"
        ],
        [
         "Pharmacologic Effects of Darifenacin and Tolterodine on Cardiovascular Parameters in Healthy Subjects"
        ],
        [
         "HIP Fracture Accelerated Surgical TreaTment And Care tracK (HIP ATTACK) Trial"
        ],
        [
         "Vaccine Therapy With or Without Interleukin-2 in Treating Patients With Metastatic Melanoma"
        ],
        [
         "Vaccine Therapy With or Without Interleukin-2 in Treating Patients With Metastatic Melanoma"
        ],
        [
         "Vaccine Therapy With or Without Interleukin-2 in Treating Patients With Metastatic Melanoma"
        ],
        [
         "Vaccine Therapy With or Without Interleukin-2 in Treating Patients With Metastatic Melanoma"
        ],
        [
         "Prevention of Arrhythmia Device Infection Trial (PADIT)"
        ],
        [
         "Combination Chemotherapy in Treating Patients With Advanced Cancer"
        ],
        [
         "Combination Chemotherapy in Treating Patients With Advanced Cancer"
        ],
        [
         "Combination Chemotherapy in Treating Patients With Advanced Cancer"
        ],
        [
         "Combination Chemotherapy in Treating Patients With Advanced Cancer"
        ],
        [
         "Combination Chemotherapy in Treating Patients With Advanced Cancer"
        ],
        [
         "Impact of Non-Commercialism Policy in Seattle Schools"
        ],
        [
         "Oxytocin Suppresses Substance Use Disorders Associated With Chronic Stress"
        ],
        [
         "Non-invasive Quantification of Liver Iron With MRI"
        ],
        [
         "Study of Aripiprazole in the Treatment of Patients With Psychosis Associated With Dementia of the Alzheimer's Type"
        ],
        [
         "Validation of DNA Methylation Biomarkers for Oral Cancer Detection"
        ],
        [
         "Study of AA4500 in the Treatment of Peyronie's Disease"
        ],
        [
         "UCLM802 (Anti-Mesothelin CAR-T) Cell Injection in Patients With Mesothelin-positive Advanced Malignant Solid Tumors"
        ],
        [
         "Exercise in Patients Admitted With Recently Decompensated Heart Failure"
        ],
        [
         "Electrocardiogram Clinical Validation Study"
        ],
        [
         "Effect of Acupuncture Therapy on Dysphagia in Parkinson's Disease"
        ],
        [
         "Early Psychological Intervention After Rape"
        ],
        [
         "Exercise Training After Transcatheter Aortic Valve Implantation"
        ],
        [
         "Effect of Bronchoscopy on the Outcome of Patients With Severe Sepsis With ARDS and Complicated by VAP From Prolonged Ventilation"
        ],
        [
         "Effect of Bronchoscopy on the Outcome of Patients With Severe Sepsis With ARDS and Complicated by VAP From Prolonged Ventilation"
        ],
        [
         "Everolimus in Combination With Cyclosporine Microemulsion in de Novo Renal Transplant Recipients"
        ],
        [
         "Extension Study Investigating the Long-Term Safety and Tolerability of Repeat Doses of FE200486 in Prostate Cancer Patients"
        ],
        [
         "Safety and Immunogenicity of PanBlok Influenza Vaccine in Healthy Adults"
        ],
        [
         "True Functional Restoration and Analgesia in Non-Radicular Low Back Pain"
        ],
        [
         "Phase III Randomized, Double-Blind, Placebo-Controlled Study of Acellular and Whole-Cell Pertussis Vaccines"
        ],
        [
         "Assessment of Oral Health Related Quality of Life After Full Mouth Rehabilitation Under GA"
        ],
        [
         "Radiation Therapy in Treating Patients With Stage II or Stage III Prostate Cancer"
        ],
        [
         "Study of Allogeneic Adipose-Derived Mesenchymal Stem Cells to Treat Post COVID-19 Long Haul Pulmonary Compromise"
        ],
        [
         "A Safety and Efficacy Trial of Dapivirine Vaginal Ring in Africa"
        ],
        [
         "An Eight-Week Study to Evaluate the Efficacy and Safety of SR58611A in Patients With Generalized Anxiety Disorder"
        ],
        [
         "A Study Using Botulinum Toxin Type A in Patients With Axillary Hyperhidrosis"
        ],
        [
         "Renal Impairment Study"
        ],
        [
         "Emotional Freedom Technique (EFT) Effect on Nurses"
        ],
        [
         "Safety and Immunogenicity of Live Attenuated Varicella Vaccine in Healthy Population Aged ≥13 Years Old"
        ],
        [
         "Study to Compare the Efficacy and Safety of Pitavastatin and Simvastatin"
        ],
        [
         "Vaccination of High Risk Breast Cancer Patients"
        ],
        [
         "Clinical Trial of SB-509 in Subjects With Diabetic Neuropathy"
        ],
        [
         "Clinical Trial of SB-509 in Subjects With Diabetic Neuropathy"
        ],
        [
         "The Dynamics of Human Atrial Fibrillation"
        ],
        [
         "The Effect of Time Intervals for Rescue Treatment on Eradication Effect of Helicobacter Pylori Infection"
        ],
        [
         "Assessment of InfraScanner 2000™ in Detecting Subdural and Epidural Hematomas"
        ],
        [
         "Intraoperative Laser Speckle Contrast Imaging of Cerebral Blood Flow"
        ],
        [
         "Assessment of Efficacy and Safety of Tegaserod Treatment and Placebo in Women With Dyspepsia"
        ],
        [
         "Open-label Study to Compare Hospitalization Rates of Schizophrenic Patients Treated With Oral Antipsychotics Versus IM Depot Aripiprazole"
        ],
        [
         "A Study of LY2140023 in Healthy Participants"
        ],
        [
         "A Study of LY2140023 in Healthy Participants"
        ],
        [
         "Morton's Neuroma: Manipulation Versus Steroid Injection"
        ],
        [
         "Safety and Efficacy of Adipose Derived Stem Cells for Chronic Obstructive Pulmonary Disease"
        ],
        [
         "Telerehabilitation Early After Stroke"
        ],
        [
         "Development of Non-invasive Method for Quantifying Vitamin D Levels in the Body Using Spectroscopy"
        ],
        [
         "Retrospective Evaluation of Safety and Efficacy of Daptomycin Used in Patients With Serious Gram-positive Infections"
        ],
        [
         "Precision Cell Immunotherapy Combined With Chemotherapy in Advanced Gastric Cancer"
        ],
        [
         "Establishment of Social Skills Training Group in Adolescents With Autism Spectrum Disorder and Effectiveness Analysis"
        ],
        [
         "Improving Health Outcomes of Migraine Patients Who Present to the Emergency Department"
        ],
        [
         "Efficacy and Safety of Fexofenadine in Mild to Moderate Persistent Asthma"
        ],
        [
         "Controlling Myopia Progression With Soft Contact Lenses"
        ],
        [
         "Recombinant Human Prolactin for Lactation Induction"
        ],
        [
         "Recombinant Human Prolactin for Lactation Induction"
        ],
        [
         "Combination Chemotherapy in Treating Children With Non-Hodgkin's Lymphoma"
        ],
        [
         "Convalescent Plasma in the Treatment of Covid-19"
        ],
        [
         "Comparison of Techniques for Assessing Cardiac Output and Preload in Critically Ill Pediatric Patients"
        ],
        [
         "Safe Mothers, Safe Children Initiative"
        ],
        [
         "Determination of Target of Adequate Partial Neuromuscular Blockade for Electrophysiologic Monitoring During Microvascular Decompression Surgery"
        ],
        [
         "Biological Therapy in Treating Patients With Prostate Cancer"
        ],
        [
         "2-Methoxyestradiol in Treating Patients With Advanced Solid Tumors"
        ],
        [
         "Combination Chemotherapy in Treating Patients With Advanced Colorectal Cancer"
        ],
        [
         "Combination Chemotherapy in Treating Patients With Advanced Colorectal Cancer"
        ],
        [
         "Donor Umbilical Cord Blood Transplant in Treating Patients With Hematologic Cancer"
        ],
        [
         "Clinical Trial to Evaluate the Safety and Efficacy of IM19 CAR-T Cells in Patients With Relapsed and Refractory (R/R) B-cell Acute Lymphoblastic Leukemia"
        ],
        [
         "Human Phototoxicity Test"
        ],
        [
         "Human Phototoxicity Test"
        ],
        [
         "Human Phototoxicity Test"
        ],
        [
         "Spinal Cord Stimulation Research Study"
        ],
        [
         "Safety and Efficacy of Vilazodone in Major Depressive Disorder"
        ],
        [
         "Prevention of Skin Cancer in High Risk Patients After Conversion to a Sirolimus-based Immunosuppressive Protocol"
        ],
        [
         "A Study Using Botulinum Toxin Type A as Headache Prophylaxis for Migraine Patients With Frequent Headaches"
        ],
        [
         "A Comparison of Two Daily Disposable Contact Lenses"
        ],
        [
         "Safety and Efficacy Study of EXC 001 to Improve the Appearance of Scars From Prior Breast Surgery"
        ],
        [
         "Oxycodone/Naloxone (OXN) Combination in Moderate to Severe Non-malignant Pain"
        ],
        [
         "Evaluation of the Relationship Between Neck Pain and Ergonomic Factors in Office Workers"
        ],
        [
         "A Study of AC176 for the Treatment of Metastatic Castration Resistant Prostate Cancer"
        ],
        [
         "Study Evaluating DVS-233 SR In Adult Outpatients With Major Depressive Disorder"
        ],
        [
         "Study Evaluating DVS-233 SR In Adult Outpatients With Major Depressive Disorder"
        ],
        [
         "Comparison of Combination of Beclomethasone Dipropionate and Formoterol Fumarate Versus Single Components Assessed by Knemometry and Urinary Cortisol Measurements in Asthmatic Children"
        ],
        [
         "A Study of the Efficacy and Safety of Topiramate in the Prevention of Migraine"
        ],
        [
         "Clinical Sequencing Project for Metastatic Cancer Patients for Personalized Cancer Clinic."
        ],
        [
         "Bone Marrow Transplantation in Treating Patients With Hematologic Cancer"
        ],
        [
         "Bone Marrow Transplantation in Treating Patients With Hematologic Cancer"
        ],
        [
         "Efficacy and Safety of BF2.649 in Excessive Daytime Sleepiness (EDS) in Parkinson's Disease"
        ],
        [
         "Concurrent Nab-P/Carboplatin and Thoracic Radiotherapy in Squamous Cell Lung Cancer"
        ],
        [
         "Electrical Stimulation in Patients With Unipolar Major Depression"
        ],
        [
         "ONO-4538 Study in Patients With Advanced Non-Small Cell Lung Cancer"
        ],
        [
         "Study to Evaluate the Safety and Efficacy of ABT-712 in Subjects With Moderate to Severe Chronic Low Back Pain (CLBP)"
        ],
        [
         "Safety and Efficacy of Tegaserod in Opioid-induced Constipation in Patients With Non-cancer Pain."
        ],
        [
         "Clinical Evaluation of CATS Tonometer Prism"
        ],
        [
         "Antineoplaston Therapy in Treating Patients With Stage III or Stage IV Prostate Cancer"
        ],
        [
         "Cardiovascular Manifestations of COVID-19"
        ],
        [
         "Esomeprazole for Relief of Upper Gastrointestinal Symptoms Associated With Continuous Use of NSAIDs"
        ],
        [
         "Antineoplaston Therapy in Treating Patients With Stage IV Lung Cancer"
        ],
        [
         "Ferric Citrate for the Treatment of Hyperphosphatemia in Patients With Chronic Kidney Disease Undergoing Hemodialysis"
        ],
        [
         "A Phase 3 Study of SPL7013 Gel (VivaGel) for the Treatment of Bacterial Vaginosis"
        ],
        [
         "Safety and Immunogenicity Study of GlaxoSmithKline (GSK) Biologicals' 10-valent Pneumococcal Conjugate Vaccine."
        ],
        [
         "Efficacy and Safety of Adalimumab in Subjects With Moderate to Severe Chronic Plaque Psoriasis"
        ],
        [
         "Balance Recovery and Training on Fall Prevention in Stroke"
        ],
        [
         "Safety Dermatological Evaluation: Acceptability With Gynecological Follow up - Dermacyd Tina Gel Sweet Flower"
        ],
        [
         "A Phase I Multicenter Trial to Evaluate the Safety and Immunogenicity of HIV-1 Recombinant Envelope Glycoprotein gp160"
        ],
        [
         "A Randomized, Double Blind, Placebo-Controlled, Multi-Center Phase III Study in Men With Acquired Hypogonadotropic Hypogonadism to Compare Changes in Testosterone and Sperm Concentration Following Treatment With 12.5 mg or 25 mg Androxal or AndroGel 1.62%"
        ],
        [
         "Effect of LY2062430 on the Progression of Alzheimer's Disease"
        ],
        [
         "Prevention of Irinotecan Induced Diarrhea by Probiotics"
        ],
        [
         "Insulin-based Strategies to Prevent Hypoglycemia During Exercise"
        ],
        [
         "Efficacy and Safety Study of TissueGene-C to Degenerative Arthritis"
        ],
        [
         "Efficacy and Safety Study of TissueGene-C to Degenerative Arthritis"
        ],
        [
         "Metabolic Syndrome in Childhood Cancer Survivors"
        ],
        [
         "Carbohydrates Under Target for Type 1 Diabetes Management"
        ],
        [
         "Validation Study on RENEW's Aingeal at KK Women's and Children's Hospital"
        ],
        [
         "Elobixibat for Chronic Constipation Without Defecation Desire"
        ],
        [
         "Clinical Study to Test the Efficacy and Safety of Adapalene, 0.1%"
        ],
        [
         "A Crossover Study to Assess the Bioequivalence of Hydrocodone Bitartrate Extended-Release Tablet"
        ],
        [
         "Imaging Tau in Alzheimer's Disease and Normal Aging"
        ],
        [
         "Survey Study and Records Review of Treatment Outcomes in Freeman-Sheldon Syndrome"
        ],
        [
         "Study of an Investigational Glucose Meter System"
        ],
        [
         "Xenon and Cooling Therapy in Babies at High Risk of Brain Injury Following Poor Condition at Birth"
        ],
        [
         "Study of 4-Demethylcholesteryloxycarbonylpenclomedine (DM-CHOC-PEN) in Patients With Advanced Cancer"
        ],
        [
         "Outcomes of Stem Cells for Cerebral Palsy"
        ],
        [
         "Vaccine Therapy in Treating Patients With Chronic Myelogenous Leukemia"
        ],
        [
         "Fetal Endoscopic Tracheal Occlusion (FETO) Trial for Congenital Diaphragmatic Hernia (CDH)"
        ],
        [
         "A Study of TAK-951 in Healthy Adults"
        ],
        [
         "COVID-19 Antibody Responses In Cystic Fibrosis"
        ],
        [
         "COVID-19 Antibody Responses In Cystic Fibrosis"
        ],
        [
         "COVID-19 Antibody Responses In Cystic Fibrosis"
        ],
        [
         "The Plecanatide Irritable Bowel Syndrome With Constipation Study (IBS-C)"
        ],
        [
         "Memantine in Patients With Chronic Glaucoma"
        ],
        [
         "A Multicenter Study to Evaluate the Efficacy and Safety of PEP005 (Ingenol Mebutate) Gel When Used to Treat Actinic Keratoses (AKs) on the Non Head Locations"
        ],
        [
         "Fluticasone Furoate Nasal Spray Versus Oral Fexofenadine"
        ],
        [
         "A Study on Efficacy and Safety of Topiramate in the Treatment of Patients With Obesity"
        ],
        [
         "Efficacy and Safety Study of Abatacept to Treat Lupus Nephritis"
        ],
        [
         "Ivabradine to Prevent Anthracycline-induced Cardiotoxicity"
        ],
        [
         "Treatment for Symptomatic Peripheral Neuropathy in Patients With Diabetes"
        ],
        [
         "ToleroMune Grass Follow on Study"
        ],
        [
         "Modulation of Sensory Acuity With Transcranial Magnetic Stimulation (TMS)"
        ],
        [
         "Trial of Linaclotide in Patients With Irritable Bowel Syndrome With Constipation (IBS-C)"
        ],
        [
         "Laparoscopic Versus Open Appendectomy"
        ],
        [
         "Laparoscopic Versus Open Appendectomy"
        ],
        [
         "Ceftazidime-Avibactam Compared With Doripenem Followed by Oral Therapy for Hospitalized Adults With Complicated UTIs (Urinary Tract Infections)"
        ],
        [
         "A Study of Olumacostat Glasaretil Gel in Subjects With Acne Vulgaris"
        ],
        [
         "Pulmonary Rehabilitation Before Lung Cancer Resection"
        ],
        [
         "A Study of Paliperidone Palmitate 6-Month Formulation"
        ],
        [
         "Neoadjuvant Treatment of Breast Cancer"
        ],
        [
         "A Study Measuring Asthma Control In Pediatric And Adolescent Subjects Whose Asthma Is Worsened By Activity Or Exercise"
        ],
        [
         "Controlled Study of ONO-8025 (KRP-197) in Patients With Overactive Bladder in Japan"
        ],
        [
         "Protocol To Evaluate Patient Measurements After Ultrasonic Treatment"
        ],
        [
         "Safety and Immune Response to a Live-Attenuated Respiratory Syncytial Virus (RSV) Vaccine in RSV-Seronegative Infants and Children"
        ],
        [
         "A Pharmacokinetic Evaluation Study in Healthy Volunteers"
        ],
        [
         "Combination Chemotherapy Plus Radiation Therapy in Treating Patients With Stage III Non-small Cell Lung Cancer"
        ],
        [
         "Safety, Dose Tolerance, Pharmacokinetics, and Pharmacodynamics Study of CPX-POM in Patients With Advanced Solid Tumors"
        ],
        [
         "Human Photoallergy Test"
        ],
        [
         "Anecortave Acetate Risk-Reduction Trial (AART)"
        ],
        [
         "Online Positive Emotion Skills Intervention for Symptoms of Depression"
        ],
        [
         "Pilot Clinical Study of the LRS ThermoSuit™ System in Post Arrest Patients"
        ],
        [
         "Optimization of Spectroscopic Imaging Parameters and Procedures for Prostate at 3 Tesla Using an External Probe"
        ],
        [
         "Efficacy of Esomeprazole in Patients With Frequent Heartburn"
        ],
        [
         "Varenicline for Alcohol Dependence"
        ],
        [
         "Study of Theliatinib (HMPL-309) in Patients With Advanced Solid Tumor"
        ],
        [
         "Compassionate Use of Omegaven IV Fat Emulsion"
        ],
        [
         "Compassionate Use of Omegaven IV Fat Emulsion"
        ],
        [
         "Transoral Gastric Volume Reduction as an Intervention for Weight Management"
        ],
        [
         "Efficacy, Safety, and Tolerability of Eluxadoline in the Treatment of Participants With Diarrhea-Predominant Irritable Bowel Syndrome (IBS-d)"
        ],
        [
         "Comparative Study of Ceftaroline vs. Vancomycin Plus Aztreonam in Adult Subjects With Complicated Skin Infections"
        ],
        [
         "Acupressure for Constipation in the Elderly"
        ],
        [
         "Evaluating the Safety and Immune Response to Two Admixtures of a Tetravalent Dengue Virus Vaccine"
        ],
        [
         "Evaluation on Standardized Circuits of the Interest of a Robotic Module of Assistance to the Driving"
        ],
        [
         "Intravenous Tedisamil in the Rapid Conversion of Atrial Fibrillation or Flutter to Normal Sinus Rhythm in Female Subjects"
        ],
        [
         "Treatment of Breast Fibroadenoma With High Intensity Focused Ultrasound (HIFU)"
        ],
        [
         "Treatment of Breast Fibroadenoma With High Intensity Focused Ultrasound (HIFU)"
        ],
        [
         "Treatment of Breast Fibroadenoma With High Intensity Focused Ultrasound (HIFU)"
        ],
        [
         "Phase I Study of the Volitinib (HMPL-504) in Patients With Advanced Solid Tumors"
        ],
        [
         "Significance of Regional Ventriculo-arterial Coupling in Patients With Chronic Heart Failure"
        ],
        [
         "HIV-1 Vaccine Test in Uninfected Adult Volunteers"
        ],
        [
         "HIV-1 Vaccine Test in Uninfected Adult Volunteers"
        ],
        [
         "Mindfulness Training for Smoking Cessation"
        ],
        [
         "Safety and Efficacy Study of RT001 to Treat Moderate to Severe Lateral Canthal Lines"
        ],
        [
         "Safety and Efficacy Study of RT001 to Treat Moderate to Severe Lateral Canthal Lines"
        ],
        [
         "Safety and Efficacy Study of RT001 to Treat Moderate to Severe Lateral Canthal Lines"
        ],
        [
         "Trial of Adjuvant Chemotherapy for Gastric Cancer"
        ],
        [
         "The Safety and Immunogenicity Evaluation of Live Attenuated Influenza Vaccine"
        ],
        [
         "Biological Therapy in Treating Patients With Metastatic Melanoma"
        ],
        [
         "Biological Therapy in Treating Patients With Metastatic Melanoma"
        ],
        [
         "Effect of Itopride, on Symptoms of Functional Dyspepsia, Such as Indigestion, Bloating, Inability to Finish a Meal"
        ],
        [
         "A Study of LY3050258 in Healthy Participants"
        ],
        [
         "The Energy Balance Study"
        ],
        [
         "Brain Circuits in Schizophrenia and Smoking"
        ],
        [
         "Childhood Obesity Treatment: A Maintenance Approach"
        ],
        [
         "Combination Chemotherapy in Treating Young Patients With Newly Diagnosed Acute Lymphoblastic Leukemia"
        ],
        [
         "Efficacy of New Protocols in the Treatment of Upper Limb Dysfunctions in Patients With Cerebral Palsy"
        ],
        [
         "Treatment of Laryngotracheal Stenosis Using Mesenchymal Stem Cells"
        ],
        [
         "Bioequivalence Study of Once Daily PMR Compared to Twice Daily Cilostazol IR Tablets in Healthy Volunteers"
        ],
        [
         "OTO-201 for the Treatment of Middle Ear Effusion in Pediatric Subjects Requiring Tympanostomy Tube Placement"
        ],
        [
         "Talar Avascular Necrosis: Surgical Angiogenesis vs. Core Decompression"
        ],
        [
         "Oxytocin Treatment of Alcohol Dependence"
        ],
        [
         "BMS-214662 in Treating Patients With Advanced Solid Tumors"
        ],
        [
         "Fetoscopic Endoluminal Tracheal Occlusion"
        ],
        [
         "Assess Safety and Efficacy of Vilaprisan in Subjects With Uterine Fibroids"
        ],
        [
         "Mastering Hospital Antimicrobial Resistance and Its Spread Into the Community"
        ],
        [
         "Evaluation of the Efficacy of Topical Ophthalmic Steroids in a Modified Conjunctival Allergen Challenge (CAC) Model"
        ],
        [
         "Sleep Deprivation and Energy Balance"
        ],
        [
         "Efficacy (Induction of Response/Remission) and Safety Study in Patients With Moderate to Severe Crohn's Disease"
        ],
        [
         "Efficacy and Safety of Ozenoxacin 1% Cream Versus Placebo in the Treatment of Patients With Impetigo"
        ],
        [
         "A Study Comparing the Efficacy and Safety of Etrolizumab With Adalimumab and Placebo in Participants With Moderate to Severe Ulcerative Colitis (UC) in Participants Naive to Tumor Necrosis Factor (TNF) Inhibitors"
        ],
        [
         "Efficacy, Safety, and Tolerability Study of Sotagliflozin as Adjunct Therapy in Adult Patients With Type 1 Diabetes Mellitus Who Have Inadequate Glycemic Control With Insulin Therapy"
        ],
        [
         "Study of Indomethacin Capsules to Treat Pain Following Bunionectomy"
        ],
        [
         "A Study of the Safety and Efficacy of Pimavanserin in Patients With Parkinson's Disease Psychosis"
        ],
        [
         "Optical Coherence Tomography (OCT) Data Collection Study"
        ],
        [
         "Evaluation of Safety and Efficacy of Deoxycholic Acid Injection (ATX-101) in the Reduction of Submental Fat"
        ],
        [
         "Doripenem in the Treatment of Complicated Lower Urinary Tract Infection or Pyelonephritis"
        ],
        [
         "Kefir and Metabolic Syndrome"
        ],
        [
         "Efficacy and Safety of Eslicarbazepine Acetate (BIA 2-093) in Acute Manic Episodes Associated With Bipolar I Disorder"
        ],
        [
         "A Study to Evaluate the Safety of Rituximab Retreatment in Subjects With Systemic Lupus Erythematosus"
        ],
        [
         "Smoking Cessation Program in the Preadmission Clinic"
        ],
        [
         "Dermatological Evaluation of Topical Compatibility, Primary Skin Irritability, Accumulated Skin Irritability, and Dermal Sensitisation"
        ],
        [
         "Trial of Anti-PSMA Designer T Cells in Advanced Prostate Cancer After Non-Myeloablative Conditioning"
        ],
        [
         "Testing the Impact of Smartphone-based Messaging to Support Young Adult Smoking Cessation"
        ],
        [
         "The Effect of Breastfeeding Support System"
        ],
        [
         "Treatment Effect According to Timing of Administration of DWP14012 40 mg"
        ],
        [
         "Utility of PCD Diagnostics to Improve Clinical Care"
        ],
        [
         "Mavrilimumab to Reduce Progression of Acute Respiratory Failure in COVID-19 Pneumonia and Systemic Hyper-inflammation"
        ],
        [
         "A Pharmacokinetics and Pharmacodynamics Study Under Fasting and Fed Conditions With Paliperidone Extended-release and Immediate-release Formulations"
        ],
        [
         "Study to Assess the Inhibition of Plaque Formation in Subjects With a Gingival Index ≤1.5"
        ],
        [
         "Prucalopride Versus Placebo in Gastroparesis"
        ],
        [
         "Putting Electroencephalography (EEG) in the Emergency Department"
        ],
        [
         "Efficacy and Safety of 14-day Concomitant Therapy for Helicobacter Pylori Infection"
        ],
        [
         "Dry Needling for Cervicogenic Headache"
        ],
        [
         "A Clinical Trial to Evaluate a Recombinant Staphylococcus Aureus Vaccine (Escherichia Coli) in Healthy Adults"
        ],
        [
         "Telephone Administered Psychotherapy for the Treatment of Depression for Veterans in Rural Areas"
        ],
        [
         "Study Comparing the Efficacy and Safety of ABT-874 to Etanercept and Placebo in Subjects With Moderate to Severe Chronic Plaque Psoriasis"
        ],
        [
         "NKG2D-based CAR T-cells Immunotherapy for Patient With r/r NKG2DL+ Solid Tumors"
        ],
        [
         "Combination Chemotherapy in Treating Patients With Liver Metastases From Colorectal Cancer"
        ],
        [
         "A Study to Compare the Pharmacokinetics and Safety of a Fixed Dose Combination of Fimasartan/Amlodipine/Rosuvastatin"
        ],
        [
         "Endoscopic Peroral Myotomy for Treatment of Achalasia"
        ],
        [
         "Delphinus SoftVue™ ROC Reader Study"
        ],
        [
         "A Study Evaluating the Efficacy and Impact on Health-related Quality of Life of Levocetirizine in Adults With Seasonal Allergic Rhinitis"
        ],
        [
         "A Study to Evaluate the Safety and Immunogenicity of GSK Biologicals' Seasonal Influenza Vaccine in Adults"
        ],
        [
         "Effect of Ultrasound-guided Transversus Abdominis Plane Block After Laparoscopic Bariatric Surgery"
        ],
        [
         "Efficacy and Safety of Dexlansoprazole MR and Lansoprazole on Healing of Erosive Esophagitis"
        ],
        [
         "Interaction of Apelin and Angiotensin in the Human Forearm Circulation"
        ],
        [
         "Topical Ophthalmic AGN-195263 for the Treatment of Evaporative Dry Eye"
        ],
        [
         "A Study to Evaluate Long-term Outcomes Following Treatment With ABT-450/Ritonavir/ABT-267 (ABT-450/r/ABT-267) and ABT-333 With or Without Ribavirin (RBV) in Adults With Genotype 1 Chronic Hepatitis C Virus (HCV) Infection"
        ],
        [
         "Efficacy and Safety Study for the Treatment of Dysfunctional Uterine Bleeding"
        ],
        [
         "Denileukin Diftitox in Treating Patients With Non-Hodgkin's Lymphoma"
        ],
        [
         "Evaluate Efficacy and Safety of X0002 in Treatment of Knee Osteoarthritis"
        ],
        [
         "Pharmacodynamic Bioequivalence of Metered Dose Inhalers of Albuterol Sulfate in Patients With Stable Mild Asthma"
        ],
        [
         "Efficacy and Safety of LEO 43204 in Field Treatment of Actinic Keratosis on Balding Scalp Including 12-month Follow-up"
        ],
        [
         "A Study of LY2940680 in Healthy Participants"
        ],
        [
         "Pancreatic Cyst Fluid Glucose: New Armamentarium in the Diagnosis of Mucinous Pancreatic Cystic Lesion"
        ],
        [
         "A Study of IBI351 in Healthy Subjects"
        ],
        [
         "Anti-CD19 Chimeric Antigen Receptor (CAR)-Transduced T Cell Therapy for Patients With B Cell Malignancies"
        ],
        [
         "Autologous Cell Suspension Grafting Using ReCell in Vitiligo and Piebaldism Patients"
        ],
        [
         "AZD9668 Relative Bioavailability"
        ],
        [
         "Safety and Effectiveness of AZLI (an Inhaled Antibiotic) in Adults With Non-Cystic Fibrosis Bronchiectasis"
        ],
        [
         "A Study of Zolpidem Tartrate Sublingual Tablet in Adult Patients With Insomnia"
        ],
        [
         "Effectiveness of Vyvanse Compared to Concerta in Adolescents With Attention-deficit/Hyperactivity Disorder"
        ],
        [
         "Combination Chemotherapy in Treating Patients With Metastatic Colorectal Cancer"
        ],
        [
         "A Study of JR-141 in Patients With Mucopolysaccharidosis II"
        ],
        [
         "Efficacy of Bifeprunox in Patients With Schizophrenia"
        ],
        [
         "Safety and Immunogenicity of a Commercially Available Influenza Vaccine (Formulation 2006/2007) When Administered to Subjects 18 Years of Age or Older"
        ],
        [
         "Cohort Study of Chronic Heart Failure"
        ],
        [
         "A Randomised Efficacy Study of Combination Antimalarials to Treat Uncomplicated Malaria"
        ],
        [
         "Yellow 560 Microscope for Intraoperative Visualization of Fluorescein Stained Intracranial Lesions"
        ],
        [
         "Comparison of Three Methods of Hemoglobin Monitoring"
        ],
        [
         "Studying Biomarkers in Samples From Younger Patients With Wilms Tumor"
        ],
        [
         "Effectiveness of Levonorgestrel-intrauterine System (LNG-IUS) Versus Depot Medroxyprogesterone Acetate (DMPA) in Treatment of Pelvic Pain in Clinically Diagnosed Endometriotic Patients"
        ],
        [
         "Evaluating the Safety and Immune Response to a Single Dose of a Respiratory Syncytial Virus (RSV) Vaccine in RSV-Seronegative Infants and Children"
        ],
        [
         "Ocular Hypertension Treatment Study (OHTS)"
        ],
        [
         "Determinants of Compliance With Glaucoma Therapy"
        ],
        [
         "The Effect of Perioperative Lidocaine Infusion on Neutrophil Extracellular Trapping"
        ],
        [
         "The Effect of Related Blood Markers on Diabetic Peripheral Neuropathy"
        ],
        [
         "Dichotic Listening as a Predictor of Medication Response in Depression"
        ],
        [
         "Combination Chemotherapy in Treating Patients With Non-Hodgkin's Lymphoma or Acute Lymphocytic Leukemia"
        ],
        [
         "Study Evaluating Tigecycline Versus Ceftriaxone In Complicated Intra-Abdominal Infections & Community Acquired Pneumonia"
        ],
        [
         "Effect of Melatonin on Sleep Disturbances in Patients With Parkinson's Disease"
        ],
        [
         "Treatment of Acute Lymphoblastic Leukemia in Children"
        ],
        [
         "A Study of RD14-01 in Patients With Advanced Solid Tumors"
        ],
        [
         "Drug Interaction Study"
        ],
        [
         "Bioavailability of Levonorgestrel and Ethinyl Estradiol Tablets 15.0 mg/0.03 mg With Regards to Reference Product"
        ],
        [
         "Safety and Efficacy of Palonosetron IV to Prevent Postoperative Nausea and Vomiting in Pediatric Patients"
        ],
        [
         "A Phase II Study to Assess Changes in Physical Function in Elderly Patients With Chronic Anemia"
        ],
        [
         "A Study of Patupilone in Patients With Advanced Solid Tumors and Varying Degrees of Hepatic Function"
        ],
        [
         "Candonilimab Plus Bevacizumab for Patients With Advanced HCC Who Progressed on A+T"
        ],
        [
         "Rehabilitation of Facial Emotion Recognition in Alzheimer's Disease"
        ],
        [
         "Sun Protection Factor Assay"
        ],
        [
         "Sun Protection Factor Assay"
        ],
        [
         "Sun Protection Factor Assay"
        ],
        [
         "Sun Protection Factor Assay"
        ],
        [
         "Sun Protection Factor Assay"
        ],
        [
         "Sun Protection Factor Assay"
        ],
        [
         "Sun Protection Factor Assay"
        ],
        [
         "Sun Protection Factor Assay"
        ],
        [
         "Sun Protection Factor Assay"
        ],
        [
         "Sun Protection Factor Assay"
        ],
        [
         "Sun Protection Factor Assay"
        ],
        [
         "Sun Protection Factor Assay"
        ],
        [
         "Sun Protection Factor Assay"
        ],
        [
         "Modified Melanoma Vaccine for High Risk or Low Residual Disease Patients"
        ],
        [
         "A Study to Evaluate the Safety and Immune Responses to Fluzone® Vaccination"
        ],
        [
         "Liraglutide in Type 1 Diabetes"
        ],
        [
         "Radiation Therapy Plus Combination Chemotherapy in Treating Children With Medulloblastoma"
        ],
        [
         "Evaluation of COPD Co-Pilot"
        ],
        [
         "Pharmacokinetics and Safety in Healthy Volunteers"
        ],
        [
         "Hypofractionation With Simultaneous Integrated Boost for Early Breast Cancer"
        ],
        [
         "Bioequivalency Study of Oxcarbazepine 600 mg Tablets Under Fed Conditions"
        ],
        [
         "Trial of Maraviroc (UK-427,857) in Combination With Optimized Background Therapy Versus Optimized Background Therapy Alone for the Treatment of HIV-1 Infected Subjects"
        ],
        [
         "Local Anesthetic Response in Ehlers-Danlos Syndrome (EDS) and Healthy Volunteers"
        ],
        [
         "Study of INS365 Ophthalmic Solution in Subjects With Dry Eye Disease"
        ],
        [
         "Mediterranean Diet and the Metabolic Syndrome"
        ],
        [
         "Phase 3 Efficacy and Safety Study of CD07805/47 Topical Gel in Subjects With Facial Erythema Associated With Rosacea"
        ],
        [
         "Selenium Supplementation of Patients With Cirrhosis"
        ],
        [
         "Selenium Supplementation of Patients With Cirrhosis"
        ],
        [
         "Visceral Manifold Study for the Repair of Thoracoabdominal Aortic Aneurysms"
        ],
        [
         "Study of Milnacipran for the Treatment of Fibromyalgia"
        ],
        [
         "A Comparison of Two Color Contact Lenses in Habitual Clear Contact Lens Wearers"
        ],
        [
         "Intravitreal Bevacizumab for Proliferative Diabetic Retinopathy"
        ],
        [
         "Low-Level Laser Therapy for Prevention of Oral Mucositis"
        ],
        [
         "Preventing Suicide Among Sexual and Gender Diverse Young Adults in Primary Care in Texas"
        ],
        [
         "Safety Study of Increasing Doses of CKD-516 in Patients With Advanced Solid Cancers"
        ],
        [
         "Ramipril 10 mg Capsule in Healthy Subjects Under Fasting Conditions"
        ],
        [
         "Prevention of Seasonal Affective Disorder"
        ],
        [
         "Aripiprazole, Abilify Maintena Collaborative Clinical Protocol"
        ],
        [
         "Axillary Reverse Mapping"
        ],
        [
         "Combination Chemotherapy in Treating Patients With Advanced Solid Tumors"
        ],
        [
         "Combination Chemotherapy in Treating Patients With Advanced Solid Tumors"
        ],
        [
         "Combination Chemotherapy in Treating Patients With Advanced Solid Tumors"
        ],
        [
         "Combination Chemotherapy in Treating Patients With Advanced Solid Tumors"
        ],
        [
         "Combination Chemotherapy in Treating Patients With Advanced Solid Tumors"
        ],
        [
         "Combination Chemotherapy in Treating Patients With Advanced Solid Tumors"
        ],
        [
         "Clinical Study of Aneurysm Exclusion"
        ],
        [
         "Insulin Resistance in Non-alcoholic Fatty Liver Disease"
        ],
        [
         "Renal Denervation in Patients With Refractory Hypertension"
        ],
        [
         "Renal Denervation in Patients With Refractory Hypertension"
        ],
        [
         "The Effect of High Frequency Oscillation on Biological Markers of Lung Injury"
        ],
        [
         "Safety and Efficacy Study of NatrOVA Creme Rinse - 1% and NIX Creme Rinse in Subjects 6 Months or Older With Head Lice"
        ],
        [
         "Orthotic Use for Chronic Low Back Pain"
        ],
        [
         "Study Evaluating Vaccine in Adults With HIV"
        ],
        [
         "Canadian SCAD Study"
        ],
        [
         "Lycopene in Preventing Prostate Cancer in Healthy Participants"
        ],
        [
         "A Study of Disease Progression in Participants With Geographic Atrophy Secondary to Age-Related Macular Degeneration"
        ],
        [
         "Efficacy and Safety of IDP-121 and IDP-121 Vehicle Lotion in the Treatment of Acne Vulgaris"
        ],
        [
         "Lymphedema Prevention in Breast Cancer"
        ],
        [
         "Acupuncture for Lumbar Spinal Stenosis"
        ],
        [
         "Study of OTO-104 in Subjects With Unilateral Meniere's Disease"
        ],
        [
         "Regulation of Optic Nerve Head Blood Flow During Combined Changes in Intraocular Pressure and Arterial Blood Pressure"
        ],
        [
         "Regulation of Optic Nerve Head Blood Flow During Combined Changes in Intraocular Pressure and Arterial Blood Pressure"
        ],
        [
         "Safety and Efficacy of GX-188E DNA Therapeutic Vaccine Administered by Electroporation After Observation"
        ],
        [
         "A Study of Ad26.COV2.S in Adults (COVID-19)"
        ],
        [
         "Safety and Efficacy Clinical Study of Severe Hemophilia B Treatment With KL001"
        ],
        [
         "GET Living: Graded Exposure Treatment for Children and Adolescents With Chronic Pain"
        ],
        [
         "Glycaemic and Insulinaemic Responses After Consumption of FOS."
        ],
        [
         "A New Drug for Benign Prostatic Hyperplasia (BPH) Compared With Placebo"
        ],
        [
         "A Randomized Trial to Study Combined Pulsed Dye Laser and Rapamycin Treatment of Port Wine Stain Birthmarks."
        ],
        [
         "The Evaluation of Pulse: A Mobile Health App and Teen Pregnancy Prevention Program"
        ],
        [
         "Safety and Performance Study of Large Hole Vascular Closure Device"
        ],
        [
         "Safety and Performance Study of Large Hole Vascular Closure Device"
        ],
        [
         "A Study of Aripiprazole in Patients With Bipolar I Disorder With a Major Depressive Episode"
        ],
        [
         "Efficacy and Safety of Kefir Whey Postbiotics"
        ],
        [
         "Combination Chemotherapy in Treating Patients With Metastatic or Unresectable Solid Tumors"
        ],
        [
         "Prevention of Gestational Diabetes"
        ],
        [
         "The Influence of Interactive Media on Child Development in Children"
        ],
        [
         "Safety and Efficacy Evaluation of Topical AL-60371 Otic Suspension, 0.3% in the Treatment of Acute Otitis Externa"
        ],
        [
         "Study of AGB101 in Mild Cognitive Impairment Due to Alzheimer's Disease"
        ],
        [
         "Protocol for Women at Increased Risk of Developing Breast Cancer"
        ],
        [
         "Protocol for Women at Increased Risk of Developing Breast Cancer"
        ],
        [
         "To Evaluate the Efficacy and Safety of ADVAGRAF® After Treatment With a Tacrolimus in New Liver Transplant Recipients"
        ],
        [
         "The Evaluation of Orange Peel Fermentation on Body Fat Lowering Efficacy in Adults"
        ],
        [
         "Pharmacokinetic Study of Livalo® Fixed Combination Drug in Healthy Subjects"
        ],
        [
         "IMPENDIA- PEN VS Dianeal Only Improved Metabolic Control In Diabetic CAPD and APD Patients"
        ],
        [
         "LILRB4 STAR-T Cells in the Treatment of Relapsed/Refractory Acute Myeloid Leukemia"
        ],
        [
         "Efficacy Study of Nebulized TD-4208 for Chronic Obstructive Pulmonary Disease (COPD)"
        ],
        [
         "Comparison of NN1250 With Insulin Glargine in Subjects With Type 2 Diabetes"
        ],
        [
         "Comparison of NN1250 With Insulin Glargine in Subjects With Type 2 Diabetes"
        ],
        [
         "Normative Data of Brain Network Activation in Adolescents and Young Adults"
        ],
        [
         "An AI Platform Integrating Imaging Data and Models, Supporting Precision Care Through Prostate Cancer's Continuum"
        ],
        [
         "A Study of ARRY-334543 in Patients With Advanced Cancer"
        ],
        [
         "Radiation Therapy After Surgery in Treating Women With Early Stage Breast Cancer"
        ],
        [
         "EN3835 for the Treatment of Edematous Fibrosclerotic Panniculopathy (Commonly Known as Cellulite)"
        ],
        [
         "Restoration of Permanent Molars Affected With (MIH) Using Composite Restorations or Preformed Metal Crowns"
        ],
        [
         "Autologous Bone Marrow-Derived Stem Cells Transplantation For Retinitis Pigmentosa"
        ],
        [
         "A Study of Istradefylline (KW-6002) for the Treatment of Parkinson's Disease"
        ],
        [
         "Dapagliflozin Evaluation in Patients With Inadequately Controlled Type 1 Diabetes"
        ],
        [
         "Study of Different Doses of a Novel Treatment for Onychomycosis"
        ],
        [
         "Renal Denervation in Treatment Resistant Hypertension"
        ],
        [
         "Efficacy and Safety of Diclofenac Sodium Gel in Knee Osteoarthritis"
        ],
        [
         "Value of Liquid Potassium Magnesium Citrate in Controlling Hypertension"
        ],
        [
         "Bacterial Lysate In Preventing Asthma"
        ],
        [
         "DAILIES® AquaComfort Plus® Multifocal (MF) - Comparative Assessment of Visual Performance"
        ],
        [
         "A Study in Erectile Dysfunction"
        ],
        [
         "Gut Microbiota Pilot Study"
        ],
        [
         "A Rehabilitation Tool to Determine Patient's Stay in Hospital After Joint Replacement"
        ],
        [
         "Antineoplaston Therapy in Treating Patients With Recurrent or Stage IV Lung Cancer"
        ],
        [
         "A Double-Blind, Placebo-Controlled Study With Open-Label Follow-Up To Determine the Safety and Efficacy of r-HuEPO in AIDS Patients With Anemia Induced by Their Disease and AZT Therapy"
        ],
        [
         "Co-administration of Olodaterol Respimat® and Tiotropium Handihaler®"
        ],
        [
         "Mobile Health Solutions for Behavioral Skill Implementation Through Homework"
        ],
        [
         "Study in Stabilized Schizophrenic Patients to Evaluate the Pharmacokinetics of Risperidone and 9-Hydroxy (OH)-Risperidone When Risperidone is Administered From a Polyurethane Implant"
        ],
        [
         "An Open Label, Non-Comparative, Multicenter, Phase III Trial of the Efficacy, Safety and Toleration of Voriconazole in the Primary or Secondary Treatment of Invasive Fungal Infections"
        ],
        [
         "Core Stabilization Exercises in Stroke"
        ],
        [
         "Health Effects of Consuming Olive Pomace Oil"
        ],
        [
         "Evaluation of Satisfaction Regarding Patient's Management of Ocular Surface Diseases"
        ],
        [
         "Alicaforsen (ISIS 2302) in Patients With Active Crohn's Disease"
        ],
        [
         "Epidemiology of Venous Thromboembolism"
        ],
        [
         "QuitFast: Evaluating Transcranial Magnetic Stimulation as a Tool to Reduce Smoking Directly Following a Quit Attempt"
        ],
        [
         "PS-341 in Treating Women With Metastatic Breast Cancer"
        ],
        [
         "Safety and Efficacy of Phenylephrine 2.5%-Tropicamide 1% Microdose Ophthalmic Solution for Pupil Dilation"
        ],
        [
         "Gabapentin Treatment of Cannabis Dependence"
        ],
        [
         "Study Comparing the Safety and Efficacy of IDP-120 Gel and IDP-120 Vehicle Gel in the Treatment of Acne Vulgaris"
        ],
        [
         "Combination Chemotherapy Plus Radiation Therapy in Treating Patients With Stage III or Stage IV Endometrial Cancer"
        ],
        [
         "Safety and Efficacy of the ZoMaxx™ Drug-Eluting Stent System in Coronary Arteries"
        ],
        [
         "Influence of a Prematuration Culture With a Phosphodiesterase-3 Inhibitor (PDE3-I) on Embryonic Aneuploidy Rate and Developmental Potential"
        ],
        [
         "The Interaction Between Oxytocin and Serotonin"
        ],
        [
         "Peripheral Stem Cell Transplantation Plus Combination Chemotherapy in Treating Patients With Multiple Myeloma"
        ],
        [
         "Expert Statements Concerning the Tapering of Oral Corticosteroids (OCS) for the Treatment of Asthma"
        ],
        [
         "Couple HOPES (Helping Overcome PTSD and Enhance Satisfaction)"
        ],
        [
         "DHA Supplementation and Pregnancy Outcome"
        ],
        [
         "Outpatient Control-to-Range: System and Monitoring Testing"
        ],
        [
         "Efficacy and Safety Study of SPD489 in Combination With an Antidepressant in the Treatment of Adults With Major Depressive Disorder"
        ],
        [
         "Ultrasound-Guided Adductor Canal Block for Total Knee Arthroplasty Surgery"
        ],
        [
         "A Study of Xeloda (Capecitabine) in Patients With Advanced and/or Metastatic Colorectal Cancer"
        ],
        [
         "Comparative Study of AzaSite Plus Compared to AzaSite Alone and Dexamethasone Alone to Treat Subjects With Blepharoconjunctivitis"
        ],
        [
         "Efficacy and Safety Study of SHP647 as Induction Therapy in Participants With Moderate to Severe Ulcerative Colitis"
        ],
        [
         "Perceptions of Their Own Body and of the Body of Their Child Among Young Mothers With Anorexia Nervosa"
        ],
        [
         "Sentinel Lymph Node Biopsy for Cutaneous Squamous Cell Carcinoma of the Head and Neck"
        ],
        [
         "Phase I/II Pilot Study of Mixed Chimerism to Treat Hemoglobinopathies"
        ],
        [
         "Temozolomide in Treating Patients With Recurrent Oligodendroglial Tumors"
        ],
        [
         "Functional Assessment in Liver Transplantation"
        ],
        [
         "Ph3 Safety/Efficacy Study of Rolapitant for the Prevention of CINV in Subjects Receiving Highly Emetogenic Chemotherapy"
        ],
        [
         "A Relative Bioavailability Study of Metformin HCl 500 mg ER Tablets Under Fasting Conditions"
        ],
        [
         "Efficacy and Safety of Combination of Brompheniramine and Phenylephrine for the Symptoms Relief of Rhinitis"
        ],
        [
         "Combination Chemotherapy and Radiation Therapy in Treating Patients With Limited-Stage Small Cell Lung Cancer"
        ],
        [
         "Observational Study on Blood Glucose Control in Patients With Diabetes Using Modern Insulin"
        ],
        [
         "Seizure Prophylaxis in Aneurysm Repair"
        ],
        [
         "MEsenchymal StEm Cells for Multiple Sclerosis"
        ],
        [
         "Study of Tenofovir Disoproxil Fumarate (TDF) for Prevention of HIV"
        ],
        [
         "A Study to Evaluate the Efficacy and Safety of Anamorelin HCl for the Treatment of Malignancy Associated Weight Loss and Anorexia in Adult Patients With Advanced Non-Small Cell Lung Cancer (NSCLC)"
        ],
        [
         "Individualized Dose Study of ATG in Haploidentical Hematopoietic Stem Cell Transplantation"
        ],
        [
         "The Ratio of Hypnotic to Analgesic Potency of Volatile Anesthetics"
        ],
        [
         "Head-Mounted Vibrotactile Prosthesis for Patients With Chronic Postural Instability"
        ],
        [
         "Vascular Endothelial Growth Factor (VEGF) Trap-Eye: Investigation of Efficacy and Safety in Central Retinal Vein Occlusion (CRVO)"
        ],
        [
         "Safety and Immunogenicity Study of Live Attenuated Mumps Vaccines in Healthy Infants"
        ],
        [
         "Real-time Intervention for Suicide Risk Reduction"
        ],
        [
         "Phase 3 Study of Deoxycholic Acid Injection (ATX-101) Versus Placebo for the Reduction of Localized Subcutaneous Fat in the Submental Area"
        ],
        [
         "Study of a Topical Gentamicin-Collagen Sponge Along With Systemic Antibiotic in Infected Diabetic Foot Ulcers"
        ],
        [
         "Safety, Tolerability and Pharmacokinetic Study of MB12066 in Healthy Volunteers"
        ],
        [
         "Combination Chemotherapy in Treating Children With Newly Diagnosed Acute Lymphoblastic Leukemia"
        ],
        [
         "Combination Chemotherapy in Treating Women With Breast Cancer"
        ],
        [
         "Combination Chemotherapy in Treating Women With Breast Cancer"
        ],
        [
         "Patient Decision Aid for Antidepressant Use in Pregnancy"
        ],
        [
         "Requests for Euthanasia and Assisted Suicide"
        ],
        [
         "Accuracy of Pulse Oximeters With Profound Hypoxia"
        ],
        [
         "Accuracy of Pulse Oximeters With Profound Hypoxia"
        ],
        [
         "Accuracy of Pulse Oximeters With Profound Hypoxia"
        ],
        [
         "Accuracy of Pulse Oximeters With Profound Hypoxia"
        ],
        [
         "Accuracy of Pulse Oximeters With Profound Hypoxia"
        ],
        [
         "CAR-T Cell Immunotherapy for GD2 Positive Glioma Patients"
        ],
        [
         "Waveform Periodicity Analysis of Complex Fractionated Electrograms in Patients With Persistent Atrial Fibrillation"
        ],
        [
         "Repetitive Applications of Pruritogens and Effects of a Cutaneous-induced Pain Stimulation on Nonhistaminergic Itch Perception"
        ],
        [
         "Intrathecal Hydromorphone for Labor Analgesia"
        ],
        [
         "Allopurinol in Acute Coronary Syndrome"
        ],
        [
         "Post-market Study of the TOPS™ System"
        ],
        [
         "A Study to Evaluate the Safety and Effectiveness of a Nasal Spray to Treat Seasonal Allergies"
        ],
        [
         "A Study to Evaluate the Safety and Effectiveness of a Nasal Spray to Treat Seasonal Allergies"
        ],
        [
         "A Study to Evaluate the Safety and Effectiveness of a Nasal Spray to Treat Seasonal Allergies"
        ],
        [
         "A Study to Evaluate the Safety and Effectiveness of a Nasal Spray to Treat Seasonal Allergies"
        ],
        [
         "Combination Chemotherapy Plus Peripheral Stem Cell Transplantation in Treating Patients With Germ Cell Tumors"
        ],
        [
         "The Effect of Knee Flexion Angle for Graft Fixation During Single-Bundle Anterior Cruciate Ligament Reconstruction"
        ],
        [
         "A Study of the Use of the Medtronic Pump and Codman Catheter to Give Chemotherapy to Patients With Colorectal Carcinoma or Cholangiocarcinoma"
        ],
        [
         "Efficacy and Safety of SR58611A in Patients With Major Depressive Disorder"
        ],
        [
         "A Study to Determine the Fasting Bioequivalence of Reformulated OXY Tablets and Original OxyContin® (OXY) Tablets"
        ],
        [
         "Study of the Survival of Recombinant Human Neuregulin-1β in Chronic Heart Failure (CHF) Patients"
        ],
        [
         "A Phase I Study of AG-348 in Healthy Volunteers"
        ],
        [
         "Prevalence of DRP and DME Among Type 1 Diabetics Treated With Long-term Intensified Insulin Therapy"
        ],
        [
         "Physical Activity Immediately After Acute Cerebral Ischemia"
        ],
        [
         "Efficacy, Safety and Tolerability of ACZ885 in Pediatric Patients With the Following Cryopyrin-associated Periodic Syndromes: Familial Cold Autoinflammatory Syndrome, Muckle-Wells Syndrome, or Neonatal Onset Multisystem Inflammatory Disease"
        ],
        [
         "Study of the Safety of Intravenous Artesunate"
        ],
        [
         "Efficacy and Safety of Budesonide Foam for Participants With Active Mild to Moderate Ulcerative Proctitis or Proctosigmoiditis"
        ],
        [
         "A Phase I Clinical Study Trial of Felbinac Trometamol Injection in China"
        ],
        [
         "Combination Chemotherapy Based on Risk of Relapse in Treating Young Patients With Acute Lymphoblastic Leukemia"
        ],
        [
         "Technical Development of Cardiovascular Magnetic Resonance Imaging"
        ],
        [
         "Technical Development of Cardiovascular Magnetic Resonance Imaging"
        ],
        [
         "Phase Ib Study of Safety, Tolerability and Pharmacokinetics of Elpida Once Weekly in Healthy Volunteers"
        ],
        [
         "Effect of Pyridorin in Patients With Diabetic Nephropathy"
        ],
        [
         "MSI-78 Topical Cream vs. Oral Ofloxacin in the Treatment of Infected Diabetic Ulcers"
        ],
        [
         "Oral Versus Intravenous Hydration to Prevent Contrast Induced Nephropathy"
        ],
        [
         "Smartphone Twelve Lead Electrocardiogram Utility In ST-Elevation Myocardial Infarction"
        ],
        [
         "Efficacy and Safety Study of MSRD-100 in Subjects With Atopic Dermatitis >=3 Months of Age and Older"
        ],
        [
         "Study of NGX-4010 for the Treatment of Painful HIV-Associated Neuropathy"
        ],
        [
         "Combination Chemotherapy With or Without Radiation Therapy in Treating Patients With Hodgkin's Lymphoma"
        ],
        [
         "Management of Hypertension and Multiple Risk Factors to Enhance Cardiovascular Health"
        ],
        [
         "A Phase I Study of IBI325 in Patients With Advanced Solid Tumor"
        ],
        [
         "A Bioequivalence Study of Amlodipine Plus Losartan Versus Amlodipine and Losartan"
        ],
        [
         "Observational Study of Patients Using NovoMix® 30 or Levemir® for Treatment of Type 1 or Type 2 Diabetes"
        ],
        [
         "Self-management of Anticoagulation Treatment"
        ],
        [
         "Efficacy and Safety of FTY720 in de Novo Adult Renal Transplant Recipients"
        ],
        [
         "Efficacy and Safety of FTY720 in de Novo Adult Renal Transplant Recipients"
        ],
        [
         "Efficacy and Safety of FTY720 in de Novo Adult Renal Transplant Recipients"
        ],
        [
         "A Safety and Efficacy Study of Vitreosolve® for Non-Proliferative Diabetic Retinopathy Subjects"
        ],
        [
         "A Study of the Safety and Efficacy of a New Treatment for Diabetic Macular Edema"
        ],
        [
         "Open-Label Study of ARD-0403 in Testosterone Deficient Men"
        ],
        [
         "Preliminary Testing of New Treatment for Chronic Leg Wounds"
        ],
        [
         "Reduction of Metabolic Acidosis in Patients With Chronic Kidney Disease in Stage 4 and 5"
        ],
        [
         "Efficacy and Safety of the Cryopreserved Formulation of OTL-101 in Subjects With ADA-SCID"
        ]
       ],
       "datasetInfos": [],
       "dbfsResultPath": null,
       "isJsonSchema": true,
       "metadata": {},
       "overflow": false,
       "plotOptions": {
        "customPlotOptions": {},
        "displayType": "table",
        "pivotAggregation": null,
        "pivotColumns": null,
        "xColumns": null,
        "yColumns": null
       },
       "removedWidgets": [],
       "schema": [
        {
         "metadata": "{}",
         "name": "Study Title",
         "type": "\"string\""
        }
       ],
       "type": "table"
      }
     },
     "output_type": "display_data"
    }
   ],
   "source": [
    "row = df.select(\"Study Title\")\n",
    "distict_data = row.distinct()\n",
    "\n",
    "duplicate_data = row.exceptAll(distict_data)\n",
    "display(duplicate_data)\n"
   ]
  },
  {
   "cell_type": "code",
   "execution_count": null,
   "metadata": {
    "application/vnd.databricks.v1+cell": {
     "cellMetadata": {
      "byteLimit": 2048000,
      "rowLimit": 10000
     },
     "inputWidgets": {},
     "nuid": "9301e4dd-77b6-4e83-a306-7fa70b187ba6",
     "showTitle": false,
     "title": ""
    }
   },
   "outputs": [
    {
     "data": {
      "text/html": [
       "<style scoped>\n",
       "  .table-result-container {\n",
       "    max-height: 300px;\n",
       "    overflow: auto;\n",
       "  }\n",
       "  table, th, td {\n",
       "    border: 1px solid black;\n",
       "    border-collapse: collapse;\n",
       "  }\n",
       "  th, td {\n",
       "    padding: 5px;\n",
       "  }\n",
       "  th {\n",
       "    text-align: left;\n",
       "  }\n",
       "</style><div class='table-result-container'><table class='table-result'><thead style='background-color: white'><tr><th>Study Title</th></tr></thead><tbody></tbody></table></div>"
      ]
     },
     "metadata": {
      "application/vnd.databricks.v1+output": {
       "addedWidgets": {},
       "aggData": [],
       "aggError": "",
       "aggOverflow": false,
       "aggSchema": [],
       "aggSeriesLimitReached": false,
       "aggType": "",
       "arguments": {},
       "columnCustomDisplayInfos": {},
       "data": [],
       "datasetInfos": [],
       "dbfsResultPath": null,
       "isJsonSchema": true,
       "metadata": {},
       "overflow": false,
       "plotOptions": {
        "customPlotOptions": {},
        "displayType": "table",
        "pivotAggregation": null,
        "pivotColumns": null,
        "xColumns": null,
        "yColumns": null
       },
       "removedWidgets": [],
       "schema": [
        {
         "metadata": "{}",
         "name": "Study Title",
         "type": "\"string\""
        }
       ],
       "type": "table"
      }
     },
     "output_type": "display_data"
    }
   ],
   "source": [
    "display(duplicate_data)"
   ]
  },
  {
   "cell_type": "code",
   "execution_count": null,
   "metadata": {
    "application/vnd.databricks.v1+cell": {
     "cellMetadata": {
      "byteLimit": 2048000,
      "rowLimit": 10000
     },
     "inputWidgets": {},
     "nuid": "66ba1f73-5dce-447d-9723-061fc741c2fc",
     "showTitle": false,
     "title": ""
    }
   },
   "outputs": [
    {
     "name": "stdout",
     "output_type": "stream",
     "text": [
      "Out[95]: 483422"
     ]
    }
   ],
   "source": [
    "df.select(\"Id\").distinct().count()"
   ]
  },
  {
   "cell_type": "code",
   "execution_count": null,
   "metadata": {
    "application/vnd.databricks.v1+cell": {
     "cellMetadata": {},
     "inputWidgets": {},
     "nuid": "234e11bf-8cef-415e-95e4-2be850523850",
     "showTitle": false,
     "title": ""
    }
   },
   "outputs": [],
   "source": []
  },
  {
   "cell_type": "code",
   "execution_count": null,
   "metadata": {
    "application/vnd.databricks.v1+cell": {
     "cellMetadata": {},
     "inputWidgets": {},
     "nuid": "cf4d3777-73ea-4efb-a168-77a21789256e",
     "showTitle": false,
     "title": ""
    }
   },
   "outputs": [],
   "source": []
  },
  {
   "cell_type": "code",
   "execution_count": null,
   "metadata": {
    "application/vnd.databricks.v1+cell": {
     "cellMetadata": {},
     "inputWidgets": {},
     "nuid": "89d4e100-5b80-4263-ab51-03a526ad2d48",
     "showTitle": false,
     "title": ""
    }
   },
   "outputs": [],
   "source": []
  },
  {
   "cell_type": "code",
   "execution_count": null,
   "metadata": {
    "application/vnd.databricks.v1+cell": {
     "cellMetadata": {},
     "inputWidgets": {},
     "nuid": "05c8fb32-286a-4c86-b64f-f7a108d9879f",
     "showTitle": false,
     "title": ""
    }
   },
   "outputs": [],
   "source": []
  },
  {
   "cell_type": "code",
   "execution_count": null,
   "metadata": {
    "application/vnd.databricks.v1+cell": {
     "cellMetadata": {
      "byteLimit": 2048000,
      "rowLimit": 10000
     },
     "inputWidgets": {},
     "nuid": "16bef0ee-4734-491a-bc90-7bbf701d39c2",
     "showTitle": false,
     "title": ""
    }
   },
   "outputs": [
    {
     "data": {
      "text/plain": [
       "\u001b[0;31m---------------------------------------------------------------------------\u001b[0m\n",
       "\u001b[0;31mAnalysisException\u001b[0m                         Traceback (most recent call last)\n",
       "File \u001b[0;32m<command-1118779165298587>:1\u001b[0m\n",
       "\u001b[0;32m----> 1\u001b[0m clinicaltrial_df \u001b[38;5;241m=\u001b[39m spark\u001b[38;5;241m.\u001b[39mread\u001b[38;5;241m.\u001b[39mcsv(\u001b[38;5;124m\"\u001b[39m\u001b[38;5;124m/FileStore/tables/clinicaltrial_2023_cleaned_data.csv\u001b[39m\u001b[38;5;124m\"\u001b[39m, header\u001b[38;5;241m=\u001b[39m\u001b[38;5;28;01mTrue\u001b[39;00m, inferSchema\u001b[38;5;241m=\u001b[39m\u001b[38;5;28;01mTrue\u001b[39;00m)\n",
       "\u001b[1;32m      3\u001b[0m clinicaltrial_df\u001b[38;5;241m.\u001b[39mcreateOrReplaceTempView(\u001b[38;5;124m\"\u001b[39m\u001b[38;5;124mclinicaltrial_temp_view\u001b[39m\u001b[38;5;124m\"\u001b[39m)\n",
       "\n",
       "File \u001b[0;32m/databricks/spark/python/pyspark/instrumentation_utils.py:48\u001b[0m, in \u001b[0;36m_wrap_function.<locals>.wrapper\u001b[0;34m(*args, **kwargs)\u001b[0m\n",
       "\u001b[1;32m     46\u001b[0m start \u001b[38;5;241m=\u001b[39m time\u001b[38;5;241m.\u001b[39mperf_counter()\n",
       "\u001b[1;32m     47\u001b[0m \u001b[38;5;28;01mtry\u001b[39;00m:\n",
       "\u001b[0;32m---> 48\u001b[0m     res \u001b[38;5;241m=\u001b[39m \u001b[43mfunc\u001b[49m\u001b[43m(\u001b[49m\u001b[38;5;241;43m*\u001b[39;49m\u001b[43margs\u001b[49m\u001b[43m,\u001b[49m\u001b[43m \u001b[49m\u001b[38;5;241;43m*\u001b[39;49m\u001b[38;5;241;43m*\u001b[39;49m\u001b[43mkwargs\u001b[49m\u001b[43m)\u001b[49m\n",
       "\u001b[1;32m     49\u001b[0m     logger\u001b[38;5;241m.\u001b[39mlog_success(\n",
       "\u001b[1;32m     50\u001b[0m         module_name, class_name, function_name, time\u001b[38;5;241m.\u001b[39mperf_counter() \u001b[38;5;241m-\u001b[39m start, signature\n",
       "\u001b[1;32m     51\u001b[0m     )\n",
       "\u001b[1;32m     52\u001b[0m     \u001b[38;5;28;01mreturn\u001b[39;00m res\n",
       "\n",
       "File \u001b[0;32m/databricks/spark/python/pyspark/sql/readwriter.py:729\u001b[0m, in \u001b[0;36mDataFrameReader.csv\u001b[0;34m(self, path, schema, sep, encoding, quote, escape, comment, header, inferSchema, ignoreLeadingWhiteSpace, ignoreTrailingWhiteSpace, nullValue, nanValue, positiveInf, negativeInf, dateFormat, timestampFormat, maxColumns, maxCharsPerColumn, maxMalformedLogPerPartition, mode, columnNameOfCorruptRecord, multiLine, charToEscapeQuoteEscaping, samplingRatio, enforceSchema, emptyValue, locale, lineSep, pathGlobFilter, recursiveFileLookup, modifiedBefore, modifiedAfter, unescapedQuoteHandling)\u001b[0m\n",
       "\u001b[1;32m    727\u001b[0m \u001b[38;5;28;01mif\u001b[39;00m \u001b[38;5;28mtype\u001b[39m(path) \u001b[38;5;241m==\u001b[39m \u001b[38;5;28mlist\u001b[39m:\n",
       "\u001b[1;32m    728\u001b[0m     \u001b[38;5;28;01massert\u001b[39;00m \u001b[38;5;28mself\u001b[39m\u001b[38;5;241m.\u001b[39m_spark\u001b[38;5;241m.\u001b[39m_sc\u001b[38;5;241m.\u001b[39m_jvm \u001b[38;5;129;01mis\u001b[39;00m \u001b[38;5;129;01mnot\u001b[39;00m \u001b[38;5;28;01mNone\u001b[39;00m\n",
       "\u001b[0;32m--> 729\u001b[0m     \u001b[38;5;28;01mreturn\u001b[39;00m \u001b[38;5;28mself\u001b[39m\u001b[38;5;241m.\u001b[39m_df(\u001b[38;5;28;43mself\u001b[39;49m\u001b[38;5;241;43m.\u001b[39;49m\u001b[43m_jreader\u001b[49m\u001b[38;5;241;43m.\u001b[39;49m\u001b[43mcsv\u001b[49m\u001b[43m(\u001b[49m\u001b[38;5;28;43mself\u001b[39;49m\u001b[38;5;241;43m.\u001b[39;49m\u001b[43m_spark\u001b[49m\u001b[38;5;241;43m.\u001b[39;49m\u001b[43m_sc\u001b[49m\u001b[38;5;241;43m.\u001b[39;49m\u001b[43m_jvm\u001b[49m\u001b[38;5;241;43m.\u001b[39;49m\u001b[43mPythonUtils\u001b[49m\u001b[38;5;241;43m.\u001b[39;49m\u001b[43mtoSeq\u001b[49m\u001b[43m(\u001b[49m\u001b[43mpath\u001b[49m\u001b[43m)\u001b[49m\u001b[43m)\u001b[49m)\n",
       "\u001b[1;32m    730\u001b[0m \u001b[38;5;28;01melif\u001b[39;00m \u001b[38;5;28misinstance\u001b[39m(path, RDD):\n",
       "\u001b[1;32m    732\u001b[0m     \u001b[38;5;28;01mdef\u001b[39;00m \u001b[38;5;21mfunc\u001b[39m(iterator):\n",
       "\n",
       "File \u001b[0;32m/databricks/spark/python/lib/py4j-0.10.9.5-src.zip/py4j/java_gateway.py:1321\u001b[0m, in \u001b[0;36mJavaMember.__call__\u001b[0;34m(self, *args)\u001b[0m\n",
       "\u001b[1;32m   1315\u001b[0m command \u001b[38;5;241m=\u001b[39m proto\u001b[38;5;241m.\u001b[39mCALL_COMMAND_NAME \u001b[38;5;241m+\u001b[39m\\\n",
       "\u001b[1;32m   1316\u001b[0m     \u001b[38;5;28mself\u001b[39m\u001b[38;5;241m.\u001b[39mcommand_header \u001b[38;5;241m+\u001b[39m\\\n",
       "\u001b[1;32m   1317\u001b[0m     args_command \u001b[38;5;241m+\u001b[39m\\\n",
       "\u001b[1;32m   1318\u001b[0m     proto\u001b[38;5;241m.\u001b[39mEND_COMMAND_PART\n",
       "\u001b[1;32m   1320\u001b[0m answer \u001b[38;5;241m=\u001b[39m \u001b[38;5;28mself\u001b[39m\u001b[38;5;241m.\u001b[39mgateway_client\u001b[38;5;241m.\u001b[39msend_command(command)\n",
       "\u001b[0;32m-> 1321\u001b[0m return_value \u001b[38;5;241m=\u001b[39m \u001b[43mget_return_value\u001b[49m\u001b[43m(\u001b[49m\n",
       "\u001b[1;32m   1322\u001b[0m \u001b[43m    \u001b[49m\u001b[43manswer\u001b[49m\u001b[43m,\u001b[49m\u001b[43m \u001b[49m\u001b[38;5;28;43mself\u001b[39;49m\u001b[38;5;241;43m.\u001b[39;49m\u001b[43mgateway_client\u001b[49m\u001b[43m,\u001b[49m\u001b[43m \u001b[49m\u001b[38;5;28;43mself\u001b[39;49m\u001b[38;5;241;43m.\u001b[39;49m\u001b[43mtarget_id\u001b[49m\u001b[43m,\u001b[49m\u001b[43m \u001b[49m\u001b[38;5;28;43mself\u001b[39;49m\u001b[38;5;241;43m.\u001b[39;49m\u001b[43mname\u001b[49m\u001b[43m)\u001b[49m\n",
       "\u001b[1;32m   1324\u001b[0m \u001b[38;5;28;01mfor\u001b[39;00m temp_arg \u001b[38;5;129;01min\u001b[39;00m temp_args:\n",
       "\u001b[1;32m   1325\u001b[0m     temp_arg\u001b[38;5;241m.\u001b[39m_detach()\n",
       "\n",
       "File \u001b[0;32m/databricks/spark/python/pyspark/errors/exceptions.py:234\u001b[0m, in \u001b[0;36mcapture_sql_exception.<locals>.deco\u001b[0;34m(*a, **kw)\u001b[0m\n",
       "\u001b[1;32m    230\u001b[0m converted \u001b[38;5;241m=\u001b[39m convert_exception(e\u001b[38;5;241m.\u001b[39mjava_exception)\n",
       "\u001b[1;32m    231\u001b[0m \u001b[38;5;28;01mif\u001b[39;00m \u001b[38;5;129;01mnot\u001b[39;00m \u001b[38;5;28misinstance\u001b[39m(converted, UnknownException):\n",
       "\u001b[1;32m    232\u001b[0m     \u001b[38;5;66;03m# Hide where the exception came from that shows a non-Pythonic\u001b[39;00m\n",
       "\u001b[1;32m    233\u001b[0m     \u001b[38;5;66;03m# JVM exception message.\u001b[39;00m\n",
       "\u001b[0;32m--> 234\u001b[0m     \u001b[38;5;28;01mraise\u001b[39;00m converted \u001b[38;5;28;01mfrom\u001b[39;00m \u001b[38;5;28mNone\u001b[39m\n",
       "\u001b[1;32m    235\u001b[0m \u001b[38;5;28;01melse\u001b[39;00m:\n",
       "\u001b[1;32m    236\u001b[0m     \u001b[38;5;28;01mraise\u001b[39;00m\n",
       "\n",
       "\u001b[0;31mAnalysisException\u001b[0m: [PATH_NOT_FOUND] Path does not exist: dbfs:/FileStore/tables/clinicaltrial_2023_cleaned_data.csv."
      ]
     },
     "metadata": {
      "application/vnd.databricks.v1+output": {
       "arguments": {},
       "data": "\u001b[0;31m---------------------------------------------------------------------------\u001b[0m\n\u001b[0;31mAnalysisException\u001b[0m                         Traceback (most recent call last)\nFile \u001b[0;32m<command-1118779165298587>:1\u001b[0m\n\u001b[0;32m----> 1\u001b[0m clinicaltrial_df \u001b[38;5;241m=\u001b[39m spark\u001b[38;5;241m.\u001b[39mread\u001b[38;5;241m.\u001b[39mcsv(\u001b[38;5;124m\"\u001b[39m\u001b[38;5;124m/FileStore/tables/clinicaltrial_2023_cleaned_data.csv\u001b[39m\u001b[38;5;124m\"\u001b[39m, header\u001b[38;5;241m=\u001b[39m\u001b[38;5;28;01mTrue\u001b[39;00m, inferSchema\u001b[38;5;241m=\u001b[39m\u001b[38;5;28;01mTrue\u001b[39;00m)\n\u001b[1;32m      3\u001b[0m clinicaltrial_df\u001b[38;5;241m.\u001b[39mcreateOrReplaceTempView(\u001b[38;5;124m\"\u001b[39m\u001b[38;5;124mclinicaltrial_temp_view\u001b[39m\u001b[38;5;124m\"\u001b[39m)\n\nFile \u001b[0;32m/databricks/spark/python/pyspark/instrumentation_utils.py:48\u001b[0m, in \u001b[0;36m_wrap_function.<locals>.wrapper\u001b[0;34m(*args, **kwargs)\u001b[0m\n\u001b[1;32m     46\u001b[0m start \u001b[38;5;241m=\u001b[39m time\u001b[38;5;241m.\u001b[39mperf_counter()\n\u001b[1;32m     47\u001b[0m \u001b[38;5;28;01mtry\u001b[39;00m:\n\u001b[0;32m---> 48\u001b[0m     res \u001b[38;5;241m=\u001b[39m \u001b[43mfunc\u001b[49m\u001b[43m(\u001b[49m\u001b[38;5;241;43m*\u001b[39;49m\u001b[43margs\u001b[49m\u001b[43m,\u001b[49m\u001b[43m \u001b[49m\u001b[38;5;241;43m*\u001b[39;49m\u001b[38;5;241;43m*\u001b[39;49m\u001b[43mkwargs\u001b[49m\u001b[43m)\u001b[49m\n\u001b[1;32m     49\u001b[0m     logger\u001b[38;5;241m.\u001b[39mlog_success(\n\u001b[1;32m     50\u001b[0m         module_name, class_name, function_name, time\u001b[38;5;241m.\u001b[39mperf_counter() \u001b[38;5;241m-\u001b[39m start, signature\n\u001b[1;32m     51\u001b[0m     )\n\u001b[1;32m     52\u001b[0m     \u001b[38;5;28;01mreturn\u001b[39;00m res\n\nFile \u001b[0;32m/databricks/spark/python/pyspark/sql/readwriter.py:729\u001b[0m, in \u001b[0;36mDataFrameReader.csv\u001b[0;34m(self, path, schema, sep, encoding, quote, escape, comment, header, inferSchema, ignoreLeadingWhiteSpace, ignoreTrailingWhiteSpace, nullValue, nanValue, positiveInf, negativeInf, dateFormat, timestampFormat, maxColumns, maxCharsPerColumn, maxMalformedLogPerPartition, mode, columnNameOfCorruptRecord, multiLine, charToEscapeQuoteEscaping, samplingRatio, enforceSchema, emptyValue, locale, lineSep, pathGlobFilter, recursiveFileLookup, modifiedBefore, modifiedAfter, unescapedQuoteHandling)\u001b[0m\n\u001b[1;32m    727\u001b[0m \u001b[38;5;28;01mif\u001b[39;00m \u001b[38;5;28mtype\u001b[39m(path) \u001b[38;5;241m==\u001b[39m \u001b[38;5;28mlist\u001b[39m:\n\u001b[1;32m    728\u001b[0m     \u001b[38;5;28;01massert\u001b[39;00m \u001b[38;5;28mself\u001b[39m\u001b[38;5;241m.\u001b[39m_spark\u001b[38;5;241m.\u001b[39m_sc\u001b[38;5;241m.\u001b[39m_jvm \u001b[38;5;129;01mis\u001b[39;00m \u001b[38;5;129;01mnot\u001b[39;00m \u001b[38;5;28;01mNone\u001b[39;00m\n\u001b[0;32m--> 729\u001b[0m     \u001b[38;5;28;01mreturn\u001b[39;00m \u001b[38;5;28mself\u001b[39m\u001b[38;5;241m.\u001b[39m_df(\u001b[38;5;28;43mself\u001b[39;49m\u001b[38;5;241;43m.\u001b[39;49m\u001b[43m_jreader\u001b[49m\u001b[38;5;241;43m.\u001b[39;49m\u001b[43mcsv\u001b[49m\u001b[43m(\u001b[49m\u001b[38;5;28;43mself\u001b[39;49m\u001b[38;5;241;43m.\u001b[39;49m\u001b[43m_spark\u001b[49m\u001b[38;5;241;43m.\u001b[39;49m\u001b[43m_sc\u001b[49m\u001b[38;5;241;43m.\u001b[39;49m\u001b[43m_jvm\u001b[49m\u001b[38;5;241;43m.\u001b[39;49m\u001b[43mPythonUtils\u001b[49m\u001b[38;5;241;43m.\u001b[39;49m\u001b[43mtoSeq\u001b[49m\u001b[43m(\u001b[49m\u001b[43mpath\u001b[49m\u001b[43m)\u001b[49m\u001b[43m)\u001b[49m)\n\u001b[1;32m    730\u001b[0m \u001b[38;5;28;01melif\u001b[39;00m \u001b[38;5;28misinstance\u001b[39m(path, RDD):\n\u001b[1;32m    732\u001b[0m     \u001b[38;5;28;01mdef\u001b[39;00m \u001b[38;5;21mfunc\u001b[39m(iterator):\n\nFile \u001b[0;32m/databricks/spark/python/lib/py4j-0.10.9.5-src.zip/py4j/java_gateway.py:1321\u001b[0m, in \u001b[0;36mJavaMember.__call__\u001b[0;34m(self, *args)\u001b[0m\n\u001b[1;32m   1315\u001b[0m command \u001b[38;5;241m=\u001b[39m proto\u001b[38;5;241m.\u001b[39mCALL_COMMAND_NAME \u001b[38;5;241m+\u001b[39m\\\n\u001b[1;32m   1316\u001b[0m     \u001b[38;5;28mself\u001b[39m\u001b[38;5;241m.\u001b[39mcommand_header \u001b[38;5;241m+\u001b[39m\\\n\u001b[1;32m   1317\u001b[0m     args_command \u001b[38;5;241m+\u001b[39m\\\n\u001b[1;32m   1318\u001b[0m     proto\u001b[38;5;241m.\u001b[39mEND_COMMAND_PART\n\u001b[1;32m   1320\u001b[0m answer \u001b[38;5;241m=\u001b[39m \u001b[38;5;28mself\u001b[39m\u001b[38;5;241m.\u001b[39mgateway_client\u001b[38;5;241m.\u001b[39msend_command(command)\n\u001b[0;32m-> 1321\u001b[0m return_value \u001b[38;5;241m=\u001b[39m \u001b[43mget_return_value\u001b[49m\u001b[43m(\u001b[49m\n\u001b[1;32m   1322\u001b[0m \u001b[43m    \u001b[49m\u001b[43manswer\u001b[49m\u001b[43m,\u001b[49m\u001b[43m \u001b[49m\u001b[38;5;28;43mself\u001b[39;49m\u001b[38;5;241;43m.\u001b[39;49m\u001b[43mgateway_client\u001b[49m\u001b[43m,\u001b[49m\u001b[43m \u001b[49m\u001b[38;5;28;43mself\u001b[39;49m\u001b[38;5;241;43m.\u001b[39;49m\u001b[43mtarget_id\u001b[49m\u001b[43m,\u001b[49m\u001b[43m \u001b[49m\u001b[38;5;28;43mself\u001b[39;49m\u001b[38;5;241;43m.\u001b[39;49m\u001b[43mname\u001b[49m\u001b[43m)\u001b[49m\n\u001b[1;32m   1324\u001b[0m \u001b[38;5;28;01mfor\u001b[39;00m temp_arg \u001b[38;5;129;01min\u001b[39;00m temp_args:\n\u001b[1;32m   1325\u001b[0m     temp_arg\u001b[38;5;241m.\u001b[39m_detach()\n\nFile \u001b[0;32m/databricks/spark/python/pyspark/errors/exceptions.py:234\u001b[0m, in \u001b[0;36mcapture_sql_exception.<locals>.deco\u001b[0;34m(*a, **kw)\u001b[0m\n\u001b[1;32m    230\u001b[0m converted \u001b[38;5;241m=\u001b[39m convert_exception(e\u001b[38;5;241m.\u001b[39mjava_exception)\n\u001b[1;32m    231\u001b[0m \u001b[38;5;28;01mif\u001b[39;00m \u001b[38;5;129;01mnot\u001b[39;00m \u001b[38;5;28misinstance\u001b[39m(converted, UnknownException):\n\u001b[1;32m    232\u001b[0m     \u001b[38;5;66;03m# Hide where the exception came from that shows a non-Pythonic\u001b[39;00m\n\u001b[1;32m    233\u001b[0m     \u001b[38;5;66;03m# JVM exception message.\u001b[39;00m\n\u001b[0;32m--> 234\u001b[0m     \u001b[38;5;28;01mraise\u001b[39;00m converted \u001b[38;5;28;01mfrom\u001b[39;00m \u001b[38;5;28mNone\u001b[39m\n\u001b[1;32m    235\u001b[0m \u001b[38;5;28;01melse\u001b[39;00m:\n\u001b[1;32m    236\u001b[0m     \u001b[38;5;28;01mraise\u001b[39;00m\n\n\u001b[0;31mAnalysisException\u001b[0m: [PATH_NOT_FOUND] Path does not exist: dbfs:/FileStore/tables/clinicaltrial_2023_cleaned_data.csv.",
       "errorSummary": "<span class='ansi-red-fg'>AnalysisException</span>: [PATH_NOT_FOUND] Path does not exist: dbfs:/FileStore/tables/clinicaltrial_2023_cleaned_data.csv.",
       "errorTraceType": "ansi",
       "metadata": {},
       "type": "ipynbError"
      }
     },
     "output_type": "display_data"
    }
   ],
   "source": [
    "clinicaltrial_df = spark.read.csv(\"/FileStore/tables/clinicaltrial_2023_cleaned_data.csv\", header=True, inferSchema=True)\n",
    "\n",
    "clinicaltrial_df.createOrReplaceTempView(\"clinicaltrial_temp_view\")"
   ]
  },
  {
   "cell_type": "code",
   "execution_count": null,
   "metadata": {
    "application/vnd.databricks.v1+cell": {
     "cellMetadata": {
      "byteLimit": 2048000,
      "rowLimit": 10000
     },
     "inputWidgets": {},
     "nuid": "cce3b599-2e05-4dc3-b7ff-be3feb1b5fec",
     "showTitle": false,
     "title": ""
    }
   },
   "outputs": [
    {
     "data": {
      "text/plain": [
       "\u001b[0;31m---------------------------------------------------------------------------\u001b[0m\n",
       "\u001b[0;31mAnalysisException\u001b[0m                         Traceback (most recent call last)\n",
       "File \u001b[0;32m<command-1118779165298588>:1\u001b[0m\n",
       "\u001b[0;32m----> 1\u001b[0m df \u001b[38;5;241m=\u001b[39m spark\u001b[38;5;241m.\u001b[39msql(\u001b[38;5;124m\"\u001b[39m\u001b[38;5;124mSELECT COUNT(DISTINCT Study_ID) AS Study_Title FROM clinicaltrial_2023_all_cleaned_data.csv\u001b[39m\u001b[38;5;124m\"\u001b[39m)\n",
       "\u001b[1;32m      2\u001b[0m distinct_studies_count \u001b[38;5;241m=\u001b[39m df\u001b[38;5;241m.\u001b[39mcollect()[\u001b[38;5;241m0\u001b[39m][\u001b[38;5;124m\"\u001b[39m\u001b[38;5;124mStudy_Title\u001b[39m\u001b[38;5;124m\"\u001b[39m]\n",
       "\u001b[1;32m      3\u001b[0m \u001b[38;5;28mprint\u001b[39m(\u001b[38;5;124mf\u001b[39m\u001b[38;5;124m\"\u001b[39m\u001b[38;5;124mNumber of distinct studies: \u001b[39m\u001b[38;5;132;01m{\u001b[39;00mdistinct_studies_count\u001b[38;5;132;01m}\u001b[39;00m\u001b[38;5;124m\"\u001b[39m)\n",
       "\n",
       "File \u001b[0;32m/databricks/spark/python/pyspark/instrumentation_utils.py:48\u001b[0m, in \u001b[0;36m_wrap_function.<locals>.wrapper\u001b[0;34m(*args, **kwargs)\u001b[0m\n",
       "\u001b[1;32m     46\u001b[0m start \u001b[38;5;241m=\u001b[39m time\u001b[38;5;241m.\u001b[39mperf_counter()\n",
       "\u001b[1;32m     47\u001b[0m \u001b[38;5;28;01mtry\u001b[39;00m:\n",
       "\u001b[0;32m---> 48\u001b[0m     res \u001b[38;5;241m=\u001b[39m \u001b[43mfunc\u001b[49m\u001b[43m(\u001b[49m\u001b[38;5;241;43m*\u001b[39;49m\u001b[43margs\u001b[49m\u001b[43m,\u001b[49m\u001b[43m \u001b[49m\u001b[38;5;241;43m*\u001b[39;49m\u001b[38;5;241;43m*\u001b[39;49m\u001b[43mkwargs\u001b[49m\u001b[43m)\u001b[49m\n",
       "\u001b[1;32m     49\u001b[0m     logger\u001b[38;5;241m.\u001b[39mlog_success(\n",
       "\u001b[1;32m     50\u001b[0m         module_name, class_name, function_name, time\u001b[38;5;241m.\u001b[39mperf_counter() \u001b[38;5;241m-\u001b[39m start, signature\n",
       "\u001b[1;32m     51\u001b[0m     )\n",
       "\u001b[1;32m     52\u001b[0m     \u001b[38;5;28;01mreturn\u001b[39;00m res\n",
       "\n",
       "File \u001b[0;32m/databricks/spark/python/pyspark/sql/session.py:1387\u001b[0m, in \u001b[0;36mSparkSession.sql\u001b[0;34m(self, sqlQuery, args, **kwargs)\u001b[0m\n",
       "\u001b[1;32m   1385\u001b[0m \u001b[38;5;28;01mtry\u001b[39;00m:\n",
       "\u001b[1;32m   1386\u001b[0m     litArgs \u001b[38;5;241m=\u001b[39m {k: _to_java_column(lit(v)) \u001b[38;5;28;01mfor\u001b[39;00m k, v \u001b[38;5;129;01min\u001b[39;00m (args \u001b[38;5;129;01mor\u001b[39;00m {})\u001b[38;5;241m.\u001b[39mitems()}\n",
       "\u001b[0;32m-> 1387\u001b[0m     \u001b[38;5;28;01mreturn\u001b[39;00m DataFrame(\u001b[38;5;28;43mself\u001b[39;49m\u001b[38;5;241;43m.\u001b[39;49m\u001b[43m_jsparkSession\u001b[49m\u001b[38;5;241;43m.\u001b[39;49m\u001b[43msql\u001b[49m\u001b[43m(\u001b[49m\u001b[43msqlQuery\u001b[49m\u001b[43m,\u001b[49m\u001b[43m \u001b[49m\u001b[43mlitArgs\u001b[49m\u001b[43m)\u001b[49m, \u001b[38;5;28mself\u001b[39m)\n",
       "\u001b[1;32m   1388\u001b[0m \u001b[38;5;28;01mfinally\u001b[39;00m:\n",
       "\u001b[1;32m   1389\u001b[0m     \u001b[38;5;28;01mif\u001b[39;00m \u001b[38;5;28mlen\u001b[39m(kwargs) \u001b[38;5;241m>\u001b[39m \u001b[38;5;241m0\u001b[39m:\n",
       "\n",
       "File \u001b[0;32m/databricks/spark/python/lib/py4j-0.10.9.5-src.zip/py4j/java_gateway.py:1321\u001b[0m, in \u001b[0;36mJavaMember.__call__\u001b[0;34m(self, *args)\u001b[0m\n",
       "\u001b[1;32m   1315\u001b[0m command \u001b[38;5;241m=\u001b[39m proto\u001b[38;5;241m.\u001b[39mCALL_COMMAND_NAME \u001b[38;5;241m+\u001b[39m\\\n",
       "\u001b[1;32m   1316\u001b[0m     \u001b[38;5;28mself\u001b[39m\u001b[38;5;241m.\u001b[39mcommand_header \u001b[38;5;241m+\u001b[39m\\\n",
       "\u001b[1;32m   1317\u001b[0m     args_command \u001b[38;5;241m+\u001b[39m\\\n",
       "\u001b[1;32m   1318\u001b[0m     proto\u001b[38;5;241m.\u001b[39mEND_COMMAND_PART\n",
       "\u001b[1;32m   1320\u001b[0m answer \u001b[38;5;241m=\u001b[39m \u001b[38;5;28mself\u001b[39m\u001b[38;5;241m.\u001b[39mgateway_client\u001b[38;5;241m.\u001b[39msend_command(command)\n",
       "\u001b[0;32m-> 1321\u001b[0m return_value \u001b[38;5;241m=\u001b[39m \u001b[43mget_return_value\u001b[49m\u001b[43m(\u001b[49m\n",
       "\u001b[1;32m   1322\u001b[0m \u001b[43m    \u001b[49m\u001b[43manswer\u001b[49m\u001b[43m,\u001b[49m\u001b[43m \u001b[49m\u001b[38;5;28;43mself\u001b[39;49m\u001b[38;5;241;43m.\u001b[39;49m\u001b[43mgateway_client\u001b[49m\u001b[43m,\u001b[49m\u001b[43m \u001b[49m\u001b[38;5;28;43mself\u001b[39;49m\u001b[38;5;241;43m.\u001b[39;49m\u001b[43mtarget_id\u001b[49m\u001b[43m,\u001b[49m\u001b[43m \u001b[49m\u001b[38;5;28;43mself\u001b[39;49m\u001b[38;5;241;43m.\u001b[39;49m\u001b[43mname\u001b[49m\u001b[43m)\u001b[49m\n",
       "\u001b[1;32m   1324\u001b[0m \u001b[38;5;28;01mfor\u001b[39;00m temp_arg \u001b[38;5;129;01min\u001b[39;00m temp_args:\n",
       "\u001b[1;32m   1325\u001b[0m     temp_arg\u001b[38;5;241m.\u001b[39m_detach()\n",
       "\n",
       "File \u001b[0;32m/databricks/spark/python/pyspark/errors/exceptions.py:234\u001b[0m, in \u001b[0;36mcapture_sql_exception.<locals>.deco\u001b[0;34m(*a, **kw)\u001b[0m\n",
       "\u001b[1;32m    230\u001b[0m converted \u001b[38;5;241m=\u001b[39m convert_exception(e\u001b[38;5;241m.\u001b[39mjava_exception)\n",
       "\u001b[1;32m    231\u001b[0m \u001b[38;5;28;01mif\u001b[39;00m \u001b[38;5;129;01mnot\u001b[39;00m \u001b[38;5;28misinstance\u001b[39m(converted, UnknownException):\n",
       "\u001b[1;32m    232\u001b[0m     \u001b[38;5;66;03m# Hide where the exception came from that shows a non-Pythonic\u001b[39;00m\n",
       "\u001b[1;32m    233\u001b[0m     \u001b[38;5;66;03m# JVM exception message.\u001b[39;00m\n",
       "\u001b[0;32m--> 234\u001b[0m     \u001b[38;5;28;01mraise\u001b[39;00m converted \u001b[38;5;28;01mfrom\u001b[39;00m \u001b[38;5;28mNone\u001b[39m\n",
       "\u001b[1;32m    235\u001b[0m \u001b[38;5;28;01melse\u001b[39;00m:\n",
       "\u001b[1;32m    236\u001b[0m     \u001b[38;5;28;01mraise\u001b[39;00m\n",
       "\n",
       "\u001b[0;31mAnalysisException\u001b[0m: [TABLE_OR_VIEW_NOT_FOUND] The table or view `clinicaltrial_2023_all_cleaned_data`.`csv` cannot be found. Verify the spelling and correctness of the schema and catalog.\n",
       "If you did not qualify the name with a schema, verify the current_schema() output, or qualify the name with the correct schema and catalog.\n",
       "To tolerate the error on drop use DROP VIEW IF EXISTS or DROP TABLE IF EXISTS.; line 1 pos 52;\n",
       "'Project ['COUNT(distinct 'Study_ID) AS Study_Title#4552]\n",
       "+- 'UnresolvedRelation [clinicaltrial_2023_all_cleaned_data, csv], [], false\n"
      ]
     },
     "metadata": {
      "application/vnd.databricks.v1+output": {
       "arguments": {},
       "data": "\u001b[0;31m---------------------------------------------------------------------------\u001b[0m\n\u001b[0;31mAnalysisException\u001b[0m                         Traceback (most recent call last)\nFile \u001b[0;32m<command-1118779165298588>:1\u001b[0m\n\u001b[0;32m----> 1\u001b[0m df \u001b[38;5;241m=\u001b[39m spark\u001b[38;5;241m.\u001b[39msql(\u001b[38;5;124m\"\u001b[39m\u001b[38;5;124mSELECT COUNT(DISTINCT Study_ID) AS Study_Title FROM clinicaltrial_2023_all_cleaned_data.csv\u001b[39m\u001b[38;5;124m\"\u001b[39m)\n\u001b[1;32m      2\u001b[0m distinct_studies_count \u001b[38;5;241m=\u001b[39m df\u001b[38;5;241m.\u001b[39mcollect()[\u001b[38;5;241m0\u001b[39m][\u001b[38;5;124m\"\u001b[39m\u001b[38;5;124mStudy_Title\u001b[39m\u001b[38;5;124m\"\u001b[39m]\n\u001b[1;32m      3\u001b[0m \u001b[38;5;28mprint\u001b[39m(\u001b[38;5;124mf\u001b[39m\u001b[38;5;124m\"\u001b[39m\u001b[38;5;124mNumber of distinct studies: \u001b[39m\u001b[38;5;132;01m{\u001b[39;00mdistinct_studies_count\u001b[38;5;132;01m}\u001b[39;00m\u001b[38;5;124m\"\u001b[39m)\n\nFile \u001b[0;32m/databricks/spark/python/pyspark/instrumentation_utils.py:48\u001b[0m, in \u001b[0;36m_wrap_function.<locals>.wrapper\u001b[0;34m(*args, **kwargs)\u001b[0m\n\u001b[1;32m     46\u001b[0m start \u001b[38;5;241m=\u001b[39m time\u001b[38;5;241m.\u001b[39mperf_counter()\n\u001b[1;32m     47\u001b[0m \u001b[38;5;28;01mtry\u001b[39;00m:\n\u001b[0;32m---> 48\u001b[0m     res \u001b[38;5;241m=\u001b[39m \u001b[43mfunc\u001b[49m\u001b[43m(\u001b[49m\u001b[38;5;241;43m*\u001b[39;49m\u001b[43margs\u001b[49m\u001b[43m,\u001b[49m\u001b[43m \u001b[49m\u001b[38;5;241;43m*\u001b[39;49m\u001b[38;5;241;43m*\u001b[39;49m\u001b[43mkwargs\u001b[49m\u001b[43m)\u001b[49m\n\u001b[1;32m     49\u001b[0m     logger\u001b[38;5;241m.\u001b[39mlog_success(\n\u001b[1;32m     50\u001b[0m         module_name, class_name, function_name, time\u001b[38;5;241m.\u001b[39mperf_counter() \u001b[38;5;241m-\u001b[39m start, signature\n\u001b[1;32m     51\u001b[0m     )\n\u001b[1;32m     52\u001b[0m     \u001b[38;5;28;01mreturn\u001b[39;00m res\n\nFile \u001b[0;32m/databricks/spark/python/pyspark/sql/session.py:1387\u001b[0m, in \u001b[0;36mSparkSession.sql\u001b[0;34m(self, sqlQuery, args, **kwargs)\u001b[0m\n\u001b[1;32m   1385\u001b[0m \u001b[38;5;28;01mtry\u001b[39;00m:\n\u001b[1;32m   1386\u001b[0m     litArgs \u001b[38;5;241m=\u001b[39m {k: _to_java_column(lit(v)) \u001b[38;5;28;01mfor\u001b[39;00m k, v \u001b[38;5;129;01min\u001b[39;00m (args \u001b[38;5;129;01mor\u001b[39;00m {})\u001b[38;5;241m.\u001b[39mitems()}\n\u001b[0;32m-> 1387\u001b[0m     \u001b[38;5;28;01mreturn\u001b[39;00m DataFrame(\u001b[38;5;28;43mself\u001b[39;49m\u001b[38;5;241;43m.\u001b[39;49m\u001b[43m_jsparkSession\u001b[49m\u001b[38;5;241;43m.\u001b[39;49m\u001b[43msql\u001b[49m\u001b[43m(\u001b[49m\u001b[43msqlQuery\u001b[49m\u001b[43m,\u001b[49m\u001b[43m \u001b[49m\u001b[43mlitArgs\u001b[49m\u001b[43m)\u001b[49m, \u001b[38;5;28mself\u001b[39m)\n\u001b[1;32m   1388\u001b[0m \u001b[38;5;28;01mfinally\u001b[39;00m:\n\u001b[1;32m   1389\u001b[0m     \u001b[38;5;28;01mif\u001b[39;00m \u001b[38;5;28mlen\u001b[39m(kwargs) \u001b[38;5;241m>\u001b[39m \u001b[38;5;241m0\u001b[39m:\n\nFile \u001b[0;32m/databricks/spark/python/lib/py4j-0.10.9.5-src.zip/py4j/java_gateway.py:1321\u001b[0m, in \u001b[0;36mJavaMember.__call__\u001b[0;34m(self, *args)\u001b[0m\n\u001b[1;32m   1315\u001b[0m command \u001b[38;5;241m=\u001b[39m proto\u001b[38;5;241m.\u001b[39mCALL_COMMAND_NAME \u001b[38;5;241m+\u001b[39m\\\n\u001b[1;32m   1316\u001b[0m     \u001b[38;5;28mself\u001b[39m\u001b[38;5;241m.\u001b[39mcommand_header \u001b[38;5;241m+\u001b[39m\\\n\u001b[1;32m   1317\u001b[0m     args_command \u001b[38;5;241m+\u001b[39m\\\n\u001b[1;32m   1318\u001b[0m     proto\u001b[38;5;241m.\u001b[39mEND_COMMAND_PART\n\u001b[1;32m   1320\u001b[0m answer \u001b[38;5;241m=\u001b[39m \u001b[38;5;28mself\u001b[39m\u001b[38;5;241m.\u001b[39mgateway_client\u001b[38;5;241m.\u001b[39msend_command(command)\n\u001b[0;32m-> 1321\u001b[0m return_value \u001b[38;5;241m=\u001b[39m \u001b[43mget_return_value\u001b[49m\u001b[43m(\u001b[49m\n\u001b[1;32m   1322\u001b[0m \u001b[43m    \u001b[49m\u001b[43manswer\u001b[49m\u001b[43m,\u001b[49m\u001b[43m \u001b[49m\u001b[38;5;28;43mself\u001b[39;49m\u001b[38;5;241;43m.\u001b[39;49m\u001b[43mgateway_client\u001b[49m\u001b[43m,\u001b[49m\u001b[43m \u001b[49m\u001b[38;5;28;43mself\u001b[39;49m\u001b[38;5;241;43m.\u001b[39;49m\u001b[43mtarget_id\u001b[49m\u001b[43m,\u001b[49m\u001b[43m \u001b[49m\u001b[38;5;28;43mself\u001b[39;49m\u001b[38;5;241;43m.\u001b[39;49m\u001b[43mname\u001b[49m\u001b[43m)\u001b[49m\n\u001b[1;32m   1324\u001b[0m \u001b[38;5;28;01mfor\u001b[39;00m temp_arg \u001b[38;5;129;01min\u001b[39;00m temp_args:\n\u001b[1;32m   1325\u001b[0m     temp_arg\u001b[38;5;241m.\u001b[39m_detach()\n\nFile \u001b[0;32m/databricks/spark/python/pyspark/errors/exceptions.py:234\u001b[0m, in \u001b[0;36mcapture_sql_exception.<locals>.deco\u001b[0;34m(*a, **kw)\u001b[0m\n\u001b[1;32m    230\u001b[0m converted \u001b[38;5;241m=\u001b[39m convert_exception(e\u001b[38;5;241m.\u001b[39mjava_exception)\n\u001b[1;32m    231\u001b[0m \u001b[38;5;28;01mif\u001b[39;00m \u001b[38;5;129;01mnot\u001b[39;00m \u001b[38;5;28misinstance\u001b[39m(converted, UnknownException):\n\u001b[1;32m    232\u001b[0m     \u001b[38;5;66;03m# Hide where the exception came from that shows a non-Pythonic\u001b[39;00m\n\u001b[1;32m    233\u001b[0m     \u001b[38;5;66;03m# JVM exception message.\u001b[39;00m\n\u001b[0;32m--> 234\u001b[0m     \u001b[38;5;28;01mraise\u001b[39;00m converted \u001b[38;5;28;01mfrom\u001b[39;00m \u001b[38;5;28mNone\u001b[39m\n\u001b[1;32m    235\u001b[0m \u001b[38;5;28;01melse\u001b[39;00m:\n\u001b[1;32m    236\u001b[0m     \u001b[38;5;28;01mraise\u001b[39;00m\n\n\u001b[0;31mAnalysisException\u001b[0m: [TABLE_OR_VIEW_NOT_FOUND] The table or view `clinicaltrial_2023_all_cleaned_data`.`csv` cannot be found. Verify the spelling and correctness of the schema and catalog.\nIf you did not qualify the name with a schema, verify the current_schema() output, or qualify the name with the correct schema and catalog.\nTo tolerate the error on drop use DROP VIEW IF EXISTS or DROP TABLE IF EXISTS.; line 1 pos 52;\n'Project ['COUNT(distinct 'Study_ID) AS Study_Title#4552]\n+- 'UnresolvedRelation [clinicaltrial_2023_all_cleaned_data, csv], [], false\n",
       "errorSummary": "<span class='ansi-red-fg'>AnalysisException</span>: [TABLE_OR_VIEW_NOT_FOUND] The table or view `clinicaltrial_2023_all_cleaned_data`.`csv` cannot be found. Verify the spelling and correctness of the schema and catalog.\nIf you did not qualify the name with a schema, verify the current_schema() output, or qualify the name with the correct schema and catalog.\nTo tolerate the error on drop use DROP VIEW IF EXISTS or DROP TABLE IF EXISTS.; line 1 pos 52;\n'Project ['COUNT(distinct 'Study_ID) AS Study_Title#4552]\n+- 'UnresolvedRelation [clinicaltrial_2023_all_cleaned_data, csv], [], false\n",
       "errorTraceType": "ansi",
       "metadata": {},
       "type": "ipynbError"
      }
     },
     "output_type": "display_data"
    }
   ],
   "source": [
    "sql_df = spark.sql(\"SELECT COUNT(DISTINCT Study_ID) AS Study_Title FROM clinicaltrial_2023_all_cleaned_data.csv\")\n",
    "distinct_studies_count = sql_df.collect()[0][\"Study_Title\"]\n",
    "print(f\"Number of distinct studies: {distinct_studies_count}\")"
   ]
  },
  {
   "cell_type": "code",
   "execution_count": null,
   "metadata": {
    "application/vnd.databricks.v1+cell": {
     "cellMetadata": {},
     "inputWidgets": {},
     "nuid": "2e0db8c8-40cf-4392-a8f2-72181cb554d2",
     "showTitle": false,
     "title": ""
    }
   },
   "outputs": [],
   "source": []
  }
 ],
 "metadata": {
  "application/vnd.databricks.v1+notebook": {
   "dashboards": [],
   "language": "python",
   "notebookMetadata": {
    "pythonIndentUnit": 4
   },
   "notebookName": "Data Cleaning",
   "widgets": {}
  },
  "kernelspec": {
   "display_name": "Python 3",
   "language": "python",
   "name": "python3"
  },
  "language_info": {
   "codemirror_mode": {
    "name": "ipython",
    "version": 3
   },
   "file_extension": ".py",
   "mimetype": "text/x-python",
   "name": "python",
   "nbconvert_exporter": "python",
   "pygments_lexer": "ipython3",
   "version": "3.12.2"
  }
 },
 "nbformat": 4,
 "nbformat_minor": 0
}
